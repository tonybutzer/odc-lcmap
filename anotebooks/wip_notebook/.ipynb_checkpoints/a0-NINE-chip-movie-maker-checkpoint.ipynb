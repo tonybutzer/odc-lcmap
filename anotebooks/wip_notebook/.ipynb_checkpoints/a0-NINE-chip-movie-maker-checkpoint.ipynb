{
 "cells": [
  {
   "cell_type": "markdown",
   "metadata": {},
   "source": [
    "# Movie Maker - 9 - Chip\n",
    "\n",
    "1. hayden island first\n",
    "2. Then single tile\n",
    "3. then 3x3 tiles\n",
    "\n",
    "## 3x3"
   ]
  },
  {
   "cell_type": "code",
   "execution_count": 1,
   "metadata": {},
   "outputs": [],
   "source": [
    "from datetime import datetime\n",
    "from noteLib import *"
   ]
  },
  {
   "cell_type": "code",
   "execution_count": 2,
   "metadata": {},
   "outputs": [],
   "source": [
    "CLOUD_THRESHOLD = 10 ### - only 10 percent or less cloud - clear images in other words\n",
    "FILL_THRESHOLD = 99 ### - essentially all fill levels\n",
    "\n",
    "date_range = (\n",
    "        datetime(1984,1,1),\n",
    "        datetime(2018,12,31))\n"
   ]
  },
  {
   "cell_type": "code",
   "execution_count": 3,
   "metadata": {},
   "outputs": [],
   "source": [
    "h=3\n",
    "v=3\n",
    "ch=19\n",
    "cv=18"
   ]
  },
  {
   "cell_type": "code",
   "execution_count": 4,
   "metadata": {},
   "outputs": [],
   "source": [
    "products=['landsat_5_USARD', 'landsat_7_USARD', 'landsat_8_USARD']\n"
   ]
  },
  {
   "cell_type": "code",
   "execution_count": 5,
   "metadata": {},
   "outputs": [],
   "source": [
    "from rasterio.plot import show_hist\n",
    "from matplotlib import pyplot\n",
    "%matplotlib inline\n",
    "from noteLib import *\n",
    "def plot_me(ds, time, count, sensor='L8'):\n",
    "    figsize = [4,4]\n",
    "    \n",
    "    img_toshow = threeBandImage(ds,bands = ['red', 'green', 'blue'], time = time)\n",
    "    fig = pyplot.figure(figsize = figsize)\n",
    "    pyplot.imshow(img_toshow)\n",
    "    ax = pyplot.gca()\n",
    "    title_string = \"--> IMG \" + str(count) + ' ' + sensor\n",
    "    figName = title_string + '.png'\n",
    "    title_string = str(ds.time[time].values).split('T')[0] + title_string\n",
    "    time_string = str(ds.time[time].values).split('T')[0]\n",
    "    figName = time_string + '--' + sensor + '.png'\n",
    "    ax.set_title(title_string, fontweight = 'bold', fontsize = 16)\n",
    "    ax.set_xticklabels(ds.x.values)\n",
    "    ax.set_yticklabels(ds.y.values)\n",
    "    ax.set_xlabel('Easting', fontweight = 'bold')\n",
    "    ax.set_ylabel('Northing', fontweight = 'bold')\n",
    "    print(figName)\n",
    "    pyplot.savefig(figName)\n",
    "    # if you remove the close below the images will display - uses lots of memory though\n",
    "    pyplot.close(fig)\n",
    "    return True"
   ]
  },
  {
   "cell_type": "code",
   "execution_count": 6,
   "metadata": {},
   "outputs": [],
   "source": [
    "def _make_png_frames(ds2,product):\n",
    "    labels = {'landsat_8_USARD':'L8','landsat_7_USARD':'L7', 'landsat_5_USARD':'L5' }\n",
    "    label = labels[product]\n",
    "    ntime = len(ds2.time)\n",
    "    cnt = 0\n",
    "    for t in range (ntime):\n",
    "        # print(\"Hi\",cnt)\n",
    "        if ds2.red[t,0,0] > 0:\n",
    "            cnt = cnt + 1\n",
    "            plot_me(ds2, t, cnt, label)\n",
    "        "
   ]
  },
  {
   "cell_type": "code",
   "execution_count": 7,
   "metadata": {},
   "outputs": [
    {
     "name": "stderr",
     "output_type": "stream",
     "text": [
      "Failed to resolve driver datacube.plugins.index::s3aio_index\n"
     ]
    },
    {
     "name": "stdout",
     "output_type": "stream",
     "text": [
      "landsat_5_USARD\n",
      "Number of Pretty Scenes 328\n"
     ]
    },
    {
     "ename": "NameError",
     "evalue": "name '_compute_tile_chip_span' is not defined",
     "output_type": "error",
     "traceback": [
      "\u001b[0;31m---------------------------------------------------------------------------\u001b[0m",
      "\u001b[0;31mNameError\u001b[0m                                 Traceback (most recent call last)",
      "\u001b[0;32m<ipython-input-7-4f9d76ed3a07>\u001b[0m in \u001b[0;36m<module>\u001b[0;34m()\u001b[0m\n\u001b[1;32m     13\u001b[0m     \u001b[0mselect_ds\u001b[0m\u001b[0;34m[\u001b[0m\u001b[0;36m0\u001b[0m\u001b[0;34m]\u001b[0m\u001b[0;34m.\u001b[0m\u001b[0mbounds\u001b[0m\u001b[0;34m\u001b[0m\u001b[0m\n\u001b[1;32m     14\u001b[0m \u001b[0;34m\u001b[0m\u001b[0m\n\u001b[0;32m---> 15\u001b[0;31m     \u001b[0mx1\u001b[0m\u001b[0;34m,\u001b[0m\u001b[0mx2\u001b[0m\u001b[0;34m,\u001b[0m\u001b[0my1\u001b[0m\u001b[0;34m,\u001b[0m\u001b[0my2\u001b[0m \u001b[0;34m=\u001b[0m \u001b[0m_compute_tile_chip_span\u001b[0m\u001b[0;34m(\u001b[0m\u001b[0mh\u001b[0m\u001b[0;34m,\u001b[0m\u001b[0mv\u001b[0m\u001b[0;34m,\u001b[0m\u001b[0mch\u001b[0m\u001b[0;34m,\u001b[0m\u001b[0mcv\u001b[0m\u001b[0;34m,\u001b[0m\u001b[0mselect_ds\u001b[0m\u001b[0;34m)\u001b[0m\u001b[0;34m\u001b[0m\u001b[0m\n\u001b[0m\u001b[1;32m     16\u001b[0m     \u001b[0mx1\u001b[0m \u001b[0;34m=\u001b[0m \u001b[0mx1\u001b[0m \u001b[0;34m-\u001b[0m \u001b[0;34m(\u001b[0m\u001b[0;36m30\u001b[0m\u001b[0;34m*\u001b[0m\u001b[0;36m100\u001b[0m\u001b[0;34m)\u001b[0m\u001b[0;34m\u001b[0m\u001b[0m\n\u001b[1;32m     17\u001b[0m     \u001b[0mx2\u001b[0m \u001b[0;34m=\u001b[0m \u001b[0mx2\u001b[0m \u001b[0;34m+\u001b[0m \u001b[0;34m(\u001b[0m\u001b[0;36m30\u001b[0m\u001b[0;34m*\u001b[0m\u001b[0;36m100\u001b[0m\u001b[0;34m)\u001b[0m\u001b[0;34m\u001b[0m\u001b[0m\n",
      "\u001b[0;31mNameError\u001b[0m: name '_compute_tile_chip_span' is not defined"
     ]
    }
   ],
   "source": [
    "measurements=['red','green','blue']\n",
    "\n",
    "ds_a = []\n",
    "cnt=0\n",
    "for product in products:\n",
    "    print(product)\n",
    "    cnt = cnt + 1\n",
    "    select_ds = dc_find_datasets(date_range, product=product, \n",
    "                                  cloud_threshold = CLOUD_THRESHOLD, fill_threshold = FILL_THRESHOLD)\n",
    "    \n",
    "    dir(select_ds[0])\n",
    "\n",
    "    select_ds[0].bounds\n",
    "\n",
    "    x1,x2,y1,y2 = _compute_tile_chip_span(h,v,ch,cv,select_ds)\n",
    "    x1 = x1 - (30*100)\n",
    "    x2 = x2 + (30*100)\n",
    "    y1 = y1 - (30*100)\n",
    "    y2 = y2 + (30* 100)\n",
    "\n",
    "\n",
    "    the_xarray = dc.load(product=product, datasets=datasets, measurements=measurements,\n",
    "                      x=(x1,x2),y=(y1,y2), crs='epsg:5072',\n",
    "                      output_crs = 'epsg:5072',\n",
    "                      resolution = (-30,30))\n",
    "\n",
    "\n",
    "    _make_png_frames(the_xarray,product)\n",
    "    print(the_xarray)\n",
    "    ### END FOR LOOP\n"
   ]
  },
  {
   "cell_type": "code",
   "execution_count": null,
   "metadata": {},
   "outputs": [],
   "source": [
    "! convert -delay 100 *.png -loop 10 landsat_chip_movie.gif\n",
    "#! scp movie.gif sleepy:.\n",
    "\n",
    "! rm *.png"
   ]
  }
 ],
 "metadata": {
  "kernelspec": {
   "display_name": "Python 3",
   "language": "python",
   "name": "python3"
  },
  "language_info": {
   "codemirror_mode": {
    "name": "ipython",
    "version": 3
   },
   "file_extension": ".py",
   "mimetype": "text/x-python",
   "name": "python",
   "nbconvert_exporter": "python",
   "pygments_lexer": "ipython3",
   "version": "3.5.2"
  }
 },
 "nbformat": 4,
 "nbformat_minor": 2
}
