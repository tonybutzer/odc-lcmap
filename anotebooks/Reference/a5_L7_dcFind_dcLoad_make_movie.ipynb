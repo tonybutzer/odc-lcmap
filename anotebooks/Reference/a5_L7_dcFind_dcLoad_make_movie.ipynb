{
 "cells": [
  {
   "cell_type": "markdown",
   "metadata": {},
   "source": [
    "# Verify jupyter setup by grabbing a few scenes and making a movie\n",
    "\n"
   ]
  },
  {
   "cell_type": "code",
   "execution_count": 1,
   "metadata": {},
   "outputs": [
    {
     "name": "stdout",
     "output_type": "stream",
     "text": [
      "Open Data Cube core, version 1.6rc1\r\n"
     ]
    }
   ],
   "source": [
    "!datacube --version  ## Open Data Cube is a Github Project"
   ]
  },
  {
   "cell_type": "code",
   "execution_count": 2,
   "metadata": {},
   "outputs": [
    {
     "name": "stdout",
     "output_type": "stream",
     "text": [
      "description: Landsat 5 US/ARD Product Definition\r\n",
      "format: GeoTiff\r\n",
      "id: 51\r\n",
      "instrument: TM\r\n",
      "lat: null\r\n",
      "lon: null\r\n",
      "name: landsat_5_USARD\r\n",
      "platform: LANDSAT_5\r\n",
      "product_type: USARD\r\n",
      "time: null\r\n",
      "---\r\n",
      "description: Landsat 7 US/ARD Product Definition\r\n",
      "format: GeoTiff\r\n",
      "id: 52\r\n",
      "instrument: ETM\r\n",
      "lat: null\r\n",
      "lon: null\r\n",
      "name: landsat_7_USARD\r\n",
      "platform: LANDSAT_7\r\n",
      "product_type: USARD\r\n",
      "time: null\r\n",
      "---\r\n",
      "description: Landsat 8 US/ARD Product Definition\r\n",
      "format: GeoTiff\r\n",
      "id: 53\r\n",
      "instrument: OLI_TIRS\r\n",
      "lat: null\r\n",
      "lon: null\r\n",
      "name: landsat_8_USARD\r\n",
      "platform: LANDSAT_8\r\n",
      "product_type: USARD\r\n",
      "time: null\r\n"
     ]
    }
   ],
   "source": [
    "!datacube product list   ## I built this cube to have three products/collections/dataset (SETS)"
   ]
  },
  {
   "cell_type": "code",
   "execution_count": 3,
   "metadata": {},
   "outputs": [
    {
     "name": "stdout",
     "output_type": "stream",
     "text": [
      "1143\n",
      "923\n",
      "282\n"
     ]
    }
   ],
   "source": [
    "## aws s3 ls - would tell you the same counts in the bucket ga-odc-usgs-l1til-west h03v03\n",
    "\n",
    "!datacube dataset search product ='landsat_5_USARD' |grep id |wc -l\n",
    "!datacube dataset search product ='landsat_7_USARD' |grep id |wc -l\n",
    "!datacube dataset search product ='landsat_8_USARD' |grep id |wc -l"
   ]
  },
  {
   "cell_type": "markdown",
   "metadata": {},
   "source": [
    "# Fliter by cloud cover\n",
    "\n",
    "- we could also use pixel_qa to do more detailed masking in the xarray below"
   ]
  },
  {
   "cell_type": "code",
   "execution_count": 4,
   "metadata": {},
   "outputs": [
    {
     "name": "stdout",
     "output_type": "stream",
     "text": [
      "Number of Pretty Scenes 7\n",
      "['s3://ga-odc-eros-l1til-west/til/003003/LE07/20151005/LE07_CU_003003_20151005_20170713_C01_V01.xml']\n",
      "['s3://ga-odc-eros-l1til-west/til/003003/LE07/20150919/LE07_CU_003003_20150919_20170713_C01_V01.xml']\n",
      "['s3://ga-odc-eros-l1til-west/til/003003/LE07/20150818/LE07_CU_003003_20150818_20170713_C01_V01.xml']\n",
      "['s3://ga-odc-eros-l1til-west/til/003003/LE07/20150717/LE07_CU_003003_20150717_20170713_C01_V01.xml']\n",
      "['s3://ga-odc-eros-l1til-west/til/003003/LE07/20150701/LE07_CU_003003_20150701_20170713_C01_V01.xml']\n",
      "['s3://ga-odc-eros-l1til-west/til/003003/LE07/20150615/LE07_CU_003003_20150615_20170713_C01_V01.xml']\n",
      "['s3://ga-odc-eros-l1til-west/til/003003/LE07/20150223/LE07_CU_003003_20150223_20170713_C01_V01.xml']\n"
     ]
    }
   ],
   "source": [
    "import datacube\n",
    "import time\n",
    "\n",
    "from datetime import datetime\n",
    "\n",
    "dc = datacube.Datacube()\n",
    "\n",
    "selected_product = 'landsat_7_USARD'\n",
    "\n",
    "date_range = (\n",
    "        datetime(2015,1,1),\n",
    "        datetime(2015,12,31))\n",
    "dss = dc.find_datasets(product=selected_product, time=date_range, measurements=['red',])\n",
    "\n",
    "clear_datasets = []\n",
    "for item in dss:\n",
    "    \n",
    "    if float(item.metadata_doc['cloud_cover']) < 30.0:\n",
    "        if float(item.metadata_doc['fill']) < 30.0:\n",
    "            clear_datasets.append(item)\n",
    "            \n",
    "print(\"Number of Pretty Scenes\", len(clear_datasets))\n",
    "for citem in clear_datasets:\n",
    "    print(citem.uris)\n",
    "\n",
    "    \n",
    "\n",
    "\n"
   ]
  },
  {
   "cell_type": "code",
   "execution_count": 5,
   "metadata": {},
   "outputs": [],
   "source": [
    "Start = time.time()"
   ]
  },
  {
   "cell_type": "code",
   "execution_count": 6,
   "metadata": {},
   "outputs": [
    {
     "name": "stdout",
     "output_type": "stream",
     "text": [
      "#\r\n",
      "#         ####     ##    #####\r\n",
      "#        #    #   #  #   #    #\r\n",
      "#        #    #  #    #  #    #\r\n",
      "#        #    #  ######  #    #\r\n",
      "#        #    #  #    #  #    #\r\n",
      "#######   ####   #    #  #####\r\n",
      "\r\n",
      "  ###\r\n",
      "   #     #    #    ##     ####   ######   ####\r\n",
      "   #     ##  ##   #  #   #    #  #       #\r\n",
      "   #     # ## #  #    #  #       #####    ####\r\n",
      "   #     #    #  ######  #  ###  #            #\r\n",
      "   #     #    #  #    #  #    #  #       #    #\r\n",
      "  ###    #    #  #    #   ####   ######   ####\r\n",
      "\r\n"
     ]
    }
   ],
   "source": [
    "! banner Load Images"
   ]
  },
  {
   "cell_type": "code",
   "execution_count": 7,
   "metadata": {},
   "outputs": [
    {
     "name": "stdout",
     "output_type": "stream",
     "text": [
      "TONY load function\n",
      "[(-122.65, 45.59), (-122.75, 45.59), (-122.75, 45.65), (-122.65, 45.65), (-122.65, 45.59)]\n",
      "[(-2060460.0, 2809680.0), (-2060460.0, 2801070.0), (-2051100.0, 2801070.0), (-2051100.0, 2809680.0), (-2060460.0, 2809680.0)]\n",
      "Tony load_data\n",
      "{'aliases': ['band_3', 'red'], 'nodata': -9999, 'name': 'red', 'dtype': 'int16', 'units': '1'}\n",
      "s3://ga-odc-eros-l1til-west/til/003003/LE07/20150223/LE07_CU_003003_20150223_20170713_C01_V01_SRB3.tif\n",
      "{'aliases': ['band_3', 'red'], 'nodata': -9999, 'name': 'red', 'dtype': 'int16', 'units': '1'}\n",
      "s3://ga-odc-eros-l1til-west/til/003003/LE07/20150615/LE07_CU_003003_20150615_20170713_C01_V01_SRB3.tif\n",
      "{'aliases': ['band_3', 'red'], 'nodata': -9999, 'name': 'red', 'dtype': 'int16', 'units': '1'}\n",
      "s3://ga-odc-eros-l1til-west/til/003003/LE07/20150701/LE07_CU_003003_20150701_20170713_C01_V01_SRB3.tif\n",
      "{'aliases': ['band_3', 'red'], 'nodata': -9999, 'name': 'red', 'dtype': 'int16', 'units': '1'}\n",
      "s3://ga-odc-eros-l1til-west/til/003003/LE07/20150717/LE07_CU_003003_20150717_20170713_C01_V01_SRB3.tif\n",
      "{'aliases': ['band_3', 'red'], 'nodata': -9999, 'name': 'red', 'dtype': 'int16', 'units': '1'}\n",
      "s3://ga-odc-eros-l1til-west/til/003003/LE07/20150818/LE07_CU_003003_20150818_20170713_C01_V01_SRB3.tif\n",
      "{'aliases': ['band_3', 'red'], 'nodata': -9999, 'name': 'red', 'dtype': 'int16', 'units': '1'}\n",
      "s3://ga-odc-eros-l1til-west/til/003003/LE07/20150919/LE07_CU_003003_20150919_20170713_C01_V01_SRB3.tif\n",
      "{'aliases': ['band_3', 'red'], 'nodata': -9999, 'name': 'red', 'dtype': 'int16', 'units': '1'}\n",
      "s3://ga-odc-eros-l1til-west/til/003003/LE07/20151005/LE07_CU_003003_20151005_20170713_C01_V01_SRB3.tif\n",
      "{'aliases': ['band_2', 'green'], 'nodata': -9999, 'name': 'green', 'dtype': 'int16', 'units': '1'}\n",
      "s3://ga-odc-eros-l1til-west/til/003003/LE07/20150223/LE07_CU_003003_20150223_20170713_C01_V01_SRB2.tif\n",
      "{'aliases': ['band_2', 'green'], 'nodata': -9999, 'name': 'green', 'dtype': 'int16', 'units': '1'}\n",
      "s3://ga-odc-eros-l1til-west/til/003003/LE07/20150615/LE07_CU_003003_20150615_20170713_C01_V01_SRB2.tif\n",
      "{'aliases': ['band_2', 'green'], 'nodata': -9999, 'name': 'green', 'dtype': 'int16', 'units': '1'}\n",
      "s3://ga-odc-eros-l1til-west/til/003003/LE07/20150701/LE07_CU_003003_20150701_20170713_C01_V01_SRB2.tif\n",
      "{'aliases': ['band_2', 'green'], 'nodata': -9999, 'name': 'green', 'dtype': 'int16', 'units': '1'}\n",
      "s3://ga-odc-eros-l1til-west/til/003003/LE07/20150717/LE07_CU_003003_20150717_20170713_C01_V01_SRB2.tif\n",
      "{'aliases': ['band_2', 'green'], 'nodata': -9999, 'name': 'green', 'dtype': 'int16', 'units': '1'}\n",
      "s3://ga-odc-eros-l1til-west/til/003003/LE07/20150818/LE07_CU_003003_20150818_20170713_C01_V01_SRB2.tif\n",
      "{'aliases': ['band_2', 'green'], 'nodata': -9999, 'name': 'green', 'dtype': 'int16', 'units': '1'}\n",
      "s3://ga-odc-eros-l1til-west/til/003003/LE07/20150919/LE07_CU_003003_20150919_20170713_C01_V01_SRB2.tif\n",
      "{'aliases': ['band_2', 'green'], 'nodata': -9999, 'name': 'green', 'dtype': 'int16', 'units': '1'}\n",
      "s3://ga-odc-eros-l1til-west/til/003003/LE07/20151005/LE07_CU_003003_20151005_20170713_C01_V01_SRB2.tif\n",
      "{'aliases': ['band_1', 'blue'], 'nodata': -9999, 'name': 'blue', 'dtype': 'int16', 'units': '1'}\n",
      "s3://ga-odc-eros-l1til-west/til/003003/LE07/20150223/LE07_CU_003003_20150223_20170713_C01_V01_SRB1.tif\n",
      "{'aliases': ['band_1', 'blue'], 'nodata': -9999, 'name': 'blue', 'dtype': 'int16', 'units': '1'}\n",
      "s3://ga-odc-eros-l1til-west/til/003003/LE07/20150615/LE07_CU_003003_20150615_20170713_C01_V01_SRB1.tif\n",
      "{'aliases': ['band_1', 'blue'], 'nodata': -9999, 'name': 'blue', 'dtype': 'int16', 'units': '1'}\n",
      "s3://ga-odc-eros-l1til-west/til/003003/LE07/20150701/LE07_CU_003003_20150701_20170713_C01_V01_SRB1.tif\n",
      "{'aliases': ['band_1', 'blue'], 'nodata': -9999, 'name': 'blue', 'dtype': 'int16', 'units': '1'}\n",
      "s3://ga-odc-eros-l1til-west/til/003003/LE07/20150717/LE07_CU_003003_20150717_20170713_C01_V01_SRB1.tif\n",
      "{'aliases': ['band_1', 'blue'], 'nodata': -9999, 'name': 'blue', 'dtype': 'int16', 'units': '1'}\n",
      "s3://ga-odc-eros-l1til-west/til/003003/LE07/20150818/LE07_CU_003003_20150818_20170713_C01_V01_SRB1.tif\n",
      "{'aliases': ['band_1', 'blue'], 'nodata': -9999, 'name': 'blue', 'dtype': 'int16', 'units': '1'}\n",
      "s3://ga-odc-eros-l1til-west/til/003003/LE07/20150919/LE07_CU_003003_20150919_20170713_C01_V01_SRB1.tif\n",
      "{'aliases': ['band_1', 'blue'], 'nodata': -9999, 'name': 'blue', 'dtype': 'int16', 'units': '1'}\n",
      "s3://ga-odc-eros-l1til-west/til/003003/LE07/20151005/LE07_CU_003003_20151005_20170713_C01_V01_SRB1.tif\n"
     ]
    }
   ],
   "source": [
    "ds2 = dc.load(product=selected_product, datasets=clear_datasets, measurements=['red','green','blue'], x = (-122.65,-122.75), y =(45.59,45.65),\n",
    "              output_crs = 'epsg:5072', resolution = (-30,30))"
   ]
  },
  {
   "cell_type": "code",
   "execution_count": 8,
   "metadata": {},
   "outputs": [
    {
     "name": "stdout",
     "output_type": "stream",
     "text": [
      "Load time took seconds =  10.67040205001831\n"
     ]
    }
   ],
   "source": [
    "End = time.time()\n",
    "\n",
    "print (\"Load time took seconds = \", End-Start)"
   ]
  },
  {
   "cell_type": "markdown",
   "metadata": {},
   "source": [
    "## Imagine - getting your area of interest (AOI) anywhere in the US in just 2 minutes!"
   ]
  },
  {
   "cell_type": "code",
   "execution_count": 9,
   "metadata": {},
   "outputs": [
    {
     "data": {
      "text/plain": [
       "<bound method ImplementsDatasetReduce._reduce_method.<locals>.wrapped_func of <xarray.Dataset>\n",
       "Dimensions:  (time: 7, x: 312, y: 287)\n",
       "Coordinates:\n",
       "  * time     (time) datetime64[ns] 2015-02-23T18:54:51.875520 ...\n",
       "  * y        (y) float64 2.81e+06 2.81e+06 2.81e+06 2.81e+06 2.81e+06 ...\n",
       "  * x        (x) float64 -2.06e+06 -2.06e+06 -2.06e+06 -2.06e+06 -2.06e+06 ...\n",
       "Data variables:\n",
       "    red      (time, y, x) int16 339 367 367 367 367 339 339 311 367 396 367 ...\n",
       "    green    (time, y, x) int16 520 520 455 520 487 487 520 520 551 551 520 ...\n",
       "    blue     (time, y, x) int16 377 377 319 377 319 377 347 347 377 407 347 ...\n",
       "Attributes:\n",
       "    crs:      epsg:5072>"
      ]
     },
     "execution_count": 9,
     "metadata": {},
     "output_type": "execute_result"
    }
   ],
   "source": [
    "ds2.all"
   ]
  },
  {
   "cell_type": "code",
   "execution_count": 10,
   "metadata": {},
   "outputs": [],
   "source": [
    "from rasterio.plot import show_hist\n",
    "from matplotlib import pyplot\n",
    "%matplotlib inline\n",
    "from utils.utils import threeBandImage\n",
    "from utils.utils import loadConfigExtent\n",
    "def plot_me(ds, time, count):\n",
    "    figsize = [8,8]\n",
    "    \n",
    "    img_toshow = threeBandImage(ds,bands = ['red', 'green', 'blue'], time = time)\n",
    "    fig = pyplot.figure(figsize = figsize)\n",
    "    pyplot.imshow(img_toshow)\n",
    "    ax = pyplot.gca()\n",
    "    title_string = \"IMG \" + str(count)\n",
    "    figName = title_string + '.png'\n",
    "    title_string = title_string + \" --> \" + str(ds.time[time].values).split('T')[0]\n",
    "    time_string = str(ds.time[time].values).split('T')[0]\n",
    "    figName = time_string + '.png'\n",
    "    ax.set_title(title_string, fontweight = 'bold', fontsize = 16)\n",
    "    ax.set_xticklabels(ds.x.values)\n",
    "    ax.set_yticklabels(ds.y.values)\n",
    "    ax.set_xlabel('Easting', fontweight = 'bold')\n",
    "    ax.set_ylabel('Northing', fontweight = 'bold')\n",
    "    pyplot.savefig(figName)\n",
    "    # if you remove the close below the images will display - uses lots of memory though\n",
    "    pyplot.close(fig)\n",
    "    return True"
   ]
  },
  {
   "cell_type": "code",
   "execution_count": 11,
   "metadata": {},
   "outputs": [
    {
     "name": "stderr",
     "output_type": "stream",
     "text": [
      "/home/ubuntu/.local/lib/python3.5/site-packages/numpy/core/_methods.py:29: RuntimeWarning: invalid value encountered in reduce\n",
      "  return umr_minimum(a, axis, None, out, keepdims)\n"
     ]
    }
   ],
   "source": [
    "ntime = len(ds2.time)\n",
    "cnt = 0\n",
    "for t in range (ntime):\n",
    "    # print(\"Hi\",cnt)\n",
    "    cnt = cnt + 1\n",
    "    plot_me(ds2, t, cnt)"
   ]
  },
  {
   "cell_type": "raw",
   "metadata": {},
   "source": []
  },
  {
   "cell_type": "code",
   "execution_count": 12,
   "metadata": {},
   "outputs": [
    {
     "name": "stdout",
     "output_type": "stream",
     "text": [
      "#     #\r\n",
      "##   ##    ##    #    #  ######\r\n",
      "# # # #   #  #   #   #   #\r\n",
      "#  #  #  #    #  ####    #####\r\n",
      "#     #  ######  #  #    #\r\n",
      "#     #  #    #  #   #   #\r\n",
      "#     #  #    #  #    #  ######\r\n",
      "\r\n",
      "#     #\r\n",
      "##   ##   ####   #    #     #    ######\r\n",
      "# # # #  #    #  #    #     #    #\r\n",
      "#  #  #  #    #  #    #     #    #####\r\n",
      "#     #  #    #  #    #     #    #\r\n",
      "#     #  #    #   #  #      #    #\r\n",
      "#     #   ####     ##       #    ######\r\n",
      "\r\n"
     ]
    }
   ],
   "source": [
    "! banner Make Movie"
   ]
  },
  {
   "cell_type": "code",
   "execution_count": 13,
   "metadata": {},
   "outputs": [],
   "source": [
    "\n",
    "! convert -delay 100 *.png -loop 10 l7_movie.gif\n",
    "#! scp movie.gif sleepy:.\n",
    "\n",
    "! rm *.png"
   ]
  },
  {
   "cell_type": "code",
   "execution_count": 14,
   "metadata": {},
   "outputs": [
    {
     "name": "stdout",
     "output_type": "stream",
     "text": [
      "Thu Aug  9 21:47:36 UTC 2018\r\n"
     ]
    }
   ],
   "source": [
    "! date"
   ]
  },
  {
   "cell_type": "code",
   "execution_count": 15,
   "metadata": {},
   "outputs": [
    {
     "name": "stdout",
     "output_type": "stream",
     "text": [
      "\n",
      "  ####   ######  #    #  #####\n",
      " #       #       ##   #  #    #\n",
      "  ####   #####   # #  #  #    #\n",
      "      #  #       #  # #  #    #\n",
      " #    #  #       #   ##  #    #\n",
      "  ####   ######  #    #  #####\n",
      "\n",
      "\n",
      " #    #   ####   #    #     #    ######\n",
      " ##  ##  #    #  #    #     #    #\n",
      " # ## #  #    #  #    #     #    #####\n",
      " #    #  #    #  #    #     #    #\n",
      " #    #  #    #   #  #      #    #\n",
      " #    #   ####     ##       #    ######\n",
      "\n",
      "\n",
      "  #####   ####\n",
      "    #    #    #\n",
      "    #    #    #\n",
      "    #    #    #\n",
      "    #    #    #\n",
      "    #     ####\n",
      "\n",
      "\n",
      "  #####  #    #  ######\n",
      "    #    #    #  #\n",
      "    #    ######  #####\n",
      "    #    #    #  #\n",
      "    #    #    #  #\n",
      "    #    #    #  ######\n",
      "\n",
      "\n",
      "  ####   #        ####   #    #  #####\n",
      " #    #  #       #    #  #    #  #    #\n",
      " #       #       #    #  #    #  #    #\n",
      " #       #       #    #  #    #  #    #\n",
      " #    #  #       #    #  #    #  #    #\n",
      "  ####   ######   ####    ####   #####\n",
      "\n",
      "upload: ./l7_movie.gif to s3://ga-odc-eros-archive-west/l7_movie.gif\n"
     ]
    }
   ],
   "source": [
    "! banner send movie to the cloud\n",
    "! aws s3 cp l7_movie.gif s3://ga-odc-eros-archive-west/"
   ]
  },
  {
   "cell_type": "code",
   "execution_count": 16,
   "metadata": {},
   "outputs": [
    {
     "name": "stdout",
     "output_type": "stream",
     "text": [
      "Movie build time in seconds =  9.31971287727356\n"
     ]
    }
   ],
   "source": [
    "End2 = time.time()\n",
    "print (\"Movie build time in seconds = \", End2 - End)"
   ]
  },
  {
   "cell_type": "markdown",
   "metadata": {},
   "source": [
    "![run movie](http://ga-odc-eros-archive-west.s3.amazonaws.com/l7_movie.gif)"
   ]
  },
  {
   "cell_type": "code",
   "execution_count": 17,
   "metadata": {},
   "outputs": [
    {
     "name": "stdout",
     "output_type": "stream",
     "text": [
      "#######                         #######\r\n",
      "   #     #    #  ######         #        #    #  #####\r\n",
      "   #     #    #  #              #        ##   #  #    #\r\n",
      "   #     ######  #####          #####    # #  #  #    #\r\n",
      "   #     #    #  #              #        #  # #  #    #\r\n",
      "   #     #    #  #              #        #   ##  #    #\r\n",
      "   #     #    #  ######         #######  #    #  #####\r\n",
      "\r\n"
     ]
    }
   ],
   "source": [
    "! banner \"The End\"\n"
   ]
  },
  {
   "cell_type": "code",
   "execution_count": 18,
   "metadata": {},
   "outputs": [
    {
     "name": "stdout",
     "output_type": "stream",
     "text": [
      "Thu Aug  9 21:47:38 UTC 2018\r\n"
     ]
    }
   ],
   "source": [
    "! date"
   ]
  }
 ],
 "metadata": {
  "kernelspec": {
   "display_name": "Python 3",
   "language": "python",
   "name": "python3"
  },
  "language_info": {
   "codemirror_mode": {
    "name": "ipython",
    "version": 3
   },
   "file_extension": ".py",
   "mimetype": "text/x-python",
   "name": "python",
   "nbconvert_exporter": "python",
   "pygments_lexer": "ipython3",
   "version": "3.5.2"
  }
 },
 "nbformat": 4,
 "nbformat_minor": 2
}
