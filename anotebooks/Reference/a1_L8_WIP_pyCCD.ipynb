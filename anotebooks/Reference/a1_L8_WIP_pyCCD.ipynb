{
 "cells": [
  {
   "cell_type": "code",
   "execution_count": 1,
   "metadata": {},
   "outputs": [],
   "source": [
    "# Enable plotting\n",
    "%matplotlib inline\n",
    "\n",
    "# Supress Warning \n",
    "import numpy as np\n",
    "import warnings\n",
    "warnings.filterwarnings('ignore')"
   ]
  },
  {
   "cell_type": "markdown",
   "metadata": {},
   "source": [
    "# PyCCD  \n"
   ]
  },
  {
   "cell_type": "markdown",
   "metadata": {},
   "source": [
    "> ### Import the Datacube Configuration"
   ]
  },
  {
   "cell_type": "markdown",
   "metadata": {},
   "source": [
    "> ### This notebook was derived from the CEOS-SEO collection - thanks CEOS and AMA\n",
    "\n",
    "- tony"
   ]
  },
  {
   "cell_type": "code",
   "execution_count": 2,
   "metadata": {},
   "outputs": [],
   "source": [
    "import datacube\n",
    "dc = datacube.Datacube(app = 'my_app', config = './datacube.conf')"
   ]
  },
  {
   "cell_type": "markdown",
   "metadata": {},
   "source": [
    ">### Browse the available Data Cubes on the storage platform    \n",
    "> You might want to learn more about what data is stored and how it is stored.\n"
   ]
  },
  {
   "cell_type": "code",
   "execution_count": 3,
   "metadata": {},
   "outputs": [
    {
     "data": {
      "text/html": [
       "<div>\n",
       "<style scoped>\n",
       "    .dataframe tbody tr th:only-of-type {\n",
       "        vertical-align: middle;\n",
       "    }\n",
       "\n",
       "    .dataframe tbody tr th {\n",
       "        vertical-align: top;\n",
       "    }\n",
       "\n",
       "    .dataframe thead th {\n",
       "        text-align: right;\n",
       "    }\n",
       "</style>\n",
       "<table border=\"1\" class=\"dataframe\">\n",
       "  <thead>\n",
       "    <tr style=\"text-align: right;\">\n",
       "      <th></th>\n",
       "      <th>name</th>\n",
       "      <th>description</th>\n",
       "      <th>format</th>\n",
       "      <th>product_type</th>\n",
       "      <th>platform</th>\n",
       "      <th>lat</th>\n",
       "      <th>lon</th>\n",
       "      <th>instrument</th>\n",
       "      <th>time</th>\n",
       "      <th>crs</th>\n",
       "      <th>resolution</th>\n",
       "      <th>tile_size</th>\n",
       "      <th>spatial_dimensions</th>\n",
       "    </tr>\n",
       "    <tr>\n",
       "      <th>id</th>\n",
       "      <th></th>\n",
       "      <th></th>\n",
       "      <th></th>\n",
       "      <th></th>\n",
       "      <th></th>\n",
       "      <th></th>\n",
       "      <th></th>\n",
       "      <th></th>\n",
       "      <th></th>\n",
       "      <th></th>\n",
       "      <th></th>\n",
       "      <th></th>\n",
       "      <th></th>\n",
       "    </tr>\n",
       "  </thead>\n",
       "  <tbody>\n",
       "    <tr>\n",
       "      <th>51</th>\n",
       "      <td>landsat_5_USARD</td>\n",
       "      <td>Landsat 5 US/ARD Product Definition</td>\n",
       "      <td>GeoTiff</td>\n",
       "      <td>USARD</td>\n",
       "      <td>LANDSAT_5</td>\n",
       "      <td>None</td>\n",
       "      <td>None</td>\n",
       "      <td>TM</td>\n",
       "      <td>None</td>\n",
       "      <td>NaN</td>\n",
       "      <td>NaN</td>\n",
       "      <td>NaN</td>\n",
       "      <td>NaN</td>\n",
       "    </tr>\n",
       "    <tr>\n",
       "      <th>52</th>\n",
       "      <td>landsat_7_USARD</td>\n",
       "      <td>Landsat 7 US/ARD Product Definition</td>\n",
       "      <td>GeoTiff</td>\n",
       "      <td>USARD</td>\n",
       "      <td>LANDSAT_7</td>\n",
       "      <td>None</td>\n",
       "      <td>None</td>\n",
       "      <td>ETM</td>\n",
       "      <td>None</td>\n",
       "      <td>NaN</td>\n",
       "      <td>NaN</td>\n",
       "      <td>NaN</td>\n",
       "      <td>NaN</td>\n",
       "    </tr>\n",
       "    <tr>\n",
       "      <th>53</th>\n",
       "      <td>landsat_8_USARD</td>\n",
       "      <td>Landsat 8 US/ARD Product Definition</td>\n",
       "      <td>GeoTiff</td>\n",
       "      <td>USARD</td>\n",
       "      <td>LANDSAT_8</td>\n",
       "      <td>None</td>\n",
       "      <td>None</td>\n",
       "      <td>OLI_TIRS</td>\n",
       "      <td>None</td>\n",
       "      <td>NaN</td>\n",
       "      <td>NaN</td>\n",
       "      <td>NaN</td>\n",
       "      <td>NaN</td>\n",
       "    </tr>\n",
       "  </tbody>\n",
       "</table>\n",
       "</div>"
      ],
      "text/plain": [
       "               name                          description   format  \\\n",
       "id                                                                  \n",
       "51  landsat_5_USARD  Landsat 5 US/ARD Product Definition  GeoTiff   \n",
       "52  landsat_7_USARD  Landsat 7 US/ARD Product Definition  GeoTiff   \n",
       "53  landsat_8_USARD  Landsat 8 US/ARD Product Definition  GeoTiff   \n",
       "\n",
       "   product_type   platform   lat   lon instrument  time  crs  resolution  \\\n",
       "id                                                                         \n",
       "51        USARD  LANDSAT_5  None  None         TM  None  NaN         NaN   \n",
       "52        USARD  LANDSAT_7  None  None        ETM  None  NaN         NaN   \n",
       "53        USARD  LANDSAT_8  None  None   OLI_TIRS  None  NaN         NaN   \n",
       "\n",
       "    tile_size  spatial_dimensions  \n",
       "id                                 \n",
       "51        NaN                 NaN  \n",
       "52        NaN                 NaN  \n",
       "53        NaN                 NaN  "
      ]
     },
     "execution_count": 3,
     "metadata": {},
     "output_type": "execute_result"
    }
   ],
   "source": [
    "list_of_products = dc.list_products()\n",
    "geoTiff_products = list_of_products[list_of_products['format'] == 'GeoTiff']\n",
    "geoTiff_products"
   ]
  },
  {
   "cell_type": "code",
   "execution_count": 4,
   "metadata": {},
   "outputs": [
    {
     "name": "stdout",
     "output_type": "stream",
     "text": [
      "Number of Pretty Scenes 14\n",
      "['s3://ga-odc-eros-l1til-west/til/003003/LC08/20170527/LC08_CU_003003_20170527_20170714_C01_V01.xml']\n",
      "['s3://ga-odc-eros-l1til-west/til/003003/LC08/20170103/LC08_CU_003003_20170103_20170714_C01_V01.xml']\n",
      "['s3://ga-odc-eros-l1til-west/til/003003/LC08/20160913/LC08_CU_003003_20160913_20170714_C01_V01.xml']\n",
      "['s3://ga-odc-eros-l1til-west/til/003003/LC08/20160828/LC08_CU_003003_20160828_20170714_C01_V01.xml']\n",
      "['s3://ga-odc-eros-l1til-west/til/003003/LC08/20160812/LC08_CU_003003_20160812_20170714_C01_V01.xml']\n",
      "['s3://ga-odc-eros-l1til-west/til/003003/LC08/20160727/LC08_CU_003003_20160727_20170714_C01_V01.xml']\n",
      "['s3://ga-odc-eros-l1til-west/til/003003/LC08/20160625/LC08_CU_003003_20160625_20170714_C01_V01.xml']\n",
      "['s3://ga-odc-eros-l1til-west/til/003003/LC08/20160101/LC08_CU_003003_20160101_20170714_C01_V01.xml']\n",
      "['s3://ga-odc-eros-l1til-west/til/003003/LC08/20150927/LC08_CU_003003_20150927_20170713_C01_V01.xml']\n",
      "['s3://ga-odc-eros-l1til-west/til/003003/LC08/20150826/LC08_CU_003003_20150826_20170713_C01_V01.xml']\n",
      "['s3://ga-odc-eros-l1til-west/til/003003/LC08/20150709/LC08_CU_003003_20150709_20170713_C01_V01.xml']\n",
      "['s3://ga-odc-eros-l1til-west/til/003003/LC08/20150623/LC08_CU_003003_20150623_20170713_C01_V01.xml']\n",
      "['s3://ga-odc-eros-l1til-west/til/003003/LC08/20150607/LC08_CU_003003_20150607_20170713_C01_V01.xml']\n",
      "['s3://ga-odc-eros-l1til-west/til/003003/LC08/20150420/LC08_CU_003003_20150420_20170713_C01_V01.xml']\n"
     ]
    }
   ],
   "source": [
    "\n",
    "import datacube\n",
    "import time\n",
    "\n",
    "from datetime import datetime\n",
    "\n",
    "dc = datacube.Datacube()\n",
    "\n",
    "selected_product = 'landsat_8_USARD'\n",
    "\n",
    "date_range = (\n",
    "        datetime(2015,1,1),\n",
    "        datetime(2017,12,31))\n",
    "dss = dc.find_datasets(product=selected_product, time=date_range, measurements=['red',])\n",
    "\n",
    "clear_datasets = []\n",
    "for item in dss:\n",
    "    \n",
    "    if float(item.metadata_doc['cloud_cover']) < 20.0:\n",
    "        if float(item.metadata_doc['fill']) < 30.0:\n",
    "            clear_datasets.append(item)\n",
    "            \n",
    "print(\"Number of Pretty Scenes\", len(clear_datasets))\n",
    "for citem in clear_datasets:\n",
    "    print(citem.uris)\n"
   ]
  },
  {
   "cell_type": "code",
   "execution_count": 5,
   "metadata": {},
   "outputs": [
    {
     "name": "stdout",
     "output_type": "stream",
     "text": [
      "['s3://ga-odc-eros-l1til-west/til/003003/LC08/20150420/LC08_CU_003003_20150420_20170713_C01_V01.xml']\n"
     ]
    }
   ],
   "source": [
    "print(citem.uris)\n",
    "\n",
    "\n",
    "# dir(citem)"
   ]
  },
  {
   "cell_type": "code",
   "execution_count": 6,
   "metadata": {},
   "outputs": [
    {
     "data": {
      "text/plain": [
       "{'blue': {'layer': 1,\n",
       "  'path': 's3://ga-odc-eros-l1til-west/til/003003/LC08/20150420/LC08_CU_003003_20150420_20170713_C01_V01_SRB2.tif'},\n",
       " 'coastal_aerosol': {'layer': 1,\n",
       "  'path': 's3://ga-odc-eros-l1til-west/til/003003/LC08/20150420/LC08_CU_003003_20150420_20170713_C01_V01_SRB1.tif'},\n",
       " 'green': {'layer': 1,\n",
       "  'path': 's3://ga-odc-eros-l1til-west/til/003003/LC08/20150420/LC08_CU_003003_20150420_20170713_C01_V01_SRB3.tif'},\n",
       " 'nir': {'layer': 1,\n",
       "  'path': 's3://ga-odc-eros-l1til-west/til/003003/LC08/20150420/LC08_CU_003003_20150420_20170713_C01_V01_SRB5.tif'},\n",
       " 'pixel_qa': {'layer': 1,\n",
       "  'path': 's3://ga-odc-eros-l1til-west/til/003003/LC08/20150420/LC08_CU_003003_20150420_20170713_C01_V01_PIXELQA.tif'},\n",
       " 'red': {'layer': 1,\n",
       "  'path': 's3://ga-odc-eros-l1til-west/til/003003/LC08/20150420/LC08_CU_003003_20150420_20170713_C01_V01_SRB4.tif'},\n",
       " 'swir1': {'layer': 1,\n",
       "  'path': 's3://ga-odc-eros-l1til-west/til/003003/LC08/20150420/LC08_CU_003003_20150420_20170713_C01_V01_SRB6.tif'},\n",
       " 'swir2': {'layer': 1,\n",
       "  'path': 's3://ga-odc-eros-l1til-west/til/003003/LC08/20150420/LC08_CU_003003_20150420_20170713_C01_V01_SRB7.tif'}}"
      ]
     },
     "execution_count": 6,
     "metadata": {},
     "output_type": "execute_result"
    }
   ],
   "source": [
    "citem.measurements"
   ]
  },
  {
   "cell_type": "code",
   "execution_count": 7,
   "metadata": {},
   "outputs": [
    {
     "name": "stdout",
     "output_type": "stream",
     "text": [
      "[(-2115585.0, 2714805.0), (-2115585.0, 2864805.0), (-1965585.0, 2864805.0), (-1965585.0, 2714805.0), (-2115585.0, 2714805.0)]\n"
     ]
    },
    {
     "data": {
      "text/plain": [
       "Geometry(POLYGON ((-2115585 2714805,-2115585 2864805,-1965585 2864805,-1965585 2714805,-2115585 2714805)), epsg:5072)"
      ]
     },
     "execution_count": 7,
     "metadata": {},
     "output_type": "execute_result"
    }
   ],
   "source": [
    "citem.extent"
   ]
  },
  {
   "cell_type": "markdown",
   "metadata": {},
   "source": [
    "citem.time"
   ]
  },
  {
   "cell_type": "code",
   "execution_count": 8,
   "metadata": {},
   "outputs": [
    {
     "data": {
      "text/plain": [
       "Range(begin=datetime.datetime(2015, 4, 20, 18, 55, 25, 143995, tzinfo=tzlocal()), end=datetime.datetime(2015, 4, 20, 18, 55, 25, 143995, tzinfo=tzlocal()))"
      ]
     },
     "execution_count": 8,
     "metadata": {},
     "output_type": "execute_result"
    }
   ],
   "source": [
    "citem.time"
   ]
  },
  {
   "cell_type": "code",
   "execution_count": 9,
   "metadata": {},
   "outputs": [
    {
     "data": {
      "text/plain": [
       "BoundingBox(left=-2115585.0, bottom=2714805.0, right=-1965585.0, top=2864805.0)"
      ]
     },
     "execution_count": 9,
     "metadata": {},
     "output_type": "execute_result"
    }
   ],
   "source": [
    "citem.bounds"
   ]
  },
  {
   "cell_type": "code",
   "execution_count": 10,
   "metadata": {},
   "outputs": [
    {
     "name": "stdout",
     "output_type": "stream",
     "text": [
      "(-123.652959903, -121.279418402)\n",
      "(44.6880805402, 46.35679328)\n"
     ]
    }
   ],
   "source": [
    "# import json\n",
    "json_in = citem.metadata_doc\n",
    "\n",
    "type (json_in)\n",
    "\n",
    "json_in['cloud_cover']\n",
    "json_in\n",
    "#json_in['creation_dt']\n",
    "\n",
    "\n",
    "\n",
    "longitude_extents = ((float)(json_in['extent']['coord']['ll']['lon']), (float)(json_in['extent']['coord']['ur']['lon']))\n",
    "\n",
    "print(longitude_extents)\n",
    "\n",
    "latitude_extents = ((float)(json_in['extent']['coord']['ll']['lat']), (float)(json_in['extent']['coord']['ur']['lat']))\n",
    "\n",
    "print(latitude_extents)\n",
    "\n",
    "# meta = json.loads(json_in)\n",
    "\n",
    "# meta\n"
   ]
  },
  {
   "cell_type": "markdown",
   "metadata": {},
   "source": [
    ">### Pick a product  \n",
    ">Use the platform names from the previous block to select a small Data Cube. The data_access_api utility will give you lat, lon, and time bounds of your Data Cube.   "
   ]
  },
  {
   "cell_type": "code",
   "execution_count": 11,
   "metadata": {},
   "outputs": [],
   "source": [
    "# import utils.data_cube_utilities.data_access_api as dc_api  \n",
    "# api = dc_api.DataAccessApi(config = './datacube.conf')\n",
    "\n",
    "platform = \"LANDSAT_8\"\n",
    "\n",
    "product = \"Landsat_8_USARD\"\n",
    "\n",
    "# Get Coordinates\n",
    "# coordinates = api.get_full_dataset_extent(platform = platform, product = product)"
   ]
  },
  {
   "cell_type": "code",
   "execution_count": 12,
   "metadata": {},
   "outputs": [],
   "source": [
    "# help"
   ]
  },
  {
   "cell_type": "markdown",
   "metadata": {},
   "source": [
    "> #### Display Lat-Lon and Time Bounds"
   ]
  },
  {
   "cell_type": "markdown",
   "metadata": {},
   "source": [
    "# Visualize Data Cube Region\n",
    "## USARD h03v03 TILE!"
   ]
  },
  {
   "cell_type": "code",
   "execution_count": 13,
   "metadata": {},
   "outputs": [
    {
     "data": {
      "text/html": [
       "<div style=\"width:100%;\"><div style=\"position:relative;width:100%;height:0;padding-bottom:60%;\"><iframe src=\"data:text/html;charset=utf-8;base64,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\" style=\"position:absolute;width:100%;height:100%;left:0;top:0;border:none !important;\" allowfullscreen webkitallowfullscreen mozallowfullscreen></iframe></div></div>"
      ],
      "text/plain": [
       "<folium.folium.Map at 0x7fc000c9bda0>"
      ]
     },
     "execution_count": 13,
     "metadata": {},
     "output_type": "execute_result"
    }
   ],
   "source": [
    "## The code below renders a map that can be used to orient yourself with the region.\n",
    "from utils.dc_display_map import display_map\n",
    "display_map(latitude = latitude_extents, longitude = longitude_extents)"
   ]
  },
  {
   "cell_type": "markdown",
   "metadata": {},
   "source": [
    "> #### Picking a smaller analysis region\n",
    "# hayden Island Only - approximately 300x300 pixels"
   ]
  },
  {
   "cell_type": "code",
   "execution_count": 14,
   "metadata": {},
   "outputs": [],
   "source": [
    "\n",
    "\n",
    "#### Hayden Island\n",
    "latitude_extents =  (45.59,45.65)\n",
    "longitude_extents = (-122.65,-122.75)\n",
    "\n",
    "\n",
    "tcoord = {\n",
    "    'Latitude': 45.5936,\n",
    "    'Longitude': -122.8502\n",
    "}\n",
    "\n",
    "lat = tcoord['Latitude']\n",
    "lon = tcoord['Longitude']\n",
    "\n",
    "### Below is supposed to be a dry area = bombs\n",
    "# latitude_extents = (lat, lat +.03)\n",
    "# longitude_extents = (lon, lon +.03)\n",
    "\n"
   ]
  },
  {
   "cell_type": "code",
   "execution_count": 62,
   "metadata": {},
   "outputs": [
    {
     "data": {
      "text/html": [
       "<div style=\"width:100%;\"><div style=\"position:relative;width:100%;height:0;padding-bottom:60%;\"><iframe src=\"data:text/html;charset=utf-8;base64,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\" style=\"position:absolute;width:100%;height:100%;left:0;top:0;border:none !important;\" allowfullscreen webkitallowfullscreen mozallowfullscreen></iframe></div></div>"
      ],
      "text/plain": [
       "<folium.folium.Map at 0x7fbfe7707828>"
      ]
     },
     "execution_count": 62,
     "metadata": {},
     "output_type": "execute_result"
    }
   ],
   "source": [
    "display_map(latitude = latitude_extents, longitude = longitude_extents)"
   ]
  },
  {
   "cell_type": "markdown",
   "metadata": {},
   "source": [
    "> ### Loading the Data\n",
    "> The following snippet loads in Landsat Imagery for the extents we've just defined. Furthermore we specify a preference to load data from `red`, `green`, `blue`, `nir`, `swir1`, `swir2`, and `pixel_qa` bands.  "
   ]
  },
  {
   "cell_type": "code",
   "execution_count": 16,
   "metadata": {},
   "outputs": [],
   "source": [
    "def load_me():\n",
    "    selected_product = 'landsat_8_USARD'\n",
    "    # measurements=['red','green','blue']\n",
    "    measurements = ['red', 'green', 'blue', 'nir', 'swir1', 'swir2', 'pixel_qa']\n",
    "\n",
    "    ds2 = dc.load(product=selected_product, datasets=clear_datasets, measurements=measurements,\n",
    "              longitude = longitude_extents, latitude = latitude_extents,\n",
    "              output_crs = 'epsg:5072', \n",
    "              # output_crs = 'epsg:4326', \n",
    "\n",
    "              resolution = (-30,30))\n",
    "    return (ds2)"
   ]
  },
  {
   "cell_type": "code",
   "execution_count": 17,
   "metadata": {},
   "outputs": [
    {
     "name": "stdout",
     "output_type": "stream",
     "text": [
      "TONY load function\n",
      "[(-122.65, 45.59), (-122.75, 45.59), (-122.75, 45.65), (-122.65, 45.65), (-122.65, 45.59)]\n",
      "[(-2060460.0, 2809680.0), (-2060460.0, 2801070.0), (-2051100.0, 2801070.0), (-2051100.0, 2809680.0), (-2060460.0, 2809680.0)]\n",
      "Tony load_data\n",
      "{'aliases': ['band_4', 'red'], 'dtype': 'int16', 'name': 'red', 'nodata': -9999, 'units': '1'}\n",
      "s3://ga-odc-eros-l1til-west/til/003003/LC08/20150420/LC08_CU_003003_20150420_20170713_C01_V01_SRB4.tif\n",
      "{'aliases': ['band_4', 'red'], 'dtype': 'int16', 'name': 'red', 'nodata': -9999, 'units': '1'}\n",
      "s3://ga-odc-eros-l1til-west/til/003003/LC08/20150607/LC08_CU_003003_20150607_20170713_C01_V01_SRB4.tif\n",
      "{'aliases': ['band_4', 'red'], 'dtype': 'int16', 'name': 'red', 'nodata': -9999, 'units': '1'}\n",
      "s3://ga-odc-eros-l1til-west/til/003003/LC08/20150623/LC08_CU_003003_20150623_20170713_C01_V01_SRB4.tif\n",
      "{'aliases': ['band_4', 'red'], 'dtype': 'int16', 'name': 'red', 'nodata': -9999, 'units': '1'}\n",
      "s3://ga-odc-eros-l1til-west/til/003003/LC08/20150709/LC08_CU_003003_20150709_20170713_C01_V01_SRB4.tif\n",
      "{'aliases': ['band_4', 'red'], 'dtype': 'int16', 'name': 'red', 'nodata': -9999, 'units': '1'}\n",
      "s3://ga-odc-eros-l1til-west/til/003003/LC08/20150826/LC08_CU_003003_20150826_20170713_C01_V01_SRB4.tif\n",
      "{'aliases': ['band_4', 'red'], 'dtype': 'int16', 'name': 'red', 'nodata': -9999, 'units': '1'}\n",
      "s3://ga-odc-eros-l1til-west/til/003003/LC08/20150927/LC08_CU_003003_20150927_20170713_C01_V01_SRB4.tif\n",
      "{'aliases': ['band_4', 'red'], 'dtype': 'int16', 'name': 'red', 'nodata': -9999, 'units': '1'}\n",
      "s3://ga-odc-eros-l1til-west/til/003003/LC08/20160101/LC08_CU_003003_20160101_20170714_C01_V01_SRB4.tif\n",
      "{'aliases': ['band_4', 'red'], 'dtype': 'int16', 'name': 'red', 'nodata': -9999, 'units': '1'}\n",
      "s3://ga-odc-eros-l1til-west/til/003003/LC08/20160625/LC08_CU_003003_20160625_20170714_C01_V01_SRB4.tif\n",
      "{'aliases': ['band_4', 'red'], 'dtype': 'int16', 'name': 'red', 'nodata': -9999, 'units': '1'}\n",
      "s3://ga-odc-eros-l1til-west/til/003003/LC08/20160727/LC08_CU_003003_20160727_20170714_C01_V01_SRB4.tif\n",
      "{'aliases': ['band_4', 'red'], 'dtype': 'int16', 'name': 'red', 'nodata': -9999, 'units': '1'}\n",
      "s3://ga-odc-eros-l1til-west/til/003003/LC08/20160812/LC08_CU_003003_20160812_20170714_C01_V01_SRB4.tif\n",
      "{'aliases': ['band_4', 'red'], 'dtype': 'int16', 'name': 'red', 'nodata': -9999, 'units': '1'}\n",
      "s3://ga-odc-eros-l1til-west/til/003003/LC08/20160828/LC08_CU_003003_20160828_20170714_C01_V01_SRB4.tif\n",
      "{'aliases': ['band_4', 'red'], 'dtype': 'int16', 'name': 'red', 'nodata': -9999, 'units': '1'}\n",
      "s3://ga-odc-eros-l1til-west/til/003003/LC08/20160913/LC08_CU_003003_20160913_20170714_C01_V01_SRB4.tif\n",
      "{'aliases': ['band_4', 'red'], 'dtype': 'int16', 'name': 'red', 'nodata': -9999, 'units': '1'}\n",
      "s3://ga-odc-eros-l1til-west/til/003003/LC08/20170103/LC08_CU_003003_20170103_20170714_C01_V01_SRB4.tif\n",
      "{'aliases': ['band_4', 'red'], 'dtype': 'int16', 'name': 'red', 'nodata': -9999, 'units': '1'}\n",
      "s3://ga-odc-eros-l1til-west/til/003003/LC08/20170527/LC08_CU_003003_20170527_20170714_C01_V01_SRB4.tif\n",
      "{'aliases': ['band_3', 'green'], 'dtype': 'int16', 'name': 'green', 'nodata': -9999, 'units': '1'}\n",
      "s3://ga-odc-eros-l1til-west/til/003003/LC08/20150420/LC08_CU_003003_20150420_20170713_C01_V01_SRB3.tif\n",
      "{'aliases': ['band_3', 'green'], 'dtype': 'int16', 'name': 'green', 'nodata': -9999, 'units': '1'}\n",
      "s3://ga-odc-eros-l1til-west/til/003003/LC08/20150607/LC08_CU_003003_20150607_20170713_C01_V01_SRB3.tif\n",
      "{'aliases': ['band_3', 'green'], 'dtype': 'int16', 'name': 'green', 'nodata': -9999, 'units': '1'}\n",
      "s3://ga-odc-eros-l1til-west/til/003003/LC08/20150623/LC08_CU_003003_20150623_20170713_C01_V01_SRB3.tif\n",
      "{'aliases': ['band_3', 'green'], 'dtype': 'int16', 'name': 'green', 'nodata': -9999, 'units': '1'}\n",
      "s3://ga-odc-eros-l1til-west/til/003003/LC08/20150709/LC08_CU_003003_20150709_20170713_C01_V01_SRB3.tif\n",
      "{'aliases': ['band_3', 'green'], 'dtype': 'int16', 'name': 'green', 'nodata': -9999, 'units': '1'}\n",
      "s3://ga-odc-eros-l1til-west/til/003003/LC08/20150826/LC08_CU_003003_20150826_20170713_C01_V01_SRB3.tif\n",
      "{'aliases': ['band_3', 'green'], 'dtype': 'int16', 'name': 'green', 'nodata': -9999, 'units': '1'}\n",
      "s3://ga-odc-eros-l1til-west/til/003003/LC08/20150927/LC08_CU_003003_20150927_20170713_C01_V01_SRB3.tif\n",
      "{'aliases': ['band_3', 'green'], 'dtype': 'int16', 'name': 'green', 'nodata': -9999, 'units': '1'}\n",
      "s3://ga-odc-eros-l1til-west/til/003003/LC08/20160101/LC08_CU_003003_20160101_20170714_C01_V01_SRB3.tif\n",
      "{'aliases': ['band_3', 'green'], 'dtype': 'int16', 'name': 'green', 'nodata': -9999, 'units': '1'}\n",
      "s3://ga-odc-eros-l1til-west/til/003003/LC08/20160625/LC08_CU_003003_20160625_20170714_C01_V01_SRB3.tif\n",
      "{'aliases': ['band_3', 'green'], 'dtype': 'int16', 'name': 'green', 'nodata': -9999, 'units': '1'}\n",
      "s3://ga-odc-eros-l1til-west/til/003003/LC08/20160727/LC08_CU_003003_20160727_20170714_C01_V01_SRB3.tif\n",
      "{'aliases': ['band_3', 'green'], 'dtype': 'int16', 'name': 'green', 'nodata': -9999, 'units': '1'}\n",
      "s3://ga-odc-eros-l1til-west/til/003003/LC08/20160812/LC08_CU_003003_20160812_20170714_C01_V01_SRB3.tif\n",
      "{'aliases': ['band_3', 'green'], 'dtype': 'int16', 'name': 'green', 'nodata': -9999, 'units': '1'}\n",
      "s3://ga-odc-eros-l1til-west/til/003003/LC08/20160828/LC08_CU_003003_20160828_20170714_C01_V01_SRB3.tif\n",
      "{'aliases': ['band_3', 'green'], 'dtype': 'int16', 'name': 'green', 'nodata': -9999, 'units': '1'}\n",
      "s3://ga-odc-eros-l1til-west/til/003003/LC08/20160913/LC08_CU_003003_20160913_20170714_C01_V01_SRB3.tif\n",
      "{'aliases': ['band_3', 'green'], 'dtype': 'int16', 'name': 'green', 'nodata': -9999, 'units': '1'}\n",
      "s3://ga-odc-eros-l1til-west/til/003003/LC08/20170103/LC08_CU_003003_20170103_20170714_C01_V01_SRB3.tif\n",
      "{'aliases': ['band_3', 'green'], 'dtype': 'int16', 'name': 'green', 'nodata': -9999, 'units': '1'}\n",
      "s3://ga-odc-eros-l1til-west/til/003003/LC08/20170527/LC08_CU_003003_20170527_20170714_C01_V01_SRB3.tif\n",
      "{'aliases': ['band_2', 'blue'], 'dtype': 'int16', 'name': 'blue', 'nodata': -9999, 'units': '1'}\n",
      "s3://ga-odc-eros-l1til-west/til/003003/LC08/20150420/LC08_CU_003003_20150420_20170713_C01_V01_SRB2.tif\n",
      "{'aliases': ['band_2', 'blue'], 'dtype': 'int16', 'name': 'blue', 'nodata': -9999, 'units': '1'}\n",
      "s3://ga-odc-eros-l1til-west/til/003003/LC08/20150607/LC08_CU_003003_20150607_20170713_C01_V01_SRB2.tif\n",
      "{'aliases': ['band_2', 'blue'], 'dtype': 'int16', 'name': 'blue', 'nodata': -9999, 'units': '1'}\n",
      "s3://ga-odc-eros-l1til-west/til/003003/LC08/20150623/LC08_CU_003003_20150623_20170713_C01_V01_SRB2.tif\n",
      "{'aliases': ['band_2', 'blue'], 'dtype': 'int16', 'name': 'blue', 'nodata': -9999, 'units': '1'}\n",
      "s3://ga-odc-eros-l1til-west/til/003003/LC08/20150709/LC08_CU_003003_20150709_20170713_C01_V01_SRB2.tif\n",
      "{'aliases': ['band_2', 'blue'], 'dtype': 'int16', 'name': 'blue', 'nodata': -9999, 'units': '1'}\n",
      "s3://ga-odc-eros-l1til-west/til/003003/LC08/20150826/LC08_CU_003003_20150826_20170713_C01_V01_SRB2.tif\n",
      "{'aliases': ['band_2', 'blue'], 'dtype': 'int16', 'name': 'blue', 'nodata': -9999, 'units': '1'}\n",
      "s3://ga-odc-eros-l1til-west/til/003003/LC08/20150927/LC08_CU_003003_20150927_20170713_C01_V01_SRB2.tif\n",
      "{'aliases': ['band_2', 'blue'], 'dtype': 'int16', 'name': 'blue', 'nodata': -9999, 'units': '1'}\n",
      "s3://ga-odc-eros-l1til-west/til/003003/LC08/20160101/LC08_CU_003003_20160101_20170714_C01_V01_SRB2.tif\n",
      "{'aliases': ['band_2', 'blue'], 'dtype': 'int16', 'name': 'blue', 'nodata': -9999, 'units': '1'}\n",
      "s3://ga-odc-eros-l1til-west/til/003003/LC08/20160625/LC08_CU_003003_20160625_20170714_C01_V01_SRB2.tif\n",
      "{'aliases': ['band_2', 'blue'], 'dtype': 'int16', 'name': 'blue', 'nodata': -9999, 'units': '1'}\n",
      "s3://ga-odc-eros-l1til-west/til/003003/LC08/20160727/LC08_CU_003003_20160727_20170714_C01_V01_SRB2.tif\n",
      "{'aliases': ['band_2', 'blue'], 'dtype': 'int16', 'name': 'blue', 'nodata': -9999, 'units': '1'}\n",
      "s3://ga-odc-eros-l1til-west/til/003003/LC08/20160812/LC08_CU_003003_20160812_20170714_C01_V01_SRB2.tif\n",
      "{'aliases': ['band_2', 'blue'], 'dtype': 'int16', 'name': 'blue', 'nodata': -9999, 'units': '1'}\n",
      "s3://ga-odc-eros-l1til-west/til/003003/LC08/20160828/LC08_CU_003003_20160828_20170714_C01_V01_SRB2.tif\n",
      "{'aliases': ['band_2', 'blue'], 'dtype': 'int16', 'name': 'blue', 'nodata': -9999, 'units': '1'}\n",
      "s3://ga-odc-eros-l1til-west/til/003003/LC08/20160913/LC08_CU_003003_20160913_20170714_C01_V01_SRB2.tif\n"
     ]
    },
    {
     "name": "stdout",
     "output_type": "stream",
     "text": [
      "{'aliases': ['band_2', 'blue'], 'dtype': 'int16', 'name': 'blue', 'nodata': -9999, 'units': '1'}\n",
      "s3://ga-odc-eros-l1til-west/til/003003/LC08/20170103/LC08_CU_003003_20170103_20170714_C01_V01_SRB2.tif\n",
      "{'aliases': ['band_2', 'blue'], 'dtype': 'int16', 'name': 'blue', 'nodata': -9999, 'units': '1'}\n",
      "s3://ga-odc-eros-l1til-west/til/003003/LC08/20170527/LC08_CU_003003_20170527_20170714_C01_V01_SRB2.tif\n",
      "{'aliases': ['band_5', 'nir'], 'dtype': 'int16', 'name': 'nir', 'nodata': -9999, 'units': '1'}\n",
      "s3://ga-odc-eros-l1til-west/til/003003/LC08/20150420/LC08_CU_003003_20150420_20170713_C01_V01_SRB5.tif\n",
      "{'aliases': ['band_5', 'nir'], 'dtype': 'int16', 'name': 'nir', 'nodata': -9999, 'units': '1'}\n",
      "s3://ga-odc-eros-l1til-west/til/003003/LC08/20150607/LC08_CU_003003_20150607_20170713_C01_V01_SRB5.tif\n",
      "{'aliases': ['band_5', 'nir'], 'dtype': 'int16', 'name': 'nir', 'nodata': -9999, 'units': '1'}\n",
      "s3://ga-odc-eros-l1til-west/til/003003/LC08/20150623/LC08_CU_003003_20150623_20170713_C01_V01_SRB5.tif\n",
      "{'aliases': ['band_5', 'nir'], 'dtype': 'int16', 'name': 'nir', 'nodata': -9999, 'units': '1'}\n",
      "s3://ga-odc-eros-l1til-west/til/003003/LC08/20150709/LC08_CU_003003_20150709_20170713_C01_V01_SRB5.tif\n",
      "{'aliases': ['band_5', 'nir'], 'dtype': 'int16', 'name': 'nir', 'nodata': -9999, 'units': '1'}\n",
      "s3://ga-odc-eros-l1til-west/til/003003/LC08/20150826/LC08_CU_003003_20150826_20170713_C01_V01_SRB5.tif\n",
      "{'aliases': ['band_5', 'nir'], 'dtype': 'int16', 'name': 'nir', 'nodata': -9999, 'units': '1'}\n",
      "s3://ga-odc-eros-l1til-west/til/003003/LC08/20150927/LC08_CU_003003_20150927_20170713_C01_V01_SRB5.tif\n",
      "{'aliases': ['band_5', 'nir'], 'dtype': 'int16', 'name': 'nir', 'nodata': -9999, 'units': '1'}\n",
      "s3://ga-odc-eros-l1til-west/til/003003/LC08/20160101/LC08_CU_003003_20160101_20170714_C01_V01_SRB5.tif\n",
      "{'aliases': ['band_5', 'nir'], 'dtype': 'int16', 'name': 'nir', 'nodata': -9999, 'units': '1'}\n",
      "s3://ga-odc-eros-l1til-west/til/003003/LC08/20160625/LC08_CU_003003_20160625_20170714_C01_V01_SRB5.tif\n",
      "{'aliases': ['band_5', 'nir'], 'dtype': 'int16', 'name': 'nir', 'nodata': -9999, 'units': '1'}\n",
      "s3://ga-odc-eros-l1til-west/til/003003/LC08/20160727/LC08_CU_003003_20160727_20170714_C01_V01_SRB5.tif\n",
      "{'aliases': ['band_5', 'nir'], 'dtype': 'int16', 'name': 'nir', 'nodata': -9999, 'units': '1'}\n",
      "s3://ga-odc-eros-l1til-west/til/003003/LC08/20160812/LC08_CU_003003_20160812_20170714_C01_V01_SRB5.tif\n",
      "{'aliases': ['band_5', 'nir'], 'dtype': 'int16', 'name': 'nir', 'nodata': -9999, 'units': '1'}\n",
      "s3://ga-odc-eros-l1til-west/til/003003/LC08/20160828/LC08_CU_003003_20160828_20170714_C01_V01_SRB5.tif\n",
      "{'aliases': ['band_5', 'nir'], 'dtype': 'int16', 'name': 'nir', 'nodata': -9999, 'units': '1'}\n",
      "s3://ga-odc-eros-l1til-west/til/003003/LC08/20160913/LC08_CU_003003_20160913_20170714_C01_V01_SRB5.tif\n",
      "{'aliases': ['band_5', 'nir'], 'dtype': 'int16', 'name': 'nir', 'nodata': -9999, 'units': '1'}\n",
      "s3://ga-odc-eros-l1til-west/til/003003/LC08/20170103/LC08_CU_003003_20170103_20170714_C01_V01_SRB5.tif\n",
      "{'aliases': ['band_5', 'nir'], 'dtype': 'int16', 'name': 'nir', 'nodata': -9999, 'units': '1'}\n",
      "s3://ga-odc-eros-l1til-west/til/003003/LC08/20170527/LC08_CU_003003_20170527_20170714_C01_V01_SRB5.tif\n",
      "{'aliases': ['band_6', 'swir1'], 'dtype': 'int16', 'name': 'swir1', 'nodata': -9999, 'units': '1'}\n",
      "s3://ga-odc-eros-l1til-west/til/003003/LC08/20150420/LC08_CU_003003_20150420_20170713_C01_V01_SRB6.tif\n",
      "{'aliases': ['band_6', 'swir1'], 'dtype': 'int16', 'name': 'swir1', 'nodata': -9999, 'units': '1'}\n",
      "s3://ga-odc-eros-l1til-west/til/003003/LC08/20150607/LC08_CU_003003_20150607_20170713_C01_V01_SRB6.tif\n",
      "{'aliases': ['band_6', 'swir1'], 'dtype': 'int16', 'name': 'swir1', 'nodata': -9999, 'units': '1'}\n",
      "s3://ga-odc-eros-l1til-west/til/003003/LC08/20150623/LC08_CU_003003_20150623_20170713_C01_V01_SRB6.tif\n",
      "{'aliases': ['band_6', 'swir1'], 'dtype': 'int16', 'name': 'swir1', 'nodata': -9999, 'units': '1'}\n",
      "s3://ga-odc-eros-l1til-west/til/003003/LC08/20150709/LC08_CU_003003_20150709_20170713_C01_V01_SRB6.tif\n",
      "{'aliases': ['band_6', 'swir1'], 'dtype': 'int16', 'name': 'swir1', 'nodata': -9999, 'units': '1'}\n",
      "s3://ga-odc-eros-l1til-west/til/003003/LC08/20150826/LC08_CU_003003_20150826_20170713_C01_V01_SRB6.tif\n",
      "{'aliases': ['band_6', 'swir1'], 'dtype': 'int16', 'name': 'swir1', 'nodata': -9999, 'units': '1'}\n",
      "s3://ga-odc-eros-l1til-west/til/003003/LC08/20150927/LC08_CU_003003_20150927_20170713_C01_V01_SRB6.tif\n",
      "{'aliases': ['band_6', 'swir1'], 'dtype': 'int16', 'name': 'swir1', 'nodata': -9999, 'units': '1'}\n",
      "s3://ga-odc-eros-l1til-west/til/003003/LC08/20160101/LC08_CU_003003_20160101_20170714_C01_V01_SRB6.tif\n",
      "{'aliases': ['band_6', 'swir1'], 'dtype': 'int16', 'name': 'swir1', 'nodata': -9999, 'units': '1'}\n",
      "s3://ga-odc-eros-l1til-west/til/003003/LC08/20160625/LC08_CU_003003_20160625_20170714_C01_V01_SRB6.tif\n",
      "{'aliases': ['band_6', 'swir1'], 'dtype': 'int16', 'name': 'swir1', 'nodata': -9999, 'units': '1'}\n",
      "s3://ga-odc-eros-l1til-west/til/003003/LC08/20160727/LC08_CU_003003_20160727_20170714_C01_V01_SRB6.tif\n",
      "{'aliases': ['band_6', 'swir1'], 'dtype': 'int16', 'name': 'swir1', 'nodata': -9999, 'units': '1'}\n",
      "s3://ga-odc-eros-l1til-west/til/003003/LC08/20160812/LC08_CU_003003_20160812_20170714_C01_V01_SRB6.tif\n",
      "{'aliases': ['band_6', 'swir1'], 'dtype': 'int16', 'name': 'swir1', 'nodata': -9999, 'units': '1'}\n",
      "s3://ga-odc-eros-l1til-west/til/003003/LC08/20160828/LC08_CU_003003_20160828_20170714_C01_V01_SRB6.tif\n",
      "{'aliases': ['band_6', 'swir1'], 'dtype': 'int16', 'name': 'swir1', 'nodata': -9999, 'units': '1'}\n",
      "s3://ga-odc-eros-l1til-west/til/003003/LC08/20160913/LC08_CU_003003_20160913_20170714_C01_V01_SRB6.tif\n",
      "{'aliases': ['band_6', 'swir1'], 'dtype': 'int16', 'name': 'swir1', 'nodata': -9999, 'units': '1'}\n",
      "s3://ga-odc-eros-l1til-west/til/003003/LC08/20170103/LC08_CU_003003_20170103_20170714_C01_V01_SRB6.tif\n",
      "{'aliases': ['band_6', 'swir1'], 'dtype': 'int16', 'name': 'swir1', 'nodata': -9999, 'units': '1'}\n",
      "s3://ga-odc-eros-l1til-west/til/003003/LC08/20170527/LC08_CU_003003_20170527_20170714_C01_V01_SRB6.tif\n",
      "{'aliases': ['band_7', 'swir2'], 'dtype': 'int16', 'name': 'swir2', 'nodata': -9999, 'units': '1'}\n",
      "s3://ga-odc-eros-l1til-west/til/003003/LC08/20150420/LC08_CU_003003_20150420_20170713_C01_V01_SRB7.tif\n",
      "{'aliases': ['band_7', 'swir2'], 'dtype': 'int16', 'name': 'swir2', 'nodata': -9999, 'units': '1'}\n",
      "s3://ga-odc-eros-l1til-west/til/003003/LC08/20150607/LC08_CU_003003_20150607_20170713_C01_V01_SRB7.tif\n",
      "{'aliases': ['band_7', 'swir2'], 'dtype': 'int16', 'name': 'swir2', 'nodata': -9999, 'units': '1'}\n",
      "s3://ga-odc-eros-l1til-west/til/003003/LC08/20150623/LC08_CU_003003_20150623_20170713_C01_V01_SRB7.tif\n",
      "{'aliases': ['band_7', 'swir2'], 'dtype': 'int16', 'name': 'swir2', 'nodata': -9999, 'units': '1'}\n",
      "s3://ga-odc-eros-l1til-west/til/003003/LC08/20150709/LC08_CU_003003_20150709_20170713_C01_V01_SRB7.tif\n",
      "{'aliases': ['band_7', 'swir2'], 'dtype': 'int16', 'name': 'swir2', 'nodata': -9999, 'units': '1'}\n",
      "s3://ga-odc-eros-l1til-west/til/003003/LC08/20150826/LC08_CU_003003_20150826_20170713_C01_V01_SRB7.tif\n",
      "{'aliases': ['band_7', 'swir2'], 'dtype': 'int16', 'name': 'swir2', 'nodata': -9999, 'units': '1'}\n",
      "s3://ga-odc-eros-l1til-west/til/003003/LC08/20150927/LC08_CU_003003_20150927_20170713_C01_V01_SRB7.tif\n",
      "{'aliases': ['band_7', 'swir2'], 'dtype': 'int16', 'name': 'swir2', 'nodata': -9999, 'units': '1'}\n",
      "s3://ga-odc-eros-l1til-west/til/003003/LC08/20160101/LC08_CU_003003_20160101_20170714_C01_V01_SRB7.tif\n",
      "{'aliases': ['band_7', 'swir2'], 'dtype': 'int16', 'name': 'swir2', 'nodata': -9999, 'units': '1'}\n",
      "s3://ga-odc-eros-l1til-west/til/003003/LC08/20160625/LC08_CU_003003_20160625_20170714_C01_V01_SRB7.tif\n",
      "{'aliases': ['band_7', 'swir2'], 'dtype': 'int16', 'name': 'swir2', 'nodata': -9999, 'units': '1'}\n",
      "s3://ga-odc-eros-l1til-west/til/003003/LC08/20160727/LC08_CU_003003_20160727_20170714_C01_V01_SRB7.tif\n",
      "{'aliases': ['band_7', 'swir2'], 'dtype': 'int16', 'name': 'swir2', 'nodata': -9999, 'units': '1'}\n",
      "s3://ga-odc-eros-l1til-west/til/003003/LC08/20160812/LC08_CU_003003_20160812_20170714_C01_V01_SRB7.tif\n",
      "{'aliases': ['band_7', 'swir2'], 'dtype': 'int16', 'name': 'swir2', 'nodata': -9999, 'units': '1'}\n",
      "s3://ga-odc-eros-l1til-west/til/003003/LC08/20160828/LC08_CU_003003_20160828_20170714_C01_V01_SRB7.tif\n"
     ]
    },
    {
     "name": "stdout",
     "output_type": "stream",
     "text": [
      "{'aliases': ['band_7', 'swir2'], 'dtype': 'int16', 'name': 'swir2', 'nodata': -9999, 'units': '1'}\n",
      "s3://ga-odc-eros-l1til-west/til/003003/LC08/20160913/LC08_CU_003003_20160913_20170714_C01_V01_SRB7.tif\n",
      "{'aliases': ['band_7', 'swir2'], 'dtype': 'int16', 'name': 'swir2', 'nodata': -9999, 'units': '1'}\n",
      "s3://ga-odc-eros-l1til-west/til/003003/LC08/20170103/LC08_CU_003003_20170103_20170714_C01_V01_SRB7.tif\n",
      "{'aliases': ['band_7', 'swir2'], 'dtype': 'int16', 'name': 'swir2', 'nodata': -9999, 'units': '1'}\n",
      "s3://ga-odc-eros-l1til-west/til/003003/LC08/20170527/LC08_CU_003003_20170527_20170714_C01_V01_SRB7.tif\n",
      "{'units': '1', 'name': 'pixel_qa', 'nodata': 0, 'flags_definition': {'cloud': {'values': {'0': False, '1': True}, 'description': 'Cloud', 'bits': [5]}, 'clear': {'values': {'0': False, '1': True}, 'description': 'Clear', 'bits': [1]}, 'water': {'values': {'0': False, '1': True}, 'description': 'Water', 'bits': [2]}, 'fill': {'values': {'0': False, '1': True}, 'description': 'Fill', 'bits': [0]}}, 'dtype': 'int16', 'aliases': ['PIXELQA', 'pixel_qa']}\n",
      "s3://ga-odc-eros-l1til-west/til/003003/LC08/20150420/LC08_CU_003003_20150420_20170713_C01_V01_PIXELQA.tif\n",
      "{'units': '1', 'name': 'pixel_qa', 'nodata': 0, 'flags_definition': {'cloud': {'values': {'0': False, '1': True}, 'description': 'Cloud', 'bits': [5]}, 'clear': {'values': {'0': False, '1': True}, 'description': 'Clear', 'bits': [1]}, 'water': {'values': {'0': False, '1': True}, 'description': 'Water', 'bits': [2]}, 'fill': {'values': {'0': False, '1': True}, 'description': 'Fill', 'bits': [0]}}, 'dtype': 'int16', 'aliases': ['PIXELQA', 'pixel_qa']}\n",
      "s3://ga-odc-eros-l1til-west/til/003003/LC08/20150607/LC08_CU_003003_20150607_20170713_C01_V01_PIXELQA.tif\n",
      "{'units': '1', 'name': 'pixel_qa', 'nodata': 0, 'flags_definition': {'cloud': {'values': {'0': False, '1': True}, 'description': 'Cloud', 'bits': [5]}, 'clear': {'values': {'0': False, '1': True}, 'description': 'Clear', 'bits': [1]}, 'water': {'values': {'0': False, '1': True}, 'description': 'Water', 'bits': [2]}, 'fill': {'values': {'0': False, '1': True}, 'description': 'Fill', 'bits': [0]}}, 'dtype': 'int16', 'aliases': ['PIXELQA', 'pixel_qa']}\n",
      "s3://ga-odc-eros-l1til-west/til/003003/LC08/20150623/LC08_CU_003003_20150623_20170713_C01_V01_PIXELQA.tif\n",
      "{'units': '1', 'name': 'pixel_qa', 'nodata': 0, 'flags_definition': {'cloud': {'values': {'0': False, '1': True}, 'description': 'Cloud', 'bits': [5]}, 'clear': {'values': {'0': False, '1': True}, 'description': 'Clear', 'bits': [1]}, 'water': {'values': {'0': False, '1': True}, 'description': 'Water', 'bits': [2]}, 'fill': {'values': {'0': False, '1': True}, 'description': 'Fill', 'bits': [0]}}, 'dtype': 'int16', 'aliases': ['PIXELQA', 'pixel_qa']}\n",
      "s3://ga-odc-eros-l1til-west/til/003003/LC08/20150709/LC08_CU_003003_20150709_20170713_C01_V01_PIXELQA.tif\n",
      "{'units': '1', 'name': 'pixel_qa', 'nodata': 0, 'flags_definition': {'cloud': {'values': {'0': False, '1': True}, 'description': 'Cloud', 'bits': [5]}, 'clear': {'values': {'0': False, '1': True}, 'description': 'Clear', 'bits': [1]}, 'water': {'values': {'0': False, '1': True}, 'description': 'Water', 'bits': [2]}, 'fill': {'values': {'0': False, '1': True}, 'description': 'Fill', 'bits': [0]}}, 'dtype': 'int16', 'aliases': ['PIXELQA', 'pixel_qa']}\n",
      "s3://ga-odc-eros-l1til-west/til/003003/LC08/20150826/LC08_CU_003003_20150826_20170713_C01_V01_PIXELQA.tif\n",
      "{'units': '1', 'name': 'pixel_qa', 'nodata': 0, 'flags_definition': {'cloud': {'values': {'0': False, '1': True}, 'description': 'Cloud', 'bits': [5]}, 'clear': {'values': {'0': False, '1': True}, 'description': 'Clear', 'bits': [1]}, 'water': {'values': {'0': False, '1': True}, 'description': 'Water', 'bits': [2]}, 'fill': {'values': {'0': False, '1': True}, 'description': 'Fill', 'bits': [0]}}, 'dtype': 'int16', 'aliases': ['PIXELQA', 'pixel_qa']}\n",
      "s3://ga-odc-eros-l1til-west/til/003003/LC08/20150927/LC08_CU_003003_20150927_20170713_C01_V01_PIXELQA.tif\n",
      "{'units': '1', 'name': 'pixel_qa', 'nodata': 0, 'flags_definition': {'cloud': {'values': {'0': False, '1': True}, 'description': 'Cloud', 'bits': [5]}, 'clear': {'values': {'0': False, '1': True}, 'description': 'Clear', 'bits': [1]}, 'water': {'values': {'0': False, '1': True}, 'description': 'Water', 'bits': [2]}, 'fill': {'values': {'0': False, '1': True}, 'description': 'Fill', 'bits': [0]}}, 'dtype': 'int16', 'aliases': ['PIXELQA', 'pixel_qa']}\n",
      "s3://ga-odc-eros-l1til-west/til/003003/LC08/20160101/LC08_CU_003003_20160101_20170714_C01_V01_PIXELQA.tif\n",
      "{'units': '1', 'name': 'pixel_qa', 'nodata': 0, 'flags_definition': {'cloud': {'values': {'0': False, '1': True}, 'description': 'Cloud', 'bits': [5]}, 'clear': {'values': {'0': False, '1': True}, 'description': 'Clear', 'bits': [1]}, 'water': {'values': {'0': False, '1': True}, 'description': 'Water', 'bits': [2]}, 'fill': {'values': {'0': False, '1': True}, 'description': 'Fill', 'bits': [0]}}, 'dtype': 'int16', 'aliases': ['PIXELQA', 'pixel_qa']}\n",
      "s3://ga-odc-eros-l1til-west/til/003003/LC08/20160625/LC08_CU_003003_20160625_20170714_C01_V01_PIXELQA.tif\n",
      "{'units': '1', 'name': 'pixel_qa', 'nodata': 0, 'flags_definition': {'cloud': {'values': {'0': False, '1': True}, 'description': 'Cloud', 'bits': [5]}, 'clear': {'values': {'0': False, '1': True}, 'description': 'Clear', 'bits': [1]}, 'water': {'values': {'0': False, '1': True}, 'description': 'Water', 'bits': [2]}, 'fill': {'values': {'0': False, '1': True}, 'description': 'Fill', 'bits': [0]}}, 'dtype': 'int16', 'aliases': ['PIXELQA', 'pixel_qa']}\n",
      "s3://ga-odc-eros-l1til-west/til/003003/LC08/20160727/LC08_CU_003003_20160727_20170714_C01_V01_PIXELQA.tif\n",
      "{'units': '1', 'name': 'pixel_qa', 'nodata': 0, 'flags_definition': {'cloud': {'values': {'0': False, '1': True}, 'description': 'Cloud', 'bits': [5]}, 'clear': {'values': {'0': False, '1': True}, 'description': 'Clear', 'bits': [1]}, 'water': {'values': {'0': False, '1': True}, 'description': 'Water', 'bits': [2]}, 'fill': {'values': {'0': False, '1': True}, 'description': 'Fill', 'bits': [0]}}, 'dtype': 'int16', 'aliases': ['PIXELQA', 'pixel_qa']}\n",
      "s3://ga-odc-eros-l1til-west/til/003003/LC08/20160812/LC08_CU_003003_20160812_20170714_C01_V01_PIXELQA.tif\n",
      "{'units': '1', 'name': 'pixel_qa', 'nodata': 0, 'flags_definition': {'cloud': {'values': {'0': False, '1': True}, 'description': 'Cloud', 'bits': [5]}, 'clear': {'values': {'0': False, '1': True}, 'description': 'Clear', 'bits': [1]}, 'water': {'values': {'0': False, '1': True}, 'description': 'Water', 'bits': [2]}, 'fill': {'values': {'0': False, '1': True}, 'description': 'Fill', 'bits': [0]}}, 'dtype': 'int16', 'aliases': ['PIXELQA', 'pixel_qa']}\n",
      "s3://ga-odc-eros-l1til-west/til/003003/LC08/20160828/LC08_CU_003003_20160828_20170714_C01_V01_PIXELQA.tif\n",
      "{'units': '1', 'name': 'pixel_qa', 'nodata': 0, 'flags_definition': {'cloud': {'values': {'0': False, '1': True}, 'description': 'Cloud', 'bits': [5]}, 'clear': {'values': {'0': False, '1': True}, 'description': 'Clear', 'bits': [1]}, 'water': {'values': {'0': False, '1': True}, 'description': 'Water', 'bits': [2]}, 'fill': {'values': {'0': False, '1': True}, 'description': 'Fill', 'bits': [0]}}, 'dtype': 'int16', 'aliases': ['PIXELQA', 'pixel_qa']}\n",
      "s3://ga-odc-eros-l1til-west/til/003003/LC08/20160913/LC08_CU_003003_20160913_20170714_C01_V01_PIXELQA.tif\n",
      "{'units': '1', 'name': 'pixel_qa', 'nodata': 0, 'flags_definition': {'cloud': {'values': {'0': False, '1': True}, 'description': 'Cloud', 'bits': [5]}, 'clear': {'values': {'0': False, '1': True}, 'description': 'Clear', 'bits': [1]}, 'water': {'values': {'0': False, '1': True}, 'description': 'Water', 'bits': [2]}, 'fill': {'values': {'0': False, '1': True}, 'description': 'Fill', 'bits': [0]}}, 'dtype': 'int16', 'aliases': ['PIXELQA', 'pixel_qa']}\n",
      "s3://ga-odc-eros-l1til-west/til/003003/LC08/20170103/LC08_CU_003003_20170103_20170714_C01_V01_PIXELQA.tif\n",
      "{'units': '1', 'name': 'pixel_qa', 'nodata': 0, 'flags_definition': {'cloud': {'values': {'0': False, '1': True}, 'description': 'Cloud', 'bits': [5]}, 'clear': {'values': {'0': False, '1': True}, 'description': 'Clear', 'bits': [1]}, 'water': {'values': {'0': False, '1': True}, 'description': 'Water', 'bits': [2]}, 'fill': {'values': {'0': False, '1': True}, 'description': 'Fill', 'bits': [0]}}, 'dtype': 'int16', 'aliases': ['PIXELQA', 'pixel_qa']}\n",
      "s3://ga-odc-eros-l1til-west/til/003003/LC08/20170527/LC08_CU_003003_20170527_20170714_C01_V01_PIXELQA.tif\n",
      "CPU times: user 3 s, sys: 196 ms, total: 3.2 s\n",
      "Wall time: 55.2 s\n"
     ]
    }
   ],
   "source": [
    "%time landsat_dataset = load_me()"
   ]
  },
  {
   "cell_type": "code",
   "execution_count": 18,
   "metadata": {},
   "outputs": [
    {
     "data": {
      "text/plain": [
       "<xarray.Dataset>\n",
       "Dimensions:   (time: 14, x: 312, y: 287)\n",
       "Coordinates:\n",
       "  * time      (time) datetime64[ns] 2015-04-20T18:55:25.143995 ...\n",
       "  * y         (y) float64 2.81e+06 2.81e+06 2.81e+06 2.81e+06 2.81e+06 ...\n",
       "  * x         (x) float64 -2.06e+06 -2.06e+06 -2.06e+06 -2.06e+06 -2.06e+06 ...\n",
       "Data variables:\n",
       "    red       (time, y, x) int16 371 371 373 370 369 370 370 367 361 354 346 ...\n",
       "    green     (time, y, x) int16 526 524 524 527 527 530 525 524 524 515 509 ...\n",
       "    blue      (time, y, x) int16 448 446 444 447 450 447 447 448 446 437 428 ...\n",
       "    nir       (time, y, x) int16 297 293 292 293 289 295 290 283 275 275 271 ...\n",
       "    swir1     (time, y, x) int16 86 87 88 86 86 81 84 80 80 80 77 76 79 78 ...\n",
       "    swir2     (time, y, x) int16 51 50 51 50 49 50 49 46 45 48 46 43 42 44 ...\n",
       "    pixel_qa  (time, y, x) int16 324 324 324 324 324 324 324 324 324 324 324 ...\n",
       "Attributes:\n",
       "    crs:      epsg:5072"
      ]
     },
     "execution_count": 18,
     "metadata": {},
     "output_type": "execute_result"
    }
   ],
   "source": [
    "landsat_dataset"
   ]
  },
  {
   "cell_type": "code",
   "execution_count": 19,
   "metadata": {},
   "outputs": [
    {
     "name": "stdout",
     "output_type": "stream",
     "text": [
      "Fri Aug 10 20:50:23 UTC 2018\r\n"
     ]
    }
   ],
   "source": [
    "!date"
   ]
  },
  {
   "cell_type": "code",
   "execution_count": 20,
   "metadata": {},
   "outputs": [],
   "source": [
    "# !banner \"Left Off\"\n",
    "# ! banner \"here\""
   ]
  },
  {
   "cell_type": "code",
   "execution_count": 21,
   "metadata": {},
   "outputs": [],
   "source": [
    "# measurements = ['red', 'green', 'blue', 'nir', 'swir1', 'swir2', 'pixel_qa']\n",
    "# measurements = ['red', 'green', 'blue']\n",
    "# landsat_dataset = dc.load(latitude = latitude_extents,\n",
    "  #                        longitude = longitude_extents,\n",
    "   #                       datasets=clear_datasets,\n",
    "    #                      platform = platform,\n",
    "     #                     product = product,\n",
    "      #                    measurements = measurements,\n",
    "       #                   output_crs = 'epsg:5072', \n",
    "        #                  resolution = (-30,30)) "
   ]
  },
  {
   "cell_type": "markdown",
   "metadata": {},
   "source": [
    "> ### Examining the size of our extent.  \n",
    "> The compute time of pyCCD scales sharply with extent sizes. Seemingly small areas can take anywhere from 10-15 minutes to process."
   ]
  },
  {
   "cell_type": "code",
   "execution_count": 22,
   "metadata": {},
   "outputs": [
    {
     "data": {
      "text/plain": [
       "<xarray.Dataset>\n",
       "Dimensions:   (time: 14, x: 312, y: 287)\n",
       "Coordinates:\n",
       "  * time      (time) datetime64[ns] 2015-04-20T18:55:25.143995 ...\n",
       "  * y         (y) float64 2.81e+06 2.81e+06 2.81e+06 2.81e+06 2.81e+06 ...\n",
       "  * x         (x) float64 -2.06e+06 -2.06e+06 -2.06e+06 -2.06e+06 -2.06e+06 ...\n",
       "Data variables:\n",
       "    red       (time, y, x) int16 371 371 373 370 369 370 370 367 361 354 346 ...\n",
       "    green     (time, y, x) int16 526 524 524 527 527 530 525 524 524 515 509 ...\n",
       "    blue      (time, y, x) int16 448 446 444 447 450 447 447 448 446 437 428 ...\n",
       "    nir       (time, y, x) int16 297 293 292 293 289 295 290 283 275 275 271 ...\n",
       "    swir1     (time, y, x) int16 86 87 88 86 86 81 84 80 80 80 77 76 79 78 ...\n",
       "    swir2     (time, y, x) int16 51 50 51 50 49 50 49 46 45 48 46 43 42 44 ...\n",
       "    pixel_qa  (time, y, x) int16 324 324 324 324 324 324 324 324 324 324 324 ...\n",
       "Attributes:\n",
       "    crs:      epsg:5072"
      ]
     },
     "execution_count": 22,
     "metadata": {},
     "output_type": "execute_result"
    }
   ],
   "source": [
    "landsat_dataset\n",
    "#view the dimensions and sample content from the cube"
   ]
  },
  {
   "cell_type": "code",
   "execution_count": null,
   "metadata": {},
   "outputs": [],
   "source": []
  },
  {
   "cell_type": "code",
   "execution_count": 23,
   "metadata": {},
   "outputs": [
    {
     "data": {
      "text/plain": [
       "Frozen(SortedKeysDict({'x': 312, 'y': 287, 'time': 14}))"
      ]
     },
     "execution_count": 23,
     "metadata": {},
     "output_type": "execute_result"
    }
   ],
   "source": [
    "landsat_dataset.dims"
   ]
  },
  {
   "cell_type": "code",
   "execution_count": 59,
   "metadata": {},
   "outputs": [],
   "source": [
    "import ccd\n",
    "import pandas as pd\n",
    "def get_color_params(inx, iny):\n",
    "    myx = inx\n",
    "    myy = iny\n",
    "\n",
    "    myred = landsat_dataset.red[:, myy, myx].values\n",
    "\n",
    "    myblue = landsat_dataset.blue[:, myy, myx].values\n",
    "\n",
    "    mygreen = landsat_dataset.green[:, myy, myx].values\n",
    "    mynir = landsat_dataset.nir[:, myy, myx].values\n",
    "    myswir1 = landsat_dataset.swir1[:, myy, myx].values\n",
    "    myswir2 = landsat_dataset.swir2[:, myy, myx].values\n",
    "    mypixel_qa = landsat_dataset.pixel_qa[:, myy, myx].values\n",
    "\n",
    "    print (myred, mypixel_qa)\n",
    "    dts = landsat_dataset.time.values\n",
    "    scene_count = len(dts)\n",
    "    mythermals = np.ones(scene_count) * (273.15) * 10\n",
    "    \n",
    "    ordinal_dates = []\n",
    "    for mydate in dts:\n",
    "        # print (mydate)\n",
    "       # print(dir(mydate))\n",
    "        dval = datetime.utcfromtimestamp(mydate.tolist()/1e9)\n",
    "        # dval = mydate.value\n",
    "        # print(dval)\n",
    "        # print (type (dval))\n",
    "        ordinal_dates.append(dval.toordinal())\n",
    "        \n",
    "    # print (ordinal_dates)\n",
    "        \n",
    "    # params = (dts, myblue, mygreen, myred, mynir, myswir1, myswir2, mythermals, mypixel_qa)\n",
    "    params = (ordinal_dates, myblue, mygreen, myred, mynir, myswir1, myswir2, mythermals, mypixel_qa)\n",
    "\n",
    "    mystery_object = ccd.detect(*params)\n",
    "\n",
    "    print(mystery_object)"
   ]
  },
  {
   "cell_type": "code",
   "execution_count": 61,
   "metadata": {},
   "outputs": [
    {
     "name": "stdout",
     "output_type": "stream",
     "text": [
      "0\n",
      "[371 125 210  58  64  65 540  90  31  52  72  90 223 118] [324 324 324 324 324 324 324 324 324 324 324 324 324 324]\n",
      "{'snow_prob': 0.0, 'cloud_prob': 0.0, 'processing_mask': [1, 1, 1, 0, 1, 1, 1, 1, 0, 0, 1, 1, 0, 0], 'algorithm': 'lcmap-pyccd:2018.03.12', 'water_prob': 0.9992862241256246, 'change_models': []}\n",
      "1\n",
      "[369 102 211  57  56  70 546  76  26  70  58  89 217 251] [324 324 324 324 324 324 324 324 324 324 324 324 324 324]\n",
      "{'snow_prob': 0.0, 'cloud_prob': 0.0, 'processing_mask': [1, 1, 1, 0, 0, 1, 1, 0, 0, 1, 1, 1, 0, 1], 'algorithm': 'lcmap-pyccd:2018.03.12', 'water_prob': 0.9992862241256246, 'change_models': []}\n",
      "2\n",
      "[369  69 201  76  52  76 528  68  55  65  61  97 233 150] [324 324 324 324 324 324 324 324 324 324 324 324 324 324]\n",
      "{'snow_prob': 0.0, 'cloud_prob': 0.0, 'processing_mask': [1, 1, 1, 0, 0, 1, 1, 0, 0, 0, 1, 1, 0, 1], 'algorithm': 'lcmap-pyccd:2018.03.12', 'water_prob': 0.9992862241256246, 'change_models': []}\n",
      "3\n",
      "[372 144 187  63  48  80 492  80  79  67  64 115 218 109] [324 324 324 324 324 324 324 324 324 352 324 324 324 324]\n",
      "{'snow_prob': 0.0, 'cloud_prob': 0.07142857142857142, 'processing_mask': [1, 1, 1, 0, 0, 1, 1, 1, 0, 0, 1, 1, 0, 0], 'algorithm': 'lcmap-pyccd:2018.03.12', 'water_prob': 0.9992313604919293, 'change_models': []}\n",
      "4\n",
      "[369  90 186  68  47  74 486 102  67  66  59 115 224  83] [324 324 324 324 324 324 324 324 324 352 324 324 324 324]\n",
      "{'snow_prob': 0.0, 'cloud_prob': 0.07142857142857142, 'processing_mask': [1, 1, 1, 0, 0, 1, 0, 1, 0, 0, 1, 1, 0, 0], 'algorithm': 'lcmap-pyccd:2018.03.12', 'water_prob': 0.9992313604919293, 'change_models': []}\n",
      "5\n",
      "[365  71 188  71  60  76 478 107  68  67  87 102 234 114] [324 324 324 324 324 324 324 324 324 352 324 324 324 324]\n",
      "{'snow_prob': 0.0, 'cloud_prob': 0.07142857142857142, 'processing_mask': [1, 1, 1, 0, 1, 1, 1, 1, 1, 0, 1, 1, 0, 1], 'algorithm': 'lcmap-pyccd:2018.03.12', 'water_prob': 0.9992313604919293, 'change_models': []}\n",
      "6\n",
      "[355  65 193  64  88 115 468  96  45  49 129 108 232  89] [324 324 324 324 324 324 324 324 324 352 324 324 324 324]\n",
      "{'snow_prob': 0.0, 'cloud_prob': 0.07142857142857142, 'processing_mask': [1, 1, 1, 0, 1, 1, 0, 1, 0, 0, 1, 1, 0, 0], 'algorithm': 'lcmap-pyccd:2018.03.12', 'water_prob': 0.9992313604919293, 'change_models': []}\n",
      "7\n",
      "[339  70 219 103  94 162 427  96  92 105 137 141 226  94] [324 324 324 324 324 324 324 324 324 324 324 324 324 324]\n",
      "{'snow_prob': 0.0, 'cloud_prob': 0.0, 'processing_mask': [1, 1, 1, 0, 1, 1, 0, 1, 1, 1, 1, 1, 0, 0], 'algorithm': 'lcmap-pyccd:2018.03.12', 'water_prob': 0.9992862241256246, 'change_models': []}\n",
      "8\n",
      "[349 185 342 221 335 417 453 137 247 364 469 502 235  90] [324 324 324 352 324 324 324 324 324 324 322 322 324 324]\n",
      "{'snow_prob': 0.0, 'cloud_prob': 0.07142857142857142, 'processing_mask': [1, 1, 1, 0, 1, 1, 0, 0, 1, 1, 1, 1, 0, 0], 'algorithm': 'lcmap-pyccd:2018.03.12', 'water_prob': 0.8455034588777863, 'change_models': []}\n",
      "9\n",
      "[330 231 337 277 333 330 314 197 242 323 338 329 186 139] [322 322 322 352 322 322 324 322 322 322 322 322 324 322]\n",
      "{'snow_prob': 0.0, 'cloud_prob': 0.07142857142857142, 'processing_mask': [1, 1, 1, 0, 1, 1, 1, 1, 1, 1, 1, 1, 0, 1], 'algorithm': 'lcmap-pyccd:2018.03.12', 'water_prob': 0.15372790161414296, 'change_models': []}\n",
      "10\n",
      "[271 190 231 256 216 201 360 168 159 181 201 197 321 152] [322 322 322 322 322 322 322 322 322 322 322 322 322 322]\n",
      "{'snow_prob': 0.0, 'cloud_prob': 0.0, 'processing_mask': [1, 1, 1, 1, 1, 1, 1, 1, 1, 1, 1, 1, 1, 1], 'algorithm': 'lcmap-pyccd:2018.03.12', 'water_prob': 0.0, 'change_models': [{'curve_qa': 24, 'red': {'magnitude': 0.0, 'coefficients': (-0.09300514667398642, 75.64483252088861, 16.513312876573327, 0.0, 0.0, 0.0, 0.0), 'intercept': 68712.67682800308, 'rmse': 28.23817303134126}, 'nir': {'magnitude': 0.0, 'coefficients': (-0.27938027786345415, -1072.377743985478, -251.96114864100696, 0.0, 0.0, 0.0, 0.0), 'intercept': 207869.10259004196, 'rmse': 220.1137280729207}, 'change_probability': 0.0, 'swir1': {'magnitude': 0.0, 'coefficients': (-0.028679927930063697, -111.20651985378449, -15.685310473020014, 0.0, 0.0, 0.0, 0.0), 'intercept': 22068.33484562256, 'rmse': 31.083715261448443}, 'observation_count': 14, 'green': {'magnitude': 0.0, 'coefficients': (-0.14601700015338956, 8.320206896023695, 33.042546331410605, 0.0, 0.0, 0.0, 0.0), 'intercept': 107807.03542928307, 'rmse': 32.411494534089805}, 'break_day': 736476, 'start_day': 735708, 'blue': {'magnitude': 0.0, 'coefficients': (-0.13230252297280481, 29.620529305923494, 20.010913009060378, 0.0, 0.0, 0.0, 0.0), 'intercept': 97581.29008406698, 'rmse': 30.394216732261466}, 'swir2': {'magnitude': 0.0, 'coefficients': (-0.005472918185276424, 66.67773895453429, 19.483953819500613, 0.0, 0.0, 0.0, 0.0), 'intercept': 4498.391147114188, 'rmse': 38.0549195715379}, 'end_day': 736476, 'thermal': {'magnitude': 0.0, 'coefficients': (0.0, 0.0, 0.0, 0.0, 0.0, 0.0, 0.0), 'intercept': 0.0, 'rmse': 0.0}}]}\n",
      "11\n",
      "[261 171 213 285 213 189 438 156 146 165 183 164 447 163] [322 322 322 322 322 322 322 322 322 322 322 322 322 322]\n",
      "{'snow_prob': 0.0, 'cloud_prob': 0.0, 'processing_mask': [1, 1, 1, 1, 1, 1, 1, 1, 1, 1, 1, 1, 1, 1], 'algorithm': 'lcmap-pyccd:2018.03.12', 'water_prob': 0.0, 'change_models': [{'curve_qa': 24, 'red': {'magnitude': 0.0, 'coefficients': (-0.06609747144084537, 125.58359768478442, 36.85433643481203, 0.0, 0.0, 0.0, 0.0), 'intercept': 48939.959070530895, 'rmse': 50.186167800540915}, 'nir': {'magnitude': 0.0, 'coefficients': (-0.014587396213657317, -1157.2308417192128, -96.2865634495695, 0.0, 0.0, 0.0, 0.0), 'intercept': 13507.888606385517, 'rmse': 270.6570856388191}, 'change_probability': 0.0, 'swir1': {'magnitude': 0.0, 'coefficients': (0.04775337423357531, -0.0, 44.53341064903428, 0.0, 0.0, 0.0, 0.0), 'intercept': -33913.69554325425, 'rmse': 52.102187942878004}, 'observation_count': 14, 'green': {'magnitude': 0.0, 'coefficients': (-0.12650218712792125, 36.20958085365419, 52.388592654281005, 0.0, 0.0, 0.0, 0.0), 'intercept': 93470.42698160076, 'rmse': 36.37063087624483}, 'break_day': 736476, 'start_day': 735708, 'blue': {'magnitude': 0.0, 'coefficients': (-0.11633167405520582, 47.57679683920565, 25.320034245399963, 0.0, 0.0, 0.0, 0.0), 'intercept': 85845.14449039745, 'rmse': 39.540419809626194}, 'swir2': {'magnitude': 0.0, 'coefficients': (0.04432014012669772, 156.0837195110048, 67.07357030818893, 0.0, 0.0, 0.0, 0.0), 'intercept': -32010.735332386717, 'rmse': 66.10266845665075}, 'end_day': 736476, 'thermal': {'magnitude': 0.0, 'coefficients': (0.0, 0.0, 0.0, 0.0, 0.0, 0.0, 0.0), 'intercept': 0.0, 'rmse': 0.0}}]}\n",
      "12\n",
      "[231 182 210 255 223 192 467 173 185 188 197 177 397 192] [322 322 322 322 322 322 322 322 322 322 322 322 322 322]\n",
      "{'snow_prob': 0.0, 'cloud_prob': 0.0, 'processing_mask': [1, 1, 1, 1, 1, 1, 1, 1, 1, 1, 1, 1, 1, 1], 'algorithm': 'lcmap-pyccd:2018.03.12', 'water_prob': 0.0, 'change_models': [{'curve_qa': 24, 'red': {'magnitude': 0.0, 'coefficients': (-0.03398351179216182, 112.25689727447376, 26.541137110967398, 0.0, 0.0, 0.0, 0.0), 'intercept': 25300.7187560553, 'rmse': 45.88161814673762}, 'nir': {'magnitude': 0.0, 'coefficients': (-0.03424010618452981, -1229.6147295340493, -225.668662417556, 0.0, 0.0, 0.0, 0.0), 'intercept': 27970.95133391211, 'rmse': 233.8171634467363}, 'change_probability': 0.0, 'swir1': {'magnitude': 0.0, 'coefficients': (0.06273014893558533, 2.9196462778177508, 49.65399230814325, 0.0, 0.0, 0.0, 0.0), 'intercept': -44987.26602460815, 'rmse': 56.50380474420422}, 'observation_count': 14, 'green': {'magnitude': 0.0, 'coefficients': (-0.09881137770289936, 31.65303166152303, 47.780508385580575, 0.0, 0.0, 0.0, 0.0), 'intercept': 73091.091750832, 'rmse': 38.68322030353844}, 'break_day': 736476, 'start_day': 735708, 'blue': {'magnitude': 0.0, 'coefficients': (-0.07999657956444717, 42.8824645157684, 21.17498817308677, 0.0, 0.0, 0.0, 0.0), 'intercept': 59122.662737591316, 'rmse': 49.09202244661782}, 'swir2': {'magnitude': 0.0, 'coefficients': (0.061738782487669175, 159.75195605402646, 68.18165536157429, 0.0, 0.0, 0.0, 0.0), 'intercept': -44857.92185649028, 'rmse': 67.13943463403866}, 'end_day': 736476, 'thermal': {'magnitude': 0.0, 'coefficients': (0.0, 0.0, 0.0, 0.0, 0.0, 0.0, 0.0), 'intercept': 0.0, 'rmse': 0.0}}]}\n",
      "13\n"
     ]
    },
    {
     "name": "stdout",
     "output_type": "stream",
     "text": [
      "[248 184 214 257 222 196 481 173 184 193 186 173 472 192] [322 322 322 322 322 322 322 322 322 322 322 322 322 322]\n",
      "{'snow_prob': 0.0, 'cloud_prob': 0.0, 'processing_mask': [1, 1, 1, 1, 1, 1, 1, 1, 1, 1, 1, 1, 1, 1], 'algorithm': 'lcmap-pyccd:2018.03.12', 'water_prob': 0.0, 'change_models': [{'curve_qa': 24, 'red': {'magnitude': 0.0, 'coefficients': (-0.023526795710341688, 133.43284328282235, 37.76177296567961, 0.0, 0.0, 0.0, 0.0), 'intercept': 17623.20722232131, 'rmse': 48.220356238416805}, 'nir': {'magnitude': 0.0, 'coefficients': (0.021318966764491253, -1220.7826198276446, -165.36651458318542, 0.0, 0.0, 0.0, 0.0), 'intercept': -12937.357949931426, 'rmse': 203.55919826585156}, 'change_probability': 0.0, 'swir1': {'magnitude': 0.0, 'coefficients': (0.034471585552620684, -1.1655516762198799, 56.426148062002966, 0.0, 0.0, 0.0, 0.0), 'intercept': -24160.892870252523, 'rmse': 64.18867966735448}, 'observation_count': 14, 'green': {'magnitude': 0.0, 'coefficients': (-0.08544220054125792, 52.22678261137744, 65.56262556040934, 0.0, 0.0, 0.0, 0.0), 'intercept': 63267.77583053818, 'rmse': 36.25089704477881}, 'break_day': 736476, 'start_day': 735708, 'blue': {'magnitude': 0.0, 'coefficients': (-0.055216320392548625, 73.54020492799056, 30.636924253800853, 0.0, 0.0, 0.0, 0.0), 'intercept': 40908.87996784909, 'rmse': 53.30717020290464}, 'swir2': {'magnitude': 0.0, 'coefficients': (0.053950538422603965, 160.14661696914584, 74.17442812164292, 0.0, 0.0, 0.0, 0.0), 'intercept': -39109.63263134511, 'rmse': 69.60367745074797}, 'end_day': 736476, 'thermal': {'magnitude': 0.0, 'coefficients': (0.0, 0.0, 0.0, 0.0, 0.0, 0.0, 0.0), 'intercept': 0.0, 'rmse': 0.0}}]}\n",
      "14\n",
      "[259 237 259 365 250 194 504 217 201 203 215 184 474 206] [322 322 322 322 322 322 322 322 322 322 322 322 322 322]\n",
      "{'snow_prob': 0.0, 'cloud_prob': 0.0, 'processing_mask': [1, 1, 1, 1, 1, 1, 1, 1, 1, 1, 1, 1, 1, 1], 'algorithm': 'lcmap-pyccd:2018.03.12', 'water_prob': 0.0, 'change_models': [{'curve_qa': 24, 'red': {'magnitude': 0.0, 'coefficients': (-0.06454225106829385, 115.94020379561043, 42.97775730642705, 0.0, 0.0, 0.0, 0.0), 'intercept': 47833.129834964835, 'rmse': 69.19075058618881}, 'nir': {'magnitude': 0.0, 'coefficients': (0.08381136131962579, -1145.6819720463798, -153.87580317221625, 0.0, 0.0, 0.0, 0.0), 'intercept': -59019.447635846904, 'rmse': 175.00543270003465}, 'change_probability': 0.0, 'swir1': {'magnitude': 0.0, 'coefficients': (-0.0005401465298178839, -5.829376591620704, 101.96253658843924, 0.0, 0.0, 0.0, 0.0), 'intercept': 1657.0906030876404, 'rmse': 102.61175493064435}, 'observation_count': 14, 'green': {'magnitude': 0.0, 'coefficients': (-0.10859206025002792, 32.90393667458171, 63.04075725508943, 0.0, 0.0, 0.0, 0.0), 'intercept': 80318.22314741142, 'rmse': 43.410842578078864}, 'break_day': 736476, 'start_day': 735708, 'blue': {'magnitude': 0.0, 'coefficients': (-0.04694824290900726, 60.074851012841265, 37.90830394095603, 0.0, 0.0, 0.0, 0.0), 'intercept': 34829.13634639952, 'rmse': 43.527450958319335}, 'swir2': {'magnitude': 0.0, 'coefficients': (0.01956212803379606, 154.02749625046727, 98.21492642715195, 0.0, 0.0, 0.0, 0.0), 'intercept': -13744.194429321155, 'rmse': 94.62435438647799}, 'end_day': 736476, 'thermal': {'magnitude': 0.0, 'coefficients': (0.0, 0.0, 0.0, 0.0, 0.0, 0.0, 0.0), 'intercept': 0.0, 'rmse': 0.0}}]}\n",
      "15\n",
      "[327 272 319 396 299 272 662 310 246 265 273 231 580 274] [322 322 322 322 322 322 322 322 322 322 322 322 322 322]\n",
      "{'snow_prob': 0.0, 'cloud_prob': 0.0, 'processing_mask': [1, 1, 1, 1, 1, 1, 1, 1, 1, 1, 1, 1, 1, 1], 'algorithm': 'lcmap-pyccd:2018.03.12', 'water_prob': 0.0, 'change_models': [{'curve_qa': 24, 'red': {'magnitude': 0.0, 'coefficients': (-0.04998827694679773, 153.8180216011708, 54.18398442160607, 0.0, 0.0, 0.0, 0.0), 'intercept': 37208.131945530426, 'rmse': 74.61728169483325}, 'nir': {'magnitude': 0.0, 'coefficients': (-0.24254500955134373, -976.778096107719, -39.25078861239867, 0.0, 0.0, 0.0, 0.0), 'intercept': 181128.5340522391, 'rmse': 210.27974357118063}, 'change_probability': 0.0, 'swir1': {'magnitude': 0.0, 'coefficients': (-0.05830166541583764, 72.55812897981951, 56.732057308597646, 0.0, 0.0, 0.0, 0.0), 'intercept': 44295.30978839977, 'rmse': 107.95589696145186}, 'observation_count': 14, 'green': {'magnitude': 0.0, 'coefficients': (-0.1015108289157455, 55.58221896061962, 67.18619308317884, 0.0, 0.0, 0.0, 0.0), 'intercept': 75175.97618861715, 'rmse': 46.79161766125653}, 'break_day': 736476, 'start_day': 735708, 'blue': {'magnitude': 0.0, 'coefficients': (-0.051487021066895754, 85.74303018033483, 47.225019027763544, 0.0, 0.0, 0.0, 0.0), 'intercept': 38217.326337288476, 'rmse': 42.48190062196919}, 'swir2': {'magnitude': 0.0, 'coefficients': (-0.022979609746241112, 227.76136449705814, 86.82234828486224, 0.0, 0.0, 0.0, 0.0), 'intercept': 17693.615075487734, 'rmse': 110.2279553112222}, 'end_day': 736476, 'thermal': {'magnitude': 0.0, 'coefficients': (0.0, 0.0, 0.0, 0.0, 0.0, 0.0, 0.0), 'intercept': 0.0, 'rmse': 0.0}}]}\n",
      "16\n",
      "[435 415 500 530 500 338 371 427 492 469 416 345 378 407] [322 322 322 322 322 322 322 322 322 322 322 322 322 322]\n",
      "{'snow_prob': 0.0, 'cloud_prob': 0.0, 'processing_mask': [1, 1, 1, 1, 1, 1, 1, 1, 1, 1, 1, 1, 1, 1], 'algorithm': 'lcmap-pyccd:2018.03.12', 'water_prob': 0.0, 'change_models': [{'curve_qa': 24, 'red': {'magnitude': 0.0, 'coefficients': (-0.05957810315456935, -49.91862428580632, 3.097463334981698, 0.0, 0.0, 0.0, 0.0), 'intercept': 44260.05243508697, 'rmse': 51.72601407275135}, 'nir': {'magnitude': 0.0, 'coefficients': (0.19914772775402823, -663.3079698999632, -226.05157793157304, 0.0, 0.0, 0.0, 0.0), 'intercept': -144220.69034726883, 'rmse': 207.59167012937695}, 'change_probability': 0.0, 'swir1': {'magnitude': 0.0, 'coefficients': (-0.04193705997346886, -116.96702288766029, 42.051423115894686, 0.0, 0.0, 0.0, 0.0), 'intercept': 32050.435481423337, 'rmse': 87.92857722965478}, 'observation_count': 14, 'green': {'magnitude': 0.0, 'coefficients': (-0.09161090808268468, -68.73187944594108, 9.61885198989229, 0.0, 0.0, 0.0, 0.0), 'intercept': 67903.34139031844, 'rmse': 39.470694889463786}, 'break_day': 736476, 'start_day': 735708, 'blue': {'magnitude': 0.0, 'coefficients': (-0.07509937828762857, -28.61015329980054, 15.985859785854935, 0.0, 0.0, 0.0, 0.0), 'intercept': 55610.27636776356, 'rmse': 55.03830750848979}, 'swir2': {'magnitude': 0.0, 'coefficients': (-0.009132270417611757, -39.96811642519875, 49.6413716195918, 0.0, 0.0, 0.0, 0.0), 'intercept': 7400.236256076732, 'rmse': 68.46403682391872}, 'end_day': 736476, 'thermal': {'magnitude': 0.0, 'coefficients': (0.0, 0.0, 0.0, 0.0, 0.0, 0.0, 0.0), 'intercept': 0.0, 'rmse': 0.0}}]}\n",
      "17\n",
      "[ 793  865  838 1158  790 1137  703 1163  886 1103  974 1085  787 1142] [322 322 322 322 322 322 322 322 322 322 324 322 322 322]\n",
      "{'snow_prob': 0.0, 'cloud_prob': 0.0, 'processing_mask': [1, 1, 1, 1, 1, 1, 1, 1, 1, 1, 1, 1, 1, 1], 'algorithm': 'lcmap-pyccd:2018.03.12', 'water_prob': 0.07137758743754462, 'change_models': [{'curve_qa': 24, 'red': {'magnitude': 0.0, 'coefficients': (0.2551000120987155, -135.841489777275, -59.11354036834478, 0.0, 0.0, 0.0, 0.0), 'intercept': -186873.1208334528, 'rmse': 140.10156674525692}, 'nir': {'magnitude': 0.0, 'coefficients': (0.31733441438527227, 200.38649060579812, 79.24925492110044, 0.0, 0.0, 0.0, 0.0), 'intercept': -232249.18952919482, 'rmse': 174.1057158963972}, 'change_probability': 0.0, 'swir1': {'magnitude': 0.0, 'coefficients': (0.14865209539238086, 12.030330129440614, 57.71335778185045, 0.0, 0.0, 0.0, 0.0), 'intercept': -108400.1532098879, 'rmse': 79.97111394880945}, 'observation_count': 14, 'green': {'magnitude': 0.0, 'coefficients': (0.2431427657597188, -124.65004475300496, -49.57936288453774, 0.0, 0.0, 0.0, 0.0), 'intercept': -178098.4865409294, 'rmse': 147.06136656696282}, 'break_day': 736476, 'start_day': 735708, 'blue': {'magnitude': 0.0, 'coefficients': (0.2551120471189997, -106.95572239455468, -40.03140690182555, 0.0, 0.0, 0.0, 0.0), 'intercept': -187012.77400707893, 'rmse': 146.20258418344767}, 'swir2': {'magnitude': 0.0, 'coefficients': (0.019525877706561313, -47.69225370974668, 67.27399213747772, 0.0, 0.0, 0.0, 0.0), 'intercept': -13595.445467961032, 'rmse': 66.81638642462775}, 'end_day': 736476, 'thermal': {'magnitude': 0.0, 'coefficients': (0.0, 0.0, 0.0, 0.0, 0.0, 0.0, 0.0), 'intercept': 0.0, 'rmse': 0.0}}]}\n",
      "18\n",
      "[ 933  894 1179 1366  864 1104  771 1457 1002 1065 1423 1249  879 1446] [322 322 322 322 322 322 324 322 322 322 322 322 322 322]\n",
      "{'snow_prob': 0.0, 'cloud_prob': 0.0, 'processing_mask': [1, 1, 1, 1, 1, 1, 1, 1, 1, 1, 1, 1, 1, 1], 'algorithm': 'lcmap-pyccd:2018.03.12', 'water_prob': 0.07137758743754462, 'change_models': [{'curve_qa': 24, 'red': {'magnitude': 0.0, 'coefficients': (0.45076409062164363, -218.0930897004406, -8.018919410732977, 0.0, 0.0, 0.0, 0.0), 'intercept': -330757.081762558, 'rmse': 188.6591368119669}, 'nir': {'magnitude': 0.0, 'coefficients': (0.334305468273934, -207.55535706724683, 42.418057875802624, 0.0, 0.0, 0.0, 0.0), 'intercept': -244918.0550372675, 'rmse': 211.15594882928448}, 'change_probability': 0.0, 'swir1': {'magnitude': 0.0, 'coefficients': (0.15515956317583401, -136.43519907039024, 78.37390242539483, 0.0, 0.0, 0.0, 0.0), 'intercept': -113225.9196461272, 'rmse': 85.68598127715941}, 'observation_count': 14, 'green': {'magnitude': 0.0, 'coefficients': (0.4379154465234235, -210.91441447160744, 0.0, 0.0, 0.0, 0.0, 0.0), 'intercept': -321337.3965652986, 'rmse': 187.85450307769497}, 'break_day': 736476, 'start_day': 735708, 'blue': {'magnitude': 0.0, 'coefficients': (0.39952629662406386, -186.0809709537766, 0.0, 0.0, 0.0, 0.0, 0.0), 'intercept': -293187.1543577385, 'rmse': 216.97120353636123}, 'swir2': {'magnitude': 0.0, 'coefficients': (0.024436350321139114, -81.66148021971934, 102.8459255370381, 0.0, 0.0, 0.0, 0.0), 'intercept': -17179.575717917025, 'rmse': 61.94434347284477}, 'end_day': 736476, 'thermal': {'magnitude': 0.0, 'coefficients': (0.0, 0.0, 0.0, 0.0, 0.0, 0.0, 0.0), 'intercept': 0.0, 'rmse': 0.0}}]}\n",
      "19\n",
      "[ 928  832 1403  819  793 1195  779 1442  905 1167 1465  877  746 1315] [322 322 322 322 322 322 324 322 322 322 322 322 322 322]\n",
      "{'snow_prob': 0.0, 'cloud_prob': 0.0, 'processing_mask': [1, 1, 1, 1, 1, 1, 1, 1, 1, 1, 1, 1, 1, 1], 'algorithm': 'lcmap-pyccd:2018.03.12', 'water_prob': 0.07137758743754462, 'change_models': [{'curve_qa': 24, 'red': {'magnitude': 0.0, 'coefficients': (0.3574801294600412, -198.39094549215164, -0.0, 0.0, 0.0, 0.0, 0.0), 'intercept': -262156.1160446793, 'rmse': 257.2202846854895}, 'nir': {'magnitude': 0.0, 'coefficients': (0.2448534789164763, -174.00490501069234, 34.87367509262773, 0.0, 0.0, 0.0, 0.0), 'intercept': -179149.8289763183, 'rmse': 197.00301210470693}, 'change_probability': 0.0, 'swir1': {'magnitude': 0.0, 'coefficients': (0.11212923664113118, -71.2802412272869, 51.20352273587327, 0.0, 0.0, 0.0, 0.0), 'intercept': -81595.07235642026, 'rmse': 108.90461685568651}, 'observation_count': 14, 'green': {'magnitude': 0.0, 'coefficients': (0.35153310923488634, -205.54875138001987, 1.9988952285760948, 0.0, 0.0, 0.0, 0.0), 'intercept': -257809.650861886, 'rmse': 268.830571728034}, 'break_day': 736476, 'start_day': 735708, 'blue': {'magnitude': 0.0, 'coefficients': (0.29532725638848667, -195.76796726608117, 18.478520620563206, 0.0, 0.0, 0.0, 0.0), 'intercept': -216539.20508479833, 'rmse': 301.4451649611856}, 'swir2': {'magnitude': 0.0, 'coefficients': (-0.03149659201735456, -1.1797802988767967, 68.1163023971626, 0.0, 0.0, 0.0, 0.0), 'intercept': 23969.872854218494, 'rmse': 57.18090218833561}, 'end_day': 736476, 'thermal': {'magnitude': 0.0, 'coefficients': (0.0, 0.0, 0.0, 0.0, 0.0, 0.0, 0.0), 'intercept': 0.0, 'rmse': 0.0}}]}\n",
      "20\n",
      "[ 809  739  882  789  903  749  759 1030 1078  985  957  830  936  811] [322 322 322 322 322 322 324 322 322 322 322 322 322 322]\n"
     ]
    },
    {
     "name": "stdout",
     "output_type": "stream",
     "text": [
      "{'snow_prob': 0.0, 'cloud_prob': 0.0, 'processing_mask': [1, 1, 1, 1, 1, 1, 1, 1, 1, 1, 1, 1, 1, 1], 'algorithm': 'lcmap-pyccd:2018.03.12', 'water_prob': 0.07137758743754462, 'change_models': [{'curve_qa': 24, 'red': {'magnitude': 0.0, 'coefficients': (0.21243727506369758, -50.0869818399956, -27.275062548744653, 0.0, 0.0, 0.0, 0.0), 'intercept': -155511.81102870387, 'rmse': 100.99551278859526}, 'nir': {'magnitude': 0.0, 'coefficients': (0.132736637247429, -76.87698720360646, 7.093831125267244, 0.0, 0.0, 0.0, 0.0), 'intercept': -96704.5827811277, 'rmse': 97.16956200646533}, 'change_probability': 0.0, 'swir1': {'magnitude': 0.0, 'coefficients': (0.1421502888967722, -72.56544093934095, 4.153298967247307, 0.0, 0.0, 0.0, 0.0), 'intercept': -103676.44847132571, 'rmse': 72.38238496544524}, 'observation_count': 14, 'green': {'magnitude': 0.0, 'coefficients': (0.1765753672821963, -39.65244015869896, -22.571127933832745, 0.0, 0.0, 0.0, 0.0), 'intercept': -129160.76189979199, 'rmse': 95.56908478938679}, 'break_day': 736476, 'start_day': 735708, 'blue': {'magnitude': 0.0, 'coefficients': (0.13365853251707532, -22.049920041926576, -3.3522129345374303, 0.0, 0.0, 0.0, 0.0), 'intercept': -97689.84614092585, 'rmse': 86.40248233333291}, 'swir2': {'magnitude': 0.0, 'coefficients': (0.10661882042835663, -44.71488705673615, 16.299574001636348, 0.0, 0.0, 0.0, 0.0), 'intercept': -77625.00901241819, 'rmse': 47.39868281402252}, 'end_day': 736476, 'thermal': {'magnitude': 0.0, 'coefficients': (0.0, 0.0, 0.0, 0.0, 0.0, 0.0, 0.0), 'intercept': 0.0, 'rmse': 0.0}}]}\n",
      "21\n",
      "[ 974  701  788  798  836  730  759  884 1077  877  895  853  839  810] [322 322 322 322 322 322 322 322 322 322 322 322 322 322]\n",
      "{'snow_prob': 0.0, 'cloud_prob': 0.0, 'processing_mask': [1, 1, 1, 1, 1, 1, 1, 1, 1, 1, 1, 1, 1, 1], 'algorithm': 'lcmap-pyccd:2018.03.12', 'water_prob': 0.0, 'change_models': [{'curve_qa': 24, 'red': {'magnitude': 0.0, 'coefficients': (0.12284310358920882, -31.704974138043024, 2.6439988813993476, 0.0, 0.0, 0.0, 0.0), 'intercept': -89585.38823479094, 'rmse': 103.76638148123168}, 'nir': {'magnitude': 0.0, 'coefficients': (0.026903412219581656, -48.64056679337973, 33.9815381794006, 0.0, 0.0, 0.0, 0.0), 'intercept': -18802.07282518081, 'rmse': 113.27138758153293}, 'change_probability': 0.0, 'swir1': {'magnitude': 0.0, 'coefficients': (0.12271096365018104, -34.791949386640084, 16.362960885972026, 0.0, 0.0, 0.0, 0.0), 'intercept': -89329.7836342566, 'rmse': 72.87044371156293}, 'observation_count': 14, 'green': {'magnitude': 0.0, 'coefficients': (0.09066558287697757, -29.77700801059001, 7.1829743939516435, 0.0, 0.0, 0.0, 0.0), 'intercept': -65958.01216899953, 'rmse': 95.13645766822573}, 'break_day': 736476, 'start_day': 735708, 'blue': {'magnitude': 0.0, 'coefficients': (0.07168366472558026, -4.66961813031011, 26.015660105505198, 0.0, 0.0, 0.0, 0.0), 'intercept': -52110.966344609165, 'rmse': 93.24553270970155}, 'swir2': {'magnitude': 0.0, 'coefficients': (0.11812133189656233, -12.853542940313817, 15.075630413508117, 0.0, 0.0, 0.0, 0.0), 'intercept': -86049.8066759467, 'rmse': 38.48614431059655}, 'end_day': 736476, 'thermal': {'magnitude': 0.0, 'coefficients': (0.0, 0.0, 0.0, 0.0, 0.0, 0.0, 0.0), 'intercept': 0.0, 'rmse': 0.0}}]}\n",
      "22\n",
      "[ 861  716  803  882 1090  768  802  761 1075  938  911  748  932  816] [322 322 322 322 322 322 322 322 322 322 322 322 322 322]\n",
      "{'snow_prob': 0.0, 'cloud_prob': 0.0, 'processing_mask': [1, 1, 1, 1, 1, 1, 1, 1, 1, 1, 1, 1, 1, 1], 'algorithm': 'lcmap-pyccd:2018.03.12', 'water_prob': 0.0, 'change_models': [{'curve_qa': 24, 'red': {'magnitude': 0.0, 'coefficients': (0.039249236598412694, -7.0114520936217355, -49.21767641005597, 0.0, 0.0, 0.0, 0.0), 'intercept': -28036.16107519142, 'rmse': 125.48156160432025}, 'nir': {'magnitude': 0.0, 'coefficients': (-0.03079991048186962, -28.9417347543955, -6.9675653801726645, 0.0, 0.0, 0.0, 0.0), 'intercept': 23675.995506026287, 'rmse': 123.23469405295741}, 'change_probability': 0.0, 'swir1': {'magnitude': 0.0, 'coefficients': (0.05115821704232851, -20.012003302531724, 0.0, 0.0, 0.0, 0.0, 0.0), 'intercept': -36652.75049130065, 'rmse': 74.41736918346488}, 'observation_count': 14, 'green': {'magnitude': 0.0, 'coefficients': (0.014374551290947, -14.368239853519404, -39.887131149911504, 0.0, 0.0, 0.0, 0.0), 'intercept': -9790.331097561562, 'rmse': 135.66016149715193}, 'break_day': 736476, 'start_day': 735708, 'blue': {'magnitude': 0.0, 'coefficients': (0.02518386217637006, 7.137688164319389, -16.576972819268565, 0.0, 0.0, 0.0, 0.0), 'intercept': -17886.592453005578, 'rmse': 118.27199762592078}, 'swir2': {'magnitude': 0.0, 'coefficients': (0.07605920891500244, -8.039353635687924, 13.094659728498524, 0.0, 0.0, 0.0, 0.0), 'intercept': -55081.54726083373, 'rmse': 39.015695466973916}, 'end_day': 736476, 'thermal': {'magnitude': 0.0, 'coefficients': (0.0, 0.0, 0.0, 0.0, 0.0, 0.0, 0.0), 'intercept': 0.0, 'rmse': 0.0}}]}\n",
      "23\n",
      "[1008  953  822  803  940  798  799  892 1053  891 1085  876  835  842] [322 322 322 322 322 322 322 322 322 322 322 322 322 322]\n",
      "{'snow_prob': 0.0, 'cloud_prob': 0.0, 'processing_mask': [1, 1, 1, 1, 1, 1, 1, 1, 1, 1, 1, 1, 1, 1], 'algorithm': 'lcmap-pyccd:2018.03.12', 'water_prob': 0.0, 'change_models': [{'curve_qa': 24, 'red': {'magnitude': 0.0, 'coefficients': (0.031080649912994623, -43.49945682330668, -4.18266204861442, 0.0, 0.0, 0.0, 0.0), 'intercept': -21996.456087068684, 'rmse': 102.75343682787997}, 'nir': {'magnitude': 0.0, 'coefficients': (-0.044925054753355835, -61.186685567355795, 11.963835032015401, 0.0, 0.0, 0.0, 0.0), 'intercept': 34091.32130675624, 'rmse': 97.40017857992477}, 'change_probability': 0.0, 'swir1': {'magnitude': 0.0, 'coefficients': (0.030168491814190627, -29.274941266453137, 43.37265292899801, 0.0, 0.0, 0.0, 0.0), 'intercept': -21170.809957160367, 'rmse': 66.7178662623436}, 'observation_count': 14, 'green': {'magnitude': 0.0, 'coefficients': (-9.665601440094843e-05, -57.82597722310302, -6.729863772875005, 0.0, 0.0, 0.0, 0.0), 'intercept': 879.3477062892326, 'rmse': 94.90913067672295}, 'break_day': 736476, 'start_day': 735708, 'blue': {'magnitude': 0.0, 'coefficients': (-0.015167253725321517, -34.91860377463802, 11.310166839324678, 0.0, 0.0, 0.0, 0.0), 'intercept': 11842.857628696123, 'rmse': 105.38625968381525}, 'swir2': {'magnitude': 0.0, 'coefficients': (0.054696866697246556, -13.562168343681098, 33.291647335813906, 0.0, 0.0, 0.0, 0.0), 'intercept': -39334.196536308904, 'rmse': 35.948703070749566}, 'end_day': 736476, 'thermal': {'magnitude': 0.0, 'coefficients': (0.0, 0.0, 0.0, 0.0, 0.0, 0.0, 0.0), 'intercept': 0.0, 'rmse': 0.0}}]}\n",
      "24\n",
      "[ 880  765 1035  892  875 1232  837 1131  966 1071 1340  929  812 1074] [322 322 322 322 322 322 324 322 322 322 322 322 322 322]\n",
      "{'snow_prob': 0.0, 'cloud_prob': 0.0, 'processing_mask': [1, 1, 1, 1, 1, 1, 1, 1, 1, 1, 1, 1, 1, 1], 'algorithm': 'lcmap-pyccd:2018.03.12', 'water_prob': 0.07137758743754462, 'change_models': [{'curve_qa': 24, 'red': {'magnitude': 0.0, 'coefficients': (0.19771441705146237, -82.53987258894679, -101.19057855269146, 0.0, 0.0, 0.0, 0.0), 'intercept': -144590.08230473887, 'rmse': 153.67763693860127}, 'nir': {'magnitude': 0.0, 'coefficients': (0.1206966438727698, -103.84567019190723, -63.04902925163103, 0.0, 0.0, 0.0, 0.0), 'intercept': -87764.63411025243, 'rmse': 131.1032185562879}, 'change_probability': 0.0, 'swir1': {'magnitude': 0.0, 'coefficients': (0.23583911355043083, -82.578165651167, -23.235493060160863, 0.0, 0.0, 0.0, 0.0), 'intercept': -172503.36677941357, 'rmse': 120.12791787426256}, 'observation_count': 14, 'green': {'magnitude': 0.0, 'coefficients': (0.16818374499291716, -82.21579217701475, -101.77316436222421, 0.0, 0.0, 0.0, 0.0), 'intercept': -122921.07625054618, 'rmse': 157.49284473871595}, 'break_day': 736476, 'start_day': 735708, 'blue': {'magnitude': 0.0, 'coefficients': (0.23468166629843792, -72.0859806583507, -103.82857442984123, 0.0, 0.0, 0.0, 0.0), 'intercept': -171997.53814075107, 'rmse': 184.78717400400873}, 'swir2': {'magnitude': 0.0, 'coefficients': (0.20227080865659688, -68.9083211241176, 0.0, 0.0, 0.0, 0.0, 0.0), 'intercept': -147906.18514724317, 'rmse': 81.1592391538902}, 'end_day': 736476, 'thermal': {'magnitude': 0.0, 'coefficients': (0.0, 0.0, 0.0, 0.0, 0.0, 0.0, 0.0), 'intercept': 0.0, 'rmse': 0.0}}]}\n",
      "25\n",
      "[1054  739  976 1006  959 1041  705 1128 1017  981  976  657  937 1080] [322 322 322 322 322 322 324 322 322 322 322 324 322 322]\n",
      "{'snow_prob': 0.0, 'cloud_prob': 0.0, 'processing_mask': [1, 1, 1, 1, 1, 1, 1, 1, 1, 1, 1, 1, 1, 1], 'algorithm': 'lcmap-pyccd:2018.03.12', 'water_prob': 0.14275517487508924, 'change_models': [{'curve_qa': 24, 'red': {'magnitude': 0.0, 'coefficients': (0.10614010728770844, -87.5170152344415, 42.47944995373077, 0.0, 0.0, 0.0, 0.0), 'intercept': -77206.35115873726, 'rmse': 144.6215389080678}, 'nir': {'magnitude': 0.0, 'coefficients': (0.04074334613822664, -105.75505840920322, 69.20083702888637, 0.0, 0.0, 0.0, 0.0), 'intercept': -28952.18475000762, 'rmse': 147.430619848097}, 'change_probability': 0.0, 'swir1': {'magnitude': 0.0, 'coefficients': (0.16711229761998386, -170.681745616485, 47.89816032204743, 0.0, 0.0, 0.0, 0.0), 'intercept': -121920.70466962518, 'rmse': 112.63957138404137}, 'observation_count': 14, 'green': {'magnitude': 0.0, 'coefficients': (0.06453137984214645, -89.20815715598692, 34.952241510431534, 0.0, 0.0, 0.0, 0.0), 'intercept': -46652.10955261315, 'rmse': 154.39836300909025}, 'break_day': 736476, 'start_day': 735708, 'blue': {'magnitude': 0.0, 'coefficients': (0.07806282701405201, -75.65719844961106, 57.645084778360705, 0.0, 0.0, 0.0, 0.0), 'intercept': -56727.78005321814, 'rmse': 151.34423682383687}, 'swir2': {'magnitude': 0.0, 'coefficients': (0.20023146860228871, -180.27797859553155, 47.698207279966475, 0.0, 0.0, 0.0, 0.0), 'intercept': -146380.11415989985, 'rmse': 98.38269901802043}, 'end_day': 736476, 'thermal': {'magnitude': 0.0, 'coefficients': (0.0, 0.0, 0.0, 0.0, 0.0, 0.0, 0.0), 'intercept': 0.0, 'rmse': 0.0}}]}\n",
      "26\n",
      "[2839 3710 3571 3070 3300 2927 1235 3794 3692 3304 3293 2985 1067 3753] [322 322 322 322 322 322 322 322 322 322 322 322 322 322]\n",
      "{'snow_prob': 0.0, 'cloud_prob': 0.0, 'processing_mask': [1, 1, 1, 1, 1, 1, 1, 1, 1, 1, 1, 1, 1, 1], 'algorithm': 'lcmap-pyccd:2018.03.12', 'water_prob': 0.0, 'change_models': [{'curve_qa': 24, 'red': {'magnitude': 0.0, 'coefficients': (0.24150385796876594, -1238.1200434573689, -60.93601000401805, 0.0, 0.0, 0.0, 0.0), 'intercept': -175272.6348733853, 'rmse': 256.5895592253035}, 'nir': {'magnitude': 0.0, 'coefficients': (-0.13988944715823487, -1283.4661283507626, -37.81804894604134, 0.0, 0.0, 0.0, 0.0), 'intercept': 105612.02080916971, 'rmse': 188.8227283063668}, 'change_probability': 0.0, 'swir1': {'magnitude': 0.0, 'coefficients': (-0.09089256433067593, -1883.1434878772907, 138.90570698086373, 0.0, 0.0, 0.0, 0.0), 'intercept': 70505.13962397404, 'rmse': 243.82310837904788}, 'observation_count': 14, 'green': {'magnitude': 0.0, 'coefficients': (0.28516257708232856, -1152.8832304281118, -65.37037121668763, 0.0, 0.0, 0.0, 0.0), 'intercept': -207530.92123690536, 'rmse': 285.79735305837653}, 'break_day': 736476, 'start_day': 735708, 'blue': {'magnitude': 0.0, 'coefficients': (0.3205261393864547, -998.5977562252785, -94.41533356922098, 0.0, 0.0, 0.0, 0.0), 'intercept': -233773.24366310783, 'rmse': 306.61850197843836}, 'swir2': {'magnitude': 0.0, 'coefficients': (-0.01411492598374065, -1947.743954148364, 224.1245767308597, 0.0, 0.0, 0.0, 0.0), 'intercept': 13884.468704849243, 'rmse': 223.86227055501357}, 'end_day': 736476, 'thermal': {'magnitude': 0.0, 'coefficients': (0.0, 0.0, 0.0, 0.0, 0.0, 0.0, 0.0), 'intercept': 0.0, 'rmse': 0.0}}]}\n",
      "27\n",
      "[2341 2337 2339 1984 2158 2988 3261 2359 2210 2118 2544 2367 3283 2387] [322 322 322 322 322 322 386 322 322 322 322 322 322 322]\n",
      "{'snow_prob': 0.0, 'cloud_prob': 0.0, 'processing_mask': [1, 1, 1, 1, 1, 1, 1, 1, 1, 1, 1, 1, 1, 1], 'algorithm': 'lcmap-pyccd:2018.03.12', 'water_prob': 0.0, 'change_models': [{'curve_qa': 24, 'red': {'magnitude': 0.0, 'coefficients': (0.0993371555061231, 536.8668978851452, 19.00376056950369, 0.0, 0.0, 0.0, 0.0), 'intercept': -70398.09958285655, 'rmse': 199.85880809436162}, 'nir': {'magnitude': 0.0, 'coefficients': (-0.06557227636802754, 519.5638412859142, 82.61052261011844, 0.0, 0.0, 0.0, 0.0), 'intercept': 51270.44887769966, 'rmse': 211.67007064350474}, 'change_probability': 0.0, 'swir1': {'magnitude': 0.0, 'coefficients': (0.2814365133166414, 539.5807836011745, 78.85413869393453, 0.0, 0.0, 0.0, 0.0), 'intercept': -203686.74238840386, 'rmse': 205.75144036343266}, 'observation_count': 14, 'green': {'magnitude': 0.0, 'coefficients': (0.19205119632586493, 484.35999458061116, -3.533994078012189, 0.0, 0.0, 0.0, 0.0), 'intercept': -138801.04785251344, 'rmse': 193.38338954216334}, 'break_day': 736476, 'start_day': 735708, 'blue': {'magnitude': 0.0, 'coefficients': (0.1650848637387866, 573.3416741038186, 38.216508590299334, 0.0, 0.0, 0.0, 0.0), 'intercept': -119245.82879032353, 'rmse': 171.13953715018502}, 'swir2': {'magnitude': 0.0, 'coefficients': (0.2564633011254317, 312.3801347050822, 75.9059533085612, 0.0, 0.0, 0.0, 0.0), 'intercept': -185638.4275781985, 'rmse': 170.5466326399949}, 'end_day': 736476, 'thermal': {'magnitude': 0.0, 'coefficients': (0.0, 0.0, 0.0, 0.0, 0.0, 0.0, 0.0), 'intercept': 0.0, 'rmse': 0.0}}]}\n",
      "28\n",
      "[ 838  812 1192 1118  992  868  799  984  892 1187  903  878  894  919] [322 322 322 322 322 324 324 322 322 322 322 324 322 322]\n",
      "{'snow_prob': 0.0, 'cloud_prob': 0.0, 'processing_mask': [1, 1, 1, 1, 1, 1, 1, 1, 1, 1, 1, 1, 1, 1], 'algorithm': 'lcmap-pyccd:2018.03.12', 'water_prob': 0.21413276231263384, 'change_models': [{'curve_qa': 24, 'red': {'magnitude': 0.0, 'coefficients': (-0.01596049580203255, -93.53877950952054, -31.10492299098619, 0.0, 0.0, 0.0, 0.0), 'intercept': 12648.794183792752, 'rmse': 127.194933035067}, 'nir': {'magnitude': 0.0, 'coefficients': (-0.08771780596024727, -89.17446194741272, 11.638835236991454, 0.0, 0.0, 0.0, 0.0), 'intercept': 65596.18121657058, 'rmse': 148.88275463691434}, 'change_probability': 0.0, 'swir1': {'magnitude': 0.0, 'coefficients': (-0.0624586175599374, -0.0, 53.02549939938931, 0.0, 0.0, 0.0, 0.0), 'intercept': 47021.139765687156, 'rmse': 150.02629027477366}, 'observation_count': 14, 'green': {'magnitude': 0.0, 'coefficients': (0.019719480696418178, -100.34792690810654, -34.81363123925567, 0.0, 0.0, 0.0, 0.0), 'intercept': -13698.211333280931, 'rmse': 119.56830939957528}, 'break_day': 736476, 'start_day': 735708, 'blue': {'magnitude': 0.0, 'coefficients': (0.07323186673868058, -90.6323249852291, -45.216856178439066, 0.0, 0.0, 0.0, 0.0), 'intercept': -53260.482508328445, 'rmse': 126.7021516016125}, 'swir2': {'magnitude': 0.0, 'coefficients': (0.0034763773156229606, 19.177018871934756, 80.04029148999207, 0.0, 0.0, 0.0, 0.0), 'intercept': -1639.4341392465376, 'rmse': 154.60057050646623}, 'end_day': 736476, 'thermal': {'magnitude': 0.0, 'coefficients': (0.0, 0.0, 0.0, 0.0, 0.0, 0.0, 0.0), 'intercept': 0.0, 'rmse': 0.0}}]}\n",
      "29\n",
      "[ 935  703  986  925  883  773  675  886  868 1193  886  890  636  807] [322 322 322 322 322 322 324 322 322 322 322 324 324 322]\n",
      "{'snow_prob': 0.0, 'cloud_prob': 0.0, 'processing_mask': [1, 1, 1, 1, 1, 1, 1, 1, 1, 1, 1, 1, 1, 1], 'algorithm': 'lcmap-pyccd:2018.03.12', 'water_prob': 0.21413276231263384, 'change_models': [{'curve_qa': 24, 'red': {'magnitude': 0.0, 'coefficients': (-0.007777052430390255, -124.3191477128286, -48.5691393364231, 0.0, 0.0, 0.0, 0.0), 'intercept': 6520.928398207059, 'rmse': 123.46365633256697}, 'nir': {'magnitude': 0.0, 'coefficients': (-0.14413943779923216, -144.1937242841332, -20.841373213616816, 0.0, 0.0, 0.0, 0.0), 'intercept': 107010.76179700415, 'rmse': 131.4372674535688}, 'change_probability': 0.0, 'swir1': {'magnitude': 0.0, 'coefficients': (-0.10887777061679531, -98.90555740136402, 9.004311164858537, 0.0, 0.0, 0.0, 0.0), 'intercept': 81026.85763027408, 'rmse': 81.38545851855068}, 'observation_count': 14, 'green': {'magnitude': 0.0, 'coefficients': (0.020621401540513225, -132.7664610372411, -46.729445428962954, 0.0, 0.0, 0.0, 0.0), 'intercept': -14452.441743109663, 'rmse': 125.2572752811897}, 'break_day': 736476, 'start_day': 735708, 'blue': {'magnitude': 0.0, 'coefficients': (0.13020270427157718, -120.59601408883536, -47.501643570324745, 0.0, 0.0, 0.0, 0.0), 'intercept': -95252.37272670848, 'rmse': 159.72609140182948}, 'swir2': {'magnitude': 0.0, 'coefficients': (-0.09657976236810216, -66.97730870651951, 19.21165824888179, 0.0, 0.0, 0.0, 0.0), 'intercept': 71866.37098567993, 'rmse': 70.72942273678194}, 'end_day': 736476, 'thermal': {'magnitude': 0.0, 'coefficients': (0.0, 0.0, 0.0, 0.0, 0.0, 0.0, 0.0), 'intercept': 0.0, 'rmse': 0.0}}]}\n",
      "30\n",
      "[ 689  735 1107 1398  924  839  536 1009 1070 1018 1106  917  766  938] [322 322 322 322 322 324 324 322 322 322 322 322 322 322]\n",
      "{'snow_prob': 0.0, 'cloud_prob': 0.0, 'processing_mask': [1, 1, 1, 1, 1, 1, 1, 1, 1, 1, 1, 1, 1, 1], 'algorithm': 'lcmap-pyccd:2018.03.12', 'water_prob': 0.14275517487508924, 'change_models': [{'curve_qa': 24, 'red': {'magnitude': 0.0, 'coefficients': (0.10397834848802591, -223.86056916874162, -98.43492703406527, 0.0, 0.0, 0.0, 0.0), 'intercept': -75715.52962768484, 'rmse': 159.97875884027226}, 'nir': {'magnitude': 0.0, 'coefficients': (-0.02371625673735581, -236.4023452193748, -65.60506951721446, 0.0, 0.0, 0.0, 0.0), 'intercept': 18401.35852152545, 'rmse': 197.72309456066012}, 'change_probability': 0.0, 'swir1': {'magnitude': 0.0, 'coefficients': (-0.12007675851119622, -160.09891913522867, -44.28239316747859, 0.0, 0.0, 0.0, 0.0), 'intercept': 89335.62827441018, 'rmse': 179.50397447848403}, 'observation_count': 14, 'green': {'magnitude': 0.0, 'coefficients': (0.11126216094957501, -218.9107773438994, -69.40301879722854, 0.0, 0.0, 0.0, 0.0), 'intercept': -81159.96435884824, 'rmse': 138.67014779692002}, 'break_day': 736476, 'start_day': 735708, 'blue': {'magnitude': 0.0, 'coefficients': (0.17277054204938772, -196.93616189465794, -79.41487930901503, 0.0, 0.0, 0.0, 0.0), 'intercept': -126586.12445120054, 'rmse': 164.0768857015111}, 'swir2': {'magnitude': 0.0, 'coefficients': (-0.09454383611904262, -101.74979730991367, -9.179746449387924, 0.0, 0.0, 0.0, 0.0), 'intercept': 70418.66104991548, 'rmse': 127.19420630843638}, 'end_day': 736476, 'thermal': {'magnitude': 0.0, 'coefficients': (0.0, 0.0, 0.0, 0.0, 0.0, 0.0, 0.0), 'intercept': 0.0, 'rmse': 0.0}}]}\n",
      "31\n",
      "[ 633  644  757  950  840  684  606  803  968  841 1019  900  751 1035] [322 322 322 322 322 324 324 322 322 322 322 322 322 322]\n",
      "{'snow_prob': 0.0, 'cloud_prob': 0.0, 'processing_mask': [1, 1, 1, 1, 1, 1, 1, 1, 1, 1, 1, 1, 1, 1], 'algorithm': 'lcmap-pyccd:2018.03.12', 'water_prob': 0.14275517487508924, 'change_models': [{'curve_qa': 24, 'red': {'magnitude': 0.0, 'coefficients': (0.3770206393530544, -120.78864551744638, -52.47575535840954, 0.0, 0.0, 0.0, 0.0), 'intercept': -276744.90812549996, 'rmse': 86.1447893383852}, 'nir': {'magnitude': 0.0, 'coefficients': (0.21609772922981535, -134.49504796773823, -4.142168600302936, 0.0, 0.0, 0.0, 0.0), 'intercept': -158145.6064978919, 'rmse': 113.4657443480751}, 'change_probability': 0.0, 'swir1': {'magnitude': 0.0, 'coefficients': (0.101710841537129, -108.75493295946268, -0.0, 0.0, 0.0, 0.0, 0.0), 'intercept': -73953.21807433253, 'rmse': 66.0717757973504}, 'observation_count': 14, 'green': {'magnitude': 0.0, 'coefficients': (0.3886093998441744, -126.04182444312247, -51.15102686237685, 0.0, 0.0, 0.0, 0.0), 'intercept': -285350.805513858, 'rmse': 89.42483444758193}, 'break_day': 736476, 'start_day': 735708, 'blue': {'magnitude': 0.0, 'coefficients': (0.5071382892346346, -115.91815959589161, -79.49520858727108, 0.0, 0.0, 0.0, 0.0), 'intercept': -372772.77197298483, 'rmse': 106.29391760520173}, 'swir2': {'magnitude': 0.0, 'coefficients': (0.011627431197791952, -84.00691054473316, 20.226642395208177, 0.0, 0.0, 0.0, 0.0), 'intercept': -7744.940130137836, 'rmse': 64.17371027239044}, 'end_day': 736476, 'thermal': {'magnitude': 0.0, 'coefficients': (0.0, 0.0, 0.0, 0.0, 0.0, 0.0, 0.0), 'intercept': 0.0, 'rmse': 0.0}}]}\n",
      "32\n",
      "[854 824 870 861 902 717 736 906 982 914 974 834 876 963] [322 322 322 322 322 324 324 322 322 322 322 322 322 322]\n"
     ]
    },
    {
     "name": "stdout",
     "output_type": "stream",
     "text": [
      "{'snow_prob': 0.0, 'cloud_prob': 0.0, 'processing_mask': [1, 1, 1, 1, 1, 1, 1, 1, 1, 1, 1, 1, 1, 1], 'algorithm': 'lcmap-pyccd:2018.03.12', 'water_prob': 0.14275517487508924, 'change_models': [{'curve_qa': 24, 'red': {'magnitude': 0.0, 'coefficients': (0.19818850616089195, -68.60790475148272, 13.095492723485481, 0.0, 0.0, 0.0, 0.0), 'intercept': -145028.26079123, 'rmse': 54.60060185096871}, 'nir': {'magnitude': 0.0, 'coefficients': (0.032037031471550216, -73.95087411102628, 55.173792085003996, 0.0, 0.0, 0.0, 0.0), 'intercept': -22582.811456898453, 'rmse': 76.84288171703412}, 'change_probability': 0.0, 'swir1': {'magnitude': 0.0, 'coefficients': (0.0028282811276107754, -66.50953549621323, 38.04420584498538, 0.0, 0.0, 0.0, 0.0), 'intercept': -1103.7602776637057, 'rmse': 43.01335849080688}, 'observation_count': 14, 'green': {'magnitude': 0.0, 'coefficients': (0.2331798910708601, -93.0282336922948, 0.38033585141576237, 0.0, 0.0, 0.0, 0.0), 'intercept': -170870.9159647106, 'rmse': 62.474509467857025}, 'break_day': 736476, 'start_day': 735708, 'blue': {'magnitude': 0.0, 'coefficients': (0.42892462924968205, -67.01956851282839, -32.097599939833145, 0.0, 0.0, 0.0, 0.0), 'intercept': -315103.83182723564, 'rmse': 69.2623221248416}, 'swir2': {'magnitude': 0.0, 'coefficients': (-0.022345200917627726, -48.450903116476795, 37.9247571905377, 0.0, 0.0, 0.0, 0.0), 'intercept': 17311.483768571823, 'rmse': 27.858623092858906}, 'end_day': 736476, 'thermal': {'magnitude': 0.0, 'coefficients': (0.0, 0.0, 0.0, 0.0, 0.0, 0.0, 0.0), 'intercept': 0.0, 'rmse': 0.0}}]}\n",
      "33\n",
      "[1263 1156 1076  896  881  724  683  971  821  843  852  725  579 1007] [322 322 322 322 322 324 322 322 322 322 322 322 324 322]\n",
      "{'snow_prob': 0.0, 'cloud_prob': 0.0, 'processing_mask': [1, 1, 1, 1, 1, 1, 1, 1, 1, 1, 1, 1, 1, 1], 'algorithm': 'lcmap-pyccd:2018.03.12', 'water_prob': 0.14275517487508924, 'change_models': [{'curve_qa': 24, 'red': {'magnitude': 0.0, 'coefficients': (-0.22831537212741373, -156.2607805716306, 176.88153652686694, 0.0, 0.0, 0.0, 0.0), 'intercept': 168901.47323543316, 'rmse': 77.77586226827566}, 'nir': {'magnitude': 0.0, 'coefficients': (-0.3688159817906361, -157.57262330146008, 212.78408109366603, 0.0, 0.0, 0.0, 0.0), 'intercept': 272473.55032662826, 'rmse': 79.96277401719564}, 'change_probability': 0.0, 'swir1': {'magnitude': 0.0, 'coefficients': (-0.2964549359291346, -123.20737861987914, 142.52016692098027, 0.0, 0.0, 0.0, 0.0), 'intercept': 219200.87419955284, 'rmse': 66.7384761117285}, 'observation_count': 14, 'green': {'magnitude': 0.0, 'coefficients': (-0.2064714749707127, -160.27264890939938, 165.3178231713989, 0.0, 0.0, 0.0, 0.0), 'intercept': 152757.90464848603, 'rmse': 69.96511492584432}, 'break_day': 736476, 'start_day': 735708, 'blue': {'magnitude': 0.0, 'coefficients': (-0.04679377196775084, -163.45805516553787, 131.98254275935727, 0.0, 0.0, 0.0, 0.0), 'intercept': 35078.96076340751, 'rmse': 61.89703989302214}, 'swir2': {'magnitude': 0.0, 'coefficients': (-0.20470370877426178, -88.8682663512938, 104.42066211338053, 0.0, 0.0, 0.0, 0.0), 'intercept': 151542.8412551496, 'rmse': 65.70908780729947}, 'end_day': 736476, 'thermal': {'magnitude': 0.0, 'coefficients': (0.0, 0.0, 0.0, 0.0, 0.0, 0.0, 0.0), 'intercept': 0.0, 'rmse': 0.0}}]}\n",
      "34\n",
      "[1274 1189 1106  958  853 1012  707 1038  761  992  880  746  675  722] [322 322 322 322 322 322 322 322 322 322 322 322 324 322]\n",
      "{'snow_prob': 0.0, 'cloud_prob': 0.0, 'processing_mask': [1, 1, 1, 1, 1, 1, 1, 1, 1, 1, 1, 1, 1, 1], 'algorithm': 'lcmap-pyccd:2018.03.12', 'water_prob': 0.07137758743754462, 'change_models': [{'curve_qa': 24, 'red': {'magnitude': 0.0, 'coefficients': (-0.4788099791895794, -99.73158247716674, 74.19350295796727, 0.0, 0.0, 0.0, 0.0), 'intercept': 353310.5039184657, 'rmse': 118.05799063935406}, 'nir': {'magnitude': 0.0, 'coefficients': (-0.6194459526218472, -122.24496204509036, 126.99607298992483, 0.0, 0.0, 0.0, 0.0), 'intercept': 456973.64832723606, 'rmse': 103.28909928848552}, 'change_probability': 0.0, 'swir1': {'magnitude': 0.0, 'coefficients': (-0.5101466908195434, -106.73110780898739, 110.73448862598343, 0.0, 0.0, 0.0, 0.0), 'intercept': 376501.0395316419, 'rmse': 99.57002650925281}, 'observation_count': 14, 'green': {'magnitude': 0.0, 'coefficients': (-0.4316369129722504, -105.95694462342725, 70.48425921201306, 0.0, 0.0, 0.0, 0.0), 'intercept': 318515.9936298687, 'rmse': 108.61534877160587}, 'break_day': 736476, 'start_day': 735708, 'blue': {'magnitude': 0.0, 'coefficients': (-0.19733315140066268, -92.18748709040811, 28.70138586827383, 0.0, 0.0, 0.0, 0.0), 'intercept': 145914.73809329412, 'rmse': 130.04547784541435}, 'swir2': {'magnitude': 0.0, 'coefficients': (-0.3184749293375882, -107.83696767238426, 97.4134016922764, 0.0, 0.0, 0.0, 0.0), 'intercept': 235278.05305434435, 'rmse': 109.22480062838392}, 'end_day': 736476, 'thermal': {'magnitude': 0.0, 'coefficients': (0.0, 0.0, 0.0, 0.0, 0.0, 0.0, 0.0), 'intercept': 0.0, 'rmse': 0.0}}]}\n",
      "35\n",
      "[1103 1100 1131  976  789  934  665  632  746 1013  994  891  825  723] [322 322 322 322 322 322 322 322 322 322 322 322 322 322]\n",
      "{'snow_prob': 0.0, 'cloud_prob': 0.0, 'processing_mask': [1, 1, 1, 1, 1, 1, 1, 1, 1, 1, 1, 1, 1, 1], 'algorithm': 'lcmap-pyccd:2018.03.12', 'water_prob': 0.0, 'change_models': [{'curve_qa': 24, 'red': {'magnitude': 0.0, 'coefficients': (-0.3449312189355069, -47.90950827659908, 0.0, 0.0, 0.0, 0.0, 0.0), 'intercept': 254753.12525201458, 'rmse': 155.9836943076568}, 'nir': {'magnitude': 0.0, 'coefficients': (-0.47949250953550443, -30.27363128211691, 44.93412996344257, 0.0, 0.0, 0.0, 0.0), 'intercept': 353973.46579028014, 'rmse': 160.40883695148187}, 'change_probability': 0.0, 'swir1': {'magnitude': 0.0, 'coefficients': (-0.35471196473250466, -17.977857063544302, 55.68431368730429, 0.0, 0.0, 0.0, 0.0), 'intercept': 262141.86680534214, 'rmse': 125.53750099583567}, 'observation_count': 14, 'green': {'magnitude': 0.0, 'coefficients': (-0.37868346502884676, -74.3362353419955, -13.761484030828202, 0.0, 0.0, 0.0, 0.0), 'intercept': 279503.86099474435, 'rmse': 145.99639506141224}, 'break_day': 736476, 'start_day': 735708, 'blue': {'magnitude': 0.0, 'coefficients': (-0.16653086961307642, -83.20427201900795, -45.36229884535729, 0.0, 0.0, 0.0, 0.0), 'intercept': 123190.47342860582, 'rmse': 133.38590481730188}, 'swir2': {'magnitude': 0.0, 'coefficients': (-0.22373264174927324, -3.252842050477121, 62.17632652633644, 0.0, 0.0, 0.0, 0.0), 'intercept': 165615.43405756014, 'rmse': 102.9536274605445}, 'end_day': 736476, 'thermal': {'magnitude': 0.0, 'coefficients': (0.0, 0.0, 0.0, 0.0, 0.0, 0.0, 0.0), 'intercept': 0.0, 'rmse': 0.0}}]}\n",
      "36\n",
      "[ 866 1068 1236  959 1317  696  723  799  715  701  755  690  994 1119] [322 322 322 322 322 322 322 322 322 322 322 322 322 322]\n",
      "{'snow_prob': 0.0, 'cloud_prob': 0.0, 'processing_mask': [1, 1, 1, 1, 1, 1, 1, 1, 1, 1, 1, 1, 1, 1], 'algorithm': 'lcmap-pyccd:2018.03.12', 'water_prob': 0.0, 'change_models': [{'curve_qa': 24, 'red': {'magnitude': 0.0, 'coefficients': (-0.1590213341960002, -61.05755902865808, 108.63212001991018, 0.0, 0.0, 0.0, 0.0), 'intercept': 117940.04479180298, 'rmse': 217.7766134026553}, 'nir': {'magnitude': 0.0, 'coefficients': (-0.2838499889054451, -85.0320666856924, 124.63525150978883, 0.0, 0.0, 0.0, 0.0), 'intercept': 210052.33632505973, 'rmse': 197.82189062652546}, 'change_probability': 0.0, 'swir1': {'magnitude': 0.0, 'coefficients': (-0.1499763932635998, -62.46270934191407, 95.2740587717067, 0.0, 0.0, 0.0, 0.0), 'intercept': 111594.9333820497, 'rmse': 134.67594396312433}, 'observation_count': 14, 'green': {'magnitude': 0.0, 'coefficients': (-0.1373429842807813, -68.26733191080814, 100.04394270111011, 0.0, 0.0, 0.0, 0.0), 'intercept': 101900.5972717156, 'rmse': 222.76618109939056}, 'break_day': 736476, 'start_day': 735708, 'blue': {'magnitude': 0.0, 'coefficients': (0.01233132858284712, -50.06906819618061, 136.16016375513155, 0.0, 0.0, 0.0, 0.0), 'intercept': -8430.071602504793, 'rmse': 227.2866952302095}, 'swir2': {'magnitude': 0.0, 'coefficients': (-0.06806127276081887, -43.096559045078, 72.48755406479987, 0.0, 0.0, 0.0, 0.0), 'intercept': 51158.966616404505, 'rmse': 79.69148360124686}, 'end_day': 736476, 'thermal': {'magnitude': 0.0, 'coefficients': (0.0, 0.0, 0.0, 0.0, 0.0, 0.0, 0.0), 'intercept': 0.0, 'rmse': 0.0}}]}\n",
      "37\n",
      "[ 919 1072 1284  920 1343  771  956 1184  669  666  679  776  823 1153] [322 322 322 322 322 322 322 322 322 322 322 322 322 322]\n",
      "{'snow_prob': 0.0, 'cloud_prob': 0.0, 'processing_mask': [1, 1, 1, 1, 1, 1, 1, 1, 1, 1, 1, 1, 1, 1], 'algorithm': 'lcmap-pyccd:2018.03.12', 'water_prob': 0.0, 'change_models': [{'curve_qa': 24, 'red': {'magnitude': 0.0, 'coefficients': (-0.21801072008397387, -67.01854713307392, 135.40574410216092, 0.0, 0.0, 0.0, 0.0), 'intercept': 161401.46947681654, 'rmse': 223.33909735758843}, 'nir': {'magnitude': 0.0, 'coefficients': (-0.29438212805243813, -64.2330060073993, 173.84353345599305, 0.0, 0.0, 0.0, 0.0), 'intercept': 217810.1365417932, 'rmse': 194.13552693471945}, 'change_probability': 0.0, 'swir1': {'magnitude': 0.0, 'coefficients': (-0.14239548801539925, -51.42124982423676, 130.96990381396128, 0.0, 0.0, 0.0, 0.0), 'intercept': 105996.72641307303, 'rmse': 127.55955603754965}, 'observation_count': 14, 'green': {'magnitude': 0.0, 'coefficients': (-0.20124828349790433, -79.76684504256264, 136.53363710815228, 0.0, 0.0, 0.0, 0.0), 'intercept': 148989.74886329568, 'rmse': 223.83838970042174}, 'break_day': 736476, 'start_day': 735708, 'blue': {'magnitude': 0.0, 'coefficients': (-0.05435348591311417, -47.53247880581514, 129.1097672713353, 0.0, 0.0, 0.0, 0.0), 'intercept': 40730.8090514986, 'rmse': 236.23299964543665}, 'swir2': {'magnitude': 0.0, 'coefficients': (-0.05649697339535105, -37.359472224485756, 100.80848919326273, 0.0, 0.0, 0.0, 0.0), 'intercept': 42616.25331635217, 'rmse': 80.94803676209989}, 'end_day': 736476, 'thermal': {'magnitude': 0.0, 'coefficients': (0.0, 0.0, 0.0, 0.0, 0.0, 0.0, 0.0), 'intercept': 0.0, 'rmse': 0.0}}]}\n",
      "38\n",
      "[798 788 912 835 981 764 811 993 707 634 719 905 829 946] [322 322 322 322 322 322 324 322 322 322 322 322 322 322]\n",
      "{'snow_prob': 0.0, 'cloud_prob': 0.0, 'processing_mask': [1, 1, 1, 1, 1, 1, 1, 1, 1, 1, 1, 1, 1, 1], 'algorithm': 'lcmap-pyccd:2018.03.12', 'water_prob': 0.07137758743754462, 'change_models': [{'curve_qa': 24, 'red': {'magnitude': 0.0, 'coefficients': (0.01895209425902312, -14.541177314949715, 37.772514783016895, 0.0, 0.0, 0.0, 0.0), 'intercept': -13118.721913106127, 'rmse': 117.92341463193688}, 'nir': {'magnitude': 0.0, 'coefficients': (-0.0814504023313108, -38.51433024388218, 76.59431725980052, 0.0, 0.0, 0.0, 0.0), 'intercept': 60938.25257665693, 'rmse': 112.48002885780225}, 'change_probability': 0.0, 'swir1': {'magnitude': 0.0, 'coefficients': (-0.021808309297687546, -29.061848732739737, 49.66564670116309, 0.0, 0.0, 0.0, 0.0), 'intercept': 17116.998587769507, 'rmse': 66.88699885192104}, 'observation_count': 14, 'green': {'magnitude': 0.0, 'coefficients': (0.04523503565139257, -11.380901983252341, 37.365443656031495, 0.0, 0.0, 0.0, 0.0), 'intercept': -32525.871702133965, 'rmse': 126.30513240280257}, 'break_day': 736476, 'start_day': 735708, 'blue': {'magnitude': 0.0, 'coefficients': (0.1470768549081153, 20.018720526765396, 24.252953105958543, 0.0, 0.0, 0.0, 0.0), 'intercept': -107636.21381382702, 'rmse': 138.82400268379615}, 'swir2': {'magnitude': 0.0, 'coefficients': (0.008498843488641, -35.114048206009905, 33.24560234957433, 0.0, 0.0, 0.0, 0.0), 'intercept': -5313.635971344692, 'rmse': 43.757889924555954}, 'end_day': 736476, 'thermal': {'magnitude': 0.0, 'coefficients': (0.0, 0.0, 0.0, 0.0, 0.0, 0.0, 0.0), 'intercept': 0.0, 'rmse': 0.0}}]}\n",
      "39\n",
      "[709 543 749 769 662 722 751 699 759 735 823 730 718 727] [322 322 322 322 322 322 324 322 322 322 322 322 322 322]\n",
      "{'snow_prob': 0.0, 'cloud_prob': 0.0, 'processing_mask': [1, 1, 1, 1, 1, 1, 1, 1, 1, 1, 1, 1, 1, 1], 'algorithm': 'lcmap-pyccd:2018.03.12', 'water_prob': 0.07137758743754462, 'change_models': [{'curve_qa': 24, 'red': {'magnitude': 0.0, 'coefficients': (0.07689931683762573, 3.7698397376093884, -24.394983465197072, 0.0, 0.0, 0.0, 0.0), 'intercept': -55881.853204548, 'rmse': 64.88352815427857}, 'nir': {'magnitude': 0.0, 'coefficients': (-0.03957893601101975, -42.31061921827667, -3.811819267958122, 0.0, 0.0, 0.0, 0.0), 'intercept': 30058.659327809062, 'rmse': 76.71702101267945}, 'change_probability': 0.0, 'swir1': {'magnitude': 0.0, 'coefficients': (0.03628559327902576, -9.86377660391104, -3.3768714394517714, 0.0, 0.0, 0.0, 0.0), 'intercept': -25678.401678732735, 'rmse': 42.571831976308815}, 'observation_count': 14, 'green': {'magnitude': 0.0, 'coefficients': (0.07774127506428034, -7.369200718697455, -26.88555857540056, 0.0, 0.0, 0.0, 0.0), 'intercept': -56585.06737842634, 'rmse': 71.40789555522198}, 'break_day': 736476, 'start_day': 735708, 'blue': {'magnitude': 0.0, 'coefficients': (0.18920369078052102, -3.4139478108786965, -37.573116482259216, 0.0, 0.0, 0.0, 0.0), 'intercept': -138777.90728783733, 'rmse': 75.62701669060515}, 'swir2': {'magnitude': 0.0, 'coefficients': (0.03728688012873478, -7.2841168751633365, 0.0, 0.0, 0.0, 0.0, 0.0), 'intercept': -26477.27086970334, 'rmse': 27.94424568705129}, 'end_day': 736476, 'thermal': {'magnitude': 0.0, 'coefficients': (0.0, 0.0, 0.0, 0.0, 0.0, 0.0, 0.0), 'intercept': 0.0, 'rmse': 0.0}}]}\n",
      "40\n",
      "[ 806  759  931  930  931  929  893  945  964  982  999 1008  774  902] [322 322 322 322 322 322 322 322 322 322 322 322 322 322]\n",
      "{'snow_prob': 0.0, 'cloud_prob': 0.0, 'processing_mask': [1, 1, 1, 1, 1, 1, 1, 1, 1, 1, 1, 1, 1, 1], 'algorithm': 'lcmap-pyccd:2018.03.12', 'water_prob': 0.0, 'change_models': [{'curve_qa': 24, 'red': {'magnitude': 0.0, 'coefficients': (0.07491798291209785, -44.89569106706129, -84.2846853187979, 0.0, 0.0, 0.0, 0.0), 'intercept': -54266.087413956506, 'rmse': 50.78562166458578}, 'nir': {'magnitude': 0.0, 'coefficients': (0.052833807301378446, -56.07235914919111, -36.46072631584049, 0.0, 0.0, 0.0, 0.0), 'intercept': -37816.776259940336, 'rmse': 61.164173686243565}, 'change_probability': 0.0, 'swir1': {'magnitude': 0.0, 'coefficients': (0.1697920792954504, -21.369391886263454, -17.12947055393089, 0.0, 0.0, 0.0, 0.0), 'intercept': -123834.29113788308, 'rmse': 33.90784967294768}, 'observation_count': 14, 'green': {'magnitude': 0.0, 'coefficients': (0.0726404690425744, -50.651630099037575, -73.89514022913673, 0.0, 0.0, 0.0, 0.0), 'intercept': -52688.56164042666, 'rmse': 51.55068842975569}, 'break_day': 736476, 'start_day': 735708, 'blue': {'magnitude': 0.0, 'coefficients': (0.13479732512776466, -33.73729673479085, -72.69422877203199, 0.0, 0.0, 0.0, 0.0), 'intercept': -98629.21317475646, 'rmse': 66.17323085547977}, 'swir2': {'magnitude': 0.0, 'coefficients': (0.16228143025142164, -18.10426437889533, -3.5458444940939335, 0.0, 0.0, 0.0, 0.0), 'intercept': -118397.88955114516, 'rmse': 26.397607269520766}, 'end_day': 736476, 'thermal': {'magnitude': 0.0, 'coefficients': (0.0, 0.0, 0.0, 0.0, 0.0, 0.0, 0.0), 'intercept': 0.0, 'rmse': 0.0}}]}\n",
      "41\n",
      "[756 647 828 845 827 868 833 773 778 798 843 819 830 747] [322 322 322 322 322 322 322 322 322 322 322 322 322 322]\n",
      "{'snow_prob': 0.0, 'cloud_prob': 0.0, 'processing_mask': [1, 1, 1, 1, 1, 1, 1, 1, 1, 1, 1, 1, 1, 1], 'algorithm': 'lcmap-pyccd:2018.03.12', 'water_prob': 0.0, 'change_models': [{'curve_qa': 24, 'red': {'magnitude': 0.0, 'coefficients': (-0.021293167362256723, 27.844690743593087, -53.44832646384089, 0.0, 0.0, 0.0, 0.0), 'intercept': 16474.412437087456, 'rmse': 46.00225006071499}, 'nir': {'magnitude': 0.0, 'coefficients': (-0.027681326367610677, -44.301119490303165, 9.14180415840659, 0.0, 0.0, 0.0, 0.0), 'intercept': 21464.348370827232, 'rmse': 64.08840899367283}, 'change_probability': 0.0, 'swir1': {'magnitude': 0.0, 'coefficients': (0.1476853278718245, -18.39427030853384, 0.5889855970662995, 0.0, 0.0, 0.0, 0.0), 'intercept': -107566.7356314185, 'rmse': 31.253690164452898}, 'observation_count': 14, 'green': {'magnitude': 0.0, 'coefficients': (-0.013908233890451108, 5.599283917708126, -44.4169242702372, 0.0, 0.0, 0.0, 0.0), 'intercept': 10944.351826540726, 'rmse': 55.32156926191387}, 'break_day': 736476, 'start_day': 735708, 'blue': {'magnitude': 0.0, 'coefficients': (0.057918803940092745, -4.431087057888431, -43.524727502505904, 0.0, 0.0, 0.0, 0.0), 'intercept': -42115.212971053756, 'rmse': 72.55113078483237}, 'swir2': {'magnitude': 0.0, 'coefficients': (0.1347752174175353, -4.613433572374231, 8.901772762651175, 0.0, 0.0, 0.0, 0.0), 'intercept': -98172.63026105231, 'rmse': 17.889985981578004}, 'end_day': 736476, 'thermal': {'magnitude': 0.0, 'coefficients': (0.0, 0.0, 0.0, 0.0, 0.0, 0.0, 0.0), 'intercept': 0.0, 'rmse': 0.0}}]}\n",
      "42\n",
      "[841 797 904 955 945 899 719 873 964 916 965 919 666 865] [322 322 322 322 322 322 322 322 322 322 322 322 322 322]\n",
      "{'snow_prob': 0.0, 'cloud_prob': 0.0, 'processing_mask': [1, 1, 1, 1, 1, 1, 1, 1, 1, 1, 1, 1, 1, 1], 'algorithm': 'lcmap-pyccd:2018.03.12', 'water_prob': 0.0, 'change_models': [{'curve_qa': 24, 'red': {'magnitude': 0.0, 'coefficients': (-0.02127381642122614, -100.91426442369969, -74.92156558114011, 0.0, 0.0, 0.0, 0.0), 'intercept': 16473.48847149688, 'rmse': 40.94838406727148}, 'nir': {'magnitude': 0.0, 'coefficients': (-0.04407352055758212, -174.12415056145716, -51.39340833934408, 0.0, 0.0, 0.0, 0.0), 'intercept': 33541.32367914649, 'rmse': 68.92321980055634}, 'change_probability': 0.0, 'swir1': {'magnitude': 0.0, 'coefficients': (0.16502481506069525, -127.29743441157771, -2.8807497045014308, 0.0, 0.0, 0.0, 0.0), 'intercept': -120313.5631559774, 'rmse': 23.23486595257108}, 'observation_count': 14, 'green': {'magnitude': 0.0, 'coefficients': (-0.02036812293358953, -107.46966812529332, -64.93926588894811, 0.0, 0.0, 0.0, 0.0), 'intercept': 15718.72211580782, 'rmse': 48.93104295960485}, 'break_day': 736476, 'start_day': 735708, 'blue': {'magnitude': 0.0, 'coefficients': (0.08680520625950422, -68.35776887832613, -43.63166409386488, 0.0, 0.0, 0.0, 0.0), 'intercept': -63360.11805795527, 'rmse': 56.620598108025916}, 'swir2': {'magnitude': 0.0, 'coefficients': (0.13942819680307333, -84.14807530363314, 0.0, 0.0, 0.0, 0.0, 0.0), 'intercept': -101610.41138438138, 'rmse': 16.482700045060415}, 'end_day': 736476, 'thermal': {'magnitude': 0.0, 'coefficients': (0.0, 0.0, 0.0, 0.0, 0.0, 0.0, 0.0), 'intercept': 0.0, 'rmse': 0.0}}]}\n",
      "43\n",
      "[775 679 861 861 826 770 798 810 831 784 796 751 737 762] [322 322 322 322 322 322 322 322 322 322 322 322 322 322]\n",
      "{'snow_prob': 0.0, 'cloud_prob': 0.0, 'processing_mask': [1, 1, 1, 1, 1, 1, 1, 1, 1, 1, 1, 1, 1, 1], 'algorithm': 'lcmap-pyccd:2018.03.12', 'water_prob': 0.0, 'change_models': [{'curve_qa': 24, 'red': {'magnitude': 0.0, 'coefficients': (-0.039535880990768525, -17.598506137154285, -14.47610401701998, 0.0, 0.0, 0.0, 0.0), 'intercept': 29877.85795452227, 'rmse': 51.60613091038808}, 'nir': {'magnitude': 0.0, 'coefficients': (-0.09056713024430546, -106.42266909905358, 23.644609267101902, 0.0, 0.0, 0.0, 0.0), 'intercept': 67803.15975390717, 'rmse': 68.21493651353592}, 'change_probability': 0.0, 'swir1': {'magnitude': 0.0, 'coefficients': (0.11092813436353251, -81.94365090924929, 34.448353313007594, 0.0, 0.0, 0.0, 0.0), 'intercept': -80481.48554622738, 'rmse': 30.810564026216436}, 'observation_count': 14, 'green': {'magnitude': 0.0, 'coefficients': (-0.024270522784347267, -32.680361524365274, -8.673134981484717, 0.0, 0.0, 0.0, 0.0), 'intercept': 18569.709883586034, 'rmse': 55.941177928055204}, 'break_day': 736476, 'start_day': 735708, 'blue': {'magnitude': 0.0, 'coefficients': (0.15132019040606542, -59.64717202640869, -19.21159615782043, 0.0, 0.0, 0.0, 0.0), 'intercept': -110868.39365145427, 'rmse': 80.18423340806737}, 'swir2': {'magnitude': 0.0, 'coefficients': (0.09767991900631702, -89.1211672569351, 32.21515533822895, 0.0, 0.0, 0.0, 0.0), 'intercept': -70873.75438853155, 'rmse': 20.98406833030286}, 'end_day': 736476, 'thermal': {'magnitude': 0.0, 'coefficients': (0.0, 0.0, 0.0, 0.0, 0.0, 0.0, 0.0), 'intercept': 0.0, 'rmse': 0.0}}]}\n",
      "44\n",
      "[1123 1797 1549 1295 1290 1009  466 1823 1429 1249 1235 1127  365 1519] [322 322 322 322 322 322 324 322 322 322 322 322 322 322]\n"
     ]
    },
    {
     "name": "stdout",
     "output_type": "stream",
     "text": [
      "{'snow_prob': 0.0, 'cloud_prob': 0.0, 'processing_mask': [1, 1, 1, 1, 1, 1, 1, 1, 1, 1, 1, 1, 1, 1], 'algorithm': 'lcmap-pyccd:2018.03.12', 'water_prob': 0.07137758743754462, 'change_models': [{'curve_qa': 24, 'red': {'magnitude': 0.0, 'coefficients': (0.029470077414047946, -582.366464121125, 87.63665561871507, 0.0, 0.0, 0.0, 0.0), 'intercept': -20697.756430602723, 'rmse': 153.05101497516316}, 'nir': {'magnitude': 0.0, 'coefficients': (-0.008952600041986667, -627.9731618711753, 77.2514882493531, 0.0, 0.0, 0.0, 0.0), 'intercept': 7792.999492931995, 'rmse': 83.96280527731828}, 'change_probability': 0.0, 'swir1': {'magnitude': 0.0, 'coefficients': (-0.14506687012209987, -779.1413876529124, 226.68873647957278, 0.0, 0.0, 0.0, 0.0), 'intercept': 108418.50001250021, 'rmse': 330.4895293422663}, 'observation_count': 14, 'green': {'magnitude': 0.0, 'coefficients': (0.006538889714533536, -523.422272353774, 85.5975830664211, 0.0, 0.0, 0.0, 0.0), 'intercept': -3898.013872016645, 'rmse': 155.45160868022052}, 'break_day': 736476, 'start_day': 735708, 'blue': {'magnitude': 0.0, 'coefficients': (0.16393381887611544, -425.0235160236646, 115.3691657744488, 0.0, 0.0, 0.0, 0.0), 'intercept': -119879.29071564805, 'rmse': 105.80558025318662}, 'swir2': {'magnitude': 0.0, 'coefficients': (-0.1324978671577727, -802.5977493241403, 250.04802388825442, 0.0, 0.0, 0.0, 0.0), 'intercept': 99141.09077100788, 'rmse': 371.4576621721383}, 'end_day': 736476, 'thermal': {'magnitude': 0.0, 'coefficients': (0.0, 0.0, 0.0, 0.0, 0.0, 0.0, 0.0), 'intercept': 0.0, 'rmse': 0.0}}]}\n",
      "45\n",
      "[1507 1944 2064 1421 1513 1161  529 1845 1784 1498 1499 1146  840 1365] [322 322 322 322 322 322 322 322 322 322 322 322 322 322]\n",
      "{'snow_prob': 0.0, 'cloud_prob': 0.0, 'processing_mask': [1, 1, 1, 1, 1, 1, 1, 1, 1, 1, 1, 1, 1, 1], 'algorithm': 'lcmap-pyccd:2018.03.12', 'water_prob': 0.0, 'change_models': [{'curve_qa': 24, 'red': {'magnitude': 0.0, 'coefficients': (-0.22629362897449762, -533.0918011564959, 84.71393341686998, 0.0, 0.0, 0.0, 0.0), 'intercept': 167776.13251579666, 'rmse': 203.66027024806013}, 'nir': {'magnitude': 0.0, 'coefficients': (-0.2947008636567432, -502.825378483884, 160.65798573848448, 0.0, 0.0, 0.0, 0.0), 'intercept': 218301.14548278574, 'rmse': 169.59622746758623}, 'change_probability': 0.0, 'swir1': {'magnitude': 0.0, 'coefficients': (-0.20214760167972873, -961.6309306467663, 87.08640573072269, 0.0, 0.0, 0.0, 0.0), 'intercept': 150660.88072208964, 'rmse': 253.18039260513828}, 'observation_count': 14, 'green': {'magnitude': 0.0, 'coefficients': (-0.16844985781886898, -477.1355726208691, 63.68896043611743, 0.0, 0.0, 0.0, 0.0), 'intercept': 125092.22043050817, 'rmse': 187.31259027983927}, 'break_day': 736476, 'start_day': 735708, 'blue': {'magnitude': 0.0, 'coefficients': (-0.04408105692682006, -448.7817483466427, 89.43648855051737, 0.0, 0.0, 0.0, 0.0), 'intercept': 33352.05494681373, 'rmse': 177.22464097054853}, 'swir2': {'magnitude': 0.0, 'coefficients': (-0.48140931522553215, -1050.0167618173473, 199.2832732551021, 0.0, 0.0, 0.0, 0.0), 'intercept': 356188.65427639324, 'rmse': 335.1355483062857}, 'end_day': 736476, 'thermal': {'magnitude': 0.0, 'coefficients': (0.0, 0.0, 0.0, 0.0, 0.0, 0.0, 0.0), 'intercept': 0.0, 'rmse': 0.0}}]}\n",
      "46\n",
      "[1243 1156 1308 1149 1293 1681 2087 1440 1255 1393 1464 1517 2534 1390] [322 322 322 322 322 322 322 322 322 322 322 322 322 322]\n",
      "{'snow_prob': 0.0, 'cloud_prob': 0.0, 'processing_mask': [1, 1, 1, 1, 1, 1, 1, 1, 1, 1, 1, 1, 1, 1], 'algorithm': 'lcmap-pyccd:2018.03.12', 'water_prob': 0.0, 'change_models': [{'curve_qa': 24, 'red': {'magnitude': 0.0, 'coefficients': (0.40821587748094573, 494.3142967240063, -0.0, 0.0, 0.0, 0.0, 0.0), 'intercept': -298747.6967555148, 'rmse': 138.68472920746993}, 'nir': {'magnitude': 0.0, 'coefficients': (0.3270265220747741, 383.67198721524653, 27.403264997793165, 0.0, 0.0, 0.0, 0.0), 'intercept': -238908.54114472124, 'rmse': 122.96094017278266}, 'change_probability': 0.0, 'swir1': {'magnitude': 0.0, 'coefficients': (0.3428905405276236, 98.07307224492672, -6.263352408601853, 0.0, 0.0, 0.0, 0.0), 'intercept': -250697.92691512255, 'rmse': 64.62325215167093}, 'observation_count': 14, 'green': {'magnitude': 0.0, 'coefficients': (0.44324117403586405, 496.74808097518905, 10.297557973435023, 0.0, 0.0, 0.0, 0.0), 'intercept': -324636.64586677356, 'rmse': 159.21347542732258}, 'break_day': 736476, 'start_day': 735708, 'blue': {'magnitude': 0.0, 'coefficients': (0.34724758702239694, 523.350522789983, 26.786083090319806, 0.0, 0.0, 0.0, 0.0), 'intercept': -254184.7317495448, 'rmse': 121.17051734441773}, 'swir2': {'magnitude': 0.0, 'coefficients': (0.3655913974035911, 56.146114537790744, 27.502488674529644, 0.0, 0.0, 0.0, 0.0), 'intercept': -267504.7989508556, 'rmse': 76.41125231450306}, 'end_day': 736476, 'thermal': {'magnitude': 0.0, 'coefficients': (0.0, 0.0, 0.0, 0.0, 0.0, 0.0, 0.0), 'intercept': 0.0, 'rmse': 0.0}}]}\n",
      "47\n",
      "[ 882  845  920  943 1002  992  883 1033  995 1054 1055 1060  963  975] [322 322 322 322 322 322 322 322 322 322 322 322 322 322]\n",
      "{'snow_prob': 0.0, 'cloud_prob': 0.0, 'processing_mask': [1, 1, 1, 1, 1, 1, 1, 1, 1, 1, 1, 1, 1, 1], 'algorithm': 'lcmap-pyccd:2018.03.12', 'water_prob': 0.0, 'change_models': [{'curve_qa': 24, 'red': {'magnitude': 0.0, 'coefficients': (0.1533567991916107, -27.377837969312207, -69.72022010395133, 0.0, 0.0, 0.0, 0.0), 'intercept': -111928.41774159191, 'rmse': 31.50103590821916}, 'nir': {'magnitude': 0.0, 'coefficients': (0.17729028866171037, -48.87899900920926, -27.023541700673086, 0.0, 0.0, 0.0, 0.0), 'intercept': -129359.91476636827, 'rmse': 55.455171435840654}, 'change_probability': 0.0, 'swir1': {'magnitude': 0.0, 'coefficients': (0.3059682644925925, -49.48155002700401, -42.50970915874905, 0.0, 0.0, 0.0, 0.0), 'intercept': -224009.6671907113, 'rmse': 27.104117817826992}, 'observation_count': 14, 'green': {'magnitude': 0.0, 'coefficients': (0.13181926922769782, -31.228123162122042, -50.34708432125661, 0.0, 0.0, 0.0, 0.0), 'intercept': -96180.3928133912, 'rmse': 39.74329267391572}, 'break_day': 736476, 'start_day': 735708, 'blue': {'magnitude': 0.0, 'coefficients': (0.16133789321148231, -29.279665760461313, -36.598952429610435, 0.0, 0.0, 0.0, 0.0), 'intercept': -118106.20836396642, 'rmse': 55.577230699754274}, 'swir2': {'magnitude': 0.0, 'coefficients': (0.292011651806131, -35.045535649659044, -23.003695264829172, 0.0, 0.0, 0.0, 0.0), 'intercept': -213830.5532956747, 'rmse': 26.354304893963118}, 'end_day': 736476, 'thermal': {'magnitude': 0.0, 'coefficients': (0.0, 0.0, 0.0, 0.0, 0.0, 0.0, 0.0), 'intercept': 0.0, 'rmse': 0.0}}]}\n",
      "48\n",
      "[ 946  917 1032  991 1049 1072  856 1024 1025 1022 1099 1043  858  979] [322 322 322 322 322 322 322 322 322 322 322 322 322 322]\n",
      "{'snow_prob': 0.0, 'cloud_prob': 0.0, 'processing_mask': [1, 1, 1, 1, 1, 1, 1, 1, 1, 1, 1, 1, 1, 1], 'algorithm': 'lcmap-pyccd:2018.03.12', 'water_prob': 0.0, 'change_models': [{'curve_qa': 24, 'red': {'magnitude': 0.0, 'coefficients': (0.004363822956813269, -67.71808474100042, -75.98231086387304, 0.0, 0.0, 0.0, 0.0), 'intercept': -2261.7874298340053, 'rmse': 38.682201080770355}, 'nir': {'magnitude': 0.0, 'coefficients': (0.03895100745595789, -110.92135323077315, -42.00000361113795, 0.0, 0.0, 0.0, 0.0), 'intercept': -27488.30864626234, 'rmse': 56.1913225107233}, 'change_probability': 0.0, 'swir1': {'magnitude': 0.0, 'coefficients': (0.2764874410750904, -131.04571619054735, -39.73245588409707, 0.0, 0.0, 0.0, 0.0), 'intercept': -202239.42297812543, 'rmse': 43.62389578580849}, 'observation_count': 14, 'green': {'magnitude': 0.0, 'coefficients': (-0.001382869652558857, -67.91441187270125, -61.184359928957356, 0.0, 0.0, 0.0, 0.0), 'intercept': 1851.6972963671797, 'rmse': 42.30330614039537}, 'break_day': 736476, 'start_day': 735708, 'blue': {'magnitude': 0.0, 'coefficients': (0.112129884185954, -52.958736060199065, -32.85532103241799, 0.0, 0.0, 0.0, 0.0), 'intercept': -81897.95657140695, 'rmse': 58.44274815681639}, 'swir2': {'magnitude': 0.0, 'coefficients': (0.2522176487967868, -108.09844596636151, -24.702040853686356, 0.0, 0.0, 0.0, 0.0), 'intercept': -184497.69933097306, 'rmse': 34.916898293817965}, 'end_day': 736476, 'thermal': {'magnitude': 0.0, 'coefficients': (0.0, 0.0, 0.0, 0.0, 0.0, 0.0, 0.0), 'intercept': 0.0, 'rmse': 0.0}}]}\n",
      "49\n",
      "[ 917  896  971  983 1030  983  707  997 1004 1028 1054 1041  955  950] [322 322 322 322 322 322 324 322 322 322 322 322 322 322]\n",
      "{'snow_prob': 0.0, 'cloud_prob': 0.0, 'processing_mask': [1, 1, 1, 1, 1, 1, 1, 1, 1, 1, 1, 1, 1, 1], 'algorithm': 'lcmap-pyccd:2018.03.12', 'water_prob': 0.07137758743754462, 'change_models': [{'curve_qa': 24, 'red': {'magnitude': 0.0, 'coefficients': (0.09303741093590677, -76.30627273517436, -67.0561531580128, 0.0, 0.0, 0.0, 0.0), 'intercept': -67558.75625858484, 'rmse': 58.52448199138682}, 'nir': {'magnitude': 0.0, 'coefficients': (0.14563469567101942, -109.75241358194458, -28.25650197518826, 0.0, 0.0, 0.0, 0.0), 'intercept': -106100.22163148221, 'rmse': 89.78519958426368}, 'change_probability': 0.0, 'swir1': {'magnitude': 0.0, 'coefficients': (0.30473670551983006, -106.63599002302041, -24.940180903404997, 0.0, 0.0, 0.0, 0.0), 'intercept': -223169.57115882813, 'rmse': 51.43875065159092}, 'observation_count': 14, 'green': {'magnitude': 0.0, 'coefficients': (0.11498225027334018, -65.41152013741613, -61.17844478238115, 0.0, 0.0, 0.0, 0.0), 'intercept': -83830.95037990919, 'rmse': 65.24971476286211}, 'break_day': 736476, 'start_day': 735708, 'blue': {'magnitude': 0.0, 'coefficients': (0.1372001061756059, -41.77550202847631, -44.234216246338185, 0.0, 0.0, 0.0, 0.0), 'intercept': -100367.03512012959, 'rmse': 60.12617214857293}, 'swir2': {'magnitude': 0.0, 'coefficients': (0.2859585122184587, -91.00657946694427, -23.23547556373325, 0.0, 0.0, 0.0, 0.0), 'intercept': -209452.0502546443, 'rmse': 49.175653284847044}, 'end_day': 736476, 'thermal': {'magnitude': 0.0, 'coefficients': (0.0, 0.0, 0.0, 0.0, 0.0, 0.0, 0.0), 'intercept': 0.0, 'rmse': 0.0}}]}\n"
     ]
    }
   ],
   "source": [
    "for x in range(0,50):\n",
    "    print(x)\n",
    "    x=x\n",
    "    y=x\n",
    "    get_color_params(x,y)"
   ]
  },
  {
   "cell_type": "code",
   "execution_count": 26,
   "metadata": {},
   "outputs": [
    {
     "ename": "NameError",
     "evalue": "name 'params' is not defined",
     "output_type": "error",
     "traceback": [
      "\u001b[0;31m---------------------------------------------------------------------------\u001b[0m",
      "\u001b[0;31mNameError\u001b[0m                                 Traceback (most recent call last)",
      "\u001b[0;32m<ipython-input-26-ff74530413e7>\u001b[0m in \u001b[0;36m<module>\u001b[0;34m()\u001b[0m\n\u001b[1;32m      1\u001b[0m \u001b[0;32mimport\u001b[0m \u001b[0mccd\u001b[0m\u001b[0;34m\u001b[0m\u001b[0m\n\u001b[0;32m----> 2\u001b[0;31m \u001b[0mmystery_object\u001b[0m \u001b[0;34m=\u001b[0m \u001b[0mccd\u001b[0m\u001b[0;34m.\u001b[0m\u001b[0mdetect\u001b[0m\u001b[0;34m(\u001b[0m\u001b[0;34m*\u001b[0m\u001b[0mparams\u001b[0m\u001b[0;34m)\u001b[0m\u001b[0;34m\u001b[0m\u001b[0m\n\u001b[0m\u001b[1;32m      3\u001b[0m \u001b[0;34m\u001b[0m\u001b[0m\n\u001b[1;32m      4\u001b[0m \u001b[0mtype\u001b[0m \u001b[0;34m(\u001b[0m\u001b[0mmystery_object\u001b[0m\u001b[0;34m)\u001b[0m\u001b[0;34m\u001b[0m\u001b[0m\n\u001b[1;32m      5\u001b[0m \u001b[0mmystery_object\u001b[0m\u001b[0;34m\u001b[0m\u001b[0m\n",
      "\u001b[0;31mNameError\u001b[0m: name 'params' is not defined"
     ]
    }
   ],
   "source": [
    "import ccd\n",
    "mystery_object = ccd.detect(*params)\n",
    "\n",
    "type (mystery_object)\n",
    "mystery_object"
   ]
  },
  {
   "cell_type": "code",
   "execution_count": null,
   "metadata": {},
   "outputs": [],
   "source": [
    "dir (landsat_dataset)"
   ]
  },
  {
   "cell_type": "code",
   "execution_count": null,
   "metadata": {},
   "outputs": [],
   "source": [
    "print(landsat_dataset.dims)\n",
    "dim_dict = landsat_dataset.dims\n",
    "\n",
    "mem_usage = dim_dict['x'] * dim_dict['y'] * dim_dict['time']\n",
    "\n",
    "nbands = 7\n",
    "bytes_per_int = 2\n",
    "mem_usage = mem_usage * nbands * bytes_per_int\n",
    "\n",
    "mb_mem_usage = mem_usage / (1024*1024)\n",
    "\n",
    "print (\"THIS NOTEBOOK uses megabytes =\", mb_mem_usage)"
   ]
  },
  {
   "cell_type": "markdown",
   "metadata": {},
   "source": [
    "# PyCCD"
   ]
  },
  {
   "cell_type": "markdown",
   "metadata": {},
   "source": [
    ">### Import Library  \n",
    "The library exposes three functions: `process_xarray`, `process_pixel`, `plot_pixel`  "
   ]
  },
  {
   "cell_type": "code",
   "execution_count": null,
   "metadata": {},
   "outputs": [],
   "source": [
    "import utils.dc_ccd2 as dc_ccd\n",
    "\n",
    "# import imp\n",
    "# imp.reload(ccd)\n"
   ]
  },
  {
   "cell_type": "markdown",
   "metadata": {},
   "source": [
    "> ### Timed Calculation of change volume  \n"
   ]
  },
  {
   "cell_type": "code",
   "execution_count": null,
   "metadata": {
    "scrolled": true
   },
   "outputs": [],
   "source": [
    "%time ccd_product = dc_ccd.process_xarray(landsat_dataset, distributed = True) #Run process xarray on large dataset"
   ]
  },
  {
   "cell_type": "markdown",
   "metadata": {},
   "source": [
    "> ## Plotting change volume  \n",
    "> Plot change volume to identify regions/areas of change"
   ]
  },
  {
   "cell_type": "code",
   "execution_count": null,
   "metadata": {},
   "outputs": [],
   "source": [
    "def figure_ratio(ds, fixed_width = 22):\n",
    "    width = fixed_width\n",
    "    height = len(ds.latitude) * (fixed_width / len(ds.longitude))\n",
    "    return (width, height)"
   ]
  },
  {
   "cell_type": "code",
   "execution_count": null,
   "metadata": {},
   "outputs": [],
   "source": [
    "import  matplotlib.pyplot as plt  \n",
    "\n",
    "plt.figure(figsize = figure_ratio(ccd_product))\n",
    "ccd_product.plot()\n",
    "plt.axes().set_aspect(\"equal\")"
   ]
  },
  {
   "cell_type": "markdown",
   "metadata": {},
   "source": [
    "## Time of first changes"
   ]
  },
  {
   "cell_type": "code",
   "execution_count": null,
   "metadata": {},
   "outputs": [],
   "source": [
    "%time time_map_ccd_product = ccd.process_xarray(landsat_dataset, distributed = True, process = \"first\") #Run process xarray on large dataset"
   ]
  },
  {
   "cell_type": "markdown",
   "metadata": {},
   "source": [
    "### Plot Detection Dates"
   ]
  },
  {
   "cell_type": "code",
   "execution_count": null,
   "metadata": {},
   "outputs": [],
   "source": [
    "import datetime\n",
    "import matplotlib.pyplot as plt \n",
    "from matplotlib.ticker import FuncFormatter\n",
    "\n",
    "plt.figure(figsize = figure_ratio(time_map_ccd_product))\n",
    "epochFormatter = FuncFormatter(lambda x, pos: datetime.datetime.utcfromtimestamp(x).strftime('%Y-%m-%d'))\n",
    "time_map_ccd_product.plot(cmap = \"magma\", cbar_kwargs=({'format': epochFormatter}))\n",
    "plt.axes().set_aspect(\"equal\")\n"
   ]
  },
  {
   "cell_type": "markdown",
   "metadata": {},
   "source": [
    "<br>  "
   ]
  },
  {
   "cell_type": "markdown",
   "metadata": {},
   "source": [
    "# Validating Change"
   ]
  },
  {
   "cell_type": "markdown",
   "metadata": {},
   "source": [
    "> ### Imagery from earlier acquisitions  \n",
    "> Change starts with landcover before...    "
   ]
  },
  {
   "cell_type": "code",
   "execution_count": null,
   "metadata": {},
   "outputs": [],
   "source": [
    "from dc_notebook_utilities import rgb\n",
    "print( landsat_dataset.time.values[1] )\n",
    "rgb(landsat_dataset, at_index = 0)"
   ]
  },
  {
   "cell_type": "markdown",
   "metadata": {},
   "source": [
    "> ### Imagery from later acquisitions  \n",
    "> ... and is revealed when compared to landcover after.  "
   ]
  },
  {
   "cell_type": "code",
   "execution_count": null,
   "metadata": {},
   "outputs": [],
   "source": [
    "print( landsat_dataset.time.values[130] )\n",
    "rgb(landsat_dataset, at_index = 130)"
   ]
  },
  {
   "cell_type": "markdown",
   "metadata": {},
   "source": [
    "\n",
    "<br>\n",
    "<br>\n",
    "<br>\n",
    "\n",
    "># Change within a selected Pixel"
   ]
  },
  {
   "cell_type": "markdown",
   "metadata": {},
   "source": [
    "<br>\n",
    "> ### Define Pixel Lat and Lon"
   ]
  },
  {
   "cell_type": "code",
   "execution_count": null,
   "metadata": {},
   "outputs": [],
   "source": [
    "## Bangladesh \n",
    "pixel_latitude = 25.228928\n",
    "pixel_longitude  = 90.035790\n",
    "\n",
    "## Colombia  \n",
    "pixel_latitude = 1.3282\n",
    "pixel_longitude  = -74.8549  "
   ]
  },
  {
   "cell_type": "markdown",
   "metadata": {},
   "source": [
    "> ### Select a Pixel from dataset"
   ]
  },
  {
   "cell_type": "code",
   "execution_count": null,
   "metadata": {},
   "outputs": [],
   "source": [
    "target_pixel = landsat_dataset.sel(latitude = pixel_latitude, longitude = pixel_longitude, method = \"nearest\")"
   ]
  },
  {
   "cell_type": "code",
   "execution_count": null,
   "metadata": {},
   "outputs": [],
   "source": [
    "processed_pixel = ccd.process_pixel(target_pixel)"
   ]
  },
  {
   "cell_type": "markdown",
   "metadata": {},
   "source": [
    "<br>"
   ]
  },
  {
   "cell_type": "markdown",
   "metadata": {},
   "source": [
    "> ### Plot time series models  "
   ]
  },
  {
   "cell_type": "code",
   "execution_count": null,
   "metadata": {},
   "outputs": [],
   "source": [
    "ccd.plot_pixel(processed_pixel)"
   ]
  },
  {
   "cell_type": "markdown",
   "metadata": {},
   "source": [
    "> ### Plotting Residuals "
   ]
  },
  {
   "cell_type": "code",
   "execution_count": null,
   "metadata": {},
   "outputs": [],
   "source": [
    "from functools import partial\n",
    "from datetime import datetime, timedelta\n",
    "from scipy.spatial.distance import euclidean  \n",
    "\n",
    "def _clean_pixel(_ds, saturation_threshold=10000):\n",
    "    \"\"\"Filters out over-saturated values\n",
    "\n",
    "    Creates a mask from the saturation threshold and > 0 and applies it to _ds.\n",
    "\n",
    "    Args:\n",
    "        _ds: dataset to mask\n",
    "        saturation_threshold: threshold that a pixel must be below to be considered 'clean'\n",
    "\n",
    "    Returns:\n",
    "        an xArray dataset that has been masked for saturation and valid (>0) pixels\n",
    "    \"\"\"\n",
    "    ds = _ds\n",
    "    mask = (ds < saturation_threshold) & (ds >= 0)\n",
    "    indices = [x for x, y in enumerate(mask.red.values) if y == True]\n",
    "    return ds.isel(time=indices)\n",
    "\n",
    "\n",
    "def _n64_to_datetime(n64):\n",
    "    \"\"\"Convert Numpy 64 bit timestamps to datetime objects. Units in seconds\"\"\"\n",
    "    return datetime.utcfromtimestamp(n64.tolist() / 1e9)\n",
    "\n",
    "def n64_to_ordinal(n64):\n",
    "    dt = _n64_to_datetime(n64)\n",
    "    return dt.toordinal()\n",
    "\n",
    "def _plot_res(results=None, original_pixel=None, band=None, file_name=None):\n",
    "    \"\"\"Plots CCD residual for a given band. Accepts a 1x1xt xarray if a scatter-plot overlay of original acquisitions over the ccd results is needed.\"\"\"\n",
    "\n",
    "    fig = plt.figure(1, figsize =(20,5))\n",
    "    fig.suptitle(band.title() + \" Residual \", fontsize=18, verticalalignment='bottom')\n",
    "\n",
    "    lastdt = None\n",
    "\n",
    "    dateLabels = []\n",
    "\n",
    "    for change_model in results[\"change_models\"]:\n",
    "        ax1 = fig.add_subplot(111)\n",
    "        model = getattr(change_model, band)        \n",
    "        time = original_pixel.sel(time = slice(datetime.fromordinal(change_model.start_day),\n",
    "                                                datetime.fromordinal(change_model.end_day))\n",
    "                                  ).time.values        \n",
    "        ordinal_time = list(map(n64_to_ordinal , time))\n",
    "        actual    = original_pixel[band].values\n",
    "        \n",
    "        predicted = list(map(partial(ccd._lasso_eval,bias= model.intercept, weights = model.coefficients), ordinal_time))\n",
    "        residual  = list(map(lambda x: euclidean(x[0], x[1]), zip(actual, predicted)))\n",
    "                \n",
    "        x = time\n",
    "        y = residual\n",
    "\n",
    "        ax1.plot(x, y, label= model.coefficients)\n",
    "        \n",
    "        # Curve Fit Code  \n",
    "        polycoeffs = np.polyfit(ordinal_time,residual,5)\n",
    "\n",
    "        f = np.poly1d(polycoeffs)\n",
    "\n",
    "        x_new = np.linspace(ordinal_time[0], ordinal_time[-1], 50)\n",
    "        y_new = f(x_new)\n",
    "        ax1.plot(x_new, y_new, c = \"#333333\")\n",
    "        \n",
    "        # Draw Vertical Lines\n",
    "        dt = datetime.fromordinal(change_model.start_day)\n",
    "        dateLabels.append(dt)\n",
    "\n",
    "        if lastdt is not None:\n",
    "            ax1.axvspan(lastdt, dt, color=(0, 0, 0, 0.1))\n",
    "\n",
    "        dt = datetime.fromordinal(change_model.end_day)\n",
    "        dateLabels.append(dt)\n",
    "\n",
    "        lastdt = dt\n",
    "\n",
    "\n",
    "    ymin, ymax = ax1.get_ylim()\n",
    "    for idx, dt in enumerate(dateLabels):\n",
    "        plt.axvline(x=dt, linestyle='dotted', color=(0, 0, 0, 0.5))\n",
    "        # Top, inside\n",
    "        plt.text(\n",
    "            dt,\n",
    "            ymax,\n",
    "            \"\\n\" +  # HACK TO FIX SPACING\n",
    "            dt.strftime('%b %d') + \"  \\n\"  # HACK TO FIX SPACING\n",
    "            ,\n",
    "            rotation=90,\n",
    "            horizontalalignment='right' if (idx % 2) else 'left',\n",
    "            verticalalignment='top')\n",
    "\n",
    "    plt.tight_layout()\n",
    "\n",
    "    if file_name is not None:\n",
    "        _save_plot_to_file(plot=plt, file=filename, band_name=band)\n",
    "    plt.show()\n"
   ]
  },
  {
   "cell_type": "markdown",
   "metadata": {},
   "source": [
    "<br>  \n",
    "> ### Remove points that don't have a `clear` designation on `pixel_qa`"
   ]
  },
  {
   "cell_type": "code",
   "execution_count": null,
   "metadata": {},
   "outputs": [],
   "source": [
    "clear_pixel = processed_pixel.where(processed_pixel.pixel_qa == 66, drop = True)"
   ]
  },
  {
   "cell_type": "markdown",
   "metadata": {},
   "source": [
    "> ### Run Residual Plotting on a pixel with clear values  "
   ]
  },
  {
   "cell_type": "code",
   "execution_count": null,
   "metadata": {},
   "outputs": [],
   "source": [
    "for band in ['red', 'green', 'blue', 'nir', 'swir1', 'swir2']:\n",
    "    _plot_res(results= clear_pixel.attrs['ccd_results'],\n",
    "              original_pixel=clear_pixel,\n",
    "              band=band,\n",
    "              file_name=None)"
   ]
  }
 ],
 "metadata": {
  "kernelspec": {
   "display_name": "Python 3",
   "language": "python",
   "name": "python3"
  },
  "language_info": {
   "codemirror_mode": {
    "name": "ipython",
    "version": 3
   },
   "file_extension": ".py",
   "mimetype": "text/x-python",
   "name": "python",
   "nbconvert_exporter": "python",
   "pygments_lexer": "ipython3",
   "version": "3.5.2"
  }
 },
 "nbformat": 4,
 "nbformat_minor": 2
}
