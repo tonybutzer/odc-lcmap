{
 "cells": [
  {
   "cell_type": "markdown",
   "metadata": {},
   "source": [
    "# Open Data Cube Demos\n",
    "## Intersection of these libraries/projects/concepts\n",
    "### Open Data Cube (ODC)\n",
    "### LCMAP (pyccd anyway)\n",
    "### Visualization of Complex Data Structures\n",
    "\n",
    "## Expected Outcomes\n",
    "1. Continue Refining the common context for\n",
    "    - leaders\n",
    "    - technologists\n",
    "    - developers\n",
    "    - architects\n",
    "    - etc.\n",
    "2. Intro to 2019 one year roadmap/plan/sprints for ODC Cloud Engineer == Tony\n",
    "3. Explore components in common between ODC and LCMAP (constrained by cloud vision)\n",
    "    - also L8 first; L5 for pyccd ?\n",
    "    - USARD tiles and chips\n",
    "    - unilateral approaches and limitations\n",
    "    - overhead and obstacles\n",
    "    - etc\n",
    "4. Fulfils committment to monthly (regular cadence) status reports"
   ]
  },
  {
   "cell_type": "markdown",
   "metadata": {},
   "source": [
    "![arch simple](../asset/app1.png)"
   ]
  },
  {
   "cell_type": "markdown",
   "metadata": {},
   "source": [
    "# ODC specific View\n",
    "\n",
    "![arch simple](../asset/appODC1.png)\n",
    "\n",
    "> If We have time...\n",
    "\n",
    "## We will deep dive into the \"metadata\", \"Dataset\" list/array/time-series\n",
    "\n",
    "### Building a datacube is hard!\n",
    "\n",
    "#### Once built it is a very powerful tool for data exploration and time series\n"
   ]
  },
  {
   "cell_type": "markdown",
   "metadata": {},
   "source": [
    "# Demo Agenda"
   ]
  },
  {
   "cell_type": "code",
   "execution_count": 1,
   "metadata": {},
   "outputs": [
    {
     "data": {
      "text/html": [
       "<script>requirejs.config({paths: { 'plotly': ['https://cdn.plot.ly/plotly-latest.min']},});if(!window.Plotly) {{require(['plotly'],function(plotly) {window.Plotly=plotly;});}}</script>"
      ],
      "text/vnd.plotly.v1+html": [
       "<script>requirejs.config({paths: { 'plotly': ['https://cdn.plot.ly/plotly-latest.min']},});if(!window.Plotly) {{require(['plotly'],function(plotly) {window.Plotly=plotly;});}}</script>"
      ]
     },
     "metadata": {},
     "output_type": "display_data"
    },
    {
     "data": {
      "application/vnd.plotly.v1+json": {
       "data": [
        {
         "marker": {
          "color": "white"
         },
         "name": "",
         "showlegend": false,
         "type": "scatter",
         "uid": "0ebf40e2-de87-11e8-a7a7-02738673ee84",
         "x": [
          "2018-11-05 10:50",
          "2018-11-05 10:59"
         ],
         "y": [
          0,
          0
         ]
        },
        {
         "marker": {
          "color": "white"
         },
         "name": "",
         "showlegend": false,
         "type": "scatter",
         "uid": "0ebf40e3-de87-11e8-a7a7-02738673ee84",
         "x": [
          "2018-11-05 10:40",
          "2018-11-05 10:50"
         ],
         "y": [
          1,
          1
         ]
        },
        {
         "marker": {
          "color": "white"
         },
         "name": "",
         "showlegend": false,
         "type": "scatter",
         "uid": "0ebf40e4-de87-11e8-a7a7-02738673ee84",
         "x": [
          "2018-11-05 10:30",
          "2018-11-05 10:40"
         ],
         "y": [
          2,
          2
         ]
        },
        {
         "marker": {
          "color": "white"
         },
         "name": "",
         "showlegend": false,
         "type": "scatter",
         "uid": "0ebf40e5-de87-11e8-a7a7-02738673ee84",
         "x": [
          "2018-11-05 10:20",
          "2018-11-05 10:30"
         ],
         "y": [
          3,
          3
         ]
        },
        {
         "marker": {
          "color": "white"
         },
         "name": "",
         "showlegend": false,
         "type": "scatter",
         "uid": "0ebf40e6-de87-11e8-a7a7-02738673ee84",
         "x": [
          "2018-11-05 10:10",
          "2018-11-05 10:20"
         ],
         "y": [
          4,
          4
         ]
        },
        {
         "marker": {
          "color": "white"
         },
         "name": "",
         "showlegend": false,
         "type": "scatter",
         "uid": "0ebf40e7-de87-11e8-a7a7-02738673ee84",
         "x": [
          "2018-11-05 10:02",
          "2018-11-05 10:10:00"
         ],
         "y": [
          5,
          5
         ]
        },
        {
         "hoverinfo": "none",
         "marker": {
          "color": "rgb(198, 47, 105)",
          "size": 1
         },
         "name": "Map",
         "showlegend": true,
         "type": "scatter",
         "uid": "0ebf40e8-de87-11e8-a7a7-02738673ee84",
         "x": [
          "2018-11-05 10:02",
          "2018-11-05 10:02"
         ],
         "y": [
          0,
          0
         ]
        },
        {
         "hoverinfo": "none",
         "marker": {
          "color": "rgb(107, 127, 135)",
          "size": 1
         },
         "name": "ODC",
         "showlegend": true,
         "type": "scatter",
         "uid": "0ebf40e9-de87-11e8-a7a7-02738673ee84",
         "x": [
          "2018-11-05 10:02",
          "2018-11-05 10:02"
         ],
         "y": [
          1,
          1
         ]
        },
        {
         "hoverinfo": "none",
         "marker": {
          "color": "rgb(114, 44, 121)",
          "size": 1
         },
         "name": "Overview",
         "showlegend": true,
         "type": "scatter",
         "uid": "0ebf40ea-de87-11e8-a7a7-02738673ee84",
         "x": [
          "2018-11-05 10:02",
          "2018-11-05 10:02"
         ],
         "y": [
          2,
          2
         ]
        },
        {
         "hoverinfo": "none",
         "marker": {
          "color": "rgb(58, 149, 136)",
          "size": 1
         },
         "name": "PYCCD",
         "showlegend": true,
         "type": "scatter",
         "uid": "0ebf40eb-de87-11e8-a7a7-02738673ee84",
         "x": [
          "2018-11-05 10:02",
          "2018-11-05 10:02"
         ],
         "y": [
          3,
          3
         ]
        }
       ],
       "layout": {
        "height": 600,
        "hovermode": "closest",
        "shapes": [
         {
          "fillcolor": "rgb(114, 44, 121)",
          "line": {
           "width": 0
          },
          "opacity": 1,
          "type": "rect",
          "x0": "2018-11-05 10:50",
          "x1": "2018-11-05 10:59",
          "xref": "x",
          "y0": -0.3,
          "y1": 0.3,
          "yref": "y"
         },
         {
          "fillcolor": "rgb(107, 127, 135)",
          "line": {
           "width": 0
          },
          "opacity": 1,
          "type": "rect",
          "x0": "2018-11-05 10:40",
          "x1": "2018-11-05 10:50",
          "xref": "x",
          "y0": 0.7,
          "y1": 1.3,
          "yref": "y"
         },
         {
          "fillcolor": "rgb(58, 149, 136)",
          "line": {
           "width": 0
          },
          "opacity": 1,
          "type": "rect",
          "x0": "2018-11-05 10:30",
          "x1": "2018-11-05 10:40",
          "xref": "x",
          "y0": 1.7,
          "y1": 2.3,
          "yref": "y"
         },
         {
          "fillcolor": "rgb(107, 127, 135)",
          "line": {
           "width": 0
          },
          "opacity": 1,
          "type": "rect",
          "x0": "2018-11-05 10:20",
          "x1": "2018-11-05 10:30",
          "xref": "x",
          "y0": 2.7,
          "y1": 3.3,
          "yref": "y"
         },
         {
          "fillcolor": "rgb(198, 47, 105)",
          "line": {
           "width": 0
          },
          "opacity": 1,
          "type": "rect",
          "x0": "2018-11-05 10:10",
          "x1": "2018-11-05 10:20",
          "xref": "x",
          "y0": 3.7,
          "y1": 4.3,
          "yref": "y"
         },
         {
          "fillcolor": "rgb(114, 44, 121)",
          "line": {
           "width": 0
          },
          "opacity": 1,
          "type": "rect",
          "x0": "2018-11-05 10:02",
          "x1": "2018-11-05 10:10:00",
          "xref": "x",
          "y0": 4.7,
          "y1": 5.3,
          "yref": "y"
         }
        ],
        "showlegend": true,
        "title": "Demo Schedule",
        "width": 900,
        "xaxis": {
         "rangeselector": {
          "buttons": [
           {
            "count": 7,
            "label": "1w",
            "step": "day",
            "stepmode": "backward"
           },
           {
            "count": 1,
            "label": "1m",
            "step": "month",
            "stepmode": "backward"
           },
           {
            "count": 6,
            "label": "6m",
            "step": "month",
            "stepmode": "backward"
           },
           {
            "count": 1,
            "label": "YTD",
            "step": "year",
            "stepmode": "todate"
           },
           {
            "count": 1,
            "label": "1y",
            "step": "year",
            "stepmode": "backward"
           },
           {
            "step": "all"
           }
          ]
         },
         "showgrid": true,
         "type": "date",
         "zeroline": false
        },
        "yaxis": {
         "autorange": false,
         "range": [
          -1,
          7
         ],
         "showgrid": true,
         "ticktext": [
          "Next Steps",
          "pixel_qa",
          "Water detect",
          "NDVI Chip",
          "Folium Tile",
          "Introduction"
         ],
         "tickvals": [
          0,
          1,
          2,
          3,
          4,
          5
         ],
         "zeroline": false
        }
       }
      },
      "text/html": [
       "<div id=\"90b28cea-3a95-4c30-ba0c-a3d23f0983b4\" style=\"height: 600px; width: 900px;\" class=\"plotly-graph-div\"></div><script type=\"text/javascript\">require([\"plotly\"], function(Plotly) { window.PLOTLYENV=window.PLOTLYENV || {};window.PLOTLYENV.BASE_URL=\"https://plot.ly\";Plotly.newPlot(\"90b28cea-3a95-4c30-ba0c-a3d23f0983b4\", [{\"name\": \"\", \"uid\": \"0ebf40ec-de87-11e8-a7a7-02738673ee84\", \"marker\": {\"color\": \"white\"}, \"showlegend\": false, \"y\": [0, 0], \"x\": [\"2018-11-05 10:50\", \"2018-11-05 10:59\"], \"type\": \"scatter\"}, {\"name\": \"\", \"uid\": \"0ebf40ed-de87-11e8-a7a7-02738673ee84\", \"marker\": {\"color\": \"white\"}, \"showlegend\": false, \"y\": [1, 1], \"x\": [\"2018-11-05 10:40\", \"2018-11-05 10:50\"], \"type\": \"scatter\"}, {\"name\": \"\", \"uid\": \"0ebf40ee-de87-11e8-a7a7-02738673ee84\", \"marker\": {\"color\": \"white\"}, \"showlegend\": false, \"y\": [2, 2], \"x\": [\"2018-11-05 10:30\", \"2018-11-05 10:40\"], \"type\": \"scatter\"}, {\"name\": \"\", \"uid\": \"0ebf40ef-de87-11e8-a7a7-02738673ee84\", \"marker\": {\"color\": \"white\"}, \"showlegend\": false, \"y\": [3, 3], \"x\": [\"2018-11-05 10:20\", \"2018-11-05 10:30\"], \"type\": \"scatter\"}, {\"name\": \"\", \"uid\": \"0ebf40f0-de87-11e8-a7a7-02738673ee84\", \"marker\": {\"color\": \"white\"}, \"showlegend\": false, \"y\": [4, 4], \"x\": [\"2018-11-05 10:10\", \"2018-11-05 10:20\"], \"type\": \"scatter\"}, {\"name\": \"\", \"uid\": \"0ebf40f1-de87-11e8-a7a7-02738673ee84\", \"marker\": {\"color\": \"white\"}, \"showlegend\": false, \"y\": [5, 5], \"x\": [\"2018-11-05 10:02\", \"2018-11-05 10:10:00\"], \"type\": \"scatter\"}, {\"hoverinfo\": \"none\", \"name\": \"Map\", \"uid\": \"0ebf40f2-de87-11e8-a7a7-02738673ee84\", \"marker\": {\"color\": \"rgb(198, 47, 105)\", \"size\": 1}, \"showlegend\": true, \"y\": [0, 0], \"x\": [\"2018-11-05 10:02\", \"2018-11-05 10:02\"], \"type\": \"scatter\"}, {\"hoverinfo\": \"none\", \"name\": \"ODC\", \"uid\": \"0ebf40f3-de87-11e8-a7a7-02738673ee84\", \"marker\": {\"color\": \"rgb(107, 127, 135)\", \"size\": 1}, \"showlegend\": true, \"y\": [1, 1], \"x\": [\"2018-11-05 10:02\", \"2018-11-05 10:02\"], \"type\": \"scatter\"}, {\"hoverinfo\": \"none\", \"name\": \"Overview\", \"uid\": \"0ebf40f4-de87-11e8-a7a7-02738673ee84\", \"marker\": {\"color\": \"rgb(114, 44, 121)\", \"size\": 1}, \"showlegend\": true, \"y\": [2, 2], \"x\": [\"2018-11-05 10:02\", \"2018-11-05 10:02\"], \"type\": \"scatter\"}, {\"hoverinfo\": \"none\", \"name\": \"PYCCD\", \"uid\": \"0ebf40f5-de87-11e8-a7a7-02738673ee84\", \"marker\": {\"color\": \"rgb(58, 149, 136)\", \"size\": 1}, \"showlegend\": true, \"y\": [3, 3], \"x\": [\"2018-11-05 10:02\", \"2018-11-05 10:02\"], \"type\": \"scatter\"}], {\"shapes\": [{\"fillcolor\": \"rgb(114, 44, 121)\", \"x0\": \"2018-11-05 10:50\", \"yref\": \"y\", \"y0\": -0.3, \"x1\": \"2018-11-05 10:59\", \"y1\": 0.3, \"line\": {\"width\": 0}, \"opacity\": 1, \"xref\": \"x\", \"type\": \"rect\"}, {\"fillcolor\": \"rgb(107, 127, 135)\", \"x0\": \"2018-11-05 10:40\", \"yref\": \"y\", \"y0\": 0.7, \"x1\": \"2018-11-05 10:50\", \"y1\": 1.3, \"line\": {\"width\": 0}, \"opacity\": 1, \"xref\": \"x\", \"type\": \"rect\"}, {\"fillcolor\": \"rgb(58, 149, 136)\", \"x0\": \"2018-11-05 10:30\", \"yref\": \"y\", \"y0\": 1.7, \"x1\": \"2018-11-05 10:40\", \"y1\": 2.3, \"line\": {\"width\": 0}, \"opacity\": 1, \"xref\": \"x\", \"type\": \"rect\"}, {\"fillcolor\": \"rgb(107, 127, 135)\", \"x0\": \"2018-11-05 10:20\", \"yref\": \"y\", \"y0\": 2.7, \"x1\": \"2018-11-05 10:30\", \"y1\": 3.3, \"line\": {\"width\": 0}, \"opacity\": 1, \"xref\": \"x\", \"type\": \"rect\"}, {\"fillcolor\": \"rgb(198, 47, 105)\", \"x0\": \"2018-11-05 10:10\", \"yref\": \"y\", \"y0\": 3.7, \"x1\": \"2018-11-05 10:20\", \"y1\": 4.3, \"line\": {\"width\": 0}, \"opacity\": 1, \"xref\": \"x\", \"type\": \"rect\"}, {\"fillcolor\": \"rgb(114, 44, 121)\", \"x0\": \"2018-11-05 10:02\", \"yref\": \"y\", \"y0\": 4.7, \"x1\": \"2018-11-05 10:10:00\", \"y1\": 5.3, \"line\": {\"width\": 0}, \"opacity\": 1, \"xref\": \"x\", \"type\": \"rect\"}], \"hovermode\": \"closest\", \"xaxis\": {\"type\": \"date\", \"zeroline\": false, \"rangeselector\": {\"buttons\": [{\"stepmode\": \"backward\", \"label\": \"1w\", \"step\": \"day\", \"count\": 7}, {\"stepmode\": \"backward\", \"label\": \"1m\", \"step\": \"month\", \"count\": 1}, {\"stepmode\": \"backward\", \"label\": \"6m\", \"step\": \"month\", \"count\": 6}, {\"stepmode\": \"todate\", \"label\": \"YTD\", \"step\": \"year\", \"count\": 1}, {\"stepmode\": \"backward\", \"label\": \"1y\", \"step\": \"year\", \"count\": 1}, {\"step\": \"all\"}]}, \"showgrid\": true}, \"title\": \"Demo Schedule\", \"height\": 600, \"showlegend\": true, \"yaxis\": {\"autorange\": false, \"range\": [-1, 7], \"ticktext\": [\"Next Steps\", \"pixel_qa\", \"Water detect\", \"NDVI Chip\", \"Folium Tile\", \"Introduction\"], \"showgrid\": true, \"tickvals\": [0, 1, 2, 3, 4, 5], \"zeroline\": false}, \"width\": 900}, {\"linkText\": \"Export to plot.ly\", \"showLink\": false})});</script>"
      ],
      "text/vnd.plotly.v1+html": [
       "<div id=\"90b28cea-3a95-4c30-ba0c-a3d23f0983b4\" style=\"height: 600px; width: 900px;\" class=\"plotly-graph-div\"></div><script type=\"text/javascript\">require([\"plotly\"], function(Plotly) { window.PLOTLYENV=window.PLOTLYENV || {};window.PLOTLYENV.BASE_URL=\"https://plot.ly\";Plotly.newPlot(\"90b28cea-3a95-4c30-ba0c-a3d23f0983b4\", [{\"name\": \"\", \"uid\": \"0ebf40ec-de87-11e8-a7a7-02738673ee84\", \"marker\": {\"color\": \"white\"}, \"showlegend\": false, \"y\": [0, 0], \"x\": [\"2018-11-05 10:50\", \"2018-11-05 10:59\"], \"type\": \"scatter\"}, {\"name\": \"\", \"uid\": \"0ebf40ed-de87-11e8-a7a7-02738673ee84\", \"marker\": {\"color\": \"white\"}, \"showlegend\": false, \"y\": [1, 1], \"x\": [\"2018-11-05 10:40\", \"2018-11-05 10:50\"], \"type\": \"scatter\"}, {\"name\": \"\", \"uid\": \"0ebf40ee-de87-11e8-a7a7-02738673ee84\", \"marker\": {\"color\": \"white\"}, \"showlegend\": false, \"y\": [2, 2], \"x\": [\"2018-11-05 10:30\", \"2018-11-05 10:40\"], \"type\": \"scatter\"}, {\"name\": \"\", \"uid\": \"0ebf40ef-de87-11e8-a7a7-02738673ee84\", \"marker\": {\"color\": \"white\"}, \"showlegend\": false, \"y\": [3, 3], \"x\": [\"2018-11-05 10:20\", \"2018-11-05 10:30\"], \"type\": \"scatter\"}, {\"name\": \"\", \"uid\": \"0ebf40f0-de87-11e8-a7a7-02738673ee84\", \"marker\": {\"color\": \"white\"}, \"showlegend\": false, \"y\": [4, 4], \"x\": [\"2018-11-05 10:10\", \"2018-11-05 10:20\"], \"type\": \"scatter\"}, {\"name\": \"\", \"uid\": \"0ebf40f1-de87-11e8-a7a7-02738673ee84\", \"marker\": {\"color\": \"white\"}, \"showlegend\": false, \"y\": [5, 5], \"x\": [\"2018-11-05 10:02\", \"2018-11-05 10:10:00\"], \"type\": \"scatter\"}, {\"hoverinfo\": \"none\", \"name\": \"Map\", \"uid\": \"0ebf40f2-de87-11e8-a7a7-02738673ee84\", \"marker\": {\"color\": \"rgb(198, 47, 105)\", \"size\": 1}, \"showlegend\": true, \"y\": [0, 0], \"x\": [\"2018-11-05 10:02\", \"2018-11-05 10:02\"], \"type\": \"scatter\"}, {\"hoverinfo\": \"none\", \"name\": \"ODC\", \"uid\": \"0ebf40f3-de87-11e8-a7a7-02738673ee84\", \"marker\": {\"color\": \"rgb(107, 127, 135)\", \"size\": 1}, \"showlegend\": true, \"y\": [1, 1], \"x\": [\"2018-11-05 10:02\", \"2018-11-05 10:02\"], \"type\": \"scatter\"}, {\"hoverinfo\": \"none\", \"name\": \"Overview\", \"uid\": \"0ebf40f4-de87-11e8-a7a7-02738673ee84\", \"marker\": {\"color\": \"rgb(114, 44, 121)\", \"size\": 1}, \"showlegend\": true, \"y\": [2, 2], \"x\": [\"2018-11-05 10:02\", \"2018-11-05 10:02\"], \"type\": \"scatter\"}, {\"hoverinfo\": \"none\", \"name\": \"PYCCD\", \"uid\": \"0ebf40f5-de87-11e8-a7a7-02738673ee84\", \"marker\": {\"color\": \"rgb(58, 149, 136)\", \"size\": 1}, \"showlegend\": true, \"y\": [3, 3], \"x\": [\"2018-11-05 10:02\", \"2018-11-05 10:02\"], \"type\": \"scatter\"}], {\"shapes\": [{\"fillcolor\": \"rgb(114, 44, 121)\", \"x0\": \"2018-11-05 10:50\", \"yref\": \"y\", \"y0\": -0.3, \"x1\": \"2018-11-05 10:59\", \"y1\": 0.3, \"line\": {\"width\": 0}, \"opacity\": 1, \"xref\": \"x\", \"type\": \"rect\"}, {\"fillcolor\": \"rgb(107, 127, 135)\", \"x0\": \"2018-11-05 10:40\", \"yref\": \"y\", \"y0\": 0.7, \"x1\": \"2018-11-05 10:50\", \"y1\": 1.3, \"line\": {\"width\": 0}, \"opacity\": 1, \"xref\": \"x\", \"type\": \"rect\"}, {\"fillcolor\": \"rgb(58, 149, 136)\", \"x0\": \"2018-11-05 10:30\", \"yref\": \"y\", \"y0\": 1.7, \"x1\": \"2018-11-05 10:40\", \"y1\": 2.3, \"line\": {\"width\": 0}, \"opacity\": 1, \"xref\": \"x\", \"type\": \"rect\"}, {\"fillcolor\": \"rgb(107, 127, 135)\", \"x0\": \"2018-11-05 10:20\", \"yref\": \"y\", \"y0\": 2.7, \"x1\": \"2018-11-05 10:30\", \"y1\": 3.3, \"line\": {\"width\": 0}, \"opacity\": 1, \"xref\": \"x\", \"type\": \"rect\"}, {\"fillcolor\": \"rgb(198, 47, 105)\", \"x0\": \"2018-11-05 10:10\", \"yref\": \"y\", \"y0\": 3.7, \"x1\": \"2018-11-05 10:20\", \"y1\": 4.3, \"line\": {\"width\": 0}, \"opacity\": 1, \"xref\": \"x\", \"type\": \"rect\"}, {\"fillcolor\": \"rgb(114, 44, 121)\", \"x0\": \"2018-11-05 10:02\", \"yref\": \"y\", \"y0\": 4.7, \"x1\": \"2018-11-05 10:10:00\", \"y1\": 5.3, \"line\": {\"width\": 0}, \"opacity\": 1, \"xref\": \"x\", \"type\": \"rect\"}], \"hovermode\": \"closest\", \"xaxis\": {\"type\": \"date\", \"zeroline\": false, \"rangeselector\": {\"buttons\": [{\"stepmode\": \"backward\", \"label\": \"1w\", \"step\": \"day\", \"count\": 7}, {\"stepmode\": \"backward\", \"label\": \"1m\", \"step\": \"month\", \"count\": 1}, {\"stepmode\": \"backward\", \"label\": \"6m\", \"step\": \"month\", \"count\": 6}, {\"stepmode\": \"todate\", \"label\": \"YTD\", \"step\": \"year\", \"count\": 1}, {\"stepmode\": \"backward\", \"label\": \"1y\", \"step\": \"year\", \"count\": 1}, {\"step\": \"all\"}]}, \"showgrid\": true}, \"title\": \"Demo Schedule\", \"height\": 600, \"showlegend\": true, \"yaxis\": {\"autorange\": false, \"range\": [-1, 7], \"ticktext\": [\"Next Steps\", \"pixel_qa\", \"Water detect\", \"NDVI Chip\", \"Folium Tile\", \"Introduction\"], \"showgrid\": true, \"tickvals\": [0, 1, 2, 3, 4, 5], \"zeroline\": false}, \"width\": 900}, {\"linkText\": \"Export to plot.ly\", \"showLink\": false})});</script>"
      ]
     },
     "metadata": {},
     "output_type": "display_data"
    }
   ],
   "source": [
    "import plotly.plotly as py\n",
    "import plotly.figure_factory as ff\n",
    "import plotly.offline as py\n",
    "\n",
    "py.init_notebook_mode(connected=True)\n",
    "\n",
    "\n",
    "df = [\n",
    "   \n",
    "    \n",
    "    dict(Task='Next Steps', Start='2018-11-05 10:50', Finish='2018-11-05 10:59', Resource='Overview'),\n",
    "    dict(Task='pixel_qa', Start='2018-11-05 10:40', Finish='2018-11-05 10:50', Resource='ODC'),\n",
    "    dict(Task='Water detect', Start='2018-11-05 10:30', Finish='2018-11-05 10:40', Resource='PYCCD'),\n",
    "    dict(Task='NDVI Chip', Start='2018-11-05 10:20', Finish='2018-11-05 10:30', Resource='ODC'),\n",
    "    dict(Task='Folium Tile', Start='2018-11-05 10:10', Finish='2018-11-05 10:20', Resource='Map'),\n",
    "    dict(Task='Introduction', Start='2018-11-05 10:02', Finish='2018-11-05 10:10:00', Resource='Overview')\n",
    "]\n",
    "\n",
    "colors = dict(Strategy = 'rgb(46, 137, 205)',\n",
    "              Overview = 'rgb(114, 44, 121)',\n",
    "              Map = 'rgb(198, 47, 105)',\n",
    "              PYCCD = 'rgb(58, 149, 136)',\n",
    "              ODC = 'rgb(107, 127, 135)')\n",
    "\n",
    "fig = ff.create_gantt(df, colors=colors, index_col='Resource', title='Demo Schedule',\n",
    "                      show_colorbar=True, bar_width=0.3, showgrid_x=True, showgrid_y=True)\n",
    "py.iplot(fig, show_link=False)\n"
   ]
  },
  {
   "cell_type": "markdown",
   "metadata": {},
   "source": [
    "# Time Permitting - deep dive into Dataset lists"
   ]
  },
  {
   "cell_type": "markdown",
   "metadata": {},
   "source": [
    "![infrastructure overview](../asset/jeffBridenDemo.png)"
   ]
  },
  {
   "cell_type": "markdown",
   "metadata": {},
   "source": [
    "# Next Steps\n",
    "\n",
    "1. Mexico - espaDog\n",
    "    - espa1 - path 40 row 37\n",
    "2. add thermal bands for l8 l7 l5 etc\n",
    "3. manage monthly sprints\n",
    "4. maybe move to SGT AWS or CHA\n",
    "5. ODC as a service \n",
    "6. lcmap deep dive using on-prem equipment\n",
    "    - kelsy notebook reviews\n",
    "    - tapTool testing\n",
    "    "
   ]
  },
  {
   "cell_type": "markdown",
   "metadata": {},
   "source": [
    "# Links dashboard in the cloud\n",
    "\n",
    "\n",
    "http://ec2-52-201-154-0.compute-1.amazonaws.com/data_cube_manager/dataset_types/23/datasets"
   ]
  },
  {
   "cell_type": "markdown",
   "metadata": {},
   "source": [
    "# Raster Products\n",
    "\n",
    "![raster products](../asset/l2-lcmap-raster-products.png)"
   ]
  },
  {
   "cell_type": "markdown",
   "metadata": {},
   "source": [
    "# LCMAP Graphics\n",
    "\n",
    "![graphics](../asset/l1-lcmap-graphics.png)"
   ]
  },
  {
   "cell_type": "code",
   "execution_count": 1,
   "metadata": {},
   "outputs": [
    {
     "name": "stdout",
     "output_type": "stream",
     "text": [
      "app1.png\t       focused-diffuse-mode.png  l2-lcmap-raster-products.png\r\n",
      "appODC1.png\t       jeffBridenDemo.png\t lcmap_cubes.png\r\n",
      "change_model_save.png  l1-lcmap-graphics.png\t pyccd_model_start.png\r\n"
     ]
    }
   ],
   "source": [
    "! ls ../asset"
   ]
  },
  {
   "cell_type": "markdown",
   "metadata": {},
   "source": [
    "# LCMAP cubes\n",
    "\n",
    "![graphics](../asset/lcmap_cubes.png)"
   ]
  },
  {
   "cell_type": "code",
   "execution_count": null,
   "metadata": {},
   "outputs": [],
   "source": []
  }
 ],
 "metadata": {
  "kernelspec": {
   "display_name": "Python 3",
   "language": "python",
   "name": "python3"
  },
  "language_info": {
   "codemirror_mode": {
    "name": "ipython",
    "version": 3
   },
   "file_extension": ".py",
   "mimetype": "text/x-python",
   "name": "python",
   "nbconvert_exporter": "python",
   "pygments_lexer": "ipython3",
   "version": "3.5.2"
  }
 },
 "nbformat": 4,
 "nbformat_minor": 2
}
