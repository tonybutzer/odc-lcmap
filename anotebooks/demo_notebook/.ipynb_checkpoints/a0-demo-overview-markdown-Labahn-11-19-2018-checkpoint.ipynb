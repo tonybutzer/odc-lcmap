{
 "cells": [
  {
   "cell_type": "markdown",
   "metadata": {},
   "source": [
    "# Open Data Cube Demos\n",
    "## Intersection of these libraries/projects/concepts\n",
    "### Open Data Cube (ODC)\n",
    "### LCMAP (pyccd anyway)\n",
    "#### Coordination with Jeff Briden\n",
    "1. **Important** Takeaways from ODC demos of pyccd\n",
    "- xarray is not ODC\n",
    "- rasterio and gdal are not ODC\n",
    "- these libraries allong with many others are leveraged by ODC\n",
    "2. ODC in the cloud\n",
    "- looks to be a great tool for ad-hoc science\n",
    "- production pipelines will require some optimizing and streamlining\n",
    "\n",
    "### Visualization of Complex Data Structures\n",
    "\n",
    "## Expected Outcomes\n",
    "1. Continue Refining the **common context** for\n",
    "    - leaders, technologists, developers, architects\n",
    "\n",
    "---\n",
    "2. Intro to 2019 one year roadmap/plan/sprints for ODC Cloud Engineer == Tony\n",
    "http://ga-odc-eros-archive-west.s3.amazonaws.com/temp-plot.html\n",
    "3. Explore components in common between ODC and LCMAP (constrained by cloud vision)\n",
    "    - also L8 first; L5 for pyccd ?\n",
    "    - USARD tiles and chips\n",
    "    - unilateral approaches and limitations\n",
    "    - overhead and obstacles\n",
    "    - etc\n",
    "4. Fulfils committment to monthly (regular cadence) status reports"
   ]
  },
  {
   "cell_type": "markdown",
   "metadata": {},
   "source": [
    "![arch simple](../asset/app1.png)"
   ]
  },
  {
   "cell_type": "markdown",
   "metadata": {},
   "source": [
    "# ODC specific View\n",
    "\n",
    "![arch simple](../asset/appODC1.png)\n",
    "\n",
    "> If We have time...\n",
    "\n",
    "## We will deep dive into the \"metadata\", \"Dataset\" list/array/time-series\n",
    "\n",
    "### Building a datacube is hard!\n",
    "\n",
    "#### Once built it is a very powerful tool for data exploration and time series\n"
   ]
  },
  {
   "cell_type": "markdown",
   "metadata": {},
   "source": [
    "# Demo Agenda"
   ]
  },
  {
   "cell_type": "code",
   "execution_count": 1,
   "metadata": {},
   "outputs": [
    {
     "data": {
      "text/html": [
       "<script type=\"text/javascript\">window.PlotlyConfig = {MathJaxConfig: 'local'};</script><script type=\"text/javascript\">if (window.MathJax) {MathJax.Hub.Config({SVG: {font: \"STIX-Web\"}});}</script><script>requirejs.config({paths: { 'plotly': ['https://cdn.plot.ly/plotly-latest.min']},});if(!window._Plotly) {require(['plotly'],function(plotly) {window._Plotly=plotly;});}</script>"
      ],
      "text/vnd.plotly.v1+html": [
       "<script type=\"text/javascript\">window.PlotlyConfig = {MathJaxConfig: 'local'};</script><script type=\"text/javascript\">if (window.MathJax) {MathJax.Hub.Config({SVG: {font: \"STIX-Web\"}});}</script><script>requirejs.config({paths: { 'plotly': ['https://cdn.plot.ly/plotly-latest.min']},});if(!window._Plotly) {require(['plotly'],function(plotly) {window._Plotly=plotly;});}</script>"
      ]
     },
     "metadata": {},
     "output_type": "display_data"
    },
    {
     "data": {
      "application/vnd.plotly.v1+json": {
       "data": [
        {
         "marker": {
          "color": "white"
         },
         "name": "",
         "showlegend": false,
         "type": "scatter",
         "uid": "ab029289-2f52-4e4c-93f1-eda1778e1d8d",
         "x": [
          "2018-11-05 10:50",
          "2018-11-05 10:59"
         ],
         "y": [
          0,
          0
         ]
        },
        {
         "marker": {
          "color": "white"
         },
         "name": "",
         "showlegend": false,
         "type": "scatter",
         "uid": "8706e6e4-3be9-4b70-8162-573c2dfd9a26",
         "x": [
          "2018-11-05 10:40",
          "2018-11-05 10:50"
         ],
         "y": [
          1,
          1
         ]
        },
        {
         "marker": {
          "color": "white"
         },
         "name": "",
         "showlegend": false,
         "type": "scatter",
         "uid": "71f55223-9bfa-4b12-be49-78a98bd31a15",
         "x": [
          "2018-11-05 10:30",
          "2018-11-05 10:40"
         ],
         "y": [
          2,
          2
         ]
        },
        {
         "marker": {
          "color": "white"
         },
         "name": "",
         "showlegend": false,
         "type": "scatter",
         "uid": "0258f2ae-20fb-4f04-8f9e-0175137cc40a",
         "x": [
          "2018-11-05 10:20",
          "2018-11-05 10:30"
         ],
         "y": [
          3,
          3
         ]
        },
        {
         "marker": {
          "color": "white"
         },
         "name": "",
         "showlegend": false,
         "type": "scatter",
         "uid": "39278a7a-5ec9-42e6-a690-456ff2282111",
         "x": [
          "2018-11-05 10:10",
          "2018-11-05 10:20"
         ],
         "y": [
          4,
          4
         ]
        },
        {
         "marker": {
          "color": "white"
         },
         "name": "",
         "showlegend": false,
         "type": "scatter",
         "uid": "3dad3ef0-d110-4c5f-96cd-24f3a15dbb73",
         "x": [
          "2018-11-05 10:02",
          "2018-11-05 10:10:00"
         ],
         "y": [
          5,
          5
         ]
        },
        {
         "hoverinfo": "none",
         "marker": {
          "color": "rgb(198, 47, 105)",
          "size": 1
         },
         "name": "Map",
         "showlegend": true,
         "type": "scatter",
         "uid": "b9fbad0c-e02f-4b2a-93cb-28373536200a",
         "x": [
          "2018-11-05 10:02",
          "2018-11-05 10:02"
         ],
         "y": [
          0,
          0
         ]
        },
        {
         "hoverinfo": "none",
         "marker": {
          "color": "rgb(107, 127, 135)",
          "size": 1
         },
         "name": "ODC",
         "showlegend": true,
         "type": "scatter",
         "uid": "58e36936-e852-407f-a1ba-7603d4daea6a",
         "x": [
          "2018-11-05 10:02",
          "2018-11-05 10:02"
         ],
         "y": [
          1,
          1
         ]
        },
        {
         "hoverinfo": "none",
         "marker": {
          "color": "rgb(114, 44, 121)",
          "size": 1
         },
         "name": "Overview",
         "showlegend": true,
         "type": "scatter",
         "uid": "36f879dd-15f5-4d49-a50b-0ac4f4b2e3c2",
         "x": [
          "2018-11-05 10:02",
          "2018-11-05 10:02"
         ],
         "y": [
          2,
          2
         ]
        },
        {
         "hoverinfo": "none",
         "marker": {
          "color": "rgb(58, 149, 136)",
          "size": 1
         },
         "name": "PYCCD",
         "showlegend": true,
         "type": "scatter",
         "uid": "d9be832d-bb74-442a-ae31-05ee3ffb7c23",
         "x": [
          "2018-11-05 10:02",
          "2018-11-05 10:02"
         ],
         "y": [
          3,
          3
         ]
        }
       ],
       "layout": {
        "height": 600,
        "hovermode": "closest",
        "shapes": [
         {
          "fillcolor": "rgb(114, 44, 121)",
          "line": {
           "width": 0
          },
          "opacity": 1,
          "type": "rect",
          "x0": "2018-11-05 10:50",
          "x1": "2018-11-05 10:59",
          "xref": "x",
          "y0": -0.3,
          "y1": 0.3,
          "yref": "y"
         },
         {
          "fillcolor": "rgb(107, 127, 135)",
          "line": {
           "width": 0
          },
          "opacity": 1,
          "type": "rect",
          "x0": "2018-11-05 10:40",
          "x1": "2018-11-05 10:50",
          "xref": "x",
          "y0": 0.7,
          "y1": 1.3,
          "yref": "y"
         },
         {
          "fillcolor": "rgb(58, 149, 136)",
          "line": {
           "width": 0
          },
          "opacity": 1,
          "type": "rect",
          "x0": "2018-11-05 10:30",
          "x1": "2018-11-05 10:40",
          "xref": "x",
          "y0": 1.7,
          "y1": 2.3,
          "yref": "y"
         },
         {
          "fillcolor": "rgb(107, 127, 135)",
          "line": {
           "width": 0
          },
          "opacity": 1,
          "type": "rect",
          "x0": "2018-11-05 10:20",
          "x1": "2018-11-05 10:30",
          "xref": "x",
          "y0": 2.7,
          "y1": 3.3,
          "yref": "y"
         },
         {
          "fillcolor": "rgb(198, 47, 105)",
          "line": {
           "width": 0
          },
          "opacity": 1,
          "type": "rect",
          "x0": "2018-11-05 10:10",
          "x1": "2018-11-05 10:20",
          "xref": "x",
          "y0": 3.7,
          "y1": 4.3,
          "yref": "y"
         },
         {
          "fillcolor": "rgb(114, 44, 121)",
          "line": {
           "width": 0
          },
          "opacity": 1,
          "type": "rect",
          "x0": "2018-11-05 10:02",
          "x1": "2018-11-05 10:10:00",
          "xref": "x",
          "y0": 4.7,
          "y1": 5.3,
          "yref": "y"
         }
        ],
        "showlegend": true,
        "title": "Demo Schedule",
        "width": 900,
        "xaxis": {
         "rangeselector": {
          "buttons": [
           {
            "count": 7,
            "label": "1w",
            "step": "day",
            "stepmode": "backward"
           },
           {
            "count": 1,
            "label": "1m",
            "step": "month",
            "stepmode": "backward"
           },
           {
            "count": 6,
            "label": "6m",
            "step": "month",
            "stepmode": "backward"
           },
           {
            "count": 1,
            "label": "YTD",
            "step": "year",
            "stepmode": "todate"
           },
           {
            "count": 1,
            "label": "1y",
            "step": "year",
            "stepmode": "backward"
           },
           {
            "step": "all"
           }
          ]
         },
         "showgrid": true,
         "type": "date",
         "zeroline": false
        },
        "yaxis": {
         "autorange": false,
         "range": [
          -1,
          7
         ],
         "showgrid": true,
         "ticktext": [
          "Next Steps",
          "merlin",
          "Therms",
          "Map Reduce",
          "Water Detect",
          "Introduction"
         ],
         "tickvals": [
          0,
          1,
          2,
          3,
          4,
          5
         ],
         "zeroline": false
        }
       }
      },
      "text/html": [
       "<div id=\"63bb4c18-25d0-4390-8a3e-1e4d49397417\" style=\"height: 600px; width: 900px;\" class=\"plotly-graph-div\"></div><script type=\"text/javascript\">require([\"plotly\"], function(Plotly) { window.PLOTLYENV=window.PLOTLYENV || {};window.PLOTLYENV.BASE_URL=\"https://plot.ly\";Plotly.newPlot(\"63bb4c18-25d0-4390-8a3e-1e4d49397417\", [{\"x\": [\"2018-11-05 10:50\", \"2018-11-05 10:59\"], \"showlegend\": false, \"type\": \"scatter\", \"y\": [0, 0], \"uid\": \"a97ef2db-248b-4045-ba41-266b1783e243\", \"name\": \"\", \"marker\": {\"color\": \"white\"}}, {\"x\": [\"2018-11-05 10:40\", \"2018-11-05 10:50\"], \"showlegend\": false, \"type\": \"scatter\", \"y\": [1, 1], \"uid\": \"32409565-c167-4078-87c6-81102d4a9142\", \"name\": \"\", \"marker\": {\"color\": \"white\"}}, {\"x\": [\"2018-11-05 10:30\", \"2018-11-05 10:40\"], \"showlegend\": false, \"type\": \"scatter\", \"y\": [2, 2], \"uid\": \"adbfe262-2a58-4828-87bc-bc87ffa437ba\", \"name\": \"\", \"marker\": {\"color\": \"white\"}}, {\"x\": [\"2018-11-05 10:20\", \"2018-11-05 10:30\"], \"showlegend\": false, \"type\": \"scatter\", \"y\": [3, 3], \"uid\": \"e8c7a0b6-483c-4bb5-97ee-52434aa9d3d5\", \"name\": \"\", \"marker\": {\"color\": \"white\"}}, {\"x\": [\"2018-11-05 10:10\", \"2018-11-05 10:20\"], \"showlegend\": false, \"type\": \"scatter\", \"y\": [4, 4], \"uid\": \"a38c00ce-346e-41bb-bae5-44eab25afc36\", \"name\": \"\", \"marker\": {\"color\": \"white\"}}, {\"x\": [\"2018-11-05 10:02\", \"2018-11-05 10:10:00\"], \"showlegend\": false, \"type\": \"scatter\", \"y\": [5, 5], \"uid\": \"dc6ac64d-b195-4f08-acb3-13b98bb7a293\", \"name\": \"\", \"marker\": {\"color\": \"white\"}}, {\"x\": [\"2018-11-05 10:02\", \"2018-11-05 10:02\"], \"showlegend\": true, \"type\": \"scatter\", \"y\": [0, 0], \"uid\": \"590fd9cf-0acf-47d0-b270-bd75d6895137\", \"hoverinfo\": \"none\", \"name\": \"Map\", \"marker\": {\"color\": \"rgb(198, 47, 105)\", \"size\": 1}}, {\"x\": [\"2018-11-05 10:02\", \"2018-11-05 10:02\"], \"showlegend\": true, \"type\": \"scatter\", \"y\": [1, 1], \"uid\": \"542ab6ac-7807-4e45-a594-d45b6a68a37f\", \"hoverinfo\": \"none\", \"name\": \"ODC\", \"marker\": {\"color\": \"rgb(107, 127, 135)\", \"size\": 1}}, {\"x\": [\"2018-11-05 10:02\", \"2018-11-05 10:02\"], \"showlegend\": true, \"type\": \"scatter\", \"y\": [2, 2], \"uid\": \"c8b3b1fb-e779-4088-ae14-e4dd28679450\", \"hoverinfo\": \"none\", \"name\": \"Overview\", \"marker\": {\"color\": \"rgb(114, 44, 121)\", \"size\": 1}}, {\"x\": [\"2018-11-05 10:02\", \"2018-11-05 10:02\"], \"showlegend\": true, \"type\": \"scatter\", \"y\": [3, 3], \"uid\": \"c2dfe230-9071-4fa1-8441-03aacd4ed7bc\", \"hoverinfo\": \"none\", \"name\": \"PYCCD\", \"marker\": {\"color\": \"rgb(58, 149, 136)\", \"size\": 1}}], {\"hovermode\": \"closest\", \"showlegend\": true, \"yaxis\": {\"range\": [-1, 7], \"autorange\": false, \"zeroline\": false, \"showgrid\": true, \"tickvals\": [0, 1, 2, 3, 4, 5], \"ticktext\": [\"Next Steps\", \"merlin\", \"Therms\", \"Map Reduce\", \"Water Detect\", \"Introduction\"]}, \"shapes\": [{\"opacity\": 1, \"line\": {\"width\": 0}, \"type\": \"rect\", \"xref\": \"x\", \"y0\": -0.3, \"x1\": \"2018-11-05 10:59\", \"x0\": \"2018-11-05 10:50\", \"fillcolor\": \"rgb(114, 44, 121)\", \"yref\": \"y\", \"y1\": 0.3}, {\"opacity\": 1, \"line\": {\"width\": 0}, \"type\": \"rect\", \"xref\": \"x\", \"y0\": 0.7, \"x1\": \"2018-11-05 10:50\", \"x0\": \"2018-11-05 10:40\", \"fillcolor\": \"rgb(107, 127, 135)\", \"yref\": \"y\", \"y1\": 1.3}, {\"opacity\": 1, \"line\": {\"width\": 0}, \"type\": \"rect\", \"xref\": \"x\", \"y0\": 1.7, \"x1\": \"2018-11-05 10:40\", \"x0\": \"2018-11-05 10:30\", \"fillcolor\": \"rgb(58, 149, 136)\", \"yref\": \"y\", \"y1\": 2.3}, {\"opacity\": 1, \"line\": {\"width\": 0}, \"type\": \"rect\", \"xref\": \"x\", \"y0\": 2.7, \"x1\": \"2018-11-05 10:30\", \"x0\": \"2018-11-05 10:20\", \"fillcolor\": \"rgb(107, 127, 135)\", \"yref\": \"y\", \"y1\": 3.3}, {\"opacity\": 1, \"line\": {\"width\": 0}, \"type\": \"rect\", \"xref\": \"x\", \"y0\": 3.7, \"x1\": \"2018-11-05 10:20\", \"x0\": \"2018-11-05 10:10\", \"fillcolor\": \"rgb(198, 47, 105)\", \"yref\": \"y\", \"y1\": 4.3}, {\"opacity\": 1, \"line\": {\"width\": 0}, \"type\": \"rect\", \"xref\": \"x\", \"y0\": 4.7, \"x1\": \"2018-11-05 10:10:00\", \"x0\": \"2018-11-05 10:02\", \"fillcolor\": \"rgb(114, 44, 121)\", \"yref\": \"y\", \"y1\": 5.3}], \"width\": 900, \"height\": 600, \"xaxis\": {\"rangeselector\": {\"buttons\": [{\"label\": \"1w\", \"step\": \"day\", \"count\": 7, \"stepmode\": \"backward\"}, {\"label\": \"1m\", \"step\": \"month\", \"count\": 1, \"stepmode\": \"backward\"}, {\"label\": \"6m\", \"step\": \"month\", \"count\": 6, \"stepmode\": \"backward\"}, {\"label\": \"YTD\", \"step\": \"year\", \"count\": 1, \"stepmode\": \"todate\"}, {\"label\": \"1y\", \"step\": \"year\", \"count\": 1, \"stepmode\": \"backward\"}, {\"step\": \"all\"}]}, \"showgrid\": true, \"type\": \"date\", \"zeroline\": false}, \"title\": \"Demo Schedule\"}, {\"linkText\": \"Export to plot.ly\", \"showLink\": false})});</script>"
      ],
      "text/vnd.plotly.v1+html": [
       "<div id=\"63bb4c18-25d0-4390-8a3e-1e4d49397417\" style=\"height: 600px; width: 900px;\" class=\"plotly-graph-div\"></div><script type=\"text/javascript\">require([\"plotly\"], function(Plotly) { window.PLOTLYENV=window.PLOTLYENV || {};window.PLOTLYENV.BASE_URL=\"https://plot.ly\";Plotly.newPlot(\"63bb4c18-25d0-4390-8a3e-1e4d49397417\", [{\"x\": [\"2018-11-05 10:50\", \"2018-11-05 10:59\"], \"showlegend\": false, \"type\": \"scatter\", \"y\": [0, 0], \"uid\": \"a97ef2db-248b-4045-ba41-266b1783e243\", \"name\": \"\", \"marker\": {\"color\": \"white\"}}, {\"x\": [\"2018-11-05 10:40\", \"2018-11-05 10:50\"], \"showlegend\": false, \"type\": \"scatter\", \"y\": [1, 1], \"uid\": \"32409565-c167-4078-87c6-81102d4a9142\", \"name\": \"\", \"marker\": {\"color\": \"white\"}}, {\"x\": [\"2018-11-05 10:30\", \"2018-11-05 10:40\"], \"showlegend\": false, \"type\": \"scatter\", \"y\": [2, 2], \"uid\": \"adbfe262-2a58-4828-87bc-bc87ffa437ba\", \"name\": \"\", \"marker\": {\"color\": \"white\"}}, {\"x\": [\"2018-11-05 10:20\", \"2018-11-05 10:30\"], \"showlegend\": false, \"type\": \"scatter\", \"y\": [3, 3], \"uid\": \"e8c7a0b6-483c-4bb5-97ee-52434aa9d3d5\", \"name\": \"\", \"marker\": {\"color\": \"white\"}}, {\"x\": [\"2018-11-05 10:10\", \"2018-11-05 10:20\"], \"showlegend\": false, \"type\": \"scatter\", \"y\": [4, 4], \"uid\": \"a38c00ce-346e-41bb-bae5-44eab25afc36\", \"name\": \"\", \"marker\": {\"color\": \"white\"}}, {\"x\": [\"2018-11-05 10:02\", \"2018-11-05 10:10:00\"], \"showlegend\": false, \"type\": \"scatter\", \"y\": [5, 5], \"uid\": \"dc6ac64d-b195-4f08-acb3-13b98bb7a293\", \"name\": \"\", \"marker\": {\"color\": \"white\"}}, {\"x\": [\"2018-11-05 10:02\", \"2018-11-05 10:02\"], \"showlegend\": true, \"type\": \"scatter\", \"y\": [0, 0], \"uid\": \"590fd9cf-0acf-47d0-b270-bd75d6895137\", \"hoverinfo\": \"none\", \"name\": \"Map\", \"marker\": {\"color\": \"rgb(198, 47, 105)\", \"size\": 1}}, {\"x\": [\"2018-11-05 10:02\", \"2018-11-05 10:02\"], \"showlegend\": true, \"type\": \"scatter\", \"y\": [1, 1], \"uid\": \"542ab6ac-7807-4e45-a594-d45b6a68a37f\", \"hoverinfo\": \"none\", \"name\": \"ODC\", \"marker\": {\"color\": \"rgb(107, 127, 135)\", \"size\": 1}}, {\"x\": [\"2018-11-05 10:02\", \"2018-11-05 10:02\"], \"showlegend\": true, \"type\": \"scatter\", \"y\": [2, 2], \"uid\": \"c8b3b1fb-e779-4088-ae14-e4dd28679450\", \"hoverinfo\": \"none\", \"name\": \"Overview\", \"marker\": {\"color\": \"rgb(114, 44, 121)\", \"size\": 1}}, {\"x\": [\"2018-11-05 10:02\", \"2018-11-05 10:02\"], \"showlegend\": true, \"type\": \"scatter\", \"y\": [3, 3], \"uid\": \"c2dfe230-9071-4fa1-8441-03aacd4ed7bc\", \"hoverinfo\": \"none\", \"name\": \"PYCCD\", \"marker\": {\"color\": \"rgb(58, 149, 136)\", \"size\": 1}}], {\"hovermode\": \"closest\", \"showlegend\": true, \"yaxis\": {\"range\": [-1, 7], \"autorange\": false, \"zeroline\": false, \"showgrid\": true, \"tickvals\": [0, 1, 2, 3, 4, 5], \"ticktext\": [\"Next Steps\", \"merlin\", \"Therms\", \"Map Reduce\", \"Water Detect\", \"Introduction\"]}, \"shapes\": [{\"opacity\": 1, \"line\": {\"width\": 0}, \"type\": \"rect\", \"xref\": \"x\", \"y0\": -0.3, \"x1\": \"2018-11-05 10:59\", \"x0\": \"2018-11-05 10:50\", \"fillcolor\": \"rgb(114, 44, 121)\", \"yref\": \"y\", \"y1\": 0.3}, {\"opacity\": 1, \"line\": {\"width\": 0}, \"type\": \"rect\", \"xref\": \"x\", \"y0\": 0.7, \"x1\": \"2018-11-05 10:50\", \"x0\": \"2018-11-05 10:40\", \"fillcolor\": \"rgb(107, 127, 135)\", \"yref\": \"y\", \"y1\": 1.3}, {\"opacity\": 1, \"line\": {\"width\": 0}, \"type\": \"rect\", \"xref\": \"x\", \"y0\": 1.7, \"x1\": \"2018-11-05 10:40\", \"x0\": \"2018-11-05 10:30\", \"fillcolor\": \"rgb(58, 149, 136)\", \"yref\": \"y\", \"y1\": 2.3}, {\"opacity\": 1, \"line\": {\"width\": 0}, \"type\": \"rect\", \"xref\": \"x\", \"y0\": 2.7, \"x1\": \"2018-11-05 10:30\", \"x0\": \"2018-11-05 10:20\", \"fillcolor\": \"rgb(107, 127, 135)\", \"yref\": \"y\", \"y1\": 3.3}, {\"opacity\": 1, \"line\": {\"width\": 0}, \"type\": \"rect\", \"xref\": \"x\", \"y0\": 3.7, \"x1\": \"2018-11-05 10:20\", \"x0\": \"2018-11-05 10:10\", \"fillcolor\": \"rgb(198, 47, 105)\", \"yref\": \"y\", \"y1\": 4.3}, {\"opacity\": 1, \"line\": {\"width\": 0}, \"type\": \"rect\", \"xref\": \"x\", \"y0\": 4.7, \"x1\": \"2018-11-05 10:10:00\", \"x0\": \"2018-11-05 10:02\", \"fillcolor\": \"rgb(114, 44, 121)\", \"yref\": \"y\", \"y1\": 5.3}], \"width\": 900, \"height\": 600, \"xaxis\": {\"rangeselector\": {\"buttons\": [{\"label\": \"1w\", \"step\": \"day\", \"count\": 7, \"stepmode\": \"backward\"}, {\"label\": \"1m\", \"step\": \"month\", \"count\": 1, \"stepmode\": \"backward\"}, {\"label\": \"6m\", \"step\": \"month\", \"count\": 6, \"stepmode\": \"backward\"}, {\"label\": \"YTD\", \"step\": \"year\", \"count\": 1, \"stepmode\": \"todate\"}, {\"label\": \"1y\", \"step\": \"year\", \"count\": 1, \"stepmode\": \"backward\"}, {\"step\": \"all\"}]}, \"showgrid\": true, \"type\": \"date\", \"zeroline\": false}, \"title\": \"Demo Schedule\"}, {\"linkText\": \"Export to plot.ly\", \"showLink\": false})});</script>"
      ]
     },
     "metadata": {},
     "output_type": "display_data"
    }
   ],
   "source": [
    "import plotly.plotly as py\n",
    "import plotly.figure_factory as ff\n",
    "import plotly.offline as py\n",
    "\n",
    "py.init_notebook_mode(connected=True)\n",
    "\n",
    "\n",
    "df = [\n",
    "   \n",
    "    \n",
    "    dict(Task='Next Steps', Start='2018-11-05 10:50', Finish='2018-11-05 10:59', Resource='Overview'),\n",
    "    dict(Task='merlin', Start='2018-11-05 10:40', Finish='2018-11-05 10:50', Resource='ODC'),\n",
    "    dict(Task='Therms', Start='2018-11-05 10:30', Finish='2018-11-05 10:40', Resource='PYCCD'),\n",
    "    dict(Task='Map Reduce', Start='2018-11-05 10:20', Finish='2018-11-05 10:30', Resource='ODC'),\n",
    "    dict(Task='Water Detect', Start='2018-11-05 10:10', Finish='2018-11-05 10:20', Resource='Map'),\n",
    "    dict(Task='Introduction', Start='2018-11-05 10:02', Finish='2018-11-05 10:10:00', Resource='Overview')\n",
    "]\n",
    "\n",
    "colors = dict(Strategy = 'rgb(46, 137, 205)',\n",
    "              Overview = 'rgb(114, 44, 121)',\n",
    "              Map = 'rgb(198, 47, 105)',\n",
    "              PYCCD = 'rgb(58, 149, 136)',\n",
    "              ODC = 'rgb(107, 127, 135)')\n",
    "\n",
    "fig = ff.create_gantt(df, colors=colors, index_col='Resource', title='Demo Schedule',\n",
    "                      show_colorbar=True, bar_width=0.3, showgrid_x=True, showgrid_y=True)\n",
    "py.iplot(fig, show_link=False)\n"
   ]
  },
  {
   "cell_type": "markdown",
   "metadata": {},
   "source": [
    "# Time Permitting - deep dive into Dataset lists"
   ]
  },
  {
   "cell_type": "markdown",
   "metadata": {},
   "source": [
    "![infrastructure overview](../asset/jeffBridenDemo.png)"
   ]
  },
  {
   "cell_type": "markdown",
   "metadata": {},
   "source": [
    "# Next Steps\n",
    "\n",
    "1. Mexico - espaDog\n",
    "    - espa1 - path 40 row 37\n",
    "2. add thermal bands for l8 l7 l5 etc\n",
    "3. manage monthly sprints\n",
    "4. maybe move to SGT AWS or CHA\n",
    "5. ODC as a service \n",
    "6. lcmap deep dive using on-prem equipment\n",
    "    - kelsy notebook reviews\n",
    "    - tapTool testing\n",
    "    "
   ]
  },
  {
   "cell_type": "markdown",
   "metadata": {},
   "source": [
    "# Links dashboard in the cloud\n",
    "\n",
    "\n",
    "http://ec2-52-201-154-0.compute-1.amazonaws.com/data_cube_manager/dataset_types/23/datasets"
   ]
  },
  {
   "cell_type": "markdown",
   "metadata": {},
   "source": [
    "# Raster Products\n",
    "\n",
    "![raster products](../asset/l2-lcmap-raster-products.png)"
   ]
  },
  {
   "cell_type": "markdown",
   "metadata": {},
   "source": [
    "# LCMAP Graphics\n",
    "\n",
    "![graphics](../asset/l1-lcmap-graphics.png)"
   ]
  },
  {
   "cell_type": "code",
   "execution_count": 2,
   "metadata": {},
   "outputs": [
    {
     "name": "stdout",
     "output_type": "stream",
     "text": [
      "app1.png\t       focused-diffuse-mode.png  l2-lcmap-raster-products.png\r\n",
      "appODC1.png\t       jeffBridenDemo.png\t lcmap_cubes.png\r\n",
      "change_model_save.png  l1-lcmap-graphics.png\t pyccd_model_start.png\r\n"
     ]
    }
   ],
   "source": [
    "! ls ../asset"
   ]
  },
  {
   "cell_type": "markdown",
   "metadata": {},
   "source": [
    "# LCMAP cubes\n",
    "\n",
    "![graphics](../asset/lcmap_cubes.png)"
   ]
  },
  {
   "cell_type": "code",
   "execution_count": null,
   "metadata": {},
   "outputs": [],
   "source": []
  }
 ],
 "metadata": {
  "kernelspec": {
   "display_name": "Python 3",
   "language": "python",
   "name": "python3"
  },
  "language_info": {
   "codemirror_mode": {
    "name": "ipython",
    "version": 3
   },
   "file_extension": ".py",
   "mimetype": "text/x-python",
   "name": "python",
   "nbconvert_exporter": "python",
   "pygments_lexer": "ipython3",
   "version": "3.5.2"
  }
 },
 "nbformat": 4,
 "nbformat_minor": 2
}
