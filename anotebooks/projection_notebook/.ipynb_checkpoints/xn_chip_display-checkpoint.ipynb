{
 "cells": [
  {
   "cell_type": "code",
   "execution_count": 1,
   "metadata": {},
   "outputs": [],
   "source": [
    "xn=0"
   ]
  },
  {
   "cell_type": "code",
   "execution_count": 2,
   "metadata": {},
   "outputs": [],
   "source": [
    "# Enable plotting\n",
    "%matplotlib inline\n",
    "\n",
    "# Supress Warning \n",
    "import numpy as np\n",
    "import warnings\n",
    "warnings.filterwarnings('ignore')\n",
    "\n",
    "import time"
   ]
  },
  {
   "cell_type": "markdown",
   "metadata": {},
   "source": [
    "# grabbing the upper left chip\n",
    "\n",
    "## so far harder than I think\n"
   ]
  },
  {
   "cell_type": "markdown",
   "metadata": {},
   "source": [
    "# select  a scene to determine the bounding box from a small date range\n",
    "\n",
    "## June and July 1015"
   ]
  },
  {
   "cell_type": "code",
   "execution_count": 3,
   "metadata": {},
   "outputs": [
    {
     "name": "stderr",
     "output_type": "stream",
     "text": [
      "Failed to resolve driver datacube.plugins.index::s3aio_index\n"
     ]
    },
    {
     "name": "stdout",
     "output_type": "stream",
     "text": [
      "Number of Pretty Scenes 3\n"
     ]
    }
   ],
   "source": [
    "import datacube\n",
    "import time\n",
    "\n",
    "from datetime import datetime\n",
    "\n",
    "\n",
    "dc = datacube.Datacube(app = 'my_app', config = '../datacube.conf')\n",
    "selected_product = 'landsat_8_USARD'\n",
    "\n",
    "date_range = (\n",
    "        datetime(2015,6,1),\n",
    "        datetime(2015,7,31))\n",
    "dss = dc.find_datasets(product=selected_product, time=date_range, measurements=['red',])\n",
    "\n",
    "clear_datasets = []\n",
    "for item in dss:\n",
    "    \n",
    "    if float(item.metadata_doc['cloud_cover']) < 20.0:\n",
    "        if float(item.metadata_doc['fill']) < 30.0:\n",
    "            clear_datasets.append(item)\n",
    "            \n",
    "print(\"Number of Pretty Scenes\", len(clear_datasets))\n",
    "# for citem in clear_datasets:\n",
    "  #   print(citem.uris)\n"
   ]
  },
  {
   "cell_type": "code",
   "execution_count": 4,
   "metadata": {},
   "outputs": [
    {
     "data": {
      "text/plain": [
       "Geometry(POLYGON ((-2115585 2714805,-2115585 2864805,-1965585 2864805,-1965585 2714805,-2115585 2714805)), epsg:5072)"
      ]
     },
     "execution_count": 4,
     "metadata": {},
     "output_type": "execute_result"
    }
   ],
   "source": [
    "citem = clear_datasets[0]\n",
    "citem.extent"
   ]
  },
  {
   "cell_type": "code",
   "execution_count": 5,
   "metadata": {},
   "outputs": [],
   "source": [
    "citem.bounds\n",
    "\n",
    "l = citem.bounds.left\n",
    "\n",
    "b = citem.bounds.bottom\n",
    "\n",
    "r = citem.bounds.right\n",
    "\n",
    "t = citem.bounds.top\n",
    "\n"
   ]
  },
  {
   "cell_type": "code",
   "execution_count": 6,
   "metadata": {},
   "outputs": [],
   "source": [
    "from pyproj import Proj\n",
    "\n",
    "# Create projection transformation object\n",
    "\n",
    "p = Proj(init='epsg:5072') # EPSG code AEA\n",
    "\n"
   ]
  },
  {
   "cell_type": "code",
   "execution_count": 7,
   "metadata": {},
   "outputs": [],
   "source": [
    "\n",
    "x1 = l + (xn * 100) * 30\n",
    "x2 = l + ((xn + 1) * 100 - 1) * 30\n",
    "y1 = t\n",
    "y2 = t - 99 * 30\n",
    "\n"
   ]
  },
  {
   "cell_type": "code",
   "execution_count": 8,
   "metadata": {},
   "outputs": [],
   "source": [
    "def load_me_xy():\n",
    "    selected_product = 'landsat_8_USARD'\n",
    "    measurements=['red','green','blue']\n",
    "    # ## for pyccd - you need thesed \n",
    "    # measurements = ['red', 'green', 'blue', 'nir', 'swir1', 'swir2', 'pixel_qa']\n",
    "\n",
    "    ds2 = dc.load(product=selected_product, datasets=clear_datasets, measurements=measurements,\n",
    "             x=(x1,x2),y=(y1,y2), crs='epsg:5072',\n",
    "\n",
    "                output_crs = 'epsg:5072', \n",
    "              # output_crs = 'epsg:4326', \n",
    "\n",
    "              resolution = (-30,30))\n",
    "    return (ds2)"
   ]
  },
  {
   "cell_type": "code",
   "execution_count": 9,
   "metadata": {},
   "outputs": [
    {
     "name": "stderr",
     "output_type": "stream",
     "text": [
      "Failed to resolve driver datacube.plugins.io.read::s3aio_test\n",
      "Failed to resolve driver datacube.plugins.io.read::s3aio\n",
      "Driver init returned None, driver name: datacube.plugins.io.read::failing_end_point_none\n",
      "Failed to resolve driver datacube.plugins.io.read::bad_end_point\n",
      "Exception during driver init, driver name: datacube.plugins.io.read::failing_end_point_throw\n"
     ]
    },
    {
     "name": "stdout",
     "output_type": "stream",
     "text": [
      "TONY load output_crs=output_crs, =  epsg:5072\n",
      "TONY output_geobox crs =  epsg:5072\n",
      "TONY geopolygon crs =  epsg:5072\n",
      "TONY geopolygon stuff =  epsg:5072 | 30.00, 0.00,-2115600.00|\n",
      "| 0.00,-30.00, 2864820.00|\n",
      "| 0.00, 0.00, 1.00| 100 100\n",
      "TONY GeoBox extent =  Geometry({'coordinates': [[(-2115600.0, 2864820.0), (-2115600.0, 2861820.0), (-2112600.0, 2861820.0), (-2112600.0, 2864820.0), (-2115600.0, 2864820.0)]], 'type': 'Polygon'}, CRS('epsg:5072'))\n",
      "TONY load type geobox =  <class 'datacube.utils.geometry.GeoBox'>\n",
      "TONY load geobox =  GeoBox(Geometry({'coordinates': [[(-123.65320054696612, 45.98167303197738), (-123.64211284341661, 45.95578236468213), (-123.605084717387, 45.96352784712914), (-123.61615928050621, 45.98942208939769), (-123.65320054696612, 45.98167303197738)]], 'type': 'Polygon'}, CRS('EPSG:4326')))\n",
      "TONY load geobox.extent =  Geometry({'coordinates': [[(-2115600.0, 2864820.0), (-2115600.0, 2861820.0), (-2112600.0, 2861820.0), (-2112600.0, 2864820.0), (-2115600.0, 2864820.0)]], 'type': 'Polygon'}, CRS('epsg:5072'))\n",
      "TONY group_datasets datasets  [Dataset <id=20aa8761-b719-43f0-a011-8296f50b4d7c type=landsat_8_USARD location=None>, Dataset <id=edb1218e-c636-4ef2-890d-7f6330c30dbc type=landsat_8_USARD location=None>, Dataset <id=c2566872-aa8f-4ac4-9dda-d8787ef0f93f type=landsat_8_USARD location=None>]\n",
      "TONY group_datasets sources  <bound method ImplementsArrayReduce._reduce_method.<locals>.wrapped_func of <xarray.DataArray (time: 3)>\n",
      "array([(Dataset <id=c2566872-aa8f-4ac4-9dda-d8787ef0f93f type=landsat_8_USARD location=None>,),\n",
      "       (Dataset <id=edb1218e-c636-4ef2-890d-7f6330c30dbc type=landsat_8_USARD location=None>,),\n",
      "       (Dataset <id=20aa8761-b719-43f0-a011-8296f50b4d7c type=landsat_8_USARD location=None>,)],\n",
      "      dtype=object)\n",
      "Coordinates:\n",
      "  * time     (time) datetime64[ns] 2015-06-07T18:55:15.831248 ...>\n",
      "TONY api-core/create_storage name, coord =  time <xarray.DataArray 'time' (time: 3)>\n",
      "array(['2015-06-07T18:55:15.831248000', '2015-06-23T18:55:22.285077000',\n",
      "       '2015-07-09T18:55:32.978324000'], dtype='datetime64[ns]')\n",
      "Coordinates:\n",
      "  * time     (time) datetime64[ns] 2015-06-07T18:55:15.831248 ...\n",
      "Attributes:\n",
      "    units:    seconds since 1970-01-01 00:00:00\n",
      "TONY api-core/create_storage name, coord =  y [2864805. 2864775. 2864745. 2864715. 2864685. 2864655. 2864625. 2864595.\n",
      " 2864565. 2864535. 2864505. 2864475. 2864445. 2864415. 2864385. 2864355.\n",
      " 2864325. 2864295. 2864265. 2864235. 2864205. 2864175. 2864145. 2864115.\n",
      " 2864085. 2864055. 2864025. 2863995. 2863965. 2863935. 2863905. 2863875.\n",
      " 2863845. 2863815. 2863785. 2863755. 2863725. 2863695. 2863665. 2863635.\n",
      " 2863605. 2863575. 2863545. 2863515. 2863485. 2863455. 2863425. 2863395.\n",
      " 2863365. 2863335. 2863305. 2863275. 2863245. 2863215. 2863185. 2863155.\n",
      " 2863125. 2863095. 2863065. 2863035. 2863005. 2862975. 2862945. 2862915.\n",
      " 2862885. 2862855. 2862825. 2862795. 2862765. 2862735. 2862705. 2862675.\n",
      " 2862645. 2862615. 2862585. 2862555. 2862525. 2862495. 2862465. 2862435.\n",
      " 2862405. 2862375. 2862345. 2862315. 2862285. 2862255. 2862225. 2862195.\n",
      " 2862165. 2862135. 2862105. 2862075. 2862045. 2862015. 2861985. 2861955.\n",
      " 2861925. 2861895. 2861865. 2861835.]\n",
      "TONY api-core/create_storage name, coord =  x [-2115585. -2115555. -2115525. -2115495. -2115465. -2115435. -2115405.\n",
      " -2115375. -2115345. -2115315. -2115285. -2115255. -2115225. -2115195.\n",
      " -2115165. -2115135. -2115105. -2115075. -2115045. -2115015. -2114985.\n",
      " -2114955. -2114925. -2114895. -2114865. -2114835. -2114805. -2114775.\n",
      " -2114745. -2114715. -2114685. -2114655. -2114625. -2114595. -2114565.\n",
      " -2114535. -2114505. -2114475. -2114445. -2114415. -2114385. -2114355.\n",
      " -2114325. -2114295. -2114265. -2114235. -2114205. -2114175. -2114145.\n",
      " -2114115. -2114085. -2114055. -2114025. -2113995. -2113965. -2113935.\n",
      " -2113905. -2113875. -2113845. -2113815. -2113785. -2113755. -2113725.\n",
      " -2113695. -2113665. -2113635. -2113605. -2113575. -2113545. -2113515.\n",
      " -2113485. -2113455. -2113425. -2113395. -2113365. -2113335. -2113305.\n",
      " -2113275. -2113245. -2113215. -2113185. -2113155. -2113125. -2113095.\n",
      " -2113065. -2113035. -2113005. -2112975. -2112945. -2112915. -2112885.\n",
      " -2112855. -2112825. -2112795. -2112765. -2112735. -2112705. -2112675.\n",
      " -2112645. -2112615.]\n",
      "0TONY api-core/create_storage - xarray is  <class 'xarray.core.dataset.Dataset'>\n",
      "0TONY api-core/create_storage - xarray is  <bound method ImplementsDatasetReduce._reduce_method.<locals>.wrapped_func of <xarray.Dataset>\n",
      "Dimensions:  (time: 3, x: 100, y: 100)\n",
      "Coordinates:\n",
      "  * time     (time) datetime64[ns] 2015-06-07T18:55:15.831248 ...\n",
      "  * y        (y) float64 2.865e+06 2.865e+06 2.865e+06 2.865e+06 2.865e+06 ...\n",
      "  * x        (x) float64 -2.116e+06 -2.116e+06 -2.116e+06 -2.115e+06 ...\n",
      "Data variables:\n",
      "    *empty*\n",
      "Attributes:\n",
      "    crs:      epsg:5072>\n",
      "TONY load_data - shape is: (3,)\n",
      "TONY load_data - geobox shape is: (100, 100)\n",
      "TONY load_data - nodata is: -9999\n",
      "TONY load_data - dtype is: int16\n",
      "TONY load_data - sources.values is: [(Dataset <id=c2566872-aa8f-4ac4-9dda-d8787ef0f93f type=landsat_8_USARD location=None>,)\n",
      " (Dataset <id=edb1218e-c636-4ef2-890d-7f6330c30dbc type=landsat_8_USARD location=None>,)\n",
      " (Dataset <id=20aa8761-b719-43f0-a011-8296f50b4d7c type=landsat_8_USARD location=None>,)]\n",
      "TONY (driver/readers.py) source_type <class 'datacube.storage.storage.RasterDatasetDataSource'>\n",
      "TONY (driver/readers.py) band_name red\n",
      "TONY (driver/readers.py) return source_type <datacube.storage.storage.RasterDatasetDataSource object at 0x7f548c650630>\n",
      "TONY storage RasterDatasetDataSource src  <open DatasetReader name='s3://ga-odc-eros-ard-west/usard/LC08/20150607/LC08_CU_003003_20150607_20170713_C01_V01_SRB4.tif' mode='r'>\n",
      "TONY BandDataSource reproject  epsg:5072\n",
      "TONY BandDataSource reproject abc <class 'NoneType'>\n",
      "TONY BandDataSource reproject dir abc ['__bool__', '__class__', '__delattr__', '__dir__', '__doc__', '__eq__', '__format__', '__ge__', '__getattribute__', '__gt__', '__hash__', '__init__', '__le__', '__lt__', '__ne__', '__new__', '__reduce__', '__reduce_ex__', '__repr__', '__setattr__', '__sizeof__', '__str__', '__subclasshook__']\n",
      "TONY BandDataSource reproject print abc None\n",
      "TONY (driver/readers.py) source_type <class 'datacube.storage.storage.RasterDatasetDataSource'>\n",
      "TONY (driver/readers.py) band_name red\n",
      "TONY (driver/readers.py) return source_type <datacube.storage.storage.RasterDatasetDataSource object at 0x7f548c6501d0>\n",
      "TONY storage RasterDatasetDataSource src  <open DatasetReader name='s3://ga-odc-eros-ard-west/usard/LC08/20150623/LC08_CU_003003_20150623_20170713_C01_V01_SRB4.tif' mode='r'>\n",
      "TONY BandDataSource reproject  epsg:5072\n",
      "TONY BandDataSource reproject abc <class 'NoneType'>\n",
      "TONY BandDataSource reproject dir abc ['__bool__', '__class__', '__delattr__', '__dir__', '__doc__', '__eq__', '__format__', '__ge__', '__getattribute__', '__gt__', '__hash__', '__init__', '__le__', '__lt__', '__ne__', '__new__', '__reduce__', '__reduce_ex__', '__repr__', '__setattr__', '__sizeof__', '__str__', '__subclasshook__']\n",
      "TONY BandDataSource reproject print abc None\n",
      "TONY (driver/readers.py) source_type <class 'datacube.storage.storage.RasterDatasetDataSource'>\n",
      "TONY (driver/readers.py) band_name red\n",
      "TONY (driver/readers.py) return source_type <datacube.storage.storage.RasterDatasetDataSource object at 0x7f548c650630>\n",
      "TONY storage RasterDatasetDataSource src  <open DatasetReader name='s3://ga-odc-eros-ard-west/usard/LC08/20150709/LC08_CU_003003_20150709_20170713_C01_V01_SRB4.tif' mode='r'>\n",
      "TONY BandDataSource reproject  epsg:5072\n",
      "TONY BandDataSource reproject abc <class 'NoneType'>\n",
      "TONY BandDataSource reproject dir abc ['__bool__', '__class__', '__delattr__', '__dir__', '__doc__', '__eq__', '__format__', '__ge__', '__getattribute__', '__gt__', '__hash__', '__init__', '__le__', '__lt__', '__ne__', '__new__', '__reduce__', '__reduce_ex__', '__repr__', '__setattr__', '__sizeof__', '__str__', '__subclasshook__']\n",
      "TONY BandDataSource reproject print abc None\n",
      "TONY load_data - shape is: (3,)\n",
      "TONY load_data - geobox shape is: (100, 100)\n",
      "TONY load_data - nodata is: -9999\n",
      "TONY load_data - dtype is: int16\n",
      "TONY load_data - sources.values is: [(Dataset <id=c2566872-aa8f-4ac4-9dda-d8787ef0f93f type=landsat_8_USARD location=None>,)\n",
      " (Dataset <id=edb1218e-c636-4ef2-890d-7f6330c30dbc type=landsat_8_USARD location=None>,)\n",
      " (Dataset <id=20aa8761-b719-43f0-a011-8296f50b4d7c type=landsat_8_USARD location=None>,)]\n",
      "TONY (driver/readers.py) source_type <class 'datacube.storage.storage.RasterDatasetDataSource'>\n",
      "TONY (driver/readers.py) band_name green\n",
      "TONY (driver/readers.py) return source_type <datacube.storage.storage.RasterDatasetDataSource object at 0x7f548c18cfd0>\n"
     ]
    },
    {
     "name": "stdout",
     "output_type": "stream",
     "text": [
      "TONY storage RasterDatasetDataSource src  <open DatasetReader name='s3://ga-odc-eros-ard-west/usard/LC08/20150607/LC08_CU_003003_20150607_20170713_C01_V01_SRB3.tif' mode='r'>\n",
      "TONY BandDataSource reproject  epsg:5072\n",
      "TONY BandDataSource reproject abc <class 'NoneType'>\n",
      "TONY BandDataSource reproject dir abc ['__bool__', '__class__', '__delattr__', '__dir__', '__doc__', '__eq__', '__format__', '__ge__', '__getattribute__', '__gt__', '__hash__', '__init__', '__le__', '__lt__', '__ne__', '__new__', '__reduce__', '__reduce_ex__', '__repr__', '__setattr__', '__sizeof__', '__str__', '__subclasshook__']\n",
      "TONY BandDataSource reproject print abc None\n",
      "TONY (driver/readers.py) source_type <class 'datacube.storage.storage.RasterDatasetDataSource'>\n",
      "TONY (driver/readers.py) band_name green\n",
      "TONY (driver/readers.py) return source_type <datacube.storage.storage.RasterDatasetDataSource object at 0x7f548c69e128>\n",
      "TONY storage RasterDatasetDataSource src  <open DatasetReader name='s3://ga-odc-eros-ard-west/usard/LC08/20150623/LC08_CU_003003_20150623_20170713_C01_V01_SRB3.tif' mode='r'>\n",
      "TONY BandDataSource reproject  epsg:5072\n",
      "TONY BandDataSource reproject abc <class 'NoneType'>\n",
      "TONY BandDataSource reproject dir abc ['__bool__', '__class__', '__delattr__', '__dir__', '__doc__', '__eq__', '__format__', '__ge__', '__getattribute__', '__gt__', '__hash__', '__init__', '__le__', '__lt__', '__ne__', '__new__', '__reduce__', '__reduce_ex__', '__repr__', '__setattr__', '__sizeof__', '__str__', '__subclasshook__']\n",
      "TONY BandDataSource reproject print abc None\n",
      "TONY (driver/readers.py) source_type <class 'datacube.storage.storage.RasterDatasetDataSource'>\n",
      "TONY (driver/readers.py) band_name green\n",
      "TONY (driver/readers.py) return source_type <datacube.storage.storage.RasterDatasetDataSource object at 0x7f548c18cfd0>\n",
      "TONY storage RasterDatasetDataSource src  <open DatasetReader name='s3://ga-odc-eros-ard-west/usard/LC08/20150709/LC08_CU_003003_20150709_20170713_C01_V01_SRB3.tif' mode='r'>\n",
      "TONY BandDataSource reproject  epsg:5072\n",
      "TONY BandDataSource reproject abc <class 'NoneType'>\n",
      "TONY BandDataSource reproject dir abc ['__bool__', '__class__', '__delattr__', '__dir__', '__doc__', '__eq__', '__format__', '__ge__', '__getattribute__', '__gt__', '__hash__', '__init__', '__le__', '__lt__', '__ne__', '__new__', '__reduce__', '__reduce_ex__', '__repr__', '__setattr__', '__sizeof__', '__str__', '__subclasshook__']\n",
      "TONY BandDataSource reproject print abc None\n",
      "TONY load_data - shape is: (3,)\n",
      "TONY load_data - geobox shape is: (100, 100)\n",
      "TONY load_data - nodata is: -9999\n",
      "TONY load_data - dtype is: int16\n",
      "TONY load_data - sources.values is: [(Dataset <id=c2566872-aa8f-4ac4-9dda-d8787ef0f93f type=landsat_8_USARD location=None>,)\n",
      " (Dataset <id=edb1218e-c636-4ef2-890d-7f6330c30dbc type=landsat_8_USARD location=None>,)\n",
      " (Dataset <id=20aa8761-b719-43f0-a011-8296f50b4d7c type=landsat_8_USARD location=None>,)]\n",
      "TONY (driver/readers.py) source_type <class 'datacube.storage.storage.RasterDatasetDataSource'>\n",
      "TONY (driver/readers.py) band_name blue\n",
      "TONY (driver/readers.py) return source_type <datacube.storage.storage.RasterDatasetDataSource object at 0x7f548c11be48>\n",
      "TONY storage RasterDatasetDataSource src  <open DatasetReader name='s3://ga-odc-eros-ard-west/usard/LC08/20150607/LC08_CU_003003_20150607_20170713_C01_V01_SRB2.tif' mode='r'>\n",
      "TONY BandDataSource reproject  epsg:5072\n",
      "TONY BandDataSource reproject abc <class 'NoneType'>\n",
      "TONY BandDataSource reproject dir abc ['__bool__', '__class__', '__delattr__', '__dir__', '__doc__', '__eq__', '__format__', '__ge__', '__getattribute__', '__gt__', '__hash__', '__init__', '__le__', '__lt__', '__ne__', '__new__', '__reduce__', '__reduce_ex__', '__repr__', '__setattr__', '__sizeof__', '__str__', '__subclasshook__']\n",
      "TONY BandDataSource reproject print abc None\n",
      "TONY (driver/readers.py) source_type <class 'datacube.storage.storage.RasterDatasetDataSource'>\n",
      "TONY (driver/readers.py) band_name blue\n",
      "TONY (driver/readers.py) return source_type <datacube.storage.storage.RasterDatasetDataSource object at 0x7f548c0f9710>\n",
      "TONY storage RasterDatasetDataSource src  <open DatasetReader name='s3://ga-odc-eros-ard-west/usard/LC08/20150623/LC08_CU_003003_20150623_20170713_C01_V01_SRB2.tif' mode='r'>\n",
      "TONY BandDataSource reproject  epsg:5072\n",
      "TONY BandDataSource reproject abc <class 'NoneType'>\n",
      "TONY BandDataSource reproject dir abc ['__bool__', '__class__', '__delattr__', '__dir__', '__doc__', '__eq__', '__format__', '__ge__', '__getattribute__', '__gt__', '__hash__', '__init__', '__le__', '__lt__', '__ne__', '__new__', '__reduce__', '__reduce_ex__', '__repr__', '__setattr__', '__sizeof__', '__str__', '__subclasshook__']\n",
      "TONY BandDataSource reproject print abc None\n",
      "TONY (driver/readers.py) source_type <class 'datacube.storage.storage.RasterDatasetDataSource'>\n",
      "TONY (driver/readers.py) band_name blue\n",
      "TONY (driver/readers.py) return source_type <datacube.storage.storage.RasterDatasetDataSource object at 0x7f548c69e128>\n",
      "TONY storage RasterDatasetDataSource src  <open DatasetReader name='s3://ga-odc-eros-ard-west/usard/LC08/20150709/LC08_CU_003003_20150709_20170713_C01_V01_SRB2.tif' mode='r'>\n",
      "TONY BandDataSource reproject  epsg:5072\n",
      "TONY BandDataSource reproject abc <class 'NoneType'>\n",
      "TONY BandDataSource reproject dir abc ['__bool__', '__class__', '__delattr__', '__dir__', '__doc__', '__eq__', '__format__', '__ge__', '__getattribute__', '__gt__', '__hash__', '__init__', '__le__', '__lt__', '__ne__', '__new__', '__reduce__', '__reduce_ex__', '__repr__', '__setattr__', '__sizeof__', '__str__', '__subclasshook__']\n",
      "TONY BandDataSource reproject print abc None\n",
      "2TONY api-core/create_storage - xarray is  <class 'xarray.core.dataset.Dataset'>\n",
      "2TONY api-core/create_storage - xarray is  <bound method ImplementsDatasetReduce._reduce_method.<locals>.wrapped_func of <xarray.Dataset>\n",
      "Dimensions:  (time: 3, x: 100, y: 100)\n",
      "Coordinates:\n",
      "  * time     (time) datetime64[ns] 2015-06-07T18:55:15.831248 ...\n",
      "  * y        (y) float64 2.865e+06 2.865e+06 2.865e+06 2.865e+06 2.865e+06 ...\n",
      "  * x        (x) float64 -2.116e+06 -2.116e+06 -2.116e+06 -2.115e+06 ...\n",
      "Data variables:\n",
      "    red      (time, y, x) int16 -9999 -9999 -9999 -9999 -9999 -9999 -9999 ...\n",
      "    green    (time, y, x) int16 -9999 -9999 -9999 -9999 -9999 -9999 -9999 ...\n",
      "    blue     (time, y, x) int16 -9999 -9999 -9999 -9999 -9999 -9999 -9999 ...\n",
      "Attributes:\n",
      "    crs:      epsg:5072>\n",
      "3TONY api-core/load - xarray is  <class 'xarray.core.dataset.Dataset'>\n",
      "<bound method ImplementsDatasetReduce._reduce_method.<locals>.wrapped_func of <xarray.Dataset>\n",
      "Dimensions:  (time: 3, x: 100, y: 100)\n",
      "Coordinates:\n",
      "  * time     (time) datetime64[ns] 2015-06-07T18:55:15.831248 ...\n",
      "  * y        (y) float64 2.865e+06 2.865e+06 2.865e+06 2.865e+06 2.865e+06 ...\n",
      "  * x        (x) float64 -2.116e+06 -2.116e+06 -2.116e+06 -2.115e+06 ...\n",
      "Data variables:\n",
      "    red      (time, y, x) int16 -9999 -9999 -9999 -9999 -9999 -9999 -9999 ...\n",
      "    green    (time, y, x) int16 -9999 -9999 -9999 -9999 -9999 -9999 -9999 ...\n",
      "    blue     (time, y, x) int16 -9999 -9999 -9999 -9999 -9999 -9999 -9999 ...\n",
      "Attributes:\n",
      "    crs:      epsg:5072>\n",
      "3TONY api-core/load - xarray is  None\n",
      "CPU times: user 571 ms, sys: 58.2 ms, total: 630 ms\n",
      "Wall time: 5.89 s\n"
     ]
    }
   ],
   "source": [
    "t1 = time.time()\n",
    "%time ul_dataset = load_me_xy()"
   ]
  },
  {
   "cell_type": "code",
   "execution_count": 10,
   "metadata": {},
   "outputs": [
    {
     "data": {
      "text/plain": [
       "True"
      ]
     },
     "execution_count": 10,
     "metadata": {},
     "output_type": "execute_result"
    },
    {
     "data": {
      "image/png": "[encoded data removed]",
      "text/plain": [
       "<Figure size 576x576 with 1 Axes>"
      ]
     },
     "metadata": {},
     "output_type": "display_data"
    }
   ],
   "source": [
    "from noteLib import plot_labeled_rgb\n",
    "ntime = len(ul_dataset.time)\n",
    "\n",
    "t=0\n",
    "cnt=0\n",
    "plot_labeled_rgb(ul_dataset, t, cnt)"
   ]
  }
 ],
 "metadata": {
  "kernelspec": {
   "display_name": "Python 3",
   "language": "python",
   "name": "python3"
  },
  "language_info": {
   "codemirror_mode": {
    "name": "ipython",
    "version": 3
   },
   "file_extension": ".py",
   "mimetype": "text/x-python",
   "name": "python",
   "nbconvert_exporter": "python",
   "pygments_lexer": "ipython3",
   "version": "3.5.2"
  }
 },
 "nbformat": 4,
 "nbformat_minor": 2
}
