{
 "cells": [
  {
   "cell_type": "code",
   "execution_count": 1,
   "metadata": {},
   "outputs": [],
   "source": [
    "# Enable plotting\n",
    "%matplotlib inline\n",
    "\n",
    "# Supress Warning \n",
    "import numpy as np\n",
    "import warnings\n",
    "warnings.filterwarnings('ignore')\n",
    "\n",
    "import time"
   ]
  },
  {
   "cell_type": "markdown",
   "metadata": {},
   "source": [
    "# grabbing the upper left chip\n",
    "\n",
    "## so far harder than I think\n"
   ]
  },
  {
   "cell_type": "markdown",
   "metadata": {},
   "source": [
    "# select  a scene to determine the bounding box from a small date range\n",
    "\n",
    "## June and July 1015"
   ]
  },
  {
   "cell_type": "code",
   "execution_count": 2,
   "metadata": {},
   "outputs": [
    {
     "name": "stderr",
     "output_type": "stream",
     "text": [
      "Failed to resolve driver datacube.plugins.index::s3aio_index\n"
     ]
    },
    {
     "name": "stdout",
     "output_type": "stream",
     "text": [
      "Number of Pretty Scenes 3\n"
     ]
    }
   ],
   "source": [
    "import datacube\n",
    "import time\n",
    "\n",
    "from datetime import datetime\n",
    "\n",
    "\n",
    "dc = datacube.Datacube(app = 'my_app', config = '../datacube.conf')\n",
    "selected_product = 'landsat_8_USARD'\n",
    "\n",
    "date_range = (\n",
    "        datetime(2015,6,1),\n",
    "        datetime(2015,7,31))\n",
    "dss = dc.find_datasets(product=selected_product, time=date_range, measurements=['red',])\n",
    "\n",
    "clear_datasets = []\n",
    "for item in dss:\n",
    "    \n",
    "    if float(item.metadata_doc['cloud_cover']) < 20.0:\n",
    "        if float(item.metadata_doc['fill']) < 30.0:\n",
    "            clear_datasets.append(item)\n",
    "            \n",
    "print(\"Number of Pretty Scenes\", len(clear_datasets))\n",
    "# for citem in clear_datasets:\n",
    "  #   print(citem.uris)\n"
   ]
  },
  {
   "cell_type": "code",
   "execution_count": 3,
   "metadata": {},
   "outputs": [
    {
     "data": {
      "text/plain": [
       "Geometry(POLYGON ((-2115585 2714805,-2115585 2864805,-1965585 2864805,-1965585 2714805,-2115585 2714805)), epsg:5072)"
      ]
     },
     "execution_count": 3,
     "metadata": {},
     "output_type": "execute_result"
    }
   ],
   "source": [
    "citem = clear_datasets[0]\n",
    "citem.extent"
   ]
  },
  {
   "cell_type": "code",
   "execution_count": 4,
   "metadata": {},
   "outputs": [],
   "source": [
    "citem.bounds\n",
    "\n",
    "l = citem.bounds.left\n",
    "\n",
    "b = citem.bounds.bottom\n",
    "\n",
    "r = citem.bounds.right\n",
    "\n",
    "t = citem.bounds.top\n",
    "\n"
   ]
  },
  {
   "cell_type": "markdown",
   "metadata": {},
   "source": [
    "# calculate the top 100 by 100\n"
   ]
  },
  {
   "cell_type": "code",
   "execution_count": 5,
   "metadata": {},
   "outputs": [],
   "source": [
    "ul = (l,t)\n",
    "ll = (l,b)\n",
    "ur = (r,t)\n",
    "lr = (r,b)\n",
    "\n"
   ]
  },
  {
   "cell_type": "code",
   "execution_count": 6,
   "metadata": {},
   "outputs": [],
   "source": [
    "from pyproj import Proj\n",
    "\n",
    "# Create projection transformation object\n",
    "\n",
    "p = Proj(init='epsg:5072') # EPSG code AEA\n",
    "\n"
   ]
  },
  {
   "cell_type": "code",
   "execution_count": 7,
   "metadata": {},
   "outputs": [
    {
     "name": "stdout",
     "output_type": "stream",
     "text": [
      "(-123.65295990244589, 45.98158234615641) (-123.10897051199379, 44.6880805406182) (-121.79048180418519, 46.35679328037768) (-121.27941840157558, 45.0548471697178)\n"
     ]
    }
   ],
   "source": [
    "\n",
    "aul = p(ul[0],ul[1], inverse=True)\n",
    "all = p(ll[0],ll[1], inverse=True)\n",
    "aur = p(ur[0],ur[1], inverse=True)\n",
    "alr = p(lr[0],lr[1], inverse=True)\n",
    "\n",
    "print(aul,all,aur,alr)"
   ]
  },
  {
   "cell_type": "code",
   "execution_count": 8,
   "metadata": {},
   "outputs": [],
   "source": [
    "x1 = l + 300 * 30\n",
    "x2 = l + 399 * 30\n",
    "y1 = t\n",
    "y2 = t - 99 * 30\n",
    "\n",
    "# x1 = l + 4100 * 30\n",
    "# x2 = l + 4199 * 30\n",
    "# y1 = t - 3400 * 30\n",
    "# y2 = t - 3500 * 30\n"
   ]
  },
  {
   "cell_type": "code",
   "execution_count": 9,
   "metadata": {},
   "outputs": [],
   "source": [
    "def load_me_xy():\n",
    "    selected_product = 'landsat_8_USARD'\n",
    "    measurements=['red','green','blue']\n",
    "    # ## for pyccd - you need thesed \n",
    "    # measurements = ['red', 'green', 'blue', 'nir', 'swir1', 'swir2', 'pixel_qa']\n",
    "\n",
    "    ds2 = dc.load(product=selected_product, datasets=clear_datasets, measurements=measurements,\n",
    "             x=(x1,x2),y=(y1,y2), crs='epsg:5072',\n",
    "\n",
    "                output_crs = 'epsg:5072', \n",
    "              # output_crs = 'epsg:4326', \n",
    "\n",
    "              resolution = (-30,30))\n",
    "    return (ds2)"
   ]
  },
  {
   "cell_type": "code",
   "execution_count": 10,
   "metadata": {},
   "outputs": [
    {
     "name": "stderr",
     "output_type": "stream",
     "text": [
      "Failed to resolve driver datacube.plugins.io.read::s3aio\n",
      "Failed to resolve driver datacube.plugins.io.read::s3aio_test\n",
      "Exception during driver init, driver name: datacube.plugins.io.read::failing_end_point_throw\n",
      "Failed to resolve driver datacube.plugins.io.read::bad_end_point\n",
      "Driver init returned None, driver name: datacube.plugins.io.read::failing_end_point_none\n"
     ]
    },
    {
     "name": "stdout",
     "output_type": "stream",
     "text": [
      "TONY load output_crs=output_crs, =  epsg:5072\n",
      "TONY output_geobox crs =  epsg:5072\n",
      "TONY geopolygon crs =  epsg:5072\n",
      "TONY geopolygon stuff =  epsg:5072 | 30.00, 0.00,-2106600.00|\n",
      "| 0.00,-30.00, 2864820.00|\n",
      "| 0.00, 0.00, 1.00| 100 100\n",
      "TONY GeoBox extent =  Geometry({'type': 'Polygon', 'coordinates': [[(-2106600.0, 2864820.0), (-2106600.0, 2861820.0), (-2103600.0, 2861820.0), (-2103600.0, 2864820.0), (-2106600.0, 2864820.0)]]}, CRS('epsg:5072'))\n",
      "TONY load type geobox =  <class 'datacube.utils.geometry.GeoBox'>\n",
      "TONY load geobox =  GeoBox(Geometry({'type': 'Polygon', 'coordinates': [[(-123.54205084339927, 46.00489041752113), (-123.53100259051281, 45.978989034639056), (-123.49394860616017, 45.98670473178461), (-123.50498368925659, 46.01260968029343), (-123.54205084339927, 46.00489041752113)]]}, CRS('EPSG:4326')))\n",
      "TONY load geobox.extent =  Geometry({'type': 'Polygon', 'coordinates': [[(-2106600.0, 2864820.0), (-2106600.0, 2861820.0), (-2103600.0, 2861820.0), (-2103600.0, 2864820.0), (-2106600.0, 2864820.0)]]}, CRS('epsg:5072'))\n",
      "TONY group_datasets datasets  [Dataset <id=20aa8761-b719-43f0-a011-8296f50b4d7c type=landsat_8_USARD location=None>, Dataset <id=edb1218e-c636-4ef2-890d-7f6330c30dbc type=landsat_8_USARD location=None>, Dataset <id=c2566872-aa8f-4ac4-9dda-d8787ef0f93f type=landsat_8_USARD location=None>]\n",
      "TONY group_datasets sources  <bound method ImplementsArrayReduce._reduce_method.<locals>.wrapped_func of <xarray.DataArray (time: 3)>\n",
      "array([(Dataset <id=c2566872-aa8f-4ac4-9dda-d8787ef0f93f type=landsat_8_USARD location=None>,),\n",
      "       (Dataset <id=edb1218e-c636-4ef2-890d-7f6330c30dbc type=landsat_8_USARD location=None>,),\n",
      "       (Dataset <id=20aa8761-b719-43f0-a011-8296f50b4d7c type=landsat_8_USARD location=None>,)],\n",
      "      dtype=object)\n",
      "Coordinates:\n",
      "  * time     (time) datetime64[ns] 2015-06-07T18:55:15.831248 ...>\n",
      "TONY api-core/create_storage name, coord =  time <xarray.DataArray 'time' (time: 3)>\n",
      "array(['2015-06-07T18:55:15.831248000', '2015-06-23T18:55:22.285077000',\n",
      "       '2015-07-09T18:55:32.978324000'], dtype='datetime64[ns]')\n",
      "Coordinates:\n",
      "  * time     (time) datetime64[ns] 2015-06-07T18:55:15.831248 ...\n",
      "Attributes:\n",
      "    units:    seconds since 1970-01-01 00:00:00\n",
      "TONY api-core/create_storage name, coord =  y [2864805. 2864775. 2864745. 2864715. 2864685. 2864655. 2864625. 2864595.\n",
      " 2864565. 2864535. 2864505. 2864475. 2864445. 2864415. 2864385. 2864355.\n",
      " 2864325. 2864295. 2864265. 2864235. 2864205. 2864175. 2864145. 2864115.\n",
      " 2864085. 2864055. 2864025. 2863995. 2863965. 2863935. 2863905. 2863875.\n",
      " 2863845. 2863815. 2863785. 2863755. 2863725. 2863695. 2863665. 2863635.\n",
      " 2863605. 2863575. 2863545. 2863515. 2863485. 2863455. 2863425. 2863395.\n",
      " 2863365. 2863335. 2863305. 2863275. 2863245. 2863215. 2863185. 2863155.\n",
      " 2863125. 2863095. 2863065. 2863035. 2863005. 2862975. 2862945. 2862915.\n",
      " 2862885. 2862855. 2862825. 2862795. 2862765. 2862735. 2862705. 2862675.\n",
      " 2862645. 2862615. 2862585. 2862555. 2862525. 2862495. 2862465. 2862435.\n",
      " 2862405. 2862375. 2862345. 2862315. 2862285. 2862255. 2862225. 2862195.\n",
      " 2862165. 2862135. 2862105. 2862075. 2862045. 2862015. 2861985. 2861955.\n",
      " 2861925. 2861895. 2861865. 2861835.]\n",
      "TONY api-core/create_storage name, coord =  x [-2106585. -2106555. -2106525. -2106495. -2106465. -2106435. -2106405.\n",
      " -2106375. -2106345. -2106315. -2106285. -2106255. -2106225. -2106195.\n",
      " -2106165. -2106135. -2106105. -2106075. -2106045. -2106015. -2105985.\n",
      " -2105955. -2105925. -2105895. -2105865. -2105835. -2105805. -2105775.\n",
      " -2105745. -2105715. -2105685. -2105655. -2105625. -2105595. -2105565.\n",
      " -2105535. -2105505. -2105475. -2105445. -2105415. -2105385. -2105355.\n",
      " -2105325. -2105295. -2105265. -2105235. -2105205. -2105175. -2105145.\n",
      " -2105115. -2105085. -2105055. -2105025. -2104995. -2104965. -2104935.\n",
      " -2104905. -2104875. -2104845. -2104815. -2104785. -2104755. -2104725.\n",
      " -2104695. -2104665. -2104635. -2104605. -2104575. -2104545. -2104515.\n",
      " -2104485. -2104455. -2104425. -2104395. -2104365. -2104335. -2104305.\n",
      " -2104275. -2104245. -2104215. -2104185. -2104155. -2104125. -2104095.\n",
      " -2104065. -2104035. -2104005. -2103975. -2103945. -2103915. -2103885.\n",
      " -2103855. -2103825. -2103795. -2103765. -2103735. -2103705. -2103675.\n",
      " -2103645. -2103615.]\n",
      "0TONY api-core/create_storage - xarray is  <class 'xarray.core.dataset.Dataset'>\n",
      "0TONY api-core/create_storage - xarray is  <bound method ImplementsDatasetReduce._reduce_method.<locals>.wrapped_func of <xarray.Dataset>\n",
      "Dimensions:  (time: 3, x: 100, y: 100)\n",
      "Coordinates:\n",
      "  * time     (time) datetime64[ns] 2015-06-07T18:55:15.831248 ...\n",
      "  * y        (y) float64 2.865e+06 2.865e+06 2.865e+06 2.865e+06 2.865e+06 ...\n",
      "  * x        (x) float64 -2.107e+06 -2.107e+06 -2.107e+06 -2.106e+06 ...\n",
      "Data variables:\n",
      "    *empty*\n",
      "Attributes:\n",
      "    crs:      epsg:5072>\n",
      "TONY load_data - shape is: (3,)\n",
      "TONY load_data - geobox shape is: (100, 100)\n",
      "TONY load_data - nodata is: -9999\n",
      "TONY load_data - dtype is: int16\n",
      "TONY load_data - sources.values is: [(Dataset <id=c2566872-aa8f-4ac4-9dda-d8787ef0f93f type=landsat_8_USARD location=None>,)\n",
      " (Dataset <id=edb1218e-c636-4ef2-890d-7f6330c30dbc type=landsat_8_USARD location=None>,)\n",
      " (Dataset <id=20aa8761-b719-43f0-a011-8296f50b4d7c type=landsat_8_USARD location=None>,)]\n",
      "TONY (driver/readers.py) source_type <class 'datacube.storage.storage.RasterDatasetDataSource'>\n",
      "TONY (driver/readers.py) band_name red\n",
      "TONY (driver/readers.py) return source_type <datacube.storage.storage.RasterDatasetDataSource object at 0x7fbfa5da5278>\n",
      "TONY storage RasterDatasetDataSource src  <open DatasetReader name='s3://ga-odc-eros-ard-west/usard/LC08/20150607/LC08_CU_003003_20150607_20170713_C01_V01_SRB4.tif' mode='r'>\n",
      "TONY BandDataSource reproject  epsg:5072\n",
      "TONY BandDataSource reproject abc <class 'NoneType'>\n",
      "TONY BandDataSource reproject dir abc ['__bool__', '__class__', '__delattr__', '__dir__', '__doc__', '__eq__', '__format__', '__ge__', '__getattribute__', '__gt__', '__hash__', '__init__', '__le__', '__lt__', '__ne__', '__new__', '__reduce__', '__reduce_ex__', '__repr__', '__setattr__', '__sizeof__', '__str__', '__subclasshook__']\n",
      "TONY BandDataSource reproject print abc None\n",
      "TONY (driver/readers.py) source_type <class 'datacube.storage.storage.RasterDatasetDataSource'>\n",
      "TONY (driver/readers.py) band_name red\n",
      "TONY (driver/readers.py) return source_type <datacube.storage.storage.RasterDatasetDataSource object at 0x7fbfa66a3588>\n",
      "TONY storage RasterDatasetDataSource src  <open DatasetReader name='s3://ga-odc-eros-ard-west/usard/LC08/20150623/LC08_CU_003003_20150623_20170713_C01_V01_SRB4.tif' mode='r'>\n",
      "TONY BandDataSource reproject  epsg:5072\n",
      "TONY BandDataSource reproject abc <class 'NoneType'>\n",
      "TONY BandDataSource reproject dir abc ['__bool__', '__class__', '__delattr__', '__dir__', '__doc__', '__eq__', '__format__', '__ge__', '__getattribute__', '__gt__', '__hash__', '__init__', '__le__', '__lt__', '__ne__', '__new__', '__reduce__', '__reduce_ex__', '__repr__', '__setattr__', '__sizeof__', '__str__', '__subclasshook__']\n",
      "TONY BandDataSource reproject print abc None\n",
      "TONY (driver/readers.py) source_type <class 'datacube.storage.storage.RasterDatasetDataSource'>\n",
      "TONY (driver/readers.py) band_name red\n",
      "TONY (driver/readers.py) return source_type <datacube.storage.storage.RasterDatasetDataSource object at 0x7fbfa66a36a0>\n",
      "TONY storage RasterDatasetDataSource src  <open DatasetReader name='s3://ga-odc-eros-ard-west/usard/LC08/20150709/LC08_CU_003003_20150709_20170713_C01_V01_SRB4.tif' mode='r'>\n",
      "TONY BandDataSource reproject  epsg:5072\n",
      "TONY BandDataSource reproject abc <class 'NoneType'>\n",
      "TONY BandDataSource reproject dir abc ['__bool__', '__class__', '__delattr__', '__dir__', '__doc__', '__eq__', '__format__', '__ge__', '__getattribute__', '__gt__', '__hash__', '__init__', '__le__', '__lt__', '__ne__', '__new__', '__reduce__', '__reduce_ex__', '__repr__', '__setattr__', '__sizeof__', '__str__', '__subclasshook__']\n",
      "TONY BandDataSource reproject print abc None\n",
      "TONY load_data - shape is: (3,)\n",
      "TONY load_data - geobox shape is: (100, 100)\n",
      "TONY load_data - nodata is: -9999\n",
      "TONY load_data - dtype is: int16\n",
      "TONY load_data - sources.values is: [(Dataset <id=c2566872-aa8f-4ac4-9dda-d8787ef0f93f type=landsat_8_USARD location=None>,)\n",
      " (Dataset <id=edb1218e-c636-4ef2-890d-7f6330c30dbc type=landsat_8_USARD location=None>,)\n",
      " (Dataset <id=20aa8761-b719-43f0-a011-8296f50b4d7c type=landsat_8_USARD location=None>,)]\n",
      "TONY (driver/readers.py) source_type <class 'datacube.storage.storage.RasterDatasetDataSource'>\n",
      "TONY (driver/readers.py) band_name green\n",
      "TONY (driver/readers.py) return source_type <datacube.storage.storage.RasterDatasetDataSource object at 0x7fbfa5826438>\n"
     ]
    },
    {
     "name": "stdout",
     "output_type": "stream",
     "text": [
      "TONY storage RasterDatasetDataSource src  <open DatasetReader name='s3://ga-odc-eros-ard-west/usard/LC08/20150607/LC08_CU_003003_20150607_20170713_C01_V01_SRB3.tif' mode='r'>\n",
      "TONY BandDataSource reproject  epsg:5072\n",
      "TONY BandDataSource reproject abc <class 'NoneType'>\n",
      "TONY BandDataSource reproject dir abc ['__bool__', '__class__', '__delattr__', '__dir__', '__doc__', '__eq__', '__format__', '__ge__', '__getattribute__', '__gt__', '__hash__', '__init__', '__le__', '__lt__', '__ne__', '__new__', '__reduce__', '__reduce_ex__', '__repr__', '__setattr__', '__sizeof__', '__str__', '__subclasshook__']\n",
      "TONY BandDataSource reproject print abc None\n",
      "TONY (driver/readers.py) source_type <class 'datacube.storage.storage.RasterDatasetDataSource'>\n",
      "TONY (driver/readers.py) band_name green\n",
      "TONY (driver/readers.py) return source_type <datacube.storage.storage.RasterDatasetDataSource object at 0x7fbfa5dc3748>\n",
      "TONY storage RasterDatasetDataSource src  <open DatasetReader name='s3://ga-odc-eros-ard-west/usard/LC08/20150623/LC08_CU_003003_20150623_20170713_C01_V01_SRB3.tif' mode='r'>\n",
      "TONY BandDataSource reproject  epsg:5072\n",
      "TONY BandDataSource reproject abc <class 'NoneType'>\n",
      "TONY BandDataSource reproject dir abc ['__bool__', '__class__', '__delattr__', '__dir__', '__doc__', '__eq__', '__format__', '__ge__', '__getattribute__', '__gt__', '__hash__', '__init__', '__le__', '__lt__', '__ne__', '__new__', '__reduce__', '__reduce_ex__', '__repr__', '__setattr__', '__sizeof__', '__str__', '__subclasshook__']\n",
      "TONY BandDataSource reproject print abc None\n",
      "TONY (driver/readers.py) source_type <class 'datacube.storage.storage.RasterDatasetDataSource'>\n",
      "TONY (driver/readers.py) band_name green\n",
      "TONY (driver/readers.py) return source_type <datacube.storage.storage.RasterDatasetDataSource object at 0x7fbfa586b710>\n",
      "TONY storage RasterDatasetDataSource src  <open DatasetReader name='s3://ga-odc-eros-ard-west/usard/LC08/20150709/LC08_CU_003003_20150709_20170713_C01_V01_SRB3.tif' mode='r'>\n",
      "TONY BandDataSource reproject  epsg:5072\n",
      "TONY BandDataSource reproject abc <class 'NoneType'>\n",
      "TONY BandDataSource reproject dir abc ['__bool__', '__class__', '__delattr__', '__dir__', '__doc__', '__eq__', '__format__', '__ge__', '__getattribute__', '__gt__', '__hash__', '__init__', '__le__', '__lt__', '__ne__', '__new__', '__reduce__', '__reduce_ex__', '__repr__', '__setattr__', '__sizeof__', '__str__', '__subclasshook__']\n",
      "TONY BandDataSource reproject print abc None\n",
      "TONY load_data - shape is: (3,)\n",
      "TONY load_data - geobox shape is: (100, 100)\n",
      "TONY load_data - nodata is: -9999\n",
      "TONY load_data - dtype is: int16\n",
      "TONY load_data - sources.values is: [(Dataset <id=c2566872-aa8f-4ac4-9dda-d8787ef0f93f type=landsat_8_USARD location=None>,)\n",
      " (Dataset <id=edb1218e-c636-4ef2-890d-7f6330c30dbc type=landsat_8_USARD location=None>,)\n",
      " (Dataset <id=20aa8761-b719-43f0-a011-8296f50b4d7c type=landsat_8_USARD location=None>,)]\n",
      "TONY (driver/readers.py) source_type <class 'datacube.storage.storage.RasterDatasetDataSource'>\n",
      "TONY (driver/readers.py) band_name blue\n",
      "TONY (driver/readers.py) return source_type <datacube.storage.storage.RasterDatasetDataSource object at 0x7fbfa5826208>\n",
      "TONY storage RasterDatasetDataSource src  <open DatasetReader name='s3://ga-odc-eros-ard-west/usard/LC08/20150607/LC08_CU_003003_20150607_20170713_C01_V01_SRB2.tif' mode='r'>\n",
      "TONY BandDataSource reproject  epsg:5072\n",
      "TONY BandDataSource reproject abc <class 'NoneType'>\n",
      "TONY BandDataSource reproject dir abc ['__bool__', '__class__', '__delattr__', '__dir__', '__doc__', '__eq__', '__format__', '__ge__', '__getattribute__', '__gt__', '__hash__', '__init__', '__le__', '__lt__', '__ne__', '__new__', '__reduce__', '__reduce_ex__', '__repr__', '__setattr__', '__sizeof__', '__str__', '__subclasshook__']\n",
      "TONY BandDataSource reproject print abc None\n",
      "TONY (driver/readers.py) source_type <class 'datacube.storage.storage.RasterDatasetDataSource'>\n",
      "TONY (driver/readers.py) band_name blue\n",
      "TONY (driver/readers.py) return source_type <datacube.storage.storage.RasterDatasetDataSource object at 0x7fbfa5826208>\n",
      "TONY storage RasterDatasetDataSource src  <open DatasetReader name='s3://ga-odc-eros-ard-west/usard/LC08/20150623/LC08_CU_003003_20150623_20170713_C01_V01_SRB2.tif' mode='r'>\n",
      "TONY BandDataSource reproject  epsg:5072\n",
      "TONY BandDataSource reproject abc <class 'NoneType'>\n",
      "TONY BandDataSource reproject dir abc ['__bool__', '__class__', '__delattr__', '__dir__', '__doc__', '__eq__', '__format__', '__ge__', '__getattribute__', '__gt__', '__hash__', '__init__', '__le__', '__lt__', '__ne__', '__new__', '__reduce__', '__reduce_ex__', '__repr__', '__setattr__', '__sizeof__', '__str__', '__subclasshook__']\n",
      "TONY BandDataSource reproject print abc None\n",
      "TONY (driver/readers.py) source_type <class 'datacube.storage.storage.RasterDatasetDataSource'>\n",
      "TONY (driver/readers.py) band_name blue\n",
      "TONY (driver/readers.py) return source_type <datacube.storage.storage.RasterDatasetDataSource object at 0x7fbfa438e4e0>\n",
      "TONY storage RasterDatasetDataSource src  <open DatasetReader name='s3://ga-odc-eros-ard-west/usard/LC08/20150709/LC08_CU_003003_20150709_20170713_C01_V01_SRB2.tif' mode='r'>\n",
      "TONY BandDataSource reproject  epsg:5072\n",
      "TONY BandDataSource reproject abc <class 'NoneType'>\n",
      "TONY BandDataSource reproject dir abc ['__bool__', '__class__', '__delattr__', '__dir__', '__doc__', '__eq__', '__format__', '__ge__', '__getattribute__', '__gt__', '__hash__', '__init__', '__le__', '__lt__', '__ne__', '__new__', '__reduce__', '__reduce_ex__', '__repr__', '__setattr__', '__sizeof__', '__str__', '__subclasshook__']\n",
      "TONY BandDataSource reproject print abc None\n",
      "2TONY api-core/create_storage - xarray is  <class 'xarray.core.dataset.Dataset'>\n",
      "2TONY api-core/create_storage - xarray is  <bound method ImplementsDatasetReduce._reduce_method.<locals>.wrapped_func of <xarray.Dataset>\n",
      "Dimensions:  (time: 3, x: 100, y: 100)\n",
      "Coordinates:\n",
      "  * time     (time) datetime64[ns] 2015-06-07T18:55:15.831248 ...\n",
      "  * y        (y) float64 2.865e+06 2.865e+06 2.865e+06 2.865e+06 2.865e+06 ...\n",
      "  * x        (x) float64 -2.107e+06 -2.107e+06 -2.107e+06 -2.106e+06 ...\n",
      "Data variables:\n",
      "    red      (time, y, x) int16 -9999 -9999 -9999 -9999 -9999 -9999 -9999 ...\n",
      "    green    (time, y, x) int16 -9999 -9999 -9999 -9999 -9999 -9999 -9999 ...\n",
      "    blue     (time, y, x) int16 -9999 -9999 -9999 -9999 -9999 -9999 -9999 ...\n",
      "Attributes:\n",
      "    crs:      epsg:5072>\n",
      "3TONY api-core/load - xarray is  <class 'xarray.core.dataset.Dataset'>\n",
      "<bound method ImplementsDatasetReduce._reduce_method.<locals>.wrapped_func of <xarray.Dataset>\n",
      "Dimensions:  (time: 3, x: 100, y: 100)\n",
      "Coordinates:\n",
      "  * time     (time) datetime64[ns] 2015-06-07T18:55:15.831248 ...\n",
      "  * y        (y) float64 2.865e+06 2.865e+06 2.865e+06 2.865e+06 2.865e+06 ...\n",
      "  * x        (x) float64 -2.107e+06 -2.107e+06 -2.107e+06 -2.106e+06 ...\n",
      "Data variables:\n",
      "    red      (time, y, x) int16 -9999 -9999 -9999 -9999 -9999 -9999 -9999 ...\n",
      "    green    (time, y, x) int16 -9999 -9999 -9999 -9999 -9999 -9999 -9999 ...\n",
      "    blue     (time, y, x) int16 -9999 -9999 -9999 -9999 -9999 -9999 -9999 ...\n",
      "Attributes:\n",
      "    crs:      epsg:5072>\n",
      "3TONY api-core/load - xarray is  None\n",
      "CPU times: user 559 ms, sys: 38.9 ms, total: 598 ms\n",
      "Wall time: 5.26 s\n"
     ]
    }
   ],
   "source": [
    "t1 = time.time()\n",
    "%time ul_dataset = load_me_xy()"
   ]
  },
  {
   "cell_type": "code",
   "execution_count": 11,
   "metadata": {},
   "outputs": [
    {
     "data": {
      "text/plain": [
       "True"
      ]
     },
     "execution_count": 11,
     "metadata": {},
     "output_type": "execute_result"
    },
    {
     "data": {
      "image/png": "[encoded data removed]",
      "text/plain": [
       "<Figure size 576x576 with 1 Axes>"
      ]
     },
     "metadata": {},
     "output_type": "display_data"
    }
   ],
   "source": [
    "from noteLib import plot_labeled_rgb\n",
    "ntime = len(ul_dataset.time)\n",
    "\n",
    "t=0\n",
    "cnt=0\n",
    "plot_labeled_rgb(ul_dataset, t, cnt)"
   ]
  },
  {
   "cell_type": "code",
   "execution_count": 12,
   "metadata": {},
   "outputs": [
    {
     "name": "stdout",
     "output_type": "stream",
     "text": [
      "TONY load output_crs=output_crs, =  epsg:5072\n",
      "TONY output_geobox crs =  epsg:5072\n",
      "TONY geopolygon crs =  epsg:5072\n",
      "TONY geopolygon stuff =  epsg:5072 | 30.00, 0.00,-2106600.00|\n",
      "| 0.00,-30.00, 2864820.00|\n",
      "| 0.00, 0.00, 1.00| 100 100\n",
      "TONY GeoBox extent =  Geometry({'type': 'Polygon', 'coordinates': [[(-2106600.0, 2864820.0), (-2106600.0, 2861820.0), (-2103600.0, 2861820.0), (-2103600.0, 2864820.0), (-2106600.0, 2864820.0)]]}, CRS('epsg:5072'))\n",
      "TONY load type geobox =  <class 'datacube.utils.geometry.GeoBox'>\n",
      "TONY load geobox =  GeoBox(Geometry({'type': 'Polygon', 'coordinates': [[(-123.54205084339927, 46.00489041752113), (-123.53100259051281, 45.978989034639056), (-123.49394860616017, 45.98670473178461), (-123.50498368925659, 46.01260968029343), (-123.54205084339927, 46.00489041752113)]]}, CRS('EPSG:4326')))\n",
      "TONY load geobox.extent =  Geometry({'type': 'Polygon', 'coordinates': [[(-2106600.0, 2864820.0), (-2106600.0, 2861820.0), (-2103600.0, 2861820.0), (-2103600.0, 2864820.0), (-2106600.0, 2864820.0)]]}, CRS('epsg:5072'))\n",
      "TONY group_datasets datasets  [Dataset <id=c2566872-aa8f-4ac4-9dda-d8787ef0f93f type=landsat_8_USARD location=None>, Dataset <id=edb1218e-c636-4ef2-890d-7f6330c30dbc type=landsat_8_USARD location=None>, Dataset <id=20aa8761-b719-43f0-a011-8296f50b4d7c type=landsat_8_USARD location=None>]\n",
      "TONY group_datasets sources  <bound method ImplementsArrayReduce._reduce_method.<locals>.wrapped_func of <xarray.DataArray (time: 3)>\n",
      "array([(Dataset <id=c2566872-aa8f-4ac4-9dda-d8787ef0f93f type=landsat_8_USARD location=None>,),\n",
      "       (Dataset <id=edb1218e-c636-4ef2-890d-7f6330c30dbc type=landsat_8_USARD location=None>,),\n",
      "       (Dataset <id=20aa8761-b719-43f0-a011-8296f50b4d7c type=landsat_8_USARD location=None>,)],\n",
      "      dtype=object)\n",
      "Coordinates:\n",
      "  * time     (time) datetime64[ns] 2015-06-07T18:55:15.831248 ...>\n",
      "TONY api-core/create_storage name, coord =  time <xarray.DataArray 'time' (time: 3)>\n",
      "array(['2015-06-07T18:55:15.831248000', '2015-06-23T18:55:22.285077000',\n",
      "       '2015-07-09T18:55:32.978324000'], dtype='datetime64[ns]')\n",
      "Coordinates:\n",
      "  * time     (time) datetime64[ns] 2015-06-07T18:55:15.831248 ...\n",
      "Attributes:\n",
      "    units:    seconds since 1970-01-01 00:00:00\n",
      "TONY api-core/create_storage name, coord =  y [2864805. 2864775. 2864745. 2864715. 2864685. 2864655. 2864625. 2864595.\n",
      " 2864565. 2864535. 2864505. 2864475. 2864445. 2864415. 2864385. 2864355.\n",
      " 2864325. 2864295. 2864265. 2864235. 2864205. 2864175. 2864145. 2864115.\n",
      " 2864085. 2864055. 2864025. 2863995. 2863965. 2863935. 2863905. 2863875.\n",
      " 2863845. 2863815. 2863785. 2863755. 2863725. 2863695. 2863665. 2863635.\n",
      " 2863605. 2863575. 2863545. 2863515. 2863485. 2863455. 2863425. 2863395.\n",
      " 2863365. 2863335. 2863305. 2863275. 2863245. 2863215. 2863185. 2863155.\n",
      " 2863125. 2863095. 2863065. 2863035. 2863005. 2862975. 2862945. 2862915.\n",
      " 2862885. 2862855. 2862825. 2862795. 2862765. 2862735. 2862705. 2862675.\n",
      " 2862645. 2862615. 2862585. 2862555. 2862525. 2862495. 2862465. 2862435.\n",
      " 2862405. 2862375. 2862345. 2862315. 2862285. 2862255. 2862225. 2862195.\n",
      " 2862165. 2862135. 2862105. 2862075. 2862045. 2862015. 2861985. 2861955.\n",
      " 2861925. 2861895. 2861865. 2861835.]\n",
      "TONY api-core/create_storage name, coord =  x [-2106585. -2106555. -2106525. -2106495. -2106465. -2106435. -2106405.\n",
      " -2106375. -2106345. -2106315. -2106285. -2106255. -2106225. -2106195.\n",
      " -2106165. -2106135. -2106105. -2106075. -2106045. -2106015. -2105985.\n",
      " -2105955. -2105925. -2105895. -2105865. -2105835. -2105805. -2105775.\n",
      " -2105745. -2105715. -2105685. -2105655. -2105625. -2105595. -2105565.\n",
      " -2105535. -2105505. -2105475. -2105445. -2105415. -2105385. -2105355.\n",
      " -2105325. -2105295. -2105265. -2105235. -2105205. -2105175. -2105145.\n",
      " -2105115. -2105085. -2105055. -2105025. -2104995. -2104965. -2104935.\n",
      " -2104905. -2104875. -2104845. -2104815. -2104785. -2104755. -2104725.\n",
      " -2104695. -2104665. -2104635. -2104605. -2104575. -2104545. -2104515.\n",
      " -2104485. -2104455. -2104425. -2104395. -2104365. -2104335. -2104305.\n",
      " -2104275. -2104245. -2104215. -2104185. -2104155. -2104125. -2104095.\n",
      " -2104065. -2104035. -2104005. -2103975. -2103945. -2103915. -2103885.\n",
      " -2103855. -2103825. -2103795. -2103765. -2103735. -2103705. -2103675.\n",
      " -2103645. -2103615.]\n",
      "0TONY api-core/create_storage - xarray is  <class 'xarray.core.dataset.Dataset'>\n",
      "0TONY api-core/create_storage - xarray is  <bound method ImplementsDatasetReduce._reduce_method.<locals>.wrapped_func of <xarray.Dataset>\n",
      "Dimensions:  (time: 3, x: 100, y: 100)\n",
      "Coordinates:\n",
      "  * time     (time) datetime64[ns] 2015-06-07T18:55:15.831248 ...\n",
      "  * y        (y) float64 2.865e+06 2.865e+06 2.865e+06 2.865e+06 2.865e+06 ...\n",
      "  * x        (x) float64 -2.107e+06 -2.107e+06 -2.107e+06 -2.106e+06 ...\n",
      "Data variables:\n",
      "    *empty*\n",
      "Attributes:\n",
      "    crs:      epsg:5072>\n",
      "TONY load_data - shape is: (3,)\n",
      "TONY load_data - geobox shape is: (100, 100)\n",
      "TONY load_data - nodata is: -9999\n",
      "TONY load_data - dtype is: int16\n",
      "TONY load_data - sources.values is: [(Dataset <id=c2566872-aa8f-4ac4-9dda-d8787ef0f93f type=landsat_8_USARD location=None>,)\n",
      " (Dataset <id=edb1218e-c636-4ef2-890d-7f6330c30dbc type=landsat_8_USARD location=None>,)\n",
      " (Dataset <id=20aa8761-b719-43f0-a011-8296f50b4d7c type=landsat_8_USARD location=None>,)]\n",
      "TONY (driver/readers.py) source_type <class 'datacube.storage.storage.RasterDatasetDataSource'>\n",
      "TONY (driver/readers.py) band_name red\n",
      "TONY (driver/readers.py) return source_type <datacube.storage.storage.RasterDatasetDataSource object at 0x7fbf87deada0>\n",
      "TONY storage RasterDatasetDataSource src  <open DatasetReader name='s3://ga-odc-eros-ard-west/usard/LC08/20150607/LC08_CU_003003_20150607_20170713_C01_V01_SRB4.tif' mode='r'>\n",
      "TONY BandDataSource reproject  epsg:5072\n",
      "TONY BandDataSource reproject abc <class 'NoneType'>\n",
      "TONY BandDataSource reproject dir abc ['__bool__', '__class__', '__delattr__', '__dir__', '__doc__', '__eq__', '__format__', '__ge__', '__getattribute__', '__gt__', '__hash__', '__init__', '__le__', '__lt__', '__ne__', '__new__', '__reduce__', '__reduce_ex__', '__repr__', '__setattr__', '__sizeof__', '__str__', '__subclasshook__']\n",
      "TONY BandDataSource reproject print abc None\n",
      "TONY (driver/readers.py) source_type <class 'datacube.storage.storage.RasterDatasetDataSource'>\n",
      "TONY (driver/readers.py) band_name red\n",
      "TONY (driver/readers.py) return source_type <datacube.storage.storage.RasterDatasetDataSource object at 0x7fbf87df9e10>\n",
      "TONY storage RasterDatasetDataSource src  <open DatasetReader name='s3://ga-odc-eros-ard-west/usard/LC08/20150623/LC08_CU_003003_20150623_20170713_C01_V01_SRB4.tif' mode='r'>\n",
      "TONY BandDataSource reproject  epsg:5072\n",
      "TONY BandDataSource reproject abc <class 'NoneType'>\n",
      "TONY BandDataSource reproject dir abc ['__bool__', '__class__', '__delattr__', '__dir__', '__doc__', '__eq__', '__format__', '__ge__', '__getattribute__', '__gt__', '__hash__', '__init__', '__le__', '__lt__', '__ne__', '__new__', '__reduce__', '__reduce_ex__', '__repr__', '__setattr__', '__sizeof__', '__str__', '__subclasshook__']\n",
      "TONY BandDataSource reproject print abc None\n",
      "TONY (driver/readers.py) source_type <class 'datacube.storage.storage.RasterDatasetDataSource'>\n",
      "TONY (driver/readers.py) band_name red\n",
      "TONY (driver/readers.py) return source_type <datacube.storage.storage.RasterDatasetDataSource object at 0x7fbf87df96d8>\n",
      "TONY storage RasterDatasetDataSource src  <open DatasetReader name='s3://ga-odc-eros-ard-west/usard/LC08/20150709/LC08_CU_003003_20150709_20170713_C01_V01_SRB4.tif' mode='r'>\n",
      "TONY BandDataSource reproject  epsg:5072\n",
      "TONY BandDataSource reproject abc <class 'NoneType'>\n",
      "TONY BandDataSource reproject dir abc ['__bool__', '__class__', '__delattr__', '__dir__', '__doc__', '__eq__', '__format__', '__ge__', '__getattribute__', '__gt__', '__hash__', '__init__', '__le__', '__lt__', '__ne__', '__new__', '__reduce__', '__reduce_ex__', '__repr__', '__setattr__', '__sizeof__', '__str__', '__subclasshook__']\n",
      "TONY BandDataSource reproject print abc None\n",
      "TONY load_data - shape is: (3,)\n",
      "TONY load_data - geobox shape is: (100, 100)\n",
      "TONY load_data - nodata is: -9999\n",
      "TONY load_data - dtype is: int16\n",
      "TONY load_data - sources.values is: [(Dataset <id=c2566872-aa8f-4ac4-9dda-d8787ef0f93f type=landsat_8_USARD location=None>,)\n",
      " (Dataset <id=edb1218e-c636-4ef2-890d-7f6330c30dbc type=landsat_8_USARD location=None>,)\n",
      " (Dataset <id=20aa8761-b719-43f0-a011-8296f50b4d7c type=landsat_8_USARD location=None>,)]\n",
      "TONY (driver/readers.py) source_type <class 'datacube.storage.storage.RasterDatasetDataSource'>\n",
      "TONY (driver/readers.py) band_name green\n",
      "TONY (driver/readers.py) return source_type <datacube.storage.storage.RasterDatasetDataSource object at 0x7fbf87df96a0>\n",
      "TONY storage RasterDatasetDataSource src  <open DatasetReader name='s3://ga-odc-eros-ard-west/usard/LC08/20150607/LC08_CU_003003_20150607_20170713_C01_V01_SRB3.tif' mode='r'>\n",
      "TONY BandDataSource reproject  epsg:5072\n",
      "TONY BandDataSource reproject abc <class 'NoneType'>\n",
      "TONY BandDataSource reproject dir abc ['__bool__', '__class__', '__delattr__', '__dir__', '__doc__', '__eq__', '__format__', '__ge__', '__getattribute__', '__gt__', '__hash__', '__init__', '__le__', '__lt__', '__ne__', '__new__', '__reduce__', '__reduce_ex__', '__repr__', '__setattr__', '__sizeof__', '__str__', '__subclasshook__']\n",
      "TONY BandDataSource reproject print abc None\n",
      "TONY (driver/readers.py) source_type <class 'datacube.storage.storage.RasterDatasetDataSource'>\n",
      "TONY (driver/readers.py) band_name green\n",
      "TONY (driver/readers.py) return source_type <datacube.storage.storage.RasterDatasetDataSource object at 0x7fbf87df9e10>\n",
      "TONY storage RasterDatasetDataSource src  <open DatasetReader name='s3://ga-odc-eros-ard-west/usard/LC08/20150623/LC08_CU_003003_20150623_20170713_C01_V01_SRB3.tif' mode='r'>\n",
      "TONY BandDataSource reproject  epsg:5072\n",
      "TONY BandDataSource reproject abc <class 'NoneType'>\n",
      "TONY BandDataSource reproject dir abc ['__bool__', '__class__', '__delattr__', '__dir__', '__doc__', '__eq__', '__format__', '__ge__', '__getattribute__', '__gt__', '__hash__', '__init__', '__le__', '__lt__', '__ne__', '__new__', '__reduce__', '__reduce_ex__', '__repr__', '__setattr__', '__sizeof__', '__str__', '__subclasshook__']\n",
      "TONY BandDataSource reproject print abc None\n",
      "TONY (driver/readers.py) source_type <class 'datacube.storage.storage.RasterDatasetDataSource'>\n",
      "TONY (driver/readers.py) band_name green\n",
      "TONY (driver/readers.py) return source_type <datacube.storage.storage.RasterDatasetDataSource object at 0x7fbf87df96a0>\n",
      "TONY storage RasterDatasetDataSource src  <open DatasetReader name='s3://ga-odc-eros-ard-west/usard/LC08/20150709/LC08_CU_003003_20150709_20170713_C01_V01_SRB3.tif' mode='r'>\n",
      "TONY BandDataSource reproject  epsg:5072\n",
      "TONY BandDataSource reproject abc <class 'NoneType'>\n",
      "TONY BandDataSource reproject dir abc ['__bool__', '__class__', '__delattr__', '__dir__', '__doc__', '__eq__', '__format__', '__ge__', '__getattribute__', '__gt__', '__hash__', '__init__', '__le__', '__lt__', '__ne__', '__new__', '__reduce__', '__reduce_ex__', '__repr__', '__setattr__', '__sizeof__', '__str__', '__subclasshook__']\n",
      "TONY BandDataSource reproject print abc None\n",
      "TONY load_data - shape is: (3,)\n",
      "TONY load_data - geobox shape is: (100, 100)\n",
      "TONY load_data - nodata is: -9999\n",
      "TONY load_data - dtype is: int16\n",
      "TONY load_data - sources.values is: [(Dataset <id=c2566872-aa8f-4ac4-9dda-d8787ef0f93f type=landsat_8_USARD location=None>,)\n",
      " (Dataset <id=edb1218e-c636-4ef2-890d-7f6330c30dbc type=landsat_8_USARD location=None>,)\n",
      " (Dataset <id=20aa8761-b719-43f0-a011-8296f50b4d7c type=landsat_8_USARD location=None>,)]\n",
      "TONY (driver/readers.py) source_type <class 'datacube.storage.storage.RasterDatasetDataSource'>\n",
      "TONY (driver/readers.py) band_name blue\n",
      "TONY (driver/readers.py) return source_type <datacube.storage.storage.RasterDatasetDataSource object at 0x7fbf85db77f0>\n",
      "TONY storage RasterDatasetDataSource src  <open DatasetReader name='s3://ga-odc-eros-ard-west/usard/LC08/20150607/LC08_CU_003003_20150607_20170713_C01_V01_SRB2.tif' mode='r'>\n",
      "TONY BandDataSource reproject  epsg:5072\n",
      "TONY BandDataSource reproject abc <class 'NoneType'>\n",
      "TONY BandDataSource reproject dir abc ['__bool__', '__class__', '__delattr__', '__dir__', '__doc__', '__eq__', '__format__', '__ge__', '__getattribute__', '__gt__', '__hash__', '__init__', '__le__', '__lt__', '__ne__', '__new__', '__reduce__', '__reduce_ex__', '__repr__', '__setattr__', '__sizeof__', '__str__', '__subclasshook__']\n",
      "TONY BandDataSource reproject print abc None\n",
      "TONY (driver/readers.py) source_type <class 'datacube.storage.storage.RasterDatasetDataSource'>\n",
      "TONY (driver/readers.py) band_name blue\n",
      "TONY (driver/readers.py) return source_type <datacube.storage.storage.RasterDatasetDataSource object at 0x7fbf87deacf8>\n"
     ]
    },
    {
     "name": "stdout",
     "output_type": "stream",
     "text": [
      "TONY storage RasterDatasetDataSource src  <open DatasetReader name='s3://ga-odc-eros-ard-west/usard/LC08/20150623/LC08_CU_003003_20150623_20170713_C01_V01_SRB2.tif' mode='r'>\n",
      "TONY BandDataSource reproject  epsg:5072\n",
      "TONY BandDataSource reproject abc <class 'NoneType'>\n",
      "TONY BandDataSource reproject dir abc ['__bool__', '__class__', '__delattr__', '__dir__', '__doc__', '__eq__', '__format__', '__ge__', '__getattribute__', '__gt__', '__hash__', '__init__', '__le__', '__lt__', '__ne__', '__new__', '__reduce__', '__reduce_ex__', '__repr__', '__setattr__', '__sizeof__', '__str__', '__subclasshook__']\n",
      "TONY BandDataSource reproject print abc None\n",
      "TONY (driver/readers.py) source_type <class 'datacube.storage.storage.RasterDatasetDataSource'>\n",
      "TONY (driver/readers.py) band_name blue\n",
      "TONY (driver/readers.py) return source_type <datacube.storage.storage.RasterDatasetDataSource object at 0x7fbf85da3be0>\n",
      "TONY storage RasterDatasetDataSource src  <open DatasetReader name='s3://ga-odc-eros-ard-west/usard/LC08/20150709/LC08_CU_003003_20150709_20170713_C01_V01_SRB2.tif' mode='r'>\n",
      "TONY BandDataSource reproject  epsg:5072\n",
      "TONY BandDataSource reproject abc <class 'NoneType'>\n",
      "TONY BandDataSource reproject dir abc ['__bool__', '__class__', '__delattr__', '__dir__', '__doc__', '__eq__', '__format__', '__ge__', '__getattribute__', '__gt__', '__hash__', '__init__', '__le__', '__lt__', '__ne__', '__new__', '__reduce__', '__reduce_ex__', '__repr__', '__setattr__', '__sizeof__', '__str__', '__subclasshook__']\n",
      "TONY BandDataSource reproject print abc None\n",
      "2TONY api-core/create_storage - xarray is  <class 'xarray.core.dataset.Dataset'>\n",
      "2TONY api-core/create_storage - xarray is  <bound method ImplementsDatasetReduce._reduce_method.<locals>.wrapped_func of <xarray.Dataset>\n",
      "Dimensions:  (time: 3, x: 100, y: 100)\n",
      "Coordinates:\n",
      "  * time     (time) datetime64[ns] 2015-06-07T18:55:15.831248 ...\n",
      "  * y        (y) float64 2.865e+06 2.865e+06 2.865e+06 2.865e+06 2.865e+06 ...\n",
      "  * x        (x) float64 -2.107e+06 -2.107e+06 -2.107e+06 -2.106e+06 ...\n",
      "Data variables:\n",
      "    red      (time, y, x) int16 -9999 -9999 -9999 -9999 -9999 -9999 -9999 ...\n",
      "    green    (time, y, x) int16 -9999 -9999 -9999 -9999 -9999 -9999 -9999 ...\n",
      "    blue     (time, y, x) int16 -9999 -9999 -9999 -9999 -9999 -9999 -9999 ...\n",
      "Attributes:\n",
      "    crs:      epsg:5072>\n",
      "3TONY api-core/load - xarray is  <class 'xarray.core.dataset.Dataset'>\n",
      "<bound method ImplementsDatasetReduce._reduce_method.<locals>.wrapped_func of <xarray.Dataset>\n",
      "Dimensions:  (time: 3, x: 100, y: 100)\n",
      "Coordinates:\n",
      "  * time     (time) datetime64[ns] 2015-06-07T18:55:15.831248 ...\n",
      "  * y        (y) float64 2.865e+06 2.865e+06 2.865e+06 2.865e+06 2.865e+06 ...\n",
      "  * x        (x) float64 -2.107e+06 -2.107e+06 -2.107e+06 -2.106e+06 ...\n",
      "Data variables:\n",
      "    red      (time, y, x) int16 -9999 -9999 -9999 -9999 -9999 -9999 -9999 ...\n",
      "    green    (time, y, x) int16 -9999 -9999 -9999 -9999 -9999 -9999 -9999 ...\n",
      "    blue     (time, y, x) int16 -9999 -9999 -9999 -9999 -9999 -9999 -9999 ...\n",
      "Attributes:\n",
      "    crs:      epsg:5072>\n",
      "3TONY api-core/load - xarray is  None\n",
      "CPU times: user 302 ms, sys: 45.3 ms, total: 347 ms\n",
      "Wall time: 269 ms\n"
     ]
    }
   ],
   "source": [
    "citem.bounds\n",
    "\n",
    "l = citem.bounds.left\n",
    "\n",
    "b = citem.bounds.bottom\n",
    "\n",
    "r = citem.bounds.right\n",
    "\n",
    "t = citem.bounds.top\n",
    "\n",
    "\n",
    "x1 = l + 300 * 30\n",
    "x2 = l + 399 * 30\n",
    "y1 = t\n",
    "y2 = t - 99 * 30\n",
    "\n",
    "%time ul1_dataset = load_me_xy()\n"
   ]
  },
  {
   "cell_type": "code",
   "execution_count": 13,
   "metadata": {},
   "outputs": [
    {
     "ename": "TypeError",
     "evalue": "invalid indexer array, does not have integer dtype: array(2864805.)",
     "output_type": "error",
     "traceback": [
      "\u001b[0;31m---------------------------------------------------------------------------\u001b[0m",
      "\u001b[0;31mTypeError\u001b[0m                                 Traceback (most recent call last)",
      "\u001b[0;32m<ipython-input-13-b88a22b9db9f>\u001b[0m in \u001b[0;36m<module>\u001b[0;34m()\u001b[0m\n\u001b[0;32m----> 1\u001b[0;31m \u001b[0mplot_labeled_rgb\u001b[0m\u001b[0;34m(\u001b[0m\u001b[0mul1_dataset\u001b[0m\u001b[0;34m,\u001b[0m \u001b[0mt\u001b[0m\u001b[0;34m,\u001b[0m \u001b[0mcnt\u001b[0m\u001b[0;34m)\u001b[0m\u001b[0;34m\u001b[0m\u001b[0m\n\u001b[0m",
      "\u001b[0;32m~/.local/lib/python3.5/site-packages/noteLib/dc_nb_image_lib.py\u001b[0m in \u001b[0;36mplot_labeled_rgb\u001b[0;34m(ds, time, count)\u001b[0m\n\u001b[1;32m     65\u001b[0m     \u001b[0mfigsize\u001b[0m \u001b[0;34m=\u001b[0m \u001b[0;34m[\u001b[0m\u001b[0;36m8\u001b[0m\u001b[0;34m,\u001b[0m\u001b[0;36m8\u001b[0m\u001b[0;34m]\u001b[0m\u001b[0;34m\u001b[0m\u001b[0m\n\u001b[1;32m     66\u001b[0m \u001b[0;34m\u001b[0m\u001b[0m\n\u001b[0;32m---> 67\u001b[0;31m     \u001b[0mimg_toshow\u001b[0m \u001b[0;34m=\u001b[0m \u001b[0mthreeBandImage\u001b[0m\u001b[0;34m(\u001b[0m\u001b[0mds\u001b[0m\u001b[0;34m,\u001b[0m\u001b[0mbands\u001b[0m \u001b[0;34m=\u001b[0m \u001b[0;34m[\u001b[0m\u001b[0;34m'red'\u001b[0m\u001b[0;34m,\u001b[0m \u001b[0;34m'green'\u001b[0m\u001b[0;34m,\u001b[0m \u001b[0;34m'blue'\u001b[0m\u001b[0;34m]\u001b[0m\u001b[0;34m,\u001b[0m \u001b[0mtime\u001b[0m \u001b[0;34m=\u001b[0m \u001b[0mtime\u001b[0m\u001b[0;34m)\u001b[0m\u001b[0;34m\u001b[0m\u001b[0m\n\u001b[0m\u001b[1;32m     68\u001b[0m     \u001b[0mfig\u001b[0m \u001b[0;34m=\u001b[0m \u001b[0mpyplot\u001b[0m\u001b[0;34m.\u001b[0m\u001b[0mfigure\u001b[0m\u001b[0;34m(\u001b[0m\u001b[0mfigsize\u001b[0m \u001b[0;34m=\u001b[0m \u001b[0mfigsize\u001b[0m\u001b[0;34m)\u001b[0m\u001b[0;34m\u001b[0m\u001b[0m\n\u001b[1;32m     69\u001b[0m     \u001b[0mpyplot\u001b[0m\u001b[0;34m.\u001b[0m\u001b[0mimshow\u001b[0m\u001b[0;34m(\u001b[0m\u001b[0mimg_toshow\u001b[0m\u001b[0;34m)\u001b[0m\u001b[0;34m\u001b[0m\u001b[0m\n",
      "\u001b[0;32m~/.local/lib/python3.5/site-packages/noteLib/dc_nb_image_lib.py\u001b[0m in \u001b[0;36mthreeBandImage\u001b[0;34m(ds, bands, time, figsize, projection)\u001b[0m\n\u001b[1;32m     29\u001b[0m     \u001b[0mrawimg\u001b[0m \u001b[0;34m=\u001b[0m \u001b[0mnp\u001b[0m\u001b[0;34m.\u001b[0m\u001b[0mzeros\u001b[0m\u001b[0;34m(\u001b[0m\u001b[0;34m(\u001b[0m\u001b[0my\u001b[0m\u001b[0;34m,\u001b[0m\u001b[0mx\u001b[0m\u001b[0;34m,\u001b[0m\u001b[0;36m3\u001b[0m\u001b[0;34m)\u001b[0m\u001b[0;34m,\u001b[0m \u001b[0mdtype\u001b[0m \u001b[0;34m=\u001b[0m \u001b[0mnp\u001b[0m\u001b[0;34m.\u001b[0m\u001b[0mfloat32\u001b[0m\u001b[0;34m)\u001b[0m\u001b[0;34m\u001b[0m\u001b[0m\n\u001b[1;32m     30\u001b[0m     \u001b[0;32mfor\u001b[0m \u001b[0mi\u001b[0m\u001b[0;34m,\u001b[0m \u001b[0mcolour\u001b[0m \u001b[0;32min\u001b[0m \u001b[0menumerate\u001b[0m\u001b[0;34m(\u001b[0m\u001b[0mbands\u001b[0m\u001b[0;34m)\u001b[0m\u001b[0;34m:\u001b[0m\u001b[0;34m\u001b[0m\u001b[0m\n\u001b[0;32m---> 31\u001b[0;31m         \u001b[0mrawimg\u001b[0m\u001b[0;34m[\u001b[0m\u001b[0;34m:\u001b[0m\u001b[0;34m,\u001b[0m\u001b[0;34m:\u001b[0m\u001b[0;34m,\u001b[0m\u001b[0mi\u001b[0m\u001b[0;34m]\u001b[0m \u001b[0;34m=\u001b[0m \u001b[0mds\u001b[0m\u001b[0;34m[\u001b[0m\u001b[0mcolour\u001b[0m\u001b[0;34m]\u001b[0m\u001b[0;34m[\u001b[0m\u001b[0mtime\u001b[0m\u001b[0;34m]\u001b[0m\u001b[0;34m.\u001b[0m\u001b[0mvalues\u001b[0m\u001b[0;34m\u001b[0m\u001b[0m\n\u001b[0m\u001b[1;32m     32\u001b[0m     \u001b[0mrawimg\u001b[0m\u001b[0;34m[\u001b[0m\u001b[0mrawimg\u001b[0m \u001b[0;34m==\u001b[0m \u001b[0;34m-\u001b[0m\u001b[0;36m9999\u001b[0m\u001b[0;34m]\u001b[0m \u001b[0;34m=\u001b[0m \u001b[0mnp\u001b[0m\u001b[0;34m.\u001b[0m\u001b[0mnan\u001b[0m\u001b[0;34m\u001b[0m\u001b[0m\n\u001b[1;32m     33\u001b[0m     \u001b[0mimg_toshow\u001b[0m \u001b[0;34m=\u001b[0m \u001b[0mexposure\u001b[0m\u001b[0;34m.\u001b[0m\u001b[0mequalize_hist\u001b[0m\u001b[0;34m(\u001b[0m\u001b[0mrawimg\u001b[0m\u001b[0;34m,\u001b[0m \u001b[0mmask\u001b[0m \u001b[0;34m=\u001b[0m \u001b[0mnp\u001b[0m\u001b[0;34m.\u001b[0m\u001b[0misfinite\u001b[0m\u001b[0;34m(\u001b[0m\u001b[0mrawimg\u001b[0m\u001b[0;34m)\u001b[0m\u001b[0;34m)\u001b[0m\u001b[0;34m\u001b[0m\u001b[0m\n",
      "\u001b[0;32m~/.local/lib/python3.5/site-packages/xarray/core/dataarray.py\u001b[0m in \u001b[0;36m__getitem__\u001b[0;34m(self, key)\u001b[0m\n\u001b[1;32m    472\u001b[0m         \u001b[0;32melse\u001b[0m\u001b[0;34m:\u001b[0m\u001b[0;34m\u001b[0m\u001b[0m\n\u001b[1;32m    473\u001b[0m             \u001b[0;31m# xarray-style array indexing\u001b[0m\u001b[0;34m\u001b[0m\u001b[0;34m\u001b[0m\u001b[0m\n\u001b[0;32m--> 474\u001b[0;31m             \u001b[0;32mreturn\u001b[0m \u001b[0mself\u001b[0m\u001b[0;34m.\u001b[0m\u001b[0misel\u001b[0m\u001b[0;34m(\u001b[0m\u001b[0mindexers\u001b[0m\u001b[0;34m=\u001b[0m\u001b[0mself\u001b[0m\u001b[0;34m.\u001b[0m\u001b[0m_item_key_to_dict\u001b[0m\u001b[0;34m(\u001b[0m\u001b[0mkey\u001b[0m\u001b[0;34m)\u001b[0m\u001b[0;34m)\u001b[0m\u001b[0;34m\u001b[0m\u001b[0m\n\u001b[0m\u001b[1;32m    475\u001b[0m \u001b[0;34m\u001b[0m\u001b[0m\n\u001b[1;32m    476\u001b[0m     \u001b[0;32mdef\u001b[0m \u001b[0m__setitem__\u001b[0m\u001b[0;34m(\u001b[0m\u001b[0mself\u001b[0m\u001b[0;34m,\u001b[0m \u001b[0mkey\u001b[0m\u001b[0;34m,\u001b[0m \u001b[0mvalue\u001b[0m\u001b[0;34m)\u001b[0m\u001b[0;34m:\u001b[0m\u001b[0;34m\u001b[0m\u001b[0m\n",
      "\u001b[0;32m~/.local/lib/python3.5/site-packages/xarray/core/dataarray.py\u001b[0m in \u001b[0;36misel\u001b[0;34m(self, indexers, drop, **indexers_kwargs)\u001b[0m\n\u001b[1;32m    754\u001b[0m         \"\"\"\n\u001b[1;32m    755\u001b[0m         \u001b[0mindexers\u001b[0m \u001b[0;34m=\u001b[0m \u001b[0meither_dict_or_kwargs\u001b[0m\u001b[0;34m(\u001b[0m\u001b[0mindexers\u001b[0m\u001b[0;34m,\u001b[0m \u001b[0mindexers_kwargs\u001b[0m\u001b[0;34m,\u001b[0m \u001b[0;34m'isel'\u001b[0m\u001b[0;34m)\u001b[0m\u001b[0;34m\u001b[0m\u001b[0m\n\u001b[0;32m--> 756\u001b[0;31m         \u001b[0mds\u001b[0m \u001b[0;34m=\u001b[0m \u001b[0mself\u001b[0m\u001b[0;34m.\u001b[0m\u001b[0m_to_temp_dataset\u001b[0m\u001b[0;34m(\u001b[0m\u001b[0;34m)\u001b[0m\u001b[0;34m.\u001b[0m\u001b[0misel\u001b[0m\u001b[0;34m(\u001b[0m\u001b[0mdrop\u001b[0m\u001b[0;34m=\u001b[0m\u001b[0mdrop\u001b[0m\u001b[0;34m,\u001b[0m \u001b[0mindexers\u001b[0m\u001b[0;34m=\u001b[0m\u001b[0mindexers\u001b[0m\u001b[0;34m)\u001b[0m\u001b[0;34m\u001b[0m\u001b[0m\n\u001b[0m\u001b[1;32m    757\u001b[0m         \u001b[0;32mreturn\u001b[0m \u001b[0mself\u001b[0m\u001b[0;34m.\u001b[0m\u001b[0m_from_temp_dataset\u001b[0m\u001b[0;34m(\u001b[0m\u001b[0mds\u001b[0m\u001b[0;34m)\u001b[0m\u001b[0;34m\u001b[0m\u001b[0m\n\u001b[1;32m    758\u001b[0m \u001b[0;34m\u001b[0m\u001b[0m\n",
      "\u001b[0;32m~/.local/lib/python3.5/site-packages/xarray/core/dataset.py\u001b[0m in \u001b[0;36misel\u001b[0;34m(self, indexers, drop, **indexers_kwargs)\u001b[0m\n\u001b[1;32m   1425\u001b[0m         \u001b[0;32mfor\u001b[0m \u001b[0mname\u001b[0m\u001b[0;34m,\u001b[0m \u001b[0mvar\u001b[0m \u001b[0;32min\u001b[0m \u001b[0miteritems\u001b[0m\u001b[0;34m(\u001b[0m\u001b[0mself\u001b[0m\u001b[0;34m.\u001b[0m\u001b[0m_variables\u001b[0m\u001b[0;34m)\u001b[0m\u001b[0;34m:\u001b[0m\u001b[0;34m\u001b[0m\u001b[0m\n\u001b[1;32m   1426\u001b[0m             \u001b[0mvar_indexers\u001b[0m \u001b[0;34m=\u001b[0m \u001b[0;34m{\u001b[0m\u001b[0mk\u001b[0m\u001b[0;34m:\u001b[0m \u001b[0mv\u001b[0m \u001b[0;32mfor\u001b[0m \u001b[0mk\u001b[0m\u001b[0;34m,\u001b[0m \u001b[0mv\u001b[0m \u001b[0;32min\u001b[0m \u001b[0mindexers_list\u001b[0m \u001b[0;32mif\u001b[0m \u001b[0mk\u001b[0m \u001b[0;32min\u001b[0m \u001b[0mvar\u001b[0m\u001b[0;34m.\u001b[0m\u001b[0mdims\u001b[0m\u001b[0;34m}\u001b[0m\u001b[0;34m\u001b[0m\u001b[0m\n\u001b[0;32m-> 1427\u001b[0;31m             \u001b[0mnew_var\u001b[0m \u001b[0;34m=\u001b[0m \u001b[0mvar\u001b[0m\u001b[0;34m.\u001b[0m\u001b[0misel\u001b[0m\u001b[0;34m(\u001b[0m\u001b[0mindexers\u001b[0m\u001b[0;34m=\u001b[0m\u001b[0mvar_indexers\u001b[0m\u001b[0;34m)\u001b[0m\u001b[0;34m\u001b[0m\u001b[0m\n\u001b[0m\u001b[1;32m   1428\u001b[0m             \u001b[0;32mif\u001b[0m \u001b[0;32mnot\u001b[0m \u001b[0;34m(\u001b[0m\u001b[0mdrop\u001b[0m \u001b[0;32mand\u001b[0m \u001b[0mname\u001b[0m \u001b[0;32min\u001b[0m \u001b[0mvar_indexers\u001b[0m\u001b[0;34m)\u001b[0m\u001b[0;34m:\u001b[0m\u001b[0;34m\u001b[0m\u001b[0m\n\u001b[1;32m   1429\u001b[0m                 \u001b[0mvariables\u001b[0m\u001b[0;34m[\u001b[0m\u001b[0mname\u001b[0m\u001b[0;34m]\u001b[0m \u001b[0;34m=\u001b[0m \u001b[0mnew_var\u001b[0m\u001b[0;34m\u001b[0m\u001b[0m\n",
      "\u001b[0;32m~/.local/lib/python3.5/site-packages/xarray/core/variable.py\u001b[0m in \u001b[0;36misel\u001b[0;34m(self, indexers, drop, **indexers_kwargs)\u001b[0m\n\u001b[1;32m    852\u001b[0m             \u001b[0;32mif\u001b[0m \u001b[0mdim\u001b[0m \u001b[0;32min\u001b[0m \u001b[0mindexers\u001b[0m\u001b[0;34m:\u001b[0m\u001b[0;34m\u001b[0m\u001b[0m\n\u001b[1;32m    853\u001b[0m                 \u001b[0mkey\u001b[0m\u001b[0;34m[\u001b[0m\u001b[0mi\u001b[0m\u001b[0;34m]\u001b[0m \u001b[0;34m=\u001b[0m \u001b[0mindexers\u001b[0m\u001b[0;34m[\u001b[0m\u001b[0mdim\u001b[0m\u001b[0;34m]\u001b[0m\u001b[0;34m\u001b[0m\u001b[0m\n\u001b[0;32m--> 854\u001b[0;31m         \u001b[0;32mreturn\u001b[0m \u001b[0mself\u001b[0m\u001b[0;34m[\u001b[0m\u001b[0mtuple\u001b[0m\u001b[0;34m(\u001b[0m\u001b[0mkey\u001b[0m\u001b[0;34m)\u001b[0m\u001b[0;34m]\u001b[0m\u001b[0;34m\u001b[0m\u001b[0m\n\u001b[0m\u001b[1;32m    855\u001b[0m \u001b[0;34m\u001b[0m\u001b[0m\n\u001b[1;32m    856\u001b[0m     \u001b[0;32mdef\u001b[0m \u001b[0msqueeze\u001b[0m\u001b[0;34m(\u001b[0m\u001b[0mself\u001b[0m\u001b[0;34m,\u001b[0m \u001b[0mdim\u001b[0m\u001b[0;34m=\u001b[0m\u001b[0;32mNone\u001b[0m\u001b[0;34m)\u001b[0m\u001b[0;34m:\u001b[0m\u001b[0;34m\u001b[0m\u001b[0m\n",
      "\u001b[0;32m~/.local/lib/python3.5/site-packages/xarray/core/variable.py\u001b[0m in \u001b[0;36m__getitem__\u001b[0;34m(self, key)\u001b[0m\n\u001b[1;32m    618\u001b[0m         \u001b[0marray\u001b[0m\u001b[0;31m \u001b[0m\u001b[0;31m`\u001b[0m\u001b[0mx\u001b[0m\u001b[0;34m.\u001b[0m\u001b[0mvalues\u001b[0m\u001b[0;31m`\u001b[0m \u001b[0mdirectly\u001b[0m\u001b[0;34m.\u001b[0m\u001b[0;34m\u001b[0m\u001b[0m\n\u001b[1;32m    619\u001b[0m         \"\"\"\n\u001b[0;32m--> 620\u001b[0;31m         \u001b[0mdims\u001b[0m\u001b[0;34m,\u001b[0m \u001b[0mindexer\u001b[0m\u001b[0;34m,\u001b[0m \u001b[0mnew_order\u001b[0m \u001b[0;34m=\u001b[0m \u001b[0mself\u001b[0m\u001b[0;34m.\u001b[0m\u001b[0m_broadcast_indexes\u001b[0m\u001b[0;34m(\u001b[0m\u001b[0mkey\u001b[0m\u001b[0;34m)\u001b[0m\u001b[0;34m\u001b[0m\u001b[0m\n\u001b[0m\u001b[1;32m    621\u001b[0m         \u001b[0mdata\u001b[0m \u001b[0;34m=\u001b[0m \u001b[0mas_indexable\u001b[0m\u001b[0;34m(\u001b[0m\u001b[0mself\u001b[0m\u001b[0;34m.\u001b[0m\u001b[0m_data\u001b[0m\u001b[0;34m)\u001b[0m\u001b[0;34m[\u001b[0m\u001b[0mindexer\u001b[0m\u001b[0;34m]\u001b[0m\u001b[0;34m\u001b[0m\u001b[0m\n\u001b[1;32m    622\u001b[0m         \u001b[0;32mif\u001b[0m \u001b[0mnew_order\u001b[0m\u001b[0;34m:\u001b[0m\u001b[0;34m\u001b[0m\u001b[0m\n",
      "\u001b[0;32m~/.local/lib/python3.5/site-packages/xarray/core/variable.py\u001b[0m in \u001b[0;36m_broadcast_indexes\u001b[0;34m(self, key)\u001b[0m\n\u001b[1;32m    476\u001b[0m         \u001b[0;31m# key can be mapped as an OuterIndexer.\u001b[0m\u001b[0;34m\u001b[0m\u001b[0;34m\u001b[0m\u001b[0m\n\u001b[1;32m    477\u001b[0m         \u001b[0;32mif\u001b[0m \u001b[0mall\u001b[0m\u001b[0;34m(\u001b[0m\u001b[0;32mnot\u001b[0m \u001b[0misinstance\u001b[0m\u001b[0;34m(\u001b[0m\u001b[0mk\u001b[0m\u001b[0;34m,\u001b[0m \u001b[0mVariable\u001b[0m\u001b[0;34m)\u001b[0m \u001b[0;32mfor\u001b[0m \u001b[0mk\u001b[0m \u001b[0;32min\u001b[0m \u001b[0mkey\u001b[0m\u001b[0;34m)\u001b[0m\u001b[0;34m:\u001b[0m\u001b[0;34m\u001b[0m\u001b[0m\n\u001b[0;32m--> 478\u001b[0;31m             \u001b[0;32mreturn\u001b[0m \u001b[0mself\u001b[0m\u001b[0;34m.\u001b[0m\u001b[0m_broadcast_indexes_outer\u001b[0m\u001b[0;34m(\u001b[0m\u001b[0mkey\u001b[0m\u001b[0;34m)\u001b[0m\u001b[0;34m\u001b[0m\u001b[0m\n\u001b[0m\u001b[1;32m    479\u001b[0m \u001b[0;34m\u001b[0m\u001b[0m\n\u001b[1;32m    480\u001b[0m         \u001b[0;31m# If all key is 1-dimensional and there are no duplicate labels,\u001b[0m\u001b[0;34m\u001b[0m\u001b[0;34m\u001b[0m\u001b[0m\n",
      "\u001b[0;32m~/.local/lib/python3.5/site-packages/xarray/core/variable.py\u001b[0m in \u001b[0;36m_broadcast_indexes_outer\u001b[0;34m(self, key)\u001b[0m\n\u001b[1;32m    541\u001b[0m             \u001b[0mnew_key\u001b[0m\u001b[0;34m.\u001b[0m\u001b[0mappend\u001b[0m\u001b[0;34m(\u001b[0m\u001b[0mk\u001b[0m\u001b[0;34m)\u001b[0m\u001b[0;34m\u001b[0m\u001b[0m\n\u001b[1;32m    542\u001b[0m \u001b[0;34m\u001b[0m\u001b[0m\n\u001b[0;32m--> 543\u001b[0;31m         \u001b[0;32mreturn\u001b[0m \u001b[0mdims\u001b[0m\u001b[0;34m,\u001b[0m \u001b[0mOuterIndexer\u001b[0m\u001b[0;34m(\u001b[0m\u001b[0mtuple\u001b[0m\u001b[0;34m(\u001b[0m\u001b[0mnew_key\u001b[0m\u001b[0;34m)\u001b[0m\u001b[0;34m)\u001b[0m\u001b[0;34m,\u001b[0m \u001b[0;32mNone\u001b[0m\u001b[0;34m\u001b[0m\u001b[0m\n\u001b[0m\u001b[1;32m    544\u001b[0m \u001b[0;34m\u001b[0m\u001b[0m\n\u001b[1;32m    545\u001b[0m     \u001b[0;32mdef\u001b[0m \u001b[0m_nonzero\u001b[0m\u001b[0;34m(\u001b[0m\u001b[0mself\u001b[0m\u001b[0;34m)\u001b[0m\u001b[0;34m:\u001b[0m\u001b[0;34m\u001b[0m\u001b[0m\n",
      "\u001b[0;32m~/.local/lib/python3.5/site-packages/xarray/core/indexing.py\u001b[0m in \u001b[0;36m__init__\u001b[0;34m(self, key)\u001b[0m\n\u001b[1;32m    376\u001b[0m                 \u001b[0;32mif\u001b[0m \u001b[0;32mnot\u001b[0m \u001b[0mnp\u001b[0m\u001b[0;34m.\u001b[0m\u001b[0missubdtype\u001b[0m\u001b[0;34m(\u001b[0m\u001b[0mk\u001b[0m\u001b[0;34m.\u001b[0m\u001b[0mdtype\u001b[0m\u001b[0;34m,\u001b[0m \u001b[0mnp\u001b[0m\u001b[0;34m.\u001b[0m\u001b[0minteger\u001b[0m\u001b[0;34m)\u001b[0m\u001b[0;34m:\u001b[0m\u001b[0;34m\u001b[0m\u001b[0m\n\u001b[1;32m    377\u001b[0m                     raise TypeError('invalid indexer array, does not have '\n\u001b[0;32m--> 378\u001b[0;31m                                     'integer dtype: {!r}'.format(k))\n\u001b[0m\u001b[1;32m    379\u001b[0m                 \u001b[0;32mif\u001b[0m \u001b[0mk\u001b[0m\u001b[0;34m.\u001b[0m\u001b[0mndim\u001b[0m \u001b[0;34m!=\u001b[0m \u001b[0;36m1\u001b[0m\u001b[0;34m:\u001b[0m\u001b[0;34m\u001b[0m\u001b[0m\n\u001b[1;32m    380\u001b[0m                     raise TypeError('invalid indexer array for {}, must have '\n",
      "\u001b[0;31mTypeError\u001b[0m: invalid indexer array, does not have integer dtype: array(2864805.)"
     ]
    }
   ],
   "source": [
    "plot_labeled_rgb(ul1_dataset, t, cnt)"
   ]
  },
  {
   "cell_type": "markdown",
   "metadata": {},
   "source": [
    ">### Pick a product  \n",
    ">Use the platform names from the previous block to select a small Data Cube. The data_access_api utility will give you lat, lon, and time bounds of your Data Cube.   "
   ]
  },
  {
   "cell_type": "code",
   "execution_count": null,
   "metadata": {},
   "outputs": [],
   "source": [
    "!(cd /data && aws s3 cp 's3://ga-odc-eros-ard-west/usard/LC08/20150623/LC08_CU_003003_20150623_20170713_C01_V01_SRB4.tif' .)"
   ]
  },
  {
   "cell_type": "code",
   "execution_count": null,
   "metadata": {},
   "outputs": [],
   "source": []
  },
  {
   "cell_type": "code",
   "execution_count": null,
   "metadata": {},
   "outputs": [],
   "source": [
    "json_in = citem.metadata_doc\n",
    "\n",
    "\n",
    "\n",
    "longitude_extents = ((float)(json_in['extent']['coord']['ll']['lon']), (float)(json_in['extent']['coord']['ur']['lon']))\n",
    "\n",
    "print(\"longitude_extents\",longitude_extents)\n",
    "\n",
    "latitude_extents = ((float)(json_in['extent']['coord']['ll']['lat']), (float)(json_in['extent']['coord']['ur']['lat']))\n",
    "\n",
    "print(\"latitude_extents\",latitude_extents)\n",
    "\n"
   ]
  },
  {
   "cell_type": "code",
   "execution_count": null,
   "metadata": {},
   "outputs": [],
   "source": [
    "ll_latlon = (longitude_extents[0], latitude_extents[0])\n",
    "\n",
    "ll_latlon"
   ]
  },
  {
   "cell_type": "code",
   "execution_count": null,
   "metadata": {},
   "outputs": [],
   "source": [
    "from pyproj import Proj\n",
    "\n",
    "# Create projection transformation object\n",
    "\n",
    "\n",
    "p = Proj(init='epsg:5072') # EPSG code AEA\n",
    "\n",
    "print(ll_latlon)\n",
    "ll_aea_xy = p(ll_latlon[0], ll_latlon[1])\n",
    "print(ll_aea_xy)\n",
    "\n",
    "print(p(ll_aea_xy[0], ll_aea_xy[1],inverse=True))"
   ]
  },
  {
   "cell_type": "code",
   "execution_count": null,
   "metadata": {},
   "outputs": [],
   "source": [
    "\n",
    "platform = \"LANDSAT_8\"\n",
    "\n",
    "product = \"Landsat_8_USARD\"\n"
   ]
  },
  {
   "cell_type": "code",
   "execution_count": null,
   "metadata": {},
   "outputs": [],
   "source": [
    "ur_latlon = (longitude_extents[1], latitude_extents[1])\n",
    "\n",
    "ur_latlon\n",
    "\n",
    "\n",
    "print(ur_latlon)\n",
    "ur_aea_xy = p(ur_latlon[0], ur_latlon[1])\n",
    "print(ur_aea_xy)\n",
    "\n",
    "print(p(ur_aea_xy[0], ur_aea_xy[1],inverse=True))\n",
    "\n"
   ]
  },
  {
   "cell_type": "code",
   "execution_count": null,
   "metadata": {},
   "outputs": [],
   "source": [
    "x_distance = (ll_aea_xy[0] - ur_aea_xy[0]) * -1\n",
    "x_distance\n",
    "px_distance = x_distance/30\n",
    "px_distance\n",
    "\n",
    "## FAIL\n",
    "## could this be from the scene data instead of the tile"
   ]
  },
  {
   "cell_type": "code",
   "execution_count": null,
   "metadata": {},
   "outputs": [],
   "source": [
    "print(citem.bounds)\n",
    "citem.bounds.left\n",
    "\n",
    "x_distance = (citem.bounds.left - citem.bounds.right ) * -1\n",
    "\n",
    "x_distance\n",
    "\n",
    "px_x_distance = x_distance/30   #units = pixels\n",
    "\n",
    "print(px_x_distance)\n",
    "\n",
    "y_distance = (citem.bounds.top - citem.bounds.bottom)\n",
    "\n",
    "px_y_distance = y_distance/30\n",
    "\n",
    "print(px_y_distance)\n"
   ]
  },
  {
   "cell_type": "code",
   "execution_count": null,
   "metadata": {},
   "outputs": [],
   "source": [
    "ll_bb_aea = (citem.bounds.left, citem.bounds.bottom )\n",
    "\n",
    "ll_latlon = p(ll_bb_aea[0], ll_bb_aea[1], inverse=True)\n",
    "\n",
    "print(ll_latlon)"
   ]
  },
  {
   "cell_type": "code",
   "execution_count": null,
   "metadata": {},
   "outputs": [],
   "source": [
    "ur_bb_aea = (citem.bounds.right, citem.bounds.top )\n",
    "\n",
    "ur_latlon = p(ur_bb_aea[0], ur_bb_aea[1], inverse=True)\n",
    "\n",
    "print(ur_latlon)"
   ]
  },
  {
   "cell_type": "markdown",
   "metadata": {},
   "source": [
    "> #### Display Lat-Lon and Time Bounds"
   ]
  },
  {
   "cell_type": "markdown",
   "metadata": {},
   "source": [
    "https://boundingbox.klokantech.com/\n",
    "\n",
    "csv = -123.6504,44.6919,-121.7882,46.3581\n",
    "\n",
    "Creating map visualizations with open data and Folium - PyConSG 2016\n",
    "https://www.youtube.com/watch?v=PInO2Cluu2E\n",
    "    "
   ]
  },
  {
   "cell_type": "markdown",
   "metadata": {},
   "source": [
    "# Visualize Data Cube Region\n",
    "## USARD h03v03 TILE!\n",
    "### This picture shows the entire 5000 x 5000 px tile (150km x 150 km)"
   ]
  },
  {
   "cell_type": "code",
   "execution_count": null,
   "metadata": {},
   "outputs": [],
   "source": [
    "bb_lat_ext = ((float)(ll_latlon[1]), (float)(ur_latlon[1]))\n",
    "bb_lon_ext = ((float)(ll_latlon[0]), (float)(ur_latlon[0]))\n",
    "\n",
    "print(bb_lat_ext)\n",
    "print(bb_lon_ext)\n",
    "\n",
    "lat_distance = bb_lat_ext[1] - bb_lat_ext[0]\n",
    "lon_distance = bb_lon_ext[1] - bb_lon_ext[0]\n",
    "\n",
    "print(lat_distance, lon_distance)\n",
    "\n",
    "print(\"\\nThis should be a SQUARE - tony does not understand projections\" * 5)"
   ]
  },
  {
   "cell_type": "code",
   "execution_count": null,
   "metadata": {},
   "outputs": [],
   "source": [
    "print(ll_latlon)\n",
    "llaea=p(ll_latlon[0],ll_latlon[1])\n",
    "print(llaea)\n",
    "lr_latlon=(ur_latlon[0],ll_latlon[1])\n",
    "print(lr_latlon)\n",
    "lraea =p(lr_latlon[0],lr_latlon[1])\n",
    "print(lraea)\n",
    "x_distance = lraea[0] - llaea[0]\n",
    "print(x_distance)\n",
    "px_x_dist = x_distance/30\n",
    "print(px_x_dist)"
   ]
  },
  {
   "cell_type": "code",
   "execution_count": null,
   "metadata": {},
   "outputs": [],
   "source": [
    "l=citem.bounds.left\n",
    "r=citem.bounds.right\n",
    "t=citem.bounds.top\n",
    "b=citem.bounds.bottom\n",
    "\n",
    "aea_ll = p(l,b,inverse=True)\n",
    "print(aea_ll)\n",
    "aea_ul = p(l,t,inverse=True)\n",
    "print(aea_ul)\n",
    "aea_lr =p(r,b,inverse=True)\n",
    "print(aea_lr)\n",
    "aea_ur = p(r,t,inverse=True)\n",
    "print(aea_ur)\n",
    "\n",
    "lon_ext = (aea_ul[0], aea_lr[0])\n",
    "lat_ext = (aea_ll[1], aea_ur[1])\n",
    "\n",
    "print(lon_ext)\n",
    "print(lat_ext)"
   ]
  },
  {
   "cell_type": "code",
   "execution_count": null,
   "metadata": {
    "scrolled": true
   },
   "outputs": [],
   "source": [
    "from noteLib import display_map\n",
    "\n",
    "print(\"lat\",bb_lat_ext)\n",
    "\n",
    "print(\"lon\",bb_lon_ext)\n",
    "display_map(latitude = bb_lat_ext, longitude = bb_lon_ext)\n"
   ]
  },
  {
   "cell_type": "code",
   "execution_count": null,
   "metadata": {},
   "outputs": [],
   "source": [
    "print(\"lat\",lat_ext)\n",
    "\n",
    "print(\"lon\",lon_ext)\n",
    "display_map(latitude = lat_ext, longitude = lon_ext)\n"
   ]
  },
  {
   "cell_type": "code",
   "execution_count": null,
   "metadata": {},
   "outputs": [],
   "source": [
    "## The code below renders a map that can be used to orient yourself with the region.\n",
    "\n",
    "\n",
    "print(\"lat\",latitude_extents)\n",
    "\n",
    "print(\"lon\",longitude_extents)\n",
    "display_map(latitude = latitude_extents, longitude = longitude_extents)\n"
   ]
  },
  {
   "cell_type": "markdown",
   "metadata": {},
   "source": [
    "> #### Picking a smaller analysis region\n",
    "# hayden Island Only - approximately 300x300 pixels"
   ]
  },
  {
   "cell_type": "code",
   "execution_count": null,
   "metadata": {},
   "outputs": [],
   "source": [
    "ll = (-122.7467751155,45.6383610503,-122.7375054012,45.6449019237)\n",
    "lat=(ll[1],ll[3])\n",
    "lon = (ll[0],ll[2])\n",
    "\n",
    "print(lon)\n",
    "\n",
    "#### Hayden Island\n",
    "## latitude_extents =  (45.59,45.65)\n",
    "## longitude_extents = (-122.65,-122.75)\n",
    "\n",
    "latitude_extents = lat\n",
    "longitude_extents = lon\n",
    "\n",
    "print(\"latitude_extents\", latitude_extents)\n",
    "print(\"longitude_extents\", longitude_extents)\n"
   ]
  },
  {
   "cell_type": "code",
   "execution_count": null,
   "metadata": {
    "scrolled": true
   },
   "outputs": [],
   "source": [
    "display_map(latitude = latitude_extents, longitude = longitude_extents)"
   ]
  },
  {
   "cell_type": "markdown",
   "metadata": {},
   "source": [
    "> ### Loading the Data\n",
    "> The following snippet loads in Landsat Imagery for the extents we've just defined. Furthermore we specify a preference to load data from `red`, `green`, `blue`, `nir`, `swir1`, `swir2`, and `pixel_qa` bands.  "
   ]
  },
  {
   "cell_type": "code",
   "execution_count": null,
   "metadata": {},
   "outputs": [],
   "source": [
    "def load_me():\n",
    "    selected_product = 'landsat_8_USARD'\n",
    "    measurements=['red','green','blue']\n",
    "    # ## for pyccd - you need thesed \n",
    "    # measurements = ['red', 'green', 'blue', 'nir', 'swir1', 'swir2', 'pixel_qa']\n",
    "\n",
    "    ds2 = dc.load(product=selected_product, datasets=clear_datasets, measurements=measurements,\n",
    "              longitude = longitude_extents, latitude = latitude_extents,\n",
    "              output_crs = 'epsg:5072', \n",
    "              # output_crs = 'epsg:4326', \n",
    "\n",
    "              resolution = (-30,30))\n",
    "    return (ds2)"
   ]
  },
  {
   "cell_type": "code",
   "execution_count": null,
   "metadata": {},
   "outputs": [],
   "source": [
    "t1 = time.time()\n",
    "%time landsat_dataset = load_me()"
   ]
  },
  {
   "cell_type": "code",
   "execution_count": null,
   "metadata": {},
   "outputs": [],
   "source": [
    "landsat_dataset"
   ]
  },
  {
   "cell_type": "code",
   "execution_count": null,
   "metadata": {},
   "outputs": [],
   "source": [
    "t2 = time.time()\n",
    "elapsed = t2 - t1\n",
    "print(\"Load took %02d\" % elapsed, \"seconds.\")"
   ]
  },
  {
   "cell_type": "code",
   "execution_count": null,
   "metadata": {},
   "outputs": [],
   "source": [
    "!date"
   ]
  },
  {
   "cell_type": "markdown",
   "metadata": {},
   "source": [
    "### Examining the size of our extent.  "
   ]
  },
  {
   "cell_type": "code",
   "execution_count": null,
   "metadata": {},
   "outputs": [],
   "source": [
    "landsat_dataset\n",
    "#view the dimensions and sample content from the cube\n",
    "# time and x and y in a simple cartesian coordinate system\n",
    "# origin is upper left - ul = 0,0 in the xarray - x=0, y=0"
   ]
  },
  {
   "cell_type": "code",
   "execution_count": null,
   "metadata": {},
   "outputs": [],
   "source": [
    "landsat_dataset.dims\n",
    "# just get the dimensions using the .dims method from xarray"
   ]
  },
  {
   "cell_type": "markdown",
   "metadata": {},
   "source": [
    "# Now graph/plot/display/visualize the raster observations\n",
    "## RGB Plots"
   ]
  },
  {
   "cell_type": "code",
   "execution_count": null,
   "metadata": {},
   "outputs": [],
   "source": [
    "from noteLib import plot_labeled_rgb\n",
    "ntime = len(landsat_dataset.time)\n",
    "\n",
    "t=0\n",
    "cnt=0\n",
    "plot_labeled_rgb(landsat_dataset, t, cnt)\n",
    "\n"
   ]
  },
  {
   "cell_type": "code",
   "execution_count": null,
   "metadata": {},
   "outputs": [],
   "source": [
    "\n",
    "myll = p(-2058605,2808925, inverse=True)\n",
    "print (myll)"
   ]
  },
  {
   "cell_type": "code",
   "execution_count": null,
   "metadata": {},
   "outputs": [],
   "source": [
    "citem.bounds"
   ]
  },
  {
   "cell_type": "code",
   "execution_count": null,
   "metadata": {},
   "outputs": [],
   "source": [
    "mthood=(-122.65,45.36)\n",
    "mthoodaea=p(mthood[0],mthood[1])\n",
    "mthoodaea"
   ]
  },
  {
   "cell_type": "code",
   "execution_count": null,
   "metadata": {},
   "outputs": [],
   "source": [
    "from rasterio.plot import show_hist\n",
    "show_hist(landsat_dataset['red'][0].values, bins=100, lw=0.0, stacked=False, alpha=0.3, histtype='stepfilled', title=\"Histogram\")"
   ]
  },
  {
   "cell_type": "code",
   "execution_count": null,
   "metadata": {},
   "outputs": [],
   "source": [
    "landsat_dataset['red'][0].values.min()"
   ]
  },
  {
   "cell_type": "code",
   "execution_count": null,
   "metadata": {},
   "outputs": [],
   "source": [
    "landsat_dataset['red'][0].values.max()"
   ]
  },
  {
   "cell_type": "code",
   "execution_count": null,
   "metadata": {},
   "outputs": [],
   "source": [
    "landsat_dataset['red'][0].values.shape"
   ]
  },
  {
   "cell_type": "code",
   "execution_count": null,
   "metadata": {},
   "outputs": [],
   "source": [
    "ary = landsat_dataset['red'][0].values\n",
    "ary.shape"
   ]
  },
  {
   "cell_type": "code",
   "execution_count": null,
   "metadata": {},
   "outputs": [],
   "source": [
    "ary[0][0]"
   ]
  },
  {
   "cell_type": "code",
   "execution_count": null,
   "metadata": {},
   "outputs": [],
   "source": [
    "(ny,nx) = ary.shape"
   ]
  },
  {
   "cell_type": "code",
   "execution_count": null,
   "metadata": {},
   "outputs": [],
   "source": [
    "total_pixel_count = nx * ny\n",
    "\n",
    "total_pixel_count\n"
   ]
  },
  {
   "cell_type": "code",
   "execution_count": null,
   "metadata": {},
   "outputs": [],
   "source": [
    "def desat(ary):\n",
    "    saturated_count = 0\n",
    "\n",
    "    for y in range (0,286):\n",
    "        for x in range (0,311):\n",
    "            #print (x,y)\n",
    "            if ary[y][x] > 3000:\n",
    "                # print(x,y)\n",
    "                #clip\n",
    "                ary[y][x] = 3000\n",
    "                saturated_count = saturated_count +1\n"
   ]
  },
  {
   "cell_type": "code",
   "execution_count": null,
   "metadata": {},
   "outputs": [],
   "source": [
    "ary = landsat_dataset['red'][0].values\n",
    "desat(ary)\n",
    "show_hist(ary, bins=100, lw=0.0, stacked=False, alpha=0.3, histtype='stepfilled', title=\"Histogram\", fc='red')"
   ]
  },
  {
   "cell_type": "code",
   "execution_count": null,
   "metadata": {},
   "outputs": [],
   "source": [
    "ary = landsat_dataset['green'][0].values\n",
    "desat(ary)\n",
    "show_hist(ary, bins=100, lw=0.0, stacked=False, alpha=0.3, histtype='stepfilled', title=\"Histogram\", fc='green')"
   ]
  },
  {
   "cell_type": "code",
   "execution_count": null,
   "metadata": {},
   "outputs": [],
   "source": [
    "ary = landsat_dataset['blue'][0].values\n",
    "desat(ary)\n",
    "show_hist(ary, bins=50, lw=0.0, stacked=False, alpha=0.3, histtype='stepfilled', title=\"Histogram\", fc='blue')"
   ]
  },
  {
   "cell_type": "code",
   "execution_count": null,
   "metadata": {},
   "outputs": [],
   "source": []
  }
 ],
 "metadata": {
  "kernelspec": {
   "display_name": "Python 3",
   "language": "python",
   "name": "python3"
  },
  "language_info": {
   "codemirror_mode": {
    "name": "ipython",
    "version": 3
   },
   "file_extension": ".py",
   "mimetype": "text/x-python",
   "name": "python",
   "nbconvert_exporter": "python",
   "pygments_lexer": "ipython3",
   "version": "3.5.2"
  }
 },
 "nbformat": 4,
 "nbformat_minor": 2
}
