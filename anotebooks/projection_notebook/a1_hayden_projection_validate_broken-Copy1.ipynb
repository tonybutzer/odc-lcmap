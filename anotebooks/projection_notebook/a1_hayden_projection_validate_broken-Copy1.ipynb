{
 "cells": [
  {
   "cell_type": "code",
   "execution_count": 1,
   "metadata": {},
   "outputs": [],
   "source": [
    "# Enable plotting\n",
    "%matplotlib inline\n",
    "\n",
    "# Supress Warning \n",
    "import numpy as np\n",
    "import warnings\n",
    "warnings.filterwarnings('ignore')\n",
    "\n",
    "import time"
   ]
  },
  {
   "cell_type": "markdown",
   "metadata": {},
   "source": [
    "# Histogram Visualization by  Area of Interest (AOI) with map underlays\n",
    "\n"
   ]
  },
  {
   "cell_type": "markdown",
   "metadata": {},
   "source": [
    "# select  a scene to determine the bounding box from a small date range\n",
    "\n",
    "## June and July 1015"
   ]
  },
  {
   "cell_type": "code",
   "execution_count": 2,
   "metadata": {},
   "outputs": [
    {
     "name": "stderr",
     "output_type": "stream",
     "text": [
      "Failed to resolve driver datacube.plugins.index::s3aio_index\n"
     ]
    },
    {
     "name": "stdout",
     "output_type": "stream",
     "text": [
      "Number of Pretty Scenes 3\n"
     ]
    }
   ],
   "source": [
    "import datacube\n",
    "import time\n",
    "\n",
    "from datetime import datetime\n",
    "\n",
    "\n",
    "dc = datacube.Datacube(app = 'my_app', config = '../datacube.conf')\n",
    "selected_product = 'landsat_8_USARD'\n",
    "\n",
    "date_range = (\n",
    "        datetime(2015,6,1),\n",
    "        datetime(2015,7,31))\n",
    "dss = dc.find_datasets(product=selected_product, time=date_range, measurements=['red',])\n",
    "\n",
    "clear_datasets = []\n",
    "for item in dss:\n",
    "    \n",
    "    if float(item.metadata_doc['cloud_cover']) < 20.0:\n",
    "        if float(item.metadata_doc['fill']) < 30.0:\n",
    "            clear_datasets.append(item)\n",
    "            \n",
    "print(\"Number of Pretty Scenes\", len(clear_datasets))\n",
    "# for citem in clear_datasets:\n",
    "  #   print(citem.uris)\n"
   ]
  },
  {
   "cell_type": "code",
   "execution_count": 3,
   "metadata": {},
   "outputs": [
    {
     "data": {
      "text/plain": [
       "Geometry(POLYGON ((-2115585 2714805,-2115585 2864805,-1965585 2864805,-1965585 2714805,-2115585 2714805)), epsg:5072)"
      ]
     },
     "execution_count": 3,
     "metadata": {},
     "output_type": "execute_result"
    }
   ],
   "source": [
    "citem = clear_datasets[0]\n",
    "citem.extent"
   ]
  },
  {
   "cell_type": "code",
   "execution_count": 4,
   "metadata": {},
   "outputs": [
    {
     "data": {
      "text/plain": [
       "BoundingBox(left=-2115585.0, bottom=2714805.0, right=-1965585.0, top=2864805.0)"
      ]
     },
     "execution_count": 4,
     "metadata": {},
     "output_type": "execute_result"
    }
   ],
   "source": [
    "citem.bounds"
   ]
  },
  {
   "cell_type": "markdown",
   "metadata": {},
   "source": [
    ">### Pick a product  \n",
    ">Use the platform names from the previous block to select a small Data Cube. The data_access_api utility will give you lat, lon, and time bounds of your Data Cube.   "
   ]
  },
  {
   "cell_type": "code",
   "execution_count": 5,
   "metadata": {},
   "outputs": [
    {
     "name": "stdout",
     "output_type": "stream",
     "text": [
      "longitude_extents (-123.652959903, -121.279418402)\n",
      "latitude_extents (44.6880805402, 46.35679328)\n"
     ]
    }
   ],
   "source": [
    "json_in = citem.metadata_doc\n",
    "\n",
    "\n",
    "\n",
    "longitude_extents = ((float)(json_in['extent']['coord']['ll']['lon']), (float)(json_in['extent']['coord']['ur']['lon']))\n",
    "\n",
    "print(\"longitude_extents\",longitude_extents)\n",
    "\n",
    "latitude_extents = ((float)(json_in['extent']['coord']['ll']['lat']), (float)(json_in['extent']['coord']['ur']['lat']))\n",
    "\n",
    "print(\"latitude_extents\",latitude_extents)\n",
    "\n"
   ]
  },
  {
   "cell_type": "code",
   "execution_count": 6,
   "metadata": {},
   "outputs": [
    {
     "data": {
      "text/plain": [
       "(-123.652959903, 44.6880805402)"
      ]
     },
     "execution_count": 6,
     "metadata": {},
     "output_type": "execute_result"
    }
   ],
   "source": [
    "ll_latlon = (longitude_extents[0], latitude_extents[0])\n",
    "\n",
    "ll_latlon"
   ]
  },
  {
   "cell_type": "code",
   "execution_count": 7,
   "metadata": {},
   "outputs": [
    {
     "name": "stdout",
     "output_type": "stream",
     "text": [
      "(-123.652959903, 44.6880805402)\n",
      "(-2156845.2751716813, 2727033.1638312135)\n",
      "(-123.652959903, 44.688080540200005)\n"
     ]
    }
   ],
   "source": [
    "from pyproj import Proj\n",
    "\n",
    "# Create projection transformation object\n",
    "\n",
    "\n",
    "p = Proj(init='epsg:5072') # EPSG code AEA\n",
    "\n",
    "print(ll_latlon)\n",
    "ll_aea_xy = p(ll_latlon[0], ll_latlon[1])\n",
    "print(ll_aea_xy)\n",
    "\n",
    "print(p(ll_aea_xy[0], ll_aea_xy[1],inverse=True))"
   ]
  },
  {
   "cell_type": "code",
   "execution_count": 8,
   "metadata": {},
   "outputs": [],
   "source": [
    "\n",
    "platform = \"LANDSAT_8\"\n",
    "\n",
    "product = \"Landsat_8_USARD\"\n"
   ]
  },
  {
   "cell_type": "code",
   "execution_count": 9,
   "metadata": {},
   "outputs": [
    {
     "name": "stdout",
     "output_type": "stream",
     "text": [
      "(-121.279418402, 46.35679328)\n",
      "(-1927567.728215027, 2854336.8021571473)\n",
      "(-121.279418402, 46.35679327999998)\n"
     ]
    }
   ],
   "source": [
    "ur_latlon = (longitude_extents[1], latitude_extents[1])\n",
    "\n",
    "ur_latlon\n",
    "\n",
    "\n",
    "print(ur_latlon)\n",
    "ur_aea_xy = p(ur_latlon[0], ur_latlon[1])\n",
    "print(ur_aea_xy)\n",
    "\n",
    "print(p(ur_aea_xy[0], ur_aea_xy[1],inverse=True))\n",
    "\n"
   ]
  },
  {
   "cell_type": "code",
   "execution_count": 10,
   "metadata": {},
   "outputs": [
    {
     "data": {
      "text/plain": [
       "7642.5848985551465"
      ]
     },
     "execution_count": 10,
     "metadata": {},
     "output_type": "execute_result"
    }
   ],
   "source": [
    "x_distance = (ll_aea_xy[0] - ur_aea_xy[0]) * -1\n",
    "x_distance\n",
    "px_distance = x_distance/30\n",
    "px_distance\n",
    "\n",
    "## FAIL\n",
    "## could this be from the scene data instead of the tile"
   ]
  },
  {
   "cell_type": "code",
   "execution_count": 11,
   "metadata": {},
   "outputs": [
    {
     "name": "stdout",
     "output_type": "stream",
     "text": [
      "BoundingBox(left=-2115585.0, bottom=2714805.0, right=-1965585.0, top=2864805.0)\n",
      "5000.0\n",
      "5000.0\n"
     ]
    }
   ],
   "source": [
    "print(citem.bounds)\n",
    "citem.bounds.left\n",
    "\n",
    "x_distance = (citem.bounds.left - citem.bounds.right ) * -1\n",
    "\n",
    "x_distance\n",
    "\n",
    "px_x_distance = x_distance/30   #units = pixels\n",
    "\n",
    "print(px_x_distance)\n",
    "\n",
    "y_distance = (citem.bounds.top - citem.bounds.bottom)\n",
    "\n",
    "px_y_distance = y_distance/30\n",
    "\n",
    "print(px_y_distance)\n"
   ]
  },
  {
   "cell_type": "code",
   "execution_count": 12,
   "metadata": {},
   "outputs": [
    {
     "name": "stdout",
     "output_type": "stream",
     "text": [
      "(-123.10897051199379, 44.6880805406182)\n"
     ]
    }
   ],
   "source": [
    "ll_bb_aea = (citem.bounds.left, citem.bounds.bottom )\n",
    "\n",
    "ll_latlon = p(ll_bb_aea[0], ll_bb_aea[1], inverse=True)\n",
    "\n",
    "print(ll_latlon)"
   ]
  },
  {
   "cell_type": "code",
   "execution_count": 13,
   "metadata": {},
   "outputs": [
    {
     "name": "stdout",
     "output_type": "stream",
     "text": [
      "(-121.79048180418519, 46.35679328037768)\n"
     ]
    }
   ],
   "source": [
    "ur_bb_aea = (citem.bounds.right, citem.bounds.top )\n",
    "\n",
    "ur_latlon = p(ur_bb_aea[0], ur_bb_aea[1], inverse=True)\n",
    "\n",
    "print(ur_latlon)"
   ]
  },
  {
   "cell_type": "markdown",
   "metadata": {},
   "source": [
    "> #### Display Lat-Lon and Time Bounds"
   ]
  },
  {
   "cell_type": "markdown",
   "metadata": {},
   "source": [
    "https://boundingbox.klokantech.com/\n",
    "\n",
    "csv = -123.6504,44.6919,-121.7882,46.3581\n",
    "\n",
    "Creating map visualizations with open data and Folium - PyConSG 2016\n",
    "https://www.youtube.com/watch?v=PInO2Cluu2E\n",
    "    "
   ]
  },
  {
   "cell_type": "markdown",
   "metadata": {},
   "source": [
    "# Visualize Data Cube Region\n",
    "## USARD h03v03 TILE!\n",
    "### This picture shows the entire 5000 x 5000 px tile (150km x 150 km)"
   ]
  },
  {
   "cell_type": "code",
   "execution_count": 14,
   "metadata": {},
   "outputs": [
    {
     "name": "stdout",
     "output_type": "stream",
     "text": [
      "(44.6880805406182, 46.35679328037768)\n",
      "(-123.10897051199379, -121.79048180418519)\n",
      "1.6687127397594779 1.3184887078085978\n",
      "\n",
      "This should be a SQUARE - tony does not understand projections\n",
      "This should be a SQUARE - tony does not understand projections\n",
      "This should be a SQUARE - tony does not understand projections\n",
      "This should be a SQUARE - tony does not understand projections\n",
      "This should be a SQUARE - tony does not understand projections\n"
     ]
    }
   ],
   "source": [
    "bb_lat_ext = ((float)(ll_latlon[1]), (float)(ur_latlon[1]))\n",
    "bb_lon_ext = ((float)(ll_latlon[0]), (float)(ur_latlon[0]))\n",
    "\n",
    "print(bb_lat_ext)\n",
    "print(bb_lon_ext)\n",
    "\n",
    "lat_distance = bb_lat_ext[1] - bb_lat_ext[0]\n",
    "lon_distance = bb_lon_ext[1] - bb_lon_ext[0]\n",
    "\n",
    "print(lat_distance, lon_distance)\n",
    "\n",
    "print(\"\\nThis should be a SQUARE - tony does not understand projections\" * 5)"
   ]
  },
  {
   "cell_type": "code",
   "execution_count": 15,
   "metadata": {},
   "outputs": [
    {
     "name": "stdout",
     "output_type": "stream",
     "text": [
      "(-123.10897051199379, 44.6880805406182)\n",
      "(-2115585.0000000005, 2714804.999999998)\n",
      "(-121.79048180418519, 44.6880805406182)\n",
      "(-2015295.880189438, 2686148.6611972568)\n",
      "100289.11981056258\n",
      "3342.970660352086\n"
     ]
    }
   ],
   "source": [
    "print(ll_latlon)\n",
    "llaea=p(ll_latlon[0],ll_latlon[1])\n",
    "print(llaea)\n",
    "lr_latlon=(ur_latlon[0],ll_latlon[1])\n",
    "print(lr_latlon)\n",
    "lraea =p(lr_latlon[0],lr_latlon[1])\n",
    "print(lraea)\n",
    "x_distance = lraea[0] - llaea[0]\n",
    "print(x_distance)\n",
    "px_x_dist = x_distance/30\n",
    "print(px_x_dist)"
   ]
  },
  {
   "cell_type": "code",
   "execution_count": 16,
   "metadata": {},
   "outputs": [
    {
     "name": "stdout",
     "output_type": "stream",
     "text": [
      "(-123.10897051199379, 44.6880805406182)\n",
      "(-123.65295990244589, 45.98158234615641)\n",
      "(-121.27941840157558, 45.0548471697178)\n",
      "(-121.79048180418519, 46.35679328037768)\n",
      "(-123.65295990244589, -121.27941840157558)\n",
      "(44.6880805406182, 46.35679328037768)\n"
     ]
    }
   ],
   "source": [
    "l=citem.bounds.left\n",
    "r=citem.bounds.right\n",
    "t=citem.bounds.top\n",
    "b=citem.bounds.bottom\n",
    "\n",
    "aea_ll = p(l,b,inverse=True)\n",
    "print(aea_ll)\n",
    "aea_ul = p(l,t,inverse=True)\n",
    "print(aea_ul)\n",
    "aea_lr =p(r,b,inverse=True)\n",
    "print(aea_lr)\n",
    "aea_ur = p(r,t,inverse=True)\n",
    "print(aea_ur)\n",
    "\n",
    "lon_ext = (aea_ul[0], aea_lr[0])\n",
    "lat_ext = (aea_ll[1], aea_ur[1])\n",
    "\n",
    "print(lon_ext)\n",
    "print(lat_ext)"
   ]
  },
  {
   "cell_type": "code",
   "execution_count": 17,
   "metadata": {
    "scrolled": true
   },
   "outputs": [
    {
     "name": "stdout",
     "output_type": "stream",
     "text": [
      "lat (44.6880805406182, 46.35679328037768)\n",
      "lon (-123.10897051199379, -121.79048180418519)\n"
     ]
    },
    {
     "data": {
      "text/html": [
       "<div style=\"width:100%;\"><div style=\"position:relative;width:100%;height:0;padding-bottom:60%;\"><iframe src=\"data:text/html;charset=utf-8;base64,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\" style=\"position:absolute;width:100%;height:100%;left:0;top:0;border:none !important;\" allowfullscreen webkitallowfullscreen mozallowfullscreen></iframe></div></div>"
      ],
      "text/plain": [
       "<folium.folium.Map at 0x7f7ee59329b0>"
      ]
     },
     "execution_count": 17,
     "metadata": {},
     "output_type": "execute_result"
    }
   ],
   "source": [
    "from noteLib import display_map\n",
    "\n",
    "print(\"lat\",bb_lat_ext)\n",
    "\n",
    "print(\"lon\",bb_lon_ext)\n",
    "display_map(latitude = bb_lat_ext, longitude = bb_lon_ext)\n"
   ]
  },
  {
   "cell_type": "code",
   "execution_count": 18,
   "metadata": {},
   "outputs": [
    {
     "name": "stdout",
     "output_type": "stream",
     "text": [
      "lat (44.6880805406182, 46.35679328037768)\n",
      "lon (-123.65295990244589, -121.27941840157558)\n"
     ]
    },
    {
     "data": {
      "text/html": [
       "<div style=\"width:100%;\"><div style=\"position:relative;width:100%;height:0;padding-bottom:60%;\"><iframe src=\"data:text/html;charset=utf-8;base64,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\" style=\"position:absolute;width:100%;height:100%;left:0;top:0;border:none !important;\" allowfullscreen webkitallowfullscreen mozallowfullscreen></iframe></div></div>"
      ],
      "text/plain": [
       "<folium.folium.Map at 0x7f7f0bd740f0>"
      ]
     },
     "execution_count": 18,
     "metadata": {},
     "output_type": "execute_result"
    }
   ],
   "source": [
    "print(\"lat\",lat_ext)\n",
    "\n",
    "print(\"lon\",lon_ext)\n",
    "display_map(latitude = lat_ext, longitude = lon_ext)\n"
   ]
  },
  {
   "cell_type": "code",
   "execution_count": 19,
   "metadata": {},
   "outputs": [
    {
     "name": "stdout",
     "output_type": "stream",
     "text": [
      "lat (44.6880805402, 46.35679328)\n",
      "lon (-123.652959903, -121.279418402)\n"
     ]
    },
    {
     "data": {
      "text/html": [
       "<div style=\"width:100%;\"><div style=\"position:relative;width:100%;height:0;padding-bottom:60%;\"><iframe src=\"data:text/html;charset=utf-8;base64,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\" style=\"position:absolute;width:100%;height:100%;left:0;top:0;border:none !important;\" allowfullscreen webkitallowfullscreen mozallowfullscreen></iframe></div></div>"
      ],
      "text/plain": [
       "<folium.folium.Map at 0x7f7ee5932400>"
      ]
     },
     "execution_count": 19,
     "metadata": {},
     "output_type": "execute_result"
    }
   ],
   "source": [
    "## The code below renders a map that can be used to orient yourself with the region.\n",
    "\n",
    "\n",
    "print(\"lat\",latitude_extents)\n",
    "\n",
    "print(\"lon\",longitude_extents)\n",
    "display_map(latitude = latitude_extents, longitude = longitude_extents)\n"
   ]
  },
  {
   "cell_type": "markdown",
   "metadata": {},
   "source": [
    "> #### Picking a smaller analysis region\n",
    "# hayden Island Only - approximately 300x300 pixels"
   ]
  },
  {
   "cell_type": "code",
   "execution_count": 20,
   "metadata": {},
   "outputs": [
    {
     "name": "stdout",
     "output_type": "stream",
     "text": [
      "(-122.7467751155, -122.7375054012)\n",
      "latitude_extents (45.6383610503, 45.6449019237)\n",
      "longitude_extents (-122.7467751155, -122.7375054012)\n"
     ]
    }
   ],
   "source": [
    "ll = (-122.7467751155,45.6383610503,-122.7375054012,45.6449019237)\n",
    "lat=(ll[1],ll[3])\n",
    "lon = (ll[0],ll[2])\n",
    "\n",
    "print(lon)\n",
    "\n",
    "#### Hayden Island\n",
    "## latitude_extents =  (45.59,45.65)\n",
    "## longitude_extents = (-122.65,-122.75)\n",
    "\n",
    "latitude_extents = lat\n",
    "longitude_extents = lon\n",
    "\n",
    "print(\"latitude_extents\", latitude_extents)\n",
    "print(\"longitude_extents\", longitude_extents)\n"
   ]
  },
  {
   "cell_type": "code",
   "execution_count": 21,
   "metadata": {
    "scrolled": true
   },
   "outputs": [
    {
     "data": {
      "text/html": [
       "<div style=\"width:100%;\"><div style=\"position:relative;width:100%;height:0;padding-bottom:60%;\"><iframe src=\"data:text/html;charset=utf-8;base64,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\" style=\"position:absolute;width:100%;height:100%;left:0;top:0;border:none !important;\" allowfullscreen webkitallowfullscreen mozallowfullscreen></iframe></div></div>"
      ],
      "text/plain": [
       "<folium.folium.Map at 0x7f7ee5932518>"
      ]
     },
     "execution_count": 21,
     "metadata": {},
     "output_type": "execute_result"
    }
   ],
   "source": [
    "display_map(latitude = latitude_extents, longitude = longitude_extents)"
   ]
  },
  {
   "cell_type": "markdown",
   "metadata": {},
   "source": [
    "> ### Loading the Data\n",
    "> The following snippet loads in Landsat Imagery for the extents we've just defined. Furthermore we specify a preference to load data from `red`, `green`, `blue`, `nir`, `swir1`, `swir2`, and `pixel_qa` bands.  "
   ]
  },
  {
   "cell_type": "code",
   "execution_count": 22,
   "metadata": {},
   "outputs": [],
   "source": [
    "def load_me():\n",
    "    selected_product = 'landsat_8_USARD'\n",
    "    measurements=['red','green','blue']\n",
    "    # ## for pyccd - you need thesed \n",
    "    # measurements = ['red', 'green', 'blue', 'nir', 'swir1', 'swir2', 'pixel_qa']\n",
    "\n",
    "    ds2 = dc.load(product=selected_product, datasets=clear_datasets, measurements=measurements,\n",
    "              longitude = longitude_extents, latitude = latitude_extents,\n",
    "              output_crs = 'epsg:5072', \n",
    "              # output_crs = 'epsg:4326', \n",
    "\n",
    "              resolution = (-30,30))\n",
    "    return (ds2)"
   ]
  },
  {
   "cell_type": "code",
   "execution_count": 23,
   "metadata": {},
   "outputs": [
    {
     "name": "stderr",
     "output_type": "stream",
     "text": [
      "Failed to resolve driver datacube.plugins.io.read::s3aio\n",
      "Failed to resolve driver datacube.plugins.io.read::s3aio_test\n",
      "Failed to resolve driver datacube.plugins.io.read::bad_end_point\n",
      "Exception during driver init, driver name: datacube.plugins.io.read::failing_end_point_throw\n",
      "Driver init returned None, driver name: datacube.plugins.io.read::failing_end_point_none\n"
     ]
    },
    {
     "name": "stdout",
     "output_type": "stream",
     "text": [
      "TONY load output_crs=output_crs, =  epsg:5072\n",
      "TONY output_geobox crs =  epsg:5072\n",
      "TONY geopolygon crs =  epsg:5072\n",
      "TONY geopolygon stuff =  epsg:5072 | 30.00, 0.00,-2058720.00|\n",
      "| 0.00,-30.00, 2809050.00|\n",
      "| 0.00, 0.00, 1.00| 30 31\n",
      "TONY GeoBox extent =  Geometry({'coordinates': [[(-2058720.0, 2809050.0), (-2058720.0, 2808120.0), (-2057820.0, 2808120.0), (-2057820.0, 2809050.0), (-2058720.0, 2809050.0)]], 'type': 'Polygon'}, CRS('epsg:5072'))\n",
      "TONY load type geobox =  <class 'datacube.utils.geometry.GeoBox'>\n",
      "TONY load geobox =  GeoBox(Geometry({'coordinates': [[(-122.74935491896142, 45.6445079066276), (-122.74604296117779, 45.63646652254214), (-122.73495787201858, 45.63871593499484), (-122.73826860519962, 45.64675763772181), (-122.74935491896142, 45.6445079066276)]], 'type': 'Polygon'}, CRS('EPSG:4326')))\n",
      "TONY load geobox.extent =  Geometry({'coordinates': [[(-2058720.0, 2809050.0), (-2058720.0, 2808120.0), (-2057820.0, 2808120.0), (-2057820.0, 2809050.0), (-2058720.0, 2809050.0)]], 'type': 'Polygon'}, CRS('epsg:5072'))\n",
      "TONY group_datasets datasets  [Dataset <id=20aa8761-b719-43f0-a011-8296f50b4d7c type=landsat_8_USARD location=None>, Dataset <id=edb1218e-c636-4ef2-890d-7f6330c30dbc type=landsat_8_USARD location=None>, Dataset <id=c2566872-aa8f-4ac4-9dda-d8787ef0f93f type=landsat_8_USARD location=None>]\n",
      "TONY group_datasets sources  <bound method ImplementsArrayReduce._reduce_method.<locals>.wrapped_func of <xarray.DataArray (time: 3)>\n",
      "array([(Dataset <id=c2566872-aa8f-4ac4-9dda-d8787ef0f93f type=landsat_8_USARD location=None>,),\n",
      "       (Dataset <id=edb1218e-c636-4ef2-890d-7f6330c30dbc type=landsat_8_USARD location=None>,),\n",
      "       (Dataset <id=20aa8761-b719-43f0-a011-8296f50b4d7c type=landsat_8_USARD location=None>,)],\n",
      "      dtype=object)\n",
      "Coordinates:\n",
      "  * time     (time) datetime64[ns] 2015-06-07T18:55:15.831248 ...>\n",
      "TONY api-core/create_storage name, coord =  time <xarray.DataArray 'time' (time: 3)>\n",
      "array(['2015-06-07T18:55:15.831248000', '2015-06-23T18:55:22.285077000',\n",
      "       '2015-07-09T18:55:32.978324000'], dtype='datetime64[ns]')\n",
      "Coordinates:\n",
      "  * time     (time) datetime64[ns] 2015-06-07T18:55:15.831248 ...\n",
      "Attributes:\n",
      "    units:    seconds since 1970-01-01 00:00:00\n",
      "TONY api-core/create_storage name, coord =  y [2809035. 2809005. 2808975. 2808945. 2808915. 2808885. 2808855. 2808825.\n",
      " 2808795. 2808765. 2808735. 2808705. 2808675. 2808645. 2808615. 2808585.\n",
      " 2808555. 2808525. 2808495. 2808465. 2808435. 2808405. 2808375. 2808345.\n",
      " 2808315. 2808285. 2808255. 2808225. 2808195. 2808165. 2808135.]\n",
      "TONY api-core/create_storage name, coord =  x [-2058705. -2058675. -2058645. -2058615. -2058585. -2058555. -2058525.\n",
      " -2058495. -2058465. -2058435. -2058405. -2058375. -2058345. -2058315.\n",
      " -2058285. -2058255. -2058225. -2058195. -2058165. -2058135. -2058105.\n",
      " -2058075. -2058045. -2058015. -2057985. -2057955. -2057925. -2057895.\n",
      " -2057865. -2057835.]\n",
      "0TONY api-core/create_storage - xarray is  <class 'xarray.core.dataset.Dataset'>\n",
      "0TONY api-core/create_storage - xarray is  <bound method ImplementsDatasetReduce._reduce_method.<locals>.wrapped_func of <xarray.Dataset>\n",
      "Dimensions:  (time: 3, x: 30, y: 31)\n",
      "Coordinates:\n",
      "  * time     (time) datetime64[ns] 2015-06-07T18:55:15.831248 ...\n",
      "  * y        (y) float64 2.809e+06 2.809e+06 2.809e+06 2.809e+06 2.809e+06 ...\n",
      "  * x        (x) float64 -2.059e+06 -2.059e+06 -2.059e+06 -2.059e+06 ...\n",
      "Data variables:\n",
      "    *empty*\n",
      "Attributes:\n",
      "    crs:      epsg:5072>\n",
      "TONY load_data - shape is: (3,)\n",
      "TONY load_data - geobox shape is: (31, 30)\n",
      "TONY load_data - nodata is: -9999\n",
      "TONY load_data - dtype is: int16\n",
      "TONY load_data - sources.values is: [(Dataset <id=c2566872-aa8f-4ac4-9dda-d8787ef0f93f type=landsat_8_USARD location=None>,)\n",
      " (Dataset <id=edb1218e-c636-4ef2-890d-7f6330c30dbc type=landsat_8_USARD location=None>,)\n",
      " (Dataset <id=20aa8761-b719-43f0-a011-8296f50b4d7c type=landsat_8_USARD location=None>,)]\n",
      "TONY (driver/readers.py) source_type <class 'datacube.storage.storage.RasterDatasetDataSource'>\n",
      "TONY (driver/readers.py) band_name red\n",
      "TONY (driver/readers.py) return source_type <datacube.storage.storage.RasterDatasetDataSource object at 0x7f7ed992b4a8>\n",
      "TONY storage RasterDatasetDataSource src  <open DatasetReader name='s3://ga-odc-eros-ard-west/usard/LC08/20150607/LC08_CU_003003_20150607_20170713_C01_V01_SRB4.tif' mode='r'>\n",
      "TONY BandDataSource reproject  epsg:5072\n",
      "TONY BandDataSource reproject abc <class 'NoneType'>\n",
      "TONY BandDataSource reproject dir abc ['__bool__', '__class__', '__delattr__', '__dir__', '__doc__', '__eq__', '__format__', '__ge__', '__getattribute__', '__gt__', '__hash__', '__init__', '__le__', '__lt__', '__ne__', '__new__', '__reduce__', '__reduce_ex__', '__repr__', '__setattr__', '__sizeof__', '__str__', '__subclasshook__']\n",
      "TONY BandDataSource reproject print abc None\n",
      "TONY (driver/readers.py) source_type <class 'datacube.storage.storage.RasterDatasetDataSource'>\n",
      "TONY (driver/readers.py) band_name red\n",
      "TONY (driver/readers.py) return source_type <datacube.storage.storage.RasterDatasetDataSource object at 0x7f7ed992b748>\n",
      "TONY storage RasterDatasetDataSource src  <open DatasetReader name='s3://ga-odc-eros-ard-west/usard/LC08/20150623/LC08_CU_003003_20150623_20170713_C01_V01_SRB4.tif' mode='r'>\n",
      "TONY BandDataSource reproject  epsg:5072\n",
      "TONY BandDataSource reproject abc <class 'NoneType'>\n",
      "TONY BandDataSource reproject dir abc ['__bool__', '__class__', '__delattr__', '__dir__', '__doc__', '__eq__', '__format__', '__ge__', '__getattribute__', '__gt__', '__hash__', '__init__', '__le__', '__lt__', '__ne__', '__new__', '__reduce__', '__reduce_ex__', '__repr__', '__setattr__', '__sizeof__', '__str__', '__subclasshook__']\n",
      "TONY BandDataSource reproject print abc None\n",
      "TONY (driver/readers.py) source_type <class 'datacube.storage.storage.RasterDatasetDataSource'>\n",
      "TONY (driver/readers.py) band_name red\n",
      "TONY (driver/readers.py) return source_type <datacube.storage.storage.RasterDatasetDataSource object at 0x7f7ed995a0f0>\n",
      "TONY storage RasterDatasetDataSource src  <open DatasetReader name='s3://ga-odc-eros-ard-west/usard/LC08/20150709/LC08_CU_003003_20150709_20170713_C01_V01_SRB4.tif' mode='r'>\n",
      "TONY BandDataSource reproject  epsg:5072\n",
      "TONY BandDataSource reproject abc <class 'NoneType'>\n",
      "TONY BandDataSource reproject dir abc ['__bool__', '__class__', '__delattr__', '__dir__', '__doc__', '__eq__', '__format__', '__ge__', '__getattribute__', '__gt__', '__hash__', '__init__', '__le__', '__lt__', '__ne__', '__new__', '__reduce__', '__reduce_ex__', '__repr__', '__setattr__', '__sizeof__', '__str__', '__subclasshook__']\n",
      "TONY BandDataSource reproject print abc None\n",
      "TONY load_data - shape is: (3,)\n",
      "TONY load_data - geobox shape is: (31, 30)\n",
      "TONY load_data - nodata is: -9999\n",
      "TONY load_data - dtype is: int16\n",
      "TONY load_data - sources.values is: [(Dataset <id=c2566872-aa8f-4ac4-9dda-d8787ef0f93f type=landsat_8_USARD location=None>,)\n",
      " (Dataset <id=edb1218e-c636-4ef2-890d-7f6330c30dbc type=landsat_8_USARD location=None>,)\n",
      " (Dataset <id=20aa8761-b719-43f0-a011-8296f50b4d7c type=landsat_8_USARD location=None>,)]\n",
      "TONY (driver/readers.py) source_type <class 'datacube.storage.storage.RasterDatasetDataSource'>\n",
      "TONY (driver/readers.py) band_name green\n",
      "TONY (driver/readers.py) return source_type <datacube.storage.storage.RasterDatasetDataSource object at 0x7f7ed96dacc0>\n",
      "TONY storage RasterDatasetDataSource src  <open DatasetReader name='s3://ga-odc-eros-ard-west/usard/LC08/20150607/LC08_CU_003003_20150607_20170713_C01_V01_SRB3.tif' mode='r'>\n",
      "TONY BandDataSource reproject  epsg:5072\n",
      "TONY BandDataSource reproject abc <class 'NoneType'>\n",
      "TONY BandDataSource reproject dir abc ['__bool__', '__class__', '__delattr__', '__dir__', '__doc__', '__eq__', '__format__', '__ge__', '__getattribute__', '__gt__', '__hash__', '__init__', '__le__', '__lt__', '__ne__', '__new__', '__reduce__', '__reduce_ex__', '__repr__', '__setattr__', '__sizeof__', '__str__', '__subclasshook__']\n",
      "TONY BandDataSource reproject print abc None\n",
      "TONY (driver/readers.py) source_type <class 'datacube.storage.storage.RasterDatasetDataSource'>\n",
      "TONY (driver/readers.py) band_name green\n",
      "TONY (driver/readers.py) return source_type <datacube.storage.storage.RasterDatasetDataSource object at 0x7f7ed9683ba8>\n"
     ]
    },
    {
     "name": "stdout",
     "output_type": "stream",
     "text": [
      "TONY storage RasterDatasetDataSource src  <open DatasetReader name='s3://ga-odc-eros-ard-west/usard/LC08/20150623/LC08_CU_003003_20150623_20170713_C01_V01_SRB3.tif' mode='r'>\n",
      "TONY BandDataSource reproject  epsg:5072\n",
      "TONY BandDataSource reproject abc <class 'NoneType'>\n",
      "TONY BandDataSource reproject dir abc ['__bool__', '__class__', '__delattr__', '__dir__', '__doc__', '__eq__', '__format__', '__ge__', '__getattribute__', '__gt__', '__hash__', '__init__', '__le__', '__lt__', '__ne__', '__new__', '__reduce__', '__reduce_ex__', '__repr__', '__setattr__', '__sizeof__', '__str__', '__subclasshook__']\n",
      "TONY BandDataSource reproject print abc None\n",
      "TONY (driver/readers.py) source_type <class 'datacube.storage.storage.RasterDatasetDataSource'>\n",
      "TONY (driver/readers.py) band_name green\n",
      "TONY (driver/readers.py) return source_type <datacube.storage.storage.RasterDatasetDataSource object at 0x7f7ed821a4e0>\n",
      "TONY storage RasterDatasetDataSource src  <open DatasetReader name='s3://ga-odc-eros-ard-west/usard/LC08/20150709/LC08_CU_003003_20150709_20170713_C01_V01_SRB3.tif' mode='r'>\n",
      "TONY BandDataSource reproject  epsg:5072\n",
      "TONY BandDataSource reproject abc <class 'NoneType'>\n",
      "TONY BandDataSource reproject dir abc ['__bool__', '__class__', '__delattr__', '__dir__', '__doc__', '__eq__', '__format__', '__ge__', '__getattribute__', '__gt__', '__hash__', '__init__', '__le__', '__lt__', '__ne__', '__new__', '__reduce__', '__reduce_ex__', '__repr__', '__setattr__', '__sizeof__', '__str__', '__subclasshook__']\n",
      "TONY BandDataSource reproject print abc None\n",
      "TONY load_data - shape is: (3,)\n",
      "TONY load_data - geobox shape is: (31, 30)\n",
      "TONY load_data - nodata is: -9999\n",
      "TONY load_data - dtype is: int16\n",
      "TONY load_data - sources.values is: [(Dataset <id=c2566872-aa8f-4ac4-9dda-d8787ef0f93f type=landsat_8_USARD location=None>,)\n",
      " (Dataset <id=edb1218e-c636-4ef2-890d-7f6330c30dbc type=landsat_8_USARD location=None>,)\n",
      " (Dataset <id=20aa8761-b719-43f0-a011-8296f50b4d7c type=landsat_8_USARD location=None>,)]\n",
      "TONY (driver/readers.py) source_type <class 'datacube.storage.storage.RasterDatasetDataSource'>\n",
      "TONY (driver/readers.py) band_name blue\n",
      "TONY (driver/readers.py) return source_type <datacube.storage.storage.RasterDatasetDataSource object at 0x7f7ed995a5c0>\n",
      "TONY storage RasterDatasetDataSource src  <open DatasetReader name='s3://ga-odc-eros-ard-west/usard/LC08/20150607/LC08_CU_003003_20150607_20170713_C01_V01_SRB2.tif' mode='r'>\n",
      "TONY BandDataSource reproject  epsg:5072\n",
      "TONY BandDataSource reproject abc <class 'NoneType'>\n",
      "TONY BandDataSource reproject dir abc ['__bool__', '__class__', '__delattr__', '__dir__', '__doc__', '__eq__', '__format__', '__ge__', '__getattribute__', '__gt__', '__hash__', '__init__', '__le__', '__lt__', '__ne__', '__new__', '__reduce__', '__reduce_ex__', '__repr__', '__setattr__', '__sizeof__', '__str__', '__subclasshook__']\n",
      "TONY BandDataSource reproject print abc None\n",
      "TONY (driver/readers.py) source_type <class 'datacube.storage.storage.RasterDatasetDataSource'>\n",
      "TONY (driver/readers.py) band_name blue\n",
      "TONY (driver/readers.py) return source_type <datacube.storage.storage.RasterDatasetDataSource object at 0x7f7ed995a6a0>\n",
      "TONY storage RasterDatasetDataSource src  <open DatasetReader name='s3://ga-odc-eros-ard-west/usard/LC08/20150623/LC08_CU_003003_20150623_20170713_C01_V01_SRB2.tif' mode='r'>\n",
      "TONY BandDataSource reproject  epsg:5072\n",
      "TONY BandDataSource reproject abc <class 'NoneType'>\n",
      "TONY BandDataSource reproject dir abc ['__bool__', '__class__', '__delattr__', '__dir__', '__doc__', '__eq__', '__format__', '__ge__', '__getattribute__', '__gt__', '__hash__', '__init__', '__le__', '__lt__', '__ne__', '__new__', '__reduce__', '__reduce_ex__', '__repr__', '__setattr__', '__sizeof__', '__str__', '__subclasshook__']\n",
      "TONY BandDataSource reproject print abc None\n",
      "TONY (driver/readers.py) source_type <class 'datacube.storage.storage.RasterDatasetDataSource'>\n",
      "TONY (driver/readers.py) band_name blue\n",
      "TONY (driver/readers.py) return source_type <datacube.storage.storage.RasterDatasetDataSource object at 0x7f7ed995a6a0>\n",
      "TONY storage RasterDatasetDataSource src  <open DatasetReader name='s3://ga-odc-eros-ard-west/usard/LC08/20150709/LC08_CU_003003_20150709_20170713_C01_V01_SRB2.tif' mode='r'>\n",
      "TONY BandDataSource reproject  epsg:5072\n",
      "TONY BandDataSource reproject abc <class 'NoneType'>\n",
      "TONY BandDataSource reproject dir abc ['__bool__', '__class__', '__delattr__', '__dir__', '__doc__', '__eq__', '__format__', '__ge__', '__getattribute__', '__gt__', '__hash__', '__init__', '__le__', '__lt__', '__ne__', '__new__', '__reduce__', '__reduce_ex__', '__repr__', '__setattr__', '__sizeof__', '__str__', '__subclasshook__']\n",
      "TONY BandDataSource reproject print abc None\n",
      "2TONY api-core/create_storage - xarray is  <class 'xarray.core.dataset.Dataset'>\n",
      "2TONY api-core/create_storage - xarray is  <bound method ImplementsDatasetReduce._reduce_method.<locals>.wrapped_func of <xarray.Dataset>\n",
      "Dimensions:  (time: 3, x: 30, y: 31)\n",
      "Coordinates:\n",
      "  * time     (time) datetime64[ns] 2015-06-07T18:55:15.831248 ...\n",
      "  * y        (y) float64 2.809e+06 2.809e+06 2.809e+06 2.809e+06 2.809e+06 ...\n",
      "  * x        (x) float64 -2.059e+06 -2.059e+06 -2.059e+06 -2.059e+06 ...\n",
      "Data variables:\n",
      "    red      (time, y, x) int16 57 58 64 93 145 149 123 102 70 67 69 67 74 ...\n",
      "    green    (time, y, x) int16 159 164 167 195 243 237 210 197 171 168 172 ...\n",
      "    blue     (time, y, x) int16 53 52 58 81 126 132 108 92 63 59 68 57 53 45 ...\n",
      "Attributes:\n",
      "    crs:      epsg:5072>\n",
      "3TONY api-core/load - xarray is  <class 'xarray.core.dataset.Dataset'>\n",
      "<bound method ImplementsDatasetReduce._reduce_method.<locals>.wrapped_func of <xarray.Dataset>\n",
      "Dimensions:  (time: 3, x: 30, y: 31)\n",
      "Coordinates:\n",
      "  * time     (time) datetime64[ns] 2015-06-07T18:55:15.831248 ...\n",
      "  * y        (y) float64 2.809e+06 2.809e+06 2.809e+06 2.809e+06 2.809e+06 ...\n",
      "  * x        (x) float64 -2.059e+06 -2.059e+06 -2.059e+06 -2.059e+06 ...\n",
      "Data variables:\n",
      "    red      (time, y, x) int16 57 58 64 93 145 149 123 102 70 67 69 67 74 ...\n",
      "    green    (time, y, x) int16 159 164 167 195 243 237 210 197 171 168 172 ...\n",
      "    blue     (time, y, x) int16 53 52 58 81 126 132 108 92 63 59 68 57 53 45 ...\n",
      "Attributes:\n",
      "    crs:      epsg:5072>\n",
      "3TONY api-core/load - xarray is  None\n",
      "CPU times: user 528 ms, sys: 71.2 ms, total: 599 ms\n",
      "Wall time: 6.35 s\n"
     ]
    }
   ],
   "source": [
    "t1 = time.time()\n",
    "%time landsat_dataset = load_me()"
   ]
  },
  {
   "cell_type": "code",
   "execution_count": 24,
   "metadata": {},
   "outputs": [
    {
     "data": {
      "text/plain": [
       "<xarray.Dataset>\n",
       "Dimensions:  (time: 3, x: 30, y: 31)\n",
       "Coordinates:\n",
       "  * time     (time) datetime64[ns] 2015-06-07T18:55:15.831248 ...\n",
       "  * y        (y) float64 2.809e+06 2.809e+06 2.809e+06 2.809e+06 2.809e+06 ...\n",
       "  * x        (x) float64 -2.059e+06 -2.059e+06 -2.059e+06 -2.059e+06 ...\n",
       "Data variables:\n",
       "    red      (time, y, x) int16 57 58 64 93 145 149 123 102 70 67 69 67 74 ...\n",
       "    green    (time, y, x) int16 159 164 167 195 243 237 210 197 171 168 172 ...\n",
       "    blue     (time, y, x) int16 53 52 58 81 126 132 108 92 63 59 68 57 53 45 ...\n",
       "Attributes:\n",
       "    crs:      epsg:5072"
      ]
     },
     "execution_count": 24,
     "metadata": {},
     "output_type": "execute_result"
    }
   ],
   "source": [
    "landsat_dataset"
   ]
  },
  {
   "cell_type": "code",
   "execution_count": 25,
   "metadata": {},
   "outputs": [
    {
     "name": "stdout",
     "output_type": "stream",
     "text": [
      "Load took 06 seconds.\n"
     ]
    }
   ],
   "source": [
    "t2 = time.time()\n",
    "elapsed = t2 - t1\n",
    "print(\"Load took %02d\" % elapsed, \"seconds.\")"
   ]
  },
  {
   "cell_type": "code",
   "execution_count": 26,
   "metadata": {},
   "outputs": [
    {
     "name": "stdout",
     "output_type": "stream",
     "text": [
      "Tue Oct  9 11:03:39 CDT 2018\r\n"
     ]
    }
   ],
   "source": [
    "!date"
   ]
  },
  {
   "cell_type": "markdown",
   "metadata": {},
   "source": [
    "### Examining the size of our extent.  "
   ]
  },
  {
   "cell_type": "code",
   "execution_count": 27,
   "metadata": {},
   "outputs": [
    {
     "data": {
      "text/plain": [
       "<xarray.Dataset>\n",
       "Dimensions:  (time: 3, x: 30, y: 31)\n",
       "Coordinates:\n",
       "  * time     (time) datetime64[ns] 2015-06-07T18:55:15.831248 ...\n",
       "  * y        (y) float64 2.809e+06 2.809e+06 2.809e+06 2.809e+06 2.809e+06 ...\n",
       "  * x        (x) float64 -2.059e+06 -2.059e+06 -2.059e+06 -2.059e+06 ...\n",
       "Data variables:\n",
       "    red      (time, y, x) int16 57 58 64 93 145 149 123 102 70 67 69 67 74 ...\n",
       "    green    (time, y, x) int16 159 164 167 195 243 237 210 197 171 168 172 ...\n",
       "    blue     (time, y, x) int16 53 52 58 81 126 132 108 92 63 59 68 57 53 45 ...\n",
       "Attributes:\n",
       "    crs:      epsg:5072"
      ]
     },
     "execution_count": 27,
     "metadata": {},
     "output_type": "execute_result"
    }
   ],
   "source": [
    "landsat_dataset\n",
    "#view the dimensions and sample content from the cube\n",
    "# time and x and y in a simple cartesian coordinate system\n",
    "# origin is upper left - ul = 0,0 in the xarray - x=0, y=0"
   ]
  },
  {
   "cell_type": "code",
   "execution_count": 28,
   "metadata": {},
   "outputs": [
    {
     "data": {
      "text/plain": [
       "Frozen(SortedKeysDict({'time': 3, 'y': 31, 'x': 30}))"
      ]
     },
     "execution_count": 28,
     "metadata": {},
     "output_type": "execute_result"
    }
   ],
   "source": [
    "landsat_dataset.dims\n",
    "# just get the dimensions using the .dims method from xarray"
   ]
  },
  {
   "cell_type": "markdown",
   "metadata": {},
   "source": [
    "# Now graph/plot/display/visualize the raster observations\n",
    "## RGB Plots"
   ]
  },
  {
   "cell_type": "code",
   "execution_count": 29,
   "metadata": {},
   "outputs": [
    {
     "data": {
      "text/plain": [
       "True"
      ]
     },
     "execution_count": 29,
     "metadata": {},
     "output_type": "execute_result"
    },
    {
     "data": {
      "image/png": "[encoded data removed]",
      "text/plain": [
       "<Figure size 576x576 with 1 Axes>"
      ]
     },
     "metadata": {},
     "output_type": "display_data"
    }
   ],
   "source": [
    "from noteLib import plot_labeled_rgb\n",
    "ntime = len(landsat_dataset.time)\n",
    "\n",
    "t=0\n",
    "cnt=0\n",
    "plot_labeled_rgb(landsat_dataset, t, cnt)\n",
    "\n"
   ]
  },
  {
   "cell_type": "code",
   "execution_count": 30,
   "metadata": {},
   "outputs": [
    {
     "name": "stdout",
     "output_type": "stream",
     "text": [
      "(-122.74749319506422, 45.6437145802887)\n"
     ]
    }
   ],
   "source": [
    "\n",
    "myll = p(-2058605,2808925, inverse=True)\n",
    "print (myll)"
   ]
  },
  {
   "cell_type": "code",
   "execution_count": 31,
   "metadata": {},
   "outputs": [
    {
     "data": {
      "text/plain": [
       "BoundingBox(left=-2115585.0, bottom=2714805.0, right=-1965585.0, top=2864805.0)"
      ]
     },
     "execution_count": 31,
     "metadata": {},
     "output_type": "execute_result"
    }
   ],
   "source": [
    "citem.bounds"
   ]
  },
  {
   "cell_type": "code",
   "execution_count": 32,
   "metadata": {},
   "outputs": [
    {
     "data": {
      "text/plain": [
       "(-2060026.703235794, 2776516.317378246)"
      ]
     },
     "execution_count": 32,
     "metadata": {},
     "output_type": "execute_result"
    }
   ],
   "source": [
    "mthood=(-122.65,45.36)\n",
    "mthoodaea=p(mthood[0],mthood[1])\n",
    "mthoodaea"
   ]
  },
  {
   "cell_type": "code",
   "execution_count": 33,
   "metadata": {},
   "outputs": [
    {
     "data": {
      "image/png": "[encoded data removed]",
      "text/plain": [
       "<Figure size 432x288 with 1 Axes>"
      ]
     },
     "metadata": {},
     "output_type": "display_data"
    }
   ],
   "source": [
    "from rasterio.plot import show_hist\n",
    "show_hist(landsat_dataset['red'][0].values, bins=100, lw=0.0, stacked=False, alpha=0.3, histtype='stepfilled', title=\"Histogram\")"
   ]
  },
  {
   "cell_type": "code",
   "execution_count": 34,
   "metadata": {},
   "outputs": [
    {
     "data": {
      "text/plain": [
       "-8"
      ]
     },
     "execution_count": 34,
     "metadata": {},
     "output_type": "execute_result"
    }
   ],
   "source": [
    "landsat_dataset['red'][0].values.min()"
   ]
  },
  {
   "cell_type": "code",
   "execution_count": 35,
   "metadata": {},
   "outputs": [
    {
     "data": {
      "text/plain": [
       "1970"
      ]
     },
     "execution_count": 35,
     "metadata": {},
     "output_type": "execute_result"
    }
   ],
   "source": [
    "landsat_dataset['red'][0].values.max()"
   ]
  },
  {
   "cell_type": "code",
   "execution_count": 36,
   "metadata": {},
   "outputs": [
    {
     "data": {
      "text/plain": [
       "(31, 30)"
      ]
     },
     "execution_count": 36,
     "metadata": {},
     "output_type": "execute_result"
    }
   ],
   "source": [
    "landsat_dataset['red'][0].values.shape"
   ]
  },
  {
   "cell_type": "code",
   "execution_count": 37,
   "metadata": {},
   "outputs": [
    {
     "data": {
      "text/plain": [
       "(31, 30)"
      ]
     },
     "execution_count": 37,
     "metadata": {},
     "output_type": "execute_result"
    }
   ],
   "source": [
    "ary = landsat_dataset['red'][0].values\n",
    "ary.shape"
   ]
  },
  {
   "cell_type": "code",
   "execution_count": 38,
   "metadata": {},
   "outputs": [
    {
     "data": {
      "text/plain": [
       "57"
      ]
     },
     "execution_count": 38,
     "metadata": {},
     "output_type": "execute_result"
    }
   ],
   "source": [
    "ary[0][0]"
   ]
  },
  {
   "cell_type": "code",
   "execution_count": 39,
   "metadata": {},
   "outputs": [],
   "source": [
    "(ny,nx) = ary.shape"
   ]
  },
  {
   "cell_type": "code",
   "execution_count": 40,
   "metadata": {},
   "outputs": [
    {
     "data": {
      "text/plain": [
       "930"
      ]
     },
     "execution_count": 40,
     "metadata": {},
     "output_type": "execute_result"
    }
   ],
   "source": [
    "total_pixel_count = nx * ny\n",
    "\n",
    "total_pixel_count\n"
   ]
  },
  {
   "cell_type": "code",
   "execution_count": 41,
   "metadata": {},
   "outputs": [],
   "source": [
    "def desat(ary):\n",
    "    saturated_count = 0\n",
    "\n",
    "    for y in range (0,286):\n",
    "        for x in range (0,311):\n",
    "            #print (x,y)\n",
    "            if ary[y][x] > 3000:\n",
    "                # print(x,y)\n",
    "                #clip\n",
    "                ary[y][x] = 3000\n",
    "                saturated_count = saturated_count +1\n"
   ]
  },
  {
   "cell_type": "code",
   "execution_count": 42,
   "metadata": {},
   "outputs": [
    {
     "ename": "IndexError",
     "evalue": "index 30 is out of bounds for axis 0 with size 30",
     "output_type": "error",
     "traceback": [
      "\u001b[0;31m---------------------------------------------------------------------------\u001b[0m",
      "\u001b[0;31mIndexError\u001b[0m                                Traceback (most recent call last)",
      "\u001b[0;32m<ipython-input-42-3360239d0461>\u001b[0m in \u001b[0;36m<module>\u001b[0;34m()\u001b[0m\n\u001b[1;32m      1\u001b[0m \u001b[0mary\u001b[0m \u001b[0;34m=\u001b[0m \u001b[0mlandsat_dataset\u001b[0m\u001b[0;34m[\u001b[0m\u001b[0;34m'red'\u001b[0m\u001b[0;34m]\u001b[0m\u001b[0;34m[\u001b[0m\u001b[0;36m0\u001b[0m\u001b[0;34m]\u001b[0m\u001b[0;34m.\u001b[0m\u001b[0mvalues\u001b[0m\u001b[0;34m\u001b[0m\u001b[0m\n\u001b[0;32m----> 2\u001b[0;31m \u001b[0mdesat\u001b[0m\u001b[0;34m(\u001b[0m\u001b[0mary\u001b[0m\u001b[0;34m)\u001b[0m\u001b[0;34m\u001b[0m\u001b[0m\n\u001b[0m\u001b[1;32m      3\u001b[0m \u001b[0mshow_hist\u001b[0m\u001b[0;34m(\u001b[0m\u001b[0mary\u001b[0m\u001b[0;34m,\u001b[0m \u001b[0mbins\u001b[0m\u001b[0;34m=\u001b[0m\u001b[0;36m100\u001b[0m\u001b[0;34m,\u001b[0m \u001b[0mlw\u001b[0m\u001b[0;34m=\u001b[0m\u001b[0;36m0.0\u001b[0m\u001b[0;34m,\u001b[0m \u001b[0mstacked\u001b[0m\u001b[0;34m=\u001b[0m\u001b[0;32mFalse\u001b[0m\u001b[0;34m,\u001b[0m \u001b[0malpha\u001b[0m\u001b[0;34m=\u001b[0m\u001b[0;36m0.3\u001b[0m\u001b[0;34m,\u001b[0m \u001b[0mhisttype\u001b[0m\u001b[0;34m=\u001b[0m\u001b[0;34m'stepfilled'\u001b[0m\u001b[0;34m,\u001b[0m \u001b[0mtitle\u001b[0m\u001b[0;34m=\u001b[0m\u001b[0;34m\"Histogram\"\u001b[0m\u001b[0;34m,\u001b[0m \u001b[0mfc\u001b[0m\u001b[0;34m=\u001b[0m\u001b[0;34m'red'\u001b[0m\u001b[0;34m)\u001b[0m\u001b[0;34m\u001b[0m\u001b[0m\n",
      "\u001b[0;32m<ipython-input-41-3e9c3641e2f6>\u001b[0m in \u001b[0;36mdesat\u001b[0;34m(ary)\u001b[0m\n\u001b[1;32m      5\u001b[0m         \u001b[0;32mfor\u001b[0m \u001b[0mx\u001b[0m \u001b[0;32min\u001b[0m \u001b[0mrange\u001b[0m \u001b[0;34m(\u001b[0m\u001b[0;36m0\u001b[0m\u001b[0;34m,\u001b[0m\u001b[0;36m311\u001b[0m\u001b[0;34m)\u001b[0m\u001b[0;34m:\u001b[0m\u001b[0;34m\u001b[0m\u001b[0m\n\u001b[1;32m      6\u001b[0m             \u001b[0;31m#print (x,y)\u001b[0m\u001b[0;34m\u001b[0m\u001b[0;34m\u001b[0m\u001b[0m\n\u001b[0;32m----> 7\u001b[0;31m             \u001b[0;32mif\u001b[0m \u001b[0mary\u001b[0m\u001b[0;34m[\u001b[0m\u001b[0my\u001b[0m\u001b[0;34m]\u001b[0m\u001b[0;34m[\u001b[0m\u001b[0mx\u001b[0m\u001b[0;34m]\u001b[0m \u001b[0;34m>\u001b[0m \u001b[0;36m3000\u001b[0m\u001b[0;34m:\u001b[0m\u001b[0;34m\u001b[0m\u001b[0m\n\u001b[0m\u001b[1;32m      8\u001b[0m                 \u001b[0;31m# print(x,y)\u001b[0m\u001b[0;34m\u001b[0m\u001b[0;34m\u001b[0m\u001b[0m\n\u001b[1;32m      9\u001b[0m                 \u001b[0;31m#clip\u001b[0m\u001b[0;34m\u001b[0m\u001b[0;34m\u001b[0m\u001b[0m\n",
      "\u001b[0;31mIndexError\u001b[0m: index 30 is out of bounds for axis 0 with size 30"
     ]
    }
   ],
   "source": [
    "ary = landsat_dataset['red'][0].values\n",
    "desat(ary)\n",
    "show_hist(ary, bins=100, lw=0.0, stacked=False, alpha=0.3, histtype='stepfilled', title=\"Histogram\", fc='red')"
   ]
  },
  {
   "cell_type": "code",
   "execution_count": null,
   "metadata": {},
   "outputs": [],
   "source": [
    "ary = landsat_dataset['green'][0].values\n",
    "desat(ary)\n",
    "show_hist(ary, bins=100, lw=0.0, stacked=False, alpha=0.3, histtype='stepfilled', title=\"Histogram\", fc='green')"
   ]
  },
  {
   "cell_type": "code",
   "execution_count": null,
   "metadata": {},
   "outputs": [],
   "source": [
    "ary = landsat_dataset['blue'][0].values\n",
    "desat(ary)\n",
    "show_hist(ary, bins=50, lw=0.0, stacked=False, alpha=0.3, histtype='stepfilled', title=\"Histogram\", fc='blue')"
   ]
  },
  {
   "cell_type": "code",
   "execution_count": null,
   "metadata": {},
   "outputs": [],
   "source": []
  }
 ],
 "metadata": {
  "kernelspec": {
   "display_name": "Python 3",
   "language": "python",
   "name": "python3"
  },
  "language_info": {
   "codemirror_mode": {
    "name": "ipython",
    "version": 3
   },
   "file_extension": ".py",
   "mimetype": "text/x-python",
   "name": "python",
   "nbconvert_exporter": "python",
   "pygments_lexer": "ipython3",
   "version": "3.5.2"
  }
 },
 "nbformat": 4,
 "nbformat_minor": 2
}
