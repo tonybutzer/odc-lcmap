{
 "cells": [
  {
   "cell_type": "markdown",
   "metadata": {
    "slideshow": {
     "slide_type": "slide"
    }
   },
   "source": [
    "# Geospatial Data in Python: Database, Desktop, and the Web\n",
    "## Tutorial (Part 1)"
   ]
  },
  {
   "cell_type": "markdown",
   "metadata": {
    "slideshow": {
     "slide_type": "subslide"
    }
   },
   "source": [
    "# Converting coordinates with PyProj"
   ]
  },
  {
   "cell_type": "code",
   "execution_count": 1,
   "metadata": {},
   "outputs": [
    {
     "name": "stdout",
     "output_type": "stream",
     "text": [
      "NEW NEW\n",
      "NEW NEW\n",
      "None\n",
      "+units=m +init=epsg:3857 \n",
      "(-13653335.545795003, 5714888.113445689)\n",
      "(-97.740372, 30.282642000000003)\n"
     ]
    }
   ],
   "source": [
    "from pyproj import Proj\n",
    "\n",
    "# Create projection transformation object\n",
    "\n",
    "\n",
    "p = Proj(init='epsg:3857') # EPSG code for Web Mercator\n",
    "\n",
    "# p = Proj(init='ESRI:102008') # EPSG code for Albers Equal Area - AEA (ESRI code?)\n",
    "\n",
    "# Convert from long/lat to Mercator and back\n",
    "# -122.65, 45.59 (hayden island UL)\n",
    "print(p(-122.65, 45.59))\n",
    "print(p(-10880408.440985134, 3539932.8204972977, inverse=True))"
   ]
  },
  {
   "cell_type": "code",
   "execution_count": 18,
   "metadata": {
    "slideshow": {
     "slide_type": "-"
    }
   },
   "outputs": [
    {
     "name": "stdout",
     "output_type": "stream",
     "text": [
      "NEW NEW\n",
      "NEW NEW\n",
      "None\n",
      "+units=m +init=epsg:5072 \n",
      "(-2052951.3790171691, 2801081.8704500184)\n"
     ]
    }
   ],
   "source": [
    "\n",
    "\n",
    "# Create projection transformation object\n",
    "\n",
    "\n",
    "p = Proj(init='epsg:5072') # AEA\n",
    "# p = Proj(init='esri:102008') # EPSG code for Albers Equal Area - AEA (ESRI code?)\n",
    "\n",
    "# Convert from long/lat to Mercator and back\n",
    "# -122.65, 45.59 (hayden island UL)\n",
    "print(p(-122.65, 45.59))\n",
    "# print(p(-10880408.440985134, 3539932.8204972977, inverse=True))"
   ]
  },
  {
   "cell_type": "code",
   "execution_count": 19,
   "metadata": {},
   "outputs": [
    {
     "name": "stdout",
     "output_type": "stream",
     "text": [
      "(-2156623.536511753, 2726957.3984451424)\n",
      "(-1976363.8765801755, 2675419.1578519745)\n",
      "(-2103417.472153041, 2904637.4542959267)\n",
      "(-1927604.998717031, 2854370.713758058)\n"
     ]
    }
   ],
   "source": [
    "gll=(-123.65, 44.688)\n",
    "glr=(-121.28, 44.688)\n",
    "gul=(-123.65, 46.357)\n",
    "gur=(-121.28, 46.357)\n",
    "g=gll\n",
    "print(p(g[0],g[1]))\n",
    "g=glr\n",
    "print(p(g[0],g[1]))\n",
    "g=gul\n",
    "print(p(g[0],g[1]))\n",
    "g=gur\n",
    "print(p(g[0],g[1]))\n",
    "\n"
   ]
  },
  {
   "cell_type": "code",
   "execution_count": 20,
   "metadata": {},
   "outputs": [
    {
     "name": "stdout",
     "output_type": "stream",
     "text": [
      "(-2052951.3790171691, 2801081.8704500184)\n",
      "(-2060450.6252651254, 2803246.0627418146)\n",
      "(-2058598.8384142194, 2809650.1282541365)\n",
      "(-2051106.3319567847, 2807487.880984841)\n",
      "(-2052951.3790171691, 2801081.8704500184)\n"
     ]
    }
   ],
   "source": [
    "# TONY load function\n",
    "aoiList = [(-122.65, 45.59), (-122.75, 45.59), (-122.75, 45.65), (-122.65, 45.65), (-122.65, 45.59)]\n",
    "for g in aoiList:\n",
    "    print(p(g[0],g[1]))\n",
    "\n",
    "\n",
    "# [(-2115585.0, 2714805.0), (-2115585.0, 2864805.0), (-1965585.0, 2864805.0), (-1965585.0, 2714805.0), (-2115585.0, 2714805.0)]\n",
    "# [(-2115585.0, 2714805.0), (-2115585.0, 2864805.0), (-1965585.0, 2864805.0), (-1965585.0, 2714805.0), (-2115585.0, 2714805.0)]\n",
    "# [(-2115585.0, 2714805.0), (-2115585.0, 2864805.0), (-1965585.0, 2864805.0), (-1965585.0, 2714805.0), (-2115585.0, 2714805.0)]"
   ]
  },
  {
   "cell_type": "code",
   "execution_count": 3,
   "metadata": {
    "slideshow": {
     "slide_type": "subslide"
    }
   },
   "outputs": [
    {
     "name": "stdout",
     "output_type": "stream",
     "text": [
      "NEW NEW\n",
      "NEW NEW\n",
      "{'units': 'us-ft', 'x_0': 300000.0000000001, 'towgs84': '0,0,0,0,0,0,0', 'lat_2': 40.66666666666666, 'ellps': 'GRS80', 'proj': 'lcc', 'no_defs': True, 'lat_1': 41.03333333333333, 'y_0': 0, 'lat_0': 40.16666666666666, 'lon_0': -74}\n",
      "+units=us-ft +x_0=300000.0000000001 +towgs84=0,0,0,0,0,0,0 +lat_2=40.66666666666666 +ellps=GRS80 +proj=lcc +no_defs=True +lat_1=41.03333333333333 +y_0=0 +lat_0=40.16666666666666 +lon_0=-74 \n",
      "NEW NEW\n",
      "NEW NEW\n",
      "None\n",
      "+init=epsg:2263 \n"
     ]
    }
   ],
   "source": [
    "# Fiona (which we will be using shortly) has several \n",
    "# helper functions for working with proj4 strings\n",
    "from fiona.crs import to_string, from_epsg, from_string\n",
    "\n",
    "# Create a crs dict from a proj4 string\n",
    "crs = from_string('+proj=lcc +lat_1=41.03333333333333 +lat_2=40.66666666666666 '\n",
    "                  '+lat_0=40.16666666666666 +lon_0=-74 +x_0=300000.0000000001 '\n",
    "                  '+y_0=0 +ellps=GRS80 +towgs84=0,0,0,0,0,0,0 +units=us-ft +no_defs')\n",
    "\n",
    "# Using a proj4 string\n",
    "nyc_proj = Proj(crs, preserve_units=True)\n",
    "\n",
    "# Using an EPSG code\n",
    "nyc_epsg = Proj(init='epsg:2263', preserve_units=True)"
   ]
  },
  {
   "cell_type": "code",
   "execution_count": 4,
   "metadata": {
    "slideshow": {
     "slide_type": "fragment"
    }
   },
   "outputs": [
    {
     "name": "stdout",
     "output_type": "stream",
     "text": [
      "(994304.9668873836, 219227.69171753718)\n",
      "(994304.9668873836, 219227.69171753718)\n"
     ]
    }
   ],
   "source": [
    "# Here's about where my office in NYC is located (in long/lat)\n",
    "office = (-73.9637, 40.7684)\n",
    "\n",
    "# Are they close?\n",
    "print(nyc_proj(*office))\n",
    "print(nyc_epsg(*office))"
   ]
  },
  {
   "cell_type": "markdown",
   "metadata": {
    "slideshow": {
     "slide_type": "subslide"
    }
   },
   "source": [
    "## Plotting Eyjafjallajökull volcano with Cartopy"
   ]
  },
  {
   "cell_type": "code",
   "execution_count": 5,
   "metadata": {
    "slideshow": {
     "slide_type": "-"
    }
   },
   "outputs": [
    {
     "ename": "ImportError",
     "evalue": "No module named 'cartopy'",
     "output_type": "error",
     "traceback": [
      "\u001b[0;31m---------------------------------------------------------------------------\u001b[0m",
      "\u001b[0;31mImportError\u001b[0m                               Traceback (most recent call last)",
      "\u001b[0;32m<ipython-input-5-892502c1f957>\u001b[0m in \u001b[0;36m<module>\u001b[0;34m()\u001b[0m\n\u001b[1;32m      1\u001b[0m \u001b[0;32mimport\u001b[0m \u001b[0mmatplotlib\u001b[0m\u001b[0;34m.\u001b[0m\u001b[0mpyplot\u001b[0m \u001b[0;32mas\u001b[0m \u001b[0mplt\u001b[0m\u001b[0;34m\u001b[0m\u001b[0m\n\u001b[1;32m      2\u001b[0m \u001b[0mget_ipython\u001b[0m\u001b[0;34m(\u001b[0m\u001b[0;34m)\u001b[0m\u001b[0;34m.\u001b[0m\u001b[0mrun_line_magic\u001b[0m\u001b[0;34m(\u001b[0m\u001b[0;34m'matplotlib'\u001b[0m\u001b[0;34m,\u001b[0m \u001b[0;34m'inline'\u001b[0m\u001b[0;34m)\u001b[0m\u001b[0;34m\u001b[0m\u001b[0m\n\u001b[0;32m----> 3\u001b[0;31m \u001b[0;32mimport\u001b[0m \u001b[0mcartopy\u001b[0m\u001b[0;34m.\u001b[0m\u001b[0mcrs\u001b[0m \u001b[0;32mas\u001b[0m \u001b[0mccrs\u001b[0m\u001b[0;34m\u001b[0m\u001b[0m\n\u001b[0m\u001b[1;32m      4\u001b[0m \u001b[0;32mimport\u001b[0m \u001b[0mmatplotlib\u001b[0m\u001b[0;34m.\u001b[0m\u001b[0mpyplot\u001b[0m \u001b[0;32mas\u001b[0m \u001b[0mplt\u001b[0m\u001b[0;34m\u001b[0m\u001b[0m\n\u001b[1;32m      5\u001b[0m \u001b[0;32mimport\u001b[0m \u001b[0mcartopy\u001b[0m\u001b[0;34m.\u001b[0m\u001b[0mio\u001b[0m\u001b[0;34m.\u001b[0m\u001b[0mimg_tiles\u001b[0m \u001b[0;32mas\u001b[0m \u001b[0mcimgt\u001b[0m\u001b[0;34m\u001b[0m\u001b[0m\n",
      "\u001b[0;31mImportError\u001b[0m: No module named 'cartopy'"
     ]
    }
   ],
   "source": [
    "import matplotlib.pyplot as plt\n",
    "%matplotlib inline\n",
    "import cartopy.crs as ccrs\n",
    "import matplotlib.pyplot as plt\n",
    "import cartopy.io.img_tiles as cimgt\n",
    "\n",
    "# Create a MapQuest open aerial instance\n",
    "map_quest_aerial = cimgt.MapQuestOpenAerial()\n",
    "\n",
    "stamen_terrain = cimgt.StamenTerrain()\n",
    "\n",
    "# What is the projection?\n",
    "print(map_quest_aerial.crs.proj4_init)"
   ]
  },
  {
   "cell_type": "code",
   "execution_count": null,
   "metadata": {
    "slideshow": {
     "slide_type": "-"
    }
   },
   "outputs": [],
   "source": [
    "# Specify the lon/lat for the volcano\n",
    "volcano = (-19.613333, 63.62)\n",
    "\n",
    "# Define the plotting extent of the map\n",
    "extent = [-22, -15, 63, 65]\n",
    "\n",
    "# Specify the transform to use when plotting\n",
    "transform=ccrs.Geodetic()"
   ]
  },
  {
   "cell_type": "code",
   "execution_count": null,
   "metadata": {
    "slideshow": {
     "slide_type": "subslide"
    }
   },
   "outputs": [],
   "source": [
    "fig = plt.figure(figsize=(10,8))\n",
    "# Create a GeoAxes in the tile's projection\n",
    "ax = plt.axes(projection=map_quest_aerial.crs)\n",
    "ax.set_extent(extent)\n",
    "# Add the MapQuest data at zoom level 8\n",
    "#ax.add_image(map_quest_aerial, 8)\n",
    "ax.add_image(stamen_terrain, 8)\n",
    "ax.plot(*volcano, marker='o', color='yellow', markersize=12,\n",
    "        alpha=0.7, transform=transform)\n",
    "ax.set_title(u'Eyjafjallajokull the volcano')\n",
    "plt.show()"
   ]
  },
  {
   "cell_type": "markdown",
   "metadata": {
    "slideshow": {
     "slide_type": "slide"
    }
   },
   "source": [
    "### Time to work on Notebook:\n",
    "\n",
    "[`Working with Projections in Python`](../exercises/Working with Projections in Python.ipynb)"
   ]
  }
 ],
 "metadata": {
  "kernelspec": {
   "display_name": "Python 3",
   "language": "python",
   "name": "python3"
  },
  "language_info": {
   "codemirror_mode": {
    "name": "ipython",
    "version": 3
   },
   "file_extension": ".py",
   "mimetype": "text/x-python",
   "name": "python",
   "nbconvert_exporter": "python",
   "pygments_lexer": "ipython3",
   "version": "3.5.2"
  }
 },
 "nbformat": 4,
 "nbformat_minor": 1
}
