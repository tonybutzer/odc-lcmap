{
 "cells": [
  {
   "cell_type": "markdown",
   "metadata": {},
   "source": [
    "# Example notebook"
   ]
  },
  {
   "cell_type": "code",
   "execution_count": 1,
   "metadata": {},
   "outputs": [
    {
     "name": "stderr",
     "output_type": "stream",
     "text": [
      "Failed to resolve driver datacube.plugins.index::s3aio_index\n"
     ]
    }
   ],
   "source": [
    "import datacube\n",
    "dc= datacube.Datacube()\n"
   ]
  },
  {
   "cell_type": "code",
   "execution_count": 6,
   "metadata": {},
   "outputs": [
    {
     "data": {
      "text/plain": [
       "['__class__',\n",
       " '__delattr__',\n",
       " '__dict__',\n",
       " '__dir__',\n",
       " '__doc__',\n",
       " '__enter__',\n",
       " '__eq__',\n",
       " '__exit__',\n",
       " '__format__',\n",
       " '__ge__',\n",
       " '__getattribute__',\n",
       " '__gt__',\n",
       " '__hash__',\n",
       " '__init__',\n",
       " '__init_subclass__',\n",
       " '__le__',\n",
       " '__lt__',\n",
       " '__module__',\n",
       " '__ne__',\n",
       " '__new__',\n",
       " '__reduce__',\n",
       " '__reduce_ex__',\n",
       " '__repr__',\n",
       " '__setattr__',\n",
       " '__sizeof__',\n",
       " '__str__',\n",
       " '__subclasshook__',\n",
       " '__weakref__',\n",
       " '_list_measurements',\n",
       " 'close',\n",
       " 'create_storage',\n",
       " 'find_datasets',\n",
       " 'find_datasets_lazy',\n",
       " 'group_datasets',\n",
       " 'index',\n",
       " 'list_measurements',\n",
       " 'list_products',\n",
       " 'load',\n",
       " 'load_data',\n",
       " 'measurement_data',\n",
       " 'product_data',\n",
       " 'product_observations',\n",
       " 'product_sources']"
      ]
     },
     "execution_count": 6,
     "metadata": {},
     "output_type": "execute_result"
    }
   ],
   "source": [
    "dir(dc)"
   ]
  },
  {
   "cell_type": "code",
   "execution_count": 2,
   "metadata": {},
   "outputs": [
    {
     "name": "stdout",
     "output_type": "stream",
     "text": [
      "2018-11-28 22:41:05,053 20064 datacube.drivers.driver_cache \u001b[33mWARNING\u001b[0m Failed to resolve driver datacube.plugins.index::s3aio_index\n",
      "    570    1140   23370\n"
     ]
    }
   ],
   "source": [
    "!datacube dataset search product ='l8_kline' |grep id |wc"
   ]
  },
  {
   "cell_type": "code",
   "execution_count": 3,
   "metadata": {},
   "outputs": [],
   "source": [
    "from datetime import datetime\n",
    "date_range = (\n",
    "        datetime(2014,1,20),\n",
    "        datetime(2015,12,31))"
   ]
  },
  {
   "cell_type": "code",
   "execution_count": 4,
   "metadata": {},
   "outputs": [],
   "source": [
    "x_lon_extent = (-119.44,-119.18)\n",
    "y_lat_extent = (36.80,36.96)\n"
   ]
  },
  {
   "cell_type": "code",
   "execution_count": 7,
   "metadata": {},
   "outputs": [],
   "source": [
    "product = 'l8_kline'\n",
    "ds = dc.find_datasets(product=product,\n",
    "             x = x_lon_extent, y =y_lat_extent,\n",
    "             output_crs = 'epsg:32610', resolution = (-30,30), \n",
    "             time = date_range, measurements = ('red', 'green', 'blue','nir') )"
   ]
  },
  {
   "cell_type": "code",
   "execution_count": 15,
   "metadata": {},
   "outputs": [
    {
     "data": {
      "text/plain": [
       "datacube.model.Dataset"
      ]
     },
     "execution_count": 15,
     "metadata": {},
     "output_type": "execute_result"
    }
   ],
   "source": [
    "myds = ds[0]\n",
    "\n",
    "type(myds)"
   ]
  },
  {
   "cell_type": "code",
   "execution_count": 24,
   "metadata": {},
   "outputs": [
    {
     "name": "stdout",
     "output_type": "stream",
     "text": [
      "132\n"
     ]
    }
   ],
   "source": [
    "print(len(ds))"
   ]
  },
  {
   "cell_type": "code",
   "execution_count": 16,
   "metadata": {},
   "outputs": [
    {
     "data": {
      "text/plain": [
       "['__class__',\n",
       " '__delattr__',\n",
       " '__dict__',\n",
       " '__dir__',\n",
       " '__doc__',\n",
       " '__eq__',\n",
       " '__format__',\n",
       " '__ge__',\n",
       " '__getattribute__',\n",
       " '__gt__',\n",
       " '__hash__',\n",
       " '__init__',\n",
       " '__init_subclass__',\n",
       " '__le__',\n",
       " '__lt__',\n",
       " '__module__',\n",
       " '__ne__',\n",
       " '__new__',\n",
       " '__reduce__',\n",
       " '__reduce_ex__',\n",
       " '__repr__',\n",
       " '__setattr__',\n",
       " '__sizeof__',\n",
       " '__str__',\n",
       " '__subclasshook__',\n",
       " '__weakref__',\n",
       " 'archived_time',\n",
       " 'bounds',\n",
       " 'center_time',\n",
       " 'crs',\n",
       " 'extent',\n",
       " 'format',\n",
       " 'id',\n",
       " 'indexed_by',\n",
       " 'indexed_time',\n",
       " 'is_active',\n",
       " 'is_archived',\n",
       " 'local_path',\n",
       " 'local_uri',\n",
       " 'managed',\n",
       " 'measurements',\n",
       " 'metadata',\n",
       " 'metadata_doc',\n",
       " 'metadata_type',\n",
       " 'sources',\n",
       " 'time',\n",
       " 'transform',\n",
       " 'type',\n",
       " 'uri_scheme',\n",
       " 'uris']"
      ]
     },
     "execution_count": 16,
     "metadata": {},
     "output_type": "execute_result"
    }
   ],
   "source": [
    "dir(myds)"
   ]
  },
  {
   "cell_type": "code",
   "execution_count": 18,
   "metadata": {},
   "outputs": [
    {
     "name": "stdout",
     "output_type": "stream",
     "text": [
      "epsg:5072\n"
     ]
    }
   ],
   "source": [
    "print(myds.crs)"
   ]
  },
  {
   "cell_type": "code",
   "execution_count": 19,
   "metadata": {},
   "outputs": [
    {
     "name": "stdout",
     "output_type": "stream",
     "text": [
      "s3://lsaa-test-cog/L8/2015/043/034/LC08_T2AL_043034_20151227_20171011_01_A1/LC08_L1TP_043034_20151227_20170224_01_A1.xml\n"
     ]
    }
   ],
   "source": [
    "for uri in myds.uris:\n",
    "    print(uri)"
   ]
  },
  {
   "cell_type": "code",
   "execution_count": 22,
   "metadata": {},
   "outputs": [
    {
     "name": "stdout",
     "output_type": "stream",
     "text": [
      "{'nir': {'path': 's3://lsaa-test-cog/L8/2015/043/034/LC08_T2AL_043034_20151227_20171011_01_A1/LC08_L1TP_043034_20151227_20170224_01_A1_sr_band5.TIF', 'layer': 1}, 'red': {'path': 's3://lsaa-test-cog/L8/2015/043/034/LC08_T2AL_043034_20151227_20171011_01_A1/LC08_L1TP_043034_20151227_20170224_01_A1_sr_band4.TIF', 'layer': 1}, 'blue': {'path': 's3://lsaa-test-cog/L8/2015/043/034/LC08_T2AL_043034_20151227_20171011_01_A1/LC08_L1TP_043034_20151227_20170224_01_A1_sr_band2.TIF', 'layer': 1}, 'green': {'path': 's3://lsaa-test-cog/L8/2015/043/034/LC08_T2AL_043034_20151227_20171011_01_A1/LC08_L1TP_043034_20151227_20170224_01_A1_sr_band3.TIF', 'layer': 1}, 'swir1': {'path': 's3://lsaa-test-cog/L8/2015/043/034/LC08_T2AL_043034_20151227_20171011_01_A1/LC08_L1TP_043034_20151227_20170224_01_A1_sr_band6.TIF', 'layer': 1}, 'swir2': {'path': 's3://lsaa-test-cog/L8/2015/043/034/LC08_T2AL_043034_20151227_20171011_01_A1/LC08_L1TP_043034_20151227_20170224_01_A1_sr_band7.TIF', 'layer': 1}, 'therm': {'path': 's3://lsaa-test-cog/L8/2015/043/034/LC08_T2AL_043034_20151227_20171011_01_A1/LC08_L1TP_043034_20151227_20170224_01_A1_bt_band10.TIF', 'layer': 1}, 'pixel_qa': {'path': 's3://lsaa-test-cog/L8/2015/043/034/LC08_T2AL_043034_20151227_20171011_01_A1/LC08_L1TP_043034_20151227_20170224_01_A1_pixel_qa.TIF', 'layer': 1}, 'sr_band1': {'path': 's3://lsaa-test-cog/L8/2015/043/034/LC08_T2AL_043034_20151227_20171011_01_A1/LC08_L1TP_043034_20151227_20170224_01_A1_sr_band1.TIF', 'layer': 1}}\n"
     ]
    }
   ],
   "source": [
    "print (myds.measurements)\n"
   ]
  },
  {
   "cell_type": "code",
   "execution_count": 23,
   "metadata": {},
   "outputs": [
    {
     "name": "stdout",
     "output_type": "stream",
     "text": [
      "Geometry({'type': 'Polygon', 'coordinates': [[(-2258100.0, 1747500.0), (-2258100.0, 2012700.0), (-1998600.0, 2012700.0), (-1998600.0, 1747500.0), (-2258100.0, 1747500.0)]]}, CRS('epsg:5072'))\n"
     ]
    }
   ],
   "source": [
    "print(myds.extent)"
   ]
  },
  {
   "cell_type": "code",
   "execution_count": null,
   "metadata": {},
   "outputs": [],
   "source": [
    "from noteLib import *\n",
    "%matplotlib inline\n",
    "for t in range(3,15):\n",
    "    cnt=t\n",
    "    figsize=[6,6]\n",
    "    plot_labeled_rgb(ds, t, cnt, figsize=figsize)"
   ]
  }
 ],
 "metadata": {
  "kernelspec": {
   "display_name": "Python 3",
   "language": "python",
   "name": "python3"
  },
  "language_info": {
   "codemirror_mode": {
    "name": "ipython",
    "version": 3
   },
   "file_extension": ".py",
   "mimetype": "text/x-python",
   "name": "python",
   "nbconvert_exporter": "python",
   "pygments_lexer": "ipython3",
   "version": "3.6.7"
  }
 },
 "nbformat": 4,
 "nbformat_minor": 2
}
