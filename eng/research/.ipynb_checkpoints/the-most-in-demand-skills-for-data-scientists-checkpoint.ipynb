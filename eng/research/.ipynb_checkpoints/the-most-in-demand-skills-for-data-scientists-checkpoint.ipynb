{
 "cells": [
  {
   "cell_type": "markdown",
   "metadata": {
    "_uuid": "3cc4560c97d2f56e2309aa6c2fc576bc834eb02d"
   },
   "source": [
    "# The Most in Demand Skills for Data Scientists\n",
    "## What are employers looking for?\n",
    "## By Jeff Hale\n",
    "\n",
    "I'm going to explore which skills and software for Data Scientists are in demand in the US in October 2018 by looking at online job listing sites. I'll be using plotly and pandas to make interactive visualizations for this project.\n",
    "\n",
    "### See [this Medium article](https://towardsdatascience.com/the-most-in-demand-skills-for-data-scientists-4a4a8db896db) for discussion.\n",
    "\n",
    "\n",
    "This notebook includes additional analyses not in the Medium article and presents the findings in a slightly different order."
   ]
  },
  {
   "cell_type": "markdown",
   "metadata": {
    "_uuid": "f8ccb48393bd4151b192d6759775ae6636fc1be1"
   },
   "source": [
    "# Please upvote this Kaggle kernel if you find it helpful."
   ]
  },
  {
   "cell_type": "code",
   "execution_count": 1,
   "metadata": {
    "_uuid": "63cce2f9932a50b80dc1f7a5775a3cf30602767a"
   },
   "outputs": [
    {
     "ename": "ImportError",
     "evalue": "No module named 'seaborn'",
     "output_type": "error",
     "traceback": [
      "\u001b[0;31m---------------------------------------------------------------------------\u001b[0m",
      "\u001b[0;31mImportError\u001b[0m                               Traceback (most recent call last)",
      "\u001b[0;32m<ipython-input-1-0a0fa174f090>\u001b[0m in \u001b[0;36m<module>\u001b[0;34m()\u001b[0m\n\u001b[1;32m      3\u001b[0m \u001b[0;32mimport\u001b[0m \u001b[0mnumpy\u001b[0m \u001b[0;32mas\u001b[0m \u001b[0mnp\u001b[0m\u001b[0;34m\u001b[0m\u001b[0m\n\u001b[1;32m      4\u001b[0m \u001b[0;32mimport\u001b[0m \u001b[0mmatplotlib\u001b[0m\u001b[0;34m.\u001b[0m\u001b[0mpyplot\u001b[0m \u001b[0;32mas\u001b[0m \u001b[0mplt\u001b[0m\u001b[0;34m\u001b[0m\u001b[0m\n\u001b[0;32m----> 5\u001b[0;31m \u001b[0;32mimport\u001b[0m \u001b[0mseaborn\u001b[0m \u001b[0;32mas\u001b[0m \u001b[0msns\u001b[0m\u001b[0;34m\u001b[0m\u001b[0m\n\u001b[0m\u001b[1;32m      6\u001b[0m \u001b[0;32mimport\u001b[0m \u001b[0mcollections\u001b[0m\u001b[0;34m\u001b[0m\u001b[0m\n\u001b[1;32m      7\u001b[0m \u001b[0;32mimport\u001b[0m \u001b[0mwarnings\u001b[0m\u001b[0;34m\u001b[0m\u001b[0m\n",
      "\u001b[0;31mImportError\u001b[0m: No module named 'seaborn'"
     ]
    }
   ],
   "source": [
    "# import the usual frameworks\n",
    "import pandas as pd\n",
    "import numpy as np\n",
    "import matplotlib.pyplot as plt\n",
    "import seaborn as sns\n",
    "import collections\n",
    "import warnings\n",
    "\n",
    "from IPython.core.display import display, HTML\n",
    "from sklearn.preprocessing import MinMaxScaler\n",
    "    \n",
    "# import plotly \n",
    "import plotly\n",
    "import plotly.figure_factory as ff\n",
    "import plotly.graph_objs as go\n",
    "import plotly.offline as py\n",
    "import plotly.tools as tls\n",
    "\n",
    "# for color scales in plotly\n",
    "import colorlover as cl \n",
    "\n",
    "# configure things\n",
    "warnings.filterwarnings('ignore')\n",
    "\n",
    "pd.options.display.float_format = '{:,.2f}'.format  \n",
    "pd.options.display.max_columns = 999\n",
    "\n",
    "py.init_notebook_mode(connected=True)\n",
    "\n",
    "%load_ext autoreload\n",
    "%autoreload 2\n",
    "%matplotlib inline"
   ]
  },
  {
   "cell_type": "markdown",
   "metadata": {
    "_uuid": "61968c9262527481986afc842ea78cd50a1d3b92"
   },
   "source": [
    "List package versions for reproducibility."
   ]
  },
  {
   "cell_type": "code",
   "execution_count": null,
   "metadata": {
    "_uuid": "cbc451d8817fa38fc0d3a79ea409e7d66b2d07b2"
   },
   "outputs": [],
   "source": [
    "#!pip list\n",
    "# !pwd\n",
    "# !ls"
   ]
  },
  {
   "cell_type": "markdown",
   "metadata": {
    "_uuid": "a51d1e2caf8428c5bb2114fa25af699be182d4d1"
   },
   "source": [
    "# Part 1: Data Science Software"
   ]
  },
  {
   "cell_type": "markdown",
   "metadata": {
    "_uuid": "5b673c2193aa65245cc37f8982a85180df4efef1"
   },
   "source": [
    "Read in the data from the csv. The Google sheet that holds the data is available [here](https://docs.google.com/spreadsheets/d/1lac1H2IgCDCs9LLTQL6yb6MUPN1u4C5fJv_6YjipIaM/edit?usp=sharing)."
   ]
  },
  {
   "cell_type": "code",
   "execution_count": null,
   "metadata": {
    "_uuid": "67884aef7dfed88cbe70307aed22813b0029f3fa"
   },
   "outputs": [],
   "source": [
    "df = pd.read_csv(\n",
    "    '../input/ds-job-listing-technology/ds_job_listing_software.csv',\n",
    "    usecols=['Keyword','LinkedIn', 'Indeed', 'SimplyHired', 'Monster'],\n",
    "    skiprows=0,\n",
    "    nrows=37, \n",
    "    thousands=',',\n",
    "    index_col=0,\n",
    "   \n",
    ")\n",
    "df"
   ]
  },
  {
   "cell_type": "markdown",
   "metadata": {
    "_uuid": "2efed23760fc48120850205f09170ea06425e8ab"
   },
   "source": [
    "Cool. We used the read_csv parameters to give us just what we wanted."
   ]
  },
  {
   "cell_type": "markdown",
   "metadata": {
    "_uuid": "6a35c07272b9af75048aea3f0a95bf8bc1a49fcc"
   },
   "source": [
    "## Basic Data Exploration\n",
    "Let's see what the data look like."
   ]
  },
  {
   "cell_type": "code",
   "execution_count": null,
   "metadata": {
    "_uuid": "6f695d4e451c4b72f84221cd417e90d5b36423c3"
   },
   "outputs": [],
   "source": [
    "df.info()"
   ]
  },
  {
   "cell_type": "code",
   "execution_count": null,
   "metadata": {
    "_uuid": "188e43ec51292691ccd9c270fc710c183155aa83"
   },
   "outputs": [],
   "source": [
    "df.describe()"
   ]
  },
  {
   "cell_type": "markdown",
   "metadata": {
    "_uuid": "dd216c2c67ba8314486aa5562fbb846e9486f6d6"
   },
   "source": [
    "# Scale and Aggregate \n",
    "Scale each column. For each column we'll use MinMaxScaler to subtract the minumum and divide by the original max - original min."
   ]
  },
  {
   "cell_type": "code",
   "execution_count": null,
   "metadata": {
    "_uuid": "f944fc186de0a8c87a4c8b25820b67015a74f07d"
   },
   "outputs": [],
   "source": [
    "scale = MinMaxScaler()\n",
    "scaled_df = pd.DataFrame(\n",
    "    scale.fit_transform(df), \n",
    "    columns = df.columns,\n",
    "    index = df.index)    "
   ]
  },
  {
   "cell_type": "code",
   "execution_count": null,
   "metadata": {
    "_uuid": "32087e32a256978e32480d8dd3472eeba8d93020"
   },
   "outputs": [],
   "source": [
    "scaled_df.head()"
   ]
  },
  {
   "cell_type": "markdown",
   "metadata": {
    "_uuid": "8bd561749462d763ff108126921bbb545938210f"
   },
   "source": [
    "### Scaled Online Job Listings"
   ]
  },
  {
   "cell_type": "markdown",
   "metadata": {
    "_uuid": "fafe1b35d8e942ff10003ca89116a118df9aaa63"
   },
   "source": [
    "Let's make a combined score for the large sites by taking the mean of the LinkedIn, Indeed, Monster, and SimplyHired scores."
   ]
  },
  {
   "cell_type": "code",
   "execution_count": null,
   "metadata": {
    "_uuid": "e41bf73e70f224b631d6fef29a6d8c6530d92029"
   },
   "outputs": [],
   "source": [
    "scaled_df['combined'] = scaled_df[[\"LinkedIn\", \"Indeed\", \"SimplyHired\", \"Monster\"]].mean(axis = 1)\n",
    "scaled_df.head()"
   ]
  },
  {
   "cell_type": "markdown",
   "metadata": {
    "_uuid": "372a8d1b52a467085646d0ab8f30f9b38be7c400"
   },
   "source": [
    "# Charts with Plotly\n",
    "Let's make interactive charts with plotly. "
   ]
  },
  {
   "cell_type": "markdown",
   "metadata": {
    "_uuid": "c66e3583207d91b3632eaccdfbf152b83f0add03"
   },
   "source": [
    "## Let's look at the top 10 by site\n",
    "Based on the top 10 on LinkedIn, the largest site."
   ]
  },
  {
   "cell_type": "code",
   "execution_count": null,
   "metadata": {
    "_uuid": "fa17ad56fb616660eb49ea597e2e3e6c6a68b21c"
   },
   "outputs": [],
   "source": [
    "num_sites = 8\n",
    "\n",
    "y_linkedin = scaled_df.iloc[:num_sites, 0]\n",
    "y_indeed = scaled_df.iloc[:num_sites, 1]\n",
    "y_monster = scaled_df.iloc[:num_sites, 2]\n",
    "y_simply = scaled_df.iloc[:num_sites, 3]\n",
    "\n",
    "y_linkedin"
   ]
  },
  {
   "cell_type": "code",
   "execution_count": null,
   "metadata": {
    "_uuid": "93ad1bee74529e9a881b5df207cd5636b573b51d"
   },
   "outputs": [],
   "source": [
    "indeed = go.Bar(x=scaled_df.index, y=y_indeed, name = \"Indeed\")\n",
    "simply = go.Bar(x=scaled_df.index, y=y_simply, name=\"SimplyHired\")\n",
    "monster = go.Bar(x=scaled_df.index, y=y_monster, name=\"Monster\")\n",
    "linked = go.Bar(x=scaled_df.index, y=y_linkedin, name=\"LinkedIn\")\n",
    "\n",
    "data = [linked, indeed, simply, monster]\n",
    "\n",
    "layout = go.Layout(\n",
    "    barmode='group',\n",
    "    title=\"Top Software in Job Listings for Data Scientists\",\n",
    "    xaxis={'title': 'Software'},\n",
    "    yaxis={'title': \"Scaled Listings\", 'separatethousands': True,\n",
    "    }\n",
    ")\n",
    "\n",
    "fig = go.Figure(data=data, layout=layout)\n",
    "py.iplot(fig)"
   ]
  },
  {
   "cell_type": "markdown",
   "metadata": {
    "_uuid": "fef5e195064713dda6c91d417c92aef1f00c80e0"
   },
   "source": [
    "Let's clean things up for publication"
   ]
  },
  {
   "cell_type": "code",
   "execution_count": null,
   "metadata": {
    "_uuid": "80b5fc2b470b95ade030b09016c07d72eb3a5b59"
   },
   "outputs": [],
   "source": [
    "p_s_df = scaled_df * 100\n",
    "p_s_df = p_s_df.round(2)\n",
    "p_s_df.columns = ['LinkedIn', 'Indeed', 'SimplyHired', 'Monster', 'Score']\n",
    "p_s_df = p_s_df.sort_values(by=['Score'], ascending = False)\n",
    "p_s_df.head()"
   ]
  },
  {
   "cell_type": "markdown",
   "metadata": {
    "_uuid": "57169cbec7924db5176478a7b34056a3a926d4f8"
   },
   "source": [
    "Let's rename Microsoft Office. Otherwise it gets cut off."
   ]
  },
  {
   "cell_type": "code",
   "execution_count": null,
   "metadata": {
    "_uuid": "3151b8b5358fcfcf2b0d89b3239cf5e3c6bd9877"
   },
   "outputs": [],
   "source": [
    "p_s_df.rename(index = {'Microsoft Office': 'MS Office'}, inplace = True)\n",
    "p_s_df"
   ]
  },
  {
   "cell_type": "markdown",
   "metadata": {
    "_uuid": "07672e4e0256898f58fcbdc9b6b1978aea93fba9"
   },
   "source": [
    "## Let's look at the top 20 scores"
   ]
  },
  {
   "cell_type": "code",
   "execution_count": null,
   "metadata": {
    "_uuid": "69239eba4a40cbf40d380c7bfd06026417ce635d"
   },
   "outputs": [],
   "source": [
    "p_s_df_20 = p_s_df.iloc[:20,:]\n",
    "p_s_df_20"
   ]
  },
  {
   "cell_type": "markdown",
   "metadata": {
    "_uuid": "30556737b79e9589651ccd456d3e0f16ece650f8"
   },
   "source": [
    "## Let's make a bar chart of the top 20 combined scores"
   ]
  },
  {
   "cell_type": "code",
   "execution_count": null,
   "metadata": {
    "_uuid": "9d576434ed8784736ccac0f71a89a7bf01b47431"
   },
   "outputs": [],
   "source": [
    "cmax=200\n",
    "cmin=50\n",
    "color_s = np.linspace(cmin, cmax, 20)\n",
    "\n",
    "data = [\n",
    "    go.Bar(\n",
    "        x=p_s_df_20.index,          \n",
    "        y=p_s_df_20['Score'],\n",
    "        marker=dict(\n",
    "            colorscale='Jet',\n",
    "            color=color_s,\n",
    "        ),\n",
    "    )\n",
    "]\n",
    "\n",
    "layout = {\n",
    "    'title': 'Top 20 Technology Skills in Data Scientist Job Listings',\n",
    "    #'xaxis': {'title': 'Technology'},\n",
    "    'yaxis': {'title': \"Score\"}\n",
    "}\n",
    "\n",
    "fig = go.Figure(data=data, layout=layout)\n",
    "py.iplot(fig)"
   ]
  },
  {
   "cell_type": "markdown",
   "metadata": {
    "_uuid": "c1e407a4480f89e066b7431758e92f3c9267cfb8"
   },
   "source": [
    "## Let's make a bar chart of all the combined scores"
   ]
  },
  {
   "cell_type": "code",
   "execution_count": null,
   "metadata": {
    "_uuid": "6d5178a41350e25cb8e436c467fa7ed7f9459a50"
   },
   "outputs": [],
   "source": [
    "cmax=200\n",
    "cmin=50\n",
    "color_s = np.linspace(cmin, cmax, 44)\n",
    "\n",
    "data = [\n",
    "    go.Bar(\n",
    "        x=p_s_df.index,          \n",
    "        y=p_s_df['Score'],\n",
    "        marker=dict(\n",
    "            colorscale='Jet',\n",
    "            #cauto=True,\n",
    "            color=color_s,\n",
    "        ),\n",
    "        # text=p_s_df['Score'],\n",
    "        # textposition='outside',\n",
    "        # textfont=dict(size=10)\n",
    "    )\n",
    "]\n",
    "\n",
    "layout = {\n",
    "    'title': 'Technology Skills in Data Scientist Job Listings',\n",
    "    #'xaxis': {'tickmode': 'linear'},\n",
    "    'yaxis': {'title': \"Score\"}\n",
    "}\n",
    "\n",
    "fig = go.Figure(data=data, layout=layout)\n",
    "py.iplot(fig)"
   ]
  },
  {
   "cell_type": "markdown",
   "metadata": {
    "_uuid": "ce3f275fc41e0bff659d58b4fb57f4f6336de284"
   },
   "source": [
    "## % of job listings with software skills\n"
   ]
  },
  {
   "cell_type": "markdown",
   "metadata": {
    "_uuid": "5315e524a0b30fb5df46c5a13646d0ae4c533d9c"
   },
   "source": [
    "Total \"data scientist\" listings."
   ]
  },
  {
   "cell_type": "code",
   "execution_count": null,
   "metadata": {
    "_uuid": "b50693e6adf15b645fb674c955e15f2bfe7fc563"
   },
   "outputs": [],
   "source": [
    "total_ds = {\n",
    "    'LinkedIn': 8610,\n",
    "    'Indeed': 5138,\n",
    "    'SimplyHired': 3829,\n",
    "    'Monster': 3746,\n",
    "}"
   ]
  },
  {
   "cell_type": "code",
   "execution_count": null,
   "metadata": {
    "_uuid": "64203a8d1b4b103fa730e3a23e48545cb161b3a2"
   },
   "outputs": [],
   "source": [
    "for key, value in total_ds.items():\n",
    "    df[key + \" %\"] = df[key] / value * 100\n",
    "df"
   ]
  },
  {
   "cell_type": "markdown",
   "metadata": {
    "_uuid": "8e503f1c044a04227ca282e2c3a24f95766790b6"
   },
   "source": [
    "Let's make an average of those % columns."
   ]
  },
  {
   "cell_type": "code",
   "execution_count": null,
   "metadata": {
    "_uuid": "c1c748c48d1e5f94eb918f591236acdd6f075d09"
   },
   "outputs": [],
   "source": [
    "df['avg_percent'] = df.iloc[:,-4:].mean(axis=1)\n",
    "df"
   ]
  },
  {
   "cell_type": "code",
   "execution_count": null,
   "metadata": {
    "_uuid": "2596c37b700a3ce0bc7538a4f88780526a0a46f2"
   },
   "outputs": [],
   "source": [
    "df = df.sort_values(by=\"avg_percent\", ascending = False)\n",
    "df"
   ]
  },
  {
   "cell_type": "markdown",
   "metadata": {
    "_uuid": "94a22b1bbc8333b52a1d5a9352c85d2544ffa2db"
   },
   "source": [
    "## Let's chart the full list and then the top 20."
   ]
  },
  {
   "cell_type": "code",
   "execution_count": null,
   "metadata": {
    "_uuid": "a0f1e2c32d35abb459dc329e4ccfa06f55dff0b4"
   },
   "outputs": [],
   "source": [
    "cmax=200\n",
    "cmin=50\n",
    "color_s = np.linspace(cmin, cmax, 44)\n",
    "\n",
    "data = [\n",
    "    go.Bar(\n",
    "        x=df.index,          \n",
    "        y=df['avg_percent'],\n",
    "        marker=dict(\n",
    "            colorscale='Jet',\n",
    "            color=color_s,\n",
    "        ),\n",
    "    )\n",
    "]\n",
    "\n",
    "layout = dict(\n",
    "    title=\"Technology Skills in Data Scientist Job Listings\",\n",
    "    yaxis=dict(title=\"% of Listings\",)\n",
    ")\n",
    "\n",
    "fig = go.Figure(data=data, layout=layout)\n",
    "py.iplot(fig)"
   ]
  },
  {
   "cell_type": "code",
   "execution_count": null,
   "metadata": {
    "_uuid": "43bf999f1738adf9b48bc6dda76c04f05416d8fd"
   },
   "outputs": [],
   "source": [
    "cmax=200\n",
    "cmin=50\n",
    "color_s = np.linspace(cmin, cmax, 20)\n",
    "\n",
    "data = [\n",
    "    go.Bar(\n",
    "        x=df.index,          \n",
    "        y=df.iloc[:20, -1],\n",
    "        marker=dict(\n",
    "            colorscale='Jet',\n",
    "            color=color_s,\n",
    "        ),\n",
    "    )\n",
    "]\n",
    "\n",
    "layout = dict(\n",
    "    title=\"Top 20 Technology Skills in Data Scientist Job Listings\",\n",
    "    yaxis=dict(title=\"% of Listings\",)\n",
    ")\n",
    "\n",
    "fig = go.Figure(data=data, layout=layout)\n",
    "py.iplot(fig)"
   ]
  },
  {
   "cell_type": "markdown",
   "metadata": {
    "_uuid": "df79bea92687b463588bd76422108986c517aae2"
   },
   "source": [
    "## Glassdoor comparision"
   ]
  },
  {
   "cell_type": "markdown",
   "metadata": {
    "_uuid": "68bf4a851d14aa7d65f6f4db9b6ef9324db756c5"
   },
   "source": [
    "Glassdoor has some similar analysis from early 2017 [here](https://www.glassdoor.com/research/data-scientist-personas/). See [my larger Medium article](https://towardsdatascience.com/the-most-in-demand-skills-for-data-scientists-4a4a8db896db) for discussion."
   ]
  },
  {
   "cell_type": "code",
   "execution_count": null,
   "metadata": {
    "_uuid": "af9fdc1a9cce78f6137e292413b44902c4b3f5f4"
   },
   "outputs": [],
   "source": [
    "# percentage of data scientist jobs on glassdoor early 2017\n",
    "glassdoor = {\n",
    "    'Python': 72,\n",
    "    'R': 64,\n",
    "    'SQL': 51,\n",
    "    'Spark': 27,\n",
    "    'Hadoop': 39,\n",
    "    'Java': 33,\n",
    "    'SAS': 30,\n",
    "    'Tableau': 14,\n",
    "    'Hive': 17,\n",
    "    'Matlab': 20\n",
    "}"
   ]
  },
  {
   "cell_type": "code",
   "execution_count": null,
   "metadata": {
    "_uuid": "2be9df27f55d867eb2b5669d7f6b98ceee93a2b2"
   },
   "outputs": [],
   "source": [
    "# make a data frame of just these\n",
    "# could just merge the series and df \n",
    "\n",
    "series_gd = pd.Series(glassdoor)\n",
    "series_gd"
   ]
  },
  {
   "cell_type": "code",
   "execution_count": null,
   "metadata": {
    "_uuid": "2e01946a50d7fc759805a15856f4c6881cf0c527"
   },
   "outputs": [],
   "source": [
    "df_gd = pd.merge(\n",
    "    df, \n",
    "    pd.DataFrame(\n",
    "        series_gd, \n",
    "        columns=['gd_percent']), \n",
    "    right_index=True, \n",
    "    left_index=True, \n",
    "    how=\"inner\"\n",
    ")\n",
    "\n",
    "# df_gd = df_gd[\"\"]\n",
    "# df_gd.columns = \n",
    "df_gd"
   ]
  },
  {
   "cell_type": "code",
   "execution_count": null,
   "metadata": {
    "_uuid": "84e56502eaaea4dd6d62cba8df0320475156ca37"
   },
   "outputs": [],
   "source": [
    "avg = go.Bar(x=df_gd.index, y=df_gd['avg_percent'], name=\"Oct. 2018 Averaged\")\n",
    "gd = go.Bar(x=df_gd.index, y=df_gd['gd_percent'], name=\"Early 2017 Glassdoor\")\n",
    "\n",
    "\n",
    "data = [gd, avg]\n",
    "\n",
    "layout = go.Layout(\n",
    "    barmode='group',\n",
    "    title=\"Technology Skills 2017 Glassdoor Compared to 2018 Average\",\n",
    "    xaxis={'title': 'Technology'},\n",
    "    yaxis={'title': '% of Listings'},\n",
    ")\n",
    "\n",
    "fig = go.Figure(data=data, layout=layout)\n",
    "py.iplot(fig)"
   ]
  },
  {
   "cell_type": "markdown",
   "metadata": {
    "_uuid": "8169e7877e6e3a83faf2cbd595230b17359032bf"
   },
   "source": [
    "# Part 2: General Data Science Skills\n",
    "Let's look at general data science skills next."
   ]
  },
  {
   "cell_type": "code",
   "execution_count": null,
   "metadata": {
    "_uuid": "dd8463c434c0b1e0afd18bf598e946240a4e94fc"
   },
   "outputs": [],
   "source": [
    "df_skills = pd.read_csv(\n",
    "    '../input/data-scientist-general-skills-2018-revised/ds_general_skills_revised.csv',\n",
    "    nrows=15,\n",
    "    thousands=',',\n",
    "    index_col=0,  \n",
    "    )\n",
    "df_skills\n",
    "\n",
    "# this dataset was updated with \"data engineering included 10/15/18\""
   ]
  },
  {
   "cell_type": "markdown",
   "metadata": {
    "_uuid": "d705ff6adc28855f7c972bbc5922212ff04f26d5"
   },
   "source": [
    "All terms were searched with *\"data scientist\"* again. The skills are tricky because there is some overlap. \n",
    "\n",
    "I combined *AI* and *artificial intelligence* because one is the abbreviation of the other. I did the same for *NLP* and *natural language processing*. I combined these terms be adding the totals together and subtracting the number of listings that had both terms in them."
   ]
  },
  {
   "cell_type": "markdown",
   "metadata": {
    "_uuid": "baec9fffc03637dc02096e02d46e110c8a87eacd"
   },
   "source": [
    "Let's rename the composite indices."
   ]
  },
  {
   "cell_type": "code",
   "execution_count": null,
   "metadata": {
    "_uuid": "408999de644771e2db79c12d7dc3e1ae1ede4d05"
   },
   "outputs": [],
   "source": [
    "df_skills.rename(index={'AI composite': 'AI', 'NLP composite': 'NLP'}, inplace = True)\n",
    "df_skills"
   ]
  },
  {
   "cell_type": "markdown",
   "metadata": {
    "_uuid": "d715c99bba5ff486d95189c65b057bec6c547ccf"
   },
   "source": [
    "# Scale and Aggregate \n",
    "Scale each column. For each column we'll use MinMaxScaler to subtract the minumum and divide by the original max - original min."
   ]
  },
  {
   "cell_type": "code",
   "execution_count": null,
   "metadata": {
    "_uuid": "7e5c933dcce2ec8202207414106017fe17c09962"
   },
   "outputs": [],
   "source": [
    "scale = MinMaxScaler()\n",
    "scaled_df = pd.DataFrame(\n",
    "    scale.fit_transform(df_skills), \n",
    "    columns = df_skills.columns,\n",
    "    index = df_skills.index)    "
   ]
  },
  {
   "cell_type": "code",
   "execution_count": null,
   "metadata": {
    "_uuid": "b7f6af5c50418d1ff292189aea8c8c2826c300e8"
   },
   "outputs": [],
   "source": [
    "scaled_df"
   ]
  },
  {
   "cell_type": "markdown",
   "metadata": {
    "_uuid": "fe1b9e3a8e1505b4c7ef01a20db43259c8a80b73"
   },
   "source": [
    "### Scaled Online Job Listings"
   ]
  },
  {
   "cell_type": "markdown",
   "metadata": {
    "_uuid": "8ede3b7668e4fd5bb86e3942793ad1c641a2705d"
   },
   "source": [
    "Let's make a combined score for the large sites by taking the mean of the LinkedIn, Indeed, and SimplyHired scores."
   ]
  },
  {
   "cell_type": "code",
   "execution_count": null,
   "metadata": {
    "_uuid": "baa1aea58b86a16029686d22706e73dc15339ffa"
   },
   "outputs": [],
   "source": [
    "scaled_df['big_sites'] = scaled_df[[\"LinkedIn\", \"Indeed\", \"SimplyHired\", \"Monster\"]].mean(axis = 1)\n",
    "scaled_df.sort_values(by = 'big_sites', ascending = False)"
   ]
  },
  {
   "cell_type": "markdown",
   "metadata": {
    "_uuid": "8540a79f02e1d1d438d2c9657ed1bbe2150cad2d"
   },
   "source": [
    "## Let's look at them by site\n"
   ]
  },
  {
   "cell_type": "code",
   "execution_count": null,
   "metadata": {
    "_uuid": "fb1690ccdd183f0266b00b2a82009a596720c819"
   },
   "outputs": [],
   "source": [
    "y_linkedin = scaled_df.iloc[:, 0]\n",
    "y_indeed = scaled_df.iloc[:, 1]\n",
    "y_simply = scaled_df.iloc[:, 2]\n",
    "y_monster = scaled_df.iloc[:, 3]\n",
    "\n",
    "y_linkedin"
   ]
  },
  {
   "cell_type": "code",
   "execution_count": null,
   "metadata": {
    "_uuid": "ee746062c4c5a569df351c28fb6359a3fb4b81ff"
   },
   "outputs": [],
   "source": [
    "indeed = go.Bar(x=scaled_df.index, y=y_indeed, name = \"Indeed\")\n",
    "simply = go.Bar(x=scaled_df.index, y=y_simply, name=\"SimplyHired\")\n",
    "linked = go.Bar(x=scaled_df.index, y=y_linkedin, name=\"LinkedIn\")\n",
    "monster = go.Bar(x=scaled_df.index, y=y_monster, name=\"Monster\")\n",
    "\n",
    "data = [linked, indeed, simply, monster]\n",
    "\n",
    "layout = go.Layout(\n",
    "    barmode='group',\n",
    "    title=\"Data Science Skills in Online Job Listings\",\n",
    "    xaxis={'title': 'Skills'},\n",
    "    yaxis={'title': \"Scaled Listings\", 'separatethousands': True,\n",
    "    }\n",
    ")\n",
    "\n",
    "fig = go.Figure(data=data, layout=layout)\n",
    "py.iplot(fig)"
   ]
  },
  {
   "cell_type": "markdown",
   "metadata": {
    "_uuid": "c9362466683bae61642b931d7f0f5e9e3970fa5c"
   },
   "source": [
    "Let's clean things up for publication"
   ]
  },
  {
   "cell_type": "code",
   "execution_count": null,
   "metadata": {
    "_uuid": "8ab7f2892c5d52ec3da183bcc023c5675e7dfc42"
   },
   "outputs": [],
   "source": [
    "p_s_df = scaled_df * 100\n",
    "p_s_df = p_s_df.round(2)\n",
    "p_s_df.columns = ['LinkedIn', 'Indeed', 'SimplyHired', 'Monster', 'Score']\n",
    "p_s_df = p_s_df.sort_values(by=['Score'], ascending = False)\n",
    "p_s_df"
   ]
  },
  {
   "cell_type": "markdown",
   "metadata": {
    "_uuid": "985e3cd49db389b3991a412c6f446728fcc71090"
   },
   "source": [
    "## Let's make a bar chart of the combined scores"
   ]
  },
  {
   "cell_type": "code",
   "execution_count": null,
   "metadata": {
    "_uuid": "ed464a41471fc84017b3c8eb061b97d11e89adce"
   },
   "outputs": [],
   "source": [
    "cmax=200\n",
    "cmin=50\n",
    "color_s = np.linspace(cmin, cmax, 14)\n",
    "\n",
    "data = [\n",
    "    go.Bar(\n",
    "        x=p_s_df.index,          \n",
    "        y=p_s_df['Score'],\n",
    "        marker=dict(\n",
    "            colorscale='Jet',\n",
    "            #cauto=True,\n",
    "            color=color_s,\n",
    "        ),\n",
    "        # text=p_s_df['Score'],\n",
    "        # textposition='outside',\n",
    "        # textfont=dict(size=10)\n",
    "    )\n",
    "]\n",
    "\n",
    "layout = {\n",
    "    'title': 'General Skills in Data Scientist Job Listings',\n",
    "    'xaxis': {'tickmode': 'linear'},\n",
    "    'yaxis': {'title': \"Score\"}\n",
    "}\n",
    "\n",
    "fig = go.Figure(data=data, layout=layout)\n",
    "py.iplot(fig)"
   ]
  },
  {
   "cell_type": "markdown",
   "metadata": {
    "_uuid": "0cf2baad7d742b0a8ff93cd9f66bd50a11b60ff4"
   },
   "source": [
    "## Let's look at these general skills by % of occurrence, too."
   ]
  },
  {
   "cell_type": "code",
   "execution_count": null,
   "metadata": {
    "_uuid": "74e9932a33f42a2c78bdb4b7c0e24ae6c52d6f8d"
   },
   "outputs": [],
   "source": [
    "total_ds = {\n",
    "    'LinkedIn': 8610,\n",
    "    'Indeed': 5138,\n",
    "    'SimplyHired': 3829,\n",
    "    'Monster': 3746,\n",
    "}"
   ]
  },
  {
   "cell_type": "code",
   "execution_count": null,
   "metadata": {
    "_uuid": "36608d9e7d1592d09c04002a67c2ad13dc06c3ba"
   },
   "outputs": [],
   "source": [
    "for key, value in total_ds.items():\n",
    "    df_skills[key + \" %\"] = df_skills[key] / value * 100\n",
    "df_skills"
   ]
  },
  {
   "cell_type": "markdown",
   "metadata": {
    "_uuid": "3a455f8f45ce36943f94961973d1952f83d46a81"
   },
   "source": [
    "Let's make an average of those % columns."
   ]
  },
  {
   "cell_type": "code",
   "execution_count": null,
   "metadata": {
    "_uuid": "1248d1b372ab4656afabc55efd5411a54e2281b8"
   },
   "outputs": [],
   "source": [
    "df_skills['avg_percent'] = df_skills.iloc[:,-4:].mean(axis=1)\n",
    "df_skills"
   ]
  },
  {
   "cell_type": "code",
   "execution_count": null,
   "metadata": {
    "_uuid": "9f170997b9b79d46e50d3d7b563e7c7fc2fd0340"
   },
   "outputs": [],
   "source": [
    "df_skills = df_skills.sort_values(by=\"avg_percent\", ascending = False)\n",
    "df_skills"
   ]
  },
  {
   "cell_type": "markdown",
   "metadata": {
    "_uuid": "fd2fa28eb8b091210db950fa9a611cb2493b531e"
   },
   "source": [
    "## Let's chart the full list."
   ]
  },
  {
   "cell_type": "code",
   "execution_count": null,
   "metadata": {
    "_uuid": "33322b498eec4adf7eb8a9cf1446d8c6e523d52b"
   },
   "outputs": [],
   "source": [
    "cmax=200\n",
    "cmin=50\n",
    "color_s = np.linspace(cmin, cmax, 16)\n",
    "\n",
    "data = [\n",
    "    go.Bar(\n",
    "        x=df_skills.index,          \n",
    "        y=df_skills['avg_percent'],\n",
    "        marker=dict(\n",
    "            colorscale='Jet',\n",
    "            color=color_s,\n",
    "        ),\n",
    "    )\n",
    "]\n",
    "\n",
    "layout = dict(\n",
    "    title=\"General Skills in Data Scientist Job Listings\",\n",
    "    yaxis=dict(title=\"Average % of Listings\",)\n",
    ")\n",
    "\n",
    "fig = go.Figure(data=data, layout=layout)\n",
    "py.iplot(fig)"
   ]
  },
  {
   "cell_type": "markdown",
   "metadata": {
    "_uuid": "2c45fe36ffce483eb36a83dbe9810771b7576c61"
   },
   "source": [
    "# A few summary stats"
   ]
  },
  {
   "cell_type": "code",
   "execution_count": null,
   "metadata": {
    "_uuid": "834cd01a11c15d75f6ec5504f68ae50eb3ef8906"
   },
   "outputs": [],
   "source": [
    "ds_results = pd.Series({\n",
    "    'LinkedIn': 8610,\n",
    "    'Indeed': 5138, \n",
    "    'SimplyHired': 3829,\n",
    "    'Monster': 3746,\n",
    "    'AngelList': 658\n",
    "})\n",
    "ds_results"
   ]
  },
  {
   "cell_type": "code",
   "execution_count": null,
   "metadata": {
    "_uuid": "033b85b1b3f65abcfbd905a6e93aa9ae706125d3"
   },
   "outputs": [],
   "source": [
    "cmax=200\n",
    "cmin=50\n",
    "color_s = np.linspace(cmin, cmax, 5)\n",
    "\n",
    "data = [\n",
    "    go.Bar(\n",
    "        x=ds_results.index,          \n",
    "        y=ds_results.values,\n",
    "        marker=dict(\n",
    "            colorscale='Jet',\n",
    "            #cauto=True,\n",
    "            color=color_s,\n",
    "        ),\n",
    "        # text=p_s_df['Score'],\n",
    "        # textposition='outside',\n",
    "        # textfont=dict(size=10)\n",
    "    )\n",
    "]\n",
    "\n",
    "layout = {\n",
    "    'title': \"Data Scientist Job Listings\",\n",
    "    'xaxis': {'title': 'Website'},\n",
    "    'yaxis': {'title': 'Listings', 'separatethousands': True,}\n",
    "}\n",
    "\n",
    "fig = go.Figure(data=data, layout=layout)\n",
    "py.iplot(fig)\n",
    "\n"
   ]
  },
  {
   "cell_type": "markdown",
   "metadata": {
    "_uuid": "f8a4918892b7e26bc6abd91a0009fb640f75f65b"
   },
   "source": [
    "# Pleave upvote if you found this interesting or informative!"
   ]
  },
  {
   "cell_type": "markdown",
   "metadata": {
    "_uuid": "b03a4fcfc5f295f307ac757d8901530de0a81d5d"
   },
   "source": [
    "## Postscript: Configuring Plotly\n",
    "\n",
    "Plotly is super cool, but setup can be a bit tricky and there is a lot of old documentation mixed in with relevant documentation. Here's how to get up and running.\n",
    "\n",
    "Follow the instructions on [plotly's site](https://github.com/plotly/plotly.py).\n",
    "\n",
    "To install on Mac/Linux from the command line with support for plotly's magic, depending on what you already have installed see the plotly docs. Here's what I had to run with a relatively new conda install:\n",
    "\n",
    "conda install -c plotly plotly=3.3.0 <br>\n",
    "conda install -c conda-forge nodejs <br>\n",
    "conda install jupyterlab=0.34 \"ipywidgets>=7.2\" <br>\n",
    "export NODE_OPTIONS=--max-old-space-size=4096 <br>\n",
    "jupyter labextension install @jupyter-widgets/jupyterlab-manager@0.37 --no-build <br>\n",
    "jupyter labextension install plotlywidget@0.4.0 --no-build <br>\n",
    "jupyter labextension install @jupyterlab/plotly-extension@0.17.2 --no-build <br>\n",
    "jupyter lab build <br>\n",
    "unset NODE_OPTIONS <br>"
   ]
  },
  {
   "cell_type": "code",
   "execution_count": null,
   "metadata": {
    "_uuid": "803c68a206e88be928468c656111c3b118774100"
   },
   "outputs": [],
   "source": []
  },
  {
   "cell_type": "code",
   "execution_count": null,
   "metadata": {
    "_uuid": "e2af28c49248ea16479605c0b231a7197b7cd00b"
   },
   "outputs": [],
   "source": []
  }
 ],
 "metadata": {
  "kernelspec": {
   "display_name": "Python 3",
   "language": "python",
   "name": "python3"
  },
  "language_info": {
   "codemirror_mode": {
    "name": "ipython",
    "version": 3
   },
   "file_extension": ".py",
   "mimetype": "text/x-python",
   "name": "python",
   "nbconvert_exporter": "python",
   "pygments_lexer": "ipython3",
   "version": "3.5.2"
  }
 },
 "nbformat": 4,
 "nbformat_minor": 1
}
