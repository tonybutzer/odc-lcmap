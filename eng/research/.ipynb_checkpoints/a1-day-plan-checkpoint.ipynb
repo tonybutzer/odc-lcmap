{
 "cells": [
  {
   "cell_type": "markdown",
   "metadata": {},
   "source": [
    "# Day Plan experiments"
   ]
  },
  {
   "cell_type": "code",
   "execution_count": 1,
   "metadata": {},
   "outputs": [],
   "source": [
    "# read the csv of tasks line by line\n",
    "#### priority, task, minutes ####"
   ]
  },
  {
   "cell_type": "code",
   "execution_count": 2,
   "metadata": {},
   "outputs": [
    {
     "data": {
      "text/html": [
       "<script>requirejs.config({paths: { 'plotly': ['https://cdn.plot.ly/plotly-latest.min']},});if(!window.Plotly) {{require(['plotly'],function(plotly) {window.Plotly=plotly;});}}</script>"
      ],
      "text/vnd.plotly.v1+html": [
       "<script>requirejs.config({paths: { 'plotly': ['https://cdn.plot.ly/plotly-latest.min']},});if(!window.Plotly) {{require(['plotly'],function(plotly) {window.Plotly=plotly;});}}</script>"
      ]
     },
     "metadata": {},
     "output_type": "display_data"
    }
   ],
   "source": [
    "import pandas as pd\n",
    "import numpy as np\n",
    "import plotly.graph_objs as go\n",
    "import plotly.offline as py\n",
    "\n",
    "py.init_notebook_mode(connected=True)\n"
   ]
  },
  {
   "cell_type": "code",
   "execution_count": 3,
   "metadata": {},
   "outputs": [],
   "source": [
    "def _return_data_frame():\n",
    "    #print (\"hi\")\n",
    "    df = pd.read_csv(\"./today.csv\")\n",
    "    return df\n",
    "    "
   ]
  },
  {
   "cell_type": "code",
   "execution_count": 4,
   "metadata": {},
   "outputs": [
    {
     "name": "stdout",
     "output_type": "stream",
     "text": [
      "forensic\n",
      "pyccd next steps\n",
      "watch news\n"
     ]
    }
   ],
   "source": [
    "mydf = _return_data_frame()\n",
    "\n",
    "mydf\n",
    "for index, row in mydf.iterrows():\n",
    "    print(row['task'])\n"
   ]
  },
  {
   "cell_type": "code",
   "execution_count": 5,
   "metadata": {},
   "outputs": [],
   "source": [
    "ndf = mydf.astype(dtype={\"minutes\":\"int32\"})\n"
   ]
  },
  {
   "cell_type": "code",
   "execution_count": 6,
   "metadata": {},
   "outputs": [],
   "source": [
    "sdf = ndf.sort_values(['minutes'], ascending=False)"
   ]
  },
  {
   "cell_type": "code",
   "execution_count": 7,
   "metadata": {},
   "outputs": [
    {
     "data": {
      "text/html": [
       "<div>\n",
       "<style scoped>\n",
       "    .dataframe tbody tr th:only-of-type {\n",
       "        vertical-align: middle;\n",
       "    }\n",
       "\n",
       "    .dataframe tbody tr th {\n",
       "        vertical-align: top;\n",
       "    }\n",
       "\n",
       "    .dataframe thead th {\n",
       "        text-align: right;\n",
       "    }\n",
       "</style>\n",
       "<table border=\"1\" class=\"dataframe\">\n",
       "  <thead>\n",
       "    <tr style=\"text-align: right;\">\n",
       "      <th></th>\n",
       "      <th>0-priority</th>\n",
       "      <th>task</th>\n",
       "      <th>minutes</th>\n",
       "    </tr>\n",
       "  </thead>\n",
       "  <tbody>\n",
       "    <tr>\n",
       "      <th>1</th>\n",
       "      <td>a3</td>\n",
       "      <td>pyccd next steps</td>\n",
       "      <td>66</td>\n",
       "    </tr>\n",
       "    <tr>\n",
       "      <th>2</th>\n",
       "      <td>a4</td>\n",
       "      <td>watch news</td>\n",
       "      <td>45</td>\n",
       "    </tr>\n",
       "    <tr>\n",
       "      <th>0</th>\n",
       "      <td>a2</td>\n",
       "      <td>forensic</td>\n",
       "      <td>40</td>\n",
       "    </tr>\n",
       "  </tbody>\n",
       "</table>\n",
       "</div>"
      ],
      "text/plain": [
       "  0-priority              task  minutes\n",
       "1         a3  pyccd next steps       66\n",
       "2         a4        watch news       45\n",
       "0         a2          forensic       40"
      ]
     },
     "execution_count": 7,
     "metadata": {},
     "output_type": "execute_result"
    }
   ],
   "source": [
    "sdf\n"
   ]
  },
  {
   "cell_type": "code",
   "execution_count": 8,
   "metadata": {},
   "outputs": [
    {
     "data": {
      "application/vnd.plotly.v1+json": {
       "data": [
        {
         "marker": {
          "color": [
           100,
           111.11111111111111,
           122.22222222222223,
           133.33333333333331,
           144.44444444444446,
           155.55555555555554,
           166.66666666666666,
           177.77777777777777,
           188.88888888888889,
           200
          ],
          "colorscale": "Jet"
         },
         "type": "bar",
         "uid": "e23a6692-d70f-11e8-bffc-52540069414d",
         "x": [
          "pyccd next steps",
          "watch news",
          "forensic"
         ],
         "y": [
          66,
          45,
          40
         ]
        }
       ],
       "layout": {
        "title": "Day Burden at-a-glance",
        "xaxis": {
         "title": "task"
        },
        "yaxis": {
         "title": "minutes"
        }
       }
      },
      "text/html": [
       "<div id=\"3b39851a-ad71-494d-874d-2489c13d7d68\" style=\"height: 525px; width: 100%;\" class=\"plotly-graph-div\"></div><script type=\"text/javascript\">require([\"plotly\"], function(Plotly) { window.PLOTLYENV=window.PLOTLYENV || {};window.PLOTLYENV.BASE_URL=\"https://plot.ly\";Plotly.newPlot(\"3b39851a-ad71-494d-874d-2489c13d7d68\", [{\"type\": \"bar\", \"y\": [66, 45, 40], \"x\": [\"pyccd next steps\", \"watch news\", \"forensic\"], \"marker\": {\"color\": [100.0, 111.11111111111111, 122.22222222222223, 133.33333333333331, 144.44444444444446, 155.55555555555554, 166.66666666666666, 177.77777777777777, 188.88888888888889, 200.0], \"colorscale\": \"Jet\"}, \"uid\": \"e23a6692-d70f-11e8-bffc-52540069414d\"}], {\"title\": \"Day Burden at-a-glance\", \"yaxis\": {\"title\": \"minutes\"}, \"xaxis\": {\"title\": \"task\"}}, {\"linkText\": \"Export to plot.ly\", \"showLink\": false})});</script>"
      ],
      "text/vnd.plotly.v1+html": [
       "<div id=\"3b39851a-ad71-494d-874d-2489c13d7d68\" style=\"height: 525px; width: 100%;\" class=\"plotly-graph-div\"></div><script type=\"text/javascript\">require([\"plotly\"], function(Plotly) { window.PLOTLYENV=window.PLOTLYENV || {};window.PLOTLYENV.BASE_URL=\"https://plot.ly\";Plotly.newPlot(\"3b39851a-ad71-494d-874d-2489c13d7d68\", [{\"type\": \"bar\", \"y\": [66, 45, 40], \"x\": [\"pyccd next steps\", \"watch news\", \"forensic\"], \"marker\": {\"color\": [100.0, 111.11111111111111, 122.22222222222223, 133.33333333333331, 144.44444444444446, 155.55555555555554, 166.66666666666666, 177.77777777777777, 188.88888888888889, 200.0], \"colorscale\": \"Jet\"}, \"uid\": \"e23a6692-d70f-11e8-bffc-52540069414d\"}], {\"title\": \"Day Burden at-a-glance\", \"yaxis\": {\"title\": \"minutes\"}, \"xaxis\": {\"title\": \"task\"}}, {\"linkText\": \"Export to plot.ly\", \"showLink\": false})});</script>"
      ]
     },
     "metadata": {},
     "output_type": "display_data"
    }
   ],
   "source": [
    "cmax=200\n",
    "cmin=100\n",
    "color_s = np.linspace(cmin, cmax, 10)\n",
    "\n",
    "data = [\n",
    "    go.Bar(\n",
    "        x=sdf.task,          \n",
    "        y=sdf.minutes,\n",
    "        marker=dict(\n",
    "            colorscale='Jet',\n",
    "            color=color_s,\n",
    "        ),\n",
    "    )\n",
    "]\n",
    "\n",
    "layout = {\n",
    "    'title': 'Day Burden at-a-glance',\n",
    "    'xaxis': {'title': 'task'},\n",
    "    'yaxis': {'title': \"minutes\"}\n",
    "}\n",
    "\n",
    "fig = go.Figure(data=data, layout=layout)\n",
    "py.iplot(fig, show_link=False)"
   ]
  },
  {
   "cell_type": "code",
   "execution_count": 9,
   "metadata": {},
   "outputs": [],
   "source": [
    "a = ndf.sort_values('0-priority')"
   ]
  },
  {
   "cell_type": "code",
   "execution_count": 10,
   "metadata": {},
   "outputs": [
    {
     "data": {
      "text/html": [
       "<div>\n",
       "<style scoped>\n",
       "    .dataframe tbody tr th:only-of-type {\n",
       "        vertical-align: middle;\n",
       "    }\n",
       "\n",
       "    .dataframe tbody tr th {\n",
       "        vertical-align: top;\n",
       "    }\n",
       "\n",
       "    .dataframe thead th {\n",
       "        text-align: right;\n",
       "    }\n",
       "</style>\n",
       "<table border=\"1\" class=\"dataframe\">\n",
       "  <thead>\n",
       "    <tr style=\"text-align: right;\">\n",
       "      <th></th>\n",
       "      <th>0-priority</th>\n",
       "      <th>task</th>\n",
       "      <th>minutes</th>\n",
       "    </tr>\n",
       "  </thead>\n",
       "  <tbody>\n",
       "    <tr>\n",
       "      <th>0</th>\n",
       "      <td>a2</td>\n",
       "      <td>forensic</td>\n",
       "      <td>40</td>\n",
       "    </tr>\n",
       "    <tr>\n",
       "      <th>1</th>\n",
       "      <td>a3</td>\n",
       "      <td>pyccd next steps</td>\n",
       "      <td>66</td>\n",
       "    </tr>\n",
       "    <tr>\n",
       "      <th>2</th>\n",
       "      <td>a4</td>\n",
       "      <td>watch news</td>\n",
       "      <td>45</td>\n",
       "    </tr>\n",
       "  </tbody>\n",
       "</table>\n",
       "</div>"
      ],
      "text/plain": [
       "  0-priority              task  minutes\n",
       "0         a2          forensic       40\n",
       "1         a3  pyccd next steps       66\n",
       "2         a4        watch news       45"
      ]
     },
     "execution_count": 10,
     "metadata": {},
     "output_type": "execute_result"
    }
   ],
   "source": [
    "a\n"
   ]
  },
  {
   "cell_type": "code",
   "execution_count": 11,
   "metadata": {},
   "outputs": [],
   "source": [
    "b = a.loc[:,['task', 'minutes']]\n"
   ]
  },
  {
   "cell_type": "code",
   "execution_count": 12,
   "metadata": {},
   "outputs": [
    {
     "data": {
      "text/html": [
       "<div>\n",
       "<style scoped>\n",
       "    .dataframe tbody tr th:only-of-type {\n",
       "        vertical-align: middle;\n",
       "    }\n",
       "\n",
       "    .dataframe tbody tr th {\n",
       "        vertical-align: top;\n",
       "    }\n",
       "\n",
       "    .dataframe thead th {\n",
       "        text-align: right;\n",
       "    }\n",
       "</style>\n",
       "<table border=\"1\" class=\"dataframe\">\n",
       "  <thead>\n",
       "    <tr style=\"text-align: right;\">\n",
       "      <th></th>\n",
       "      <th>task</th>\n",
       "      <th>minutes</th>\n",
       "    </tr>\n",
       "  </thead>\n",
       "  <tbody>\n",
       "    <tr>\n",
       "      <th>0</th>\n",
       "      <td>forensic</td>\n",
       "      <td>40</td>\n",
       "    </tr>\n",
       "    <tr>\n",
       "      <th>1</th>\n",
       "      <td>pyccd next steps</td>\n",
       "      <td>66</td>\n",
       "    </tr>\n",
       "    <tr>\n",
       "      <th>2</th>\n",
       "      <td>watch news</td>\n",
       "      <td>45</td>\n",
       "    </tr>\n",
       "  </tbody>\n",
       "</table>\n",
       "</div>"
      ],
      "text/plain": [
       "               task  minutes\n",
       "0          forensic       40\n",
       "1  pyccd next steps       66\n",
       "2        watch news       45"
      ]
     },
     "execution_count": 12,
     "metadata": {},
     "output_type": "execute_result"
    }
   ],
   "source": [
    "b"
   ]
  },
  {
   "cell_type": "code",
   "execution_count": 13,
   "metadata": {},
   "outputs": [
    {
     "name": "stdout",
     "output_type": "stream",
     "text": [
      "forensic 40\n",
      "pyccd next steps 66\n",
      "watch news 45\n"
     ]
    }
   ],
   "source": [
    "for index, row in b.iterrows():\n",
    "    print(row['task'], row['minutes'])"
   ]
  },
  {
   "cell_type": "code",
   "execution_count": 14,
   "metadata": {},
   "outputs": [
    {
     "data": {
      "text/html": [
       "<div>\n",
       "<style scoped>\n",
       "    .dataframe tbody tr th:only-of-type {\n",
       "        vertical-align: middle;\n",
       "    }\n",
       "\n",
       "    .dataframe tbody tr th {\n",
       "        vertical-align: top;\n",
       "    }\n",
       "\n",
       "    .dataframe thead th {\n",
       "        text-align: right;\n",
       "    }\n",
       "</style>\n",
       "<table border=\"1\" class=\"dataframe\">\n",
       "  <thead>\n",
       "    <tr style=\"text-align: right;\">\n",
       "      <th></th>\n",
       "      <th>task</th>\n",
       "      <th>minutes</th>\n",
       "    </tr>\n",
       "  </thead>\n",
       "  <tbody>\n",
       "    <tr>\n",
       "      <th>0</th>\n",
       "      <td>forensic</td>\n",
       "      <td>40</td>\n",
       "    </tr>\n",
       "    <tr>\n",
       "      <th>1</th>\n",
       "      <td>pyccd next steps</td>\n",
       "      <td>66</td>\n",
       "    </tr>\n",
       "    <tr>\n",
       "      <th>2</th>\n",
       "      <td>watch news</td>\n",
       "      <td>45</td>\n",
       "    </tr>\n",
       "  </tbody>\n",
       "</table>\n",
       "</div>"
      ],
      "text/plain": [
       "               task  minutes\n",
       "0          forensic       40\n",
       "1  pyccd next steps       66\n",
       "2        watch news       45"
      ]
     },
     "execution_count": 14,
     "metadata": {},
     "output_type": "execute_result"
    }
   ],
   "source": [
    "b\n"
   ]
  },
  {
   "cell_type": "code",
   "execution_count": 15,
   "metadata": {},
   "outputs": [],
   "source": [
    "import plotly.figure_factory as ff\n"
   ]
  },
  {
   "cell_type": "code",
   "execution_count": 27,
   "metadata": {},
   "outputs": [
    {
     "name": "stdout",
     "output_type": "stream",
     "text": [
      "17\n",
      "forensic 40\n",
      "40\n",
      "2018-10-23 17:40:00\n",
      "pyccd next steps 66\n",
      "66\n",
      "2018-10-23 18:46:00\n",
      "watch news 45\n",
      "45\n",
      "2018-10-23 19:31:00\n"
     ]
    },
    {
     "data": {
      "application/vnd.plotly.v1+json": {
       "data": [
        {
         "marker": {
          "color": "white"
         },
         "name": "",
         "showlegend": false,
         "type": "scatter",
         "uid": "f8520786-d710-11e8-bffc-52540069414d",
         "x": [
          "2018-10-23 18:46:00",
          "2018-10-23 19:31:00"
         ],
         "y": [
          0,
          0
         ]
        },
        {
         "marker": {
          "color": "white"
         },
         "name": "",
         "showlegend": false,
         "type": "scatter",
         "uid": "f8520787-d710-11e8-bffc-52540069414d",
         "x": [
          "2018-10-23 17:40:00",
          "2018-10-23 18:46:00"
         ],
         "y": [
          1,
          1
         ]
        },
        {
         "marker": {
          "color": "white"
         },
         "name": "",
         "showlegend": false,
         "type": "scatter",
         "uid": "f8520788-d710-11e8-bffc-52540069414d",
         "x": [
          "2018-10-23 17:00:00",
          "2018-10-23 17:40:00"
         ],
         "y": [
          2,
          2
         ]
        },
        {
         "hoverinfo": "none",
         "marker": {
          "color": "rgb(46, 137, 205)",
          "size": 1
         },
         "name": "One",
         "showlegend": true,
         "type": "scatter",
         "uid": "f8520789-d710-11e8-bffc-52540069414d",
         "x": [
          "2018-10-23 17:00:00",
          "2018-10-23 17:00:00"
         ],
         "y": [
          0,
          0
         ]
        },
        {
         "hoverinfo": "none",
         "marker": {
          "color": "rgb(198, 47, 105)",
          "size": 1
         },
         "name": "Three",
         "showlegend": true,
         "type": "scatter",
         "uid": "f852078a-d710-11e8-bffc-52540069414d",
         "x": [
          "2018-10-23 17:00:00",
          "2018-10-23 17:00:00"
         ],
         "y": [
          1,
          1
         ]
        },
        {
         "hoverinfo": "none",
         "marker": {
          "color": "rgb(114, 44, 121)",
          "size": 1
         },
         "name": "Two",
         "showlegend": true,
         "type": "scatter",
         "uid": "f852078b-d710-11e8-bffc-52540069414d",
         "x": [
          "2018-10-23 17:00:00",
          "2018-10-23 17:00:00"
         ],
         "y": [
          2,
          2
         ]
        }
       ],
       "layout": {
        "height": 600,
        "hovermode": "closest",
        "shapes": [
         {
          "fillcolor": "rgb(198, 47, 105)",
          "line": {
           "width": 0
          },
          "opacity": 1,
          "type": "rect",
          "x0": "2018-10-23 18:46:00",
          "x1": "2018-10-23 19:31:00",
          "xref": "x",
          "y0": -0.4,
          "y1": 0.4,
          "yref": "y"
         },
         {
          "fillcolor": "rgb(114, 44, 121)",
          "line": {
           "width": 0
          },
          "opacity": 1,
          "type": "rect",
          "x0": "2018-10-23 17:40:00",
          "x1": "2018-10-23 18:46:00",
          "xref": "x",
          "y0": 0.6,
          "y1": 1.4,
          "yref": "y"
         },
         {
          "fillcolor": "rgb(46, 137, 205)",
          "line": {
           "width": 0
          },
          "opacity": 1,
          "type": "rect",
          "x0": "2018-10-23 17:00:00",
          "x1": "2018-10-23 17:40:00",
          "xref": "x",
          "y0": 1.6,
          "y1": 2.4,
          "yref": "y"
         }
        ],
        "showlegend": true,
        "title": "Demo Schedule",
        "width": 900,
        "xaxis": {
         "rangeselector": {
          "buttons": [
           {
            "count": 7,
            "label": "1w",
            "step": "day",
            "stepmode": "backward"
           },
           {
            "count": 1,
            "label": "1m",
            "step": "month",
            "stepmode": "backward"
           },
           {
            "count": 6,
            "label": "6m",
            "step": "month",
            "stepmode": "backward"
           },
           {
            "count": 1,
            "label": "YTD",
            "step": "year",
            "stepmode": "todate"
           },
           {
            "count": 1,
            "label": "1y",
            "step": "year",
            "stepmode": "backward"
           },
           {
            "step": "all"
           }
          ]
         },
         "showgrid": true,
         "type": "date",
         "zeroline": false
        },
        "yaxis": {
         "autorange": false,
         "range": [
          -1,
          4
         ],
         "showgrid": true,
         "ticktext": [
          "watch news",
          "pyccd next steps",
          "forensic"
         ],
         "tickvals": [
          0,
          1,
          2
         ],
         "zeroline": false
        }
       }
      },
      "text/html": [
       "<div id=\"627234fe-a058-4675-bdb9-d83bd8d3305c\" style=\"height: 600px; width: 900px;\" class=\"plotly-graph-div\"></div><script type=\"text/javascript\">require([\"plotly\"], function(Plotly) { window.PLOTLYENV=window.PLOTLYENV || {};window.PLOTLYENV.BASE_URL=\"https://plot.ly\";Plotly.newPlot(\"627234fe-a058-4675-bdb9-d83bd8d3305c\", [{\"type\": \"scatter\", \"showlegend\": false, \"name\": \"\", \"y\": [0, 0], \"x\": [\"2018-10-23 18:46:00\", \"2018-10-23 19:31:00\"], \"marker\": {\"color\": \"white\"}, \"uid\": \"f852078c-d710-11e8-bffc-52540069414d\"}, {\"type\": \"scatter\", \"showlegend\": false, \"name\": \"\", \"y\": [1, 1], \"x\": [\"2018-10-23 17:40:00\", \"2018-10-23 18:46:00\"], \"marker\": {\"color\": \"white\"}, \"uid\": \"f852078d-d710-11e8-bffc-52540069414d\"}, {\"type\": \"scatter\", \"showlegend\": false, \"name\": \"\", \"y\": [2, 2], \"x\": [\"2018-10-23 17:00:00\", \"2018-10-23 17:40:00\"], \"marker\": {\"color\": \"white\"}, \"uid\": \"f852078e-d710-11e8-bffc-52540069414d\"}, {\"type\": \"scatter\", \"hoverinfo\": \"none\", \"showlegend\": true, \"name\": \"One\", \"y\": [0, 0], \"x\": [\"2018-10-23 17:00:00\", \"2018-10-23 17:00:00\"], \"marker\": {\"color\": \"rgb(46, 137, 205)\", \"size\": 1}, \"uid\": \"f852078f-d710-11e8-bffc-52540069414d\"}, {\"type\": \"scatter\", \"hoverinfo\": \"none\", \"showlegend\": true, \"name\": \"Three\", \"y\": [1, 1], \"x\": [\"2018-10-23 17:00:00\", \"2018-10-23 17:00:00\"], \"marker\": {\"color\": \"rgb(198, 47, 105)\", \"size\": 1}, \"uid\": \"f8520790-d710-11e8-bffc-52540069414d\"}, {\"type\": \"scatter\", \"hoverinfo\": \"none\", \"showlegend\": true, \"name\": \"Two\", \"y\": [2, 2], \"x\": [\"2018-10-23 17:00:00\", \"2018-10-23 17:00:00\"], \"marker\": {\"color\": \"rgb(114, 44, 121)\", \"size\": 1}, \"uid\": \"f8520791-d710-11e8-bffc-52540069414d\"}], {\"height\": 600, \"width\": 900, \"showlegend\": true, \"xaxis\": {\"showgrid\": true, \"type\": \"date\", \"zeroline\": false, \"rangeselector\": {\"buttons\": [{\"stepmode\": \"backward\", \"label\": \"1w\", \"step\": \"day\", \"count\": 7}, {\"stepmode\": \"backward\", \"label\": \"1m\", \"step\": \"month\", \"count\": 1}, {\"stepmode\": \"backward\", \"label\": \"6m\", \"step\": \"month\", \"count\": 6}, {\"stepmode\": \"todate\", \"label\": \"YTD\", \"step\": \"year\", \"count\": 1}, {\"stepmode\": \"backward\", \"label\": \"1y\", \"step\": \"year\", \"count\": 1}, {\"step\": \"all\"}]}}, \"yaxis\": {\"showgrid\": true, \"tickvals\": [0, 1, 2], \"ticktext\": [\"watch news\", \"pyccd next steps\", \"forensic\"], \"zeroline\": false, \"range\": [-1, 4], \"autorange\": false}, \"title\": \"Demo Schedule\", \"hovermode\": \"closest\", \"shapes\": [{\"type\": \"rect\", \"line\": {\"width\": 0}, \"x0\": \"2018-10-23 18:46:00\", \"opacity\": 1, \"yref\": \"y\", \"xref\": \"x\", \"x1\": \"2018-10-23 19:31:00\", \"y0\": -0.4, \"fillcolor\": \"rgb(198, 47, 105)\", \"y1\": 0.4}, {\"type\": \"rect\", \"line\": {\"width\": 0}, \"x0\": \"2018-10-23 17:40:00\", \"opacity\": 1, \"yref\": \"y\", \"xref\": \"x\", \"x1\": \"2018-10-23 18:46:00\", \"y0\": 0.6, \"fillcolor\": \"rgb(114, 44, 121)\", \"y1\": 1.4}, {\"type\": \"rect\", \"line\": {\"width\": 0}, \"x0\": \"2018-10-23 17:00:00\", \"opacity\": 1, \"yref\": \"y\", \"xref\": \"x\", \"x1\": \"2018-10-23 17:40:00\", \"y0\": 1.6, \"fillcolor\": \"rgb(46, 137, 205)\", \"y1\": 2.4}]}, {\"linkText\": \"Export to plot.ly\", \"showLink\": false})});</script>"
      ],
      "text/vnd.plotly.v1+html": [
       "<div id=\"627234fe-a058-4675-bdb9-d83bd8d3305c\" style=\"height: 600px; width: 900px;\" class=\"plotly-graph-div\"></div><script type=\"text/javascript\">require([\"plotly\"], function(Plotly) { window.PLOTLYENV=window.PLOTLYENV || {};window.PLOTLYENV.BASE_URL=\"https://plot.ly\";Plotly.newPlot(\"627234fe-a058-4675-bdb9-d83bd8d3305c\", [{\"type\": \"scatter\", \"showlegend\": false, \"name\": \"\", \"y\": [0, 0], \"x\": [\"2018-10-23 18:46:00\", \"2018-10-23 19:31:00\"], \"marker\": {\"color\": \"white\"}, \"uid\": \"f852078c-d710-11e8-bffc-52540069414d\"}, {\"type\": \"scatter\", \"showlegend\": false, \"name\": \"\", \"y\": [1, 1], \"x\": [\"2018-10-23 17:40:00\", \"2018-10-23 18:46:00\"], \"marker\": {\"color\": \"white\"}, \"uid\": \"f852078d-d710-11e8-bffc-52540069414d\"}, {\"type\": \"scatter\", \"showlegend\": false, \"name\": \"\", \"y\": [2, 2], \"x\": [\"2018-10-23 17:00:00\", \"2018-10-23 17:40:00\"], \"marker\": {\"color\": \"white\"}, \"uid\": \"f852078e-d710-11e8-bffc-52540069414d\"}, {\"type\": \"scatter\", \"hoverinfo\": \"none\", \"showlegend\": true, \"name\": \"One\", \"y\": [0, 0], \"x\": [\"2018-10-23 17:00:00\", \"2018-10-23 17:00:00\"], \"marker\": {\"color\": \"rgb(46, 137, 205)\", \"size\": 1}, \"uid\": \"f852078f-d710-11e8-bffc-52540069414d\"}, {\"type\": \"scatter\", \"hoverinfo\": \"none\", \"showlegend\": true, \"name\": \"Three\", \"y\": [1, 1], \"x\": [\"2018-10-23 17:00:00\", \"2018-10-23 17:00:00\"], \"marker\": {\"color\": \"rgb(198, 47, 105)\", \"size\": 1}, \"uid\": \"f8520790-d710-11e8-bffc-52540069414d\"}, {\"type\": \"scatter\", \"hoverinfo\": \"none\", \"showlegend\": true, \"name\": \"Two\", \"y\": [2, 2], \"x\": [\"2018-10-23 17:00:00\", \"2018-10-23 17:00:00\"], \"marker\": {\"color\": \"rgb(114, 44, 121)\", \"size\": 1}, \"uid\": \"f8520791-d710-11e8-bffc-52540069414d\"}], {\"height\": 600, \"width\": 900, \"showlegend\": true, \"xaxis\": {\"showgrid\": true, \"type\": \"date\", \"zeroline\": false, \"rangeselector\": {\"buttons\": [{\"stepmode\": \"backward\", \"label\": \"1w\", \"step\": \"day\", \"count\": 7}, {\"stepmode\": \"backward\", \"label\": \"1m\", \"step\": \"month\", \"count\": 1}, {\"stepmode\": \"backward\", \"label\": \"6m\", \"step\": \"month\", \"count\": 6}, {\"stepmode\": \"todate\", \"label\": \"YTD\", \"step\": \"year\", \"count\": 1}, {\"stepmode\": \"backward\", \"label\": \"1y\", \"step\": \"year\", \"count\": 1}, {\"step\": \"all\"}]}}, \"yaxis\": {\"showgrid\": true, \"tickvals\": [0, 1, 2], \"ticktext\": [\"watch news\", \"pyccd next steps\", \"forensic\"], \"zeroline\": false, \"range\": [-1, 4], \"autorange\": false}, \"title\": \"Demo Schedule\", \"hovermode\": \"closest\", \"shapes\": [{\"type\": \"rect\", \"line\": {\"width\": 0}, \"x0\": \"2018-10-23 18:46:00\", \"opacity\": 1, \"yref\": \"y\", \"xref\": \"x\", \"x1\": \"2018-10-23 19:31:00\", \"y0\": -0.4, \"fillcolor\": \"rgb(198, 47, 105)\", \"y1\": 0.4}, {\"type\": \"rect\", \"line\": {\"width\": 0}, \"x0\": \"2018-10-23 17:40:00\", \"opacity\": 1, \"yref\": \"y\", \"xref\": \"x\", \"x1\": \"2018-10-23 18:46:00\", \"y0\": 0.6, \"fillcolor\": \"rgb(114, 44, 121)\", \"y1\": 1.4}, {\"type\": \"rect\", \"line\": {\"width\": 0}, \"x0\": \"2018-10-23 17:00:00\", \"opacity\": 1, \"yref\": \"y\", \"xref\": \"x\", \"x1\": \"2018-10-23 17:40:00\", \"y0\": 1.6, \"fillcolor\": \"rgb(46, 137, 205)\", \"y1\": 2.4}]}, {\"linkText\": \"Export to plot.ly\", \"showLink\": false})});</script>"
      ]
     },
     "metadata": {},
     "output_type": "display_data"
    }
   ],
   "source": [
    "import datetime\n",
    "\n",
    "task_list = []\n",
    "start_time = datetime.datetime.now().hour\n",
    "print(start_time)\n",
    "# start_time = 14\n",
    "running_time = datetime.datetime.combine(datetime.date.today(),datetime.time(start_time))\n",
    "cnt=0\n",
    "pri = {0:'Zero',1:'One', 2:'Two', 3:'Three'}\n",
    "for index, row in b.iterrows():\n",
    "    print(row['task'], row['minutes'])\n",
    "    mint = int(row['minutes'])\n",
    "    task = row['task']\n",
    "    print(mint)\n",
    "    save_time = running_time\n",
    "    end_time =  running_time + datetime.timedelta(minutes=mint)\n",
    "    running_time=end_time\n",
    "    print(end_time)\n",
    "    cnt = cnt + 1\n",
    "    mycat = pri[cnt%4]\n",
    "    a_dict = {'Task':task, 'Start':save_time, 'Finish':end_time, 'Resource':mycat}\n",
    "    \n",
    "    task_list.append(a_dict)\n",
    "    \n",
    "\n",
    "#print(task_list)\n",
    "df = []\n",
    "for a in reversed(task_list):\n",
    "    df.append(a)\n",
    "\n",
    "colors = dict(One = 'rgb(46, 137, 205)',\n",
    "              Two = 'rgb(114, 44, 121)',\n",
    "              Three = 'rgb(198, 47, 105)',\n",
    "              Zero = 'rgb(58, 149, 136)',\n",
    "              ODC = 'rgb(107, 127, 135)')\n",
    "\n",
    "fig = ff.create_gantt(df, colors=colors, index_col='Resource', title='Demo Schedule',\n",
    "                      show_colorbar=True, bar_width=0.4, showgrid_x=True, showgrid_y=True)\n",
    "py.iplot(fig, show_link=False)\n"
   ]
  },
  {
   "cell_type": "code",
   "execution_count": null,
   "metadata": {},
   "outputs": [],
   "source": []
  }
 ],
 "metadata": {
  "kernelspec": {
   "display_name": "Python 3",
   "language": "python",
   "name": "python3"
  },
  "language_info": {
   "codemirror_mode": {
    "name": "ipython",
    "version": 3
   },
   "file_extension": ".py",
   "mimetype": "text/x-python",
   "name": "python",
   "nbconvert_exporter": "python",
   "pygments_lexer": "ipython3",
   "version": "3.5.2"
  }
 },
 "nbformat": 4,
 "nbformat_minor": 2
}
