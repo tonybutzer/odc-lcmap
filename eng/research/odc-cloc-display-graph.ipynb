{
 "cells": [
  {
   "cell_type": "markdown",
   "metadata": {},
   "source": [
    "# Lets look at the ODC Code Base\n",
    "\n"
   ]
  },
  {
   "cell_type": "markdown",
   "metadata": {},
   "source": [
    "## Cloc"
   ]
  },
  {
   "cell_type": "code",
   "execution_count": 1,
   "metadata": {},
   "outputs": [
    {
     "name": "stdout",
     "output_type": "stream",
     "text": [
      "     179 text files.\n",
      "     151 unique files.                                          \n",
      "     752 files ignored.\n",
      "\n",
      "http://cloc.sourceforge.net v 1.60  T=0.74 s (89.4 files/s, 13323.8 lines/s)\n",
      "-------------------------------------------------------------------------------\n",
      "Language                     files          blank        comment           code\n",
      "-------------------------------------------------------------------------------\n",
      "Python                          33           1567           1114           2617\n",
      "HTML                             4           1353              0           2144\n",
      "YAML                             4             40              0            424\n",
      "Bourne Shell                    17            170             50            156\n",
      "make                             7             45             13            138\n",
      "SQL                              1              2              0              1\n",
      "-------------------------------------------------------------------------------\n",
      "SUM:                            66           3177           1177           5480\n",
      "-------------------------------------------------------------------------------\n"
     ]
    }
   ],
   "source": [
    "! cloc /opt/odc-lcmap"
   ]
  },
  {
   "cell_type": "code",
   "execution_count": 2,
   "metadata": {},
   "outputs": [
    {
     "name": "stdout",
     "output_type": "stream",
     "text": [
      "benchmark-rio-s3\t       dogARD\t\t lcmap-pyccd\r\n",
      "bulk-downloader\t\t       dogs2\t\t odc-lcmap\r\n",
      "craft\t\t\t       espaDog\t\t opendatacube\r\n",
      "cubeOD\t\t\t       howdoi\t\t pizzaFactory\r\n",
      "datacube-core-datacube-1.6rc1  index\t\t sublime_text\r\n",
      "data_cube_notebooks\t       indexBrokenStash  training\r\n",
      "data_cube_utilities\t       lcmap-anteater\r\n"
     ]
    }
   ],
   "source": [
    "!ls /opt"
   ]
  },
  {
   "cell_type": "code",
   "execution_count": 3,
   "metadata": {},
   "outputs": [
    {
     "name": "stdout",
     "output_type": "stream",
     "text": [
      "\r\n",
      "Usage: cloc [options] <file(s)/dir(s)> | <set 1> <set 2> | <report files>\r\n",
      "\r\n",
      " Count, or compute differences of, physical lines of source code in the\r\n",
      " given files (may be archives such as compressed tarballs or zip files)\r\n",
      " and/or recursively below the given directories.\r\n",
      "\r\n",
      " \u001b[1mInput Options\u001b[0m\r\n",
      "   --extract-with=<cmd>      This option is only needed if cloc is unable\r\n",
      "                             to figure out how to extract the contents of\r\n",
      "                             the input file(s) by itself.\r\n",
      "                             Use <cmd> to extract binary archive files (e.g.:\r\n",
      "                             .tar.gz, .zip, .Z).  Use the literal '>FILE<' as\r\n",
      "                             a stand-in for the actual file(s) to be\r\n",
      "                             extracted.  For example, to count lines of code\r\n",
      "                             in the input files\r\n",
      "                                gcc-4.2.tar.gz  perl-5.8.8.tar.gz\r\n",
      "                             on Unix use\r\n",
      "                               --extract-with='gzip -dc >FILE< | tar xf -'\r\n",
      "                             or, if you have GNU tar,\r\n",
      "                               --extract-with='tar zxf >FILE<'\r\n",
      "                             and on Windows use, for example:\r\n",
      "                               --extract-with=\"\\\"c:\\Program Files\\WinZip\\WinZip32.exe\\\" -e -o >FILE< .\"\r\n",
      "                             (if WinZip is installed there).\r\n",
      "   --list-file=<file>        Take the list of file and/or directory names to\r\n",
      "                             process from <file> which has one file/directory\r\n",
      "                             name per line.  See also --exclude-list-file.\r\n",
      "   --unicode                 Check binary files to see if they contain Unicode\r\n",
      "                             expanded ASCII text.  This causes performance to\r\n",
      "                             drop noticably.\r\n",
      "\r\n",
      " \u001b[1mProcessing Options\u001b[0m\r\n",
      "   --autoconf                Count .in files (as processed by GNU autoconf) of\r\n",
      "                             recognized languages.\r\n",
      "   --by-file                 Report results for every source file encountered.\r\n",
      "   --by-file-by-lang         Report results for every source file encountered\r\n",
      "                             in addition to reporting by language.\r\n",
      "   --diff <set1> <set2>      Compute differences in code and comments between\r\n",
      "                             source file(s) of <set1> and <set2>.  The inputs\r\n",
      "                             may be pairs of files, directories, or archives.\r\n",
      "                             Use --diff-alignment to generate a list showing\r\n",
      "                             which file pairs where compared.  See also\r\n",
      "                             --ignore-case, --ignore-whitespace.\r\n",
      "   --diff-timeout <N>        Ignore files which take more than <N> seconds\r\n",
      "                             to process.  Default is 10 seconds.\r\n",
      "                             (Large files with many repeated lines can cause \r\n",
      "                             Algorithm::Diff::sdiff() to take hours.)\r\n",
      "   --follow-links            [Unix only] Follow symbolic links to directories\r\n",
      "                             (sym links to files are always followed).\r\n",
      "   --force-lang=<lang>[,<ext>]\r\n",
      "                             Process all files that have a <ext> extension\r\n",
      "                             with the counter for language <lang>.  For\r\n",
      "                             example, to count all .f files with the\r\n",
      "                             Fortran 90 counter (which expects files to\r\n",
      "                             end with .f90) instead of the default Fortran 77\r\n",
      "                             counter, use\r\n",
      "                               --force-lang=\"Fortran 90\",f\r\n",
      "                             If <ext> is omitted, every file will be counted\r\n",
      "                             with the <lang> counter.  This option can be\r\n",
      "                             specified multiple times (but that is only\r\n",
      "                             useful when <ext> is given each time).\r\n",
      "                             See also --script-lang, --lang-no-ext.\r\n",
      "   --force-lang-def=<file>   Load language processing filters from <file>,\r\n",
      "                             then use these filters instead of the built-in\r\n",
      "                             filters.  Note:  languages which map to the same \r\n",
      "                             file extension (for example:\r\n",
      "                             MATLAB/Objective C/MUMPS;  Pascal/PHP; \r\n",
      "                             Lisp/OpenCL) will be ignored as these require \r\n",
      "                             additional processing that is not expressed in \r\n",
      "                             language definition files.  Use --read-lang-def \r\n",
      "                             to define new language filters without replacing \r\n",
      "                             built-in filters (see also --write-lang-def).\r\n",
      "   --ignore-whitespace       Ignore horizontal white space when comparing files\r\n",
      "                             with --diff.  See also --ignore-case.\r\n",
      "   --ignore-case             Ignore changes in case; consider upper- and lower-\r\n",
      "                             case letters equivalent when comparing files with\r\n",
      "                             --diff.  See also --ignore-whitespace.\r\n",
      "   --lang-no-ext=<lang>      Count files without extensions using the <lang>\r\n",
      "                             counter.  This option overrides internal logic\r\n",
      "                             for files without extensions (where such files\r\n",
      "                             are checked against known scripting languages\r\n",
      "                             by examining the first line for #!).  See also\r\n",
      "                             --force-lang, --script-lang.\r\n",
      "   --max-file-size=<MB>      Skip files larger than <MB> megabytes when\r\n",
      "                             traversing directories.  By default, <MB>=100.\r\n",
      "                             cloc's memory requirement is roughly twenty times \r\n",
      "                             larger than the largest file so running with \r\n",
      "                             files larger than 100 MB on a computer with less \r\n",
      "                             than 2 GB of memory will cause problems.  \r\n",
      "                             Note:  this check does not apply to files \r\n",
      "                             explicitly passed as command line arguments.\r\n",
      "   --read-binary-files       Process binary files in addition to text files.\r\n",
      "                             This is usually a bad idea and should only be\r\n",
      "                             attempted with text files that have embedded\r\n",
      "                             binary data.\r\n",
      "   --read-lang-def=<file>    Load new language processing filters from <file>\r\n",
      "                             and merge them with those already known to cloc.  \r\n",
      "                             If <file> defines a language cloc already knows \r\n",
      "                             about, cloc's definition will take precedence.  \r\n",
      "                             Use --force-lang-def to over-ride cloc's \r\n",
      "                             definitions (see also --write-lang-def ).\r\n",
      "   --script-lang=<lang>,<s>  Process all files that invoke <s> as a #!\r\n",
      "                             scripting language with the counter for language\r\n",
      "                             <lang>.  For example, files that begin with\r\n",
      "                                #!/usr/local/bin/perl5.8.8\r\n",
      "                             will be counted with the Perl counter by using\r\n",
      "                                --script-lang=Perl,perl5.8.8\r\n",
      "                             The language name is case insensitive but the\r\n",
      "                             name of the script language executable, <s>,\r\n",
      "                             must have the right case.  This option can be\r\n",
      "                             specified multiple times.  See also --force-lang,\r\n",
      "                             --lang-no-ext.\r\n",
      "   --sdir=<dir>              Use <dir> as the scratch directory instead of\r\n",
      "                             letting File::Temp chose the location.  Files\r\n",
      "                             written to this location are not removed at\r\n",
      "                             the end of the run (as they are with File::Temp).\r\n",
      "   --skip-uniqueness         Skip the file uniqueness check.  This will give\r\n",
      "                             a performance boost at the expense of counting\r\n",
      "                             files with identical contents multiple times\r\n",
      "                             (if such duplicates exist).\r\n",
      "   --stdin-name=<file>       Give a file name to use to determine the language\r\n",
      "                             for standard input.\r\n",
      "   --strip-comments=<ext>    For each file processed, write to the current\r\n",
      "                             directory a version of the file which has blank\r\n",
      "                             lines and comments removed.  The name of each\r\n",
      "                             stripped file is the original file name with\r\n",
      "                             .<ext> appended to it.  It is written to the\r\n",
      "                             current directory unless --original-dir is on.\r\n",
      "   --original-dir            [Only effective in combination with\r\n",
      "                             --strip-comments]  Write the stripped files\r\n",
      "                             to the same directory as the original files.\r\n",
      "   --sum-reports             Input arguments are report files previously\r\n",
      "                             created with the --report-file option.  Makes\r\n",
      "                             a cumulative set of results containing the\r\n",
      "                             sum of data from the individual report files.\r\n",
      "   --unix                    Override the operating system autodetection\r\n",
      "                             logic and run in UNIX mode.  See also\r\n",
      "                             --windows, --show-os.\r\n",
      "   --windows                 Override the operating system autodetection\r\n",
      "                             logic and run in Microsoft Windows mode.\r\n",
      "                             See also --unix, --show-os.\r\n",
      "\r\n",
      " \u001b[1mFilter Options\u001b[0m\r\n",
      "   --exclude-dir=<D1>[,D2,]  Exclude the given comma separated directories\r\n",
      "                             D1, D2, D3, et cetera, from being scanned.  For\r\n",
      "                             example  --exclude-dir=.cache,test  will skip\r\n",
      "                             all files that have /.cache/ or /test/ as part\r\n",
      "                             of their path.\r\n",
      "                             Directories named .bzr, .cvs, .hg, .git, and\r\n",
      "                             .svn are always excluded.\r\n",
      "   --exclude-ext=<ext1>[,<ext2>[...]]\r\n",
      "                             Do not count files having the given file name\r\n",
      "                             extensions.\r\n",
      "   --exclude-lang=<L1>[,L2,] Exclude the given comma separated languages\r\n",
      "                             L1, L2, L3, et cetera, from being counted.\r\n",
      "   --exclude-list-file=<file>  Ignore files and/or directories whose names\r\n",
      "                             appear in <file>.  <file> should have one entry\r\n",
      "                             per line.  Relative path names will be resolved\r\n",
      "                             starting from the directory where cloc is\r\n",
      "                             invoked.  See also --list-file.\r\n",
      "   --match-d=<regex>         Only count files in directories matching the Perl\r\n",
      "                             regex.  For example\r\n",
      "                               --match-d='/(src|include)/'\r\n",
      "                             only counts files in directories containing\r\n",
      "                             /src/ or /include/.\r\n",
      "   --not-match-d=<regex>     Count all files except those in directories\r\n",
      "                             matching the Perl regex.\r\n",
      "   --match-f=<regex>         Only count files whose basenames match the Perl\r\n",
      "                             regex.  For example\r\n",
      "                               --match-f='^[Ww]idget'\r\n",
      "                             only counts files that start with Widget or widget.\r\n",
      "   --not-match-f=<regex>     Count all files except those whose basenames\r\n",
      "                             match the Perl regex.\r\n",
      "   --skip-archive=<regex>    Ignore files that end with the given Perl regular\r\n",
      "                             expression.  For example, if given\r\n",
      "                               --skip-archive='(zip|tar(.(gz|Z|bz2|xz|7z))?)'\r\n",
      "                             the code will skip files that end with .zip,\r\n",
      "                             .tar, .tar.gz, .tar.Z, .tar.bz2, .tar.xz, and\r\n",
      "                             .tar.7z.\r\n",
      "   --skip-win-hidden         On Windows, ignore hidden files.\r\n",
      "\r\n",
      " \u001b[1mDebug Options\u001b[0m\r\n",
      "   --categorized=<file>      Save names of categorized files to <file>.\r\n",
      "   --counted=<file>          Save names of processed source files to <file>.\r\n",
      "   --diff-alignment=<file>   Write to <file> a list of files and file pairs\r\n",
      "                             showing which files were added, removed, and/or\r\n",
      "                             compared during a run with --diff.  This switch\r\n",
      "                             forces the --diff mode on.\r\n",
      "   --help                    Print this usage information and exit.\r\n",
      "   --found=<file>            Save names of every file found to <file>.\r\n",
      "   --ignored=<file>          Save names of ignored files and the reason they\r\n",
      "                             were ignored to <file>.\r\n",
      "   --print-filter-stages     Print to STDOUT processed source code before and\r\n",
      "                             after each filter is applied.\r\n",
      "   --show-ext[=<ext>]        Print information about all known (or just the\r\n",
      "                             given) file extensions and exit.\r\n",
      "   --show-lang[=<lang>]      Print information about all known (or just the\r\n",
      "                             given) languages and exit.\r\n",
      "   --show-os                 Print the value of the operating system mode\r\n",
      "                             and exit.  See also --unix, --windows.\r\n",
      "   -v[=<n>]                  Verbose switch (optional numeric value).\r\n",
      "   --version                 Print the version of this program and exit.\r\n",
      "   --write-lang-def=<file>   Writes to <file> the language processing filters\r\n",
      "                             then exits.  Useful as a first step to creating\r\n",
      "                             custom language definitions (see also\r\n",
      "                             --force-lang-def, --read-lang-def).\r\n",
      "\r\n",
      " \u001b[1mOutput Options\u001b[0m\r\n",
      "   --3                       Print third-generation language output.\r\n",
      "                             (This option can cause report summation to fail\r\n",
      "                             if some reports were produced with this option\r\n",
      "                             while others were produced without it.)\r\n",
      "   --progress-rate=<n>       Show progress update after every <n> files are\r\n",
      "                             processed (default <n>=100).  Set <n> to 0 to\r\n",
      "                             suppress progress output (useful when redirecting\r\n",
      "                             output to STDOUT).\r\n",
      "   --quiet                   Suppress all information messages except for\r\n",
      "                             the final report.\r\n",
      "   --report-file=<file>      Write the results to <file> instead of STDOUT.\r\n",
      "   --out=<file>              Synonym for --report-file=<file>.\r\n",
      "   --csv                     Write the results as comma separated values.\r\n",
      "   --csv-delimiter=<C>       Use the character <C> as the delimiter for comma\r\n",
      "                             separated files instead of ,.  This switch forces\r\n",
      "                             --csv to be on.\r\n",
      "   --sql=<file>              Write results as SQL create and insert statements\r\n",
      "                             which can be read by a database program such as\r\n",
      "                             SQLite.  If <file> is -, output is sent to STDOUT.\r\n",
      "   --sql-project=<name>      Use <name> as the project identifier for the\r\n",
      "                             current run.  Only valid with the --sql option.\r\n",
      "   --sql-append              Append SQL insert statements to the file specified\r\n",
      "                             by --sql and do not generate table creation\r\n",
      "                             statements.  Only valid with the --sql option.\r\n",
      "   --sum-one                 For plain text reports, show the SUM: output line\r\n",
      "                             even if only one input file is processed.\r\n",
      "   --xml                     Write the results in XML.\r\n",
      "   --xsl=<file>              Reference <file> as an XSL stylesheet within\r\n",
      "                             the XML output.  If <file> is 1 (numeric one),\r\n",
      "                             writes a default stylesheet, cloc.xsl (or\r\n",
      "                             cloc-diff.xsl if --diff is also given).\r\n",
      "                             This switch forces --xml on.\r\n",
      "   --yaml                    Write the results in YAML.\r\n",
      "\r\n"
     ]
    }
   ],
   "source": [
    "! cloc --help\n"
   ]
  },
  {
   "cell_type": "code",
   "execution_count": 4,
   "metadata": {},
   "outputs": [
    {
     "name": "stdout",
     "output_type": "stream",
     "text": [
      "     349 text files.\n",
      "     344 unique files.                                          \n",
      "     121 files ignored.\n",
      "\n",
      "files,language,blank,comment,code,\"http://cloc.sourceforge.net v 1.60  T=1.14 s (206.1 files/s, 39903.2 lines/s)\"\n",
      "158,Python,6647,6772,20066\n",
      "62,YAML,633,124,10028\n",
      "3,XML,2,0,704\n",
      "3,SQL,24,4,203\n",
      "7,Bourne Shell,52,24,173\n",
      "1,make,29,6,145\n",
      "1,DOS Batch,9,1,32\n",
      "1,HTML,1,0,6\n"
     ]
    }
   ],
   "source": [
    "! cloc --csv /opt/datacube-core-datacube-1.6rc1"
   ]
  },
  {
   "cell_type": "code",
   "execution_count": 5,
   "metadata": {},
   "outputs": [
    {
     "name": "stdout",
     "output_type": "stream",
     "text": [
      "     349 text files.\n",
      "     344 unique files.                                          \n",
      "     121 files ignored.\n",
      "\n",
      "files,language,blank,comment,code\n",
      "158,Python,6647,6772,20066\n",
      "62,YAML,633,124,10028\n",
      "3,XML,2,0,704\n",
      "3,SQL,24,4,203\n",
      "7,Bourne Shell,52,24,173\n",
      "1,make,29,6,145\n",
      "1,DOS Batch,9,1,32\n",
      "1,HTML,1,0,6\n"
     ]
    }
   ],
   "source": [
    "! cloc --csv /opt/datacube-core-datacube-1.6rc1 | sed -e 's/,\"http.*$//'"
   ]
  },
  {
   "cell_type": "code",
   "execution_count": 6,
   "metadata": {},
   "outputs": [
    {
     "name": "stdout",
     "output_type": "stream",
     "text": [
      "     349 text files.\n",
      "     344 unique files.                                          \n",
      "     121 files ignored.\n",
      "Wrote odc_cloc.csv\n"
     ]
    }
   ],
   "source": [
    "! cloc --csv /opt/datacube-core-datacube-1.6rc1 --out=odc_cloc.csv && sed -ie 's/,\"http.*$//' odc_cloc.csv"
   ]
  },
  {
   "cell_type": "code",
   "execution_count": 7,
   "metadata": {},
   "outputs": [
    {
     "name": "stdout",
     "output_type": "stream",
     "text": [
      "files,language,blank,comment,code\r\n",
      "158,Python,6647,6772,20066\r\n",
      "62,YAML,633,124,10028\r\n",
      "3,XML,2,0,704\r\n",
      "3,SQL,24,4,203\r\n",
      "7,Bourne Shell,52,24,173\r\n",
      "1,make,29,6,145\r\n",
      "1,DOS Batch,9,1,32\r\n",
      "1,HTML,1,0,6\r\n"
     ]
    }
   ],
   "source": [
    "!cat odc_cloc.csv"
   ]
  },
  {
   "cell_type": "code",
   "execution_count": 8,
   "metadata": {},
   "outputs": [
    {
     "data": {
      "text/html": [
       "<div>\n",
       "<style scoped>\n",
       "    .dataframe tbody tr th:only-of-type {\n",
       "        vertical-align: middle;\n",
       "    }\n",
       "\n",
       "    .dataframe tbody tr th {\n",
       "        vertical-align: top;\n",
       "    }\n",
       "\n",
       "    .dataframe thead th {\n",
       "        text-align: right;\n",
       "    }\n",
       "</style>\n",
       "<table border=\"1\" class=\"dataframe\">\n",
       "  <thead>\n",
       "    <tr style=\"text-align: right;\">\n",
       "      <th></th>\n",
       "      <th>files</th>\n",
       "      <th>language</th>\n",
       "      <th>blank</th>\n",
       "      <th>comment</th>\n",
       "      <th>code</th>\n",
       "    </tr>\n",
       "  </thead>\n",
       "  <tbody>\n",
       "    <tr>\n",
       "      <th>0</th>\n",
       "      <td>158</td>\n",
       "      <td>Python</td>\n",
       "      <td>6647</td>\n",
       "      <td>6772</td>\n",
       "      <td>20066</td>\n",
       "    </tr>\n",
       "    <tr>\n",
       "      <th>1</th>\n",
       "      <td>62</td>\n",
       "      <td>YAML</td>\n",
       "      <td>633</td>\n",
       "      <td>124</td>\n",
       "      <td>10028</td>\n",
       "    </tr>\n",
       "    <tr>\n",
       "      <th>2</th>\n",
       "      <td>3</td>\n",
       "      <td>XML</td>\n",
       "      <td>2</td>\n",
       "      <td>0</td>\n",
       "      <td>704</td>\n",
       "    </tr>\n",
       "    <tr>\n",
       "      <th>3</th>\n",
       "      <td>3</td>\n",
       "      <td>SQL</td>\n",
       "      <td>24</td>\n",
       "      <td>4</td>\n",
       "      <td>203</td>\n",
       "    </tr>\n",
       "    <tr>\n",
       "      <th>4</th>\n",
       "      <td>7</td>\n",
       "      <td>Bourne Shell</td>\n",
       "      <td>52</td>\n",
       "      <td>24</td>\n",
       "      <td>173</td>\n",
       "    </tr>\n",
       "    <tr>\n",
       "      <th>5</th>\n",
       "      <td>1</td>\n",
       "      <td>make</td>\n",
       "      <td>29</td>\n",
       "      <td>6</td>\n",
       "      <td>145</td>\n",
       "    </tr>\n",
       "    <tr>\n",
       "      <th>6</th>\n",
       "      <td>1</td>\n",
       "      <td>DOS Batch</td>\n",
       "      <td>9</td>\n",
       "      <td>1</td>\n",
       "      <td>32</td>\n",
       "    </tr>\n",
       "    <tr>\n",
       "      <th>7</th>\n",
       "      <td>1</td>\n",
       "      <td>HTML</td>\n",
       "      <td>1</td>\n",
       "      <td>0</td>\n",
       "      <td>6</td>\n",
       "    </tr>\n",
       "  </tbody>\n",
       "</table>\n",
       "</div>"
      ],
      "text/plain": [
       "   files      language  blank  comment   code\n",
       "0    158        Python   6647     6772  20066\n",
       "1     62          YAML    633      124  10028\n",
       "2      3           XML      2        0    704\n",
       "3      3           SQL     24        4    203\n",
       "4      7  Bourne Shell     52       24    173\n",
       "5      1          make     29        6    145\n",
       "6      1     DOS Batch      9        1     32\n",
       "7      1          HTML      1        0      6"
      ]
     },
     "execution_count": 8,
     "metadata": {},
     "output_type": "execute_result"
    }
   ],
   "source": [
    "import pandas as pd\n",
    "df = pd.read_csv(\n",
    "    'odc_cloc.csv',\n",
    ")\n",
    "df"
   ]
  },
  {
   "cell_type": "code",
   "execution_count": 9,
   "metadata": {},
   "outputs": [],
   "source": [
    "lang_code = ['language', 'code']\n",
    "\n",
    "my_col = df[lang_code]"
   ]
  },
  {
   "cell_type": "code",
   "execution_count": 10,
   "metadata": {},
   "outputs": [
    {
     "data": {
      "text/html": [
       "<div>\n",
       "<style scoped>\n",
       "    .dataframe tbody tr th:only-of-type {\n",
       "        vertical-align: middle;\n",
       "    }\n",
       "\n",
       "    .dataframe tbody tr th {\n",
       "        vertical-align: top;\n",
       "    }\n",
       "\n",
       "    .dataframe thead th {\n",
       "        text-align: right;\n",
       "    }\n",
       "</style>\n",
       "<table border=\"1\" class=\"dataframe\">\n",
       "  <thead>\n",
       "    <tr style=\"text-align: right;\">\n",
       "      <th></th>\n",
       "      <th>language</th>\n",
       "      <th>code</th>\n",
       "    </tr>\n",
       "  </thead>\n",
       "  <tbody>\n",
       "    <tr>\n",
       "      <th>0</th>\n",
       "      <td>Python</td>\n",
       "      <td>20066</td>\n",
       "    </tr>\n",
       "    <tr>\n",
       "      <th>1</th>\n",
       "      <td>YAML</td>\n",
       "      <td>10028</td>\n",
       "    </tr>\n",
       "    <tr>\n",
       "      <th>2</th>\n",
       "      <td>XML</td>\n",
       "      <td>704</td>\n",
       "    </tr>\n",
       "    <tr>\n",
       "      <th>3</th>\n",
       "      <td>SQL</td>\n",
       "      <td>203</td>\n",
       "    </tr>\n",
       "    <tr>\n",
       "      <th>4</th>\n",
       "      <td>Bourne Shell</td>\n",
       "      <td>173</td>\n",
       "    </tr>\n",
       "    <tr>\n",
       "      <th>5</th>\n",
       "      <td>make</td>\n",
       "      <td>145</td>\n",
       "    </tr>\n",
       "    <tr>\n",
       "      <th>6</th>\n",
       "      <td>DOS Batch</td>\n",
       "      <td>32</td>\n",
       "    </tr>\n",
       "    <tr>\n",
       "      <th>7</th>\n",
       "      <td>HTML</td>\n",
       "      <td>6</td>\n",
       "    </tr>\n",
       "  </tbody>\n",
       "</table>\n",
       "</div>"
      ],
      "text/plain": [
       "       language   code\n",
       "0        Python  20066\n",
       "1          YAML  10028\n",
       "2           XML    704\n",
       "3           SQL    203\n",
       "4  Bourne Shell    173\n",
       "5          make    145\n",
       "6     DOS Batch     32\n",
       "7          HTML      6"
      ]
     },
     "execution_count": 10,
     "metadata": {},
     "output_type": "execute_result"
    }
   ],
   "source": [
    "my_col"
   ]
  },
  {
   "cell_type": "code",
   "execution_count": 11,
   "metadata": {},
   "outputs": [
    {
     "data": {
      "text/html": [
       "<div>\n",
       "<style scoped>\n",
       "    .dataframe tbody tr th:only-of-type {\n",
       "        vertical-align: middle;\n",
       "    }\n",
       "\n",
       "    .dataframe tbody tr th {\n",
       "        vertical-align: top;\n",
       "    }\n",
       "\n",
       "    .dataframe thead th {\n",
       "        text-align: right;\n",
       "    }\n",
       "</style>\n",
       "<table border=\"1\" class=\"dataframe\">\n",
       "  <thead>\n",
       "    <tr style=\"text-align: right;\">\n",
       "      <th></th>\n",
       "      <th>code</th>\n",
       "    </tr>\n",
       "  </thead>\n",
       "  <tbody>\n",
       "    <tr>\n",
       "      <th>count</th>\n",
       "      <td>8.000000</td>\n",
       "    </tr>\n",
       "    <tr>\n",
       "      <th>mean</th>\n",
       "      <td>3919.625000</td>\n",
       "    </tr>\n",
       "    <tr>\n",
       "      <th>std</th>\n",
       "      <td>7376.471261</td>\n",
       "    </tr>\n",
       "    <tr>\n",
       "      <th>min</th>\n",
       "      <td>6.000000</td>\n",
       "    </tr>\n",
       "    <tr>\n",
       "      <th>25%</th>\n",
       "      <td>116.750000</td>\n",
       "    </tr>\n",
       "    <tr>\n",
       "      <th>50%</th>\n",
       "      <td>188.000000</td>\n",
       "    </tr>\n",
       "    <tr>\n",
       "      <th>75%</th>\n",
       "      <td>3035.000000</td>\n",
       "    </tr>\n",
       "    <tr>\n",
       "      <th>max</th>\n",
       "      <td>20066.000000</td>\n",
       "    </tr>\n",
       "  </tbody>\n",
       "</table>\n",
       "</div>"
      ],
      "text/plain": [
       "               code\n",
       "count      8.000000\n",
       "mean    3919.625000\n",
       "std     7376.471261\n",
       "min        6.000000\n",
       "25%      116.750000\n",
       "50%      188.000000\n",
       "75%     3035.000000\n",
       "max    20066.000000"
      ]
     },
     "execution_count": 11,
     "metadata": {},
     "output_type": "execute_result"
    }
   ],
   "source": [
    "my_col.describe()"
   ]
  },
  {
   "cell_type": "code",
   "execution_count": 12,
   "metadata": {},
   "outputs": [
    {
     "data": {
      "text/html": [
       "<script>requirejs.config({paths: { 'plotly': ['https://cdn.plot.ly/plotly-latest.min']},});if(!window.Plotly) {{require(['plotly'],function(plotly) {window.Plotly=plotly;});}}</script>"
      ],
      "text/vnd.plotly.v1+html": [
       "<script>requirejs.config({paths: { 'plotly': ['https://cdn.plot.ly/plotly-latest.min']},});if(!window.Plotly) {{require(['plotly'],function(plotly) {window.Plotly=plotly;});}}</script>"
      ]
     },
     "metadata": {},
     "output_type": "display_data"
    },
    {
     "data": {
      "application/vnd.plotly.v1+json": {
       "data": [
        {
         "marker": {
          "color": [
           5,
           6.25,
           7.5,
           8.75,
           10
          ],
          "colorscale": "Jet"
         },
         "type": "bar",
         "uid": "079fb35a-d6f3-11e8-bffc-52540069414d",
         "x": [
          "Python",
          "YAML",
          "XML",
          "SQL",
          "Bourne Shell",
          "make",
          "DOS Batch",
          "HTML"
         ],
         "y": [
          20066,
          10028,
          704,
          203,
          173,
          145,
          32,
          6
         ]
        }
       ],
       "layout": {
        "title": "Lines of Code for Open Data Cube",
        "xaxis": {
         "title": "Language"
        },
        "yaxis": {
         "title": "lines of code"
        }
       }
      },
      "text/html": [
       "<div id=\"f9d59738-b76c-4f89-8c3e-a715e854183a\" style=\"height: 525px; width: 100%;\" class=\"plotly-graph-div\"></div><script type=\"text/javascript\">require([\"plotly\"], function(Plotly) { window.PLOTLYENV=window.PLOTLYENV || {};window.PLOTLYENV.BASE_URL=\"https://plot.ly\";Plotly.newPlot(\"f9d59738-b76c-4f89-8c3e-a715e854183a\", [{\"marker\": {\"color\": [5.0, 6.25, 7.5, 8.75, 10.0], \"colorscale\": \"Jet\"}, \"y\": [20066, 10028, 704, 203, 173, 145, 32, 6], \"x\": [\"Python\", \"YAML\", \"XML\", \"SQL\", \"Bourne Shell\", \"make\", \"DOS Batch\", \"HTML\"], \"uid\": \"079fb35a-d6f3-11e8-bffc-52540069414d\", \"type\": \"bar\"}], {\"title\": \"Lines of Code for Open Data Cube\", \"yaxis\": {\"title\": \"lines of code\"}, \"xaxis\": {\"title\": \"Language\"}}, {\"linkText\": \"Export to plot.ly\", \"showLink\": false})});</script>"
      ],
      "text/vnd.plotly.v1+html": [
       "<div id=\"f9d59738-b76c-4f89-8c3e-a715e854183a\" style=\"height: 525px; width: 100%;\" class=\"plotly-graph-div\"></div><script type=\"text/javascript\">require([\"plotly\"], function(Plotly) { window.PLOTLYENV=window.PLOTLYENV || {};window.PLOTLYENV.BASE_URL=\"https://plot.ly\";Plotly.newPlot(\"f9d59738-b76c-4f89-8c3e-a715e854183a\", [{\"marker\": {\"color\": [5.0, 6.25, 7.5, 8.75, 10.0], \"colorscale\": \"Jet\"}, \"y\": [20066, 10028, 704, 203, 173, 145, 32, 6], \"x\": [\"Python\", \"YAML\", \"XML\", \"SQL\", \"Bourne Shell\", \"make\", \"DOS Batch\", \"HTML\"], \"uid\": \"079fb35a-d6f3-11e8-bffc-52540069414d\", \"type\": \"bar\"}], {\"title\": \"Lines of Code for Open Data Cube\", \"yaxis\": {\"title\": \"lines of code\"}, \"xaxis\": {\"title\": \"Language\"}}, {\"linkText\": \"Export to plot.ly\", \"showLink\": false})});</script>"
      ]
     },
     "metadata": {},
     "output_type": "display_data"
    }
   ],
   "source": [
    "import numpy as np\n",
    "import plotly.graph_objs as go\n",
    "import plotly.offline as py\n",
    "\n",
    "py.init_notebook_mode(connected=True)\n",
    "\n",
    "\n",
    "\n",
    "cmax=10\n",
    "cmin=5\n",
    "color_s = np.linspace(cmin, cmax, 5)\n",
    "\n",
    "data = [\n",
    "    go.Bar(\n",
    "        x=my_col.language,          \n",
    "        y=my_col['code'],\n",
    "        marker=dict(\n",
    "            colorscale='Jet',\n",
    "            color=color_s,\n",
    "        ),\n",
    "    )\n",
    "]\n",
    "\n",
    "layout = {\n",
    "    'title': 'Lines of Code for Open Data Cube',\n",
    "    'xaxis': {'title': 'Language'},\n",
    "    'yaxis': {'title': \"lines of code\"}\n",
    "}\n",
    "\n",
    "fig = go.Figure(data=data, layout=layout)\n",
    "py.iplot(fig, show_link=False)"
   ]
  },
  {
   "cell_type": "code",
   "execution_count": 13,
   "metadata": {},
   "outputs": [
    {
     "name": "stdout",
     "output_type": "stream",
     "text": [
      "\r\n",
      "Usage: cloc [options] <file(s)/dir(s)> | <set 1> <set 2> | <report files>\r\n",
      "\r\n",
      " Count, or compute differences of, physical lines of source code in the\r\n",
      " given files (may be archives such as compressed tarballs or zip files)\r\n",
      " and/or recursively below the given directories.\r\n",
      "\r\n",
      " \u001b[1mInput Options\u001b[0m\r\n",
      "   --extract-with=<cmd>      This option is only needed if cloc is unable\r\n",
      "                             to figure out how to extract the contents of\r\n",
      "                             the input file(s) by itself.\r\n",
      "                             Use <cmd> to extract binary archive files (e.g.:\r\n",
      "                             .tar.gz, .zip, .Z).  Use the literal '>FILE<' as\r\n",
      "                             a stand-in for the actual file(s) to be\r\n",
      "                             extracted.  For example, to count lines of code\r\n",
      "                             in the input files\r\n",
      "                                gcc-4.2.tar.gz  perl-5.8.8.tar.gz\r\n",
      "                             on Unix use\r\n",
      "                               --extract-with='gzip -dc >FILE< | tar xf -'\r\n",
      "                             or, if you have GNU tar,\r\n",
      "                               --extract-with='tar zxf >FILE<'\r\n",
      "                             and on Windows use, for example:\r\n",
      "                               --extract-with=\"\\\"c:\\Program Files\\WinZip\\WinZip32.exe\\\" -e -o >FILE< .\"\r\n",
      "                             (if WinZip is installed there).\r\n",
      "   --list-file=<file>        Take the list of file and/or directory names to\r\n",
      "                             process from <file> which has one file/directory\r\n",
      "                             name per line.  See also --exclude-list-file.\r\n",
      "   --unicode                 Check binary files to see if they contain Unicode\r\n",
      "                             expanded ASCII text.  This causes performance to\r\n",
      "                             drop noticably.\r\n",
      "\r\n",
      " \u001b[1mProcessing Options\u001b[0m\r\n",
      "   --autoconf                Count .in files (as processed by GNU autoconf) of\r\n",
      "                             recognized languages.\r\n",
      "   --by-file                 Report results for every source file encountered.\r\n",
      "   --by-file-by-lang         Report results for every source file encountered\r\n",
      "                             in addition to reporting by language.\r\n",
      "   --diff <set1> <set2>      Compute differences in code and comments between\r\n",
      "                             source file(s) of <set1> and <set2>.  The inputs\r\n",
      "                             may be pairs of files, directories, or archives.\r\n",
      "                             Use --diff-alignment to generate a list showing\r\n",
      "                             which file pairs where compared.  See also\r\n",
      "                             --ignore-case, --ignore-whitespace.\r\n",
      "   --diff-timeout <N>        Ignore files which take more than <N> seconds\r\n",
      "                             to process.  Default is 10 seconds.\r\n",
      "                             (Large files with many repeated lines can cause \r\n",
      "                             Algorithm::Diff::sdiff() to take hours.)\r\n",
      "   --follow-links            [Unix only] Follow symbolic links to directories\r\n",
      "                             (sym links to files are always followed).\r\n",
      "   --force-lang=<lang>[,<ext>]\r\n",
      "                             Process all files that have a <ext> extension\r\n",
      "                             with the counter for language <lang>.  For\r\n",
      "                             example, to count all .f files with the\r\n",
      "                             Fortran 90 counter (which expects files to\r\n",
      "                             end with .f90) instead of the default Fortran 77\r\n",
      "                             counter, use\r\n",
      "                               --force-lang=\"Fortran 90\",f\r\n",
      "                             If <ext> is omitted, every file will be counted\r\n",
      "                             with the <lang> counter.  This option can be\r\n",
      "                             specified multiple times (but that is only\r\n",
      "                             useful when <ext> is given each time).\r\n",
      "                             See also --script-lang, --lang-no-ext.\r\n",
      "   --force-lang-def=<file>   Load language processing filters from <file>,\r\n",
      "                             then use these filters instead of the built-in\r\n",
      "                             filters.  Note:  languages which map to the same \r\n",
      "                             file extension (for example:\r\n",
      "                             MATLAB/Objective C/MUMPS;  Pascal/PHP; \r\n",
      "                             Lisp/OpenCL) will be ignored as these require \r\n",
      "                             additional processing that is not expressed in \r\n",
      "                             language definition files.  Use --read-lang-def \r\n",
      "                             to define new language filters without replacing \r\n",
      "                             built-in filters (see also --write-lang-def).\r\n",
      "   --ignore-whitespace       Ignore horizontal white space when comparing files\r\n",
      "                             with --diff.  See also --ignore-case.\r\n",
      "   --ignore-case             Ignore changes in case; consider upper- and lower-\r\n",
      "                             case letters equivalent when comparing files with\r\n",
      "                             --diff.  See also --ignore-whitespace.\r\n",
      "   --lang-no-ext=<lang>      Count files without extensions using the <lang>\r\n",
      "                             counter.  This option overrides internal logic\r\n",
      "                             for files without extensions (where such files\r\n",
      "                             are checked against known scripting languages\r\n",
      "                             by examining the first line for #!).  See also\r\n",
      "                             --force-lang, --script-lang.\r\n",
      "   --max-file-size=<MB>      Skip files larger than <MB> megabytes when\r\n",
      "                             traversing directories.  By default, <MB>=100.\r\n",
      "                             cloc's memory requirement is roughly twenty times \r\n",
      "                             larger than the largest file so running with \r\n",
      "                             files larger than 100 MB on a computer with less \r\n",
      "                             than 2 GB of memory will cause problems.  \r\n",
      "                             Note:  this check does not apply to files \r\n",
      "                             explicitly passed as command line arguments.\r\n",
      "   --read-binary-files       Process binary files in addition to text files.\r\n",
      "                             This is usually a bad idea and should only be\r\n",
      "                             attempted with text files that have embedded\r\n",
      "                             binary data.\r\n",
      "   --read-lang-def=<file>    Load new language processing filters from <file>\r\n",
      "                             and merge them with those already known to cloc.  \r\n",
      "                             If <file> defines a language cloc already knows \r\n",
      "                             about, cloc's definition will take precedence.  \r\n",
      "                             Use --force-lang-def to over-ride cloc's \r\n",
      "                             definitions (see also --write-lang-def ).\r\n",
      "   --script-lang=<lang>,<s>  Process all files that invoke <s> as a #!\r\n",
      "                             scripting language with the counter for language\r\n",
      "                             <lang>.  For example, files that begin with\r\n",
      "                                #!/usr/local/bin/perl5.8.8\r\n",
      "                             will be counted with the Perl counter by using\r\n",
      "                                --script-lang=Perl,perl5.8.8\r\n",
      "                             The language name is case insensitive but the\r\n",
      "                             name of the script language executable, <s>,\r\n",
      "                             must have the right case.  This option can be\r\n",
      "                             specified multiple times.  See also --force-lang,\r\n",
      "                             --lang-no-ext.\r\n",
      "   --sdir=<dir>              Use <dir> as the scratch directory instead of\r\n",
      "                             letting File::Temp chose the location.  Files\r\n",
      "                             written to this location are not removed at\r\n",
      "                             the end of the run (as they are with File::Temp).\r\n",
      "   --skip-uniqueness         Skip the file uniqueness check.  This will give\r\n",
      "                             a performance boost at the expense of counting\r\n",
      "                             files with identical contents multiple times\r\n",
      "                             (if such duplicates exist).\r\n",
      "   --stdin-name=<file>       Give a file name to use to determine the language\r\n",
      "                             for standard input.\r\n",
      "   --strip-comments=<ext>    For each file processed, write to the current\r\n",
      "                             directory a version of the file which has blank\r\n",
      "                             lines and comments removed.  The name of each\r\n",
      "                             stripped file is the original file name with\r\n",
      "                             .<ext> appended to it.  It is written to the\r\n",
      "                             current directory unless --original-dir is on.\r\n",
      "   --original-dir            [Only effective in combination with\r\n",
      "                             --strip-comments]  Write the stripped files\r\n",
      "                             to the same directory as the original files.\r\n",
      "   --sum-reports             Input arguments are report files previously\r\n",
      "                             created with the --report-file option.  Makes\r\n",
      "                             a cumulative set of results containing the\r\n",
      "                             sum of data from the individual report files.\r\n",
      "   --unix                    Override the operating system autodetection\r\n",
      "                             logic and run in UNIX mode.  See also\r\n",
      "                             --windows, --show-os.\r\n",
      "   --windows                 Override the operating system autodetection\r\n",
      "                             logic and run in Microsoft Windows mode.\r\n",
      "                             See also --unix, --show-os.\r\n",
      "\r\n",
      " \u001b[1mFilter Options\u001b[0m\r\n",
      "   --exclude-dir=<D1>[,D2,]  Exclude the given comma separated directories\r\n",
      "                             D1, D2, D3, et cetera, from being scanned.  For\r\n",
      "                             example  --exclude-dir=.cache,test  will skip\r\n",
      "                             all files that have /.cache/ or /test/ as part\r\n",
      "                             of their path.\r\n",
      "                             Directories named .bzr, .cvs, .hg, .git, and\r\n",
      "                             .svn are always excluded.\r\n",
      "   --exclude-ext=<ext1>[,<ext2>[...]]\r\n",
      "                             Do not count files having the given file name\r\n",
      "                             extensions.\r\n",
      "   --exclude-lang=<L1>[,L2,] Exclude the given comma separated languages\r\n",
      "                             L1, L2, L3, et cetera, from being counted.\r\n",
      "   --exclude-list-file=<file>  Ignore files and/or directories whose names\r\n",
      "                             appear in <file>.  <file> should have one entry\r\n",
      "                             per line.  Relative path names will be resolved\r\n",
      "                             starting from the directory where cloc is\r\n",
      "                             invoked.  See also --list-file.\r\n",
      "   --match-d=<regex>         Only count files in directories matching the Perl\r\n",
      "                             regex.  For example\r\n",
      "                               --match-d='/(src|include)/'\r\n",
      "                             only counts files in directories containing\r\n",
      "                             /src/ or /include/.\r\n",
      "   --not-match-d=<regex>     Count all files except those in directories\r\n",
      "                             matching the Perl regex.\r\n",
      "   --match-f=<regex>         Only count files whose basenames match the Perl\r\n",
      "                             regex.  For example\r\n",
      "                               --match-f='^[Ww]idget'\r\n",
      "                             only counts files that start with Widget or widget.\r\n",
      "   --not-match-f=<regex>     Count all files except those whose basenames\r\n",
      "                             match the Perl regex.\r\n",
      "   --skip-archive=<regex>    Ignore files that end with the given Perl regular\r\n",
      "                             expression.  For example, if given\r\n",
      "                               --skip-archive='(zip|tar(.(gz|Z|bz2|xz|7z))?)'\r\n",
      "                             the code will skip files that end with .zip,\r\n",
      "                             .tar, .tar.gz, .tar.Z, .tar.bz2, .tar.xz, and\r\n",
      "                             .tar.7z.\r\n",
      "   --skip-win-hidden         On Windows, ignore hidden files.\r\n",
      "\r\n",
      " \u001b[1mDebug Options\u001b[0m\r\n",
      "   --categorized=<file>      Save names of categorized files to <file>.\r\n",
      "   --counted=<file>          Save names of processed source files to <file>.\r\n",
      "   --diff-alignment=<file>   Write to <file> a list of files and file pairs\r\n",
      "                             showing which files were added, removed, and/or\r\n",
      "                             compared during a run with --diff.  This switch\r\n",
      "                             forces the --diff mode on.\r\n",
      "   --help                    Print this usage information and exit.\r\n",
      "   --found=<file>            Save names of every file found to <file>.\r\n",
      "   --ignored=<file>          Save names of ignored files and the reason they\r\n",
      "                             were ignored to <file>.\r\n",
      "   --print-filter-stages     Print to STDOUT processed source code before and\r\n",
      "                             after each filter is applied.\r\n",
      "   --show-ext[=<ext>]        Print information about all known (or just the\r\n",
      "                             given) file extensions and exit.\r\n",
      "   --show-lang[=<lang>]      Print information about all known (or just the\r\n",
      "                             given) languages and exit.\r\n",
      "   --show-os                 Print the value of the operating system mode\r\n",
      "                             and exit.  See also --unix, --windows.\r\n",
      "   -v[=<n>]                  Verbose switch (optional numeric value).\r\n",
      "   --version                 Print the version of this program and exit.\r\n",
      "   --write-lang-def=<file>   Writes to <file> the language processing filters\r\n",
      "                             then exits.  Useful as a first step to creating\r\n",
      "                             custom language definitions (see also\r\n",
      "                             --force-lang-def, --read-lang-def).\r\n",
      "\r\n",
      " \u001b[1mOutput Options\u001b[0m\r\n",
      "   --3                       Print third-generation language output.\r\n",
      "                             (This option can cause report summation to fail\r\n",
      "                             if some reports were produced with this option\r\n",
      "                             while others were produced without it.)\r\n",
      "   --progress-rate=<n>       Show progress update after every <n> files are\r\n",
      "                             processed (default <n>=100).  Set <n> to 0 to\r\n",
      "                             suppress progress output (useful when redirecting\r\n",
      "                             output to STDOUT).\r\n",
      "   --quiet                   Suppress all information messages except for\r\n",
      "                             the final report.\r\n",
      "   --report-file=<file>      Write the results to <file> instead of STDOUT.\r\n",
      "   --out=<file>              Synonym for --report-file=<file>.\r\n",
      "   --csv                     Write the results as comma separated values.\r\n",
      "   --csv-delimiter=<C>       Use the character <C> as the delimiter for comma\r\n",
      "                             separated files instead of ,.  This switch forces\r\n",
      "                             --csv to be on.\r\n",
      "   --sql=<file>              Write results as SQL create and insert statements\r\n",
      "                             which can be read by a database program such as\r\n",
      "                             SQLite.  If <file> is -, output is sent to STDOUT.\r\n",
      "   --sql-project=<name>      Use <name> as the project identifier for the\r\n",
      "                             current run.  Only valid with the --sql option.\r\n",
      "   --sql-append              Append SQL insert statements to the file specified\r\n",
      "                             by --sql and do not generate table creation\r\n",
      "                             statements.  Only valid with the --sql option.\r\n",
      "   --sum-one                 For plain text reports, show the SUM: output line\r\n",
      "                             even if only one input file is processed.\r\n",
      "   --xml                     Write the results in XML.\r\n",
      "   --xsl=<file>              Reference <file> as an XSL stylesheet within\r\n",
      "                             the XML output.  If <file> is 1 (numeric one),\r\n",
      "                             writes a default stylesheet, cloc.xsl (or\r\n",
      "                             cloc-diff.xsl if --diff is also given).\r\n",
      "                             This switch forces --xml on.\r\n",
      "   --yaml                    Write the results in YAML.\r\n",
      "\r\n"
     ]
    }
   ],
   "source": [
    "!cloc --help\n"
   ]
  },
  {
   "cell_type": "code",
   "execution_count": 14,
   "metadata": {},
   "outputs": [],
   "source": [
    "import subprocess\n",
    "\n",
    "def cloc_me(dirc):\n",
    "    cmd = 'cloc --csv'\n",
    "    # dirc = ' /opt/odc-lcmap'\n",
    "    cmd = cmd + ' ' + dirc\n",
    "    # print(\"HELLO\", cmd)\n",
    "    p = subprocess.Popen(cmd, shell=True, stdout=subprocess.PIPE);\n",
    "    cloc_output = p.stdout.read()\n",
    "    # print(cloc_output)\n",
    "    cloc_str = cloc_output.decode('utf-8')\n",
    "    lines = cloc_str.split('\\n')\n",
    "    for ln in lines:\n",
    "        if 'Python' in ln:\n",
    "            # print (ln)\n",
    "            stuff = ln.split(',')\n",
    "            return(stuff[4])"
   ]
  },
  {
   "cell_type": "code",
   "execution_count": 15,
   "metadata": {},
   "outputs": [
    {
     "name": "stdout",
     "output_type": "stream",
     "text": [
      "2617\n",
      "3128\n",
      "20066\n",
      "3051\n",
      "2528\n",
      "786\n",
      "456\n"
     ]
    }
   ],
   "source": [
    "loc = cloc_me('/opt/odc-lcmap')\n",
    "print(loc)\n",
    "loc = cloc_me('/opt/espaDog')\n",
    "print(loc)\n",
    "loc = cloc_me('/opt/datacube-core-datacube-1.6rc1')\n",
    "print(loc)\n",
    "loc = cloc_me('/opt/index')\n",
    "print(loc)\n",
    "loc = cloc_me('/opt/dogs2')\n",
    "print(loc)\n",
    "loc = cloc_me('/opt/dogARD')\n",
    "print(loc)\n",
    "loc = cloc_me('/opt/cubeOD')\n",
    "print(loc)\n",
    "\n",
    "\n",
    "\n"
   ]
  },
  {
   "cell_type": "code",
   "execution_count": 16,
   "metadata": {},
   "outputs": [
    {
     "name": "stdout",
     "output_type": "stream",
     "text": [
      "execution 38\n",
      "storage 744\n",
      "ui 577\n",
      "utils 936\n",
      "api 856\n",
      "index 857\n",
      "scripts 1115\n",
      "drivers 2727\n",
      "model 500\n"
     ]
    }
   ],
   "source": [
    "import os\n",
    "\n",
    "the_dir='/opt/datacube-core-datacube-1.6rc1/datacube'\n",
    "dr_list = []\n",
    "cloc_list = []\n",
    "# traverse root directory, and list directories as dirs and files as files\n",
    "for root, dirs, files in os.walk(the_dir):\n",
    "    path = root.split(os.sep)\n",
    "    if len(path) < 5:\n",
    "        #print((len(path) - 1) * '---', os.path.basename(root), len(path), dirs)\n",
    "        for dr in dirs:\n",
    "            if '__pycache__' not in dr:\n",
    "                #print(dr)\n",
    "                dirc = the_dir + '/' + dr\n",
    "                ploc = cloc_me(dirc)\n",
    "                print(dr, ploc)\n",
    "                dr_list.append(dr)\n",
    "                cloc_list.append(ploc)\n",
    "    # for file in files:\n",
    "        # print(len(path) * '---', file)"
   ]
  },
  {
   "cell_type": "code",
   "execution_count": 17,
   "metadata": {},
   "outputs": [
    {
     "data": {
      "text/plain": [
       "['execution',\n",
       " 'storage',\n",
       " 'ui',\n",
       " 'utils',\n",
       " 'api',\n",
       " 'index',\n",
       " 'scripts',\n",
       " 'drivers',\n",
       " 'model']"
      ]
     },
     "execution_count": 17,
     "metadata": {},
     "output_type": "execute_result"
    }
   ],
   "source": [
    "dr_list"
   ]
  },
  {
   "cell_type": "code",
   "execution_count": 18,
   "metadata": {},
   "outputs": [
    {
     "data": {
      "text/plain": [
       "['38', '744', '577', '936', '856', '857', '1115', '2727', '500']"
      ]
     },
     "execution_count": 18,
     "metadata": {},
     "output_type": "execute_result"
    }
   ],
   "source": [
    "cloc_list"
   ]
  },
  {
   "cell_type": "code",
   "execution_count": 19,
   "metadata": {},
   "outputs": [
    {
     "data": {
      "text/plain": [
       "directory    object\n",
       "lines         int32\n",
       "dtype: object"
      ]
     },
     "execution_count": 19,
     "metadata": {},
     "output_type": "execute_result"
    }
   ],
   "source": [
    "d = {\"directory\": dr_list, 'lines': cloc_list}\n",
    "import pandas as pd\n",
    "\n",
    "df = pd.DataFrame(d)\n",
    "df\n",
    "\n",
    "ndf = df.astype(dtype={\"lines\":\"int32\"})\n",
    "\n",
    "ndf.dtypes"
   ]
  },
  {
   "cell_type": "code",
   "execution_count": 20,
   "metadata": {},
   "outputs": [
    {
     "data": {
      "application/vnd.plotly.v1+json": {
       "data": [
        {
         "marker": {
          "color": [
           100,
           111.11111111111111,
           122.22222222222223,
           133.33333333333331,
           144.44444444444446,
           155.55555555555554,
           166.66666666666666,
           177.77777777777777,
           188.88888888888889,
           200
          ],
          "colorscale": "Jet"
         },
         "type": "bar",
         "uid": "0b40abea-d6f3-11e8-bffc-52540069414d",
         "x": [
          "execution",
          "storage",
          "ui",
          "utils",
          "api",
          "index",
          "scripts",
          "drivers",
          "model"
         ],
         "y": [
          "38",
          "744",
          "577",
          "936",
          "856",
          "857",
          "1115",
          "2727",
          "500"
         ]
        }
       ],
       "layout": {
        "title": "Lines of Code for Open Data Cube",
        "xaxis": {
         "title": "Language"
        },
        "yaxis": {
         "title": "lines of code"
        }
       }
      },
      "text/html": [
       "<div id=\"5967e84c-b477-4fc5-9e45-2b0b70ad764f\" style=\"height: 525px; width: 100%;\" class=\"plotly-graph-div\"></div><script type=\"text/javascript\">require([\"plotly\"], function(Plotly) { window.PLOTLYENV=window.PLOTLYENV || {};window.PLOTLYENV.BASE_URL=\"https://plot.ly\";Plotly.newPlot(\"5967e84c-b477-4fc5-9e45-2b0b70ad764f\", [{\"marker\": {\"color\": [100.0, 111.11111111111111, 122.22222222222223, 133.33333333333331, 144.44444444444446, 155.55555555555554, 166.66666666666666, 177.77777777777777, 188.88888888888889, 200.0], \"colorscale\": \"Jet\"}, \"y\": [\"38\", \"744\", \"577\", \"936\", \"856\", \"857\", \"1115\", \"2727\", \"500\"], \"x\": [\"execution\", \"storage\", \"ui\", \"utils\", \"api\", \"index\", \"scripts\", \"drivers\", \"model\"], \"uid\": \"0b40abea-d6f3-11e8-bffc-52540069414d\", \"type\": \"bar\"}], {\"title\": \"Lines of Code for Open Data Cube\", \"yaxis\": {\"title\": \"lines of code\"}, \"xaxis\": {\"title\": \"Language\"}}, {\"linkText\": \"Export to plot.ly\", \"showLink\": false})});</script>"
      ],
      "text/vnd.plotly.v1+html": [
       "<div id=\"5967e84c-b477-4fc5-9e45-2b0b70ad764f\" style=\"height: 525px; width: 100%;\" class=\"plotly-graph-div\"></div><script type=\"text/javascript\">require([\"plotly\"], function(Plotly) { window.PLOTLYENV=window.PLOTLYENV || {};window.PLOTLYENV.BASE_URL=\"https://plot.ly\";Plotly.newPlot(\"5967e84c-b477-4fc5-9e45-2b0b70ad764f\", [{\"marker\": {\"color\": [100.0, 111.11111111111111, 122.22222222222223, 133.33333333333331, 144.44444444444446, 155.55555555555554, 166.66666666666666, 177.77777777777777, 188.88888888888889, 200.0], \"colorscale\": \"Jet\"}, \"y\": [\"38\", \"744\", \"577\", \"936\", \"856\", \"857\", \"1115\", \"2727\", \"500\"], \"x\": [\"execution\", \"storage\", \"ui\", \"utils\", \"api\", \"index\", \"scripts\", \"drivers\", \"model\"], \"uid\": \"0b40abea-d6f3-11e8-bffc-52540069414d\", \"type\": \"bar\"}], {\"title\": \"Lines of Code for Open Data Cube\", \"yaxis\": {\"title\": \"lines of code\"}, \"xaxis\": {\"title\": \"Language\"}}, {\"linkText\": \"Export to plot.ly\", \"showLink\": false})});</script>"
      ]
     },
     "metadata": {},
     "output_type": "display_data"
    }
   ],
   "source": [
    "cmax=200\n",
    "cmin=100\n",
    "color_s = np.linspace(cmin, cmax, 10)\n",
    "\n",
    "data = [\n",
    "    go.Bar(\n",
    "        x=df.directory,          \n",
    "        y=df.lines,\n",
    "        marker=dict(\n",
    "            colorscale='Jet',\n",
    "            color=color_s,\n",
    "        ),\n",
    "    )\n",
    "]\n",
    "\n",
    "layout = {\n",
    "    'title': 'Lines of Code for Open Data Cube',\n",
    "    'xaxis': {'title': 'Language'},\n",
    "    'yaxis': {'title': \"lines of code\"}\n",
    "}\n",
    "\n",
    "fig = go.Figure(data=data, layout=layout)\n",
    "py.iplot(fig, show_link=False)"
   ]
  },
  {
   "cell_type": "code",
   "execution_count": 21,
   "metadata": {},
   "outputs": [],
   "source": [
    "ndf2 = ndf.sort_values(['lines'], ascending=False)"
   ]
  },
  {
   "cell_type": "code",
   "execution_count": 22,
   "metadata": {},
   "outputs": [
    {
     "data": {
      "text/html": [
       "<div>\n",
       "<style scoped>\n",
       "    .dataframe tbody tr th:only-of-type {\n",
       "        vertical-align: middle;\n",
       "    }\n",
       "\n",
       "    .dataframe tbody tr th {\n",
       "        vertical-align: top;\n",
       "    }\n",
       "\n",
       "    .dataframe thead th {\n",
       "        text-align: right;\n",
       "    }\n",
       "</style>\n",
       "<table border=\"1\" class=\"dataframe\">\n",
       "  <thead>\n",
       "    <tr style=\"text-align: right;\">\n",
       "      <th></th>\n",
       "      <th>directory</th>\n",
       "      <th>lines</th>\n",
       "    </tr>\n",
       "  </thead>\n",
       "  <tbody>\n",
       "    <tr>\n",
       "      <th>7</th>\n",
       "      <td>drivers</td>\n",
       "      <td>2727</td>\n",
       "    </tr>\n",
       "    <tr>\n",
       "      <th>6</th>\n",
       "      <td>scripts</td>\n",
       "      <td>1115</td>\n",
       "    </tr>\n",
       "    <tr>\n",
       "      <th>3</th>\n",
       "      <td>utils</td>\n",
       "      <td>936</td>\n",
       "    </tr>\n",
       "    <tr>\n",
       "      <th>5</th>\n",
       "      <td>index</td>\n",
       "      <td>857</td>\n",
       "    </tr>\n",
       "    <tr>\n",
       "      <th>4</th>\n",
       "      <td>api</td>\n",
       "      <td>856</td>\n",
       "    </tr>\n",
       "    <tr>\n",
       "      <th>1</th>\n",
       "      <td>storage</td>\n",
       "      <td>744</td>\n",
       "    </tr>\n",
       "    <tr>\n",
       "      <th>2</th>\n",
       "      <td>ui</td>\n",
       "      <td>577</td>\n",
       "    </tr>\n",
       "    <tr>\n",
       "      <th>8</th>\n",
       "      <td>model</td>\n",
       "      <td>500</td>\n",
       "    </tr>\n",
       "    <tr>\n",
       "      <th>0</th>\n",
       "      <td>execution</td>\n",
       "      <td>38</td>\n",
       "    </tr>\n",
       "  </tbody>\n",
       "</table>\n",
       "</div>"
      ],
      "text/plain": [
       "   directory  lines\n",
       "7    drivers   2727\n",
       "6    scripts   1115\n",
       "3      utils    936\n",
       "5      index    857\n",
       "4        api    856\n",
       "1    storage    744\n",
       "2         ui    577\n",
       "8      model    500\n",
       "0  execution     38"
      ]
     },
     "execution_count": 22,
     "metadata": {},
     "output_type": "execute_result"
    }
   ],
   "source": [
    "ndf2"
   ]
  },
  {
   "cell_type": "code",
   "execution_count": 23,
   "metadata": {},
   "outputs": [
    {
     "data": {
      "text/plain": [
       "directory    object\n",
       "lines         int32\n",
       "dtype: object"
      ]
     },
     "execution_count": 23,
     "metadata": {},
     "output_type": "execute_result"
    }
   ],
   "source": [
    "ndf.dtypes"
   ]
  },
  {
   "cell_type": "code",
   "execution_count": 24,
   "metadata": {},
   "outputs": [],
   "source": [
    "# help!"
   ]
  },
  {
   "cell_type": "code",
   "execution_count": 25,
   "metadata": {},
   "outputs": [
    {
     "data": {
      "application/vnd.plotly.v1+json": {
       "data": [
        {
         "marker": {
          "color": [
           100,
           111.11111111111111,
           122.22222222222223,
           133.33333333333331,
           144.44444444444446,
           155.55555555555554,
           166.66666666666666,
           177.77777777777777,
           188.88888888888889,
           200
          ],
          "colorscale": "Jet"
         },
         "type": "bar",
         "uid": "0b40abeb-d6f3-11e8-bffc-52540069414d",
         "x": [
          "drivers",
          "scripts",
          "utils",
          "index",
          "api",
          "storage",
          "ui",
          "model",
          "execution"
         ],
         "y": [
          2727,
          1115,
          936,
          857,
          856,
          744,
          577,
          500,
          38
         ]
        }
       ],
       "layout": {
        "title": "Lines of Code for Open Data Cube",
        "xaxis": {
         "title": "Directory"
        },
        "yaxis": {
         "title": "lines of code"
        }
       }
      },
      "text/html": [
       "<div id=\"b310521a-4512-4e7b-8b02-efa1e0efca01\" style=\"height: 525px; width: 100%;\" class=\"plotly-graph-div\"></div><script type=\"text/javascript\">require([\"plotly\"], function(Plotly) { window.PLOTLYENV=window.PLOTLYENV || {};window.PLOTLYENV.BASE_URL=\"https://plot.ly\";Plotly.newPlot(\"b310521a-4512-4e7b-8b02-efa1e0efca01\", [{\"marker\": {\"color\": [100.0, 111.11111111111111, 122.22222222222223, 133.33333333333331, 144.44444444444446, 155.55555555555554, 166.66666666666666, 177.77777777777777, 188.88888888888889, 200.0], \"colorscale\": \"Jet\"}, \"y\": [2727, 1115, 936, 857, 856, 744, 577, 500, 38], \"x\": [\"drivers\", \"scripts\", \"utils\", \"index\", \"api\", \"storage\", \"ui\", \"model\", \"execution\"], \"uid\": \"0b40abeb-d6f3-11e8-bffc-52540069414d\", \"type\": \"bar\"}], {\"title\": \"Lines of Code for Open Data Cube\", \"yaxis\": {\"title\": \"lines of code\"}, \"xaxis\": {\"title\": \"Directory\"}}, {\"linkText\": \"Export to plot.ly\", \"showLink\": false})});</script>"
      ],
      "text/vnd.plotly.v1+html": [
       "<div id=\"b310521a-4512-4e7b-8b02-efa1e0efca01\" style=\"height: 525px; width: 100%;\" class=\"plotly-graph-div\"></div><script type=\"text/javascript\">require([\"plotly\"], function(Plotly) { window.PLOTLYENV=window.PLOTLYENV || {};window.PLOTLYENV.BASE_URL=\"https://plot.ly\";Plotly.newPlot(\"b310521a-4512-4e7b-8b02-efa1e0efca01\", [{\"marker\": {\"color\": [100.0, 111.11111111111111, 122.22222222222223, 133.33333333333331, 144.44444444444446, 155.55555555555554, 166.66666666666666, 177.77777777777777, 188.88888888888889, 200.0], \"colorscale\": \"Jet\"}, \"y\": [2727, 1115, 936, 857, 856, 744, 577, 500, 38], \"x\": [\"drivers\", \"scripts\", \"utils\", \"index\", \"api\", \"storage\", \"ui\", \"model\", \"execution\"], \"uid\": \"0b40abeb-d6f3-11e8-bffc-52540069414d\", \"type\": \"bar\"}], {\"title\": \"Lines of Code for Open Data Cube\", \"yaxis\": {\"title\": \"lines of code\"}, \"xaxis\": {\"title\": \"Directory\"}}, {\"linkText\": \"Export to plot.ly\", \"showLink\": false})});</script>"
      ]
     },
     "metadata": {},
     "output_type": "display_data"
    }
   ],
   "source": [
    "cmax=200\n",
    "cmin=100\n",
    "color_s = np.linspace(cmin, cmax, 10)\n",
    "\n",
    "data = [\n",
    "    go.Bar(\n",
    "        x=ndf2.directory,          \n",
    "        y=ndf2.lines,\n",
    "        marker=dict(\n",
    "            colorscale='Jet',\n",
    "            color=color_s,\n",
    "        ),\n",
    "    )\n",
    "]\n",
    "\n",
    "layout = {\n",
    "    'title': 'Lines of Code for Open Data Cube',\n",
    "    'xaxis': {'title': 'Directory'},\n",
    "    'yaxis': {'title': \"lines of code\"}\n",
    "}\n",
    "\n",
    "fig = go.Figure(data=data, layout=layout)\n",
    "py.iplot(fig, show_link=False)"
   ]
  },
  {
   "cell_type": "code",
   "execution_count": 27,
   "metadata": {},
   "outputs": [
    {
     "data": {
      "text/html": [
       "<div>\n",
       "<style scoped>\n",
       "    .dataframe tbody tr th:only-of-type {\n",
       "        vertical-align: middle;\n",
       "    }\n",
       "\n",
       "    .dataframe tbody tr th {\n",
       "        vertical-align: top;\n",
       "    }\n",
       "\n",
       "    .dataframe thead th {\n",
       "        text-align: right;\n",
       "    }\n",
       "</style>\n",
       "<table border=\"1\" class=\"dataframe\">\n",
       "  <thead>\n",
       "    <tr style=\"text-align: right;\">\n",
       "      <th></th>\n",
       "      <th>directory</th>\n",
       "      <th>lines</th>\n",
       "    </tr>\n",
       "  </thead>\n",
       "  <tbody>\n",
       "    <tr>\n",
       "      <th>7</th>\n",
       "      <td>drivers</td>\n",
       "      <td>2727</td>\n",
       "    </tr>\n",
       "    <tr>\n",
       "      <th>6</th>\n",
       "      <td>scripts</td>\n",
       "      <td>1115</td>\n",
       "    </tr>\n",
       "    <tr>\n",
       "      <th>3</th>\n",
       "      <td>utils</td>\n",
       "      <td>936</td>\n",
       "    </tr>\n",
       "    <tr>\n",
       "      <th>5</th>\n",
       "      <td>index</td>\n",
       "      <td>857</td>\n",
       "    </tr>\n",
       "    <tr>\n",
       "      <th>4</th>\n",
       "      <td>api</td>\n",
       "      <td>856</td>\n",
       "    </tr>\n",
       "    <tr>\n",
       "      <th>1</th>\n",
       "      <td>storage</td>\n",
       "      <td>744</td>\n",
       "    </tr>\n",
       "    <tr>\n",
       "      <th>2</th>\n",
       "      <td>ui</td>\n",
       "      <td>577</td>\n",
       "    </tr>\n",
       "    <tr>\n",
       "      <th>8</th>\n",
       "      <td>model</td>\n",
       "      <td>500</td>\n",
       "    </tr>\n",
       "    <tr>\n",
       "      <th>0</th>\n",
       "      <td>execution</td>\n",
       "      <td>38</td>\n",
       "    </tr>\n",
       "  </tbody>\n",
       "</table>\n",
       "</div>"
      ],
      "text/plain": [
       "   directory  lines\n",
       "7    drivers   2727\n",
       "6    scripts   1115\n",
       "3      utils    936\n",
       "5      index    857\n",
       "4        api    856\n",
       "1    storage    744\n",
       "2         ui    577\n",
       "8      model    500\n",
       "0  execution     38"
      ]
     },
     "execution_count": 27,
     "metadata": {},
     "output_type": "execute_result"
    }
   ],
   "source": [
    "ndf2"
   ]
  },
  {
   "cell_type": "code",
   "execution_count": null,
   "metadata": {},
   "outputs": [],
   "source": []
  }
 ],
 "metadata": {
  "kernelspec": {
   "display_name": "Python 3",
   "language": "python",
   "name": "python3"
  },
  "language_info": {
   "codemirror_mode": {
    "name": "ipython",
    "version": 3
   },
   "file_extension": ".py",
   "mimetype": "text/x-python",
   "name": "python",
   "nbconvert_exporter": "python",
   "pygments_lexer": "ipython3",
   "version": "3.5.2"
  }
 },
 "nbformat": 4,
 "nbformat_minor": 2
}
