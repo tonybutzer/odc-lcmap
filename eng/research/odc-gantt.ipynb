{
 "cells": [
  {
   "cell_type": "code",
   "execution_count": 24,
   "metadata": {},
   "outputs": [
    {
     "name": "stdout",
     "output_type": "stream",
     "text": [
      "3.3.0\n"
     ]
    },
    {
     "data": {
      "text/html": [
       "<script>requirejs.config({paths: { 'plotly': ['https://cdn.plot.ly/plotly-latest.min']},});if(!window.Plotly) {{require(['plotly'],function(plotly) {window.Plotly=plotly;});}}</script>"
      ],
      "text/vnd.plotly.v1+html": [
       "<script>requirejs.config({paths: { 'plotly': ['https://cdn.plot.ly/plotly-latest.min']},});if(!window.Plotly) {{require(['plotly'],function(plotly) {window.Plotly=plotly;});}}</script>"
      ]
     },
     "metadata": {},
     "output_type": "display_data"
    },
    {
     "data": {
      "application/vnd.plotly.v1+json": {
       "data": [
        {
         "marker": {
          "color": "white"
         },
         "name": "",
         "type": "scatter",
         "uid": "693afa1d-d2d1-11e8-bffc-52540069414d",
         "x": [
          "2019-09-01",
          "2019-09-10"
         ],
         "y": [
          0,
          0
         ]
        },
        {
         "marker": {
          "color": "white"
         },
         "name": "",
         "type": "scatter",
         "uid": "693afa1e-d2d1-11e8-bffc-52540069414d",
         "x": [
          "2019-08-01",
          "2019-08-30"
         ],
         "y": [
          1,
          1
         ]
        },
        {
         "marker": {
          "color": "white"
         },
         "name": "",
         "type": "scatter",
         "uid": "693afa1f-d2d1-11e8-bffc-52540069414d",
         "x": [
          "2019-07-01",
          "2019-07-30"
         ],
         "y": [
          2,
          2
         ]
        },
        {
         "marker": {
          "color": "white"
         },
         "name": "",
         "type": "scatter",
         "uid": "693afa20-d2d1-11e8-bffc-52540069414d",
         "x": [
          "2019-06-01",
          "2019-06-30"
         ],
         "y": [
          3,
          3
         ]
        },
        {
         "marker": {
          "color": "white"
         },
         "name": "",
         "type": "scatter",
         "uid": "693afa21-d2d1-11e8-bffc-52540069414d",
         "x": [
          "2019-05-01",
          "2019-05-30"
         ],
         "y": [
          4,
          4
         ]
        },
        {
         "marker": {
          "color": "white"
         },
         "name": "",
         "type": "scatter",
         "uid": "693afa22-d2d1-11e8-bffc-52540069414d",
         "x": [
          "2019-04-01",
          "2019-04-30"
         ],
         "y": [
          5,
          5
         ]
        },
        {
         "marker": {
          "color": "white"
         },
         "name": "",
         "type": "scatter",
         "uid": "693afa23-d2d1-11e8-bffc-52540069414d",
         "x": [
          "2019-03-01",
          "2019-03-30"
         ],
         "y": [
          6,
          6
         ]
        },
        {
         "marker": {
          "color": "white"
         },
         "name": "",
         "type": "scatter",
         "uid": "693afa24-d2d1-11e8-bffc-52540069414d",
         "x": [
          "2019-02-01",
          "2019-02-28"
         ],
         "y": [
          7,
          7
         ]
        },
        {
         "marker": {
          "color": "white"
         },
         "name": "",
         "type": "scatter",
         "uid": "693afa25-d2d1-11e8-bffc-52540069414d",
         "x": [
          "2019-01-01",
          "2019-01-30"
         ],
         "y": [
          8,
          8
         ]
        },
        {
         "marker": {
          "color": "white"
         },
         "name": "",
         "type": "scatter",
         "uid": "693afa26-d2d1-11e8-bffc-52540069414d",
         "x": [
          "2019-01-01",
          "2019-01-30"
         ],
         "y": [
          9,
          9
         ]
        },
        {
         "marker": {
          "color": "white"
         },
         "name": "",
         "type": "scatter",
         "uid": "693afa27-d2d1-11e8-bffc-52540069414d",
         "x": [
          "2018-12-01",
          "2018-12-30"
         ],
         "y": [
          10,
          10
         ]
        },
        {
         "marker": {
          "color": "white"
         },
         "name": "",
         "type": "scatter",
         "uid": "693afa28-d2d1-11e8-bffc-52540069414d",
         "x": [
          "2018-11-01",
          "2018-11-30"
         ],
         "y": [
          11,
          11
         ]
        },
        {
         "marker": {
          "color": "white"
         },
         "name": "",
         "type": "scatter",
         "uid": "693afa29-d2d1-11e8-bffc-52540069414d",
         "x": [
          "2018-10-21",
          "2018-10-30"
         ],
         "y": [
          12,
          12
         ]
        },
        {
         "marker": {
          "color": "white"
         },
         "name": "",
         "type": "scatter",
         "uid": "693afa2a-d2d1-11e8-bffc-52540069414d",
         "x": [
          "2018-10-01",
          "2018-10-30"
         ],
         "y": [
          13,
          13
         ]
        },
        {
         "marker": {
          "color": "white"
         },
         "name": "",
         "type": "scatter",
         "uid": "693afa2b-d2d1-11e8-bffc-52540069414d",
         "x": [
          "2018-10-01",
          "2018-10-30"
         ],
         "y": [
          14,
          14
         ]
        },
        {
         "marker": {
          "color": "white"
         },
         "name": "",
         "type": "scatter",
         "uid": "693afa2c-d2d1-11e8-bffc-52540069414d",
         "x": [
          "2018-09-16",
          "2018-09-30"
         ],
         "y": [
          15,
          15
         ]
        },
        {
         "marker": {
          "color": "white"
         },
         "name": "",
         "type": "scatter",
         "uid": "693afa2d-d2d1-11e8-bffc-52540069414d",
         "x": [
          "2018-09-05",
          "2018-09-30"
         ],
         "y": [
          16,
          16
         ]
        },
        {
         "marker": {
          "color": "white"
         },
         "name": "",
         "type": "scatter",
         "uid": "693afa2e-d2d1-11e8-bffc-52540069414d",
         "x": [
          "2018-09-01",
          "2018-09-10"
         ],
         "y": [
          17,
          17
         ]
        },
        {
         "marker": {
          "cmax": 100,
          "cmin": 0,
          "color": "white",
          "colorscale": [
           [
            0,
            "rgb(255.0, 238.0, 0.0)"
           ],
           [
            1,
            "rgb(0.0, 136.0, 255.0)"
           ]
          ],
          "showscale": true
         },
         "name": "",
         "type": "scatter",
         "uid": "693afa2f-d2d1-11e8-bffc-52540069414d",
         "x": [
          "2018-09-01",
          "2018-09-01"
         ],
         "y": [
          17,
          17
         ]
        }
       ],
       "layout": {
        "height": 600,
        "hovermode": "closest",
        "shapes": [
         {
          "fillcolor": "rgb(255.0, 238.0, 0.0)",
          "line": {
           "width": 0
          },
          "opacity": 1,
          "type": "rect",
          "x0": "2019-09-01",
          "x1": "2019-09-10",
          "xref": "x",
          "y0": -0.2,
          "y1": 0.2,
          "yref": "y"
         },
         {
          "fillcolor": "rgb(255.0, 238.0, 0.0)",
          "line": {
           "width": 0
          },
          "opacity": 1,
          "type": "rect",
          "x0": "2019-08-01",
          "x1": "2019-08-30",
          "xref": "x",
          "y0": 0.8,
          "y1": 1.2,
          "yref": "y"
         },
         {
          "fillcolor": "rgb(255.0, 238.0, 0.0)",
          "line": {
           "width": 0
          },
          "opacity": 1,
          "type": "rect",
          "x0": "2019-07-01",
          "x1": "2019-07-30",
          "xref": "x",
          "y0": 1.8,
          "y1": 2.2,
          "yref": "y"
         },
         {
          "fillcolor": "rgb(255.0, 238.0, 0.0)",
          "line": {
           "width": 0
          },
          "opacity": 1,
          "type": "rect",
          "x0": "2019-06-01",
          "x1": "2019-06-30",
          "xref": "x",
          "y0": 2.8,
          "y1": 3.2,
          "yref": "y"
         },
         {
          "fillcolor": "rgb(255.0, 238.0, 0.0)",
          "line": {
           "width": 0
          },
          "opacity": 1,
          "type": "rect",
          "x0": "2019-05-01",
          "x1": "2019-05-30",
          "xref": "x",
          "y0": 3.8,
          "y1": 4.2,
          "yref": "y"
         },
         {
          "fillcolor": "rgb(255.0, 238.0, 0.0)",
          "line": {
           "width": 0
          },
          "opacity": 1,
          "type": "rect",
          "x0": "2019-04-01",
          "x1": "2019-04-30",
          "xref": "x",
          "y0": 4.8,
          "y1": 5.2,
          "yref": "y"
         },
         {
          "fillcolor": "rgb(229.5, 227.8, 25.5)",
          "line": {
           "width": 0
          },
          "opacity": 1,
          "type": "rect",
          "x0": "2019-03-01",
          "x1": "2019-03-30",
          "xref": "x",
          "y0": 5.8,
          "y1": 6.2,
          "yref": "y"
         },
         {
          "fillcolor": "rgb(153.0, 197.2, 102.0)",
          "line": {
           "width": 0
          },
          "opacity": 1,
          "type": "rect",
          "x0": "2019-02-01",
          "x1": "2019-02-28",
          "xref": "x",
          "y0": 6.8,
          "y1": 7.2,
          "yref": "y"
         },
         {
          "fillcolor": "rgb(255.0, 238.0, 0.0)",
          "line": {
           "width": 0
          },
          "opacity": 1,
          "type": "rect",
          "x0": "2019-01-01",
          "x1": "2019-01-30",
          "xref": "x",
          "y0": 7.8,
          "y1": 8.2,
          "yref": "y"
         },
         {
          "fillcolor": "rgb(255.0, 238.0, 0.0)",
          "line": {
           "width": 0
          },
          "opacity": 1,
          "type": "rect",
          "x0": "2019-01-01",
          "x1": "2019-01-30",
          "xref": "x",
          "y0": 8.8,
          "y1": 9.2,
          "yref": "y"
         },
         {
          "fillcolor": "rgb(186.14999999999998, 210.46, 68.85000000000001)",
          "line": {
           "width": 0
          },
          "opacity": 1,
          "type": "rect",
          "x0": "2018-12-01",
          "x1": "2018-12-30",
          "xref": "x",
          "y0": 9.8,
          "y1": 10.2,
          "yref": "y"
         },
         {
          "fillcolor": "rgb(170.85, 204.34, 84.15)",
          "line": {
           "width": 0
          },
          "opacity": 1,
          "type": "rect",
          "x0": "2018-11-01",
          "x1": "2018-11-30",
          "xref": "x",
          "y0": 10.8,
          "y1": 11.2,
          "yref": "y"
         },
         {
          "fillcolor": "rgb(30.599999999999994, 148.24, 224.4)",
          "line": {
           "width": 0
          },
          "opacity": 1,
          "type": "rect",
          "x0": "2018-10-21",
          "x1": "2018-10-30",
          "xref": "x",
          "y0": 11.8,
          "y1": 12.2,
          "yref": "y"
         },
         {
          "fillcolor": "rgb(198.9, 215.56, 56.1)",
          "line": {
           "width": 0
          },
          "opacity": 1,
          "type": "rect",
          "x0": "2018-10-01",
          "x1": "2018-10-30",
          "xref": "x",
          "y0": 12.8,
          "y1": 13.2,
          "yref": "y"
         },
         {
          "fillcolor": "rgb(89.25, 171.7, 165.75)",
          "line": {
           "width": 0
          },
          "opacity": 1,
          "type": "rect",
          "x0": "2018-10-01",
          "x1": "2018-10-30",
          "xref": "x",
          "y0": 13.8,
          "y1": 14.2,
          "yref": "y"
         },
         {
          "fillcolor": "rgb(204.0, 217.6, 51.0)",
          "line": {
           "width": 0
          },
          "opacity": 1,
          "type": "rect",
          "x0": "2018-09-16",
          "x1": "2018-09-30",
          "xref": "x",
          "y0": 14.8,
          "y1": 15.2,
          "yref": "y"
         },
         {
          "fillcolor": "rgb(0.0, 136.0, 255.0)",
          "line": {
           "width": 0
          },
          "opacity": 1,
          "type": "rect",
          "x0": "2018-09-05",
          "x1": "2018-09-30",
          "xref": "x",
          "y0": 15.8,
          "y1": 16.2,
          "yref": "y"
         },
         {
          "fillcolor": "rgb(0.0, 136.0, 255.0)",
          "line": {
           "width": 0
          },
          "opacity": 1,
          "type": "rect",
          "x0": "2018-09-01",
          "x1": "2018-09-10",
          "xref": "x",
          "y0": 16.8,
          "y1": 17.2,
          "yref": "y"
         }
        ],
        "showlegend": false,
        "title": "Gantt Chart",
        "width": 900,
        "xaxis": {
         "rangeselector": {
          "buttons": [
           {
            "count": 7,
            "label": "1w",
            "step": "day",
            "stepmode": "backward"
           },
           {
            "count": 1,
            "label": "1m",
            "step": "month",
            "stepmode": "backward"
           },
           {
            "count": 6,
            "label": "6m",
            "step": "month",
            "stepmode": "backward"
           },
           {
            "count": 1,
            "label": "YTD",
            "step": "year",
            "stepmode": "todate"
           },
           {
            "count": 1,
            "label": "1y",
            "step": "year",
            "stepmode": "backward"
           },
           {
            "step": "all"
           }
          ]
         },
         "showgrid": true,
         "type": "date",
         "zeroline": false
        },
        "yaxis": {
         "autorange": false,
         "range": [
          -1,
          19
         ],
         "showgrid": true,
         "ticktext": [
          "2020-odc-plan",
          "wms-explore",
          "odc-iwds",
          "lc-aws-demo",
          "lcmap-cloud",
          "lcmap-profile",
          "odc-lite-p2",
          "odc-conference",
          "Clojure",
          "lcmap-deep",
          "odc-lite",
          "pyccd",
          "folium-intro",
          "lcmap-intro",
          "Visualization",
          "Clojure",
          "espaDog",
          "2019 Planning"
         ],
         "tickvals": [
          0,
          1,
          2,
          3,
          4,
          5,
          6,
          7,
          8,
          9,
          10,
          11,
          12,
          13,
          14,
          15,
          16,
          17
         ],
         "zeroline": false
        }
       }
      },
      "text/html": [
       "<div id=\"47c18bb3-7c30-47f9-b529-4b68365d275b\" style=\"height: 600px; width: 900px;\" class=\"plotly-graph-div\"></div><script type=\"text/javascript\">require([\"plotly\"], function(Plotly) { window.PLOTLYENV=window.PLOTLYENV || {};window.PLOTLYENV.BASE_URL=\"https://plot.ly\";Plotly.newPlot(\"47c18bb3-7c30-47f9-b529-4b68365d275b\", [{\"uid\": \"693afa30-d2d1-11e8-bffc-52540069414d\", \"type\": \"scatter\", \"name\": \"\", \"marker\": {\"color\": \"white\"}, \"y\": [0, 0], \"x\": [\"2019-09-01\", \"2019-09-10\"]}, {\"uid\": \"693afa31-d2d1-11e8-bffc-52540069414d\", \"type\": \"scatter\", \"name\": \"\", \"marker\": {\"color\": \"white\"}, \"y\": [1, 1], \"x\": [\"2019-08-01\", \"2019-08-30\"]}, {\"uid\": \"693afa32-d2d1-11e8-bffc-52540069414d\", \"type\": \"scatter\", \"name\": \"\", \"marker\": {\"color\": \"white\"}, \"y\": [2, 2], \"x\": [\"2019-07-01\", \"2019-07-30\"]}, {\"uid\": \"693afa33-d2d1-11e8-bffc-52540069414d\", \"type\": \"scatter\", \"name\": \"\", \"marker\": {\"color\": \"white\"}, \"y\": [3, 3], \"x\": [\"2019-06-01\", \"2019-06-30\"]}, {\"uid\": \"693afa34-d2d1-11e8-bffc-52540069414d\", \"type\": \"scatter\", \"name\": \"\", \"marker\": {\"color\": \"white\"}, \"y\": [4, 4], \"x\": [\"2019-05-01\", \"2019-05-30\"]}, {\"uid\": \"693afa35-d2d1-11e8-bffc-52540069414d\", \"type\": \"scatter\", \"name\": \"\", \"marker\": {\"color\": \"white\"}, \"y\": [5, 5], \"x\": [\"2019-04-01\", \"2019-04-30\"]}, {\"uid\": \"693afa36-d2d1-11e8-bffc-52540069414d\", \"type\": \"scatter\", \"name\": \"\", \"marker\": {\"color\": \"white\"}, \"y\": [6, 6], \"x\": [\"2019-03-01\", \"2019-03-30\"]}, {\"uid\": \"693afa37-d2d1-11e8-bffc-52540069414d\", \"type\": \"scatter\", \"name\": \"\", \"marker\": {\"color\": \"white\"}, \"y\": [7, 7], \"x\": [\"2019-02-01\", \"2019-02-28\"]}, {\"uid\": \"693afa38-d2d1-11e8-bffc-52540069414d\", \"type\": \"scatter\", \"name\": \"\", \"marker\": {\"color\": \"white\"}, \"y\": [8, 8], \"x\": [\"2019-01-01\", \"2019-01-30\"]}, {\"uid\": \"693afa39-d2d1-11e8-bffc-52540069414d\", \"type\": \"scatter\", \"name\": \"\", \"marker\": {\"color\": \"white\"}, \"y\": [9, 9], \"x\": [\"2019-01-01\", \"2019-01-30\"]}, {\"uid\": \"693afa3a-d2d1-11e8-bffc-52540069414d\", \"type\": \"scatter\", \"name\": \"\", \"marker\": {\"color\": \"white\"}, \"y\": [10, 10], \"x\": [\"2018-12-01\", \"2018-12-30\"]}, {\"uid\": \"693afa3b-d2d1-11e8-bffc-52540069414d\", \"type\": \"scatter\", \"name\": \"\", \"marker\": {\"color\": \"white\"}, \"y\": [11, 11], \"x\": [\"2018-11-01\", \"2018-11-30\"]}, {\"uid\": \"693afa3c-d2d1-11e8-bffc-52540069414d\", \"type\": \"scatter\", \"name\": \"\", \"marker\": {\"color\": \"white\"}, \"y\": [12, 12], \"x\": [\"2018-10-21\", \"2018-10-30\"]}, {\"uid\": \"693afa3d-d2d1-11e8-bffc-52540069414d\", \"type\": \"scatter\", \"name\": \"\", \"marker\": {\"color\": \"white\"}, \"y\": [13, 13], \"x\": [\"2018-10-01\", \"2018-10-30\"]}, {\"uid\": \"693afa3e-d2d1-11e8-bffc-52540069414d\", \"type\": \"scatter\", \"name\": \"\", \"marker\": {\"color\": \"white\"}, \"y\": [14, 14], \"x\": [\"2018-10-01\", \"2018-10-30\"]}, {\"uid\": \"693afa3f-d2d1-11e8-bffc-52540069414d\", \"type\": \"scatter\", \"name\": \"\", \"marker\": {\"color\": \"white\"}, \"y\": [15, 15], \"x\": [\"2018-09-16\", \"2018-09-30\"]}, {\"uid\": \"693afa40-d2d1-11e8-bffc-52540069414d\", \"type\": \"scatter\", \"name\": \"\", \"marker\": {\"color\": \"white\"}, \"y\": [16, 16], \"x\": [\"2018-09-05\", \"2018-09-30\"]}, {\"uid\": \"693afa41-d2d1-11e8-bffc-52540069414d\", \"type\": \"scatter\", \"name\": \"\", \"marker\": {\"color\": \"white\"}, \"y\": [17, 17], \"x\": [\"2018-09-01\", \"2018-09-10\"]}, {\"uid\": \"693afa42-d2d1-11e8-bffc-52540069414d\", \"type\": \"scatter\", \"name\": \"\", \"marker\": {\"showscale\": true, \"color\": \"white\", \"cmin\": 0, \"colorscale\": [[0, \"rgb(255.0, 238.0, 0.0)\"], [1, \"rgb(0.0, 136.0, 255.0)\"]], \"cmax\": 100}, \"y\": [17, 17], \"x\": [\"2018-09-01\", \"2018-09-01\"]}], {\"width\": 900, \"showlegend\": false, \"title\": \"Gantt Chart\", \"shapes\": [{\"xref\": \"x\", \"type\": \"rect\", \"y1\": 0.2, \"x1\": \"2019-09-10\", \"opacity\": 1, \"fillcolor\": \"rgb(255.0, 238.0, 0.0)\", \"x0\": \"2019-09-01\", \"line\": {\"width\": 0}, \"y0\": -0.2, \"yref\": \"y\"}, {\"xref\": \"x\", \"type\": \"rect\", \"y1\": 1.2, \"x1\": \"2019-08-30\", \"opacity\": 1, \"fillcolor\": \"rgb(255.0, 238.0, 0.0)\", \"x0\": \"2019-08-01\", \"line\": {\"width\": 0}, \"y0\": 0.8, \"yref\": \"y\"}, {\"xref\": \"x\", \"type\": \"rect\", \"y1\": 2.2, \"x1\": \"2019-07-30\", \"opacity\": 1, \"fillcolor\": \"rgb(255.0, 238.0, 0.0)\", \"x0\": \"2019-07-01\", \"line\": {\"width\": 0}, \"y0\": 1.8, \"yref\": \"y\"}, {\"xref\": \"x\", \"type\": \"rect\", \"y1\": 3.2, \"x1\": \"2019-06-30\", \"opacity\": 1, \"fillcolor\": \"rgb(255.0, 238.0, 0.0)\", \"x0\": \"2019-06-01\", \"line\": {\"width\": 0}, \"y0\": 2.8, \"yref\": \"y\"}, {\"xref\": \"x\", \"type\": \"rect\", \"y1\": 4.2, \"x1\": \"2019-05-30\", \"opacity\": 1, \"fillcolor\": \"rgb(255.0, 238.0, 0.0)\", \"x0\": \"2019-05-01\", \"line\": {\"width\": 0}, \"y0\": 3.8, \"yref\": \"y\"}, {\"xref\": \"x\", \"type\": \"rect\", \"y1\": 5.2, \"x1\": \"2019-04-30\", \"opacity\": 1, \"fillcolor\": \"rgb(255.0, 238.0, 0.0)\", \"x0\": \"2019-04-01\", \"line\": {\"width\": 0}, \"y0\": 4.8, \"yref\": \"y\"}, {\"xref\": \"x\", \"type\": \"rect\", \"y1\": 6.2, \"x1\": \"2019-03-30\", \"opacity\": 1, \"fillcolor\": \"rgb(229.5, 227.8, 25.5)\", \"x0\": \"2019-03-01\", \"line\": {\"width\": 0}, \"y0\": 5.8, \"yref\": \"y\"}, {\"xref\": \"x\", \"type\": \"rect\", \"y1\": 7.2, \"x1\": \"2019-02-28\", \"opacity\": 1, \"fillcolor\": \"rgb(153.0, 197.2, 102.0)\", \"x0\": \"2019-02-01\", \"line\": {\"width\": 0}, \"y0\": 6.8, \"yref\": \"y\"}, {\"xref\": \"x\", \"type\": \"rect\", \"y1\": 8.2, \"x1\": \"2019-01-30\", \"opacity\": 1, \"fillcolor\": \"rgb(255.0, 238.0, 0.0)\", \"x0\": \"2019-01-01\", \"line\": {\"width\": 0}, \"y0\": 7.8, \"yref\": \"y\"}, {\"xref\": \"x\", \"type\": \"rect\", \"y1\": 9.2, \"x1\": \"2019-01-30\", \"opacity\": 1, \"fillcolor\": \"rgb(255.0, 238.0, 0.0)\", \"x0\": \"2019-01-01\", \"line\": {\"width\": 0}, \"y0\": 8.8, \"yref\": \"y\"}, {\"xref\": \"x\", \"type\": \"rect\", \"y1\": 10.2, \"x1\": \"2018-12-30\", \"opacity\": 1, \"fillcolor\": \"rgb(186.14999999999998, 210.46, 68.85000000000001)\", \"x0\": \"2018-12-01\", \"line\": {\"width\": 0}, \"y0\": 9.8, \"yref\": \"y\"}, {\"xref\": \"x\", \"type\": \"rect\", \"y1\": 11.2, \"x1\": \"2018-11-30\", \"opacity\": 1, \"fillcolor\": \"rgb(170.85, 204.34, 84.15)\", \"x0\": \"2018-11-01\", \"line\": {\"width\": 0}, \"y0\": 10.8, \"yref\": \"y\"}, {\"xref\": \"x\", \"type\": \"rect\", \"y1\": 12.2, \"x1\": \"2018-10-30\", \"opacity\": 1, \"fillcolor\": \"rgb(30.599999999999994, 148.24, 224.4)\", \"x0\": \"2018-10-21\", \"line\": {\"width\": 0}, \"y0\": 11.8, \"yref\": \"y\"}, {\"xref\": \"x\", \"type\": \"rect\", \"y1\": 13.2, \"x1\": \"2018-10-30\", \"opacity\": 1, \"fillcolor\": \"rgb(198.9, 215.56, 56.1)\", \"x0\": \"2018-10-01\", \"line\": {\"width\": 0}, \"y0\": 12.8, \"yref\": \"y\"}, {\"xref\": \"x\", \"type\": \"rect\", \"y1\": 14.2, \"x1\": \"2018-10-30\", \"opacity\": 1, \"fillcolor\": \"rgb(89.25, 171.7, 165.75)\", \"x0\": \"2018-10-01\", \"line\": {\"width\": 0}, \"y0\": 13.8, \"yref\": \"y\"}, {\"xref\": \"x\", \"type\": \"rect\", \"y1\": 15.2, \"x1\": \"2018-09-30\", \"opacity\": 1, \"fillcolor\": \"rgb(204.0, 217.6, 51.0)\", \"x0\": \"2018-09-16\", \"line\": {\"width\": 0}, \"y0\": 14.8, \"yref\": \"y\"}, {\"xref\": \"x\", \"type\": \"rect\", \"y1\": 16.2, \"x1\": \"2018-09-30\", \"opacity\": 1, \"fillcolor\": \"rgb(0.0, 136.0, 255.0)\", \"x0\": \"2018-09-05\", \"line\": {\"width\": 0}, \"y0\": 15.8, \"yref\": \"y\"}, {\"xref\": \"x\", \"type\": \"rect\", \"y1\": 17.2, \"x1\": \"2018-09-10\", \"opacity\": 1, \"fillcolor\": \"rgb(0.0, 136.0, 255.0)\", \"x0\": \"2018-09-01\", \"line\": {\"width\": 0}, \"y0\": 16.8, \"yref\": \"y\"}], \"hovermode\": \"closest\", \"yaxis\": {\"range\": [-1, 19], \"zeroline\": false, \"tickvals\": [0, 1, 2, 3, 4, 5, 6, 7, 8, 9, 10, 11, 12, 13, 14, 15, 16, 17], \"showgrid\": true, \"ticktext\": [\"2020-odc-plan\", \"wms-explore\", \"odc-iwds\", \"lc-aws-demo\", \"lcmap-cloud\", \"lcmap-profile\", \"odc-lite-p2\", \"odc-conference\", \"Clojure\", \"lcmap-deep\", \"odc-lite\", \"pyccd\", \"folium-intro\", \"lcmap-intro\", \"Visualization\", \"Clojure\", \"espaDog\", \"2019 Planning\"], \"autorange\": false}, \"xaxis\": {\"type\": \"date\", \"zeroline\": false, \"rangeselector\": {\"buttons\": [{\"count\": 7, \"label\": \"1w\", \"step\": \"day\", \"stepmode\": \"backward\"}, {\"count\": 1, \"label\": \"1m\", \"step\": \"month\", \"stepmode\": \"backward\"}, {\"count\": 6, \"label\": \"6m\", \"step\": \"month\", \"stepmode\": \"backward\"}, {\"count\": 1, \"label\": \"YTD\", \"step\": \"year\", \"stepmode\": \"todate\"}, {\"count\": 1, \"label\": \"1y\", \"step\": \"year\", \"stepmode\": \"backward\"}, {\"step\": \"all\"}]}, \"showgrid\": true}, \"height\": 600}, {\"linkText\": \"Export to plot.ly\", \"showLink\": true})});</script>"
      ],
      "text/vnd.plotly.v1+html": [
       "<div id=\"47c18bb3-7c30-47f9-b529-4b68365d275b\" style=\"height: 600px; width: 900px;\" class=\"plotly-graph-div\"></div><script type=\"text/javascript\">require([\"plotly\"], function(Plotly) { window.PLOTLYENV=window.PLOTLYENV || {};window.PLOTLYENV.BASE_URL=\"https://plot.ly\";Plotly.newPlot(\"47c18bb3-7c30-47f9-b529-4b68365d275b\", [{\"uid\": \"693afa30-d2d1-11e8-bffc-52540069414d\", \"type\": \"scatter\", \"name\": \"\", \"marker\": {\"color\": \"white\"}, \"y\": [0, 0], \"x\": [\"2019-09-01\", \"2019-09-10\"]}, {\"uid\": \"693afa31-d2d1-11e8-bffc-52540069414d\", \"type\": \"scatter\", \"name\": \"\", \"marker\": {\"color\": \"white\"}, \"y\": [1, 1], \"x\": [\"2019-08-01\", \"2019-08-30\"]}, {\"uid\": \"693afa32-d2d1-11e8-bffc-52540069414d\", \"type\": \"scatter\", \"name\": \"\", \"marker\": {\"color\": \"white\"}, \"y\": [2, 2], \"x\": [\"2019-07-01\", \"2019-07-30\"]}, {\"uid\": \"693afa33-d2d1-11e8-bffc-52540069414d\", \"type\": \"scatter\", \"name\": \"\", \"marker\": {\"color\": \"white\"}, \"y\": [3, 3], \"x\": [\"2019-06-01\", \"2019-06-30\"]}, {\"uid\": \"693afa34-d2d1-11e8-bffc-52540069414d\", \"type\": \"scatter\", \"name\": \"\", \"marker\": {\"color\": \"white\"}, \"y\": [4, 4], \"x\": [\"2019-05-01\", \"2019-05-30\"]}, {\"uid\": \"693afa35-d2d1-11e8-bffc-52540069414d\", \"type\": \"scatter\", \"name\": \"\", \"marker\": {\"color\": \"white\"}, \"y\": [5, 5], \"x\": [\"2019-04-01\", \"2019-04-30\"]}, {\"uid\": \"693afa36-d2d1-11e8-bffc-52540069414d\", \"type\": \"scatter\", \"name\": \"\", \"marker\": {\"color\": \"white\"}, \"y\": [6, 6], \"x\": [\"2019-03-01\", \"2019-03-30\"]}, {\"uid\": \"693afa37-d2d1-11e8-bffc-52540069414d\", \"type\": \"scatter\", \"name\": \"\", \"marker\": {\"color\": \"white\"}, \"y\": [7, 7], \"x\": [\"2019-02-01\", \"2019-02-28\"]}, {\"uid\": \"693afa38-d2d1-11e8-bffc-52540069414d\", \"type\": \"scatter\", \"name\": \"\", \"marker\": {\"color\": \"white\"}, \"y\": [8, 8], \"x\": [\"2019-01-01\", \"2019-01-30\"]}, {\"uid\": \"693afa39-d2d1-11e8-bffc-52540069414d\", \"type\": \"scatter\", \"name\": \"\", \"marker\": {\"color\": \"white\"}, \"y\": [9, 9], \"x\": [\"2019-01-01\", \"2019-01-30\"]}, {\"uid\": \"693afa3a-d2d1-11e8-bffc-52540069414d\", \"type\": \"scatter\", \"name\": \"\", \"marker\": {\"color\": \"white\"}, \"y\": [10, 10], \"x\": [\"2018-12-01\", \"2018-12-30\"]}, {\"uid\": \"693afa3b-d2d1-11e8-bffc-52540069414d\", \"type\": \"scatter\", \"name\": \"\", \"marker\": {\"color\": \"white\"}, \"y\": [11, 11], \"x\": [\"2018-11-01\", \"2018-11-30\"]}, {\"uid\": \"693afa3c-d2d1-11e8-bffc-52540069414d\", \"type\": \"scatter\", \"name\": \"\", \"marker\": {\"color\": \"white\"}, \"y\": [12, 12], \"x\": [\"2018-10-21\", \"2018-10-30\"]}, {\"uid\": \"693afa3d-d2d1-11e8-bffc-52540069414d\", \"type\": \"scatter\", \"name\": \"\", \"marker\": {\"color\": \"white\"}, \"y\": [13, 13], \"x\": [\"2018-10-01\", \"2018-10-30\"]}, {\"uid\": \"693afa3e-d2d1-11e8-bffc-52540069414d\", \"type\": \"scatter\", \"name\": \"\", \"marker\": {\"color\": \"white\"}, \"y\": [14, 14], \"x\": [\"2018-10-01\", \"2018-10-30\"]}, {\"uid\": \"693afa3f-d2d1-11e8-bffc-52540069414d\", \"type\": \"scatter\", \"name\": \"\", \"marker\": {\"color\": \"white\"}, \"y\": [15, 15], \"x\": [\"2018-09-16\", \"2018-09-30\"]}, {\"uid\": \"693afa40-d2d1-11e8-bffc-52540069414d\", \"type\": \"scatter\", \"name\": \"\", \"marker\": {\"color\": \"white\"}, \"y\": [16, 16], \"x\": [\"2018-09-05\", \"2018-09-30\"]}, {\"uid\": \"693afa41-d2d1-11e8-bffc-52540069414d\", \"type\": \"scatter\", \"name\": \"\", \"marker\": {\"color\": \"white\"}, \"y\": [17, 17], \"x\": [\"2018-09-01\", \"2018-09-10\"]}, {\"uid\": \"693afa42-d2d1-11e8-bffc-52540069414d\", \"type\": \"scatter\", \"name\": \"\", \"marker\": {\"showscale\": true, \"color\": \"white\", \"cmin\": 0, \"colorscale\": [[0, \"rgb(255.0, 238.0, 0.0)\"], [1, \"rgb(0.0, 136.0, 255.0)\"]], \"cmax\": 100}, \"y\": [17, 17], \"x\": [\"2018-09-01\", \"2018-09-01\"]}], {\"width\": 900, \"showlegend\": false, \"title\": \"Gantt Chart\", \"shapes\": [{\"xref\": \"x\", \"type\": \"rect\", \"y1\": 0.2, \"x1\": \"2019-09-10\", \"opacity\": 1, \"fillcolor\": \"rgb(255.0, 238.0, 0.0)\", \"x0\": \"2019-09-01\", \"line\": {\"width\": 0}, \"y0\": -0.2, \"yref\": \"y\"}, {\"xref\": \"x\", \"type\": \"rect\", \"y1\": 1.2, \"x1\": \"2019-08-30\", \"opacity\": 1, \"fillcolor\": \"rgb(255.0, 238.0, 0.0)\", \"x0\": \"2019-08-01\", \"line\": {\"width\": 0}, \"y0\": 0.8, \"yref\": \"y\"}, {\"xref\": \"x\", \"type\": \"rect\", \"y1\": 2.2, \"x1\": \"2019-07-30\", \"opacity\": 1, \"fillcolor\": \"rgb(255.0, 238.0, 0.0)\", \"x0\": \"2019-07-01\", \"line\": {\"width\": 0}, \"y0\": 1.8, \"yref\": \"y\"}, {\"xref\": \"x\", \"type\": \"rect\", \"y1\": 3.2, \"x1\": \"2019-06-30\", \"opacity\": 1, \"fillcolor\": \"rgb(255.0, 238.0, 0.0)\", \"x0\": \"2019-06-01\", \"line\": {\"width\": 0}, \"y0\": 2.8, \"yref\": \"y\"}, {\"xref\": \"x\", \"type\": \"rect\", \"y1\": 4.2, \"x1\": \"2019-05-30\", \"opacity\": 1, \"fillcolor\": \"rgb(255.0, 238.0, 0.0)\", \"x0\": \"2019-05-01\", \"line\": {\"width\": 0}, \"y0\": 3.8, \"yref\": \"y\"}, {\"xref\": \"x\", \"type\": \"rect\", \"y1\": 5.2, \"x1\": \"2019-04-30\", \"opacity\": 1, \"fillcolor\": \"rgb(255.0, 238.0, 0.0)\", \"x0\": \"2019-04-01\", \"line\": {\"width\": 0}, \"y0\": 4.8, \"yref\": \"y\"}, {\"xref\": \"x\", \"type\": \"rect\", \"y1\": 6.2, \"x1\": \"2019-03-30\", \"opacity\": 1, \"fillcolor\": \"rgb(229.5, 227.8, 25.5)\", \"x0\": \"2019-03-01\", \"line\": {\"width\": 0}, \"y0\": 5.8, \"yref\": \"y\"}, {\"xref\": \"x\", \"type\": \"rect\", \"y1\": 7.2, \"x1\": \"2019-02-28\", \"opacity\": 1, \"fillcolor\": \"rgb(153.0, 197.2, 102.0)\", \"x0\": \"2019-02-01\", \"line\": {\"width\": 0}, \"y0\": 6.8, \"yref\": \"y\"}, {\"xref\": \"x\", \"type\": \"rect\", \"y1\": 8.2, \"x1\": \"2019-01-30\", \"opacity\": 1, \"fillcolor\": \"rgb(255.0, 238.0, 0.0)\", \"x0\": \"2019-01-01\", \"line\": {\"width\": 0}, \"y0\": 7.8, \"yref\": \"y\"}, {\"xref\": \"x\", \"type\": \"rect\", \"y1\": 9.2, \"x1\": \"2019-01-30\", \"opacity\": 1, \"fillcolor\": \"rgb(255.0, 238.0, 0.0)\", \"x0\": \"2019-01-01\", \"line\": {\"width\": 0}, \"y0\": 8.8, \"yref\": \"y\"}, {\"xref\": \"x\", \"type\": \"rect\", \"y1\": 10.2, \"x1\": \"2018-12-30\", \"opacity\": 1, \"fillcolor\": \"rgb(186.14999999999998, 210.46, 68.85000000000001)\", \"x0\": \"2018-12-01\", \"line\": {\"width\": 0}, \"y0\": 9.8, \"yref\": \"y\"}, {\"xref\": \"x\", \"type\": \"rect\", \"y1\": 11.2, \"x1\": \"2018-11-30\", \"opacity\": 1, \"fillcolor\": \"rgb(170.85, 204.34, 84.15)\", \"x0\": \"2018-11-01\", \"line\": {\"width\": 0}, \"y0\": 10.8, \"yref\": \"y\"}, {\"xref\": \"x\", \"type\": \"rect\", \"y1\": 12.2, \"x1\": \"2018-10-30\", \"opacity\": 1, \"fillcolor\": \"rgb(30.599999999999994, 148.24, 224.4)\", \"x0\": \"2018-10-21\", \"line\": {\"width\": 0}, \"y0\": 11.8, \"yref\": \"y\"}, {\"xref\": \"x\", \"type\": \"rect\", \"y1\": 13.2, \"x1\": \"2018-10-30\", \"opacity\": 1, \"fillcolor\": \"rgb(198.9, 215.56, 56.1)\", \"x0\": \"2018-10-01\", \"line\": {\"width\": 0}, \"y0\": 12.8, \"yref\": \"y\"}, {\"xref\": \"x\", \"type\": \"rect\", \"y1\": 14.2, \"x1\": \"2018-10-30\", \"opacity\": 1, \"fillcolor\": \"rgb(89.25, 171.7, 165.75)\", \"x0\": \"2018-10-01\", \"line\": {\"width\": 0}, \"y0\": 13.8, \"yref\": \"y\"}, {\"xref\": \"x\", \"type\": \"rect\", \"y1\": 15.2, \"x1\": \"2018-09-30\", \"opacity\": 1, \"fillcolor\": \"rgb(204.0, 217.6, 51.0)\", \"x0\": \"2018-09-16\", \"line\": {\"width\": 0}, \"y0\": 14.8, \"yref\": \"y\"}, {\"xref\": \"x\", \"type\": \"rect\", \"y1\": 16.2, \"x1\": \"2018-09-30\", \"opacity\": 1, \"fillcolor\": \"rgb(0.0, 136.0, 255.0)\", \"x0\": \"2018-09-05\", \"line\": {\"width\": 0}, \"y0\": 15.8, \"yref\": \"y\"}, {\"xref\": \"x\", \"type\": \"rect\", \"y1\": 17.2, \"x1\": \"2018-09-10\", \"opacity\": 1, \"fillcolor\": \"rgb(0.0, 136.0, 255.0)\", \"x0\": \"2018-09-01\", \"line\": {\"width\": 0}, \"y0\": 16.8, \"yref\": \"y\"}], \"hovermode\": \"closest\", \"yaxis\": {\"range\": [-1, 19], \"zeroline\": false, \"tickvals\": [0, 1, 2, 3, 4, 5, 6, 7, 8, 9, 10, 11, 12, 13, 14, 15, 16, 17], \"showgrid\": true, \"ticktext\": [\"2020-odc-plan\", \"wms-explore\", \"odc-iwds\", \"lc-aws-demo\", \"lcmap-cloud\", \"lcmap-profile\", \"odc-lite-p2\", \"odc-conference\", \"Clojure\", \"lcmap-deep\", \"odc-lite\", \"pyccd\", \"folium-intro\", \"lcmap-intro\", \"Visualization\", \"Clojure\", \"espaDog\", \"2019 Planning\"], \"autorange\": false}, \"xaxis\": {\"type\": \"date\", \"zeroline\": false, \"rangeselector\": {\"buttons\": [{\"count\": 7, \"label\": \"1w\", \"step\": \"day\", \"stepmode\": \"backward\"}, {\"count\": 1, \"label\": \"1m\", \"step\": \"month\", \"stepmode\": \"backward\"}, {\"count\": 6, \"label\": \"6m\", \"step\": \"month\", \"stepmode\": \"backward\"}, {\"count\": 1, \"label\": \"YTD\", \"step\": \"year\", \"stepmode\": \"todate\"}, {\"count\": 1, \"label\": \"1y\", \"step\": \"year\", \"stepmode\": \"backward\"}, {\"step\": \"all\"}]}, \"showgrid\": true}, \"height\": 600}, {\"linkText\": \"Export to plot.ly\", \"showLink\": true})});</script>"
      ]
     },
     "metadata": {},
     "output_type": "display_data"
    }
   ],
   "source": [
    "import matplotlib\n",
    "%matplotlib inline \n",
    "import plotly.plotly as py\n",
    "import plotly.figure_factory as ff\n",
    "from plotly import __version__\n",
    "from plotly.offline import download_plotlyjs, init_notebook_mode, plot,iplot\n",
    "print (__version__) # requires version >= 1.9.0\n",
    "\n",
    "\n",
    "import pandas as pd\n",
    "\n",
    "init_notebook_mode(connected=True)\n",
    "\n",
    "df = pd.read_csv('./2018-plan.csv')\n",
    "\n",
    "fig = ff.create_gantt(df, colors=['#ffee00', '#0088ff'], index_col='Complete', show_colorbar=True,\n",
    "                      bar_width=0.2, showgrid_x=True, showgrid_y=True)\n",
    "plot(fig)   ### puts the plot to a separate file .html\n",
    "\n",
    "iplot(fig)\n"
   ]
  },
  {
   "cell_type": "markdown",
   "metadata": {},
   "source": [
    "![myplot](file:///opt/odc-lcmap/eng/research/temp-plot.html)"
   ]
  },
  {
   "cell_type": "markdown",
   "metadata": {},
   "source": [
    "# The Plot\n",
    "\n",
    "[the plot](./temp-plot.html)"
   ]
  },
  {
   "cell_type": "markdown",
   "metadata": {},
   "source": [
    "# Try again\n",
    "\n",
    "![the plot](./temp-plot.html)"
   ]
  },
  {
   "cell_type": "code",
   "execution_count": null,
   "metadata": {},
   "outputs": [],
   "source": []
  }
 ],
 "metadata": {
  "kernelspec": {
   "display_name": "Python 3",
   "language": "python",
   "name": "python3"
  },
  "language_info": {
   "codemirror_mode": {
    "name": "ipython",
    "version": 3
   },
   "file_extension": ".py",
   "mimetype": "text/x-python",
   "name": "python",
   "nbconvert_exporter": "python",
   "pygments_lexer": "ipython3",
   "version": "3.5.2"
  }
 },
 "nbformat": 4,
 "nbformat_minor": 2
}
