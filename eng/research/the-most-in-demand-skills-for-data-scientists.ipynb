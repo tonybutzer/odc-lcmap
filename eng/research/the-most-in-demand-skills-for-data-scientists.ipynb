{
 "cells": [
  {
   "cell_type": "markdown",
   "metadata": {
    "_uuid": "3cc4560c97d2f56e2309aa6c2fc576bc834eb02d"
   },
   "source": [
    "# The Most in Demand Skills for Data Scientists\n",
    "## What are employers looking for?\n",
    "## By Jeff Hale\n",
    "\n",
    "I'm going to explore which skills and software for Data Scientists are in demand in the US in October 2018 by looking at online job listing sites. I'll be using plotly and pandas to make interactive visualizations for this project.\n",
    "\n",
    "### See [this Medium article](https://towardsdatascience.com/the-most-in-demand-skills-for-data-scientists-4a4a8db896db) for discussion.\n",
    "\n",
    "\n",
    "This notebook includes additional analyses not in the Medium article and presents the findings in a slightly different order."
   ]
  },
  {
   "cell_type": "markdown",
   "metadata": {
    "_uuid": "f8ccb48393bd4151b192d6759775ae6636fc1be1"
   },
   "source": [
    "# Please upvote this Kaggle kernel if you find it helpful."
   ]
  },
  {
   "cell_type": "markdown",
   "metadata": {},
   "source": [
    "https://stackoverflow.com/questions/46939424/remove-save-and-edit-plot-in-cloud-button-in-plotly-in-offline-mode\n"
   ]
  },
  {
   "cell_type": "code",
   "execution_count": 1,
   "metadata": {
    "_uuid": "63cce2f9932a50b80dc1f7a5775a3cf30602767a"
   },
   "outputs": [
    {
     "data": {
      "text/html": [
       "<script>requirejs.config({paths: { 'plotly': ['https://cdn.plot.ly/plotly-latest.min']},});if(!window.Plotly) {{require(['plotly'],function(plotly) {window.Plotly=plotly;});}}</script>"
      ],
      "text/vnd.plotly.v1+html": [
       "<script>requirejs.config({paths: { 'plotly': ['https://cdn.plot.ly/plotly-latest.min']},});if(!window.Plotly) {{require(['plotly'],function(plotly) {window.Plotly=plotly;});}}</script>"
      ]
     },
     "metadata": {},
     "output_type": "display_data"
    }
   ],
   "source": [
    "# import the usual frameworks\n",
    "import pandas as pd\n",
    "import numpy as np\n",
    "import matplotlib.pyplot as plt\n",
    "import seaborn as sns\n",
    "import collections\n",
    "import warnings\n",
    "\n",
    "from IPython.core.display import display, HTML\n",
    "from sklearn.preprocessing import MinMaxScaler\n",
    "    \n",
    "# import plotly \n",
    "import plotly\n",
    "import plotly.figure_factory as ff\n",
    "import plotly.graph_objs as go\n",
    "import plotly.offline as py\n",
    "import plotly.tools as tls\n",
    "\n",
    "# for color scales in plotly\n",
    "import colorlover as cl \n",
    "\n",
    "# configure things\n",
    "warnings.filterwarnings('ignore')\n",
    "\n",
    "pd.options.display.float_format = '{:,.2f}'.format  \n",
    "pd.options.display.max_columns = 999\n",
    "\n",
    "py.init_notebook_mode(connected=True)\n",
    "\n",
    "%load_ext autoreload\n",
    "%autoreload 2\n",
    "%matplotlib inline"
   ]
  },
  {
   "cell_type": "markdown",
   "metadata": {
    "_uuid": "61968c9262527481986afc842ea78cd50a1d3b92"
   },
   "source": [
    "List package versions for reproducibility."
   ]
  },
  {
   "cell_type": "code",
   "execution_count": 2,
   "metadata": {
    "_uuid": "cbc451d8817fa38fc0d3a79ea409e7d66b2d07b2"
   },
   "outputs": [],
   "source": [
    "#!pip list\n",
    "# !pwd\n",
    "# !ls"
   ]
  },
  {
   "cell_type": "markdown",
   "metadata": {
    "_uuid": "a51d1e2caf8428c5bb2114fa25af699be182d4d1"
   },
   "source": [
    "# Part 1: Data Science Software"
   ]
  },
  {
   "cell_type": "markdown",
   "metadata": {
    "_uuid": "5b673c2193aa65245cc37f8982a85180df4efef1"
   },
   "source": [
    "Read in the data from the csv. The Google sheet that holds the data is available [here](https://docs.google.com/spreadsheets/d/1lac1H2IgCDCs9LLTQL6yb6MUPN1u4C5fJv_6YjipIaM/edit?usp=sharing)."
   ]
  },
  {
   "cell_type": "code",
   "execution_count": 3,
   "metadata": {
    "_uuid": "67884aef7dfed88cbe70307aed22813b0029f3fa"
   },
   "outputs": [
    {
     "data": {
      "text/html": [
       "<div>\n",
       "<style scoped>\n",
       "    .dataframe tbody tr th:only-of-type {\n",
       "        vertical-align: middle;\n",
       "    }\n",
       "\n",
       "    .dataframe tbody tr th {\n",
       "        vertical-align: top;\n",
       "    }\n",
       "\n",
       "    .dataframe thead th {\n",
       "        text-align: right;\n",
       "    }\n",
       "</style>\n",
       "<table border=\"1\" class=\"dataframe\">\n",
       "  <thead>\n",
       "    <tr style=\"text-align: right;\">\n",
       "      <th></th>\n",
       "      <th>LinkedIn</th>\n",
       "      <th>Indeed</th>\n",
       "      <th>SimplyHired</th>\n",
       "      <th>Monster</th>\n",
       "    </tr>\n",
       "    <tr>\n",
       "      <th>Keyword</th>\n",
       "      <th></th>\n",
       "      <th></th>\n",
       "      <th></th>\n",
       "      <th></th>\n",
       "    </tr>\n",
       "  </thead>\n",
       "  <tbody>\n",
       "    <tr>\n",
       "      <th>machine learning</th>\n",
       "      <td>5701</td>\n",
       "      <td>3,439.00</td>\n",
       "      <td>2,561.00</td>\n",
       "      <td>2340</td>\n",
       "    </tr>\n",
       "    <tr>\n",
       "      <th>analysis</th>\n",
       "      <td>5168</td>\n",
       "      <td>3,500.00</td>\n",
       "      <td>2,668.00</td>\n",
       "      <td>3306</td>\n",
       "    </tr>\n",
       "    <tr>\n",
       "      <th>statistics</th>\n",
       "      <td>4893</td>\n",
       "      <td>2,992.00</td>\n",
       "      <td>2,308.00</td>\n",
       "      <td>2399</td>\n",
       "    </tr>\n",
       "    <tr>\n",
       "      <th>computer science</th>\n",
       "      <td>4517</td>\n",
       "      <td>2,739.00</td>\n",
       "      <td>2,093.00</td>\n",
       "      <td>1900</td>\n",
       "    </tr>\n",
       "    <tr>\n",
       "      <th>communication</th>\n",
       "      <td>3404</td>\n",
       "      <td>2,344.00</td>\n",
       "      <td>1,791.00</td>\n",
       "      <td>2053</td>\n",
       "    </tr>\n",
       "    <tr>\n",
       "      <th>mathematics</th>\n",
       "      <td>2605</td>\n",
       "      <td>1,961.00</td>\n",
       "      <td>1,497.00</td>\n",
       "      <td>1815</td>\n",
       "    </tr>\n",
       "    <tr>\n",
       "      <th>visualization</th>\n",
       "      <td>1879</td>\n",
       "      <td>1,413.00</td>\n",
       "      <td>1,153.00</td>\n",
       "      <td>1207</td>\n",
       "    </tr>\n",
       "    <tr>\n",
       "      <th>AI composite</th>\n",
       "      <td>1568</td>\n",
       "      <td>1,125.00</td>\n",
       "      <td>811.00</td>\n",
       "      <td>687</td>\n",
       "    </tr>\n",
       "    <tr>\n",
       "      <th>deep learning</th>\n",
       "      <td>1310</td>\n",
       "      <td>979.00</td>\n",
       "      <td>675.00</td>\n",
       "      <td>606</td>\n",
       "    </tr>\n",
       "    <tr>\n",
       "      <th>NLP composite</th>\n",
       "      <td>1212</td>\n",
       "      <td>910.00</td>\n",
       "      <td>660.00</td>\n",
       "      <td>582</td>\n",
       "    </tr>\n",
       "    <tr>\n",
       "      <th>software development</th>\n",
       "      <td>732</td>\n",
       "      <td>627.00</td>\n",
       "      <td>481.00</td>\n",
       "      <td>784</td>\n",
       "    </tr>\n",
       "    <tr>\n",
       "      <th>neural networks</th>\n",
       "      <td>671</td>\n",
       "      <td>485.00</td>\n",
       "      <td>421.00</td>\n",
       "      <td>305</td>\n",
       "    </tr>\n",
       "    <tr>\n",
       "      <th>data engineering</th>\n",
       "      <td>514</td>\n",
       "      <td>nan</td>\n",
       "      <td>nan</td>\n",
       "      <td>200</td>\n",
       "    </tr>\n",
       "    <tr>\n",
       "      <th>project management</th>\n",
       "      <td>476</td>\n",
       "      <td>397.00</td>\n",
       "      <td>330.00</td>\n",
       "      <td>348</td>\n",
       "    </tr>\n",
       "    <tr>\n",
       "      <th>software engineering</th>\n",
       "      <td>413</td>\n",
       "      <td>295.00</td>\n",
       "      <td>250.00</td>\n",
       "      <td>512</td>\n",
       "    </tr>\n",
       "  </tbody>\n",
       "</table>\n",
       "</div>"
      ],
      "text/plain": [
       "                      LinkedIn   Indeed  SimplyHired  Monster\n",
       "Keyword                                                      \n",
       "machine learning          5701 3,439.00     2,561.00     2340\n",
       "analysis                  5168 3,500.00     2,668.00     3306\n",
       "statistics                4893 2,992.00     2,308.00     2399\n",
       "computer science          4517 2,739.00     2,093.00     1900\n",
       "communication             3404 2,344.00     1,791.00     2053\n",
       "mathematics               2605 1,961.00     1,497.00     1815\n",
       "visualization             1879 1,413.00     1,153.00     1207\n",
       "AI composite              1568 1,125.00       811.00      687\n",
       "deep learning             1310   979.00       675.00      606\n",
       "NLP composite             1212   910.00       660.00      582\n",
       "software development       732   627.00       481.00      784\n",
       "neural networks            671   485.00       421.00      305\n",
       "data engineering           514      nan          nan      200\n",
       "project management         476   397.00       330.00      348\n",
       "software engineering       413   295.00       250.00      512"
      ]
     },
     "execution_count": 3,
     "metadata": {},
     "output_type": "execute_result"
    }
   ],
   "source": [
    "df = pd.read_csv(\n",
    "    'File/ds_job_listing_software.csv',\n",
    "    usecols=['Keyword','LinkedIn', 'Indeed', 'SimplyHired', 'Monster'],\n",
    "    skiprows=0,\n",
    "    nrows=37, \n",
    "    thousands=',',\n",
    "    index_col=0,\n",
    "   \n",
    ")\n",
    "df"
   ]
  },
  {
   "cell_type": "markdown",
   "metadata": {
    "_uuid": "2efed23760fc48120850205f09170ea06425e8ab"
   },
   "source": [
    "Cool. We used the read_csv parameters to give us just what we wanted."
   ]
  },
  {
   "cell_type": "markdown",
   "metadata": {
    "_uuid": "6a35c07272b9af75048aea3f0a95bf8bc1a49fcc"
   },
   "source": [
    "## Basic Data Exploration\n",
    "Let's see what the data look like."
   ]
  },
  {
   "cell_type": "code",
   "execution_count": 4,
   "metadata": {
    "_uuid": "6f695d4e451c4b72f84221cd417e90d5b36423c3"
   },
   "outputs": [
    {
     "name": "stdout",
     "output_type": "stream",
     "text": [
      "<class 'pandas.core.frame.DataFrame'>\n",
      "Index: 15 entries, machine learning to software engineering\n",
      "Data columns (total 4 columns):\n",
      "LinkedIn       15 non-null int64\n",
      "Indeed         14 non-null float64\n",
      "SimplyHired    14 non-null float64\n",
      "Monster        15 non-null int64\n",
      "dtypes: float64(2), int64(2)\n",
      "memory usage: 600.0+ bytes\n"
     ]
    }
   ],
   "source": [
    "df.info()"
   ]
  },
  {
   "cell_type": "code",
   "execution_count": 5,
   "metadata": {
    "_uuid": "188e43ec51292691ccd9c270fc710c183155aa83"
   },
   "outputs": [
    {
     "data": {
      "text/html": [
       "<div>\n",
       "<style scoped>\n",
       "    .dataframe tbody tr th:only-of-type {\n",
       "        vertical-align: middle;\n",
       "    }\n",
       "\n",
       "    .dataframe tbody tr th {\n",
       "        vertical-align: top;\n",
       "    }\n",
       "\n",
       "    .dataframe thead th {\n",
       "        text-align: right;\n",
       "    }\n",
       "</style>\n",
       "<table border=\"1\" class=\"dataframe\">\n",
       "  <thead>\n",
       "    <tr style=\"text-align: right;\">\n",
       "      <th></th>\n",
       "      <th>LinkedIn</th>\n",
       "      <th>Indeed</th>\n",
       "      <th>SimplyHired</th>\n",
       "      <th>Monster</th>\n",
       "    </tr>\n",
       "  </thead>\n",
       "  <tbody>\n",
       "    <tr>\n",
       "      <th>count</th>\n",
       "      <td>15.00</td>\n",
       "      <td>14.00</td>\n",
       "      <td>14.00</td>\n",
       "      <td>15.00</td>\n",
       "    </tr>\n",
       "    <tr>\n",
       "      <th>mean</th>\n",
       "      <td>2,337.53</td>\n",
       "      <td>1,657.57</td>\n",
       "      <td>1,264.21</td>\n",
       "      <td>1,269.60</td>\n",
       "    </tr>\n",
       "    <tr>\n",
       "      <th>std</th>\n",
       "      <td>1,904.66</td>\n",
       "      <td>1,154.49</td>\n",
       "      <td>873.37</td>\n",
       "      <td>958.68</td>\n",
       "    </tr>\n",
       "    <tr>\n",
       "      <th>min</th>\n",
       "      <td>413.00</td>\n",
       "      <td>295.00</td>\n",
       "      <td>250.00</td>\n",
       "      <td>200.00</td>\n",
       "    </tr>\n",
       "    <tr>\n",
       "      <th>25%</th>\n",
       "      <td>701.50</td>\n",
       "      <td>697.75</td>\n",
       "      <td>525.75</td>\n",
       "      <td>547.00</td>\n",
       "    </tr>\n",
       "    <tr>\n",
       "      <th>50%</th>\n",
       "      <td>1,568.00</td>\n",
       "      <td>1,269.00</td>\n",
       "      <td>982.00</td>\n",
       "      <td>784.00</td>\n",
       "    </tr>\n",
       "    <tr>\n",
       "      <th>75%</th>\n",
       "      <td>3,960.50</td>\n",
       "      <td>2,640.25</td>\n",
       "      <td>2,017.50</td>\n",
       "      <td>1,976.50</td>\n",
       "    </tr>\n",
       "    <tr>\n",
       "      <th>max</th>\n",
       "      <td>5,701.00</td>\n",
       "      <td>3,500.00</td>\n",
       "      <td>2,668.00</td>\n",
       "      <td>3,306.00</td>\n",
       "    </tr>\n",
       "  </tbody>\n",
       "</table>\n",
       "</div>"
      ],
      "text/plain": [
       "       LinkedIn   Indeed  SimplyHired  Monster\n",
       "count     15.00    14.00        14.00    15.00\n",
       "mean   2,337.53 1,657.57     1,264.21 1,269.60\n",
       "std    1,904.66 1,154.49       873.37   958.68\n",
       "min      413.00   295.00       250.00   200.00\n",
       "25%      701.50   697.75       525.75   547.00\n",
       "50%    1,568.00 1,269.00       982.00   784.00\n",
       "75%    3,960.50 2,640.25     2,017.50 1,976.50\n",
       "max    5,701.00 3,500.00     2,668.00 3,306.00"
      ]
     },
     "execution_count": 5,
     "metadata": {},
     "output_type": "execute_result"
    }
   ],
   "source": [
    "df.describe()"
   ]
  },
  {
   "cell_type": "markdown",
   "metadata": {
    "_uuid": "dd216c2c67ba8314486aa5562fbb846e9486f6d6"
   },
   "source": [
    "# Scale and Aggregate \n",
    "Scale each column. For each column we'll use MinMaxScaler to subtract the minumum and divide by the original max - original min."
   ]
  },
  {
   "cell_type": "code",
   "execution_count": 6,
   "metadata": {
    "_uuid": "f944fc186de0a8c87a4c8b25820b67015a74f07d"
   },
   "outputs": [],
   "source": [
    "scale = MinMaxScaler()\n",
    "scaled_df = pd.DataFrame(\n",
    "    scale.fit_transform(df), \n",
    "    columns = df.columns,\n",
    "    index = df.index)    "
   ]
  },
  {
   "cell_type": "code",
   "execution_count": 7,
   "metadata": {
    "_uuid": "32087e32a256978e32480d8dd3472eeba8d93020"
   },
   "outputs": [
    {
     "data": {
      "text/html": [
       "<div>\n",
       "<style scoped>\n",
       "    .dataframe tbody tr th:only-of-type {\n",
       "        vertical-align: middle;\n",
       "    }\n",
       "\n",
       "    .dataframe tbody tr th {\n",
       "        vertical-align: top;\n",
       "    }\n",
       "\n",
       "    .dataframe thead th {\n",
       "        text-align: right;\n",
       "    }\n",
       "</style>\n",
       "<table border=\"1\" class=\"dataframe\">\n",
       "  <thead>\n",
       "    <tr style=\"text-align: right;\">\n",
       "      <th></th>\n",
       "      <th>LinkedIn</th>\n",
       "      <th>Indeed</th>\n",
       "      <th>SimplyHired</th>\n",
       "      <th>Monster</th>\n",
       "    </tr>\n",
       "    <tr>\n",
       "      <th>Keyword</th>\n",
       "      <th></th>\n",
       "      <th></th>\n",
       "      <th></th>\n",
       "      <th></th>\n",
       "    </tr>\n",
       "  </thead>\n",
       "  <tbody>\n",
       "    <tr>\n",
       "      <th>machine learning</th>\n",
       "      <td>1.00</td>\n",
       "      <td>0.98</td>\n",
       "      <td>0.96</td>\n",
       "      <td>0.69</td>\n",
       "    </tr>\n",
       "    <tr>\n",
       "      <th>analysis</th>\n",
       "      <td>0.90</td>\n",
       "      <td>1.00</td>\n",
       "      <td>1.00</td>\n",
       "      <td>1.00</td>\n",
       "    </tr>\n",
       "    <tr>\n",
       "      <th>statistics</th>\n",
       "      <td>0.85</td>\n",
       "      <td>0.84</td>\n",
       "      <td>0.85</td>\n",
       "      <td>0.71</td>\n",
       "    </tr>\n",
       "    <tr>\n",
       "      <th>computer science</th>\n",
       "      <td>0.78</td>\n",
       "      <td>0.76</td>\n",
       "      <td>0.76</td>\n",
       "      <td>0.55</td>\n",
       "    </tr>\n",
       "    <tr>\n",
       "      <th>communication</th>\n",
       "      <td>0.57</td>\n",
       "      <td>0.64</td>\n",
       "      <td>0.64</td>\n",
       "      <td>0.60</td>\n",
       "    </tr>\n",
       "  </tbody>\n",
       "</table>\n",
       "</div>"
      ],
      "text/plain": [
       "                  LinkedIn  Indeed  SimplyHired  Monster\n",
       "Keyword                                                 \n",
       "machine learning      1.00    0.98         0.96     0.69\n",
       "analysis              0.90    1.00         1.00     1.00\n",
       "statistics            0.85    0.84         0.85     0.71\n",
       "computer science      0.78    0.76         0.76     0.55\n",
       "communication         0.57    0.64         0.64     0.60"
      ]
     },
     "execution_count": 7,
     "metadata": {},
     "output_type": "execute_result"
    }
   ],
   "source": [
    "scaled_df.head()"
   ]
  },
  {
   "cell_type": "markdown",
   "metadata": {
    "_uuid": "8bd561749462d763ff108126921bbb545938210f"
   },
   "source": [
    "### Scaled Online Job Listings"
   ]
  },
  {
   "cell_type": "markdown",
   "metadata": {
    "_uuid": "fafe1b35d8e942ff10003ca89116a118df9aaa63"
   },
   "source": [
    "Let's make a combined score for the large sites by taking the mean of the LinkedIn, Indeed, Monster, and SimplyHired scores."
   ]
  },
  {
   "cell_type": "code",
   "execution_count": 8,
   "metadata": {
    "_uuid": "e41bf73e70f224b631d6fef29a6d8c6530d92029"
   },
   "outputs": [
    {
     "data": {
      "text/html": [
       "<div>\n",
       "<style scoped>\n",
       "    .dataframe tbody tr th:only-of-type {\n",
       "        vertical-align: middle;\n",
       "    }\n",
       "\n",
       "    .dataframe tbody tr th {\n",
       "        vertical-align: top;\n",
       "    }\n",
       "\n",
       "    .dataframe thead th {\n",
       "        text-align: right;\n",
       "    }\n",
       "</style>\n",
       "<table border=\"1\" class=\"dataframe\">\n",
       "  <thead>\n",
       "    <tr style=\"text-align: right;\">\n",
       "      <th></th>\n",
       "      <th>LinkedIn</th>\n",
       "      <th>Indeed</th>\n",
       "      <th>SimplyHired</th>\n",
       "      <th>Monster</th>\n",
       "      <th>combined</th>\n",
       "    </tr>\n",
       "    <tr>\n",
       "      <th>Keyword</th>\n",
       "      <th></th>\n",
       "      <th></th>\n",
       "      <th></th>\n",
       "      <th></th>\n",
       "      <th></th>\n",
       "    </tr>\n",
       "  </thead>\n",
       "  <tbody>\n",
       "    <tr>\n",
       "      <th>machine learning</th>\n",
       "      <td>1.00</td>\n",
       "      <td>0.98</td>\n",
       "      <td>0.96</td>\n",
       "      <td>0.69</td>\n",
       "      <td>0.91</td>\n",
       "    </tr>\n",
       "    <tr>\n",
       "      <th>analysis</th>\n",
       "      <td>0.90</td>\n",
       "      <td>1.00</td>\n",
       "      <td>1.00</td>\n",
       "      <td>1.00</td>\n",
       "      <td>0.97</td>\n",
       "    </tr>\n",
       "    <tr>\n",
       "      <th>statistics</th>\n",
       "      <td>0.85</td>\n",
       "      <td>0.84</td>\n",
       "      <td>0.85</td>\n",
       "      <td>0.71</td>\n",
       "      <td>0.81</td>\n",
       "    </tr>\n",
       "    <tr>\n",
       "      <th>computer science</th>\n",
       "      <td>0.78</td>\n",
       "      <td>0.76</td>\n",
       "      <td>0.76</td>\n",
       "      <td>0.55</td>\n",
       "      <td>0.71</td>\n",
       "    </tr>\n",
       "    <tr>\n",
       "      <th>communication</th>\n",
       "      <td>0.57</td>\n",
       "      <td>0.64</td>\n",
       "      <td>0.64</td>\n",
       "      <td>0.60</td>\n",
       "      <td>0.61</td>\n",
       "    </tr>\n",
       "  </tbody>\n",
       "</table>\n",
       "</div>"
      ],
      "text/plain": [
       "                  LinkedIn  Indeed  SimplyHired  Monster  combined\n",
       "Keyword                                                           \n",
       "machine learning      1.00    0.98         0.96     0.69      0.91\n",
       "analysis              0.90    1.00         1.00     1.00      0.97\n",
       "statistics            0.85    0.84         0.85     0.71      0.81\n",
       "computer science      0.78    0.76         0.76     0.55      0.71\n",
       "communication         0.57    0.64         0.64     0.60      0.61"
      ]
     },
     "execution_count": 8,
     "metadata": {},
     "output_type": "execute_result"
    }
   ],
   "source": [
    "scaled_df['combined'] = scaled_df[[\"LinkedIn\", \"Indeed\", \"SimplyHired\", \"Monster\"]].mean(axis = 1)\n",
    "scaled_df.head()"
   ]
  },
  {
   "cell_type": "markdown",
   "metadata": {
    "_uuid": "372a8d1b52a467085646d0ab8f30f9b38be7c400"
   },
   "source": [
    "# Charts with Plotly\n",
    "Let's make interactive charts with plotly. "
   ]
  },
  {
   "cell_type": "markdown",
   "metadata": {
    "_uuid": "c66e3583207d91b3632eaccdfbf152b83f0add03"
   },
   "source": [
    "## Let's look at the top 10 by site\n",
    "Based on the top 10 on LinkedIn, the largest site."
   ]
  },
  {
   "cell_type": "code",
   "execution_count": 9,
   "metadata": {
    "_uuid": "fa17ad56fb616660eb49ea597e2e3e6c6a68b21c"
   },
   "outputs": [
    {
     "data": {
      "text/plain": [
       "Keyword\n",
       "machine learning   1.00\n",
       "analysis           0.90\n",
       "statistics         0.85\n",
       "computer science   0.78\n",
       "communication      0.57\n",
       "mathematics        0.41\n",
       "visualization      0.28\n",
       "AI composite       0.22\n",
       "Name: LinkedIn, dtype: float64"
      ]
     },
     "execution_count": 9,
     "metadata": {},
     "output_type": "execute_result"
    }
   ],
   "source": [
    "num_sites = 8\n",
    "\n",
    "y_linkedin = scaled_df.iloc[:num_sites, 0]\n",
    "y_indeed = scaled_df.iloc[:num_sites, 1]\n",
    "y_monster = scaled_df.iloc[:num_sites, 2]\n",
    "y_simply = scaled_df.iloc[:num_sites, 3]\n",
    "\n",
    "y_linkedin"
   ]
  },
  {
   "cell_type": "code",
   "execution_count": 10,
   "metadata": {
    "_uuid": "93ad1bee74529e9a881b5df207cd5636b573b51d"
   },
   "outputs": [
    {
     "data": {
      "application/vnd.plotly.v1+json": {
       "data": [
        {
         "name": "LinkedIn",
         "type": "bar",
         "uid": "2c07171c-d2eb-11e8-bffc-52540069414d",
         "x": [
          "machine learning",
          "analysis",
          "statistics",
          "computer science",
          "communication",
          "mathematics",
          "visualization",
          "AI composite",
          "deep learning",
          "NLP composite",
          "software development",
          "neural networks",
          "data engineering",
          "project management",
          "software engineering"
         ],
         "y": [
          1,
          0.8992057488653555,
          0.8472012102874433,
          0.7760968229954615,
          0.5656202723146747,
          0.41452344931921337,
          0.277231467473525,
          0.2184190620272315
         ]
        },
        {
         "name": "Indeed",
         "type": "bar",
         "uid": "2c07171d-d2eb-11e8-bffc-52540069414d",
         "x": [
          "machine learning",
          "analysis",
          "statistics",
          "computer science",
          "communication",
          "mathematics",
          "visualization",
          "AI composite",
          "deep learning",
          "NLP composite",
          "software development",
          "neural networks",
          "data engineering",
          "project management",
          "software engineering"
         ],
         "y": [
          0.9809672386895476,
          1,
          0.8414976599063964,
          0.7625585023400937,
          0.6393135725429018,
          0.5198127925117005,
          0.34882995319812793,
          0.25897035881435254
         ]
        },
        {
         "name": "SimplyHired",
         "type": "bar",
         "uid": "2c07171e-d2eb-11e8-bffc-52540069414d",
         "x": [
          "machine learning",
          "analysis",
          "statistics",
          "computer science",
          "communication",
          "mathematics",
          "visualization",
          "AI composite",
          "deep learning",
          "NLP composite",
          "software development",
          "neural networks",
          "data engineering",
          "project management",
          "software engineering"
         ],
         "y": [
          0.6889890534449452,
          1,
          0.7079845460399227,
          0.5473277527366387,
          0.5965872504829363,
          0.5199613650998068,
          0.32421120412105603,
          0.1567933032839665
         ]
        },
        {
         "name": "Monster",
         "type": "bar",
         "uid": "2c07171f-d2eb-11e8-bffc-52540069414d",
         "x": [
          "machine learning",
          "analysis",
          "statistics",
          "computer science",
          "communication",
          "mathematics",
          "visualization",
          "AI composite",
          "deep learning",
          "NLP composite",
          "software development",
          "neural networks",
          "data engineering",
          "project management",
          "software engineering"
         ],
         "y": [
          0.955748552522746,
          1,
          0.8511166253101737,
          0.7622001654259719,
          0.6373035566583954,
          0.5157154673283706,
          0.37344913151364767,
          0.23200992555831265
         ]
        }
       ],
       "layout": {
        "barmode": "group",
        "title": "Top Software in Job Listings for Data Scientists",
        "xaxis": {
         "title": "Software"
        },
        "yaxis": {
         "separatethousands": true,
         "title": "Scaled Listings"
        }
       }
      },
      "text/html": [
       "<div id=\"cc6b0388-c757-495a-9a77-63e006c70da1\" style=\"height: 525px; width: 100%;\" class=\"plotly-graph-div\"></div><script type=\"text/javascript\">require([\"plotly\"], function(Plotly) { window.PLOTLYENV=window.PLOTLYENV || {};window.PLOTLYENV.BASE_URL=\"https://plot.ly\";Plotly.newPlot(\"cc6b0388-c757-495a-9a77-63e006c70da1\", [{\"name\": \"LinkedIn\", \"y\": [1.0, 0.8992057488653555, 0.8472012102874433, 0.7760968229954615, 0.5656202723146747, 0.41452344931921337, 0.277231467473525, 0.2184190620272315], \"type\": \"bar\", \"x\": [\"machine learning\", \"analysis\", \"statistics\", \"computer science\", \"communication\", \"mathematics\", \"visualization\", \"AI composite\", \"deep learning\", \"NLP composite\", \"software development\", \"neural networks\", \"data engineering\", \"project management\", \"software engineering\"], \"uid\": \"2c07171c-d2eb-11e8-bffc-52540069414d\"}, {\"name\": \"Indeed\", \"y\": [0.9809672386895476, 1.0, 0.8414976599063964, 0.7625585023400937, 0.6393135725429018, 0.5198127925117005, 0.34882995319812793, 0.25897035881435254], \"type\": \"bar\", \"x\": [\"machine learning\", \"analysis\", \"statistics\", \"computer science\", \"communication\", \"mathematics\", \"visualization\", \"AI composite\", \"deep learning\", \"NLP composite\", \"software development\", \"neural networks\", \"data engineering\", \"project management\", \"software engineering\"], \"uid\": \"2c07171d-d2eb-11e8-bffc-52540069414d\"}, {\"name\": \"SimplyHired\", \"y\": [0.6889890534449452, 1.0, 0.7079845460399227, 0.5473277527366387, 0.5965872504829363, 0.5199613650998068, 0.32421120412105603, 0.1567933032839665], \"type\": \"bar\", \"x\": [\"machine learning\", \"analysis\", \"statistics\", \"computer science\", \"communication\", \"mathematics\", \"visualization\", \"AI composite\", \"deep learning\", \"NLP composite\", \"software development\", \"neural networks\", \"data engineering\", \"project management\", \"software engineering\"], \"uid\": \"2c07171e-d2eb-11e8-bffc-52540069414d\"}, {\"name\": \"Monster\", \"y\": [0.955748552522746, 1.0, 0.8511166253101737, 0.7622001654259719, 0.6373035566583954, 0.5157154673283706, 0.37344913151364767, 0.23200992555831265], \"type\": \"bar\", \"x\": [\"machine learning\", \"analysis\", \"statistics\", \"computer science\", \"communication\", \"mathematics\", \"visualization\", \"AI composite\", \"deep learning\", \"NLP composite\", \"software development\", \"neural networks\", \"data engineering\", \"project management\", \"software engineering\"], \"uid\": \"2c07171f-d2eb-11e8-bffc-52540069414d\"}], {\"title\": \"Top Software in Job Listings for Data Scientists\", \"xaxis\": {\"title\": \"Software\"}, \"yaxis\": {\"title\": \"Scaled Listings\", \"separatethousands\": true}, \"barmode\": \"group\"}, {\"showLink\": true, \"linkText\": \"Export to plot.ly\"})});</script>"
      ],
      "text/vnd.plotly.v1+html": [
       "<div id=\"cc6b0388-c757-495a-9a77-63e006c70da1\" style=\"height: 525px; width: 100%;\" class=\"plotly-graph-div\"></div><script type=\"text/javascript\">require([\"plotly\"], function(Plotly) { window.PLOTLYENV=window.PLOTLYENV || {};window.PLOTLYENV.BASE_URL=\"https://plot.ly\";Plotly.newPlot(\"cc6b0388-c757-495a-9a77-63e006c70da1\", [{\"name\": \"LinkedIn\", \"y\": [1.0, 0.8992057488653555, 0.8472012102874433, 0.7760968229954615, 0.5656202723146747, 0.41452344931921337, 0.277231467473525, 0.2184190620272315], \"type\": \"bar\", \"x\": [\"machine learning\", \"analysis\", \"statistics\", \"computer science\", \"communication\", \"mathematics\", \"visualization\", \"AI composite\", \"deep learning\", \"NLP composite\", \"software development\", \"neural networks\", \"data engineering\", \"project management\", \"software engineering\"], \"uid\": \"2c07171c-d2eb-11e8-bffc-52540069414d\"}, {\"name\": \"Indeed\", \"y\": [0.9809672386895476, 1.0, 0.8414976599063964, 0.7625585023400937, 0.6393135725429018, 0.5198127925117005, 0.34882995319812793, 0.25897035881435254], \"type\": \"bar\", \"x\": [\"machine learning\", \"analysis\", \"statistics\", \"computer science\", \"communication\", \"mathematics\", \"visualization\", \"AI composite\", \"deep learning\", \"NLP composite\", \"software development\", \"neural networks\", \"data engineering\", \"project management\", \"software engineering\"], \"uid\": \"2c07171d-d2eb-11e8-bffc-52540069414d\"}, {\"name\": \"SimplyHired\", \"y\": [0.6889890534449452, 1.0, 0.7079845460399227, 0.5473277527366387, 0.5965872504829363, 0.5199613650998068, 0.32421120412105603, 0.1567933032839665], \"type\": \"bar\", \"x\": [\"machine learning\", \"analysis\", \"statistics\", \"computer science\", \"communication\", \"mathematics\", \"visualization\", \"AI composite\", \"deep learning\", \"NLP composite\", \"software development\", \"neural networks\", \"data engineering\", \"project management\", \"software engineering\"], \"uid\": \"2c07171e-d2eb-11e8-bffc-52540069414d\"}, {\"name\": \"Monster\", \"y\": [0.955748552522746, 1.0, 0.8511166253101737, 0.7622001654259719, 0.6373035566583954, 0.5157154673283706, 0.37344913151364767, 0.23200992555831265], \"type\": \"bar\", \"x\": [\"machine learning\", \"analysis\", \"statistics\", \"computer science\", \"communication\", \"mathematics\", \"visualization\", \"AI composite\", \"deep learning\", \"NLP composite\", \"software development\", \"neural networks\", \"data engineering\", \"project management\", \"software engineering\"], \"uid\": \"2c07171f-d2eb-11e8-bffc-52540069414d\"}], {\"title\": \"Top Software in Job Listings for Data Scientists\", \"xaxis\": {\"title\": \"Software\"}, \"yaxis\": {\"title\": \"Scaled Listings\", \"separatethousands\": true}, \"barmode\": \"group\"}, {\"showLink\": true, \"linkText\": \"Export to plot.ly\"})});</script>"
      ]
     },
     "metadata": {},
     "output_type": "display_data"
    }
   ],
   "source": [
    "indeed = go.Bar(x=scaled_df.index, y=y_indeed, name = \"Indeed\")\n",
    "simply = go.Bar(x=scaled_df.index, y=y_simply, name=\"SimplyHired\")\n",
    "monster = go.Bar(x=scaled_df.index, y=y_monster, name=\"Monster\")\n",
    "linked = go.Bar(x=scaled_df.index, y=y_linkedin, name=\"LinkedIn\")\n",
    "\n",
    "data = [linked, indeed, simply, monster]\n",
    "\n",
    "layout = go.Layout(\n",
    "    barmode='group',\n",
    "    title=\"Top Software in Job Listings for Data Scientists\",\n",
    "    xaxis={'title': 'Software'},\n",
    "    yaxis={'title': \"Scaled Listings\", 'separatethousands': True,\n",
    "    }\n",
    ")\n",
    "\n",
    "fig = go.Figure(data=data, layout=layout)\n",
    "py.iplot(fig)"
   ]
  },
  {
   "cell_type": "markdown",
   "metadata": {
    "_uuid": "fef5e195064713dda6c91d417c92aef1f00c80e0"
   },
   "source": [
    "Let's clean things up for publication"
   ]
  },
  {
   "cell_type": "code",
   "execution_count": 11,
   "metadata": {
    "_uuid": "80b5fc2b470b95ade030b09016c07d72eb3a5b59"
   },
   "outputs": [
    {
     "data": {
      "text/html": [
       "<div>\n",
       "<style scoped>\n",
       "    .dataframe tbody tr th:only-of-type {\n",
       "        vertical-align: middle;\n",
       "    }\n",
       "\n",
       "    .dataframe tbody tr th {\n",
       "        vertical-align: top;\n",
       "    }\n",
       "\n",
       "    .dataframe thead th {\n",
       "        text-align: right;\n",
       "    }\n",
       "</style>\n",
       "<table border=\"1\" class=\"dataframe\">\n",
       "  <thead>\n",
       "    <tr style=\"text-align: right;\">\n",
       "      <th></th>\n",
       "      <th>LinkedIn</th>\n",
       "      <th>Indeed</th>\n",
       "      <th>SimplyHired</th>\n",
       "      <th>Monster</th>\n",
       "      <th>Score</th>\n",
       "    </tr>\n",
       "    <tr>\n",
       "      <th>Keyword</th>\n",
       "      <th></th>\n",
       "      <th></th>\n",
       "      <th></th>\n",
       "      <th></th>\n",
       "      <th></th>\n",
       "    </tr>\n",
       "  </thead>\n",
       "  <tbody>\n",
       "    <tr>\n",
       "      <th>analysis</th>\n",
       "      <td>89.92</td>\n",
       "      <td>100.00</td>\n",
       "      <td>100.00</td>\n",
       "      <td>100.00</td>\n",
       "      <td>97.48</td>\n",
       "    </tr>\n",
       "    <tr>\n",
       "      <th>machine learning</th>\n",
       "      <td>100.00</td>\n",
       "      <td>98.10</td>\n",
       "      <td>95.57</td>\n",
       "      <td>68.90</td>\n",
       "      <td>90.64</td>\n",
       "    </tr>\n",
       "    <tr>\n",
       "      <th>statistics</th>\n",
       "      <td>84.72</td>\n",
       "      <td>84.15</td>\n",
       "      <td>85.11</td>\n",
       "      <td>70.80</td>\n",
       "      <td>81.20</td>\n",
       "    </tr>\n",
       "    <tr>\n",
       "      <th>computer science</th>\n",
       "      <td>77.61</td>\n",
       "      <td>76.26</td>\n",
       "      <td>76.22</td>\n",
       "      <td>54.73</td>\n",
       "      <td>71.20</td>\n",
       "    </tr>\n",
       "    <tr>\n",
       "      <th>communication</th>\n",
       "      <td>56.56</td>\n",
       "      <td>63.93</td>\n",
       "      <td>63.73</td>\n",
       "      <td>59.66</td>\n",
       "      <td>60.97</td>\n",
       "    </tr>\n",
       "  </tbody>\n",
       "</table>\n",
       "</div>"
      ],
      "text/plain": [
       "                  LinkedIn  Indeed  SimplyHired  Monster  Score\n",
       "Keyword                                                        \n",
       "analysis             89.92  100.00       100.00   100.00  97.48\n",
       "machine learning    100.00   98.10        95.57    68.90  90.64\n",
       "statistics           84.72   84.15        85.11    70.80  81.20\n",
       "computer science     77.61   76.26        76.22    54.73  71.20\n",
       "communication        56.56   63.93        63.73    59.66  60.97"
      ]
     },
     "execution_count": 11,
     "metadata": {},
     "output_type": "execute_result"
    }
   ],
   "source": [
    "p_s_df = scaled_df * 100\n",
    "p_s_df = p_s_df.round(2)\n",
    "p_s_df.columns = ['LinkedIn', 'Indeed', 'SimplyHired', 'Monster', 'Score']\n",
    "p_s_df = p_s_df.sort_values(by=['Score'], ascending = False)\n",
    "p_s_df.head()"
   ]
  },
  {
   "cell_type": "markdown",
   "metadata": {
    "_uuid": "57169cbec7924db5176478a7b34056a3a926d4f8"
   },
   "source": [
    "Let's rename Microsoft Office. Otherwise it gets cut off."
   ]
  },
  {
   "cell_type": "code",
   "execution_count": 12,
   "metadata": {
    "_uuid": "3151b8b5358fcfcf2b0d89b3239cf5e3c6bd9877"
   },
   "outputs": [
    {
     "data": {
      "text/html": [
       "<div>\n",
       "<style scoped>\n",
       "    .dataframe tbody tr th:only-of-type {\n",
       "        vertical-align: middle;\n",
       "    }\n",
       "\n",
       "    .dataframe tbody tr th {\n",
       "        vertical-align: top;\n",
       "    }\n",
       "\n",
       "    .dataframe thead th {\n",
       "        text-align: right;\n",
       "    }\n",
       "</style>\n",
       "<table border=\"1\" class=\"dataframe\">\n",
       "  <thead>\n",
       "    <tr style=\"text-align: right;\">\n",
       "      <th></th>\n",
       "      <th>LinkedIn</th>\n",
       "      <th>Indeed</th>\n",
       "      <th>SimplyHired</th>\n",
       "      <th>Monster</th>\n",
       "      <th>Score</th>\n",
       "    </tr>\n",
       "    <tr>\n",
       "      <th>Keyword</th>\n",
       "      <th></th>\n",
       "      <th></th>\n",
       "      <th></th>\n",
       "      <th></th>\n",
       "      <th></th>\n",
       "    </tr>\n",
       "  </thead>\n",
       "  <tbody>\n",
       "    <tr>\n",
       "      <th>analysis</th>\n",
       "      <td>89.92</td>\n",
       "      <td>100.00</td>\n",
       "      <td>100.00</td>\n",
       "      <td>100.00</td>\n",
       "      <td>97.48</td>\n",
       "    </tr>\n",
       "    <tr>\n",
       "      <th>machine learning</th>\n",
       "      <td>100.00</td>\n",
       "      <td>98.10</td>\n",
       "      <td>95.57</td>\n",
       "      <td>68.90</td>\n",
       "      <td>90.64</td>\n",
       "    </tr>\n",
       "    <tr>\n",
       "      <th>statistics</th>\n",
       "      <td>84.72</td>\n",
       "      <td>84.15</td>\n",
       "      <td>85.11</td>\n",
       "      <td>70.80</td>\n",
       "      <td>81.20</td>\n",
       "    </tr>\n",
       "    <tr>\n",
       "      <th>computer science</th>\n",
       "      <td>77.61</td>\n",
       "      <td>76.26</td>\n",
       "      <td>76.22</td>\n",
       "      <td>54.73</td>\n",
       "      <td>71.20</td>\n",
       "    </tr>\n",
       "    <tr>\n",
       "      <th>communication</th>\n",
       "      <td>56.56</td>\n",
       "      <td>63.93</td>\n",
       "      <td>63.73</td>\n",
       "      <td>59.66</td>\n",
       "      <td>60.97</td>\n",
       "    </tr>\n",
       "    <tr>\n",
       "      <th>mathematics</th>\n",
       "      <td>41.45</td>\n",
       "      <td>51.98</td>\n",
       "      <td>51.57</td>\n",
       "      <td>52.00</td>\n",
       "      <td>49.25</td>\n",
       "    </tr>\n",
       "    <tr>\n",
       "      <th>visualization</th>\n",
       "      <td>27.72</td>\n",
       "      <td>34.88</td>\n",
       "      <td>37.34</td>\n",
       "      <td>32.42</td>\n",
       "      <td>33.09</td>\n",
       "    </tr>\n",
       "    <tr>\n",
       "      <th>AI composite</th>\n",
       "      <td>21.84</td>\n",
       "      <td>25.90</td>\n",
       "      <td>23.20</td>\n",
       "      <td>15.68</td>\n",
       "      <td>21.65</td>\n",
       "    </tr>\n",
       "    <tr>\n",
       "      <th>deep learning</th>\n",
       "      <td>16.96</td>\n",
       "      <td>21.34</td>\n",
       "      <td>17.58</td>\n",
       "      <td>13.07</td>\n",
       "      <td>17.24</td>\n",
       "    </tr>\n",
       "    <tr>\n",
       "      <th>NLP composite</th>\n",
       "      <td>15.11</td>\n",
       "      <td>19.19</td>\n",
       "      <td>16.96</td>\n",
       "      <td>12.30</td>\n",
       "      <td>15.89</td>\n",
       "    </tr>\n",
       "    <tr>\n",
       "      <th>software development</th>\n",
       "      <td>6.03</td>\n",
       "      <td>10.36</td>\n",
       "      <td>9.55</td>\n",
       "      <td>18.80</td>\n",
       "      <td>11.19</td>\n",
       "    </tr>\n",
       "    <tr>\n",
       "      <th>neural networks</th>\n",
       "      <td>4.88</td>\n",
       "      <td>5.93</td>\n",
       "      <td>7.07</td>\n",
       "      <td>3.38</td>\n",
       "      <td>5.31</td>\n",
       "    </tr>\n",
       "    <tr>\n",
       "      <th>project management</th>\n",
       "      <td>1.19</td>\n",
       "      <td>3.18</td>\n",
       "      <td>3.31</td>\n",
       "      <td>4.76</td>\n",
       "      <td>3.11</td>\n",
       "    </tr>\n",
       "    <tr>\n",
       "      <th>software engineering</th>\n",
       "      <td>0.00</td>\n",
       "      <td>0.00</td>\n",
       "      <td>0.00</td>\n",
       "      <td>10.05</td>\n",
       "      <td>2.51</td>\n",
       "    </tr>\n",
       "    <tr>\n",
       "      <th>data engineering</th>\n",
       "      <td>1.91</td>\n",
       "      <td>nan</td>\n",
       "      <td>nan</td>\n",
       "      <td>0.00</td>\n",
       "      <td>0.95</td>\n",
       "    </tr>\n",
       "  </tbody>\n",
       "</table>\n",
       "</div>"
      ],
      "text/plain": [
       "                      LinkedIn  Indeed  SimplyHired  Monster  Score\n",
       "Keyword                                                            \n",
       "analysis                 89.92  100.00       100.00   100.00  97.48\n",
       "machine learning        100.00   98.10        95.57    68.90  90.64\n",
       "statistics               84.72   84.15        85.11    70.80  81.20\n",
       "computer science         77.61   76.26        76.22    54.73  71.20\n",
       "communication            56.56   63.93        63.73    59.66  60.97\n",
       "mathematics              41.45   51.98        51.57    52.00  49.25\n",
       "visualization            27.72   34.88        37.34    32.42  33.09\n",
       "AI composite             21.84   25.90        23.20    15.68  21.65\n",
       "deep learning            16.96   21.34        17.58    13.07  17.24\n",
       "NLP composite            15.11   19.19        16.96    12.30  15.89\n",
       "software development      6.03   10.36         9.55    18.80  11.19\n",
       "neural networks           4.88    5.93         7.07     3.38   5.31\n",
       "project management        1.19    3.18         3.31     4.76   3.11\n",
       "software engineering      0.00    0.00         0.00    10.05   2.51\n",
       "data engineering          1.91     nan          nan     0.00   0.95"
      ]
     },
     "execution_count": 12,
     "metadata": {},
     "output_type": "execute_result"
    }
   ],
   "source": [
    "p_s_df.rename(index = {'Microsoft Office': 'MS Office'}, inplace = True)\n",
    "p_s_df"
   ]
  },
  {
   "cell_type": "markdown",
   "metadata": {
    "_uuid": "07672e4e0256898f58fcbdc9b6b1978aea93fba9"
   },
   "source": [
    "## Let's look at the top 20 scores"
   ]
  },
  {
   "cell_type": "code",
   "execution_count": 13,
   "metadata": {
    "_uuid": "69239eba4a40cbf40d380c7bfd06026417ce635d"
   },
   "outputs": [
    {
     "data": {
      "text/html": [
       "<div>\n",
       "<style scoped>\n",
       "    .dataframe tbody tr th:only-of-type {\n",
       "        vertical-align: middle;\n",
       "    }\n",
       "\n",
       "    .dataframe tbody tr th {\n",
       "        vertical-align: top;\n",
       "    }\n",
       "\n",
       "    .dataframe thead th {\n",
       "        text-align: right;\n",
       "    }\n",
       "</style>\n",
       "<table border=\"1\" class=\"dataframe\">\n",
       "  <thead>\n",
       "    <tr style=\"text-align: right;\">\n",
       "      <th></th>\n",
       "      <th>LinkedIn</th>\n",
       "      <th>Indeed</th>\n",
       "      <th>SimplyHired</th>\n",
       "      <th>Monster</th>\n",
       "      <th>Score</th>\n",
       "    </tr>\n",
       "    <tr>\n",
       "      <th>Keyword</th>\n",
       "      <th></th>\n",
       "      <th></th>\n",
       "      <th></th>\n",
       "      <th></th>\n",
       "      <th></th>\n",
       "    </tr>\n",
       "  </thead>\n",
       "  <tbody>\n",
       "    <tr>\n",
       "      <th>analysis</th>\n",
       "      <td>89.92</td>\n",
       "      <td>100.00</td>\n",
       "      <td>100.00</td>\n",
       "      <td>100.00</td>\n",
       "      <td>97.48</td>\n",
       "    </tr>\n",
       "    <tr>\n",
       "      <th>machine learning</th>\n",
       "      <td>100.00</td>\n",
       "      <td>98.10</td>\n",
       "      <td>95.57</td>\n",
       "      <td>68.90</td>\n",
       "      <td>90.64</td>\n",
       "    </tr>\n",
       "    <tr>\n",
       "      <th>statistics</th>\n",
       "      <td>84.72</td>\n",
       "      <td>84.15</td>\n",
       "      <td>85.11</td>\n",
       "      <td>70.80</td>\n",
       "      <td>81.20</td>\n",
       "    </tr>\n",
       "    <tr>\n",
       "      <th>computer science</th>\n",
       "      <td>77.61</td>\n",
       "      <td>76.26</td>\n",
       "      <td>76.22</td>\n",
       "      <td>54.73</td>\n",
       "      <td>71.20</td>\n",
       "    </tr>\n",
       "    <tr>\n",
       "      <th>communication</th>\n",
       "      <td>56.56</td>\n",
       "      <td>63.93</td>\n",
       "      <td>63.73</td>\n",
       "      <td>59.66</td>\n",
       "      <td>60.97</td>\n",
       "    </tr>\n",
       "    <tr>\n",
       "      <th>mathematics</th>\n",
       "      <td>41.45</td>\n",
       "      <td>51.98</td>\n",
       "      <td>51.57</td>\n",
       "      <td>52.00</td>\n",
       "      <td>49.25</td>\n",
       "    </tr>\n",
       "    <tr>\n",
       "      <th>visualization</th>\n",
       "      <td>27.72</td>\n",
       "      <td>34.88</td>\n",
       "      <td>37.34</td>\n",
       "      <td>32.42</td>\n",
       "      <td>33.09</td>\n",
       "    </tr>\n",
       "    <tr>\n",
       "      <th>AI composite</th>\n",
       "      <td>21.84</td>\n",
       "      <td>25.90</td>\n",
       "      <td>23.20</td>\n",
       "      <td>15.68</td>\n",
       "      <td>21.65</td>\n",
       "    </tr>\n",
       "    <tr>\n",
       "      <th>deep learning</th>\n",
       "      <td>16.96</td>\n",
       "      <td>21.34</td>\n",
       "      <td>17.58</td>\n",
       "      <td>13.07</td>\n",
       "      <td>17.24</td>\n",
       "    </tr>\n",
       "    <tr>\n",
       "      <th>NLP composite</th>\n",
       "      <td>15.11</td>\n",
       "      <td>19.19</td>\n",
       "      <td>16.96</td>\n",
       "      <td>12.30</td>\n",
       "      <td>15.89</td>\n",
       "    </tr>\n",
       "    <tr>\n",
       "      <th>software development</th>\n",
       "      <td>6.03</td>\n",
       "      <td>10.36</td>\n",
       "      <td>9.55</td>\n",
       "      <td>18.80</td>\n",
       "      <td>11.19</td>\n",
       "    </tr>\n",
       "    <tr>\n",
       "      <th>neural networks</th>\n",
       "      <td>4.88</td>\n",
       "      <td>5.93</td>\n",
       "      <td>7.07</td>\n",
       "      <td>3.38</td>\n",
       "      <td>5.31</td>\n",
       "    </tr>\n",
       "    <tr>\n",
       "      <th>project management</th>\n",
       "      <td>1.19</td>\n",
       "      <td>3.18</td>\n",
       "      <td>3.31</td>\n",
       "      <td>4.76</td>\n",
       "      <td>3.11</td>\n",
       "    </tr>\n",
       "    <tr>\n",
       "      <th>software engineering</th>\n",
       "      <td>0.00</td>\n",
       "      <td>0.00</td>\n",
       "      <td>0.00</td>\n",
       "      <td>10.05</td>\n",
       "      <td>2.51</td>\n",
       "    </tr>\n",
       "    <tr>\n",
       "      <th>data engineering</th>\n",
       "      <td>1.91</td>\n",
       "      <td>nan</td>\n",
       "      <td>nan</td>\n",
       "      <td>0.00</td>\n",
       "      <td>0.95</td>\n",
       "    </tr>\n",
       "  </tbody>\n",
       "</table>\n",
       "</div>"
      ],
      "text/plain": [
       "                      LinkedIn  Indeed  SimplyHired  Monster  Score\n",
       "Keyword                                                            \n",
       "analysis                 89.92  100.00       100.00   100.00  97.48\n",
       "machine learning        100.00   98.10        95.57    68.90  90.64\n",
       "statistics               84.72   84.15        85.11    70.80  81.20\n",
       "computer science         77.61   76.26        76.22    54.73  71.20\n",
       "communication            56.56   63.93        63.73    59.66  60.97\n",
       "mathematics              41.45   51.98        51.57    52.00  49.25\n",
       "visualization            27.72   34.88        37.34    32.42  33.09\n",
       "AI composite             21.84   25.90        23.20    15.68  21.65\n",
       "deep learning            16.96   21.34        17.58    13.07  17.24\n",
       "NLP composite            15.11   19.19        16.96    12.30  15.89\n",
       "software development      6.03   10.36         9.55    18.80  11.19\n",
       "neural networks           4.88    5.93         7.07     3.38   5.31\n",
       "project management        1.19    3.18         3.31     4.76   3.11\n",
       "software engineering      0.00    0.00         0.00    10.05   2.51\n",
       "data engineering          1.91     nan          nan     0.00   0.95"
      ]
     },
     "execution_count": 13,
     "metadata": {},
     "output_type": "execute_result"
    }
   ],
   "source": [
    "p_s_df_20 = p_s_df.iloc[:20,:]\n",
    "p_s_df_20"
   ]
  },
  {
   "cell_type": "markdown",
   "metadata": {
    "_uuid": "30556737b79e9589651ccd456d3e0f16ece650f8"
   },
   "source": [
    "## Let's make a bar chart of the top 20 combined scores"
   ]
  },
  {
   "cell_type": "code",
   "execution_count": 14,
   "metadata": {
    "_uuid": "9d576434ed8784736ccac0f71a89a7bf01b47431"
   },
   "outputs": [
    {
     "data": {
      "application/vnd.plotly.v1+json": {
       "data": [
        {
         "marker": {
          "color": [
           50,
           57.89473684210526,
           65.78947368421052,
           73.68421052631578,
           81.57894736842105,
           89.47368421052632,
           97.36842105263158,
           105.26315789473685,
           113.15789473684211,
           121.05263157894737,
           128.94736842105263,
           136.8421052631579,
           144.73684210526315,
           152.6315789473684,
           160.5263157894737,
           168.42105263157896,
           176.31578947368422,
           184.21052631578948,
           192.10526315789474,
           200
          ],
          "colorscale": "Jet"
         },
         "type": "bar",
         "uid": "2c071720-d2eb-11e8-bffc-52540069414d",
         "x": [
          "analysis",
          "machine learning",
          "statistics",
          "computer science",
          "communication",
          "mathematics",
          "visualization",
          "AI composite",
          "deep learning",
          "NLP composite",
          "software development",
          "neural networks",
          "project management",
          "software engineering",
          "data engineering"
         ],
         "y": [
          97.48,
          90.64,
          81.2,
          71.2,
          60.97,
          49.25,
          33.09,
          21.65,
          17.24,
          15.89,
          11.19,
          5.31,
          3.11,
          2.51,
          0.95
         ]
        }
       ],
       "layout": {
        "title": "Top 20 Technology Skills in Data Scientist Job Listings",
        "yaxis": {
         "title": "Score"
        }
       }
      },
      "text/html": [
       "<div id=\"61bd76b9-f9f1-4a21-8240-88ce58b1578f\" style=\"height: 525px; width: 100%;\" class=\"plotly-graph-div\"></div><script type=\"text/javascript\">require([\"plotly\"], function(Plotly) { window.PLOTLYENV=window.PLOTLYENV || {};window.PLOTLYENV.BASE_URL=\"https://plot.ly\";Plotly.newPlot(\"61bd76b9-f9f1-4a21-8240-88ce58b1578f\", [{\"uid\": \"2c071720-d2eb-11e8-bffc-52540069414d\", \"y\": [97.48, 90.64, 81.2, 71.2, 60.97, 49.25, 33.09, 21.65, 17.24, 15.89, 11.19, 5.31, 3.11, 2.51, 0.95], \"type\": \"bar\", \"x\": [\"analysis\", \"machine learning\", \"statistics\", \"computer science\", \"communication\", \"mathematics\", \"visualization\", \"AI composite\", \"deep learning\", \"NLP composite\", \"software development\", \"neural networks\", \"project management\", \"software engineering\", \"data engineering\"], \"marker\": {\"colorscale\": \"Jet\", \"color\": [50.0, 57.89473684210526, 65.78947368421052, 73.68421052631578, 81.57894736842105, 89.47368421052632, 97.36842105263158, 105.26315789473685, 113.15789473684211, 121.05263157894737, 128.94736842105263, 136.8421052631579, 144.73684210526315, 152.6315789473684, 160.5263157894737, 168.42105263157896, 176.31578947368422, 184.21052631578948, 192.10526315789474, 200.0]}}], {\"title\": \"Top 20 Technology Skills in Data Scientist Job Listings\", \"yaxis\": {\"title\": \"Score\"}}, {\"showLink\": true, \"linkText\": \"Export to plot.ly\"})});</script>"
      ],
      "text/vnd.plotly.v1+html": [
       "<div id=\"61bd76b9-f9f1-4a21-8240-88ce58b1578f\" style=\"height: 525px; width: 100%;\" class=\"plotly-graph-div\"></div><script type=\"text/javascript\">require([\"plotly\"], function(Plotly) { window.PLOTLYENV=window.PLOTLYENV || {};window.PLOTLYENV.BASE_URL=\"https://plot.ly\";Plotly.newPlot(\"61bd76b9-f9f1-4a21-8240-88ce58b1578f\", [{\"uid\": \"2c071720-d2eb-11e8-bffc-52540069414d\", \"y\": [97.48, 90.64, 81.2, 71.2, 60.97, 49.25, 33.09, 21.65, 17.24, 15.89, 11.19, 5.31, 3.11, 2.51, 0.95], \"type\": \"bar\", \"x\": [\"analysis\", \"machine learning\", \"statistics\", \"computer science\", \"communication\", \"mathematics\", \"visualization\", \"AI composite\", \"deep learning\", \"NLP composite\", \"software development\", \"neural networks\", \"project management\", \"software engineering\", \"data engineering\"], \"marker\": {\"colorscale\": \"Jet\", \"color\": [50.0, 57.89473684210526, 65.78947368421052, 73.68421052631578, 81.57894736842105, 89.47368421052632, 97.36842105263158, 105.26315789473685, 113.15789473684211, 121.05263157894737, 128.94736842105263, 136.8421052631579, 144.73684210526315, 152.6315789473684, 160.5263157894737, 168.42105263157896, 176.31578947368422, 184.21052631578948, 192.10526315789474, 200.0]}}], {\"title\": \"Top 20 Technology Skills in Data Scientist Job Listings\", \"yaxis\": {\"title\": \"Score\"}}, {\"showLink\": true, \"linkText\": \"Export to plot.ly\"})});</script>"
      ]
     },
     "metadata": {},
     "output_type": "display_data"
    }
   ],
   "source": [
    "cmax=200\n",
    "cmin=50\n",
    "color_s = np.linspace(cmin, cmax, 20)\n",
    "\n",
    "data = [\n",
    "    go.Bar(\n",
    "        x=p_s_df_20.index,          \n",
    "        y=p_s_df_20['Score'],\n",
    "        marker=dict(\n",
    "            colorscale='Jet',\n",
    "            color=color_s,\n",
    "        ),\n",
    "    )\n",
    "]\n",
    "\n",
    "layout = {\n",
    "    'title': 'Top 20 Technology Skills in Data Scientist Job Listings',\n",
    "    #'xaxis': {'title': 'Technology'},\n",
    "    'yaxis': {'title': \"Score\"}\n",
    "}\n",
    "\n",
    "fig = go.Figure(data=data, layout=layout)\n",
    "py.iplot(fig)"
   ]
  },
  {
   "cell_type": "markdown",
   "metadata": {
    "_uuid": "c1e407a4480f89e066b7431758e92f3c9267cfb8"
   },
   "source": [
    "## Let's make a bar chart of all the combined scores"
   ]
  },
  {
   "cell_type": "code",
   "execution_count": 15,
   "metadata": {
    "_uuid": "6d5178a41350e25cb8e436c467fa7ed7f9459a50"
   },
   "outputs": [
    {
     "data": {
      "application/vnd.plotly.v1+json": {
       "data": [
        {
         "marker": {
          "color": [
           50,
           53.48837209302326,
           56.97674418604651,
           60.46511627906977,
           63.95348837209302,
           67.44186046511628,
           70.93023255813954,
           74.4186046511628,
           77.90697674418604,
           81.3953488372093,
           84.88372093023256,
           88.37209302325581,
           91.86046511627907,
           95.34883720930233,
           98.83720930232559,
           102.32558139534883,
           105.81395348837209,
           109.30232558139535,
           112.7906976744186,
           116.27906976744185,
           119.76744186046511,
           123.25581395348837,
           126.74418604651163,
           130.2325581395349,
           133.72093023255815,
           137.2093023255814,
           140.69767441860466,
           144.18604651162792,
           147.67441860465118,
           151.16279069767444,
           154.65116279069767,
           158.13953488372093,
           161.62790697674419,
           165.11627906976744,
           168.6046511627907,
           172.09302325581393,
           175.5813953488372,
           179.06976744186048,
           182.5581395348837,
           186.04651162790697,
           189.53488372093022,
           193.02325581395348,
           196.51162790697674,
           200
          ],
          "colorscale": "Jet"
         },
         "type": "bar",
         "uid": "2c071721-d2eb-11e8-bffc-52540069414d",
         "x": [
          "analysis",
          "machine learning",
          "statistics",
          "computer science",
          "communication",
          "mathematics",
          "visualization",
          "AI composite",
          "deep learning",
          "NLP composite",
          "software development",
          "neural networks",
          "project management",
          "software engineering",
          "data engineering"
         ],
         "y": [
          97.48,
          90.64,
          81.2,
          71.2,
          60.97,
          49.25,
          33.09,
          21.65,
          17.24,
          15.89,
          11.19,
          5.31,
          3.11,
          2.51,
          0.95
         ]
        }
       ],
       "layout": {
        "title": "Technology Skills in Data Scientist Job Listings",
        "yaxis": {
         "title": "Score"
        }
       }
      },
      "text/html": [
       "<div id=\"b23bd95b-3919-4c96-b2d3-63f6a93a3112\" style=\"height: 525px; width: 100%;\" class=\"plotly-graph-div\"></div><script type=\"text/javascript\">require([\"plotly\"], function(Plotly) { window.PLOTLYENV=window.PLOTLYENV || {};window.PLOTLYENV.BASE_URL=\"https://plot.ly\";Plotly.newPlot(\"b23bd95b-3919-4c96-b2d3-63f6a93a3112\", [{\"uid\": \"2c071721-d2eb-11e8-bffc-52540069414d\", \"y\": [97.48, 90.64, 81.2, 71.2, 60.97, 49.25, 33.09, 21.65, 17.24, 15.89, 11.19, 5.31, 3.11, 2.51, 0.95], \"type\": \"bar\", \"x\": [\"analysis\", \"machine learning\", \"statistics\", \"computer science\", \"communication\", \"mathematics\", \"visualization\", \"AI composite\", \"deep learning\", \"NLP composite\", \"software development\", \"neural networks\", \"project management\", \"software engineering\", \"data engineering\"], \"marker\": {\"colorscale\": \"Jet\", \"color\": [50.0, 53.48837209302326, 56.97674418604651, 60.46511627906977, 63.95348837209302, 67.44186046511628, 70.93023255813954, 74.4186046511628, 77.90697674418604, 81.3953488372093, 84.88372093023256, 88.37209302325581, 91.86046511627907, 95.34883720930233, 98.83720930232559, 102.32558139534883, 105.81395348837209, 109.30232558139535, 112.7906976744186, 116.27906976744185, 119.76744186046511, 123.25581395348837, 126.74418604651163, 130.2325581395349, 133.72093023255815, 137.2093023255814, 140.69767441860466, 144.18604651162792, 147.67441860465118, 151.16279069767444, 154.65116279069767, 158.13953488372093, 161.62790697674419, 165.11627906976744, 168.6046511627907, 172.09302325581393, 175.5813953488372, 179.06976744186048, 182.5581395348837, 186.04651162790697, 189.53488372093022, 193.02325581395348, 196.51162790697674, 200.0]}}], {\"title\": \"Technology Skills in Data Scientist Job Listings\", \"yaxis\": {\"title\": \"Score\"}}, {\"showLink\": true, \"linkText\": \"Export to plot.ly\"})});</script>"
      ],
      "text/vnd.plotly.v1+html": [
       "<div id=\"b23bd95b-3919-4c96-b2d3-63f6a93a3112\" style=\"height: 525px; width: 100%;\" class=\"plotly-graph-div\"></div><script type=\"text/javascript\">require([\"plotly\"], function(Plotly) { window.PLOTLYENV=window.PLOTLYENV || {};window.PLOTLYENV.BASE_URL=\"https://plot.ly\";Plotly.newPlot(\"b23bd95b-3919-4c96-b2d3-63f6a93a3112\", [{\"uid\": \"2c071721-d2eb-11e8-bffc-52540069414d\", \"y\": [97.48, 90.64, 81.2, 71.2, 60.97, 49.25, 33.09, 21.65, 17.24, 15.89, 11.19, 5.31, 3.11, 2.51, 0.95], \"type\": \"bar\", \"x\": [\"analysis\", \"machine learning\", \"statistics\", \"computer science\", \"communication\", \"mathematics\", \"visualization\", \"AI composite\", \"deep learning\", \"NLP composite\", \"software development\", \"neural networks\", \"project management\", \"software engineering\", \"data engineering\"], \"marker\": {\"colorscale\": \"Jet\", \"color\": [50.0, 53.48837209302326, 56.97674418604651, 60.46511627906977, 63.95348837209302, 67.44186046511628, 70.93023255813954, 74.4186046511628, 77.90697674418604, 81.3953488372093, 84.88372093023256, 88.37209302325581, 91.86046511627907, 95.34883720930233, 98.83720930232559, 102.32558139534883, 105.81395348837209, 109.30232558139535, 112.7906976744186, 116.27906976744185, 119.76744186046511, 123.25581395348837, 126.74418604651163, 130.2325581395349, 133.72093023255815, 137.2093023255814, 140.69767441860466, 144.18604651162792, 147.67441860465118, 151.16279069767444, 154.65116279069767, 158.13953488372093, 161.62790697674419, 165.11627906976744, 168.6046511627907, 172.09302325581393, 175.5813953488372, 179.06976744186048, 182.5581395348837, 186.04651162790697, 189.53488372093022, 193.02325581395348, 196.51162790697674, 200.0]}}], {\"title\": \"Technology Skills in Data Scientist Job Listings\", \"yaxis\": {\"title\": \"Score\"}}, {\"showLink\": true, \"linkText\": \"Export to plot.ly\"})});</script>"
      ]
     },
     "metadata": {},
     "output_type": "display_data"
    }
   ],
   "source": [
    "cmax=200\n",
    "cmin=50\n",
    "color_s = np.linspace(cmin, cmax, 44)\n",
    "\n",
    "data = [\n",
    "    go.Bar(\n",
    "        x=p_s_df.index,          \n",
    "        y=p_s_df['Score'],\n",
    "        marker=dict(\n",
    "            colorscale='Jet',\n",
    "            #cauto=True,\n",
    "            color=color_s,\n",
    "        ),\n",
    "        # text=p_s_df['Score'],\n",
    "        # textposition='outside',\n",
    "        # textfont=dict(size=10)\n",
    "    )\n",
    "]\n",
    "\n",
    "layout = {\n",
    "    'title': 'Technology Skills in Data Scientist Job Listings',\n",
    "    #'xaxis': {'tickmode': 'linear'},\n",
    "    'yaxis': {'title': \"Score\"}\n",
    "}\n",
    "\n",
    "fig = go.Figure(data=data, layout=layout)\n",
    "py.iplot(fig)"
   ]
  },
  {
   "cell_type": "markdown",
   "metadata": {
    "_uuid": "ce3f275fc41e0bff659d58b4fb57f4f6336de284"
   },
   "source": [
    "## % of job listings with software skills\n"
   ]
  },
  {
   "cell_type": "markdown",
   "metadata": {
    "_uuid": "5315e524a0b30fb5df46c5a13646d0ae4c533d9c"
   },
   "source": [
    "Total \"data scientist\" listings."
   ]
  },
  {
   "cell_type": "code",
   "execution_count": 16,
   "metadata": {
    "_uuid": "b50693e6adf15b645fb674c955e15f2bfe7fc563"
   },
   "outputs": [],
   "source": [
    "total_ds = {\n",
    "    'LinkedIn': 8610,\n",
    "    'Indeed': 5138,\n",
    "    'SimplyHired': 3829,\n",
    "    'Monster': 3746,\n",
    "}"
   ]
  },
  {
   "cell_type": "code",
   "execution_count": 17,
   "metadata": {
    "_uuid": "64203a8d1b4b103fa730e3a23e48545cb161b3a2"
   },
   "outputs": [
    {
     "data": {
      "text/html": [
       "<div>\n",
       "<style scoped>\n",
       "    .dataframe tbody tr th:only-of-type {\n",
       "        vertical-align: middle;\n",
       "    }\n",
       "\n",
       "    .dataframe tbody tr th {\n",
       "        vertical-align: top;\n",
       "    }\n",
       "\n",
       "    .dataframe thead th {\n",
       "        text-align: right;\n",
       "    }\n",
       "</style>\n",
       "<table border=\"1\" class=\"dataframe\">\n",
       "  <thead>\n",
       "    <tr style=\"text-align: right;\">\n",
       "      <th></th>\n",
       "      <th>LinkedIn</th>\n",
       "      <th>Indeed</th>\n",
       "      <th>SimplyHired</th>\n",
       "      <th>Monster</th>\n",
       "      <th>LinkedIn %</th>\n",
       "      <th>SimplyHired %</th>\n",
       "      <th>Indeed %</th>\n",
       "      <th>Monster %</th>\n",
       "    </tr>\n",
       "    <tr>\n",
       "      <th>Keyword</th>\n",
       "      <th></th>\n",
       "      <th></th>\n",
       "      <th></th>\n",
       "      <th></th>\n",
       "      <th></th>\n",
       "      <th></th>\n",
       "      <th></th>\n",
       "      <th></th>\n",
       "    </tr>\n",
       "  </thead>\n",
       "  <tbody>\n",
       "    <tr>\n",
       "      <th>machine learning</th>\n",
       "      <td>5701</td>\n",
       "      <td>3,439.00</td>\n",
       "      <td>2,561.00</td>\n",
       "      <td>2340</td>\n",
       "      <td>66.21</td>\n",
       "      <td>66.88</td>\n",
       "      <td>66.93</td>\n",
       "      <td>62.47</td>\n",
       "    </tr>\n",
       "    <tr>\n",
       "      <th>analysis</th>\n",
       "      <td>5168</td>\n",
       "      <td>3,500.00</td>\n",
       "      <td>2,668.00</td>\n",
       "      <td>3306</td>\n",
       "      <td>60.02</td>\n",
       "      <td>69.68</td>\n",
       "      <td>68.12</td>\n",
       "      <td>88.25</td>\n",
       "    </tr>\n",
       "    <tr>\n",
       "      <th>statistics</th>\n",
       "      <td>4893</td>\n",
       "      <td>2,992.00</td>\n",
       "      <td>2,308.00</td>\n",
       "      <td>2399</td>\n",
       "      <td>56.83</td>\n",
       "      <td>60.28</td>\n",
       "      <td>58.23</td>\n",
       "      <td>64.04</td>\n",
       "    </tr>\n",
       "    <tr>\n",
       "      <th>computer science</th>\n",
       "      <td>4517</td>\n",
       "      <td>2,739.00</td>\n",
       "      <td>2,093.00</td>\n",
       "      <td>1900</td>\n",
       "      <td>52.46</td>\n",
       "      <td>54.66</td>\n",
       "      <td>53.31</td>\n",
       "      <td>50.72</td>\n",
       "    </tr>\n",
       "    <tr>\n",
       "      <th>communication</th>\n",
       "      <td>3404</td>\n",
       "      <td>2,344.00</td>\n",
       "      <td>1,791.00</td>\n",
       "      <td>2053</td>\n",
       "      <td>39.54</td>\n",
       "      <td>46.77</td>\n",
       "      <td>45.62</td>\n",
       "      <td>54.81</td>\n",
       "    </tr>\n",
       "    <tr>\n",
       "      <th>mathematics</th>\n",
       "      <td>2605</td>\n",
       "      <td>1,961.00</td>\n",
       "      <td>1,497.00</td>\n",
       "      <td>1815</td>\n",
       "      <td>30.26</td>\n",
       "      <td>39.10</td>\n",
       "      <td>38.17</td>\n",
       "      <td>48.45</td>\n",
       "    </tr>\n",
       "    <tr>\n",
       "      <th>visualization</th>\n",
       "      <td>1879</td>\n",
       "      <td>1,413.00</td>\n",
       "      <td>1,153.00</td>\n",
       "      <td>1207</td>\n",
       "      <td>21.82</td>\n",
       "      <td>30.11</td>\n",
       "      <td>27.50</td>\n",
       "      <td>32.22</td>\n",
       "    </tr>\n",
       "    <tr>\n",
       "      <th>AI composite</th>\n",
       "      <td>1568</td>\n",
       "      <td>1,125.00</td>\n",
       "      <td>811.00</td>\n",
       "      <td>687</td>\n",
       "      <td>18.21</td>\n",
       "      <td>21.18</td>\n",
       "      <td>21.90</td>\n",
       "      <td>18.34</td>\n",
       "    </tr>\n",
       "    <tr>\n",
       "      <th>deep learning</th>\n",
       "      <td>1310</td>\n",
       "      <td>979.00</td>\n",
       "      <td>675.00</td>\n",
       "      <td>606</td>\n",
       "      <td>15.21</td>\n",
       "      <td>17.63</td>\n",
       "      <td>19.05</td>\n",
       "      <td>16.18</td>\n",
       "    </tr>\n",
       "    <tr>\n",
       "      <th>NLP composite</th>\n",
       "      <td>1212</td>\n",
       "      <td>910.00</td>\n",
       "      <td>660.00</td>\n",
       "      <td>582</td>\n",
       "      <td>14.08</td>\n",
       "      <td>17.24</td>\n",
       "      <td>17.71</td>\n",
       "      <td>15.54</td>\n",
       "    </tr>\n",
       "    <tr>\n",
       "      <th>software development</th>\n",
       "      <td>732</td>\n",
       "      <td>627.00</td>\n",
       "      <td>481.00</td>\n",
       "      <td>784</td>\n",
       "      <td>8.50</td>\n",
       "      <td>12.56</td>\n",
       "      <td>12.20</td>\n",
       "      <td>20.93</td>\n",
       "    </tr>\n",
       "    <tr>\n",
       "      <th>neural networks</th>\n",
       "      <td>671</td>\n",
       "      <td>485.00</td>\n",
       "      <td>421.00</td>\n",
       "      <td>305</td>\n",
       "      <td>7.79</td>\n",
       "      <td>11.00</td>\n",
       "      <td>9.44</td>\n",
       "      <td>8.14</td>\n",
       "    </tr>\n",
       "    <tr>\n",
       "      <th>data engineering</th>\n",
       "      <td>514</td>\n",
       "      <td>nan</td>\n",
       "      <td>nan</td>\n",
       "      <td>200</td>\n",
       "      <td>5.97</td>\n",
       "      <td>nan</td>\n",
       "      <td>nan</td>\n",
       "      <td>5.34</td>\n",
       "    </tr>\n",
       "    <tr>\n",
       "      <th>project management</th>\n",
       "      <td>476</td>\n",
       "      <td>397.00</td>\n",
       "      <td>330.00</td>\n",
       "      <td>348</td>\n",
       "      <td>5.53</td>\n",
       "      <td>8.62</td>\n",
       "      <td>7.73</td>\n",
       "      <td>9.29</td>\n",
       "    </tr>\n",
       "    <tr>\n",
       "      <th>software engineering</th>\n",
       "      <td>413</td>\n",
       "      <td>295.00</td>\n",
       "      <td>250.00</td>\n",
       "      <td>512</td>\n",
       "      <td>4.80</td>\n",
       "      <td>6.53</td>\n",
       "      <td>5.74</td>\n",
       "      <td>13.67</td>\n",
       "    </tr>\n",
       "  </tbody>\n",
       "</table>\n",
       "</div>"
      ],
      "text/plain": [
       "                      LinkedIn   Indeed  SimplyHired  Monster  LinkedIn %  \\\n",
       "Keyword                                                                     \n",
       "machine learning          5701 3,439.00     2,561.00     2340       66.21   \n",
       "analysis                  5168 3,500.00     2,668.00     3306       60.02   \n",
       "statistics                4893 2,992.00     2,308.00     2399       56.83   \n",
       "computer science          4517 2,739.00     2,093.00     1900       52.46   \n",
       "communication             3404 2,344.00     1,791.00     2053       39.54   \n",
       "mathematics               2605 1,961.00     1,497.00     1815       30.26   \n",
       "visualization             1879 1,413.00     1,153.00     1207       21.82   \n",
       "AI composite              1568 1,125.00       811.00      687       18.21   \n",
       "deep learning             1310   979.00       675.00      606       15.21   \n",
       "NLP composite             1212   910.00       660.00      582       14.08   \n",
       "software development       732   627.00       481.00      784        8.50   \n",
       "neural networks            671   485.00       421.00      305        7.79   \n",
       "data engineering           514      nan          nan      200        5.97   \n",
       "project management         476   397.00       330.00      348        5.53   \n",
       "software engineering       413   295.00       250.00      512        4.80   \n",
       "\n",
       "                      SimplyHired %  Indeed %  Monster %  \n",
       "Keyword                                                   \n",
       "machine learning              66.88     66.93      62.47  \n",
       "analysis                      69.68     68.12      88.25  \n",
       "statistics                    60.28     58.23      64.04  \n",
       "computer science              54.66     53.31      50.72  \n",
       "communication                 46.77     45.62      54.81  \n",
       "mathematics                   39.10     38.17      48.45  \n",
       "visualization                 30.11     27.50      32.22  \n",
       "AI composite                  21.18     21.90      18.34  \n",
       "deep learning                 17.63     19.05      16.18  \n",
       "NLP composite                 17.24     17.71      15.54  \n",
       "software development          12.56     12.20      20.93  \n",
       "neural networks               11.00      9.44       8.14  \n",
       "data engineering                nan       nan       5.34  \n",
       "project management             8.62      7.73       9.29  \n",
       "software engineering           6.53      5.74      13.67  "
      ]
     },
     "execution_count": 17,
     "metadata": {},
     "output_type": "execute_result"
    }
   ],
   "source": [
    "for key, value in total_ds.items():\n",
    "    df[key + \" %\"] = df[key] / value * 100\n",
    "df"
   ]
  },
  {
   "cell_type": "markdown",
   "metadata": {
    "_uuid": "8e503f1c044a04227ca282e2c3a24f95766790b6"
   },
   "source": [
    "Let's make an average of those % columns."
   ]
  },
  {
   "cell_type": "code",
   "execution_count": 18,
   "metadata": {
    "_uuid": "c1c748c48d1e5f94eb918f591236acdd6f075d09"
   },
   "outputs": [
    {
     "data": {
      "text/html": [
       "<div>\n",
       "<style scoped>\n",
       "    .dataframe tbody tr th:only-of-type {\n",
       "        vertical-align: middle;\n",
       "    }\n",
       "\n",
       "    .dataframe tbody tr th {\n",
       "        vertical-align: top;\n",
       "    }\n",
       "\n",
       "    .dataframe thead th {\n",
       "        text-align: right;\n",
       "    }\n",
       "</style>\n",
       "<table border=\"1\" class=\"dataframe\">\n",
       "  <thead>\n",
       "    <tr style=\"text-align: right;\">\n",
       "      <th></th>\n",
       "      <th>LinkedIn</th>\n",
       "      <th>Indeed</th>\n",
       "      <th>SimplyHired</th>\n",
       "      <th>Monster</th>\n",
       "      <th>LinkedIn %</th>\n",
       "      <th>SimplyHired %</th>\n",
       "      <th>Indeed %</th>\n",
       "      <th>Monster %</th>\n",
       "      <th>avg_percent</th>\n",
       "    </tr>\n",
       "    <tr>\n",
       "      <th>Keyword</th>\n",
       "      <th></th>\n",
       "      <th></th>\n",
       "      <th></th>\n",
       "      <th></th>\n",
       "      <th></th>\n",
       "      <th></th>\n",
       "      <th></th>\n",
       "      <th></th>\n",
       "      <th></th>\n",
       "    </tr>\n",
       "  </thead>\n",
       "  <tbody>\n",
       "    <tr>\n",
       "      <th>machine learning</th>\n",
       "      <td>5701</td>\n",
       "      <td>3,439.00</td>\n",
       "      <td>2,561.00</td>\n",
       "      <td>2340</td>\n",
       "      <td>66.21</td>\n",
       "      <td>66.88</td>\n",
       "      <td>66.93</td>\n",
       "      <td>62.47</td>\n",
       "      <td>65.62</td>\n",
       "    </tr>\n",
       "    <tr>\n",
       "      <th>analysis</th>\n",
       "      <td>5168</td>\n",
       "      <td>3,500.00</td>\n",
       "      <td>2,668.00</td>\n",
       "      <td>3306</td>\n",
       "      <td>60.02</td>\n",
       "      <td>69.68</td>\n",
       "      <td>68.12</td>\n",
       "      <td>88.25</td>\n",
       "      <td>71.52</td>\n",
       "    </tr>\n",
       "    <tr>\n",
       "      <th>statistics</th>\n",
       "      <td>4893</td>\n",
       "      <td>2,992.00</td>\n",
       "      <td>2,308.00</td>\n",
       "      <td>2399</td>\n",
       "      <td>56.83</td>\n",
       "      <td>60.28</td>\n",
       "      <td>58.23</td>\n",
       "      <td>64.04</td>\n",
       "      <td>59.85</td>\n",
       "    </tr>\n",
       "    <tr>\n",
       "      <th>computer science</th>\n",
       "      <td>4517</td>\n",
       "      <td>2,739.00</td>\n",
       "      <td>2,093.00</td>\n",
       "      <td>1900</td>\n",
       "      <td>52.46</td>\n",
       "      <td>54.66</td>\n",
       "      <td>53.31</td>\n",
       "      <td>50.72</td>\n",
       "      <td>52.79</td>\n",
       "    </tr>\n",
       "    <tr>\n",
       "      <th>communication</th>\n",
       "      <td>3404</td>\n",
       "      <td>2,344.00</td>\n",
       "      <td>1,791.00</td>\n",
       "      <td>2053</td>\n",
       "      <td>39.54</td>\n",
       "      <td>46.77</td>\n",
       "      <td>45.62</td>\n",
       "      <td>54.81</td>\n",
       "      <td>46.68</td>\n",
       "    </tr>\n",
       "    <tr>\n",
       "      <th>mathematics</th>\n",
       "      <td>2605</td>\n",
       "      <td>1,961.00</td>\n",
       "      <td>1,497.00</td>\n",
       "      <td>1815</td>\n",
       "      <td>30.26</td>\n",
       "      <td>39.10</td>\n",
       "      <td>38.17</td>\n",
       "      <td>48.45</td>\n",
       "      <td>38.99</td>\n",
       "    </tr>\n",
       "    <tr>\n",
       "      <th>visualization</th>\n",
       "      <td>1879</td>\n",
       "      <td>1,413.00</td>\n",
       "      <td>1,153.00</td>\n",
       "      <td>1207</td>\n",
       "      <td>21.82</td>\n",
       "      <td>30.11</td>\n",
       "      <td>27.50</td>\n",
       "      <td>32.22</td>\n",
       "      <td>27.91</td>\n",
       "    </tr>\n",
       "    <tr>\n",
       "      <th>AI composite</th>\n",
       "      <td>1568</td>\n",
       "      <td>1,125.00</td>\n",
       "      <td>811.00</td>\n",
       "      <td>687</td>\n",
       "      <td>18.21</td>\n",
       "      <td>21.18</td>\n",
       "      <td>21.90</td>\n",
       "      <td>18.34</td>\n",
       "      <td>19.91</td>\n",
       "    </tr>\n",
       "    <tr>\n",
       "      <th>deep learning</th>\n",
       "      <td>1310</td>\n",
       "      <td>979.00</td>\n",
       "      <td>675.00</td>\n",
       "      <td>606</td>\n",
       "      <td>15.21</td>\n",
       "      <td>17.63</td>\n",
       "      <td>19.05</td>\n",
       "      <td>16.18</td>\n",
       "      <td>17.02</td>\n",
       "    </tr>\n",
       "    <tr>\n",
       "      <th>NLP composite</th>\n",
       "      <td>1212</td>\n",
       "      <td>910.00</td>\n",
       "      <td>660.00</td>\n",
       "      <td>582</td>\n",
       "      <td>14.08</td>\n",
       "      <td>17.24</td>\n",
       "      <td>17.71</td>\n",
       "      <td>15.54</td>\n",
       "      <td>16.14</td>\n",
       "    </tr>\n",
       "    <tr>\n",
       "      <th>software development</th>\n",
       "      <td>732</td>\n",
       "      <td>627.00</td>\n",
       "      <td>481.00</td>\n",
       "      <td>784</td>\n",
       "      <td>8.50</td>\n",
       "      <td>12.56</td>\n",
       "      <td>12.20</td>\n",
       "      <td>20.93</td>\n",
       "      <td>13.55</td>\n",
       "    </tr>\n",
       "    <tr>\n",
       "      <th>neural networks</th>\n",
       "      <td>671</td>\n",
       "      <td>485.00</td>\n",
       "      <td>421.00</td>\n",
       "      <td>305</td>\n",
       "      <td>7.79</td>\n",
       "      <td>11.00</td>\n",
       "      <td>9.44</td>\n",
       "      <td>8.14</td>\n",
       "      <td>9.09</td>\n",
       "    </tr>\n",
       "    <tr>\n",
       "      <th>data engineering</th>\n",
       "      <td>514</td>\n",
       "      <td>nan</td>\n",
       "      <td>nan</td>\n",
       "      <td>200</td>\n",
       "      <td>5.97</td>\n",
       "      <td>nan</td>\n",
       "      <td>nan</td>\n",
       "      <td>5.34</td>\n",
       "      <td>5.65</td>\n",
       "    </tr>\n",
       "    <tr>\n",
       "      <th>project management</th>\n",
       "      <td>476</td>\n",
       "      <td>397.00</td>\n",
       "      <td>330.00</td>\n",
       "      <td>348</td>\n",
       "      <td>5.53</td>\n",
       "      <td>8.62</td>\n",
       "      <td>7.73</td>\n",
       "      <td>9.29</td>\n",
       "      <td>7.79</td>\n",
       "    </tr>\n",
       "    <tr>\n",
       "      <th>software engineering</th>\n",
       "      <td>413</td>\n",
       "      <td>295.00</td>\n",
       "      <td>250.00</td>\n",
       "      <td>512</td>\n",
       "      <td>4.80</td>\n",
       "      <td>6.53</td>\n",
       "      <td>5.74</td>\n",
       "      <td>13.67</td>\n",
       "      <td>7.68</td>\n",
       "    </tr>\n",
       "  </tbody>\n",
       "</table>\n",
       "</div>"
      ],
      "text/plain": [
       "                      LinkedIn   Indeed  SimplyHired  Monster  LinkedIn %  \\\n",
       "Keyword                                                                     \n",
       "machine learning          5701 3,439.00     2,561.00     2340       66.21   \n",
       "analysis                  5168 3,500.00     2,668.00     3306       60.02   \n",
       "statistics                4893 2,992.00     2,308.00     2399       56.83   \n",
       "computer science          4517 2,739.00     2,093.00     1900       52.46   \n",
       "communication             3404 2,344.00     1,791.00     2053       39.54   \n",
       "mathematics               2605 1,961.00     1,497.00     1815       30.26   \n",
       "visualization             1879 1,413.00     1,153.00     1207       21.82   \n",
       "AI composite              1568 1,125.00       811.00      687       18.21   \n",
       "deep learning             1310   979.00       675.00      606       15.21   \n",
       "NLP composite             1212   910.00       660.00      582       14.08   \n",
       "software development       732   627.00       481.00      784        8.50   \n",
       "neural networks            671   485.00       421.00      305        7.79   \n",
       "data engineering           514      nan          nan      200        5.97   \n",
       "project management         476   397.00       330.00      348        5.53   \n",
       "software engineering       413   295.00       250.00      512        4.80   \n",
       "\n",
       "                      SimplyHired %  Indeed %  Monster %  avg_percent  \n",
       "Keyword                                                                \n",
       "machine learning              66.88     66.93      62.47        65.62  \n",
       "analysis                      69.68     68.12      88.25        71.52  \n",
       "statistics                    60.28     58.23      64.04        59.85  \n",
       "computer science              54.66     53.31      50.72        52.79  \n",
       "communication                 46.77     45.62      54.81        46.68  \n",
       "mathematics                   39.10     38.17      48.45        38.99  \n",
       "visualization                 30.11     27.50      32.22        27.91  \n",
       "AI composite                  21.18     21.90      18.34        19.91  \n",
       "deep learning                 17.63     19.05      16.18        17.02  \n",
       "NLP composite                 17.24     17.71      15.54        16.14  \n",
       "software development          12.56     12.20      20.93        13.55  \n",
       "neural networks               11.00      9.44       8.14         9.09  \n",
       "data engineering                nan       nan       5.34         5.65  \n",
       "project management             8.62      7.73       9.29         7.79  \n",
       "software engineering           6.53      5.74      13.67         7.68  "
      ]
     },
     "execution_count": 18,
     "metadata": {},
     "output_type": "execute_result"
    }
   ],
   "source": [
    "df['avg_percent'] = df.iloc[:,-4:].mean(axis=1)\n",
    "df"
   ]
  },
  {
   "cell_type": "code",
   "execution_count": 19,
   "metadata": {
    "_uuid": "2596c37b700a3ce0bc7538a4f88780526a0a46f2"
   },
   "outputs": [
    {
     "data": {
      "text/html": [
       "<div>\n",
       "<style scoped>\n",
       "    .dataframe tbody tr th:only-of-type {\n",
       "        vertical-align: middle;\n",
       "    }\n",
       "\n",
       "    .dataframe tbody tr th {\n",
       "        vertical-align: top;\n",
       "    }\n",
       "\n",
       "    .dataframe thead th {\n",
       "        text-align: right;\n",
       "    }\n",
       "</style>\n",
       "<table border=\"1\" class=\"dataframe\">\n",
       "  <thead>\n",
       "    <tr style=\"text-align: right;\">\n",
       "      <th></th>\n",
       "      <th>LinkedIn</th>\n",
       "      <th>Indeed</th>\n",
       "      <th>SimplyHired</th>\n",
       "      <th>Monster</th>\n",
       "      <th>LinkedIn %</th>\n",
       "      <th>SimplyHired %</th>\n",
       "      <th>Indeed %</th>\n",
       "      <th>Monster %</th>\n",
       "      <th>avg_percent</th>\n",
       "    </tr>\n",
       "    <tr>\n",
       "      <th>Keyword</th>\n",
       "      <th></th>\n",
       "      <th></th>\n",
       "      <th></th>\n",
       "      <th></th>\n",
       "      <th></th>\n",
       "      <th></th>\n",
       "      <th></th>\n",
       "      <th></th>\n",
       "      <th></th>\n",
       "    </tr>\n",
       "  </thead>\n",
       "  <tbody>\n",
       "    <tr>\n",
       "      <th>analysis</th>\n",
       "      <td>5168</td>\n",
       "      <td>3,500.00</td>\n",
       "      <td>2,668.00</td>\n",
       "      <td>3306</td>\n",
       "      <td>60.02</td>\n",
       "      <td>69.68</td>\n",
       "      <td>68.12</td>\n",
       "      <td>88.25</td>\n",
       "      <td>71.52</td>\n",
       "    </tr>\n",
       "    <tr>\n",
       "      <th>machine learning</th>\n",
       "      <td>5701</td>\n",
       "      <td>3,439.00</td>\n",
       "      <td>2,561.00</td>\n",
       "      <td>2340</td>\n",
       "      <td>66.21</td>\n",
       "      <td>66.88</td>\n",
       "      <td>66.93</td>\n",
       "      <td>62.47</td>\n",
       "      <td>65.62</td>\n",
       "    </tr>\n",
       "    <tr>\n",
       "      <th>statistics</th>\n",
       "      <td>4893</td>\n",
       "      <td>2,992.00</td>\n",
       "      <td>2,308.00</td>\n",
       "      <td>2399</td>\n",
       "      <td>56.83</td>\n",
       "      <td>60.28</td>\n",
       "      <td>58.23</td>\n",
       "      <td>64.04</td>\n",
       "      <td>59.85</td>\n",
       "    </tr>\n",
       "    <tr>\n",
       "      <th>computer science</th>\n",
       "      <td>4517</td>\n",
       "      <td>2,739.00</td>\n",
       "      <td>2,093.00</td>\n",
       "      <td>1900</td>\n",
       "      <td>52.46</td>\n",
       "      <td>54.66</td>\n",
       "      <td>53.31</td>\n",
       "      <td>50.72</td>\n",
       "      <td>52.79</td>\n",
       "    </tr>\n",
       "    <tr>\n",
       "      <th>communication</th>\n",
       "      <td>3404</td>\n",
       "      <td>2,344.00</td>\n",
       "      <td>1,791.00</td>\n",
       "      <td>2053</td>\n",
       "      <td>39.54</td>\n",
       "      <td>46.77</td>\n",
       "      <td>45.62</td>\n",
       "      <td>54.81</td>\n",
       "      <td>46.68</td>\n",
       "    </tr>\n",
       "    <tr>\n",
       "      <th>mathematics</th>\n",
       "      <td>2605</td>\n",
       "      <td>1,961.00</td>\n",
       "      <td>1,497.00</td>\n",
       "      <td>1815</td>\n",
       "      <td>30.26</td>\n",
       "      <td>39.10</td>\n",
       "      <td>38.17</td>\n",
       "      <td>48.45</td>\n",
       "      <td>38.99</td>\n",
       "    </tr>\n",
       "    <tr>\n",
       "      <th>visualization</th>\n",
       "      <td>1879</td>\n",
       "      <td>1,413.00</td>\n",
       "      <td>1,153.00</td>\n",
       "      <td>1207</td>\n",
       "      <td>21.82</td>\n",
       "      <td>30.11</td>\n",
       "      <td>27.50</td>\n",
       "      <td>32.22</td>\n",
       "      <td>27.91</td>\n",
       "    </tr>\n",
       "    <tr>\n",
       "      <th>AI composite</th>\n",
       "      <td>1568</td>\n",
       "      <td>1,125.00</td>\n",
       "      <td>811.00</td>\n",
       "      <td>687</td>\n",
       "      <td>18.21</td>\n",
       "      <td>21.18</td>\n",
       "      <td>21.90</td>\n",
       "      <td>18.34</td>\n",
       "      <td>19.91</td>\n",
       "    </tr>\n",
       "    <tr>\n",
       "      <th>deep learning</th>\n",
       "      <td>1310</td>\n",
       "      <td>979.00</td>\n",
       "      <td>675.00</td>\n",
       "      <td>606</td>\n",
       "      <td>15.21</td>\n",
       "      <td>17.63</td>\n",
       "      <td>19.05</td>\n",
       "      <td>16.18</td>\n",
       "      <td>17.02</td>\n",
       "    </tr>\n",
       "    <tr>\n",
       "      <th>NLP composite</th>\n",
       "      <td>1212</td>\n",
       "      <td>910.00</td>\n",
       "      <td>660.00</td>\n",
       "      <td>582</td>\n",
       "      <td>14.08</td>\n",
       "      <td>17.24</td>\n",
       "      <td>17.71</td>\n",
       "      <td>15.54</td>\n",
       "      <td>16.14</td>\n",
       "    </tr>\n",
       "    <tr>\n",
       "      <th>software development</th>\n",
       "      <td>732</td>\n",
       "      <td>627.00</td>\n",
       "      <td>481.00</td>\n",
       "      <td>784</td>\n",
       "      <td>8.50</td>\n",
       "      <td>12.56</td>\n",
       "      <td>12.20</td>\n",
       "      <td>20.93</td>\n",
       "      <td>13.55</td>\n",
       "    </tr>\n",
       "    <tr>\n",
       "      <th>neural networks</th>\n",
       "      <td>671</td>\n",
       "      <td>485.00</td>\n",
       "      <td>421.00</td>\n",
       "      <td>305</td>\n",
       "      <td>7.79</td>\n",
       "      <td>11.00</td>\n",
       "      <td>9.44</td>\n",
       "      <td>8.14</td>\n",
       "      <td>9.09</td>\n",
       "    </tr>\n",
       "    <tr>\n",
       "      <th>project management</th>\n",
       "      <td>476</td>\n",
       "      <td>397.00</td>\n",
       "      <td>330.00</td>\n",
       "      <td>348</td>\n",
       "      <td>5.53</td>\n",
       "      <td>8.62</td>\n",
       "      <td>7.73</td>\n",
       "      <td>9.29</td>\n",
       "      <td>7.79</td>\n",
       "    </tr>\n",
       "    <tr>\n",
       "      <th>software engineering</th>\n",
       "      <td>413</td>\n",
       "      <td>295.00</td>\n",
       "      <td>250.00</td>\n",
       "      <td>512</td>\n",
       "      <td>4.80</td>\n",
       "      <td>6.53</td>\n",
       "      <td>5.74</td>\n",
       "      <td>13.67</td>\n",
       "      <td>7.68</td>\n",
       "    </tr>\n",
       "    <tr>\n",
       "      <th>data engineering</th>\n",
       "      <td>514</td>\n",
       "      <td>nan</td>\n",
       "      <td>nan</td>\n",
       "      <td>200</td>\n",
       "      <td>5.97</td>\n",
       "      <td>nan</td>\n",
       "      <td>nan</td>\n",
       "      <td>5.34</td>\n",
       "      <td>5.65</td>\n",
       "    </tr>\n",
       "  </tbody>\n",
       "</table>\n",
       "</div>"
      ],
      "text/plain": [
       "                      LinkedIn   Indeed  SimplyHired  Monster  LinkedIn %  \\\n",
       "Keyword                                                                     \n",
       "analysis                  5168 3,500.00     2,668.00     3306       60.02   \n",
       "machine learning          5701 3,439.00     2,561.00     2340       66.21   \n",
       "statistics                4893 2,992.00     2,308.00     2399       56.83   \n",
       "computer science          4517 2,739.00     2,093.00     1900       52.46   \n",
       "communication             3404 2,344.00     1,791.00     2053       39.54   \n",
       "mathematics               2605 1,961.00     1,497.00     1815       30.26   \n",
       "visualization             1879 1,413.00     1,153.00     1207       21.82   \n",
       "AI composite              1568 1,125.00       811.00      687       18.21   \n",
       "deep learning             1310   979.00       675.00      606       15.21   \n",
       "NLP composite             1212   910.00       660.00      582       14.08   \n",
       "software development       732   627.00       481.00      784        8.50   \n",
       "neural networks            671   485.00       421.00      305        7.79   \n",
       "project management         476   397.00       330.00      348        5.53   \n",
       "software engineering       413   295.00       250.00      512        4.80   \n",
       "data engineering           514      nan          nan      200        5.97   \n",
       "\n",
       "                      SimplyHired %  Indeed %  Monster %  avg_percent  \n",
       "Keyword                                                                \n",
       "analysis                      69.68     68.12      88.25        71.52  \n",
       "machine learning              66.88     66.93      62.47        65.62  \n",
       "statistics                    60.28     58.23      64.04        59.85  \n",
       "computer science              54.66     53.31      50.72        52.79  \n",
       "communication                 46.77     45.62      54.81        46.68  \n",
       "mathematics                   39.10     38.17      48.45        38.99  \n",
       "visualization                 30.11     27.50      32.22        27.91  \n",
       "AI composite                  21.18     21.90      18.34        19.91  \n",
       "deep learning                 17.63     19.05      16.18        17.02  \n",
       "NLP composite                 17.24     17.71      15.54        16.14  \n",
       "software development          12.56     12.20      20.93        13.55  \n",
       "neural networks               11.00      9.44       8.14         9.09  \n",
       "project management             8.62      7.73       9.29         7.79  \n",
       "software engineering           6.53      5.74      13.67         7.68  \n",
       "data engineering                nan       nan       5.34         5.65  "
      ]
     },
     "execution_count": 19,
     "metadata": {},
     "output_type": "execute_result"
    }
   ],
   "source": [
    "df = df.sort_values(by=\"avg_percent\", ascending = False)\n",
    "df"
   ]
  },
  {
   "cell_type": "markdown",
   "metadata": {
    "_uuid": "94a22b1bbc8333b52a1d5a9352c85d2544ffa2db"
   },
   "source": [
    "## Let's chart the full list and then the top 20."
   ]
  },
  {
   "cell_type": "code",
   "execution_count": 27,
   "metadata": {
    "_uuid": "a0f1e2c32d35abb459dc329e4ccfa06f55dff0b4"
   },
   "outputs": [
    {
     "data": {
      "application/vnd.plotly.v1+json": {
       "data": [
        {
         "marker": {
          "color": [
           50,
           53.48837209302326,
           56.97674418604651,
           60.46511627906977,
           63.95348837209302,
           67.44186046511628,
           70.93023255813954,
           74.4186046511628,
           77.90697674418604,
           81.3953488372093,
           84.88372093023256,
           88.37209302325581,
           91.86046511627907,
           95.34883720930233,
           98.83720930232559,
           102.32558139534883,
           105.81395348837209,
           109.30232558139535,
           112.7906976744186,
           116.27906976744185,
           119.76744186046511,
           123.25581395348837,
           126.74418604651163,
           130.2325581395349,
           133.72093023255815,
           137.2093023255814,
           140.69767441860466,
           144.18604651162792,
           147.67441860465118,
           151.16279069767444,
           154.65116279069767,
           158.13953488372093,
           161.62790697674419,
           165.11627906976744,
           168.6046511627907,
           172.09302325581393,
           175.5813953488372,
           179.06976744186048,
           182.5581395348837,
           186.04651162790697,
           189.53488372093022,
           193.02325581395348,
           196.51162790697674,
           200
          ],
          "colorscale": "Jet"
         },
         "type": "bar",
         "uid": "67fc184e-d2eb-11e8-bffc-52540069414d",
         "x": [
          "analysis",
          "machine learning",
          "statistics",
          "computer science",
          "communication",
          "mathematics",
          "visualization",
          "AI composite",
          "deep learning",
          "NLP composite",
          "software development",
          "neural networks",
          "project management",
          "software engineering",
          "data engineering"
         ],
         "y": [
          71.51900621524717,
          65.62432467129769,
          59.84513069876776,
          52.788373506231466,
          46.684007081058674,
          38.99254255868148,
          27.914442716596824,
          19.906772109865837,
          17.018713122912743,
          16.140318881818885,
          13.548987906551027,
          9.0924475699116,
          7.790886169631248,
          7.683828488186371,
          5.654415426009191
         ]
        }
       ],
       "layout": {
        "title": "Technology Skills in Data Scientist Job Listings",
        "yaxis": {
         "title": "% of Listings"
        }
       }
      },
      "text/html": [
       "<div id=\"f07332ae-4143-4629-ad60-483ed107e1ae\" style=\"height: 525px; width: 100%;\" class=\"plotly-graph-div\"></div><script type=\"text/javascript\">require([\"plotly\"], function(Plotly) { window.PLOTLYENV=window.PLOTLYENV || {};window.PLOTLYENV.BASE_URL=\"https://plot.ly\";Plotly.newPlot(\"f07332ae-4143-4629-ad60-483ed107e1ae\", [{\"uid\": \"67fc184e-d2eb-11e8-bffc-52540069414d\", \"y\": [71.51900621524717, 65.62432467129769, 59.84513069876776, 52.788373506231466, 46.684007081058674, 38.99254255868148, 27.914442716596824, 19.906772109865837, 17.018713122912743, 16.140318881818885, 13.548987906551027, 9.0924475699116, 7.790886169631248, 7.683828488186371, 5.654415426009191], \"type\": \"bar\", \"x\": [\"analysis\", \"machine learning\", \"statistics\", \"computer science\", \"communication\", \"mathematics\", \"visualization\", \"AI composite\", \"deep learning\", \"NLP composite\", \"software development\", \"neural networks\", \"project management\", \"software engineering\", \"data engineering\"], \"marker\": {\"colorscale\": \"Jet\", \"color\": [50.0, 53.48837209302326, 56.97674418604651, 60.46511627906977, 63.95348837209302, 67.44186046511628, 70.93023255813954, 74.4186046511628, 77.90697674418604, 81.3953488372093, 84.88372093023256, 88.37209302325581, 91.86046511627907, 95.34883720930233, 98.83720930232559, 102.32558139534883, 105.81395348837209, 109.30232558139535, 112.7906976744186, 116.27906976744185, 119.76744186046511, 123.25581395348837, 126.74418604651163, 130.2325581395349, 133.72093023255815, 137.2093023255814, 140.69767441860466, 144.18604651162792, 147.67441860465118, 151.16279069767444, 154.65116279069767, 158.13953488372093, 161.62790697674419, 165.11627906976744, 168.6046511627907, 172.09302325581393, 175.5813953488372, 179.06976744186048, 182.5581395348837, 186.04651162790697, 189.53488372093022, 193.02325581395348, 196.51162790697674, 200.0]}}], {\"title\": \"Technology Skills in Data Scientist Job Listings\", \"yaxis\": {\"title\": \"% of Listings\"}}, {\"showLink\": false, \"linkText\": \"Export to plot.ly\"})});</script>"
      ],
      "text/vnd.plotly.v1+html": [
       "<div id=\"f07332ae-4143-4629-ad60-483ed107e1ae\" style=\"height: 525px; width: 100%;\" class=\"plotly-graph-div\"></div><script type=\"text/javascript\">require([\"plotly\"], function(Plotly) { window.PLOTLYENV=window.PLOTLYENV || {};window.PLOTLYENV.BASE_URL=\"https://plot.ly\";Plotly.newPlot(\"f07332ae-4143-4629-ad60-483ed107e1ae\", [{\"uid\": \"67fc184e-d2eb-11e8-bffc-52540069414d\", \"y\": [71.51900621524717, 65.62432467129769, 59.84513069876776, 52.788373506231466, 46.684007081058674, 38.99254255868148, 27.914442716596824, 19.906772109865837, 17.018713122912743, 16.140318881818885, 13.548987906551027, 9.0924475699116, 7.790886169631248, 7.683828488186371, 5.654415426009191], \"type\": \"bar\", \"x\": [\"analysis\", \"machine learning\", \"statistics\", \"computer science\", \"communication\", \"mathematics\", \"visualization\", \"AI composite\", \"deep learning\", \"NLP composite\", \"software development\", \"neural networks\", \"project management\", \"software engineering\", \"data engineering\"], \"marker\": {\"colorscale\": \"Jet\", \"color\": [50.0, 53.48837209302326, 56.97674418604651, 60.46511627906977, 63.95348837209302, 67.44186046511628, 70.93023255813954, 74.4186046511628, 77.90697674418604, 81.3953488372093, 84.88372093023256, 88.37209302325581, 91.86046511627907, 95.34883720930233, 98.83720930232559, 102.32558139534883, 105.81395348837209, 109.30232558139535, 112.7906976744186, 116.27906976744185, 119.76744186046511, 123.25581395348837, 126.74418604651163, 130.2325581395349, 133.72093023255815, 137.2093023255814, 140.69767441860466, 144.18604651162792, 147.67441860465118, 151.16279069767444, 154.65116279069767, 158.13953488372093, 161.62790697674419, 165.11627906976744, 168.6046511627907, 172.09302325581393, 175.5813953488372, 179.06976744186048, 182.5581395348837, 186.04651162790697, 189.53488372093022, 193.02325581395348, 196.51162790697674, 200.0]}}], {\"title\": \"Technology Skills in Data Scientist Job Listings\", \"yaxis\": {\"title\": \"% of Listings\"}}, {\"showLink\": false, \"linkText\": \"Export to plot.ly\"})});</script>"
      ]
     },
     "metadata": {},
     "output_type": "display_data"
    }
   ],
   "source": [
    "cmax=200\n",
    "cmin=50\n",
    "color_s = np.linspace(cmin, cmax, 44)\n",
    "\n",
    "data = [\n",
    "    go.Bar(\n",
    "        x=df.index,          \n",
    "        y=df['avg_percent'],\n",
    "        marker=dict(\n",
    "            colorscale='Jet',\n",
    "            color=color_s,\n",
    "        ),\n",
    "    )\n",
    "]\n",
    "\n",
    "layout = dict(\n",
    "    title=\"Technology Skills in Data Scientist Job Listings\",\n",
    "    yaxis=dict(title=\"% of Listings\",)\n",
    ")\n",
    "\n",
    "fig = go.Figure(data=data, layout=layout)\n",
    "py.iplot(fig, show_link=False)"
   ]
  },
  {
   "cell_type": "code",
   "execution_count": 21,
   "metadata": {
    "_uuid": "43bf999f1738adf9b48bc6dda76c04f05416d8fd"
   },
   "outputs": [
    {
     "data": {
      "application/vnd.plotly.v1+json": {
       "data": [
        {
         "marker": {
          "color": [
           50,
           57.89473684210526,
           65.78947368421052,
           73.68421052631578,
           81.57894736842105,
           89.47368421052632,
           97.36842105263158,
           105.26315789473685,
           113.15789473684211,
           121.05263157894737,
           128.94736842105263,
           136.8421052631579,
           144.73684210526315,
           152.6315789473684,
           160.5263157894737,
           168.42105263157896,
           176.31578947368422,
           184.21052631578948,
           192.10526315789474,
           200
          ],
          "colorscale": "Jet"
         },
         "type": "bar",
         "uid": "2c071723-d2eb-11e8-bffc-52540069414d",
         "x": [
          "analysis",
          "machine learning",
          "statistics",
          "computer science",
          "communication",
          "mathematics",
          "visualization",
          "AI composite",
          "deep learning",
          "NLP composite",
          "software development",
          "neural networks",
          "project management",
          "software engineering",
          "data engineering"
         ],
         "y": [
          71.51900621524717,
          65.62432467129769,
          59.84513069876776,
          52.788373506231466,
          46.684007081058674,
          38.99254255868148,
          27.914442716596824,
          19.906772109865837,
          17.018713122912743,
          16.140318881818885,
          13.548987906551027,
          9.0924475699116,
          7.790886169631248,
          7.683828488186371,
          5.654415426009191
         ]
        }
       ],
       "layout": {
        "title": "Top 20 Technology Skills in Data Scientist Job Listings",
        "yaxis": {
         "title": "% of Listings"
        }
       }
      },
      "text/html": [
       "<div id=\"e87a210c-379a-478f-af88-7f446ef8dfb9\" style=\"height: 525px; width: 100%;\" class=\"plotly-graph-div\"></div><script type=\"text/javascript\">require([\"plotly\"], function(Plotly) { window.PLOTLYENV=window.PLOTLYENV || {};window.PLOTLYENV.BASE_URL=\"https://plot.ly\";Plotly.newPlot(\"e87a210c-379a-478f-af88-7f446ef8dfb9\", [{\"uid\": \"2c071723-d2eb-11e8-bffc-52540069414d\", \"y\": [71.51900621524717, 65.62432467129769, 59.84513069876776, 52.788373506231466, 46.684007081058674, 38.99254255868148, 27.914442716596824, 19.906772109865837, 17.018713122912743, 16.140318881818885, 13.548987906551027, 9.0924475699116, 7.790886169631248, 7.683828488186371, 5.654415426009191], \"type\": \"bar\", \"x\": [\"analysis\", \"machine learning\", \"statistics\", \"computer science\", \"communication\", \"mathematics\", \"visualization\", \"AI composite\", \"deep learning\", \"NLP composite\", \"software development\", \"neural networks\", \"project management\", \"software engineering\", \"data engineering\"], \"marker\": {\"colorscale\": \"Jet\", \"color\": [50.0, 57.89473684210526, 65.78947368421052, 73.68421052631578, 81.57894736842105, 89.47368421052632, 97.36842105263158, 105.26315789473685, 113.15789473684211, 121.05263157894737, 128.94736842105263, 136.8421052631579, 144.73684210526315, 152.6315789473684, 160.5263157894737, 168.42105263157896, 176.31578947368422, 184.21052631578948, 192.10526315789474, 200.0]}}], {\"title\": \"Top 20 Technology Skills in Data Scientist Job Listings\", \"yaxis\": {\"title\": \"% of Listings\"}}, {\"showLink\": true, \"linkText\": \"Export to plot.ly\"})});</script>"
      ],
      "text/vnd.plotly.v1+html": [
       "<div id=\"e87a210c-379a-478f-af88-7f446ef8dfb9\" style=\"height: 525px; width: 100%;\" class=\"plotly-graph-div\"></div><script type=\"text/javascript\">require([\"plotly\"], function(Plotly) { window.PLOTLYENV=window.PLOTLYENV || {};window.PLOTLYENV.BASE_URL=\"https://plot.ly\";Plotly.newPlot(\"e87a210c-379a-478f-af88-7f446ef8dfb9\", [{\"uid\": \"2c071723-d2eb-11e8-bffc-52540069414d\", \"y\": [71.51900621524717, 65.62432467129769, 59.84513069876776, 52.788373506231466, 46.684007081058674, 38.99254255868148, 27.914442716596824, 19.906772109865837, 17.018713122912743, 16.140318881818885, 13.548987906551027, 9.0924475699116, 7.790886169631248, 7.683828488186371, 5.654415426009191], \"type\": \"bar\", \"x\": [\"analysis\", \"machine learning\", \"statistics\", \"computer science\", \"communication\", \"mathematics\", \"visualization\", \"AI composite\", \"deep learning\", \"NLP composite\", \"software development\", \"neural networks\", \"project management\", \"software engineering\", \"data engineering\"], \"marker\": {\"colorscale\": \"Jet\", \"color\": [50.0, 57.89473684210526, 65.78947368421052, 73.68421052631578, 81.57894736842105, 89.47368421052632, 97.36842105263158, 105.26315789473685, 113.15789473684211, 121.05263157894737, 128.94736842105263, 136.8421052631579, 144.73684210526315, 152.6315789473684, 160.5263157894737, 168.42105263157896, 176.31578947368422, 184.21052631578948, 192.10526315789474, 200.0]}}], {\"title\": \"Top 20 Technology Skills in Data Scientist Job Listings\", \"yaxis\": {\"title\": \"% of Listings\"}}, {\"showLink\": true, \"linkText\": \"Export to plot.ly\"})});</script>"
      ]
     },
     "metadata": {},
     "output_type": "display_data"
    }
   ],
   "source": [
    "cmax=200\n",
    "cmin=50\n",
    "color_s = np.linspace(cmin, cmax, 20)\n",
    "\n",
    "data = [\n",
    "    go.Bar(\n",
    "        x=df.index,          \n",
    "        y=df.iloc[:20, -1],\n",
    "        marker=dict(\n",
    "            colorscale='Jet',\n",
    "            color=color_s,\n",
    "        ),\n",
    "    )\n",
    "]\n",
    "\n",
    "layout = dict(\n",
    "    title=\"Top 20 Technology Skills in Data Scientist Job Listings\",\n",
    "    yaxis=dict(title=\"% of Listings\",)\n",
    ")\n",
    "\n",
    "fig = go.Figure(data=data, layout=layout)\n",
    "py.iplot(fig)"
   ]
  },
  {
   "cell_type": "markdown",
   "metadata": {
    "_uuid": "df79bea92687b463588bd76422108986c517aae2"
   },
   "source": [
    "## Glassdoor comparision"
   ]
  },
  {
   "cell_type": "markdown",
   "metadata": {
    "_uuid": "68bf4a851d14aa7d65f6f4db9b6ef9324db756c5"
   },
   "source": [
    "Glassdoor has some similar analysis from early 2017 [here](https://www.glassdoor.com/research/data-scientist-personas/). See [my larger Medium article](https://towardsdatascience.com/the-most-in-demand-skills-for-data-scientists-4a4a8db896db) for discussion."
   ]
  },
  {
   "cell_type": "code",
   "execution_count": 22,
   "metadata": {
    "_uuid": "af9fdc1a9cce78f6137e292413b44902c4b3f5f4"
   },
   "outputs": [],
   "source": [
    "# percentage of data scientist jobs on glassdoor early 2017\n",
    "glassdoor = {\n",
    "    'Python': 72,\n",
    "    'R': 64,\n",
    "    'SQL': 51,\n",
    "    'Spark': 27,\n",
    "    'Hadoop': 39,\n",
    "    'Java': 33,\n",
    "    'SAS': 30,\n",
    "    'Tableau': 14,\n",
    "    'Hive': 17,\n",
    "    'Matlab': 20\n",
    "}"
   ]
  },
  {
   "cell_type": "code",
   "execution_count": 23,
   "metadata": {
    "_uuid": "2be9df27f55d867eb2b5669d7f6b98ceee93a2b2"
   },
   "outputs": [
    {
     "data": {
      "text/plain": [
       "Hadoop     39\n",
       "Hive       17\n",
       "Java       33\n",
       "Matlab     20\n",
       "Python     72\n",
       "R          64\n",
       "SAS        30\n",
       "SQL        51\n",
       "Spark      27\n",
       "Tableau    14\n",
       "dtype: int64"
      ]
     },
     "execution_count": 23,
     "metadata": {},
     "output_type": "execute_result"
    }
   ],
   "source": [
    "# make a data frame of just these\n",
    "# could just merge the series and df \n",
    "\n",
    "series_gd = pd.Series(glassdoor)\n",
    "series_gd"
   ]
  },
  {
   "cell_type": "code",
   "execution_count": 24,
   "metadata": {
    "_uuid": "2e01946a50d7fc759805a15856f4c6881cf0c527"
   },
   "outputs": [
    {
     "data": {
      "text/html": [
       "<div>\n",
       "<style scoped>\n",
       "    .dataframe tbody tr th:only-of-type {\n",
       "        vertical-align: middle;\n",
       "    }\n",
       "\n",
       "    .dataframe tbody tr th {\n",
       "        vertical-align: top;\n",
       "    }\n",
       "\n",
       "    .dataframe thead th {\n",
       "        text-align: right;\n",
       "    }\n",
       "</style>\n",
       "<table border=\"1\" class=\"dataframe\">\n",
       "  <thead>\n",
       "    <tr style=\"text-align: right;\">\n",
       "      <th></th>\n",
       "      <th>LinkedIn</th>\n",
       "      <th>Indeed</th>\n",
       "      <th>SimplyHired</th>\n",
       "      <th>Monster</th>\n",
       "      <th>LinkedIn %</th>\n",
       "      <th>SimplyHired %</th>\n",
       "      <th>Indeed %</th>\n",
       "      <th>Monster %</th>\n",
       "      <th>avg_percent</th>\n",
       "      <th>gd_percent</th>\n",
       "    </tr>\n",
       "  </thead>\n",
       "  <tbody>\n",
       "  </tbody>\n",
       "</table>\n",
       "</div>"
      ],
      "text/plain": [
       "Empty DataFrame\n",
       "Columns: [LinkedIn, Indeed, SimplyHired, Monster, LinkedIn %, SimplyHired %, Indeed %, Monster %, avg_percent, gd_percent]\n",
       "Index: []"
      ]
     },
     "execution_count": 24,
     "metadata": {},
     "output_type": "execute_result"
    }
   ],
   "source": [
    "df_gd = pd.merge(\n",
    "    df, \n",
    "    pd.DataFrame(\n",
    "        series_gd, \n",
    "        columns=['gd_percent']), \n",
    "    right_index=True, \n",
    "    left_index=True, \n",
    "    how=\"inner\"\n",
    ")\n",
    "\n",
    "# df_gd = df_gd[\"\"]\n",
    "# df_gd.columns = \n",
    "df_gd"
   ]
  },
  {
   "cell_type": "code",
   "execution_count": 25,
   "metadata": {
    "_uuid": "84e56502eaaea4dd6d62cba8df0320475156ca37"
   },
   "outputs": [
    {
     "data": {
      "application/vnd.plotly.v1+json": {
       "data": [
        {
         "name": "Early 2017 Glassdoor",
         "type": "bar",
         "uid": "2c071724-d2eb-11e8-bffc-52540069414d",
         "x": [],
         "y": []
        },
        {
         "name": "Oct. 2018 Averaged",
         "type": "bar",
         "uid": "2c071725-d2eb-11e8-bffc-52540069414d",
         "x": [],
         "y": []
        }
       ],
       "layout": {
        "barmode": "group",
        "title": "Technology Skills 2017 Glassdoor Compared to 2018 Average",
        "xaxis": {
         "title": "Technology"
        },
        "yaxis": {
         "title": "% of Listings"
        }
       }
      },
      "text/html": [
       "<div id=\"6392bed0-0528-4feb-b8d1-3b8926372d66\" style=\"height: 525px; width: 100%;\" class=\"plotly-graph-div\"></div><script type=\"text/javascript\">require([\"plotly\"], function(Plotly) { window.PLOTLYENV=window.PLOTLYENV || {};window.PLOTLYENV.BASE_URL=\"https://plot.ly\";Plotly.newPlot(\"6392bed0-0528-4feb-b8d1-3b8926372d66\", [{\"name\": \"Early 2017 Glassdoor\", \"y\": [], \"type\": \"bar\", \"x\": [], \"uid\": \"2c071724-d2eb-11e8-bffc-52540069414d\"}, {\"name\": \"Oct. 2018 Averaged\", \"y\": [], \"type\": \"bar\", \"x\": [], \"uid\": \"2c071725-d2eb-11e8-bffc-52540069414d\"}], {\"title\": \"Technology Skills 2017 Glassdoor Compared to 2018 Average\", \"xaxis\": {\"title\": \"Technology\"}, \"yaxis\": {\"title\": \"% of Listings\"}, \"barmode\": \"group\"}, {\"showLink\": true, \"linkText\": \"Export to plot.ly\"})});</script>"
      ],
      "text/vnd.plotly.v1+html": [
       "<div id=\"6392bed0-0528-4feb-b8d1-3b8926372d66\" style=\"height: 525px; width: 100%;\" class=\"plotly-graph-div\"></div><script type=\"text/javascript\">require([\"plotly\"], function(Plotly) { window.PLOTLYENV=window.PLOTLYENV || {};window.PLOTLYENV.BASE_URL=\"https://plot.ly\";Plotly.newPlot(\"6392bed0-0528-4feb-b8d1-3b8926372d66\", [{\"name\": \"Early 2017 Glassdoor\", \"y\": [], \"type\": \"bar\", \"x\": [], \"uid\": \"2c071724-d2eb-11e8-bffc-52540069414d\"}, {\"name\": \"Oct. 2018 Averaged\", \"y\": [], \"type\": \"bar\", \"x\": [], \"uid\": \"2c071725-d2eb-11e8-bffc-52540069414d\"}], {\"title\": \"Technology Skills 2017 Glassdoor Compared to 2018 Average\", \"xaxis\": {\"title\": \"Technology\"}, \"yaxis\": {\"title\": \"% of Listings\"}, \"barmode\": \"group\"}, {\"showLink\": true, \"linkText\": \"Export to plot.ly\"})});</script>"
      ]
     },
     "metadata": {},
     "output_type": "display_data"
    }
   ],
   "source": [
    "avg = go.Bar(x=df_gd.index, y=df_gd['avg_percent'], name=\"Oct. 2018 Averaged\")\n",
    "gd = go.Bar(x=df_gd.index, y=df_gd['gd_percent'], name=\"Early 2017 Glassdoor\")\n",
    "\n",
    "\n",
    "data = [gd, avg]\n",
    "\n",
    "layout = go.Layout(\n",
    "    barmode='group',\n",
    "    title=\"Technology Skills 2017 Glassdoor Compared to 2018 Average\",\n",
    "    xaxis={'title': 'Technology'},\n",
    "    yaxis={'title': '% of Listings'},\n",
    ")\n",
    "\n",
    "fig = go.Figure(data=data, layout=layout)\n",
    "py.iplot(fig)"
   ]
  },
  {
   "cell_type": "markdown",
   "metadata": {
    "_uuid": "8169e7877e6e3a83faf2cbd595230b17359032bf"
   },
   "source": [
    "# Part 2: General Data Science Skills\n",
    "Let's look at general data science skills next."
   ]
  },
  {
   "cell_type": "code",
   "execution_count": 26,
   "metadata": {
    "_uuid": "dd8463c434c0b1e0afd18bf598e946240a4e94fc"
   },
   "outputs": [
    {
     "ename": "FileNotFoundError",
     "evalue": "File b'../input/data-scientist-general-skills-2018-revised/ds_general_skills_revised.csv' does not exist",
     "output_type": "error",
     "traceback": [
      "\u001b[0;31m---------------------------------------------------------------------------\u001b[0m",
      "\u001b[0;31mFileNotFoundError\u001b[0m                         Traceback (most recent call last)",
      "\u001b[0;32m<ipython-input-26-ecc21f0f2ff4>\u001b[0m in \u001b[0;36m<module>\u001b[0;34m()\u001b[0m\n\u001b[1;32m      3\u001b[0m     \u001b[0mnrows\u001b[0m\u001b[0;34m=\u001b[0m\u001b[0;36m15\u001b[0m\u001b[0;34m,\u001b[0m\u001b[0;34m\u001b[0m\u001b[0m\n\u001b[1;32m      4\u001b[0m     \u001b[0mthousands\u001b[0m\u001b[0;34m=\u001b[0m\u001b[0;34m','\u001b[0m\u001b[0;34m,\u001b[0m\u001b[0;34m\u001b[0m\u001b[0m\n\u001b[0;32m----> 5\u001b[0;31m     \u001b[0mindex_col\u001b[0m\u001b[0;34m=\u001b[0m\u001b[0;36m0\u001b[0m\u001b[0;34m,\u001b[0m\u001b[0;34m\u001b[0m\u001b[0m\n\u001b[0m\u001b[1;32m      6\u001b[0m     )\n\u001b[1;32m      7\u001b[0m \u001b[0mdf_skills\u001b[0m\u001b[0;34m\u001b[0m\u001b[0m\n",
      "\u001b[0;32m~/.local/lib/python3.5/site-packages/pandas/io/parsers.py\u001b[0m in \u001b[0;36mparser_f\u001b[0;34m(filepath_or_buffer, sep, delimiter, header, names, index_col, usecols, squeeze, prefix, mangle_dupe_cols, dtype, engine, converters, true_values, false_values, skipinitialspace, skiprows, nrows, na_values, keep_default_na, na_filter, verbose, skip_blank_lines, parse_dates, infer_datetime_format, keep_date_col, date_parser, dayfirst, iterator, chunksize, compression, thousands, decimal, lineterminator, quotechar, quoting, escapechar, comment, encoding, dialect, tupleize_cols, error_bad_lines, warn_bad_lines, skipfooter, doublequote, delim_whitespace, low_memory, memory_map, float_precision)\u001b[0m\n\u001b[1;32m    676\u001b[0m                     skip_blank_lines=skip_blank_lines)\n\u001b[1;32m    677\u001b[0m \u001b[0;34m\u001b[0m\u001b[0m\n\u001b[0;32m--> 678\u001b[0;31m         \u001b[0;32mreturn\u001b[0m \u001b[0m_read\u001b[0m\u001b[0;34m(\u001b[0m\u001b[0mfilepath_or_buffer\u001b[0m\u001b[0;34m,\u001b[0m \u001b[0mkwds\u001b[0m\u001b[0;34m)\u001b[0m\u001b[0;34m\u001b[0m\u001b[0m\n\u001b[0m\u001b[1;32m    679\u001b[0m \u001b[0;34m\u001b[0m\u001b[0m\n\u001b[1;32m    680\u001b[0m     \u001b[0mparser_f\u001b[0m\u001b[0;34m.\u001b[0m\u001b[0m__name__\u001b[0m \u001b[0;34m=\u001b[0m \u001b[0mname\u001b[0m\u001b[0;34m\u001b[0m\u001b[0m\n",
      "\u001b[0;32m~/.local/lib/python3.5/site-packages/pandas/io/parsers.py\u001b[0m in \u001b[0;36m_read\u001b[0;34m(filepath_or_buffer, kwds)\u001b[0m\n\u001b[1;32m    438\u001b[0m \u001b[0;34m\u001b[0m\u001b[0m\n\u001b[1;32m    439\u001b[0m     \u001b[0;31m# Create the parser.\u001b[0m\u001b[0;34m\u001b[0m\u001b[0;34m\u001b[0m\u001b[0m\n\u001b[0;32m--> 440\u001b[0;31m     \u001b[0mparser\u001b[0m \u001b[0;34m=\u001b[0m \u001b[0mTextFileReader\u001b[0m\u001b[0;34m(\u001b[0m\u001b[0mfilepath_or_buffer\u001b[0m\u001b[0;34m,\u001b[0m \u001b[0;34m**\u001b[0m\u001b[0mkwds\u001b[0m\u001b[0;34m)\u001b[0m\u001b[0;34m\u001b[0m\u001b[0m\n\u001b[0m\u001b[1;32m    441\u001b[0m \u001b[0;34m\u001b[0m\u001b[0m\n\u001b[1;32m    442\u001b[0m     \u001b[0;32mif\u001b[0m \u001b[0mchunksize\u001b[0m \u001b[0;32mor\u001b[0m \u001b[0miterator\u001b[0m\u001b[0;34m:\u001b[0m\u001b[0;34m\u001b[0m\u001b[0m\n",
      "\u001b[0;32m~/.local/lib/python3.5/site-packages/pandas/io/parsers.py\u001b[0m in \u001b[0;36m__init__\u001b[0;34m(self, f, engine, **kwds)\u001b[0m\n\u001b[1;32m    785\u001b[0m             \u001b[0mself\u001b[0m\u001b[0;34m.\u001b[0m\u001b[0moptions\u001b[0m\u001b[0;34m[\u001b[0m\u001b[0;34m'has_index_names'\u001b[0m\u001b[0;34m]\u001b[0m \u001b[0;34m=\u001b[0m \u001b[0mkwds\u001b[0m\u001b[0;34m[\u001b[0m\u001b[0;34m'has_index_names'\u001b[0m\u001b[0;34m]\u001b[0m\u001b[0;34m\u001b[0m\u001b[0m\n\u001b[1;32m    786\u001b[0m \u001b[0;34m\u001b[0m\u001b[0m\n\u001b[0;32m--> 787\u001b[0;31m         \u001b[0mself\u001b[0m\u001b[0;34m.\u001b[0m\u001b[0m_make_engine\u001b[0m\u001b[0;34m(\u001b[0m\u001b[0mself\u001b[0m\u001b[0;34m.\u001b[0m\u001b[0mengine\u001b[0m\u001b[0;34m)\u001b[0m\u001b[0;34m\u001b[0m\u001b[0m\n\u001b[0m\u001b[1;32m    788\u001b[0m \u001b[0;34m\u001b[0m\u001b[0m\n\u001b[1;32m    789\u001b[0m     \u001b[0;32mdef\u001b[0m \u001b[0mclose\u001b[0m\u001b[0;34m(\u001b[0m\u001b[0mself\u001b[0m\u001b[0;34m)\u001b[0m\u001b[0;34m:\u001b[0m\u001b[0;34m\u001b[0m\u001b[0m\n",
      "\u001b[0;32m~/.local/lib/python3.5/site-packages/pandas/io/parsers.py\u001b[0m in \u001b[0;36m_make_engine\u001b[0;34m(self, engine)\u001b[0m\n\u001b[1;32m   1012\u001b[0m     \u001b[0;32mdef\u001b[0m \u001b[0m_make_engine\u001b[0m\u001b[0;34m(\u001b[0m\u001b[0mself\u001b[0m\u001b[0;34m,\u001b[0m \u001b[0mengine\u001b[0m\u001b[0;34m=\u001b[0m\u001b[0;34m'c'\u001b[0m\u001b[0;34m)\u001b[0m\u001b[0;34m:\u001b[0m\u001b[0;34m\u001b[0m\u001b[0m\n\u001b[1;32m   1013\u001b[0m         \u001b[0;32mif\u001b[0m \u001b[0mengine\u001b[0m \u001b[0;34m==\u001b[0m \u001b[0;34m'c'\u001b[0m\u001b[0;34m:\u001b[0m\u001b[0;34m\u001b[0m\u001b[0m\n\u001b[0;32m-> 1014\u001b[0;31m             \u001b[0mself\u001b[0m\u001b[0;34m.\u001b[0m\u001b[0m_engine\u001b[0m \u001b[0;34m=\u001b[0m \u001b[0mCParserWrapper\u001b[0m\u001b[0;34m(\u001b[0m\u001b[0mself\u001b[0m\u001b[0;34m.\u001b[0m\u001b[0mf\u001b[0m\u001b[0;34m,\u001b[0m \u001b[0;34m**\u001b[0m\u001b[0mself\u001b[0m\u001b[0;34m.\u001b[0m\u001b[0moptions\u001b[0m\u001b[0;34m)\u001b[0m\u001b[0;34m\u001b[0m\u001b[0m\n\u001b[0m\u001b[1;32m   1015\u001b[0m         \u001b[0;32melse\u001b[0m\u001b[0;34m:\u001b[0m\u001b[0;34m\u001b[0m\u001b[0m\n\u001b[1;32m   1016\u001b[0m             \u001b[0;32mif\u001b[0m \u001b[0mengine\u001b[0m \u001b[0;34m==\u001b[0m \u001b[0;34m'python'\u001b[0m\u001b[0;34m:\u001b[0m\u001b[0;34m\u001b[0m\u001b[0m\n",
      "\u001b[0;32m~/.local/lib/python3.5/site-packages/pandas/io/parsers.py\u001b[0m in \u001b[0;36m__init__\u001b[0;34m(self, src, **kwds)\u001b[0m\n\u001b[1;32m   1706\u001b[0m         \u001b[0mkwds\u001b[0m\u001b[0;34m[\u001b[0m\u001b[0;34m'usecols'\u001b[0m\u001b[0;34m]\u001b[0m \u001b[0;34m=\u001b[0m \u001b[0mself\u001b[0m\u001b[0;34m.\u001b[0m\u001b[0musecols\u001b[0m\u001b[0;34m\u001b[0m\u001b[0m\n\u001b[1;32m   1707\u001b[0m \u001b[0;34m\u001b[0m\u001b[0m\n\u001b[0;32m-> 1708\u001b[0;31m         \u001b[0mself\u001b[0m\u001b[0;34m.\u001b[0m\u001b[0m_reader\u001b[0m \u001b[0;34m=\u001b[0m \u001b[0mparsers\u001b[0m\u001b[0;34m.\u001b[0m\u001b[0mTextReader\u001b[0m\u001b[0;34m(\u001b[0m\u001b[0msrc\u001b[0m\u001b[0;34m,\u001b[0m \u001b[0;34m**\u001b[0m\u001b[0mkwds\u001b[0m\u001b[0;34m)\u001b[0m\u001b[0;34m\u001b[0m\u001b[0m\n\u001b[0m\u001b[1;32m   1709\u001b[0m \u001b[0;34m\u001b[0m\u001b[0m\n\u001b[1;32m   1710\u001b[0m         \u001b[0mpassed_names\u001b[0m \u001b[0;34m=\u001b[0m \u001b[0mself\u001b[0m\u001b[0;34m.\u001b[0m\u001b[0mnames\u001b[0m \u001b[0;32mis\u001b[0m \u001b[0;32mNone\u001b[0m\u001b[0;34m\u001b[0m\u001b[0m\n",
      "\u001b[0;32mpandas/_libs/parsers.pyx\u001b[0m in \u001b[0;36mpandas._libs.parsers.TextReader.__cinit__\u001b[0;34m()\u001b[0m\n",
      "\u001b[0;32mpandas/_libs/parsers.pyx\u001b[0m in \u001b[0;36mpandas._libs.parsers.TextReader._setup_parser_source\u001b[0;34m()\u001b[0m\n",
      "\u001b[0;31mFileNotFoundError\u001b[0m: File b'../input/data-scientist-general-skills-2018-revised/ds_general_skills_revised.csv' does not exist"
     ]
    }
   ],
   "source": [
    "df_skills = pd.read_csv(\n",
    "    '../input/data-scientist-general-skills-2018-revised/ds_general_skills_revised.csv',\n",
    "    nrows=15,\n",
    "    thousands=',',\n",
    "    index_col=0,  \n",
    "    )\n",
    "df_skills\n",
    "\n",
    "# this dataset was updated with \"data engineering included 10/15/18\""
   ]
  },
  {
   "cell_type": "markdown",
   "metadata": {
    "_uuid": "d705ff6adc28855f7c972bbc5922212ff04f26d5"
   },
   "source": [
    "All terms were searched with *\"data scientist\"* again. The skills are tricky because there is some overlap. \n",
    "\n",
    "I combined *AI* and *artificial intelligence* because one is the abbreviation of the other. I did the same for *NLP* and *natural language processing*. I combined these terms be adding the totals together and subtracting the number of listings that had both terms in them."
   ]
  },
  {
   "cell_type": "markdown",
   "metadata": {
    "_uuid": "baec9fffc03637dc02096e02d46e110c8a87eacd"
   },
   "source": [
    "Let's rename the composite indices."
   ]
  },
  {
   "cell_type": "code",
   "execution_count": null,
   "metadata": {
    "_uuid": "408999de644771e2db79c12d7dc3e1ae1ede4d05"
   },
   "outputs": [],
   "source": [
    "df_skills.rename(index={'AI composite': 'AI', 'NLP composite': 'NLP'}, inplace = True)\n",
    "df_skills"
   ]
  },
  {
   "cell_type": "markdown",
   "metadata": {
    "_uuid": "d715c99bba5ff486d95189c65b057bec6c547ccf"
   },
   "source": [
    "# Scale and Aggregate \n",
    "Scale each column. For each column we'll use MinMaxScaler to subtract the minumum and divide by the original max - original min."
   ]
  },
  {
   "cell_type": "code",
   "execution_count": null,
   "metadata": {
    "_uuid": "7e5c933dcce2ec8202207414106017fe17c09962"
   },
   "outputs": [],
   "source": [
    "scale = MinMaxScaler()\n",
    "scaled_df = pd.DataFrame(\n",
    "    scale.fit_transform(df_skills), \n",
    "    columns = df_skills.columns,\n",
    "    index = df_skills.index)    "
   ]
  },
  {
   "cell_type": "code",
   "execution_count": null,
   "metadata": {
    "_uuid": "b7f6af5c50418d1ff292189aea8c8c2826c300e8"
   },
   "outputs": [],
   "source": [
    "scaled_df"
   ]
  },
  {
   "cell_type": "markdown",
   "metadata": {
    "_uuid": "fe1b9e3a8e1505b4c7ef01a20db43259c8a80b73"
   },
   "source": [
    "### Scaled Online Job Listings"
   ]
  },
  {
   "cell_type": "markdown",
   "metadata": {
    "_uuid": "8ede3b7668e4fd5bb86e3942793ad1c641a2705d"
   },
   "source": [
    "Let's make a combined score for the large sites by taking the mean of the LinkedIn, Indeed, and SimplyHired scores."
   ]
  },
  {
   "cell_type": "code",
   "execution_count": null,
   "metadata": {
    "_uuid": "baa1aea58b86a16029686d22706e73dc15339ffa"
   },
   "outputs": [],
   "source": [
    "scaled_df['big_sites'] = scaled_df[[\"LinkedIn\", \"Indeed\", \"SimplyHired\", \"Monster\"]].mean(axis = 1)\n",
    "scaled_df.sort_values(by = 'big_sites', ascending = False)"
   ]
  },
  {
   "cell_type": "markdown",
   "metadata": {
    "_uuid": "8540a79f02e1d1d438d2c9657ed1bbe2150cad2d"
   },
   "source": [
    "## Let's look at them by site\n"
   ]
  },
  {
   "cell_type": "code",
   "execution_count": null,
   "metadata": {
    "_uuid": "fb1690ccdd183f0266b00b2a82009a596720c819"
   },
   "outputs": [],
   "source": [
    "y_linkedin = scaled_df.iloc[:, 0]\n",
    "y_indeed = scaled_df.iloc[:, 1]\n",
    "y_simply = scaled_df.iloc[:, 2]\n",
    "y_monster = scaled_df.iloc[:, 3]\n",
    "\n",
    "y_linkedin"
   ]
  },
  {
   "cell_type": "code",
   "execution_count": null,
   "metadata": {
    "_uuid": "ee746062c4c5a569df351c28fb6359a3fb4b81ff"
   },
   "outputs": [],
   "source": [
    "indeed = go.Bar(x=scaled_df.index, y=y_indeed, name = \"Indeed\")\n",
    "simply = go.Bar(x=scaled_df.index, y=y_simply, name=\"SimplyHired\")\n",
    "linked = go.Bar(x=scaled_df.index, y=y_linkedin, name=\"LinkedIn\")\n",
    "monster = go.Bar(x=scaled_df.index, y=y_monster, name=\"Monster\")\n",
    "\n",
    "data = [linked, indeed, simply, monster]\n",
    "\n",
    "layout = go.Layout(\n",
    "    barmode='group',\n",
    "    title=\"Data Science Skills in Online Job Listings\",\n",
    "    xaxis={'title': 'Skills'},\n",
    "    yaxis={'title': \"Scaled Listings\", 'separatethousands': True,\n",
    "    }\n",
    ")\n",
    "\n",
    "fig = go.Figure(data=data, layout=layout)\n",
    "py.iplot(fig)"
   ]
  },
  {
   "cell_type": "markdown",
   "metadata": {
    "_uuid": "c9362466683bae61642b931d7f0f5e9e3970fa5c"
   },
   "source": [
    "Let's clean things up for publication"
   ]
  },
  {
   "cell_type": "code",
   "execution_count": null,
   "metadata": {
    "_uuid": "8ab7f2892c5d52ec3da183bcc023c5675e7dfc42"
   },
   "outputs": [],
   "source": [
    "p_s_df = scaled_df * 100\n",
    "p_s_df = p_s_df.round(2)\n",
    "p_s_df.columns = ['LinkedIn', 'Indeed', 'SimplyHired', 'Monster', 'Score']\n",
    "p_s_df = p_s_df.sort_values(by=['Score'], ascending = False)\n",
    "p_s_df"
   ]
  },
  {
   "cell_type": "markdown",
   "metadata": {
    "_uuid": "985e3cd49db389b3991a412c6f446728fcc71090"
   },
   "source": [
    "## Let's make a bar chart of the combined scores"
   ]
  },
  {
   "cell_type": "code",
   "execution_count": null,
   "metadata": {
    "_uuid": "ed464a41471fc84017b3c8eb061b97d11e89adce"
   },
   "outputs": [],
   "source": [
    "cmax=200\n",
    "cmin=50\n",
    "color_s = np.linspace(cmin, cmax, 14)\n",
    "\n",
    "data = [\n",
    "    go.Bar(\n",
    "        x=p_s_df.index,          \n",
    "        y=p_s_df['Score'],\n",
    "        marker=dict(\n",
    "            colorscale='Jet',\n",
    "            #cauto=True,\n",
    "            color=color_s,\n",
    "        ),\n",
    "        # text=p_s_df['Score'],\n",
    "        # textposition='outside',\n",
    "        # textfont=dict(size=10)\n",
    "    )\n",
    "]\n",
    "\n",
    "layout = {\n",
    "    'title': 'General Skills in Data Scientist Job Listings',\n",
    "    'xaxis': {'tickmode': 'linear'},\n",
    "    'yaxis': {'title': \"Score\"}\n",
    "}\n",
    "\n",
    "fig = go.Figure(data=data, layout=layout)\n",
    "py.iplot(fig)"
   ]
  },
  {
   "cell_type": "markdown",
   "metadata": {
    "_uuid": "0cf2baad7d742b0a8ff93cd9f66bd50a11b60ff4"
   },
   "source": [
    "## Let's look at these general skills by % of occurrence, too."
   ]
  },
  {
   "cell_type": "code",
   "execution_count": null,
   "metadata": {
    "_uuid": "74e9932a33f42a2c78bdb4b7c0e24ae6c52d6f8d"
   },
   "outputs": [],
   "source": [
    "total_ds = {\n",
    "    'LinkedIn': 8610,\n",
    "    'Indeed': 5138,\n",
    "    'SimplyHired': 3829,\n",
    "    'Monster': 3746,\n",
    "}"
   ]
  },
  {
   "cell_type": "code",
   "execution_count": null,
   "metadata": {
    "_uuid": "36608d9e7d1592d09c04002a67c2ad13dc06c3ba"
   },
   "outputs": [],
   "source": [
    "for key, value in total_ds.items():\n",
    "    df_skills[key + \" %\"] = df_skills[key] / value * 100\n",
    "df_skills"
   ]
  },
  {
   "cell_type": "markdown",
   "metadata": {
    "_uuid": "3a455f8f45ce36943f94961973d1952f83d46a81"
   },
   "source": [
    "Let's make an average of those % columns."
   ]
  },
  {
   "cell_type": "code",
   "execution_count": null,
   "metadata": {
    "_uuid": "1248d1b372ab4656afabc55efd5411a54e2281b8"
   },
   "outputs": [],
   "source": [
    "df_skills['avg_percent'] = df_skills.iloc[:,-4:].mean(axis=1)\n",
    "df_skills"
   ]
  },
  {
   "cell_type": "code",
   "execution_count": null,
   "metadata": {
    "_uuid": "9f170997b9b79d46e50d3d7b563e7c7fc2fd0340"
   },
   "outputs": [],
   "source": [
    "df_skills = df_skills.sort_values(by=\"avg_percent\", ascending = False)\n",
    "df_skills"
   ]
  },
  {
   "cell_type": "markdown",
   "metadata": {
    "_uuid": "fd2fa28eb8b091210db950fa9a611cb2493b531e"
   },
   "source": [
    "## Let's chart the full list."
   ]
  },
  {
   "cell_type": "code",
   "execution_count": null,
   "metadata": {
    "_uuid": "33322b498eec4adf7eb8a9cf1446d8c6e523d52b"
   },
   "outputs": [],
   "source": [
    "cmax=200\n",
    "cmin=50\n",
    "color_s = np.linspace(cmin, cmax, 16)\n",
    "\n",
    "data = [\n",
    "    go.Bar(\n",
    "        x=df_skills.index,          \n",
    "        y=df_skills['avg_percent'],\n",
    "        marker=dict(\n",
    "            colorscale='Jet',\n",
    "            color=color_s,\n",
    "        ),\n",
    "    )\n",
    "]\n",
    "\n",
    "layout = dict(\n",
    "    title=\"General Skills in Data Scientist Job Listings\",\n",
    "    yaxis=dict(title=\"Average % of Listings\",)\n",
    ")\n",
    "\n",
    "fig = go.Figure(data=data, layout=layout)\n",
    "py.iplot(fig)"
   ]
  },
  {
   "cell_type": "markdown",
   "metadata": {
    "_uuid": "2c45fe36ffce483eb36a83dbe9810771b7576c61"
   },
   "source": [
    "# A few summary stats"
   ]
  },
  {
   "cell_type": "code",
   "execution_count": null,
   "metadata": {
    "_uuid": "834cd01a11c15d75f6ec5504f68ae50eb3ef8906"
   },
   "outputs": [],
   "source": [
    "ds_results = pd.Series({\n",
    "    'LinkedIn': 8610,\n",
    "    'Indeed': 5138, \n",
    "    'SimplyHired': 3829,\n",
    "    'Monster': 3746,\n",
    "    'AngelList': 658\n",
    "})\n",
    "ds_results"
   ]
  },
  {
   "cell_type": "code",
   "execution_count": null,
   "metadata": {
    "_uuid": "033b85b1b3f65abcfbd905a6e93aa9ae706125d3"
   },
   "outputs": [],
   "source": [
    "cmax=200\n",
    "cmin=50\n",
    "color_s = np.linspace(cmin, cmax, 5)\n",
    "\n",
    "data = [\n",
    "    go.Bar(\n",
    "        x=ds_results.index,          \n",
    "        y=ds_results.values,\n",
    "        marker=dict(\n",
    "            colorscale='Jet',\n",
    "            #cauto=True,\n",
    "            color=color_s,\n",
    "        ),\n",
    "        # text=p_s_df['Score'],\n",
    "        # textposition='outside',\n",
    "        # textfont=dict(size=10)\n",
    "    )\n",
    "]\n",
    "\n",
    "layout = {\n",
    "    'title': \"Data Scientist Job Listings\",\n",
    "    'xaxis': {'title': 'Website'},\n",
    "    'yaxis': {'title': 'Listings', 'separatethousands': True,}\n",
    "}\n",
    "\n",
    "fig = go.Figure(data=data, layout=layout)\n",
    "py.iplot(fig)\n",
    "\n"
   ]
  },
  {
   "cell_type": "markdown",
   "metadata": {
    "_uuid": "f8a4918892b7e26bc6abd91a0009fb640f75f65b"
   },
   "source": [
    "# Pleave upvote if you found this interesting or informative!"
   ]
  },
  {
   "cell_type": "markdown",
   "metadata": {
    "_uuid": "b03a4fcfc5f295f307ac757d8901530de0a81d5d"
   },
   "source": [
    "## Postscript: Configuring Plotly\n",
    "\n",
    "Plotly is super cool, but setup can be a bit tricky and there is a lot of old documentation mixed in with relevant documentation. Here's how to get up and running.\n",
    "\n",
    "Follow the instructions on [plotly's site](https://github.com/plotly/plotly.py).\n",
    "\n",
    "To install on Mac/Linux from the command line with support for plotly's magic, depending on what you already have installed see the plotly docs. Here's what I had to run with a relatively new conda install:\n",
    "\n",
    "conda install -c plotly plotly=3.3.0 <br>\n",
    "conda install -c conda-forge nodejs <br>\n",
    "conda install jupyterlab=0.34 \"ipywidgets>=7.2\" <br>\n",
    "export NODE_OPTIONS=--max-old-space-size=4096 <br>\n",
    "jupyter labextension install @jupyter-widgets/jupyterlab-manager@0.37 --no-build <br>\n",
    "jupyter labextension install plotlywidget@0.4.0 --no-build <br>\n",
    "jupyter labextension install @jupyterlab/plotly-extension@0.17.2 --no-build <br>\n",
    "jupyter lab build <br>\n",
    "unset NODE_OPTIONS <br>"
   ]
  },
  {
   "cell_type": "code",
   "execution_count": null,
   "metadata": {
    "_uuid": "803c68a206e88be928468c656111c3b118774100"
   },
   "outputs": [],
   "source": []
  },
  {
   "cell_type": "code",
   "execution_count": null,
   "metadata": {
    "_uuid": "e2af28c49248ea16479605c0b231a7197b7cd00b"
   },
   "outputs": [],
   "source": []
  }
 ],
 "metadata": {
  "kernelspec": {
   "display_name": "Python 3",
   "language": "python",
   "name": "python3"
  },
  "language_info": {
   "codemirror_mode": {
    "name": "ipython",
    "version": 3
   },
   "file_extension": ".py",
   "mimetype": "text/x-python",
   "name": "python",
   "nbconvert_exporter": "python",
   "pygments_lexer": "ipython3",
   "version": "3.5.2"
  }
 },
 "nbformat": 4,
 "nbformat_minor": 1
}
