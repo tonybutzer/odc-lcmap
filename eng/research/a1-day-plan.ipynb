{
 "cells": [
  {
   "cell_type": "markdown",
   "metadata": {},
   "source": [
    "# Day Plan experiments"
   ]
  },
  {
   "cell_type": "code",
   "execution_count": 1,
   "metadata": {},
   "outputs": [],
   "source": [
    "# read the csv of tasks line by line\n",
    "#### priority, task, minutes ####"
   ]
  },
  {
   "cell_type": "code",
   "execution_count": 2,
   "metadata": {},
   "outputs": [
    {
     "data": {
      "text/html": [
       "<script>requirejs.config({paths: { 'plotly': ['https://cdn.plot.ly/plotly-latest.min']},});if(!window.Plotly) {{require(['plotly'],function(plotly) {window.Plotly=plotly;});}}</script>"
      ],
      "text/vnd.plotly.v1+html": [
       "<script>requirejs.config({paths: { 'plotly': ['https://cdn.plot.ly/plotly-latest.min']},});if(!window.Plotly) {{require(['plotly'],function(plotly) {window.Plotly=plotly;});}}</script>"
      ]
     },
     "metadata": {},
     "output_type": "display_data"
    }
   ],
   "source": [
    "import pandas as pd\n",
    "import numpy as np\n",
    "import plotly.graph_objs as go\n",
    "import plotly.offline as py\n",
    "\n",
    "py.init_notebook_mode(connected=True)\n"
   ]
  },
  {
   "cell_type": "code",
   "execution_count": 3,
   "metadata": {},
   "outputs": [],
   "source": [
    "def _return_data_frame():\n",
    "    #print (\"hi\")\n",
    "    df = pd.read_csv(\"./today.csv\")\n",
    "    return df\n",
    "    "
   ]
  },
  {
   "cell_type": "code",
   "execution_count": 4,
   "metadata": {},
   "outputs": [
    {
     "name": "stdout",
     "output_type": "stream",
     "text": [
      "pyccd storage\n",
      "email\n",
      "document plan\n",
      "dict array\n",
      "l5 pyccd\n",
      "therm band l7\n"
     ]
    }
   ],
   "source": [
    "mydf = _return_data_frame()\n",
    "\n",
    "mydf\n",
    "for index, row in mydf.iterrows():\n",
    "    print(row['task'])\n"
   ]
  },
  {
   "cell_type": "code",
   "execution_count": 5,
   "metadata": {},
   "outputs": [],
   "source": [
    "ndf = mydf.astype(dtype={\"minutes\":\"int32\"})\n"
   ]
  },
  {
   "cell_type": "code",
   "execution_count": 6,
   "metadata": {},
   "outputs": [],
   "source": [
    "sdf = ndf.sort_values(['minutes'], ascending=False)"
   ]
  },
  {
   "cell_type": "code",
   "execution_count": 7,
   "metadata": {},
   "outputs": [
    {
     "data": {
      "text/html": [
       "<div>\n",
       "<style scoped>\n",
       "    .dataframe tbody tr th:only-of-type {\n",
       "        vertical-align: middle;\n",
       "    }\n",
       "\n",
       "    .dataframe tbody tr th {\n",
       "        vertical-align: top;\n",
       "    }\n",
       "\n",
       "    .dataframe thead th {\n",
       "        text-align: right;\n",
       "    }\n",
       "</style>\n",
       "<table border=\"1\" class=\"dataframe\">\n",
       "  <thead>\n",
       "    <tr style=\"text-align: right;\">\n",
       "      <th></th>\n",
       "      <th>0-priority</th>\n",
       "      <th>task</th>\n",
       "      <th>minutes</th>\n",
       "    </tr>\n",
       "  </thead>\n",
       "  <tbody>\n",
       "    <tr>\n",
       "      <th>5</th>\n",
       "      <td>a2</td>\n",
       "      <td>therm band l7</td>\n",
       "      <td>90</td>\n",
       "    </tr>\n",
       "    <tr>\n",
       "      <th>0</th>\n",
       "      <td>a3</td>\n",
       "      <td>pyccd storage</td>\n",
       "      <td>66</td>\n",
       "    </tr>\n",
       "    <tr>\n",
       "      <th>3</th>\n",
       "      <td>a0</td>\n",
       "      <td>dict array</td>\n",
       "      <td>60</td>\n",
       "    </tr>\n",
       "    <tr>\n",
       "      <th>4</th>\n",
       "      <td>a0</td>\n",
       "      <td>l5 pyccd</td>\n",
       "      <td>60</td>\n",
       "    </tr>\n",
       "    <tr>\n",
       "      <th>2</th>\n",
       "      <td>a1</td>\n",
       "      <td>document plan</td>\n",
       "      <td>33</td>\n",
       "    </tr>\n",
       "    <tr>\n",
       "      <th>1</th>\n",
       "      <td>a7</td>\n",
       "      <td>email</td>\n",
       "      <td>5</td>\n",
       "    </tr>\n",
       "  </tbody>\n",
       "</table>\n",
       "</div>"
      ],
      "text/plain": [
       "  0-priority           task  minutes\n",
       "5         a2  therm band l7       90\n",
       "0         a3  pyccd storage       66\n",
       "3         a0     dict array       60\n",
       "4         a0       l5 pyccd       60\n",
       "2         a1  document plan       33\n",
       "1         a7          email        5"
      ]
     },
     "execution_count": 7,
     "metadata": {},
     "output_type": "execute_result"
    }
   ],
   "source": [
    "sdf\n"
   ]
  },
  {
   "cell_type": "code",
   "execution_count": 8,
   "metadata": {},
   "outputs": [
    {
     "data": {
      "application/vnd.plotly.v1+json": {
       "data": [
        {
         "marker": {
          "color": [
           100,
           111.11111111111111,
           122.22222222222223,
           133.33333333333331,
           144.44444444444446,
           155.55555555555554,
           166.66666666666666,
           177.77777777777777,
           188.88888888888889,
           200
          ],
          "colorscale": "Jet"
         },
         "type": "bar",
         "uid": "1624bffc-d869-11e8-bffc-52540069414d",
         "x": [
          "therm band l7",
          "pyccd storage",
          "dict array",
          "l5 pyccd",
          "document plan",
          "email"
         ],
         "y": [
          90,
          66,
          60,
          60,
          33,
          5
         ]
        }
       ],
       "layout": {
        "title": "Day Burden at-a-glance",
        "xaxis": {
         "title": "task"
        },
        "yaxis": {
         "title": "minutes"
        }
       }
      },
      "text/html": [
       "<div id=\"0bb5ddf7-f052-4a0e-a5aa-f7f943d8a558\" style=\"height: 525px; width: 100%;\" class=\"plotly-graph-div\"></div><script type=\"text/javascript\">require([\"plotly\"], function(Plotly) { window.PLOTLYENV=window.PLOTLYENV || {};window.PLOTLYENV.BASE_URL=\"https://plot.ly\";Plotly.newPlot(\"0bb5ddf7-f052-4a0e-a5aa-f7f943d8a558\", [{\"uid\": \"1624bffc-d869-11e8-bffc-52540069414d\", \"x\": [\"therm band l7\", \"pyccd storage\", \"dict array\", \"l5 pyccd\", \"document plan\", \"email\"], \"marker\": {\"color\": [100.0, 111.11111111111111, 122.22222222222223, 133.33333333333331, 144.44444444444446, 155.55555555555554, 166.66666666666666, 177.77777777777777, 188.88888888888889, 200.0], \"colorscale\": \"Jet\"}, \"type\": \"bar\", \"y\": [90, 66, 60, 60, 33, 5]}], {\"yaxis\": {\"title\": \"minutes\"}, \"title\": \"Day Burden at-a-glance\", \"xaxis\": {\"title\": \"task\"}}, {\"linkText\": \"Export to plot.ly\", \"showLink\": false})});</script>"
      ],
      "text/vnd.plotly.v1+html": [
       "<div id=\"0bb5ddf7-f052-4a0e-a5aa-f7f943d8a558\" style=\"height: 525px; width: 100%;\" class=\"plotly-graph-div\"></div><script type=\"text/javascript\">require([\"plotly\"], function(Plotly) { window.PLOTLYENV=window.PLOTLYENV || {};window.PLOTLYENV.BASE_URL=\"https://plot.ly\";Plotly.newPlot(\"0bb5ddf7-f052-4a0e-a5aa-f7f943d8a558\", [{\"uid\": \"1624bffc-d869-11e8-bffc-52540069414d\", \"x\": [\"therm band l7\", \"pyccd storage\", \"dict array\", \"l5 pyccd\", \"document plan\", \"email\"], \"marker\": {\"color\": [100.0, 111.11111111111111, 122.22222222222223, 133.33333333333331, 144.44444444444446, 155.55555555555554, 166.66666666666666, 177.77777777777777, 188.88888888888889, 200.0], \"colorscale\": \"Jet\"}, \"type\": \"bar\", \"y\": [90, 66, 60, 60, 33, 5]}], {\"yaxis\": {\"title\": \"minutes\"}, \"title\": \"Day Burden at-a-glance\", \"xaxis\": {\"title\": \"task\"}}, {\"linkText\": \"Export to plot.ly\", \"showLink\": false})});</script>"
      ]
     },
     "metadata": {},
     "output_type": "display_data"
    }
   ],
   "source": [
    "cmax=200\n",
    "cmin=100\n",
    "color_s = np.linspace(cmin, cmax, 10)\n",
    "\n",
    "data = [\n",
    "    go.Bar(\n",
    "        x=sdf.task,          \n",
    "        y=sdf.minutes,\n",
    "        marker=dict(\n",
    "            colorscale='Jet',\n",
    "            color=color_s,\n",
    "        ),\n",
    "    )\n",
    "]\n",
    "\n",
    "layout = {\n",
    "    'title': 'Day Burden at-a-glance',\n",
    "    'xaxis': {'title': 'task'},\n",
    "    'yaxis': {'title': \"minutes\"}\n",
    "}\n",
    "\n",
    "fig = go.Figure(data=data, layout=layout)\n",
    "py.iplot(fig, show_link=False)"
   ]
  },
  {
   "cell_type": "code",
   "execution_count": 9,
   "metadata": {},
   "outputs": [],
   "source": [
    "a = ndf.sort_values('0-priority')"
   ]
  },
  {
   "cell_type": "code",
   "execution_count": 10,
   "metadata": {},
   "outputs": [
    {
     "data": {
      "text/html": [
       "<div>\n",
       "<style scoped>\n",
       "    .dataframe tbody tr th:only-of-type {\n",
       "        vertical-align: middle;\n",
       "    }\n",
       "\n",
       "    .dataframe tbody tr th {\n",
       "        vertical-align: top;\n",
       "    }\n",
       "\n",
       "    .dataframe thead th {\n",
       "        text-align: right;\n",
       "    }\n",
       "</style>\n",
       "<table border=\"1\" class=\"dataframe\">\n",
       "  <thead>\n",
       "    <tr style=\"text-align: right;\">\n",
       "      <th></th>\n",
       "      <th>0-priority</th>\n",
       "      <th>task</th>\n",
       "      <th>minutes</th>\n",
       "    </tr>\n",
       "  </thead>\n",
       "  <tbody>\n",
       "    <tr>\n",
       "      <th>3</th>\n",
       "      <td>a0</td>\n",
       "      <td>dict array</td>\n",
       "      <td>60</td>\n",
       "    </tr>\n",
       "    <tr>\n",
       "      <th>4</th>\n",
       "      <td>a0</td>\n",
       "      <td>l5 pyccd</td>\n",
       "      <td>60</td>\n",
       "    </tr>\n",
       "    <tr>\n",
       "      <th>2</th>\n",
       "      <td>a1</td>\n",
       "      <td>document plan</td>\n",
       "      <td>33</td>\n",
       "    </tr>\n",
       "    <tr>\n",
       "      <th>5</th>\n",
       "      <td>a2</td>\n",
       "      <td>therm band l7</td>\n",
       "      <td>90</td>\n",
       "    </tr>\n",
       "    <tr>\n",
       "      <th>0</th>\n",
       "      <td>a3</td>\n",
       "      <td>pyccd storage</td>\n",
       "      <td>66</td>\n",
       "    </tr>\n",
       "    <tr>\n",
       "      <th>1</th>\n",
       "      <td>a7</td>\n",
       "      <td>email</td>\n",
       "      <td>5</td>\n",
       "    </tr>\n",
       "  </tbody>\n",
       "</table>\n",
       "</div>"
      ],
      "text/plain": [
       "  0-priority           task  minutes\n",
       "3         a0     dict array       60\n",
       "4         a0       l5 pyccd       60\n",
       "2         a1  document plan       33\n",
       "5         a2  therm band l7       90\n",
       "0         a3  pyccd storage       66\n",
       "1         a7          email        5"
      ]
     },
     "execution_count": 10,
     "metadata": {},
     "output_type": "execute_result"
    }
   ],
   "source": [
    "a\n"
   ]
  },
  {
   "cell_type": "code",
   "execution_count": 11,
   "metadata": {},
   "outputs": [],
   "source": [
    "b = a.loc[:,['task', 'minutes']]\n"
   ]
  },
  {
   "cell_type": "code",
   "execution_count": 12,
   "metadata": {},
   "outputs": [
    {
     "name": "stdout",
     "output_type": "stream",
     "text": [
      "dict array 60\n",
      "l5 pyccd 60\n",
      "document plan 33\n",
      "therm band l7 90\n",
      "pyccd storage 66\n",
      "email 5\n"
     ]
    }
   ],
   "source": [
    "for index, row in b.iterrows():\n",
    "    print(row['task'], row['minutes'])"
   ]
  },
  {
   "cell_type": "code",
   "execution_count": 13,
   "metadata": {},
   "outputs": [],
   "source": [
    "import plotly.figure_factory as ff\n"
   ]
  },
  {
   "cell_type": "code",
   "execution_count": 14,
   "metadata": {},
   "outputs": [
    {
     "name": "stdout",
     "output_type": "stream",
     "text": [
      "10\n"
     ]
    },
    {
     "data": {
      "application/vnd.plotly.v1+json": {
       "data": [
        {
         "marker": {
          "color": "white"
         },
         "name": "",
         "showlegend": false,
         "type": "scatter",
         "uid": "1624bffd-d869-11e8-bffc-52540069414d",
         "x": [
          "2018-10-25 15:09:00",
          "2018-10-25 15:14:00"
         ],
         "y": [
          0,
          0
         ]
        },
        {
         "marker": {
          "color": "white"
         },
         "name": "",
         "showlegend": false,
         "type": "scatter",
         "uid": "1624bffe-d869-11e8-bffc-52540069414d",
         "x": [
          "2018-10-25 14:03:00",
          "2018-10-25 15:09:00"
         ],
         "y": [
          1,
          1
         ]
        },
        {
         "marker": {
          "color": "white"
         },
         "name": "",
         "showlegend": false,
         "type": "scatter",
         "uid": "1624bfff-d869-11e8-bffc-52540069414d",
         "x": [
          "2018-10-25 12:33:00",
          "2018-10-25 14:03:00"
         ],
         "y": [
          2,
          2
         ]
        },
        {
         "marker": {
          "color": "white"
         },
         "name": "",
         "showlegend": false,
         "type": "scatter",
         "uid": "1624c000-d869-11e8-bffc-52540069414d",
         "x": [
          "2018-10-25 12:00:00",
          "2018-10-25 12:33:00"
         ],
         "y": [
          3,
          3
         ]
        },
        {
         "marker": {
          "color": "white"
         },
         "name": "",
         "showlegend": false,
         "type": "scatter",
         "uid": "1624c001-d869-11e8-bffc-52540069414d",
         "x": [
          "2018-10-25 11:00:00",
          "2018-10-25 12:00:00"
         ],
         "y": [
          4,
          4
         ]
        },
        {
         "marker": {
          "color": "white"
         },
         "name": "",
         "showlegend": false,
         "type": "scatter",
         "uid": "1624c002-d869-11e8-bffc-52540069414d",
         "x": [
          "2018-10-25 10:00:00",
          "2018-10-25 11:00:00"
         ],
         "y": [
          5,
          5
         ]
        },
        {
         "hoverinfo": "none",
         "marker": {
          "color": "rgb(46, 137, 205)",
          "size": 1
         },
         "name": "One",
         "showlegend": true,
         "type": "scatter",
         "uid": "1624c003-d869-11e8-bffc-52540069414d",
         "x": [
          "2018-10-25 10:00:00",
          "2018-10-25 10:00:00"
         ],
         "y": [
          0,
          0
         ]
        },
        {
         "hoverinfo": "none",
         "marker": {
          "color": "rgb(198, 47, 105)",
          "size": 1
         },
         "name": "Three",
         "showlegend": true,
         "type": "scatter",
         "uid": "1624c004-d869-11e8-bffc-52540069414d",
         "x": [
          "2018-10-25 10:00:00",
          "2018-10-25 10:00:00"
         ],
         "y": [
          1,
          1
         ]
        },
        {
         "hoverinfo": "none",
         "marker": {
          "color": "rgb(114, 44, 121)",
          "size": 1
         },
         "name": "Two",
         "showlegend": true,
         "type": "scatter",
         "uid": "1624c005-d869-11e8-bffc-52540069414d",
         "x": [
          "2018-10-25 10:00:00",
          "2018-10-25 10:00:00"
         ],
         "y": [
          2,
          2
         ]
        },
        {
         "hoverinfo": "none",
         "marker": {
          "color": "rgb(58, 149, 136)",
          "size": 1
         },
         "name": "Zero",
         "showlegend": true,
         "type": "scatter",
         "uid": "1624c006-d869-11e8-bffc-52540069414d",
         "x": [
          "2018-10-25 10:00:00",
          "2018-10-25 10:00:00"
         ],
         "y": [
          3,
          3
         ]
        }
       ],
       "layout": {
        "height": 600,
        "hovermode": "closest",
        "shapes": [
         {
          "fillcolor": "rgb(114, 44, 121)",
          "line": {
           "width": 0
          },
          "opacity": 1,
          "type": "rect",
          "x0": "2018-10-25 15:09:00",
          "x1": "2018-10-25 15:14:00",
          "xref": "x",
          "y0": -0.3,
          "y1": 0.3,
          "yref": "y"
         },
         {
          "fillcolor": "rgb(46, 137, 205)",
          "line": {
           "width": 0
          },
          "opacity": 1,
          "type": "rect",
          "x0": "2018-10-25 14:03:00",
          "x1": "2018-10-25 15:09:00",
          "xref": "x",
          "y0": 0.7,
          "y1": 1.3,
          "yref": "y"
         },
         {
          "fillcolor": "rgb(58, 149, 136)",
          "line": {
           "width": 0
          },
          "opacity": 1,
          "type": "rect",
          "x0": "2018-10-25 12:33:00",
          "x1": "2018-10-25 14:03:00",
          "xref": "x",
          "y0": 1.7,
          "y1": 2.3,
          "yref": "y"
         },
         {
          "fillcolor": "rgb(198, 47, 105)",
          "line": {
           "width": 0
          },
          "opacity": 1,
          "type": "rect",
          "x0": "2018-10-25 12:00:00",
          "x1": "2018-10-25 12:33:00",
          "xref": "x",
          "y0": 2.7,
          "y1": 3.3,
          "yref": "y"
         },
         {
          "fillcolor": "rgb(114, 44, 121)",
          "line": {
           "width": 0
          },
          "opacity": 1,
          "type": "rect",
          "x0": "2018-10-25 11:00:00",
          "x1": "2018-10-25 12:00:00",
          "xref": "x",
          "y0": 3.7,
          "y1": 4.3,
          "yref": "y"
         },
         {
          "fillcolor": "rgb(46, 137, 205)",
          "line": {
           "width": 0
          },
          "opacity": 1,
          "type": "rect",
          "x0": "2018-10-25 10:00:00",
          "x1": "2018-10-25 11:00:00",
          "xref": "x",
          "y0": 4.7,
          "y1": 5.3,
          "yref": "y"
         }
        ],
        "showlegend": true,
        "title": "Demo Schedule",
        "width": 900,
        "xaxis": {
         "rangeselector": {
          "buttons": [
           {
            "count": 7,
            "label": "1w",
            "step": "day",
            "stepmode": "backward"
           },
           {
            "count": 1,
            "label": "1m",
            "step": "month",
            "stepmode": "backward"
           },
           {
            "count": 6,
            "label": "6m",
            "step": "month",
            "stepmode": "backward"
           },
           {
            "count": 1,
            "label": "YTD",
            "step": "year",
            "stepmode": "todate"
           },
           {
            "count": 1,
            "label": "1y",
            "step": "year",
            "stepmode": "backward"
           },
           {
            "step": "all"
           }
          ]
         },
         "showgrid": true,
         "type": "date",
         "zeroline": false
        },
        "yaxis": {
         "autorange": false,
         "range": [
          -1,
          7
         ],
         "showgrid": true,
         "ticktext": [
          "email",
          "pyccd storage",
          "therm band l7",
          "document plan",
          "l5 pyccd",
          "dict array"
         ],
         "tickvals": [
          0,
          1,
          2,
          3,
          4,
          5
         ],
         "zeroline": false
        }
       }
      },
      "text/html": [
       "<div id=\"26a9e710-4419-435a-b679-fa0b6be98af0\" style=\"height: 600px; width: 900px;\" class=\"plotly-graph-div\"></div><script type=\"text/javascript\">require([\"plotly\"], function(Plotly) { window.PLOTLYENV=window.PLOTLYENV || {};window.PLOTLYENV.BASE_URL=\"https://plot.ly\";Plotly.newPlot(\"26a9e710-4419-435a-b679-fa0b6be98af0\", [{\"type\": \"scatter\", \"x\": [\"2018-10-25 15:09:00\", \"2018-10-25 15:14:00\"], \"y\": [0, 0], \"name\": \"\", \"showlegend\": false, \"uid\": \"1624c007-d869-11e8-bffc-52540069414d\", \"marker\": {\"color\": \"white\"}}, {\"type\": \"scatter\", \"x\": [\"2018-10-25 14:03:00\", \"2018-10-25 15:09:00\"], \"y\": [1, 1], \"name\": \"\", \"showlegend\": false, \"uid\": \"1624c008-d869-11e8-bffc-52540069414d\", \"marker\": {\"color\": \"white\"}}, {\"type\": \"scatter\", \"x\": [\"2018-10-25 12:33:00\", \"2018-10-25 14:03:00\"], \"y\": [2, 2], \"name\": \"\", \"showlegend\": false, \"uid\": \"1624c009-d869-11e8-bffc-52540069414d\", \"marker\": {\"color\": \"white\"}}, {\"type\": \"scatter\", \"x\": [\"2018-10-25 12:00:00\", \"2018-10-25 12:33:00\"], \"y\": [3, 3], \"name\": \"\", \"showlegend\": false, \"uid\": \"1624c00a-d869-11e8-bffc-52540069414d\", \"marker\": {\"color\": \"white\"}}, {\"type\": \"scatter\", \"x\": [\"2018-10-25 11:00:00\", \"2018-10-25 12:00:00\"], \"y\": [4, 4], \"name\": \"\", \"showlegend\": false, \"uid\": \"1624c00b-d869-11e8-bffc-52540069414d\", \"marker\": {\"color\": \"white\"}}, {\"type\": \"scatter\", \"x\": [\"2018-10-25 10:00:00\", \"2018-10-25 11:00:00\"], \"y\": [5, 5], \"name\": \"\", \"showlegend\": false, \"uid\": \"1624c00c-d869-11e8-bffc-52540069414d\", \"marker\": {\"color\": \"white\"}}, {\"type\": \"scatter\", \"hoverinfo\": \"none\", \"x\": [\"2018-10-25 10:00:00\", \"2018-10-25 10:00:00\"], \"showlegend\": true, \"name\": \"One\", \"y\": [0, 0], \"uid\": \"1624c00d-d869-11e8-bffc-52540069414d\", \"marker\": {\"color\": \"rgb(46, 137, 205)\", \"size\": 1}}, {\"type\": \"scatter\", \"hoverinfo\": \"none\", \"x\": [\"2018-10-25 10:00:00\", \"2018-10-25 10:00:00\"], \"showlegend\": true, \"name\": \"Three\", \"y\": [1, 1], \"uid\": \"1624c00e-d869-11e8-bffc-52540069414d\", \"marker\": {\"color\": \"rgb(198, 47, 105)\", \"size\": 1}}, {\"type\": \"scatter\", \"hoverinfo\": \"none\", \"x\": [\"2018-10-25 10:00:00\", \"2018-10-25 10:00:00\"], \"showlegend\": true, \"name\": \"Two\", \"y\": [2, 2], \"uid\": \"1624c00f-d869-11e8-bffc-52540069414d\", \"marker\": {\"color\": \"rgb(114, 44, 121)\", \"size\": 1}}, {\"type\": \"scatter\", \"hoverinfo\": \"none\", \"x\": [\"2018-10-25 10:00:00\", \"2018-10-25 10:00:00\"], \"showlegend\": true, \"name\": \"Zero\", \"y\": [3, 3], \"uid\": \"1624c010-d869-11e8-bffc-52540069414d\", \"marker\": {\"color\": \"rgb(58, 149, 136)\", \"size\": 1}}], {\"yaxis\": {\"ticktext\": [\"email\", \"pyccd storage\", \"therm band l7\", \"document plan\", \"l5 pyccd\", \"dict array\"], \"zeroline\": false, \"range\": [-1, 7], \"showgrid\": true, \"tickvals\": [0, 1, 2, 3, 4, 5], \"autorange\": false}, \"title\": \"Demo Schedule\", \"shapes\": [{\"x0\": \"2018-10-25 15:09:00\", \"type\": \"rect\", \"y0\": -0.3, \"yref\": \"y\", \"y1\": 0.3, \"line\": {\"width\": 0}, \"xref\": \"x\", \"fillcolor\": \"rgb(114, 44, 121)\", \"x1\": \"2018-10-25 15:14:00\", \"opacity\": 1}, {\"x0\": \"2018-10-25 14:03:00\", \"type\": \"rect\", \"y0\": 0.7, \"yref\": \"y\", \"y1\": 1.3, \"line\": {\"width\": 0}, \"xref\": \"x\", \"fillcolor\": \"rgb(46, 137, 205)\", \"x1\": \"2018-10-25 15:09:00\", \"opacity\": 1}, {\"x0\": \"2018-10-25 12:33:00\", \"type\": \"rect\", \"y0\": 1.7, \"yref\": \"y\", \"y1\": 2.3, \"line\": {\"width\": 0}, \"xref\": \"x\", \"fillcolor\": \"rgb(58, 149, 136)\", \"x1\": \"2018-10-25 14:03:00\", \"opacity\": 1}, {\"x0\": \"2018-10-25 12:00:00\", \"type\": \"rect\", \"y0\": 2.7, \"yref\": \"y\", \"y1\": 3.3, \"line\": {\"width\": 0}, \"xref\": \"x\", \"fillcolor\": \"rgb(198, 47, 105)\", \"x1\": \"2018-10-25 12:33:00\", \"opacity\": 1}, {\"x0\": \"2018-10-25 11:00:00\", \"type\": \"rect\", \"y0\": 3.7, \"yref\": \"y\", \"y1\": 4.3, \"line\": {\"width\": 0}, \"xref\": \"x\", \"fillcolor\": \"rgb(114, 44, 121)\", \"x1\": \"2018-10-25 12:00:00\", \"opacity\": 1}, {\"x0\": \"2018-10-25 10:00:00\", \"type\": \"rect\", \"y0\": 4.7, \"yref\": \"y\", \"y1\": 5.3, \"line\": {\"width\": 0}, \"xref\": \"x\", \"fillcolor\": \"rgb(46, 137, 205)\", \"x1\": \"2018-10-25 11:00:00\", \"opacity\": 1}], \"height\": 600, \"showlegend\": true, \"width\": 900, \"hovermode\": \"closest\", \"xaxis\": {\"zeroline\": false, \"rangeselector\": {\"buttons\": [{\"stepmode\": \"backward\", \"count\": 7, \"label\": \"1w\", \"step\": \"day\"}, {\"stepmode\": \"backward\", \"count\": 1, \"label\": \"1m\", \"step\": \"month\"}, {\"stepmode\": \"backward\", \"count\": 6, \"label\": \"6m\", \"step\": \"month\"}, {\"stepmode\": \"todate\", \"count\": 1, \"label\": \"YTD\", \"step\": \"year\"}, {\"stepmode\": \"backward\", \"count\": 1, \"label\": \"1y\", \"step\": \"year\"}, {\"step\": \"all\"}]}, \"showgrid\": true, \"type\": \"date\"}}, {\"linkText\": \"Export to plot.ly\", \"showLink\": false})});</script>"
      ],
      "text/vnd.plotly.v1+html": [
       "<div id=\"26a9e710-4419-435a-b679-fa0b6be98af0\" style=\"height: 600px; width: 900px;\" class=\"plotly-graph-div\"></div><script type=\"text/javascript\">require([\"plotly\"], function(Plotly) { window.PLOTLYENV=window.PLOTLYENV || {};window.PLOTLYENV.BASE_URL=\"https://plot.ly\";Plotly.newPlot(\"26a9e710-4419-435a-b679-fa0b6be98af0\", [{\"type\": \"scatter\", \"x\": [\"2018-10-25 15:09:00\", \"2018-10-25 15:14:00\"], \"y\": [0, 0], \"name\": \"\", \"showlegend\": false, \"uid\": \"1624c007-d869-11e8-bffc-52540069414d\", \"marker\": {\"color\": \"white\"}}, {\"type\": \"scatter\", \"x\": [\"2018-10-25 14:03:00\", \"2018-10-25 15:09:00\"], \"y\": [1, 1], \"name\": \"\", \"showlegend\": false, \"uid\": \"1624c008-d869-11e8-bffc-52540069414d\", \"marker\": {\"color\": \"white\"}}, {\"type\": \"scatter\", \"x\": [\"2018-10-25 12:33:00\", \"2018-10-25 14:03:00\"], \"y\": [2, 2], \"name\": \"\", \"showlegend\": false, \"uid\": \"1624c009-d869-11e8-bffc-52540069414d\", \"marker\": {\"color\": \"white\"}}, {\"type\": \"scatter\", \"x\": [\"2018-10-25 12:00:00\", \"2018-10-25 12:33:00\"], \"y\": [3, 3], \"name\": \"\", \"showlegend\": false, \"uid\": \"1624c00a-d869-11e8-bffc-52540069414d\", \"marker\": {\"color\": \"white\"}}, {\"type\": \"scatter\", \"x\": [\"2018-10-25 11:00:00\", \"2018-10-25 12:00:00\"], \"y\": [4, 4], \"name\": \"\", \"showlegend\": false, \"uid\": \"1624c00b-d869-11e8-bffc-52540069414d\", \"marker\": {\"color\": \"white\"}}, {\"type\": \"scatter\", \"x\": [\"2018-10-25 10:00:00\", \"2018-10-25 11:00:00\"], \"y\": [5, 5], \"name\": \"\", \"showlegend\": false, \"uid\": \"1624c00c-d869-11e8-bffc-52540069414d\", \"marker\": {\"color\": \"white\"}}, {\"type\": \"scatter\", \"hoverinfo\": \"none\", \"x\": [\"2018-10-25 10:00:00\", \"2018-10-25 10:00:00\"], \"showlegend\": true, \"name\": \"One\", \"y\": [0, 0], \"uid\": \"1624c00d-d869-11e8-bffc-52540069414d\", \"marker\": {\"color\": \"rgb(46, 137, 205)\", \"size\": 1}}, {\"type\": \"scatter\", \"hoverinfo\": \"none\", \"x\": [\"2018-10-25 10:00:00\", \"2018-10-25 10:00:00\"], \"showlegend\": true, \"name\": \"Three\", \"y\": [1, 1], \"uid\": \"1624c00e-d869-11e8-bffc-52540069414d\", \"marker\": {\"color\": \"rgb(198, 47, 105)\", \"size\": 1}}, {\"type\": \"scatter\", \"hoverinfo\": \"none\", \"x\": [\"2018-10-25 10:00:00\", \"2018-10-25 10:00:00\"], \"showlegend\": true, \"name\": \"Two\", \"y\": [2, 2], \"uid\": \"1624c00f-d869-11e8-bffc-52540069414d\", \"marker\": {\"color\": \"rgb(114, 44, 121)\", \"size\": 1}}, {\"type\": \"scatter\", \"hoverinfo\": \"none\", \"x\": [\"2018-10-25 10:00:00\", \"2018-10-25 10:00:00\"], \"showlegend\": true, \"name\": \"Zero\", \"y\": [3, 3], \"uid\": \"1624c010-d869-11e8-bffc-52540069414d\", \"marker\": {\"color\": \"rgb(58, 149, 136)\", \"size\": 1}}], {\"yaxis\": {\"ticktext\": [\"email\", \"pyccd storage\", \"therm band l7\", \"document plan\", \"l5 pyccd\", \"dict array\"], \"zeroline\": false, \"range\": [-1, 7], \"showgrid\": true, \"tickvals\": [0, 1, 2, 3, 4, 5], \"autorange\": false}, \"title\": \"Demo Schedule\", \"shapes\": [{\"x0\": \"2018-10-25 15:09:00\", \"type\": \"rect\", \"y0\": -0.3, \"yref\": \"y\", \"y1\": 0.3, \"line\": {\"width\": 0}, \"xref\": \"x\", \"fillcolor\": \"rgb(114, 44, 121)\", \"x1\": \"2018-10-25 15:14:00\", \"opacity\": 1}, {\"x0\": \"2018-10-25 14:03:00\", \"type\": \"rect\", \"y0\": 0.7, \"yref\": \"y\", \"y1\": 1.3, \"line\": {\"width\": 0}, \"xref\": \"x\", \"fillcolor\": \"rgb(46, 137, 205)\", \"x1\": \"2018-10-25 15:09:00\", \"opacity\": 1}, {\"x0\": \"2018-10-25 12:33:00\", \"type\": \"rect\", \"y0\": 1.7, \"yref\": \"y\", \"y1\": 2.3, \"line\": {\"width\": 0}, \"xref\": \"x\", \"fillcolor\": \"rgb(58, 149, 136)\", \"x1\": \"2018-10-25 14:03:00\", \"opacity\": 1}, {\"x0\": \"2018-10-25 12:00:00\", \"type\": \"rect\", \"y0\": 2.7, \"yref\": \"y\", \"y1\": 3.3, \"line\": {\"width\": 0}, \"xref\": \"x\", \"fillcolor\": \"rgb(198, 47, 105)\", \"x1\": \"2018-10-25 12:33:00\", \"opacity\": 1}, {\"x0\": \"2018-10-25 11:00:00\", \"type\": \"rect\", \"y0\": 3.7, \"yref\": \"y\", \"y1\": 4.3, \"line\": {\"width\": 0}, \"xref\": \"x\", \"fillcolor\": \"rgb(114, 44, 121)\", \"x1\": \"2018-10-25 12:00:00\", \"opacity\": 1}, {\"x0\": \"2018-10-25 10:00:00\", \"type\": \"rect\", \"y0\": 4.7, \"yref\": \"y\", \"y1\": 5.3, \"line\": {\"width\": 0}, \"xref\": \"x\", \"fillcolor\": \"rgb(46, 137, 205)\", \"x1\": \"2018-10-25 11:00:00\", \"opacity\": 1}], \"height\": 600, \"showlegend\": true, \"width\": 900, \"hovermode\": \"closest\", \"xaxis\": {\"zeroline\": false, \"rangeselector\": {\"buttons\": [{\"stepmode\": \"backward\", \"count\": 7, \"label\": \"1w\", \"step\": \"day\"}, {\"stepmode\": \"backward\", \"count\": 1, \"label\": \"1m\", \"step\": \"month\"}, {\"stepmode\": \"backward\", \"count\": 6, \"label\": \"6m\", \"step\": \"month\"}, {\"stepmode\": \"todate\", \"count\": 1, \"label\": \"YTD\", \"step\": \"year\"}, {\"stepmode\": \"backward\", \"count\": 1, \"label\": \"1y\", \"step\": \"year\"}, {\"step\": \"all\"}]}, \"showgrid\": true, \"type\": \"date\"}}, {\"linkText\": \"Export to plot.ly\", \"showLink\": false})});</script>"
      ]
     },
     "metadata": {},
     "output_type": "display_data"
    }
   ],
   "source": [
    "import datetime\n",
    "\n",
    "task_list = []\n",
    "start_time = datetime.datetime.now().hour\n",
    "print(start_time)\n",
    "# start_time = 14\n",
    "running_time = datetime.datetime.combine(datetime.date.today(),datetime.time(start_time))\n",
    "cnt=0\n",
    "pri = {0:'Zero',1:'One', 2:'Two', 3:'Three'}\n",
    "for index, row in b.iterrows():\n",
    "    # print(row['task'], row['minutes'])\n",
    "    mint = int(row['minutes'])\n",
    "    task = row['task']\n",
    "    # print(mint)\n",
    "    save_time = running_time\n",
    "    end_time =  running_time + datetime.timedelta(minutes=mint)\n",
    "    running_time=end_time\n",
    "    # print(end_time)\n",
    "    cnt = cnt + 1\n",
    "    mycat = pri[cnt%4]\n",
    "    a_dict = {'Task':task, 'Start':save_time, 'Finish':end_time, 'Resource':mycat}\n",
    "    \n",
    "    task_list.append(a_dict)\n",
    "    \n",
    "\n",
    "#print(task_list)\n",
    "df = []\n",
    "for a in reversed(task_list):\n",
    "    df.append(a)\n",
    "\n",
    "colors = dict(One = 'rgb(46, 137, 205)',\n",
    "              Two = 'rgb(114, 44, 121)',\n",
    "              Three = 'rgb(198, 47, 105)',\n",
    "              Zero = 'rgb(58, 149, 136)',\n",
    "              ODC = 'rgb(107, 127, 135)')\n",
    "\n",
    "fig = ff.create_gantt(df, colors=colors, index_col='Resource', title='Demo Schedule',\n",
    "                      show_colorbar=True, bar_width=0.3, showgrid_x=True, showgrid_y=True)\n",
    "py.iplot(fig, show_link=False)\n"
   ]
  },
  {
   "cell_type": "code",
   "execution_count": 15,
   "metadata": {},
   "outputs": [
    {
     "data": {
      "text/html": [
       "<div>\n",
       "<style scoped>\n",
       "    .dataframe tbody tr th:only-of-type {\n",
       "        vertical-align: middle;\n",
       "    }\n",
       "\n",
       "    .dataframe tbody tr th {\n",
       "        vertical-align: top;\n",
       "    }\n",
       "\n",
       "    .dataframe thead th {\n",
       "        text-align: right;\n",
       "    }\n",
       "</style>\n",
       "<table border=\"1\" class=\"dataframe\">\n",
       "  <thead>\n",
       "    <tr style=\"text-align: right;\">\n",
       "      <th></th>\n",
       "      <th>task</th>\n",
       "      <th>minutes</th>\n",
       "    </tr>\n",
       "  </thead>\n",
       "  <tbody>\n",
       "    <tr>\n",
       "      <th>3</th>\n",
       "      <td>dict array</td>\n",
       "      <td>60</td>\n",
       "    </tr>\n",
       "    <tr>\n",
       "      <th>4</th>\n",
       "      <td>l5 pyccd</td>\n",
       "      <td>60</td>\n",
       "    </tr>\n",
       "    <tr>\n",
       "      <th>2</th>\n",
       "      <td>document plan</td>\n",
       "      <td>33</td>\n",
       "    </tr>\n",
       "    <tr>\n",
       "      <th>5</th>\n",
       "      <td>therm band l7</td>\n",
       "      <td>90</td>\n",
       "    </tr>\n",
       "    <tr>\n",
       "      <th>0</th>\n",
       "      <td>pyccd storage</td>\n",
       "      <td>66</td>\n",
       "    </tr>\n",
       "    <tr>\n",
       "      <th>1</th>\n",
       "      <td>email</td>\n",
       "      <td>5</td>\n",
       "    </tr>\n",
       "  </tbody>\n",
       "</table>\n",
       "</div>"
      ],
      "text/plain": [
       "            task  minutes\n",
       "3     dict array       60\n",
       "4       l5 pyccd       60\n",
       "2  document plan       33\n",
       "5  therm band l7       90\n",
       "0  pyccd storage       66\n",
       "1          email        5"
      ]
     },
     "execution_count": 15,
     "metadata": {},
     "output_type": "execute_result"
    }
   ],
   "source": [
    "b"
   ]
  },
  {
   "cell_type": "code",
   "execution_count": 16,
   "metadata": {},
   "outputs": [
    {
     "name": "stdout",
     "output_type": "stream",
     "text": [
      "Thu Oct 25 10:17:29 CDT 2018\r\n"
     ]
    }
   ],
   "source": [
    "!date"
   ]
  },
  {
   "cell_type": "code",
   "execution_count": null,
   "metadata": {},
   "outputs": [],
   "source": []
  }
 ],
 "metadata": {
  "kernelspec": {
   "display_name": "Python 3",
   "language": "python",
   "name": "python3"
  },
  "language_info": {
   "codemirror_mode": {
    "name": "ipython",
    "version": 3
   },
   "file_extension": ".py",
   "mimetype": "text/x-python",
   "name": "python",
   "nbconvert_exporter": "python",
   "pygments_lexer": "ipython3",
   "version": "3.5.2"
  }
 },
 "nbformat": 4,
 "nbformat_minor": 2
}
